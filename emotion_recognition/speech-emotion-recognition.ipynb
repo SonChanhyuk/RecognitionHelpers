{
 "cells": [
  {
   "cell_type": "markdown",
   "id": "18b474d6",
   "metadata": {
    "papermill": {
     "duration": 0.011289,
     "end_time": "2023-05-13T23:07:04.614549",
     "exception": false,
     "start_time": "2023-05-13T23:07:04.603260",
     "status": "completed"
    },
    "tags": []
   },
   "source": [
    "# Speech Emotion Recognition \n",
    "\n",
    "emotions: [happy, sad, neutral, fear, angry, disgust]\n",
    "\n",
    "Datasets:\n",
    "* Crowd-sourced Emotional Multimodal Actors Dataset (Crema-D)\n",
    "* Ryerson Audio-Visual Database of Emotional Speech and Song (Ravdess)\n",
    "* Surrey Audio-Visual Expressed Emotion (Savee)\n",
    "* Toronto Emotional Speech Set (Tessa)"
   ]
  },
  {
   "cell_type": "markdown",
   "id": "84241974",
   "metadata": {},
   "source": [
    "## 데이터셋 다운로드"
   ]
  },
  {
   "cell_type": "code",
   "execution_count": 1,
   "id": "58fa2ef4",
   "metadata": {},
   "outputs": [],
   "source": [
    "import opendatasets as od"
   ]
  },
  {
   "cell_type": "code",
   "execution_count": null,
   "id": "90792e28",
   "metadata": {},
   "outputs": [],
   "source": [
    "od.download(\n",
    "    \"https://www.kaggle.com/datasets/ejlok1/cremad\")"
   ]
  },
  {
   "cell_type": "code",
   "execution_count": null,
   "id": "835fd8f7",
   "metadata": {},
   "outputs": [],
   "source": [
    "od.download(\n",
    "    \"https://www.kaggle.com/datasets/uwrfkaggler/ravdess-emotional-speech-audio\")"
   ]
  },
  {
   "cell_type": "code",
   "execution_count": null,
   "id": "97a5fdf3",
   "metadata": {},
   "outputs": [],
   "source": [
    "od.download(\n",
    "    \"https://www.kaggle.com/datasets/ejlok1/surrey-audiovisual-expressed-emotion-savee\")"
   ]
  },
  {
   "cell_type": "code",
   "execution_count": null,
   "id": "7ff2a6e9",
   "metadata": {},
   "outputs": [],
   "source": [
    "od.download(\n",
    "    \"https://www.kaggle.com/datasets/ejlok1/toronto-emotional-speech-set-tess\")"
   ]
  },
  {
   "cell_type": "markdown",
   "id": "5aa81801",
   "metadata": {
    "papermill": {
     "duration": 0.009394,
     "end_time": "2023-05-13T23:07:04.633812",
     "exception": false,
     "start_time": "2023-05-13T23:07:04.624418",
     "status": "completed"
    },
    "tags": []
   },
   "source": [
    "## 파일목록을 DataFrame으로 (label 찾기)"
   ]
  },
  {
   "cell_type": "code",
   "execution_count": 3,
   "id": "8e02561b",
   "metadata": {
    "_cell_guid": "b1076dfc-b9ad-4769-8c92-a6c4dae69d19",
    "_uuid": "8f2839f25d086af736a60e9eeb907d3b93b6e0e5",
    "execution": {
     "iopub.execute_input": "2023-05-13T23:07:04.659591Z",
     "iopub.status.busy": "2023-05-13T23:07:04.658696Z",
     "iopub.status.idle": "2023-05-13T23:07:04.671508Z",
     "shell.execute_reply": "2023-05-13T23:07:04.670571Z"
    },
    "papermill": {
     "duration": 0.030333,
     "end_time": "2023-05-13T23:07:04.673903",
     "exception": false,
     "start_time": "2023-05-13T23:07:04.643570",
     "status": "completed"
    },
    "tags": []
   },
   "outputs": [],
   "source": [
    "import os\n",
    "import pandas as pd\n",
    "import numpy as np"
   ]
  },
  {
   "cell_type": "code",
   "execution_count": 21,
   "id": "a17d6617",
   "metadata": {
    "execution": {
     "iopub.execute_input": "2023-05-13T23:07:04.695167Z",
     "iopub.status.busy": "2023-05-13T23:07:04.694304Z",
     "iopub.status.idle": "2023-05-13T23:07:04.699500Z",
     "shell.execute_reply": "2023-05-13T23:07:04.698416Z"
    },
    "papermill": {
     "duration": 0.018083,
     "end_time": "2023-05-13T23:07:04.701721",
     "exception": false,
     "start_time": "2023-05-13T23:07:04.683638",
     "status": "completed"
    },
    "tags": []
   },
   "outputs": [],
   "source": [
    "RAVDESS = \"test/ravdess-emotional-speech-audio/audio_speech_actors_01-24/\"\n",
    "CREMA = \"test/cremad/AudioWAV/\"\n",
    "TESS = \"test/toronto-emotional-speech-set-tess/tess toronto emotional speech set data/TESS Toronto emotional speech set data/\"\n",
    "SAVEE = \"test/surrey-audiovisual-expressed-emotion-savee/ALL/\""
   ]
  },
  {
   "cell_type": "markdown",
   "id": "f189c175",
   "metadata": {
    "papermill": {
     "duration": 0.009581,
     "end_time": "2023-05-13T23:07:04.720866",
     "exception": false,
     "start_time": "2023-05-13T23:07:04.711285",
     "status": "completed"
    },
    "tags": []
   },
   "source": [
    "### 1. Ravdess Dataframe\n",
    "\n",
    "- 1440 files\n",
    "- 레이블 예시 03-01-**\"06\"**-01-02-01-12.wav."
   ]
  },
  {
   "cell_type": "code",
   "execution_count": 22,
   "id": "84bdbc1c",
   "metadata": {
    "execution": {
     "iopub.execute_input": "2023-05-13T23:07:04.742775Z",
     "iopub.status.busy": "2023-05-13T23:07:04.741762Z",
     "iopub.status.idle": "2023-05-13T23:07:05.125683Z",
     "shell.execute_reply": "2023-05-13T23:07:05.124674Z"
    },
    "papermill": {
     "duration": 0.398108,
     "end_time": "2023-05-13T23:07:05.129039",
     "exception": false,
     "start_time": "2023-05-13T23:07:04.730931",
     "status": "completed"
    },
    "tags": []
   },
   "outputs": [
    {
     "data": {
      "text/html": [
       "<div>\n",
       "<style scoped>\n",
       "    .dataframe tbody tr th:only-of-type {\n",
       "        vertical-align: middle;\n",
       "    }\n",
       "\n",
       "    .dataframe tbody tr th {\n",
       "        vertical-align: top;\n",
       "    }\n",
       "\n",
       "    .dataframe thead th {\n",
       "        text-align: right;\n",
       "    }\n",
       "</style>\n",
       "<table border=\"1\" class=\"dataframe\">\n",
       "  <thead>\n",
       "    <tr style=\"text-align: right;\">\n",
       "      <th></th>\n",
       "      <th>path</th>\n",
       "      <th>sex</th>\n",
       "      <th>emotion</th>\n",
       "    </tr>\n",
       "  </thead>\n",
       "  <tbody>\n",
       "    <tr>\n",
       "      <th>0</th>\n",
       "      <td>test/ravdess-emotional-speech-audio/audio_spee...</td>\n",
       "      <td>male</td>\n",
       "      <td>neutral</td>\n",
       "    </tr>\n",
       "    <tr>\n",
       "      <th>1</th>\n",
       "      <td>test/ravdess-emotional-speech-audio/audio_spee...</td>\n",
       "      <td>male</td>\n",
       "      <td>neutral</td>\n",
       "    </tr>\n",
       "    <tr>\n",
       "      <th>2</th>\n",
       "      <td>test/ravdess-emotional-speech-audio/audio_spee...</td>\n",
       "      <td>male</td>\n",
       "      <td>neutral</td>\n",
       "    </tr>\n",
       "    <tr>\n",
       "      <th>3</th>\n",
       "      <td>test/ravdess-emotional-speech-audio/audio_spee...</td>\n",
       "      <td>male</td>\n",
       "      <td>neutral</td>\n",
       "    </tr>\n",
       "    <tr>\n",
       "      <th>4</th>\n",
       "      <td>test/ravdess-emotional-speech-audio/audio_spee...</td>\n",
       "      <td>male</td>\n",
       "      <td>happy</td>\n",
       "    </tr>\n",
       "  </tbody>\n",
       "</table>\n",
       "</div>"
      ],
      "text/plain": [
       "                                                path   sex  emotion\n",
       "0  test/ravdess-emotional-speech-audio/audio_spee...  male  neutral\n",
       "1  test/ravdess-emotional-speech-audio/audio_spee...  male  neutral\n",
       "2  test/ravdess-emotional-speech-audio/audio_spee...  male  neutral\n",
       "3  test/ravdess-emotional-speech-audio/audio_spee...  male  neutral\n",
       "4  test/ravdess-emotional-speech-audio/audio_spee...  male    happy"
      ]
     },
     "execution_count": 22,
     "metadata": {},
     "output_type": "execute_result"
    }
   ],
   "source": [
    "ravdess_dir_lis = os.listdir(RAVDESS)\n",
    "path_list = []\n",
    "gender_list = []\n",
    "emotion_list = []\n",
    "\n",
    "emotion_dic = {\n",
    "    '01' : 'neutral',\n",
    "    '03' : 'happy',\n",
    "    '04' : 'sad',\n",
    "    '05' : 'angry',\n",
    "    '06' : 'fear',\n",
    "    '07' : 'disgust',\n",
    "}\n",
    "\n",
    "for directory in ravdess_dir_lis:\n",
    "    actor_files = os.listdir(os.path.join(RAVDESS, directory))\n",
    "    for audio_file in actor_files: \n",
    "        part = audio_file.split('.')[0]\n",
    "        key = part.split('-')[2]\n",
    "        if key in emotion_dic:\n",
    "            gender_code = int(part.split('-')[6])\n",
    "            path_list.append(f\"{RAVDESS}{directory}/{audio_file}\")\n",
    "            gender_list.append('female' if gender_code & 1 == 0 else 'male')\n",
    "            emotion_list.append(emotion_dic[key])\n",
    "            \n",
    "ravdess_df = pd.concat([\n",
    "    pd.DataFrame(path_list, columns=['path']),\n",
    "    pd.DataFrame(gender_list, columns=['sex']),\n",
    "    pd.DataFrame(emotion_list, columns=['emotion'])\n",
    "], axis=1)\n",
    "\n",
    "ravdess_df.head()"
   ]
  },
  {
   "cell_type": "markdown",
   "id": "c921518b",
   "metadata": {
    "papermill": {
     "duration": 0.00959,
     "end_time": "2023-05-13T23:07:05.148661",
     "exception": false,
     "start_time": "2023-05-13T23:07:05.139071",
     "status": "completed"
    },
    "tags": []
   },
   "source": [
    "### 2. Crema-D Dataframe\n",
    "\n",
    "- 7,442 files\n",
    "- 레이블 예시 1001_DFA_**\"ANG\"**_XX.wav."
   ]
  },
  {
   "cell_type": "code",
   "execution_count": 23,
   "id": "ee687a92",
   "metadata": {
    "execution": {
     "iopub.execute_input": "2023-05-13T23:07:05.170410Z",
     "iopub.status.busy": "2023-05-13T23:07:05.169509Z",
     "iopub.status.idle": "2023-05-13T23:07:05.501242Z",
     "shell.execute_reply": "2023-05-13T23:07:05.500209Z"
    },
    "papermill": {
     "duration": 0.345142,
     "end_time": "2023-05-13T23:07:05.503709",
     "exception": false,
     "start_time": "2023-05-13T23:07:05.158567",
     "status": "completed"
    },
    "tags": []
   },
   "outputs": [
    {
     "data": {
      "text/html": [
       "<div>\n",
       "<style scoped>\n",
       "    .dataframe tbody tr th:only-of-type {\n",
       "        vertical-align: middle;\n",
       "    }\n",
       "\n",
       "    .dataframe tbody tr th {\n",
       "        vertical-align: top;\n",
       "    }\n",
       "\n",
       "    .dataframe thead th {\n",
       "        text-align: right;\n",
       "    }\n",
       "</style>\n",
       "<table border=\"1\" class=\"dataframe\">\n",
       "  <thead>\n",
       "    <tr style=\"text-align: right;\">\n",
       "      <th></th>\n",
       "      <th>path</th>\n",
       "      <th>sex</th>\n",
       "      <th>emotion</th>\n",
       "    </tr>\n",
       "  </thead>\n",
       "  <tbody>\n",
       "    <tr>\n",
       "      <th>0</th>\n",
       "      <td>test/cremad/AudioWAV/1001_IEO_ANG_HI.wav</td>\n",
       "      <td>male</td>\n",
       "      <td>angry</td>\n",
       "    </tr>\n",
       "    <tr>\n",
       "      <th>1</th>\n",
       "      <td>test/cremad/AudioWAV/1001_IEO_DIS_HI.wav</td>\n",
       "      <td>male</td>\n",
       "      <td>disgust</td>\n",
       "    </tr>\n",
       "    <tr>\n",
       "      <th>2</th>\n",
       "      <td>test/cremad/AudioWAV/1001_IEO_FEA_HI.wav</td>\n",
       "      <td>male</td>\n",
       "      <td>fear</td>\n",
       "    </tr>\n",
       "    <tr>\n",
       "      <th>3</th>\n",
       "      <td>test/cremad/AudioWAV/1001_IEO_HAP_HI.wav</td>\n",
       "      <td>male</td>\n",
       "      <td>happy</td>\n",
       "    </tr>\n",
       "    <tr>\n",
       "      <th>4</th>\n",
       "      <td>test/cremad/AudioWAV/1001_IEO_SAD_HI.wav</td>\n",
       "      <td>male</td>\n",
       "      <td>sad</td>\n",
       "    </tr>\n",
       "  </tbody>\n",
       "</table>\n",
       "</div>"
      ],
      "text/plain": [
       "                                       path   sex  emotion\n",
       "0  test/cremad/AudioWAV/1001_IEO_ANG_HI.wav  male    angry\n",
       "1  test/cremad/AudioWAV/1001_IEO_DIS_HI.wav  male  disgust\n",
       "2  test/cremad/AudioWAV/1001_IEO_FEA_HI.wav  male     fear\n",
       "3  test/cremad/AudioWAV/1001_IEO_HAP_HI.wav  male    happy\n",
       "4  test/cremad/AudioWAV/1001_IEO_SAD_HI.wav  male      sad"
      ]
     },
     "execution_count": 23,
     "metadata": {},
     "output_type": "execute_result"
    }
   ],
   "source": [
    "crema_dir_list = os.listdir(CREMA)\n",
    "path_list = []\n",
    "gender_list = []\n",
    "emotion_list = []\n",
    "\n",
    "emotion_dic = {\n",
    "    'HAP' : 'happy',\n",
    "    'NEU' : 'neutral',\n",
    "    'SAD' : 'sad',\n",
    "    'ANG' : 'angry',\n",
    "    'FEA' : 'fear',\n",
    "    'DIS' : 'disgust',\n",
    "}\n",
    "\n",
    "female_id_list = [\n",
    "    '1002', '1003', '1004', '1006', '1007', '1008', '1009', '1010', '1012', '1013', '1018', \n",
    "    '1020', '1021', '1024', '1025', '1028', '1029', '1030', '1037', '1043', '1046', '1047', \n",
    "    '1049', '1052', '1053', '1054', '1055', '1056', '1058', '1060', '1061', '1063', '1072', \n",
    "    '1073', '1074', '1075', '1076', '1078', '1079', '1082', '1084', '1089', '1091',\n",
    "]\n",
    "\n",
    "for audio_file in crema_dir_list:\n",
    "    part = audio_file.split('_')\n",
    "    key = part[2]\n",
    "    if key in emotion_dic and part[3] == 'HI.wav':\n",
    "        path_list.append(f\"{CREMA}{audio_file}\")\n",
    "        gender_list.append('female' if part[0] in female_id_list else 'male')\n",
    "        emotion_list.append(emotion_dic[key])\n",
    "\n",
    "crema_df = pd.concat([\n",
    "    pd.DataFrame(path_list, columns=['path']),\n",
    "    pd.DataFrame(gender_list, columns=['sex']),\n",
    "    pd.DataFrame(emotion_list, columns=['emotion'])\n",
    "], axis=1)\n",
    "\n",
    "crema_df.head()"
   ]
  },
  {
   "cell_type": "markdown",
   "id": "07b4ab75",
   "metadata": {
    "papermill": {
     "duration": 0.010281,
     "end_time": "2023-05-13T23:07:05.524694",
     "exception": false,
     "start_time": "2023-05-13T23:07:05.514413",
     "status": "completed"
    },
    "tags": []
   },
   "source": [
    "### 3. Tess Dataframe\n",
    "\n",
    "- 2,800 files\n",
    "- 레이블 예시 OAF_base_**\"fear\"**.wav."
   ]
  },
  {
   "cell_type": "code",
   "execution_count": 24,
   "id": "fc69143e",
   "metadata": {
    "execution": {
     "iopub.execute_input": "2023-05-13T23:07:05.547057Z",
     "iopub.status.busy": "2023-05-13T23:07:05.546257Z",
     "iopub.status.idle": "2023-05-13T23:07:06.198054Z",
     "shell.execute_reply": "2023-05-13T23:07:06.196884Z"
    },
    "papermill": {
     "duration": 0.665575,
     "end_time": "2023-05-13T23:07:06.200415",
     "exception": false,
     "start_time": "2023-05-13T23:07:05.534840",
     "status": "completed"
    },
    "tags": []
   },
   "outputs": [
    {
     "data": {
      "text/html": [
       "<div>\n",
       "<style scoped>\n",
       "    .dataframe tbody tr th:only-of-type {\n",
       "        vertical-align: middle;\n",
       "    }\n",
       "\n",
       "    .dataframe tbody tr th {\n",
       "        vertical-align: top;\n",
       "    }\n",
       "\n",
       "    .dataframe thead th {\n",
       "        text-align: right;\n",
       "    }\n",
       "</style>\n",
       "<table border=\"1\" class=\"dataframe\">\n",
       "  <thead>\n",
       "    <tr style=\"text-align: right;\">\n",
       "      <th></th>\n",
       "      <th>path</th>\n",
       "      <th>sex</th>\n",
       "      <th>emotion</th>\n",
       "    </tr>\n",
       "  </thead>\n",
       "  <tbody>\n",
       "    <tr>\n",
       "      <th>0</th>\n",
       "      <td>test/toronto-emotional-speech-set-tess/tess to...</td>\n",
       "      <td>female</td>\n",
       "      <td>angry</td>\n",
       "    </tr>\n",
       "    <tr>\n",
       "      <th>1</th>\n",
       "      <td>test/toronto-emotional-speech-set-tess/tess to...</td>\n",
       "      <td>female</td>\n",
       "      <td>angry</td>\n",
       "    </tr>\n",
       "    <tr>\n",
       "      <th>2</th>\n",
       "      <td>test/toronto-emotional-speech-set-tess/tess to...</td>\n",
       "      <td>female</td>\n",
       "      <td>angry</td>\n",
       "    </tr>\n",
       "    <tr>\n",
       "      <th>3</th>\n",
       "      <td>test/toronto-emotional-speech-set-tess/tess to...</td>\n",
       "      <td>female</td>\n",
       "      <td>angry</td>\n",
       "    </tr>\n",
       "    <tr>\n",
       "      <th>4</th>\n",
       "      <td>test/toronto-emotional-speech-set-tess/tess to...</td>\n",
       "      <td>female</td>\n",
       "      <td>angry</td>\n",
       "    </tr>\n",
       "  </tbody>\n",
       "</table>\n",
       "</div>"
      ],
      "text/plain": [
       "                                                path     sex emotion\n",
       "0  test/toronto-emotional-speech-set-tess/tess to...  female   angry\n",
       "1  test/toronto-emotional-speech-set-tess/tess to...  female   angry\n",
       "2  test/toronto-emotional-speech-set-tess/tess to...  female   angry\n",
       "3  test/toronto-emotional-speech-set-tess/tess to...  female   angry\n",
       "4  test/toronto-emotional-speech-set-tess/tess to...  female   angry"
      ]
     },
     "execution_count": 24,
     "metadata": {},
     "output_type": "execute_result"
    }
   ],
   "source": [
    "tess_dir_list = os.listdir(TESS)\n",
    "path_list = []\n",
    "gender_list = []\n",
    "emotion_list = [] \n",
    "\n",
    "emotion_dic = {\n",
    "    'happy'   : 'happy',\n",
    "    'neutral' : 'neutral',\n",
    "    'sad'     : 'sad',\n",
    "    'Sad'     : 'sad',\n",
    "    'angry'   : 'angry',\n",
    "    'fear'    : 'fear',\n",
    "    'disgust'  : 'disgust',\n",
    "}\n",
    "\n",
    "for directory in tess_dir_list:\n",
    "    audio_files = os.listdir(os.path.join(TESS, directory))\n",
    "    for audio_file in audio_files:\n",
    "        part = audio_file.split('.')[0]\n",
    "        key = part.split('_')[2]\n",
    "        if key in emotion_dic:\n",
    "            path_list.append(f\"{TESS}{directory}/{audio_file}\") \n",
    "            gender_list.append('female') # female only dataset\n",
    "            emotion_list.append(emotion_dic[key])\n",
    "            \n",
    "tess_df = pd.concat([\n",
    "    pd.DataFrame(path_list, columns=['path']),\n",
    "    pd.DataFrame(gender_list, columns=['sex']),\n",
    "    pd.DataFrame(emotion_list, columns=['emotion'])\n",
    "], axis=1)\n",
    "\n",
    "tess_df.head()"
   ]
  },
  {
   "cell_type": "markdown",
   "id": "8988a90d",
   "metadata": {
    "papermill": {
     "duration": 0.010269,
     "end_time": "2023-05-13T23:07:06.221959",
     "exception": false,
     "start_time": "2023-05-13T23:07:06.211690",
     "status": "completed"
    },
    "tags": []
   },
   "source": [
    "### 4. Savee Dataframe\n",
    "\n",
    "- 480 files\n",
    "- 레이블 예시 DC_**\"a\"**02.wav."
   ]
  },
  {
   "cell_type": "code",
   "execution_count": 25,
   "id": "0962fc9b",
   "metadata": {
    "execution": {
     "iopub.execute_input": "2023-05-13T23:07:06.245268Z",
     "iopub.status.busy": "2023-05-13T23:07:06.244199Z",
     "iopub.status.idle": "2023-05-13T23:07:06.426540Z",
     "shell.execute_reply": "2023-05-13T23:07:06.425493Z"
    },
    "papermill": {
     "duration": 0.196822,
     "end_time": "2023-05-13T23:07:06.429120",
     "exception": false,
     "start_time": "2023-05-13T23:07:06.232298",
     "status": "completed"
    },
    "tags": []
   },
   "outputs": [
    {
     "data": {
      "text/html": [
       "<div>\n",
       "<style scoped>\n",
       "    .dataframe tbody tr th:only-of-type {\n",
       "        vertical-align: middle;\n",
       "    }\n",
       "\n",
       "    .dataframe tbody tr th {\n",
       "        vertical-align: top;\n",
       "    }\n",
       "\n",
       "    .dataframe thead th {\n",
       "        text-align: right;\n",
       "    }\n",
       "</style>\n",
       "<table border=\"1\" class=\"dataframe\">\n",
       "  <thead>\n",
       "    <tr style=\"text-align: right;\">\n",
       "      <th></th>\n",
       "      <th>path</th>\n",
       "      <th>sex</th>\n",
       "      <th>emotion</th>\n",
       "    </tr>\n",
       "  </thead>\n",
       "  <tbody>\n",
       "    <tr>\n",
       "      <th>0</th>\n",
       "      <td>test/surrey-audiovisual-expressed-emotion-save...</td>\n",
       "      <td>male</td>\n",
       "      <td>angry</td>\n",
       "    </tr>\n",
       "    <tr>\n",
       "      <th>1</th>\n",
       "      <td>test/surrey-audiovisual-expressed-emotion-save...</td>\n",
       "      <td>male</td>\n",
       "      <td>angry</td>\n",
       "    </tr>\n",
       "    <tr>\n",
       "      <th>2</th>\n",
       "      <td>test/surrey-audiovisual-expressed-emotion-save...</td>\n",
       "      <td>male</td>\n",
       "      <td>angry</td>\n",
       "    </tr>\n",
       "    <tr>\n",
       "      <th>3</th>\n",
       "      <td>test/surrey-audiovisual-expressed-emotion-save...</td>\n",
       "      <td>male</td>\n",
       "      <td>angry</td>\n",
       "    </tr>\n",
       "    <tr>\n",
       "      <th>4</th>\n",
       "      <td>test/surrey-audiovisual-expressed-emotion-save...</td>\n",
       "      <td>male</td>\n",
       "      <td>angry</td>\n",
       "    </tr>\n",
       "  </tbody>\n",
       "</table>\n",
       "</div>"
      ],
      "text/plain": [
       "                                                path   sex emotion\n",
       "0  test/surrey-audiovisual-expressed-emotion-save...  male   angry\n",
       "1  test/surrey-audiovisual-expressed-emotion-save...  male   angry\n",
       "2  test/surrey-audiovisual-expressed-emotion-save...  male   angry\n",
       "3  test/surrey-audiovisual-expressed-emotion-save...  male   angry\n",
       "4  test/surrey-audiovisual-expressed-emotion-save...  male   angry"
      ]
     },
     "execution_count": 25,
     "metadata": {},
     "output_type": "execute_result"
    }
   ],
   "source": [
    "savee_dir_list = os.listdir(SAVEE)\n",
    "path_list = []\n",
    "gender_list = []\n",
    "emotion_list = []\n",
    "\n",
    "emotion_dic = {\n",
    "    'h'  : 'happy',\n",
    "    'n'  : 'neutral',\n",
    "    'sa' : 'sad',\n",
    "    'a'  : 'angry',\n",
    "    'f'  : 'fear',\n",
    "    'd'  : 'disgust'\n",
    "}\n",
    "\n",
    "for audio_file in savee_dir_list:\n",
    "    part = audio_file.split('_')[1]\n",
    "    key = part[:-6]\n",
    "    if key in emotion_dic:\n",
    "        path_list.append(f\"{SAVEE}{audio_file}\")\n",
    "        gender_list.append('male') # male only dataset\n",
    "        emotion_list.append(emotion_dic[key])\n",
    "        \n",
    "savee_df = pd.concat([\n",
    "    pd.DataFrame(path_list, columns=['path']),\n",
    "    pd.DataFrame(gender_list, columns=['sex']),\n",
    "    pd.DataFrame(emotion_list, columns=['emotion'])\n",
    "], axis=1)\n",
    "\n",
    "savee_df.head()"
   ]
  },
  {
   "cell_type": "code",
   "execution_count": 26,
   "id": "b1e249c5",
   "metadata": {
    "execution": {
     "iopub.execute_input": "2023-05-13T23:07:06.452491Z",
     "iopub.status.busy": "2023-05-13T23:07:06.451842Z",
     "iopub.status.idle": "2023-05-13T23:07:06.465590Z",
     "shell.execute_reply": "2023-05-13T23:07:06.464523Z"
    },
    "papermill": {
     "duration": 0.028059,
     "end_time": "2023-05-13T23:07:06.468194",
     "exception": false,
     "start_time": "2023-05-13T23:07:06.440135",
     "status": "completed"
    },
    "tags": []
   },
   "outputs": [
    {
     "data": {
      "text/html": [
       "<div>\n",
       "<style scoped>\n",
       "    .dataframe tbody tr th:only-of-type {\n",
       "        vertical-align: middle;\n",
       "    }\n",
       "\n",
       "    .dataframe tbody tr th {\n",
       "        vertical-align: top;\n",
       "    }\n",
       "\n",
       "    .dataframe thead th {\n",
       "        text-align: right;\n",
       "    }\n",
       "</style>\n",
       "<table border=\"1\" class=\"dataframe\">\n",
       "  <thead>\n",
       "    <tr style=\"text-align: right;\">\n",
       "      <th></th>\n",
       "      <th>path</th>\n",
       "      <th>sex</th>\n",
       "      <th>emotion</th>\n",
       "    </tr>\n",
       "  </thead>\n",
       "  <tbody>\n",
       "    <tr>\n",
       "      <th>0</th>\n",
       "      <td>test/ravdess-emotional-speech-audio/audio_spee...</td>\n",
       "      <td>male</td>\n",
       "      <td>neutral</td>\n",
       "    </tr>\n",
       "    <tr>\n",
       "      <th>1</th>\n",
       "      <td>test/ravdess-emotional-speech-audio/audio_spee...</td>\n",
       "      <td>male</td>\n",
       "      <td>neutral</td>\n",
       "    </tr>\n",
       "    <tr>\n",
       "      <th>2</th>\n",
       "      <td>test/ravdess-emotional-speech-audio/audio_spee...</td>\n",
       "      <td>male</td>\n",
       "      <td>neutral</td>\n",
       "    </tr>\n",
       "    <tr>\n",
       "      <th>3</th>\n",
       "      <td>test/ravdess-emotional-speech-audio/audio_spee...</td>\n",
       "      <td>male</td>\n",
       "      <td>neutral</td>\n",
       "    </tr>\n",
       "    <tr>\n",
       "      <th>4</th>\n",
       "      <td>test/ravdess-emotional-speech-audio/audio_spee...</td>\n",
       "      <td>male</td>\n",
       "      <td>happy</td>\n",
       "    </tr>\n",
       "  </tbody>\n",
       "</table>\n",
       "</div>"
      ],
      "text/plain": [
       "                                                path   sex  emotion\n",
       "0  test/ravdess-emotional-speech-audio/audio_spee...  male  neutral\n",
       "1  test/ravdess-emotional-speech-audio/audio_spee...  male  neutral\n",
       "2  test/ravdess-emotional-speech-audio/audio_spee...  male  neutral\n",
       "3  test/ravdess-emotional-speech-audio/audio_spee...  male  neutral\n",
       "4  test/ravdess-emotional-speech-audio/audio_spee...  male    happy"
      ]
     },
     "execution_count": 26,
     "metadata": {},
     "output_type": "execute_result"
    }
   ],
   "source": [
    "df = pd.concat([\n",
    "    ravdess_df, \n",
    "    crema_df, \n",
    "    tess_df, \n",
    "    savee_df\n",
    "], axis=0)\n",
    "df.head()"
   ]
  },
  {
   "cell_type": "code",
   "execution_count": 27,
   "id": "aab36bbd",
   "metadata": {
    "execution": {
     "iopub.execute_input": "2023-05-13T23:07:07.232960Z",
     "iopub.status.busy": "2023-05-13T23:07:07.232649Z",
     "iopub.status.idle": "2023-05-13T23:07:07.244085Z",
     "shell.execute_reply": "2023-05-13T23:07:07.243083Z"
    },
    "papermill": {
     "duration": 0.026175,
     "end_time": "2023-05-13T23:07:07.246393",
     "exception": false,
     "start_time": "2023-05-13T23:07:07.220218",
     "status": "completed"
    },
    "tags": []
   },
   "outputs": [
    {
     "data": {
      "text/html": [
       "<div>\n",
       "<style scoped>\n",
       "    .dataframe tbody tr th:only-of-type {\n",
       "        vertical-align: middle;\n",
       "    }\n",
       "\n",
       "    .dataframe tbody tr th {\n",
       "        vertical-align: top;\n",
       "    }\n",
       "\n",
       "    .dataframe thead th {\n",
       "        text-align: right;\n",
       "    }\n",
       "</style>\n",
       "<table border=\"1\" class=\"dataframe\">\n",
       "  <thead>\n",
       "    <tr style=\"text-align: right;\">\n",
       "      <th></th>\n",
       "      <th>path</th>\n",
       "      <th>emotion</th>\n",
       "    </tr>\n",
       "  </thead>\n",
       "  <tbody>\n",
       "    <tr>\n",
       "      <th>0</th>\n",
       "      <td>test/ravdess-emotional-speech-audio/audio_spee...</td>\n",
       "      <td>neutral</td>\n",
       "    </tr>\n",
       "    <tr>\n",
       "      <th>1</th>\n",
       "      <td>test/ravdess-emotional-speech-audio/audio_spee...</td>\n",
       "      <td>neutral</td>\n",
       "    </tr>\n",
       "    <tr>\n",
       "      <th>2</th>\n",
       "      <td>test/ravdess-emotional-speech-audio/audio_spee...</td>\n",
       "      <td>neutral</td>\n",
       "    </tr>\n",
       "    <tr>\n",
       "      <th>3</th>\n",
       "      <td>test/ravdess-emotional-speech-audio/audio_spee...</td>\n",
       "      <td>neutral</td>\n",
       "    </tr>\n",
       "    <tr>\n",
       "      <th>4</th>\n",
       "      <td>test/ravdess-emotional-speech-audio/audio_spee...</td>\n",
       "      <td>happy</td>\n",
       "    </tr>\n",
       "  </tbody>\n",
       "</table>\n",
       "</div>"
      ],
      "text/plain": [
       "                                                path  emotion\n",
       "0  test/ravdess-emotional-speech-audio/audio_spee...  neutral\n",
       "1  test/ravdess-emotional-speech-audio/audio_spee...  neutral\n",
       "2  test/ravdess-emotional-speech-audio/audio_spee...  neutral\n",
       "3  test/ravdess-emotional-speech-audio/audio_spee...  neutral\n",
       "4  test/ravdess-emotional-speech-audio/audio_spee...    happy"
      ]
     },
     "execution_count": 27,
     "metadata": {},
     "output_type": "execute_result"
    }
   ],
   "source": [
    "df.drop('sex', axis=1, inplace=True)\n",
    "df.head()"
   ]
  },
  {
   "cell_type": "markdown",
   "id": "9e865d57",
   "metadata": {
    "papermill": {
     "duration": 0.011516,
     "end_time": "2023-05-13T23:07:07.269952",
     "exception": false,
     "start_time": "2023-05-13T23:07:07.258436",
     "status": "completed"
    },
    "tags": []
   },
   "source": [
    "# 전처리\n",
    "\n",
    "- 음성 데이터 같은 길이로 패딩"
   ]
  },
  {
   "cell_type": "code",
   "execution_count": 28,
   "id": "cf37515c",
   "metadata": {
    "execution": {
     "iopub.execute_input": "2023-05-13T23:07:07.295588Z",
     "iopub.status.busy": "2023-05-13T23:07:07.294554Z",
     "iopub.status.idle": "2023-05-13T23:07:07.325191Z",
     "shell.execute_reply": "2023-05-13T23:07:07.324244Z"
    },
    "papermill": {
     "duration": 0.046203,
     "end_time": "2023-05-13T23:07:07.327877",
     "exception": false,
     "start_time": "2023-05-13T23:07:07.281674",
     "status": "completed"
    },
    "tags": []
   },
   "outputs": [],
   "source": [
    "from pydub import AudioSegment, effects\n",
    "import librosa"
   ]
  },
  {
   "cell_type": "code",
   "execution_count": 73,
   "id": "a86c6f57",
   "metadata": {
    "execution": {
     "iopub.execute_input": "2023-05-13T23:07:07.352804Z",
     "iopub.status.busy": "2023-05-13T23:07:07.352511Z",
     "iopub.status.idle": "2023-05-13T23:07:07.359109Z",
     "shell.execute_reply": "2023-05-13T23:07:07.358051Z"
    },
    "papermill": {
     "duration": 0.021712,
     "end_time": "2023-05-13T23:07:07.361274",
     "exception": false,
     "start_time": "2023-05-13T23:07:07.339562",
     "status": "completed"
    },
    "tags": []
   },
   "outputs": [],
   "source": [
    "def preprocess_audio(path):\n",
    "    _, sr = librosa.load(path)\n",
    "    raw_audio = AudioSegment.from_file(path)\n",
    "    \n",
    "    samples = np.array(raw_audio.get_array_of_samples(), dtype='float32')\n",
    "    trimmed, _ = librosa.effects.trim(samples, top_db=25)\n",
    "    padded = np.pad(trimmed, (0, 180000-len(trimmed)), 'constant')\n",
    "    return padded, sr"
   ]
  },
  {
   "cell_type": "code",
   "execution_count": 29,
   "id": "d01e0d01",
   "metadata": {
    "execution": {
     "iopub.execute_input": "2023-05-13T23:07:07.386222Z",
     "iopub.status.busy": "2023-05-13T23:07:07.385391Z",
     "iopub.status.idle": "2023-05-13T23:07:07.391444Z",
     "shell.execute_reply": "2023-05-13T23:07:07.390518Z"
    },
    "papermill": {
     "duration": 0.020974,
     "end_time": "2023-05-13T23:07:07.393680",
     "exception": false,
     "start_time": "2023-05-13T23:07:07.372706",
     "status": "completed"
    },
    "tags": []
   },
   "outputs": [],
   "source": [
    "emotion_dic = {\n",
    "    'neutral' : 0,\n",
    "    'happy'   : 1,\n",
    "    'sad'     : 2, \n",
    "    'angry'   : 3, \n",
    "    'fear'    : 4, \n",
    "    'disgust' : 5\n",
    "}\n",
    "\n",
    "def encode(label):\n",
    "    return emotion_dic.get(label)"
   ]
  },
  {
   "cell_type": "markdown",
   "id": "159a2074",
   "metadata": {
    "papermill": {
     "duration": 0.011246,
     "end_time": "2023-05-13T23:07:07.416499",
     "exception": false,
     "start_time": "2023-05-13T23:07:07.405253",
     "status": "completed"
    },
    "tags": []
   },
   "source": [
    "# feature 추출\n",
    "\n",
    "1. MFCC(Mel-Frequency Cepstral Coefficients)\n",
    "2. Zero Crossing Rate\n",
    "3. Root Mean Square Energy"
   ]
  },
  {
   "cell_type": "code",
   "execution_count": 30,
   "id": "18c167ed",
   "metadata": {
    "execution": {
     "iopub.execute_input": "2023-05-13T23:07:07.443478Z",
     "iopub.status.busy": "2023-05-13T23:07:07.441584Z",
     "iopub.status.idle": "2023-05-13T23:12:06.256067Z",
     "shell.execute_reply": "2023-05-13T23:12:06.253807Z"
    },
    "papermill": {
     "duration": 298.832621,
     "end_time": "2023-05-13T23:12:06.261293",
     "exception": false,
     "start_time": "2023-05-13T23:07:07.428672",
     "status": "completed"
    },
    "tags": []
   },
   "outputs": [],
   "source": [
    "zcr_list = []\n",
    "rms_list = []\n",
    "mfccs_list = []\n",
    "emotion_list = []\n",
    "\n",
    "FRAME_LENGTH = 2048\n",
    "HOP_LENGTH = 512\n",
    "\n",
    "for row in df.itertuples(index=False):\n",
    "    try: \n",
    "        y, sr = preprocess_audio(row.path)\n",
    "\n",
    "        zcr = librosa.feature.zero_crossing_rate(y, frame_length=FRAME_LENGTH, hop_length=HOP_LENGTH)\n",
    "        rms = librosa.feature.rms(y=y, frame_length=FRAME_LENGTH, hop_length=HOP_LENGTH)\n",
    "        mfccs = librosa.feature.mfcc(y=y, sr=sr, n_mfcc=13, hop_length=HOP_LENGTH)\n",
    "\n",
    "        zcr_list.append(zcr)\n",
    "        rms_list.append(rms)\n",
    "        mfccs_list.append(mfccs)\n",
    "\n",
    "        emotion_list.append(encode(row.emotion))\n",
    "    except:\n",
    "        print(f\"Failed for path: {row.path}\")"
   ]
  },
  {
   "cell_type": "code",
   "execution_count": 31,
   "id": "77a15210",
   "metadata": {
    "execution": {
     "iopub.execute_input": "2023-05-13T23:12:06.318158Z",
     "iopub.status.busy": "2023-05-13T23:12:06.316342Z",
     "iopub.status.idle": "2023-05-13T23:12:06.452589Z",
     "shell.execute_reply": "2023-05-13T23:12:06.451511Z"
    },
    "papermill": {
     "duration": 0.166943,
     "end_time": "2023-05-13T23:12:06.455624",
     "exception": false,
     "start_time": "2023-05-13T23:12:06.288681",
     "status": "completed"
    },
    "tags": []
   },
   "outputs": [],
   "source": [
    "X = np.concatenate((\n",
    "    np.swapaxes(zcr_list, 1, 2), \n",
    "    np.swapaxes(rms_list, 1, 2), \n",
    "    np.swapaxes(mfccs_list, 1, 2)), \n",
    "    axis=2\n",
    ")\n",
    "X = X.astype('float32')\n",
    "\n",
    "y = np.asarray(emotion_list)\n",
    "y = np.expand_dims(y, axis=1).astype('int8')"
   ]
  },
  {
   "cell_type": "markdown",
   "id": "88734950",
   "metadata": {
    "papermill": {
     "duration": 0.012178,
     "end_time": "2023-05-13T23:12:06.479890",
     "exception": false,
     "start_time": "2023-05-13T23:12:06.467712",
     "status": "completed"
    },
    "tags": []
   },
   "source": [
    "# 모델\n",
    "\n",
    "- LSTM"
   ]
  },
  {
   "cell_type": "code",
   "execution_count": 5,
   "id": "b6bd78a0",
   "metadata": {
    "execution": {
     "iopub.execute_input": "2023-05-13T23:12:06.505146Z",
     "iopub.status.busy": "2023-05-13T23:12:06.504786Z",
     "iopub.status.idle": "2023-05-13T23:12:20.612655Z",
     "shell.execute_reply": "2023-05-13T23:12:20.611471Z"
    },
    "papermill": {
     "duration": 14.123509,
     "end_time": "2023-05-13T23:12:20.615358",
     "exception": false,
     "start_time": "2023-05-13T23:12:06.491849",
     "status": "completed"
    },
    "tags": []
   },
   "outputs": [],
   "source": [
    "from sklearn.model_selection import train_test_split\n",
    "from tensorflow.keras.utils import to_categorical"
   ]
  },
  {
   "cell_type": "code",
   "execution_count": 16,
   "id": "97c220bf",
   "metadata": {
    "execution": {
     "iopub.execute_input": "2023-05-13T23:12:20.641285Z",
     "iopub.status.busy": "2023-05-13T23:12:20.640573Z",
     "iopub.status.idle": "2023-05-13T23:12:20.676356Z",
     "shell.execute_reply": "2023-05-13T23:12:20.675324Z"
    },
    "papermill": {
     "duration": 0.051524,
     "end_time": "2023-05-13T23:12:20.679182",
     "exception": false,
     "start_time": "2023-05-13T23:12:20.627658",
     "status": "completed"
    },
    "tags": []
   },
   "outputs": [],
   "source": [
    "X_train, X_to_split, y_train, y_to_split = train_test_split(X, y, test_size=0.15, random_state=1)\n",
    "X_val, X_test, y_val, y_test = train_test_split(X_to_split, y_to_split, test_size=0.3, random_state=1)\n",
    "\n",
    "y_train_class = to_categorical(y_train, 6)\n",
    "y_val_class = to_categorical(y_val, 6)"
   ]
  },
  {
   "cell_type": "code",
   "execution_count": 6,
   "id": "b4631ad0",
   "metadata": {
    "execution": {
     "iopub.execute_input": "2023-05-13T23:12:20.704474Z",
     "iopub.status.busy": "2023-05-13T23:12:20.704148Z",
     "iopub.status.idle": "2023-05-13T23:12:20.708886Z",
     "shell.execute_reply": "2023-05-13T23:12:20.707878Z"
    },
    "papermill": {
     "duration": 0.020009,
     "end_time": "2023-05-13T23:12:20.711517",
     "exception": false,
     "start_time": "2023-05-13T23:12:20.691508",
     "status": "completed"
    },
    "tags": []
   },
   "outputs": [],
   "source": [
    "from keras.models import Sequential\n",
    "from keras import layers, optimizers, callbacks"
   ]
  },
  {
   "cell_type": "code",
   "execution_count": null,
   "id": "51424fa5",
   "metadata": {
    "execution": {
     "iopub.execute_input": "2023-05-13T23:12:20.736505Z",
     "iopub.status.busy": "2023-05-13T23:12:20.736203Z",
     "iopub.status.idle": "2023-05-13T23:12:26.547893Z",
     "shell.execute_reply": "2023-05-13T23:12:26.547040Z"
    },
    "papermill": {
     "duration": 5.831403,
     "end_time": "2023-05-13T23:12:26.554644",
     "exception": false,
     "start_time": "2023-05-13T23:12:20.723241",
     "status": "completed"
    },
    "tags": []
   },
   "outputs": [],
   "source": [
    "MODEL = Sequential()\n",
    "MODEL.add(layers.LSTM(64, return_sequences=True, input_shape=(X.shape[1:3])))\n",
    "MODEL.add(layers.LSTM(64))\n",
    "MODEL.add(layers.Dense(6, activation='softmax'))\n",
    "\n",
    "print(MODEL.summary())"
   ]
  },
  {
   "cell_type": "code",
   "execution_count": null,
   "id": "bb8ee43f",
   "metadata": {
    "execution": {
     "iopub.execute_input": "2023-05-13T23:12:26.583670Z",
     "iopub.status.busy": "2023-05-13T23:12:26.583335Z",
     "iopub.status.idle": "2023-05-13T23:16:09.008270Z",
     "shell.execute_reply": "2023-05-13T23:16:09.007162Z"
    },
    "papermill": {
     "duration": 222.442975,
     "end_time": "2023-05-13T23:16:09.011423",
     "exception": false,
     "start_time": "2023-05-13T23:12:26.568448",
     "status": "completed"
    },
    "tags": []
   },
   "outputs": [],
   "source": [
    "rlrop = callbacks.ReduceLROnPlateau(monitor='val_categorical_accuracy', factor=0.2, patience=70)\n",
    "MODEL.compile(loss='categorical_crossentropy', optimizer='RMSProp', metrics=['categorical_accuracy'])\n",
    "mcp_save = callbacks.ModelCheckpoint('.mdl_wts.hdf5', save_best_only=True, monitor='val_loss', mode='min')\n",
    "model = MODEL.fit(X_train, y_train_class, epochs=300, batch_size=32, validation_data=(X_val, y_val_class), callbacks=[mcp_save])"
   ]
  },
  {
   "cell_type": "code",
   "execution_count": 19,
   "id": "640b419c",
   "metadata": {},
   "outputs": [
    {
     "name": "stdout",
     "output_type": "stream",
     "text": [
      "Model: \"sequential_1\"\n",
      "_________________________________________________________________\n",
      "Layer (type)                 Output Shape              Param #   \n",
      "=================================================================\n",
      "lstm_3 (LSTM)                (None, 352, 256)          278528    \n",
      "_________________________________________________________________\n",
      "lstm_4 (LSTM)                (None, 256)               525312    \n",
      "_________________________________________________________________\n",
      "dense (Dense)                (None, 6)                 1542      \n",
      "=================================================================\n",
      "Total params: 805,382\n",
      "Trainable params: 805,382\n",
      "Non-trainable params: 0\n",
      "_________________________________________________________________\n",
      "None\n"
     ]
    }
   ],
   "source": [
    "MODEL = Sequential()\n",
    "MODEL.add(layers.LSTM(256, return_sequences=True, input_shape=(X.shape[1:3])))\n",
    "MODEL.add(layers.LSTM(256))\n",
    "MODEL.add(layers.Dense(6, activation='softmax'))\n",
    "\n",
    "print(MODEL.summary())"
   ]
  },
  {
   "cell_type": "code",
   "execution_count": 20,
   "id": "9af4e0b4",
   "metadata": {},
   "outputs": [
    {
     "name": "stdout",
     "output_type": "stream",
     "text": [
      "Epoch 1/300\n",
      "112/112 [==============================] - 127s 1s/step - loss: 1.8015 - categorical_accuracy: 0.2421 - val_loss: 1.4493 - val_categorical_accuracy: 0.3326\n",
      "Epoch 2/300\n",
      "112/112 [==============================] - 130s 1s/step - loss: 1.3967 - categorical_accuracy: 0.4015 - val_loss: 1.3795 - val_categorical_accuracy: 0.4072\n",
      "Epoch 3/300\n",
      "112/112 [==============================] - 133s 1s/step - loss: 1.2506 - categorical_accuracy: 0.4958 - val_loss: 1.1743 - val_categorical_accuracy: 0.5385\n",
      "Epoch 4/300\n",
      "112/112 [==============================] - 132s 1s/step - loss: 1.1842 - categorical_accuracy: 0.5276 - val_loss: 1.1325 - val_categorical_accuracy: 0.5792\n",
      "Epoch 5/300\n",
      "112/112 [==============================] - 135s 1s/step - loss: 1.0977 - categorical_accuracy: 0.5687 - val_loss: 1.0172 - val_categorical_accuracy: 0.5905\n",
      "Epoch 6/300\n",
      "112/112 [==============================] - 136s 1s/step - loss: 1.0119 - categorical_accuracy: 0.5971 - val_loss: 1.0004 - val_categorical_accuracy: 0.6131\n",
      "Epoch 7/300\n",
      "112/112 [==============================] - 139s 1s/step - loss: 1.0216 - categorical_accuracy: 0.6030 - val_loss: 1.0112 - val_categorical_accuracy: 0.5837\n",
      "Epoch 8/300\n",
      "112/112 [==============================] - 137s 1s/step - loss: 0.9374 - categorical_accuracy: 0.6378 - val_loss: 0.8776 - val_categorical_accuracy: 0.6674\n",
      "Epoch 9/300\n",
      "112/112 [==============================] - 137s 1s/step - loss: 0.8864 - categorical_accuracy: 0.6479 - val_loss: 0.8476 - val_categorical_accuracy: 0.6674\n",
      "Epoch 10/300\n",
      "112/112 [==============================] - 136s 1s/step - loss: 0.8300 - categorical_accuracy: 0.6831 - val_loss: 0.8588 - val_categorical_accuracy: 0.6516\n",
      "Epoch 11/300\n",
      "112/112 [==============================] - 135s 1s/step - loss: 0.8424 - categorical_accuracy: 0.6777 - val_loss: 0.9136 - val_categorical_accuracy: 0.6471\n",
      "Epoch 12/300\n",
      "112/112 [==============================] - 135s 1s/step - loss: 0.8000 - categorical_accuracy: 0.6938 - val_loss: 0.8394 - val_categorical_accuracy: 0.6674\n",
      "Epoch 13/300\n",
      "112/112 [==============================] - 135s 1s/step - loss: 0.7618 - categorical_accuracy: 0.7211 - val_loss: 0.8272 - val_categorical_accuracy: 0.6810\n",
      "Epoch 14/300\n",
      "112/112 [==============================] - 136s 1s/step - loss: 0.7518 - categorical_accuracy: 0.7089 - val_loss: 0.7405 - val_categorical_accuracy: 0.6968\n",
      "Epoch 15/300\n",
      "112/112 [==============================] - 136s 1s/step - loss: 0.6995 - categorical_accuracy: 0.7292 - val_loss: 0.6953 - val_categorical_accuracy: 0.7262\n",
      "Epoch 16/300\n",
      "112/112 [==============================] - 136s 1s/step - loss: 0.7024 - categorical_accuracy: 0.7351 - val_loss: 0.8219 - val_categorical_accuracy: 0.7059\n",
      "Epoch 17/300\n",
      "112/112 [==============================] - 137s 1s/step - loss: 0.6634 - categorical_accuracy: 0.7498 - val_loss: 0.6585 - val_categorical_accuracy: 0.7240\n",
      "Epoch 18/300\n",
      "112/112 [==============================] - 137s 1s/step - loss: 0.6611 - categorical_accuracy: 0.7532 - val_loss: 0.6703 - val_categorical_accuracy: 0.7308\n",
      "Epoch 19/300\n",
      "112/112 [==============================] - 137s 1s/step - loss: 0.6736 - categorical_accuracy: 0.7386 - val_loss: 0.8589 - val_categorical_accuracy: 0.6719\n",
      "Epoch 20/300\n",
      "112/112 [==============================] - 137s 1s/step - loss: 0.6581 - categorical_accuracy: 0.7492 - val_loss: 0.6632 - val_categorical_accuracy: 0.7285\n",
      "Epoch 21/300\n",
      "112/112 [==============================] - 139s 1s/step - loss: 0.6503 - categorical_accuracy: 0.7471 - val_loss: 0.6895 - val_categorical_accuracy: 0.7081\n",
      "Epoch 22/300\n",
      "112/112 [==============================] - 138s 1s/step - loss: 0.6209 - categorical_accuracy: 0.7583 - val_loss: 1.0373 - val_categorical_accuracy: 0.6719\n",
      "Epoch 23/300\n",
      "112/112 [==============================] - 139s 1s/step - loss: 0.6190 - categorical_accuracy: 0.7513 - val_loss: 0.6643 - val_categorical_accuracy: 0.7376\n",
      "Epoch 24/300\n",
      "112/112 [==============================] - 141s 1s/step - loss: 0.6721 - categorical_accuracy: 0.7460 - val_loss: 0.6809 - val_categorical_accuracy: 0.7443\n",
      "Epoch 25/300\n",
      "112/112 [==============================] - 139s 1s/step - loss: 0.6186 - categorical_accuracy: 0.7573 - val_loss: 0.6498 - val_categorical_accuracy: 0.7647\n",
      "Epoch 26/300\n",
      "112/112 [==============================] - 141s 1s/step - loss: 0.6219 - categorical_accuracy: 0.7601 - val_loss: 0.7497 - val_categorical_accuracy: 0.7240\n",
      "Epoch 27/300\n",
      "112/112 [==============================] - 141s 1s/step - loss: 0.5750 - categorical_accuracy: 0.7821 - val_loss: 0.6613 - val_categorical_accuracy: 0.7330\n",
      "Epoch 28/300\n",
      "112/112 [==============================] - 140s 1s/step - loss: 0.5817 - categorical_accuracy: 0.7828 - val_loss: 0.7706 - val_categorical_accuracy: 0.7308\n",
      "Epoch 29/300\n",
      " 30/112 [=======>......................] - ETA: 1:36 - loss: 0.5257 - categorical_accuracy: 0.7982"
     ]
    },
    {
     "ename": "KeyboardInterrupt",
     "evalue": "",
     "output_type": "error",
     "traceback": [
      "\u001b[1;31m---------------------------------------------------------------------------\u001b[0m",
      "\u001b[1;31mKeyboardInterrupt\u001b[0m                         Traceback (most recent call last)",
      "Input \u001b[1;32mIn [20]\u001b[0m, in \u001b[0;36m<cell line: 4>\u001b[1;34m()\u001b[0m\n\u001b[0;32m      2\u001b[0m MODEL\u001b[38;5;241m.\u001b[39mcompile(loss\u001b[38;5;241m=\u001b[39m\u001b[38;5;124m'\u001b[39m\u001b[38;5;124mcategorical_crossentropy\u001b[39m\u001b[38;5;124m'\u001b[39m, optimizer\u001b[38;5;241m=\u001b[39m\u001b[38;5;124m'\u001b[39m\u001b[38;5;124mRMSProp\u001b[39m\u001b[38;5;124m'\u001b[39m, metrics\u001b[38;5;241m=\u001b[39m[\u001b[38;5;124m'\u001b[39m\u001b[38;5;124mcategorical_accuracy\u001b[39m\u001b[38;5;124m'\u001b[39m])\n\u001b[0;32m      3\u001b[0m mcp_save \u001b[38;5;241m=\u001b[39m callbacks\u001b[38;5;241m.\u001b[39mModelCheckpoint(\u001b[38;5;124m'\u001b[39m\u001b[38;5;124m.mdl_wts_256.hdf5\u001b[39m\u001b[38;5;124m'\u001b[39m, save_best_only\u001b[38;5;241m=\u001b[39m\u001b[38;5;28;01mTrue\u001b[39;00m, monitor\u001b[38;5;241m=\u001b[39m\u001b[38;5;124m'\u001b[39m\u001b[38;5;124mval_loss\u001b[39m\u001b[38;5;124m'\u001b[39m, mode\u001b[38;5;241m=\u001b[39m\u001b[38;5;124m'\u001b[39m\u001b[38;5;124mmin\u001b[39m\u001b[38;5;124m'\u001b[39m)\n\u001b[1;32m----> 4\u001b[0m model \u001b[38;5;241m=\u001b[39m \u001b[43mMODEL\u001b[49m\u001b[38;5;241;43m.\u001b[39;49m\u001b[43mfit\u001b[49m\u001b[43m(\u001b[49m\u001b[43mX_train\u001b[49m\u001b[43m,\u001b[49m\u001b[43m \u001b[49m\u001b[43my_train_class\u001b[49m\u001b[43m,\u001b[49m\u001b[43m \u001b[49m\u001b[43mepochs\u001b[49m\u001b[38;5;241;43m=\u001b[39;49m\u001b[38;5;241;43m300\u001b[39;49m\u001b[43m,\u001b[49m\u001b[43m \u001b[49m\u001b[43mbatch_size\u001b[49m\u001b[38;5;241;43m=\u001b[39;49m\u001b[38;5;241;43m32\u001b[39;49m\u001b[43m,\u001b[49m\u001b[43m \u001b[49m\u001b[43mvalidation_data\u001b[49m\u001b[38;5;241;43m=\u001b[39;49m\u001b[43m(\u001b[49m\u001b[43mX_val\u001b[49m\u001b[43m,\u001b[49m\u001b[43m \u001b[49m\u001b[43my_val_class\u001b[49m\u001b[43m)\u001b[49m\u001b[43m,\u001b[49m\u001b[43m \u001b[49m\u001b[43mcallbacks\u001b[49m\u001b[38;5;241;43m=\u001b[39;49m\u001b[43m[\u001b[49m\u001b[43mmcp_save\u001b[49m\u001b[43m]\u001b[49m\u001b[43m)\u001b[49m\n",
      "File \u001b[1;32m~\\anaconda3\\lib\\site-packages\\tensorflow\\python\\keras\\engine\\training.py:1100\u001b[0m, in \u001b[0;36mModel.fit\u001b[1;34m(self, x, y, batch_size, epochs, verbose, callbacks, validation_split, validation_data, shuffle, class_weight, sample_weight, initial_epoch, steps_per_epoch, validation_steps, validation_batch_size, validation_freq, max_queue_size, workers, use_multiprocessing)\u001b[0m\n\u001b[0;32m   1093\u001b[0m \u001b[38;5;28;01mwith\u001b[39;00m trace\u001b[38;5;241m.\u001b[39mTrace(\n\u001b[0;32m   1094\u001b[0m     \u001b[38;5;124m'\u001b[39m\u001b[38;5;124mtrain\u001b[39m\u001b[38;5;124m'\u001b[39m,\n\u001b[0;32m   1095\u001b[0m     epoch_num\u001b[38;5;241m=\u001b[39mepoch,\n\u001b[0;32m   1096\u001b[0m     step_num\u001b[38;5;241m=\u001b[39mstep,\n\u001b[0;32m   1097\u001b[0m     batch_size\u001b[38;5;241m=\u001b[39mbatch_size,\n\u001b[0;32m   1098\u001b[0m     _r\u001b[38;5;241m=\u001b[39m\u001b[38;5;241m1\u001b[39m):\n\u001b[0;32m   1099\u001b[0m   callbacks\u001b[38;5;241m.\u001b[39mon_train_batch_begin(step)\n\u001b[1;32m-> 1100\u001b[0m   tmp_logs \u001b[38;5;241m=\u001b[39m \u001b[38;5;28;43mself\u001b[39;49m\u001b[38;5;241;43m.\u001b[39;49m\u001b[43mtrain_function\u001b[49m\u001b[43m(\u001b[49m\u001b[43miterator\u001b[49m\u001b[43m)\u001b[49m\n\u001b[0;32m   1101\u001b[0m   \u001b[38;5;28;01mif\u001b[39;00m data_handler\u001b[38;5;241m.\u001b[39mshould_sync:\n\u001b[0;32m   1102\u001b[0m     context\u001b[38;5;241m.\u001b[39masync_wait()\n",
      "File \u001b[1;32m~\\anaconda3\\lib\\site-packages\\tensorflow\\python\\eager\\def_function.py:828\u001b[0m, in \u001b[0;36mFunction.__call__\u001b[1;34m(self, *args, **kwds)\u001b[0m\n\u001b[0;32m    826\u001b[0m tracing_count \u001b[38;5;241m=\u001b[39m \u001b[38;5;28mself\u001b[39m\u001b[38;5;241m.\u001b[39mexperimental_get_tracing_count()\n\u001b[0;32m    827\u001b[0m \u001b[38;5;28;01mwith\u001b[39;00m trace\u001b[38;5;241m.\u001b[39mTrace(\u001b[38;5;28mself\u001b[39m\u001b[38;5;241m.\u001b[39m_name) \u001b[38;5;28;01mas\u001b[39;00m tm:\n\u001b[1;32m--> 828\u001b[0m   result \u001b[38;5;241m=\u001b[39m \u001b[38;5;28;43mself\u001b[39;49m\u001b[38;5;241;43m.\u001b[39;49m\u001b[43m_call\u001b[49m\u001b[43m(\u001b[49m\u001b[38;5;241;43m*\u001b[39;49m\u001b[43margs\u001b[49m\u001b[43m,\u001b[49m\u001b[43m \u001b[49m\u001b[38;5;241;43m*\u001b[39;49m\u001b[38;5;241;43m*\u001b[39;49m\u001b[43mkwds\u001b[49m\u001b[43m)\u001b[49m\n\u001b[0;32m    829\u001b[0m   compiler \u001b[38;5;241m=\u001b[39m \u001b[38;5;124m\"\u001b[39m\u001b[38;5;124mxla\u001b[39m\u001b[38;5;124m\"\u001b[39m \u001b[38;5;28;01mif\u001b[39;00m \u001b[38;5;28mself\u001b[39m\u001b[38;5;241m.\u001b[39m_experimental_compile \u001b[38;5;28;01melse\u001b[39;00m \u001b[38;5;124m\"\u001b[39m\u001b[38;5;124mnonXla\u001b[39m\u001b[38;5;124m\"\u001b[39m\n\u001b[0;32m    830\u001b[0m   new_tracing_count \u001b[38;5;241m=\u001b[39m \u001b[38;5;28mself\u001b[39m\u001b[38;5;241m.\u001b[39mexperimental_get_tracing_count()\n",
      "File \u001b[1;32m~\\anaconda3\\lib\\site-packages\\tensorflow\\python\\eager\\def_function.py:855\u001b[0m, in \u001b[0;36mFunction._call\u001b[1;34m(self, *args, **kwds)\u001b[0m\n\u001b[0;32m    852\u001b[0m   \u001b[38;5;28mself\u001b[39m\u001b[38;5;241m.\u001b[39m_lock\u001b[38;5;241m.\u001b[39mrelease()\n\u001b[0;32m    853\u001b[0m   \u001b[38;5;66;03m# In this case we have created variables on the first call, so we run the\u001b[39;00m\n\u001b[0;32m    854\u001b[0m   \u001b[38;5;66;03m# defunned version which is guaranteed to never create variables.\u001b[39;00m\n\u001b[1;32m--> 855\u001b[0m   \u001b[38;5;28;01mreturn\u001b[39;00m \u001b[38;5;28;43mself\u001b[39;49m\u001b[38;5;241;43m.\u001b[39;49m\u001b[43m_stateless_fn\u001b[49m\u001b[43m(\u001b[49m\u001b[38;5;241;43m*\u001b[39;49m\u001b[43margs\u001b[49m\u001b[43m,\u001b[49m\u001b[43m \u001b[49m\u001b[38;5;241;43m*\u001b[39;49m\u001b[38;5;241;43m*\u001b[39;49m\u001b[43mkwds\u001b[49m\u001b[43m)\u001b[49m  \u001b[38;5;66;03m# pylint: disable=not-callable\u001b[39;00m\n\u001b[0;32m    856\u001b[0m \u001b[38;5;28;01melif\u001b[39;00m \u001b[38;5;28mself\u001b[39m\u001b[38;5;241m.\u001b[39m_stateful_fn \u001b[38;5;129;01mis\u001b[39;00m \u001b[38;5;129;01mnot\u001b[39;00m \u001b[38;5;28;01mNone\u001b[39;00m:\n\u001b[0;32m    857\u001b[0m   \u001b[38;5;66;03m# Release the lock early so that multiple threads can perform the call\u001b[39;00m\n\u001b[0;32m    858\u001b[0m   \u001b[38;5;66;03m# in parallel.\u001b[39;00m\n\u001b[0;32m    859\u001b[0m   \u001b[38;5;28mself\u001b[39m\u001b[38;5;241m.\u001b[39m_lock\u001b[38;5;241m.\u001b[39mrelease()\n",
      "File \u001b[1;32m~\\anaconda3\\lib\\site-packages\\tensorflow\\python\\eager\\function.py:2942\u001b[0m, in \u001b[0;36mFunction.__call__\u001b[1;34m(self, *args, **kwargs)\u001b[0m\n\u001b[0;32m   2939\u001b[0m \u001b[38;5;28;01mwith\u001b[39;00m \u001b[38;5;28mself\u001b[39m\u001b[38;5;241m.\u001b[39m_lock:\n\u001b[0;32m   2940\u001b[0m   (graph_function,\n\u001b[0;32m   2941\u001b[0m    filtered_flat_args) \u001b[38;5;241m=\u001b[39m \u001b[38;5;28mself\u001b[39m\u001b[38;5;241m.\u001b[39m_maybe_define_function(args, kwargs)\n\u001b[1;32m-> 2942\u001b[0m \u001b[38;5;28;01mreturn\u001b[39;00m \u001b[43mgraph_function\u001b[49m\u001b[38;5;241;43m.\u001b[39;49m\u001b[43m_call_flat\u001b[49m\u001b[43m(\u001b[49m\n\u001b[0;32m   2943\u001b[0m \u001b[43m    \u001b[49m\u001b[43mfiltered_flat_args\u001b[49m\u001b[43m,\u001b[49m\u001b[43m \u001b[49m\u001b[43mcaptured_inputs\u001b[49m\u001b[38;5;241;43m=\u001b[39;49m\u001b[43mgraph_function\u001b[49m\u001b[38;5;241;43m.\u001b[39;49m\u001b[43mcaptured_inputs\u001b[49m\u001b[43m)\u001b[49m\n",
      "File \u001b[1;32m~\\anaconda3\\lib\\site-packages\\tensorflow\\python\\eager\\function.py:1918\u001b[0m, in \u001b[0;36mConcreteFunction._call_flat\u001b[1;34m(self, args, captured_inputs, cancellation_manager)\u001b[0m\n\u001b[0;32m   1914\u001b[0m possible_gradient_type \u001b[38;5;241m=\u001b[39m gradients_util\u001b[38;5;241m.\u001b[39mPossibleTapeGradientTypes(args)\n\u001b[0;32m   1915\u001b[0m \u001b[38;5;28;01mif\u001b[39;00m (possible_gradient_type \u001b[38;5;241m==\u001b[39m gradients_util\u001b[38;5;241m.\u001b[39mPOSSIBLE_GRADIENT_TYPES_NONE\n\u001b[0;32m   1916\u001b[0m     \u001b[38;5;129;01mand\u001b[39;00m executing_eagerly):\n\u001b[0;32m   1917\u001b[0m   \u001b[38;5;66;03m# No tape is watching; skip to running the function.\u001b[39;00m\n\u001b[1;32m-> 1918\u001b[0m   \u001b[38;5;28;01mreturn\u001b[39;00m \u001b[38;5;28mself\u001b[39m\u001b[38;5;241m.\u001b[39m_build_call_outputs(\u001b[38;5;28;43mself\u001b[39;49m\u001b[38;5;241;43m.\u001b[39;49m\u001b[43m_inference_function\u001b[49m\u001b[38;5;241;43m.\u001b[39;49m\u001b[43mcall\u001b[49m\u001b[43m(\u001b[49m\n\u001b[0;32m   1919\u001b[0m \u001b[43m      \u001b[49m\u001b[43mctx\u001b[49m\u001b[43m,\u001b[49m\u001b[43m \u001b[49m\u001b[43margs\u001b[49m\u001b[43m,\u001b[49m\u001b[43m \u001b[49m\u001b[43mcancellation_manager\u001b[49m\u001b[38;5;241;43m=\u001b[39;49m\u001b[43mcancellation_manager\u001b[49m\u001b[43m)\u001b[49m)\n\u001b[0;32m   1920\u001b[0m forward_backward \u001b[38;5;241m=\u001b[39m \u001b[38;5;28mself\u001b[39m\u001b[38;5;241m.\u001b[39m_select_forward_and_backward_functions(\n\u001b[0;32m   1921\u001b[0m     args,\n\u001b[0;32m   1922\u001b[0m     possible_gradient_type,\n\u001b[0;32m   1923\u001b[0m     executing_eagerly)\n\u001b[0;32m   1924\u001b[0m forward_function, args_with_tangents \u001b[38;5;241m=\u001b[39m forward_backward\u001b[38;5;241m.\u001b[39mforward()\n",
      "File \u001b[1;32m~\\anaconda3\\lib\\site-packages\\tensorflow\\python\\eager\\function.py:555\u001b[0m, in \u001b[0;36m_EagerDefinedFunction.call\u001b[1;34m(self, ctx, args, cancellation_manager)\u001b[0m\n\u001b[0;32m    553\u001b[0m \u001b[38;5;28;01mwith\u001b[39;00m _InterpolateFunctionError(\u001b[38;5;28mself\u001b[39m):\n\u001b[0;32m    554\u001b[0m   \u001b[38;5;28;01mif\u001b[39;00m cancellation_manager \u001b[38;5;129;01mis\u001b[39;00m \u001b[38;5;28;01mNone\u001b[39;00m:\n\u001b[1;32m--> 555\u001b[0m     outputs \u001b[38;5;241m=\u001b[39m \u001b[43mexecute\u001b[49m\u001b[38;5;241;43m.\u001b[39;49m\u001b[43mexecute\u001b[49m\u001b[43m(\u001b[49m\n\u001b[0;32m    556\u001b[0m \u001b[43m        \u001b[49m\u001b[38;5;28;43mstr\u001b[39;49m\u001b[43m(\u001b[49m\u001b[38;5;28;43mself\u001b[39;49m\u001b[38;5;241;43m.\u001b[39;49m\u001b[43msignature\u001b[49m\u001b[38;5;241;43m.\u001b[39;49m\u001b[43mname\u001b[49m\u001b[43m)\u001b[49m\u001b[43m,\u001b[49m\n\u001b[0;32m    557\u001b[0m \u001b[43m        \u001b[49m\u001b[43mnum_outputs\u001b[49m\u001b[38;5;241;43m=\u001b[39;49m\u001b[38;5;28;43mself\u001b[39;49m\u001b[38;5;241;43m.\u001b[39;49m\u001b[43m_num_outputs\u001b[49m\u001b[43m,\u001b[49m\n\u001b[0;32m    558\u001b[0m \u001b[43m        \u001b[49m\u001b[43minputs\u001b[49m\u001b[38;5;241;43m=\u001b[39;49m\u001b[43margs\u001b[49m\u001b[43m,\u001b[49m\n\u001b[0;32m    559\u001b[0m \u001b[43m        \u001b[49m\u001b[43mattrs\u001b[49m\u001b[38;5;241;43m=\u001b[39;49m\u001b[43mattrs\u001b[49m\u001b[43m,\u001b[49m\n\u001b[0;32m    560\u001b[0m \u001b[43m        \u001b[49m\u001b[43mctx\u001b[49m\u001b[38;5;241;43m=\u001b[39;49m\u001b[43mctx\u001b[49m\u001b[43m)\u001b[49m\n\u001b[0;32m    561\u001b[0m   \u001b[38;5;28;01melse\u001b[39;00m:\n\u001b[0;32m    562\u001b[0m     outputs \u001b[38;5;241m=\u001b[39m execute\u001b[38;5;241m.\u001b[39mexecute_with_cancellation(\n\u001b[0;32m    563\u001b[0m         \u001b[38;5;28mstr\u001b[39m(\u001b[38;5;28mself\u001b[39m\u001b[38;5;241m.\u001b[39msignature\u001b[38;5;241m.\u001b[39mname),\n\u001b[0;32m    564\u001b[0m         num_outputs\u001b[38;5;241m=\u001b[39m\u001b[38;5;28mself\u001b[39m\u001b[38;5;241m.\u001b[39m_num_outputs,\n\u001b[1;32m   (...)\u001b[0m\n\u001b[0;32m    567\u001b[0m         ctx\u001b[38;5;241m=\u001b[39mctx,\n\u001b[0;32m    568\u001b[0m         cancellation_manager\u001b[38;5;241m=\u001b[39mcancellation_manager)\n",
      "File \u001b[1;32m~\\anaconda3\\lib\\site-packages\\tensorflow\\python\\eager\\execute.py:59\u001b[0m, in \u001b[0;36mquick_execute\u001b[1;34m(op_name, num_outputs, inputs, attrs, ctx, name)\u001b[0m\n\u001b[0;32m     57\u001b[0m \u001b[38;5;28;01mtry\u001b[39;00m:\n\u001b[0;32m     58\u001b[0m   ctx\u001b[38;5;241m.\u001b[39mensure_initialized()\n\u001b[1;32m---> 59\u001b[0m   tensors \u001b[38;5;241m=\u001b[39m \u001b[43mpywrap_tfe\u001b[49m\u001b[38;5;241;43m.\u001b[39;49m\u001b[43mTFE_Py_Execute\u001b[49m\u001b[43m(\u001b[49m\u001b[43mctx\u001b[49m\u001b[38;5;241;43m.\u001b[39;49m\u001b[43m_handle\u001b[49m\u001b[43m,\u001b[49m\u001b[43m \u001b[49m\u001b[43mdevice_name\u001b[49m\u001b[43m,\u001b[49m\u001b[43m \u001b[49m\u001b[43mop_name\u001b[49m\u001b[43m,\u001b[49m\n\u001b[0;32m     60\u001b[0m \u001b[43m                                      \u001b[49m\u001b[43minputs\u001b[49m\u001b[43m,\u001b[49m\u001b[43m \u001b[49m\u001b[43mattrs\u001b[49m\u001b[43m,\u001b[49m\u001b[43m \u001b[49m\u001b[43mnum_outputs\u001b[49m\u001b[43m)\u001b[49m\n\u001b[0;32m     61\u001b[0m \u001b[38;5;28;01mexcept\u001b[39;00m core\u001b[38;5;241m.\u001b[39m_NotOkStatusException \u001b[38;5;28;01mas\u001b[39;00m e:\n\u001b[0;32m     62\u001b[0m   \u001b[38;5;28;01mif\u001b[39;00m name \u001b[38;5;129;01mis\u001b[39;00m \u001b[38;5;129;01mnot\u001b[39;00m \u001b[38;5;28;01mNone\u001b[39;00m:\n",
      "\u001b[1;31mKeyboardInterrupt\u001b[0m: "
     ]
    }
   ],
   "source": [
    "rlrop = callbacks.ReduceLROnPlateau(monitor='val_categorical_accuracy', factor=0.2, patience=70)\n",
    "MODEL.compile(loss='categorical_crossentropy', optimizer='RMSProp', metrics=['categorical_accuracy'])\n",
    "mcp_save = callbacks.ModelCheckpoint('.mdl_wts_256.hdf5', save_best_only=True, monitor='val_loss', mode='min')\n",
    "model = MODEL.fit(X_train, y_train_class, epochs=300, batch_size=32, validation_data=(X_val, y_val_class), callbacks=[mcp_save])"
   ]
  },
  {
   "cell_type": "code",
   "execution_count": 34,
   "id": "14f641c2",
   "metadata": {},
   "outputs": [
    {
     "data": {
      "text/plain": [
       "180000"
      ]
     },
     "execution_count": 34,
     "metadata": {},
     "output_type": "execute_result"
    }
   ],
   "source": []
  },
  {
   "cell_type": "code",
   "execution_count": null,
   "id": "4dc41872",
   "metadata": {},
   "outputs": [],
   "source": []
  },
  {
   "cell_type": "markdown",
   "id": "3482a659",
   "metadata": {
    "papermill": {
     "duration": 0.009394,
     "end_time": "2023-05-13T23:07:04.633812",
     "exception": false,
     "start_time": "2023-05-13T23:07:04.624418",
     "status": "completed"
    },
    "tags": []
   },
   "source": [
    "#### LSTM 확대"
   ]
  },
  {
   "cell_type": "code",
   "execution_count": 10,
   "id": "6d9081b1",
   "metadata": {
    "_cell_guid": "b1076dfc-b9ad-4769-8c92-a6c4dae69d19",
    "_uuid": "8f2839f25d086af736a60e9eeb907d3b93b6e0e5",
    "execution": {
     "iopub.execute_input": "2023-05-13T23:07:04.659591Z",
     "iopub.status.busy": "2023-05-13T23:07:04.658696Z",
     "iopub.status.idle": "2023-05-13T23:07:04.671508Z",
     "shell.execute_reply": "2023-05-13T23:07:04.670571Z"
    },
    "papermill": {
     "duration": 0.030333,
     "end_time": "2023-05-13T23:07:04.673903",
     "exception": false,
     "start_time": "2023-05-13T23:07:04.643570",
     "status": "completed"
    },
    "tags": []
   },
   "outputs": [],
   "source": [
    "import os\n",
    "import pandas as pd\n",
    "import numpy as np"
   ]
  },
  {
   "cell_type": "code",
   "execution_count": 11,
   "id": "5637f84c",
   "metadata": {
    "execution": {
     "iopub.execute_input": "2023-05-13T23:07:07.295588Z",
     "iopub.status.busy": "2023-05-13T23:07:07.294554Z",
     "iopub.status.idle": "2023-05-13T23:07:07.325191Z",
     "shell.execute_reply": "2023-05-13T23:07:07.324244Z"
    },
    "papermill": {
     "duration": 0.046203,
     "end_time": "2023-05-13T23:07:07.327877",
     "exception": false,
     "start_time": "2023-05-13T23:07:07.281674",
     "status": "completed"
    },
    "tags": []
   },
   "outputs": [],
   "source": [
    "from pydub import AudioSegment, effects\n",
    "import librosa"
   ]
  },
  {
   "cell_type": "code",
   "execution_count": 76,
   "id": "0ecf139a",
   "metadata": {
    "execution": {
     "iopub.execute_input": "2023-05-13T23:07:07.352804Z",
     "iopub.status.busy": "2023-05-13T23:07:07.352511Z",
     "iopub.status.idle": "2023-05-13T23:07:07.359109Z",
     "shell.execute_reply": "2023-05-13T23:07:07.358051Z"
    },
    "papermill": {
     "duration": 0.021712,
     "end_time": "2023-05-13T23:07:07.361274",
     "exception": false,
     "start_time": "2023-05-13T23:07:07.339562",
     "status": "completed"
    },
    "tags": []
   },
   "outputs": [],
   "source": [
    "def preprocess_audio(path):\n",
    "    _, sr = librosa.load(path)\n",
    "    raw_audio = AudioSegment.from_file(path)\n",
    "    \n",
    "    samples = np.array(raw_audio.get_array_of_samples(), dtype='float32')\n",
    "    trimmed, _ = librosa.effects.trim(samples, top_db=25)\n",
    "    if (len(trimmed) > 180000):\n",
    "        padded = trimmed[:180000]\n",
    "    else:\n",
    "        padded = np.pad(trimmed, (0, 180000-len(trimmed)), 'constant')\n",
    "    return padded, sr"
   ]
  },
  {
   "cell_type": "code",
   "execution_count": 77,
   "id": "736eda2c",
   "metadata": {
    "execution": {
     "iopub.execute_input": "2023-05-13T23:07:07.386222Z",
     "iopub.status.busy": "2023-05-13T23:07:07.385391Z",
     "iopub.status.idle": "2023-05-13T23:07:07.391444Z",
     "shell.execute_reply": "2023-05-13T23:07:07.390518Z"
    },
    "papermill": {
     "duration": 0.020974,
     "end_time": "2023-05-13T23:07:07.393680",
     "exception": false,
     "start_time": "2023-05-13T23:07:07.372706",
     "status": "completed"
    },
    "tags": []
   },
   "outputs": [],
   "source": [
    "emotion_dic = {\n",
    "    'neutral' : 0,\n",
    "    'happy'   : 1,\n",
    "    'sad'     : 2, \n",
    "    'angry'   : 3, \n",
    "    'fear'    : 4, \n",
    "    'disgust' : 5\n",
    "}\n",
    "\n",
    "def encode(label):\n",
    "    return emotion_dic.get(label)"
   ]
  },
  {
   "cell_type": "code",
   "execution_count": 78,
   "id": "1203d7d7",
   "metadata": {
    "execution": {
     "iopub.execute_input": "2023-05-13T23:07:07.443478Z",
     "iopub.status.busy": "2023-05-13T23:07:07.441584Z",
     "iopub.status.idle": "2023-05-13T23:12:06.256067Z",
     "shell.execute_reply": "2023-05-13T23:12:06.253807Z"
    },
    "papermill": {
     "duration": 298.832621,
     "end_time": "2023-05-13T23:12:06.261293",
     "exception": false,
     "start_time": "2023-05-13T23:07:07.428672",
     "status": "completed"
    },
    "tags": []
   },
   "outputs": [],
   "source": [
    "zcr_list = []\n",
    "rms_list = []\n",
    "mfccs_list = []\n",
    "emotion_list = []\n",
    "\n",
    "FRAME_LENGTH = 2048\n",
    "HOP_LENGTH = 512\n",
    "\n",
    "for row in df.itertuples(index=False):\n",
    "    try: \n",
    "        y, sr = preprocess_audio(row.path)\n",
    "\n",
    "        zcr = librosa.feature.zero_crossing_rate(y, frame_length=FRAME_LENGTH, hop_length=HOP_LENGTH)\n",
    "        rms = librosa.feature.rms(y=y, frame_length=FRAME_LENGTH, hop_length=HOP_LENGTH)\n",
    "        mfccs = librosa.feature.mfcc(y=y, sr=sr, n_mfcc=13, hop_length=HOP_LENGTH)\n",
    "\n",
    "        zcr_list.append(zcr)\n",
    "        rms_list.append(rms)\n",
    "        mfccs_list.append(mfccs)\n",
    "\n",
    "        emotion_list.append(encode(row.emotion))\n",
    "    except:\n",
    "        print(f\"Failed for path: {row.path}\")"
   ]
  },
  {
   "cell_type": "code",
   "execution_count": 79,
   "id": "f40e5e08",
   "metadata": {
    "execution": {
     "iopub.execute_input": "2023-05-13T23:12:06.318158Z",
     "iopub.status.busy": "2023-05-13T23:12:06.316342Z",
     "iopub.status.idle": "2023-05-13T23:12:06.452589Z",
     "shell.execute_reply": "2023-05-13T23:12:06.451511Z"
    },
    "papermill": {
     "duration": 0.166943,
     "end_time": "2023-05-13T23:12:06.455624",
     "exception": false,
     "start_time": "2023-05-13T23:12:06.288681",
     "status": "completed"
    },
    "tags": []
   },
   "outputs": [],
   "source": [
    "X = np.concatenate((\n",
    "    np.swapaxes(zcr_list, 1, 2), \n",
    "    np.swapaxes(rms_list, 1, 2), \n",
    "    np.swapaxes(mfccs_list, 1, 2)), \n",
    "    axis=2\n",
    ")\n",
    "X = X.astype('float32')\n",
    "\n",
    "y = np.asarray(emotion_list)\n",
    "y = np.expand_dims(y, axis=1).astype('int8')"
   ]
  },
  {
   "cell_type": "markdown",
   "id": "6ea6b795",
   "metadata": {
    "papermill": {
     "duration": 0.012178,
     "end_time": "2023-05-13T23:12:06.479890",
     "exception": false,
     "start_time": "2023-05-13T23:12:06.467712",
     "status": "completed"
    },
    "tags": []
   },
   "source": [
    "# 모델"
   ]
  },
  {
   "cell_type": "code",
   "execution_count": 80,
   "id": "122d34ed",
   "metadata": {
    "execution": {
     "iopub.execute_input": "2023-05-13T23:12:06.505146Z",
     "iopub.status.busy": "2023-05-13T23:12:06.504786Z",
     "iopub.status.idle": "2023-05-13T23:12:20.612655Z",
     "shell.execute_reply": "2023-05-13T23:12:20.611471Z"
    },
    "papermill": {
     "duration": 14.123509,
     "end_time": "2023-05-13T23:12:20.615358",
     "exception": false,
     "start_time": "2023-05-13T23:12:06.491849",
     "status": "completed"
    },
    "tags": []
   },
   "outputs": [],
   "source": [
    "from sklearn.model_selection import train_test_split\n",
    "from tensorflow.keras.utils import to_categorical"
   ]
  },
  {
   "cell_type": "code",
   "execution_count": 81,
   "id": "7723a7ef",
   "metadata": {
    "execution": {
     "iopub.execute_input": "2023-05-13T23:12:20.641285Z",
     "iopub.status.busy": "2023-05-13T23:12:20.640573Z",
     "iopub.status.idle": "2023-05-13T23:12:20.676356Z",
     "shell.execute_reply": "2023-05-13T23:12:20.675324Z"
    },
    "papermill": {
     "duration": 0.051524,
     "end_time": "2023-05-13T23:12:20.679182",
     "exception": false,
     "start_time": "2023-05-13T23:12:20.627658",
     "status": "completed"
    },
    "tags": []
   },
   "outputs": [],
   "source": [
    "X_train, X_to_split, y_train, y_to_split = train_test_split(X, y, test_size=0.15, random_state=1)\n",
    "X_val, X_test, y_val, y_test = train_test_split(X_to_split, y_to_split, test_size=0.3, random_state=1)\n",
    "\n",
    "y_train_class = to_categorical(y_train, 6)\n",
    "y_val_class = to_categorical(y_val, 6)"
   ]
  },
  {
   "cell_type": "code",
   "execution_count": 82,
   "id": "597c020d",
   "metadata": {
    "execution": {
     "iopub.execute_input": "2023-05-13T23:12:20.704474Z",
     "iopub.status.busy": "2023-05-13T23:12:20.704148Z",
     "iopub.status.idle": "2023-05-13T23:12:20.708886Z",
     "shell.execute_reply": "2023-05-13T23:12:20.707878Z"
    },
    "papermill": {
     "duration": 0.020009,
     "end_time": "2023-05-13T23:12:20.711517",
     "exception": false,
     "start_time": "2023-05-13T23:12:20.691508",
     "status": "completed"
    },
    "tags": []
   },
   "outputs": [],
   "source": [
    "from keras.models import Sequential\n",
    "from keras import layers, optimizers, callbacks"
   ]
  },
  {
   "cell_type": "code",
   "execution_count": 83,
   "id": "5279e6f5",
   "metadata": {},
   "outputs": [
    {
     "name": "stdout",
     "output_type": "stream",
     "text": [
      "Model: \"sequential_3\"\n",
      "_________________________________________________________________\n",
      "Layer (type)                 Output Shape              Param #   \n",
      "=================================================================\n",
      "lstm_6 (LSTM)                (None, 352, 256)          278528    \n",
      "_________________________________________________________________\n",
      "lstm_7 (LSTM)                (None, 256)               525312    \n",
      "_________________________________________________________________\n",
      "dense_3 (Dense)              (None, 6)                 1542      \n",
      "=================================================================\n",
      "Total params: 805,382\n",
      "Trainable params: 805,382\n",
      "Non-trainable params: 0\n",
      "_________________________________________________________________\n",
      "None\n"
     ]
    }
   ],
   "source": [
    "MODEL = Sequential()\n",
    "MODEL.add(layers.LSTM(256, return_sequences=True, input_shape=(X.shape[1:3])))\n",
    "MODEL.add(layers.LSTM(256))\n",
    "MODEL.add(layers.Dense(6, activation='softmax'))\n",
    "\n",
    "print(MODEL.summary())"
   ]
  },
  {
   "cell_type": "code",
   "execution_count": 84,
   "id": "cdda7eda",
   "metadata": {},
   "outputs": [
    {
     "name": "stdout",
     "output_type": "stream",
     "text": [
      "Epoch 1/100\n",
      "116/116 [==============================] - 203s 2s/step - loss: 1.7755 - categorical_accuracy: 0.2636 - val_loss: 1.7896 - val_categorical_accuracy: 0.2022\n",
      "Epoch 2/100\n",
      "116/116 [==============================] - 182s 2s/step - loss: 1.3634 - categorical_accuracy: 0.4264 - val_loss: 1.4063 - val_categorical_accuracy: 0.4154\n",
      "Epoch 3/100\n",
      "116/116 [==============================] - 184s 2s/step - loss: 1.1560 - categorical_accuracy: 0.5421 - val_loss: 1.3245 - val_categorical_accuracy: 0.4286\n",
      "Epoch 4/100\n",
      "116/116 [==============================] - 189s 2s/step - loss: 1.1492 - categorical_accuracy: 0.5499 - val_loss: 1.3284 - val_categorical_accuracy: 0.4615\n",
      "Epoch 5/100\n",
      "116/116 [==============================] - 188s 2s/step - loss: 1.0244 - categorical_accuracy: 0.5968 - val_loss: 0.9576 - val_categorical_accuracy: 0.6264\n",
      "Epoch 6/100\n",
      "116/116 [==============================] - 181s 2s/step - loss: 0.9619 - categorical_accuracy: 0.6309 - val_loss: 1.3444 - val_categorical_accuracy: 0.4769\n",
      "Epoch 7/100\n",
      "116/116 [==============================] - 180s 2s/step - loss: 0.9586 - categorical_accuracy: 0.6327 - val_loss: 1.1559 - val_categorical_accuracy: 0.5495\n",
      "Epoch 8/100\n",
      "116/116 [==============================] - 167s 1s/step - loss: 0.9477 - categorical_accuracy: 0.6423 - val_loss: 1.1757 - val_categorical_accuracy: 0.5165\n",
      "Epoch 9/100\n",
      "116/116 [==============================] - 178s 2s/step - loss: 0.8633 - categorical_accuracy: 0.6781 - val_loss: 0.9398 - val_categorical_accuracy: 0.6615\n",
      "Epoch 10/100\n",
      "116/116 [==============================] - 174s 2s/step - loss: 0.8317 - categorical_accuracy: 0.6807 - val_loss: 0.8537 - val_categorical_accuracy: 0.6330\n",
      "Epoch 11/100\n",
      "116/116 [==============================] - 166s 1s/step - loss: 0.7967 - categorical_accuracy: 0.6873 - val_loss: 1.2275 - val_categorical_accuracy: 0.5165\n",
      "Epoch 12/100\n",
      "116/116 [==============================] - 168s 1s/step - loss: 0.8143 - categorical_accuracy: 0.6799 - val_loss: 0.8936 - val_categorical_accuracy: 0.6505\n",
      "Epoch 13/100\n",
      "116/116 [==============================] - 183s 2s/step - loss: 0.7612 - categorical_accuracy: 0.7023 - val_loss: 0.9827 - val_categorical_accuracy: 0.6330\n",
      "Epoch 14/100\n",
      "116/116 [==============================] - 184s 2s/step - loss: 0.7806 - categorical_accuracy: 0.6937 - val_loss: 0.8877 - val_categorical_accuracy: 0.6615\n",
      "Epoch 15/100\n",
      "116/116 [==============================] - 184s 2s/step - loss: 0.7380 - categorical_accuracy: 0.7058 - val_loss: 1.0149 - val_categorical_accuracy: 0.6462\n",
      "Epoch 16/100\n",
      "116/116 [==============================] - 186s 2s/step - loss: 0.7397 - categorical_accuracy: 0.7219 - val_loss: 1.0057 - val_categorical_accuracy: 0.6352\n",
      "Epoch 17/100\n",
      "116/116 [==============================] - 184s 2s/step - loss: 0.7147 - categorical_accuracy: 0.7190 - val_loss: 0.9194 - val_categorical_accuracy: 0.6703\n",
      "Epoch 18/100\n",
      "116/116 [==============================] - 184s 2s/step - loss: 0.6785 - categorical_accuracy: 0.7351 - val_loss: 0.8023 - val_categorical_accuracy: 0.6835\n",
      "Epoch 19/100\n",
      "116/116 [==============================] - 185s 2s/step - loss: 0.6611 - categorical_accuracy: 0.7479 - val_loss: 0.7959 - val_categorical_accuracy: 0.6901\n",
      "Epoch 20/100\n",
      "116/116 [==============================] - 184s 2s/step - loss: 0.6509 - categorical_accuracy: 0.7546 - val_loss: 0.9721 - val_categorical_accuracy: 0.6110\n",
      "Epoch 21/100\n",
      "103/116 [=========================>....] - ETA: 20s - loss: 0.6222 - categorical_accuracy: 0.7530"
     ]
    },
    {
     "ename": "KeyboardInterrupt",
     "evalue": "",
     "output_type": "error",
     "traceback": [
      "\u001b[1;31m---------------------------------------------------------------------------\u001b[0m",
      "\u001b[1;31mKeyboardInterrupt\u001b[0m                         Traceback (most recent call last)",
      "Input \u001b[1;32mIn [84]\u001b[0m, in \u001b[0;36m<cell line: 4>\u001b[1;34m()\u001b[0m\n\u001b[0;32m      2\u001b[0m MODEL\u001b[38;5;241m.\u001b[39mcompile(loss\u001b[38;5;241m=\u001b[39m\u001b[38;5;124m'\u001b[39m\u001b[38;5;124mcategorical_crossentropy\u001b[39m\u001b[38;5;124m'\u001b[39m, optimizer\u001b[38;5;241m=\u001b[39m\u001b[38;5;124m'\u001b[39m\u001b[38;5;124mRMSProp\u001b[39m\u001b[38;5;124m'\u001b[39m, metrics\u001b[38;5;241m=\u001b[39m[\u001b[38;5;124m'\u001b[39m\u001b[38;5;124mcategorical_accuracy\u001b[39m\u001b[38;5;124m'\u001b[39m])\n\u001b[0;32m      3\u001b[0m mcp_save \u001b[38;5;241m=\u001b[39m callbacks\u001b[38;5;241m.\u001b[39mModelCheckpoint(\u001b[38;5;124m'\u001b[39m\u001b[38;5;124m.mdl_wts_256.hdf5\u001b[39m\u001b[38;5;124m'\u001b[39m, save_best_only\u001b[38;5;241m=\u001b[39m\u001b[38;5;28;01mTrue\u001b[39;00m, monitor\u001b[38;5;241m=\u001b[39m\u001b[38;5;124m'\u001b[39m\u001b[38;5;124mval_loss\u001b[39m\u001b[38;5;124m'\u001b[39m, mode\u001b[38;5;241m=\u001b[39m\u001b[38;5;124m'\u001b[39m\u001b[38;5;124mmin\u001b[39m\u001b[38;5;124m'\u001b[39m)\n\u001b[1;32m----> 4\u001b[0m model \u001b[38;5;241m=\u001b[39m \u001b[43mMODEL\u001b[49m\u001b[38;5;241;43m.\u001b[39;49m\u001b[43mfit\u001b[49m\u001b[43m(\u001b[49m\u001b[43mX_train\u001b[49m\u001b[43m,\u001b[49m\u001b[43m \u001b[49m\u001b[43my_train_class\u001b[49m\u001b[43m,\u001b[49m\u001b[43m \u001b[49m\u001b[43mepochs\u001b[49m\u001b[38;5;241;43m=\u001b[39;49m\u001b[38;5;241;43m100\u001b[39;49m\u001b[43m,\u001b[49m\u001b[43m \u001b[49m\u001b[43mbatch_size\u001b[49m\u001b[38;5;241;43m=\u001b[39;49m\u001b[38;5;241;43m32\u001b[39;49m\u001b[43m,\u001b[49m\u001b[43m \u001b[49m\u001b[43mvalidation_data\u001b[49m\u001b[38;5;241;43m=\u001b[39;49m\u001b[43m(\u001b[49m\u001b[43mX_val\u001b[49m\u001b[43m,\u001b[49m\u001b[43m \u001b[49m\u001b[43my_val_class\u001b[49m\u001b[43m)\u001b[49m\u001b[43m,\u001b[49m\u001b[43m \u001b[49m\u001b[43mcallbacks\u001b[49m\u001b[38;5;241;43m=\u001b[39;49m\u001b[43m[\u001b[49m\u001b[43mmcp_save\u001b[49m\u001b[43m]\u001b[49m\u001b[43m)\u001b[49m\n",
      "File \u001b[1;32m~\\anaconda3\\lib\\site-packages\\tensorflow\\python\\keras\\engine\\training.py:1100\u001b[0m, in \u001b[0;36mModel.fit\u001b[1;34m(self, x, y, batch_size, epochs, verbose, callbacks, validation_split, validation_data, shuffle, class_weight, sample_weight, initial_epoch, steps_per_epoch, validation_steps, validation_batch_size, validation_freq, max_queue_size, workers, use_multiprocessing)\u001b[0m\n\u001b[0;32m   1093\u001b[0m \u001b[38;5;28;01mwith\u001b[39;00m trace\u001b[38;5;241m.\u001b[39mTrace(\n\u001b[0;32m   1094\u001b[0m     \u001b[38;5;124m'\u001b[39m\u001b[38;5;124mtrain\u001b[39m\u001b[38;5;124m'\u001b[39m,\n\u001b[0;32m   1095\u001b[0m     epoch_num\u001b[38;5;241m=\u001b[39mepoch,\n\u001b[0;32m   1096\u001b[0m     step_num\u001b[38;5;241m=\u001b[39mstep,\n\u001b[0;32m   1097\u001b[0m     batch_size\u001b[38;5;241m=\u001b[39mbatch_size,\n\u001b[0;32m   1098\u001b[0m     _r\u001b[38;5;241m=\u001b[39m\u001b[38;5;241m1\u001b[39m):\n\u001b[0;32m   1099\u001b[0m   callbacks\u001b[38;5;241m.\u001b[39mon_train_batch_begin(step)\n\u001b[1;32m-> 1100\u001b[0m   tmp_logs \u001b[38;5;241m=\u001b[39m \u001b[38;5;28;43mself\u001b[39;49m\u001b[38;5;241;43m.\u001b[39;49m\u001b[43mtrain_function\u001b[49m\u001b[43m(\u001b[49m\u001b[43miterator\u001b[49m\u001b[43m)\u001b[49m\n\u001b[0;32m   1101\u001b[0m   \u001b[38;5;28;01mif\u001b[39;00m data_handler\u001b[38;5;241m.\u001b[39mshould_sync:\n\u001b[0;32m   1102\u001b[0m     context\u001b[38;5;241m.\u001b[39masync_wait()\n",
      "File \u001b[1;32m~\\anaconda3\\lib\\site-packages\\tensorflow\\python\\eager\\def_function.py:828\u001b[0m, in \u001b[0;36mFunction.__call__\u001b[1;34m(self, *args, **kwds)\u001b[0m\n\u001b[0;32m    826\u001b[0m tracing_count \u001b[38;5;241m=\u001b[39m \u001b[38;5;28mself\u001b[39m\u001b[38;5;241m.\u001b[39mexperimental_get_tracing_count()\n\u001b[0;32m    827\u001b[0m \u001b[38;5;28;01mwith\u001b[39;00m trace\u001b[38;5;241m.\u001b[39mTrace(\u001b[38;5;28mself\u001b[39m\u001b[38;5;241m.\u001b[39m_name) \u001b[38;5;28;01mas\u001b[39;00m tm:\n\u001b[1;32m--> 828\u001b[0m   result \u001b[38;5;241m=\u001b[39m \u001b[38;5;28;43mself\u001b[39;49m\u001b[38;5;241;43m.\u001b[39;49m\u001b[43m_call\u001b[49m\u001b[43m(\u001b[49m\u001b[38;5;241;43m*\u001b[39;49m\u001b[43margs\u001b[49m\u001b[43m,\u001b[49m\u001b[43m \u001b[49m\u001b[38;5;241;43m*\u001b[39;49m\u001b[38;5;241;43m*\u001b[39;49m\u001b[43mkwds\u001b[49m\u001b[43m)\u001b[49m\n\u001b[0;32m    829\u001b[0m   compiler \u001b[38;5;241m=\u001b[39m \u001b[38;5;124m\"\u001b[39m\u001b[38;5;124mxla\u001b[39m\u001b[38;5;124m\"\u001b[39m \u001b[38;5;28;01mif\u001b[39;00m \u001b[38;5;28mself\u001b[39m\u001b[38;5;241m.\u001b[39m_experimental_compile \u001b[38;5;28;01melse\u001b[39;00m \u001b[38;5;124m\"\u001b[39m\u001b[38;5;124mnonXla\u001b[39m\u001b[38;5;124m\"\u001b[39m\n\u001b[0;32m    830\u001b[0m   new_tracing_count \u001b[38;5;241m=\u001b[39m \u001b[38;5;28mself\u001b[39m\u001b[38;5;241m.\u001b[39mexperimental_get_tracing_count()\n",
      "File \u001b[1;32m~\\anaconda3\\lib\\site-packages\\tensorflow\\python\\eager\\def_function.py:855\u001b[0m, in \u001b[0;36mFunction._call\u001b[1;34m(self, *args, **kwds)\u001b[0m\n\u001b[0;32m    852\u001b[0m   \u001b[38;5;28mself\u001b[39m\u001b[38;5;241m.\u001b[39m_lock\u001b[38;5;241m.\u001b[39mrelease()\n\u001b[0;32m    853\u001b[0m   \u001b[38;5;66;03m# In this case we have created variables on the first call, so we run the\u001b[39;00m\n\u001b[0;32m    854\u001b[0m   \u001b[38;5;66;03m# defunned version which is guaranteed to never create variables.\u001b[39;00m\n\u001b[1;32m--> 855\u001b[0m   \u001b[38;5;28;01mreturn\u001b[39;00m \u001b[38;5;28;43mself\u001b[39;49m\u001b[38;5;241;43m.\u001b[39;49m\u001b[43m_stateless_fn\u001b[49m\u001b[43m(\u001b[49m\u001b[38;5;241;43m*\u001b[39;49m\u001b[43margs\u001b[49m\u001b[43m,\u001b[49m\u001b[43m \u001b[49m\u001b[38;5;241;43m*\u001b[39;49m\u001b[38;5;241;43m*\u001b[39;49m\u001b[43mkwds\u001b[49m\u001b[43m)\u001b[49m  \u001b[38;5;66;03m# pylint: disable=not-callable\u001b[39;00m\n\u001b[0;32m    856\u001b[0m \u001b[38;5;28;01melif\u001b[39;00m \u001b[38;5;28mself\u001b[39m\u001b[38;5;241m.\u001b[39m_stateful_fn \u001b[38;5;129;01mis\u001b[39;00m \u001b[38;5;129;01mnot\u001b[39;00m \u001b[38;5;28;01mNone\u001b[39;00m:\n\u001b[0;32m    857\u001b[0m   \u001b[38;5;66;03m# Release the lock early so that multiple threads can perform the call\u001b[39;00m\n\u001b[0;32m    858\u001b[0m   \u001b[38;5;66;03m# in parallel.\u001b[39;00m\n\u001b[0;32m    859\u001b[0m   \u001b[38;5;28mself\u001b[39m\u001b[38;5;241m.\u001b[39m_lock\u001b[38;5;241m.\u001b[39mrelease()\n",
      "File \u001b[1;32m~\\anaconda3\\lib\\site-packages\\tensorflow\\python\\eager\\function.py:2942\u001b[0m, in \u001b[0;36mFunction.__call__\u001b[1;34m(self, *args, **kwargs)\u001b[0m\n\u001b[0;32m   2939\u001b[0m \u001b[38;5;28;01mwith\u001b[39;00m \u001b[38;5;28mself\u001b[39m\u001b[38;5;241m.\u001b[39m_lock:\n\u001b[0;32m   2940\u001b[0m   (graph_function,\n\u001b[0;32m   2941\u001b[0m    filtered_flat_args) \u001b[38;5;241m=\u001b[39m \u001b[38;5;28mself\u001b[39m\u001b[38;5;241m.\u001b[39m_maybe_define_function(args, kwargs)\n\u001b[1;32m-> 2942\u001b[0m \u001b[38;5;28;01mreturn\u001b[39;00m \u001b[43mgraph_function\u001b[49m\u001b[38;5;241;43m.\u001b[39;49m\u001b[43m_call_flat\u001b[49m\u001b[43m(\u001b[49m\n\u001b[0;32m   2943\u001b[0m \u001b[43m    \u001b[49m\u001b[43mfiltered_flat_args\u001b[49m\u001b[43m,\u001b[49m\u001b[43m \u001b[49m\u001b[43mcaptured_inputs\u001b[49m\u001b[38;5;241;43m=\u001b[39;49m\u001b[43mgraph_function\u001b[49m\u001b[38;5;241;43m.\u001b[39;49m\u001b[43mcaptured_inputs\u001b[49m\u001b[43m)\u001b[49m\n",
      "File \u001b[1;32m~\\anaconda3\\lib\\site-packages\\tensorflow\\python\\eager\\function.py:1918\u001b[0m, in \u001b[0;36mConcreteFunction._call_flat\u001b[1;34m(self, args, captured_inputs, cancellation_manager)\u001b[0m\n\u001b[0;32m   1914\u001b[0m possible_gradient_type \u001b[38;5;241m=\u001b[39m gradients_util\u001b[38;5;241m.\u001b[39mPossibleTapeGradientTypes(args)\n\u001b[0;32m   1915\u001b[0m \u001b[38;5;28;01mif\u001b[39;00m (possible_gradient_type \u001b[38;5;241m==\u001b[39m gradients_util\u001b[38;5;241m.\u001b[39mPOSSIBLE_GRADIENT_TYPES_NONE\n\u001b[0;32m   1916\u001b[0m     \u001b[38;5;129;01mand\u001b[39;00m executing_eagerly):\n\u001b[0;32m   1917\u001b[0m   \u001b[38;5;66;03m# No tape is watching; skip to running the function.\u001b[39;00m\n\u001b[1;32m-> 1918\u001b[0m   \u001b[38;5;28;01mreturn\u001b[39;00m \u001b[38;5;28mself\u001b[39m\u001b[38;5;241m.\u001b[39m_build_call_outputs(\u001b[38;5;28;43mself\u001b[39;49m\u001b[38;5;241;43m.\u001b[39;49m\u001b[43m_inference_function\u001b[49m\u001b[38;5;241;43m.\u001b[39;49m\u001b[43mcall\u001b[49m\u001b[43m(\u001b[49m\n\u001b[0;32m   1919\u001b[0m \u001b[43m      \u001b[49m\u001b[43mctx\u001b[49m\u001b[43m,\u001b[49m\u001b[43m \u001b[49m\u001b[43margs\u001b[49m\u001b[43m,\u001b[49m\u001b[43m \u001b[49m\u001b[43mcancellation_manager\u001b[49m\u001b[38;5;241;43m=\u001b[39;49m\u001b[43mcancellation_manager\u001b[49m\u001b[43m)\u001b[49m)\n\u001b[0;32m   1920\u001b[0m forward_backward \u001b[38;5;241m=\u001b[39m \u001b[38;5;28mself\u001b[39m\u001b[38;5;241m.\u001b[39m_select_forward_and_backward_functions(\n\u001b[0;32m   1921\u001b[0m     args,\n\u001b[0;32m   1922\u001b[0m     possible_gradient_type,\n\u001b[0;32m   1923\u001b[0m     executing_eagerly)\n\u001b[0;32m   1924\u001b[0m forward_function, args_with_tangents \u001b[38;5;241m=\u001b[39m forward_backward\u001b[38;5;241m.\u001b[39mforward()\n",
      "File \u001b[1;32m~\\anaconda3\\lib\\site-packages\\tensorflow\\python\\eager\\function.py:555\u001b[0m, in \u001b[0;36m_EagerDefinedFunction.call\u001b[1;34m(self, ctx, args, cancellation_manager)\u001b[0m\n\u001b[0;32m    553\u001b[0m \u001b[38;5;28;01mwith\u001b[39;00m _InterpolateFunctionError(\u001b[38;5;28mself\u001b[39m):\n\u001b[0;32m    554\u001b[0m   \u001b[38;5;28;01mif\u001b[39;00m cancellation_manager \u001b[38;5;129;01mis\u001b[39;00m \u001b[38;5;28;01mNone\u001b[39;00m:\n\u001b[1;32m--> 555\u001b[0m     outputs \u001b[38;5;241m=\u001b[39m \u001b[43mexecute\u001b[49m\u001b[38;5;241;43m.\u001b[39;49m\u001b[43mexecute\u001b[49m\u001b[43m(\u001b[49m\n\u001b[0;32m    556\u001b[0m \u001b[43m        \u001b[49m\u001b[38;5;28;43mstr\u001b[39;49m\u001b[43m(\u001b[49m\u001b[38;5;28;43mself\u001b[39;49m\u001b[38;5;241;43m.\u001b[39;49m\u001b[43msignature\u001b[49m\u001b[38;5;241;43m.\u001b[39;49m\u001b[43mname\u001b[49m\u001b[43m)\u001b[49m\u001b[43m,\u001b[49m\n\u001b[0;32m    557\u001b[0m \u001b[43m        \u001b[49m\u001b[43mnum_outputs\u001b[49m\u001b[38;5;241;43m=\u001b[39;49m\u001b[38;5;28;43mself\u001b[39;49m\u001b[38;5;241;43m.\u001b[39;49m\u001b[43m_num_outputs\u001b[49m\u001b[43m,\u001b[49m\n\u001b[0;32m    558\u001b[0m \u001b[43m        \u001b[49m\u001b[43minputs\u001b[49m\u001b[38;5;241;43m=\u001b[39;49m\u001b[43margs\u001b[49m\u001b[43m,\u001b[49m\n\u001b[0;32m    559\u001b[0m \u001b[43m        \u001b[49m\u001b[43mattrs\u001b[49m\u001b[38;5;241;43m=\u001b[39;49m\u001b[43mattrs\u001b[49m\u001b[43m,\u001b[49m\n\u001b[0;32m    560\u001b[0m \u001b[43m        \u001b[49m\u001b[43mctx\u001b[49m\u001b[38;5;241;43m=\u001b[39;49m\u001b[43mctx\u001b[49m\u001b[43m)\u001b[49m\n\u001b[0;32m    561\u001b[0m   \u001b[38;5;28;01melse\u001b[39;00m:\n\u001b[0;32m    562\u001b[0m     outputs \u001b[38;5;241m=\u001b[39m execute\u001b[38;5;241m.\u001b[39mexecute_with_cancellation(\n\u001b[0;32m    563\u001b[0m         \u001b[38;5;28mstr\u001b[39m(\u001b[38;5;28mself\u001b[39m\u001b[38;5;241m.\u001b[39msignature\u001b[38;5;241m.\u001b[39mname),\n\u001b[0;32m    564\u001b[0m         num_outputs\u001b[38;5;241m=\u001b[39m\u001b[38;5;28mself\u001b[39m\u001b[38;5;241m.\u001b[39m_num_outputs,\n\u001b[1;32m   (...)\u001b[0m\n\u001b[0;32m    567\u001b[0m         ctx\u001b[38;5;241m=\u001b[39mctx,\n\u001b[0;32m    568\u001b[0m         cancellation_manager\u001b[38;5;241m=\u001b[39mcancellation_manager)\n",
      "File \u001b[1;32m~\\anaconda3\\lib\\site-packages\\tensorflow\\python\\eager\\execute.py:59\u001b[0m, in \u001b[0;36mquick_execute\u001b[1;34m(op_name, num_outputs, inputs, attrs, ctx, name)\u001b[0m\n\u001b[0;32m     57\u001b[0m \u001b[38;5;28;01mtry\u001b[39;00m:\n\u001b[0;32m     58\u001b[0m   ctx\u001b[38;5;241m.\u001b[39mensure_initialized()\n\u001b[1;32m---> 59\u001b[0m   tensors \u001b[38;5;241m=\u001b[39m \u001b[43mpywrap_tfe\u001b[49m\u001b[38;5;241;43m.\u001b[39;49m\u001b[43mTFE_Py_Execute\u001b[49m\u001b[43m(\u001b[49m\u001b[43mctx\u001b[49m\u001b[38;5;241;43m.\u001b[39;49m\u001b[43m_handle\u001b[49m\u001b[43m,\u001b[49m\u001b[43m \u001b[49m\u001b[43mdevice_name\u001b[49m\u001b[43m,\u001b[49m\u001b[43m \u001b[49m\u001b[43mop_name\u001b[49m\u001b[43m,\u001b[49m\n\u001b[0;32m     60\u001b[0m \u001b[43m                                      \u001b[49m\u001b[43minputs\u001b[49m\u001b[43m,\u001b[49m\u001b[43m \u001b[49m\u001b[43mattrs\u001b[49m\u001b[43m,\u001b[49m\u001b[43m \u001b[49m\u001b[43mnum_outputs\u001b[49m\u001b[43m)\u001b[49m\n\u001b[0;32m     61\u001b[0m \u001b[38;5;28;01mexcept\u001b[39;00m core\u001b[38;5;241m.\u001b[39m_NotOkStatusException \u001b[38;5;28;01mas\u001b[39;00m e:\n\u001b[0;32m     62\u001b[0m   \u001b[38;5;28;01mif\u001b[39;00m name \u001b[38;5;129;01mis\u001b[39;00m \u001b[38;5;129;01mnot\u001b[39;00m \u001b[38;5;28;01mNone\u001b[39;00m:\n",
      "\u001b[1;31mKeyboardInterrupt\u001b[0m: "
     ]
    }
   ],
   "source": [
    "rlrop = callbacks.ReduceLROnPlateau(monitor='val_categorical_accuracy', factor=0.2, patience=70)\n",
    "MODEL.compile(loss='categorical_crossentropy', optimizer='RMSProp', metrics=['categorical_accuracy'])\n",
    "mcp_save = callbacks.ModelCheckpoint('.mdl_wts_256.hdf5', save_best_only=True, monitor='val_loss', mode='min')\n",
    "model = MODEL.fit(X_train, y_train_class, epochs=100, batch_size=32, validation_data=(X_val, y_val_class), callbacks=[mcp_save])"
   ]
  },
  {
   "cell_type": "markdown",
   "id": "cffab7ac",
   "metadata": {
    "papermill": {
     "duration": 0.261644,
     "end_time": "2023-05-13T23:16:09.528525",
     "exception": false,
     "start_time": "2023-05-13T23:16:09.266881",
     "status": "completed"
    },
    "tags": []
   },
   "source": [
    "# 6. Evaluate and conclude\n",
    "\n",
    "Let's see how good are model is. "
   ]
  },
  {
   "cell_type": "code",
   "execution_count": 21,
   "id": "fde8b434",
   "metadata": {
    "execution": {
     "iopub.execute_input": "2023-05-13T23:16:10.043375Z",
     "iopub.status.busy": "2023-05-13T23:16:10.042282Z",
     "iopub.status.idle": "2023-05-13T23:16:10.048143Z",
     "shell.execute_reply": "2023-05-13T23:16:10.046990Z"
    },
    "papermill": {
     "duration": 0.266844,
     "end_time": "2023-05-13T23:16:10.050648",
     "exception": false,
     "start_time": "2023-05-13T23:16:09.783804",
     "status": "completed"
    },
    "tags": []
   },
   "outputs": [],
   "source": [
    "from sklearn.metrics import confusion_matrix"
   ]
  },
  {
   "cell_type": "code",
   "execution_count": 22,
   "id": "c6578667",
   "metadata": {
    "execution": {
     "iopub.execute_input": "2023-05-13T23:16:10.587765Z",
     "iopub.status.busy": "2023-05-13T23:16:10.586756Z",
     "iopub.status.idle": "2023-05-13T23:16:10.838107Z",
     "shell.execute_reply": "2023-05-13T23:16:10.837024Z"
    },
    "papermill": {
     "duration": 0.526159,
     "end_time": "2023-05-13T23:16:10.840685",
     "exception": false,
     "start_time": "2023-05-13T23:16:10.314526",
     "status": "completed"
    },
    "tags": []
   },
   "outputs": [
    {
     "data": {
      "image/png": "[encoded data removed]",
      "text/plain": [
       "<Figure size 1500x1500 with 1 Axes>"
      ]
     },
     "metadata": {},
     "output_type": "display_data"
    }
   ],
   "source": [
    "plt.figure(figsize=(5, 5)) \n",
    "plt.plot(model.history['loss'])\n",
    "plt.plot(model.history['val_loss'])\n",
    "plt.title('Loss for Train and Validation Sets')\n",
    "plt.ylabel('Loss') \n",
    "plt.xlabel('Epochs')\n",
    "plt.legend(['Training','Validation']) \n",
    "plt.show()"
   ]
  },
  {
   "cell_type": "code",
   "execution_count": 23,
   "id": "8a40ccb9",
   "metadata": {
    "execution": {
     "iopub.execute_input": "2023-05-13T23:16:11.362041Z",
     "iopub.status.busy": "2023-05-13T23:16:11.361628Z",
     "iopub.status.idle": "2023-05-13T23:16:11.602794Z",
     "shell.execute_reply": "2023-05-13T23:16:11.601159Z"
    },
    "papermill": {
     "duration": 0.505515,
     "end_time": "2023-05-13T23:16:11.605869",
     "exception": false,
     "start_time": "2023-05-13T23:16:11.100354",
     "status": "completed"
    },
    "tags": []
   },
   "outputs": [
    {
     "data": {
      "image/png": "[encoded data removed]",
      "text/plain": [
       "<Figure size 1500x1500 with 1 Axes>"
      ]
     },
     "metadata": {},
     "output_type": "display_data"
    }
   ],
   "source": [
    "plt.figure(figsize=(5, 5)) \n",
    "plt.plot(model.history['categorical_accuracy'])\n",
    "plt.plot(model.history['val_categorical_accuracy'])\n",
    "plt.ylabel('Accuracy') \n",
    "plt.xlabel('Epochs') \n",
    "plt.legend(['Training','Validation']) \n",
    "plt.show()"
   ]
  },
  {
   "cell_type": "markdown",
   "id": "533ac136",
   "metadata": {},
   "source": [
    "## 한글 음성 데이터에 대해 모델 평가"
   ]
  },
  {
   "cell_type": "code",
   "execution_count": 43,
   "id": "d55645ec",
   "metadata": {},
   "outputs": [],
   "source": [
    "df = pd.read_csv(\"datasets/emotion_test.csv\")"
   ]
  },
  {
   "cell_type": "code",
   "execution_count": 44,
   "id": "c4425be6",
   "metadata": {},
   "outputs": [],
   "source": [
    "df = df[[\"wav_id\",\"상황\"]]"
   ]
  },
  {
   "cell_type": "code",
   "execution_count": 45,
   "id": "31df4e5b",
   "metadata": {},
   "outputs": [
    {
     "data": {
      "text/html": [
       "<div>\n",
       "<style scoped>\n",
       "    .dataframe tbody tr th:only-of-type {\n",
       "        vertical-align: middle;\n",
       "    }\n",
       "\n",
       "    .dataframe tbody tr th {\n",
       "        vertical-align: top;\n",
       "    }\n",
       "\n",
       "    .dataframe thead th {\n",
       "        text-align: right;\n",
       "    }\n",
       "</style>\n",
       "<table border=\"1\" class=\"dataframe\">\n",
       "  <thead>\n",
       "    <tr style=\"text-align: right;\">\n",
       "      <th></th>\n",
       "      <th>wav_id</th>\n",
       "      <th>상황</th>\n",
       "    </tr>\n",
       "  </thead>\n",
       "  <tbody>\n",
       "    <tr>\n",
       "      <th>0</th>\n",
       "      <td>5f7940c59e04b149046cc19a</td>\n",
       "      <td>happiness</td>\n",
       "    </tr>\n",
       "    <tr>\n",
       "      <th>1</th>\n",
       "      <td>5f100cc8b140144dfcff4b66</td>\n",
       "      <td>anger</td>\n",
       "    </tr>\n",
       "    <tr>\n",
       "      <th>2</th>\n",
       "      <td>5f0a7b09b140144dfcff21a8</td>\n",
       "      <td>anger</td>\n",
       "    </tr>\n",
       "    <tr>\n",
       "      <th>3</th>\n",
       "      <td>5fbca5c6576e9378b67acf76</td>\n",
       "      <td>neutral</td>\n",
       "    </tr>\n",
       "    <tr>\n",
       "      <th>4</th>\n",
       "      <td>5f8da1949e04b149046cd695</td>\n",
       "      <td>happiness</td>\n",
       "    </tr>\n",
       "    <tr>\n",
       "      <th>...</th>\n",
       "      <td>...</td>\n",
       "      <td>...</td>\n",
       "    </tr>\n",
       "    <tr>\n",
       "      <th>8788</th>\n",
       "      <td>5f5ccadc3bd6941613f6d194</td>\n",
       "      <td>disgust</td>\n",
       "    </tr>\n",
       "    <tr>\n",
       "      <th>8789</th>\n",
       "      <td>5fb8dfcacb503578af9edd68</td>\n",
       "      <td>disgust</td>\n",
       "    </tr>\n",
       "    <tr>\n",
       "      <th>8790</th>\n",
       "      <td>5f5f82b92e23c7161accd230</td>\n",
       "      <td>happiness</td>\n",
       "    </tr>\n",
       "    <tr>\n",
       "      <th>8791</th>\n",
       "      <td>5e36a893ee8206179943c292</td>\n",
       "      <td>disgust</td>\n",
       "    </tr>\n",
       "    <tr>\n",
       "      <th>8792</th>\n",
       "      <td>5fb4985344697678c497aaf5</td>\n",
       "      <td>neutral</td>\n",
       "    </tr>\n",
       "  </tbody>\n",
       "</table>\n",
       "<p>8793 rows × 2 columns</p>\n",
       "</div>"
      ],
      "text/plain": [
       "                        wav_id         상황\n",
       "0     5f7940c59e04b149046cc19a  happiness\n",
       "1     5f100cc8b140144dfcff4b66      anger\n",
       "2     5f0a7b09b140144dfcff21a8      anger\n",
       "3     5fbca5c6576e9378b67acf76    neutral\n",
       "4     5f8da1949e04b149046cd695  happiness\n",
       "...                        ...        ...\n",
       "8788  5f5ccadc3bd6941613f6d194    disgust\n",
       "8789  5fb8dfcacb503578af9edd68    disgust\n",
       "8790  5f5f82b92e23c7161accd230  happiness\n",
       "8791  5e36a893ee8206179943c292    disgust\n",
       "8792  5fb4985344697678c497aaf5    neutral\n",
       "\n",
       "[8793 rows x 2 columns]"
      ]
     },
     "execution_count": 45,
     "metadata": {},
     "output_type": "execute_result"
    }
   ],
   "source": [
    "df"
   ]
  },
  {
   "cell_type": "code",
   "execution_count": 9,
   "id": "56e6aa69",
   "metadata": {},
   "outputs": [],
   "source": [
    "emotion_dic = {'anger': 0, 'angry': 0, 'disgust': 0, 'fear': 0, 'happiness': 1,\n",
    "                               'neutral': 1, 'sad': 2, 'sadness': 2, 'surprise': 6}\n",
    "\n",
    "def encode(label):\n",
    "    return emotion_dic.get(label)"
   ]
  },
  {
   "cell_type": "code",
   "execution_count": 8,
   "id": "b11180ff",
   "metadata": {},
   "outputs": [],
   "source": [
    "emotion_dic = {\n",
    "    'neutral' : 0,\n",
    "    'happy'   : 1,\n",
    "    'sad'     : 2, \n",
    "    'angry'   : 3, \n",
    "    'fear'    : 4, \n",
    "    'disgust' : 5\n",
    "}"
   ]
  },
  {
   "cell_type": "code",
   "execution_count": 53,
   "id": "2cc2ddb1",
   "metadata": {},
   "outputs": [],
   "source": [
    "def preprocess_audio(path):\n",
    "    _, sr = librosa.load(path)\n",
    "    raw_audio = AudioSegment.from_file(path)\n",
    "    \n",
    "    samples = np.array(raw_audio.get_array_of_samples(), dtype='float32')\n",
    "    trimmed, _ = librosa.effects.trim(samples, top_db=25)\n",
    "    if (len(trimmed) > 240000):\n",
    "        padded = trimmed[:240000]\n",
    "    else:\n",
    "        padded = np.pad(trimmed, (0, 240000-len(trimmed)), 'constant')\n",
    "    return padded, sr"
   ]
  },
  {
   "cell_type": "code",
   "execution_count": 54,
   "id": "f0350201",
   "metadata": {},
   "outputs": [],
   "source": [
    "zcr_list = []\n",
    "rms_list = []\n",
    "mfccs_list = []\n",
    "emotion_list = []\n",
    "\n",
    "FRAME_LENGTH = 2048\n",
    "HOP_LENGTH = 512\n",
    "\n",
    "i=0\n",
    "\n",
    "for row in df.itertuples(index=False):\n",
    "    try: \n",
    "        y, sr = preprocess_audio(\"datasets/emotion_audio_data/\"+row.wav_id+\".wav\")\n",
    "\n",
    "        zcr = librosa.feature.zero_crossing_rate(y, frame_length=FRAME_LENGTH, hop_length=HOP_LENGTH)\n",
    "        rms = librosa.feature.rms(y=y, frame_length=FRAME_LENGTH, hop_length=HOP_LENGTH)\n",
    "        mfccs = librosa.feature.mfcc(y=y, sr=sr, n_mfcc=13, hop_length=HOP_LENGTH)\n",
    "\n",
    "        zcr_list.append(zcr)\n",
    "        rms_list.append(rms)\n",
    "        mfccs_list.append(mfccs)\n",
    "\n",
    "        emotion_list.append(encode(row.상황))\n",
    "    except:\n",
    "        print(f\"Failed for path: {row.wav_id}\")"
   ]
  },
  {
   "cell_type": "code",
   "execution_count": 63,
   "id": "6fd4b841",
   "metadata": {},
   "outputs": [
    {
     "data": {
      "text/plain": [
       "array([ 1.00097656e-01,  6.08424225e+01,  4.22146545e+02,  1.33184509e+02,\n",
       "       -4.98242798e+01,  4.64323349e+01, -2.76751461e+01, -2.42266808e+01,\n",
       "       -2.36086273e+00, -2.23523769e+01, -8.99811745e+00,  3.85634537e+01,\n",
       "        1.77953491e+01,  1.12275869e-01, -4.44258118e+00], dtype=float32)"
      ]
     },
     "execution_count": 63,
     "metadata": {},
     "output_type": "execute_result"
    }
   ],
   "source": [
    "X[0][2]"
   ]
  },
  {
   "cell_type": "code",
   "execution_count": 55,
   "id": "93bc9013",
   "metadata": {},
   "outputs": [],
   "source": [
    "X = np.concatenate((\n",
    "    np.swapaxes(zcr_list, 1, 2), \n",
    "    np.swapaxes(rms_list, 1, 2), \n",
    "    np.swapaxes(mfccs_list, 1, 2)), \n",
    "    axis=2\n",
    ")\n",
    "X = X.astype('float32')\n",
    "\n",
    "y = np.asarray(emotion_list)\n",
    "y = np.expand_dims(y, axis=1).astype('int8')"
   ]
  },
  {
   "cell_type": "code",
   "execution_count": 56,
   "id": "b67ce90e",
   "metadata": {},
   "outputs": [
    {
     "name": "stdout",
     "output_type": "stream",
     "text": [
      "Model: \"sequential\"\n",
      "_________________________________________________________________\n",
      "Layer (type)                 Output Shape              Param #   \n",
      "=================================================================\n",
      "lstm (LSTM)                  (None, 469, 128)          73728     \n",
      "_________________________________________________________________\n",
      "lstm_1 (LSTM)                (None, 128)               131584    \n",
      "_________________________________________________________________\n",
      "dense (Dense)                (None, 7)                 903       \n",
      "=================================================================\n",
      "Total params: 206,215\n",
      "Trainable params: 206,215\n",
      "Non-trainable params: 0\n",
      "_________________________________________________________________\n",
      "None\n"
     ]
    }
   ],
   "source": [
    "MODEL = Sequential()\n",
    "MODEL.add(layers.LSTM(128, return_sequences=True, input_shape=(X.shape[1:3])))\n",
    "MODEL.add(layers.LSTM(128))\n",
    "MODEL.add(layers.Dense(7, activation='softmax'))\n",
    "\n",
    "print(MODEL.summary())"
   ]
  },
  {
   "cell_type": "code",
   "execution_count": 57,
   "id": "fdfd875a",
   "metadata": {},
   "outputs": [],
   "source": [
    "X_train, X_to_split, y_train, y_to_split = train_test_split(X, y, test_size=0.15, random_state=1)\n",
    "X_val, X_test, y_val, y_test = train_test_split(X_to_split, y_to_split, test_size=0.3, random_state=1)\n",
    "\n",
    "y_train_class = to_categorical(y_train, 7)\n",
    "y_val_class = to_categorical(y_val, 7)"
   ]
  },
  {
   "cell_type": "code",
   "execution_count": 58,
   "id": "cad332ac",
   "metadata": {},
   "outputs": [],
   "source": [
    "from keras.models import Sequential\n",
    "from keras import layers, optimizers, callbacks\n",
    "import keras"
   ]
  },
  {
   "cell_type": "code",
   "execution_count": 59,
   "id": "e17edb4d",
   "metadata": {},
   "outputs": [
    {
     "name": "stdout",
     "output_type": "stream",
     "text": [
      "Epoch 1/100\n",
      "234/234 [==============================] - 78s 325ms/step - loss: 1.7433 - categorical_accuracy: 0.3198 - val_loss: 1.7376 - val_categorical_accuracy: 0.2958\n",
      "Epoch 2/100\n",
      "234/234 [==============================] - 75s 323ms/step - loss: 1.7091 - categorical_accuracy: 0.3226 - val_loss: 1.7215 - val_categorical_accuracy: 0.3055\n",
      "Epoch 3/100\n",
      "234/234 [==============================] - 76s 325ms/step - loss: 1.7046 - categorical_accuracy: 0.3303 - val_loss: 1.7422 - val_categorical_accuracy: 0.3001\n",
      "Epoch 4/100\n",
      "234/234 [==============================] - 77s 329ms/step - loss: 1.6989 - categorical_accuracy: 0.3382 - val_loss: 1.7094 - val_categorical_accuracy: 0.3142\n",
      "Epoch 5/100\n",
      "234/234 [==============================] - 77s 330ms/step - loss: 1.6820 - categorical_accuracy: 0.3339 - val_loss: 1.7052 - val_categorical_accuracy: 0.3164\n",
      "Epoch 6/100\n",
      "234/234 [==============================] - 77s 329ms/step - loss: 1.6630 - categorical_accuracy: 0.3517 - val_loss: 1.7165 - val_categorical_accuracy: 0.3099\n",
      "Epoch 7/100\n",
      "234/234 [==============================] - 77s 331ms/step - loss: 1.6729 - categorical_accuracy: 0.3451 - val_loss: 1.7198 - val_categorical_accuracy: 0.3066\n",
      "Epoch 8/100\n",
      "234/234 [==============================] - 75s 323ms/step - loss: 1.6603 - categorical_accuracy: 0.3528 - val_loss: 1.7203 - val_categorical_accuracy: 0.3001\n",
      "Epoch 9/100\n",
      "234/234 [==============================] - 75s 322ms/step - loss: 1.6646 - categorical_accuracy: 0.3638 - val_loss: 1.7532 - val_categorical_accuracy: 0.3088\n",
      "Epoch 10/100\n",
      "234/234 [==============================] - 75s 320ms/step - loss: 1.6562 - categorical_accuracy: 0.3651 - val_loss: 1.7150 - val_categorical_accuracy: 0.3218\n",
      "Epoch 11/100\n",
      "234/234 [==============================] - 76s 325ms/step - loss: 1.6599 - categorical_accuracy: 0.3534 - val_loss: 1.7068 - val_categorical_accuracy: 0.3174\n",
      "Epoch 12/100\n",
      "234/234 [==============================] - 76s 325ms/step - loss: 1.6491 - categorical_accuracy: 0.3643 - val_loss: 1.7120 - val_categorical_accuracy: 0.2925\n",
      "Epoch 13/100\n",
      "234/234 [==============================] - 76s 323ms/step - loss: 1.6333 - categorical_accuracy: 0.3654 - val_loss: 1.7209 - val_categorical_accuracy: 0.2958\n",
      "Epoch 14/100\n",
      "234/234 [==============================] - 76s 325ms/step - loss: 1.6427 - categorical_accuracy: 0.3688 - val_loss: 1.7584 - val_categorical_accuracy: 0.2969\n",
      "Epoch 15/100\n",
      "234/234 [==============================] - 76s 325ms/step - loss: 1.6266 - categorical_accuracy: 0.3798 - val_loss: 1.7161 - val_categorical_accuracy: 0.3207\n",
      "Epoch 16/100\n",
      "234/234 [==============================] - 76s 326ms/step - loss: 1.6199 - categorical_accuracy: 0.3679 - val_loss: 1.7381 - val_categorical_accuracy: 0.3229\n",
      "Epoch 17/100\n",
      "234/234 [==============================] - 76s 324ms/step - loss: 1.6218 - categorical_accuracy: 0.3759 - val_loss: 1.7252 - val_categorical_accuracy: 0.3044\n",
      "Epoch 18/100\n",
      "234/234 [==============================] - 77s 328ms/step - loss: 1.6256 - categorical_accuracy: 0.3719 - val_loss: 1.7110 - val_categorical_accuracy: 0.3196\n",
      "Epoch 19/100\n",
      "234/234 [==============================] - 78s 333ms/step - loss: 1.6056 - categorical_accuracy: 0.3780 - val_loss: 1.7244 - val_categorical_accuracy: 0.3142\n",
      "Epoch 20/100\n",
      "234/234 [==============================] - 83s 353ms/step - loss: 1.5995 - categorical_accuracy: 0.3711 - val_loss: 1.7315 - val_categorical_accuracy: 0.3218\n",
      "Epoch 21/100\n",
      "234/234 [==============================] - 85s 364ms/step - loss: 1.6003 - categorical_accuracy: 0.3806 - val_loss: 1.7371 - val_categorical_accuracy: 0.3218\n",
      "Epoch 22/100\n",
      "234/234 [==============================] - 82s 350ms/step - loss: 1.5835 - categorical_accuracy: 0.3886 - val_loss: 1.7256 - val_categorical_accuracy: 0.3066\n",
      "Epoch 23/100\n",
      "234/234 [==============================] - 85s 365ms/step - loss: 1.5835 - categorical_accuracy: 0.3868 - val_loss: 1.7552 - val_categorical_accuracy: 0.3131\n",
      "Epoch 24/100\n",
      "234/234 [==============================] - 86s 368ms/step - loss: 1.5697 - categorical_accuracy: 0.3944 - val_loss: 1.7506 - val_categorical_accuracy: 0.3044\n",
      "Epoch 25/100\n",
      "234/234 [==============================] - 88s 375ms/step - loss: 1.5645 - categorical_accuracy: 0.4057 - val_loss: 1.7481 - val_categorical_accuracy: 0.3153\n",
      "Epoch 26/100\n",
      "234/234 [==============================] - 87s 371ms/step - loss: 1.5467 - categorical_accuracy: 0.4077 - val_loss: 1.7441 - val_categorical_accuracy: 0.3120\n",
      "Epoch 27/100\n",
      "234/234 [==============================] - 89s 381ms/step - loss: 1.5393 - categorical_accuracy: 0.4061 - val_loss: 1.7663 - val_categorical_accuracy: 0.3142\n",
      "Epoch 28/100\n",
      "234/234 [==============================] - 88s 377ms/step - loss: 1.5288 - categorical_accuracy: 0.4135 - val_loss: 1.7576 - val_categorical_accuracy: 0.3207\n",
      "Epoch 29/100\n",
      "234/234 [==============================] - 89s 379ms/step - loss: 1.5048 - categorical_accuracy: 0.4245 - val_loss: 1.8279 - val_categorical_accuracy: 0.3099\n",
      "Epoch 30/100\n",
      "234/234 [==============================] - 86s 366ms/step - loss: 1.5233 - categorical_accuracy: 0.4040 - val_loss: 1.7680 - val_categorical_accuracy: 0.3196\n",
      "Epoch 31/100\n",
      "234/234 [==============================] - 87s 370ms/step - loss: 1.5041 - categorical_accuracy: 0.4169 - val_loss: 1.7565 - val_categorical_accuracy: 0.3174\n",
      "Epoch 32/100\n",
      "234/234 [==============================] - 84s 360ms/step - loss: 1.5005 - categorical_accuracy: 0.4218 - val_loss: 1.7780 - val_categorical_accuracy: 0.3044\n",
      "Epoch 33/100\n",
      "234/234 [==============================] - 88s 376ms/step - loss: 1.4692 - categorical_accuracy: 0.4302 - val_loss: 1.7866 - val_categorical_accuracy: 0.3055\n",
      "Epoch 34/100\n",
      "132/234 [===============>..............] - ETA: 33s - loss: 1.4894 - categorical_accuracy: 0.4148"
     ]
    },
    {
     "ename": "KeyboardInterrupt",
     "evalue": "",
     "output_type": "error",
     "traceback": [
      "\u001b[1;31m---------------------------------------------------------------------------\u001b[0m",
      "\u001b[1;31mKeyboardInterrupt\u001b[0m                         Traceback (most recent call last)",
      "Input \u001b[1;32mIn [59]\u001b[0m, in \u001b[0;36m<cell line: 4>\u001b[1;34m()\u001b[0m\n\u001b[0;32m      2\u001b[0m MODEL\u001b[38;5;241m.\u001b[39mcompile(loss\u001b[38;5;241m=\u001b[39m\u001b[38;5;124m'\u001b[39m\u001b[38;5;124mcategorical_crossentropy\u001b[39m\u001b[38;5;124m'\u001b[39m, optimizer\u001b[38;5;241m=\u001b[39m\u001b[38;5;124m'\u001b[39m\u001b[38;5;124mRMSProp\u001b[39m\u001b[38;5;124m'\u001b[39m, metrics\u001b[38;5;241m=\u001b[39m[\u001b[38;5;124m'\u001b[39m\u001b[38;5;124mcategorical_accuracy\u001b[39m\u001b[38;5;124m'\u001b[39m])\n\u001b[0;32m      3\u001b[0m mcp_save \u001b[38;5;241m=\u001b[39m callbacks\u001b[38;5;241m.\u001b[39mModelCheckpoint(\u001b[38;5;124m'\u001b[39m\u001b[38;5;124m.mdl_wts_korean_128.hdf5\u001b[39m\u001b[38;5;124m'\u001b[39m, save_best_only\u001b[38;5;241m=\u001b[39m\u001b[38;5;28;01mTrue\u001b[39;00m, monitor\u001b[38;5;241m=\u001b[39m\u001b[38;5;124m'\u001b[39m\u001b[38;5;124mval_loss\u001b[39m\u001b[38;5;124m'\u001b[39m, mode\u001b[38;5;241m=\u001b[39m\u001b[38;5;124m'\u001b[39m\u001b[38;5;124mmin\u001b[39m\u001b[38;5;124m'\u001b[39m)\n\u001b[1;32m----> 4\u001b[0m model \u001b[38;5;241m=\u001b[39m \u001b[43mMODEL\u001b[49m\u001b[38;5;241;43m.\u001b[39;49m\u001b[43mfit\u001b[49m\u001b[43m(\u001b[49m\u001b[43mX_train\u001b[49m\u001b[43m,\u001b[49m\u001b[43m \u001b[49m\u001b[43my_train_class\u001b[49m\u001b[43m,\u001b[49m\u001b[43m \u001b[49m\u001b[43mepochs\u001b[49m\u001b[38;5;241;43m=\u001b[39;49m\u001b[38;5;241;43m100\u001b[39;49m\u001b[43m,\u001b[49m\u001b[43m \u001b[49m\u001b[43mbatch_size\u001b[49m\u001b[38;5;241;43m=\u001b[39;49m\u001b[38;5;241;43m32\u001b[39;49m\u001b[43m,\u001b[49m\u001b[43m \u001b[49m\u001b[43mvalidation_data\u001b[49m\u001b[38;5;241;43m=\u001b[39;49m\u001b[43m(\u001b[49m\u001b[43mX_val\u001b[49m\u001b[43m,\u001b[49m\u001b[43m \u001b[49m\u001b[43my_val_class\u001b[49m\u001b[43m)\u001b[49m\u001b[43m,\u001b[49m\u001b[43m \u001b[49m\u001b[43mcallbacks\u001b[49m\u001b[38;5;241;43m=\u001b[39;49m\u001b[43m[\u001b[49m\u001b[43mmcp_save\u001b[49m\u001b[43m]\u001b[49m\u001b[43m)\u001b[49m\n",
      "File \u001b[1;32m~\\anaconda3\\lib\\site-packages\\tensorflow\\python\\keras\\engine\\training.py:1100\u001b[0m, in \u001b[0;36mModel.fit\u001b[1;34m(self, x, y, batch_size, epochs, verbose, callbacks, validation_split, validation_data, shuffle, class_weight, sample_weight, initial_epoch, steps_per_epoch, validation_steps, validation_batch_size, validation_freq, max_queue_size, workers, use_multiprocessing)\u001b[0m\n\u001b[0;32m   1093\u001b[0m \u001b[38;5;28;01mwith\u001b[39;00m trace\u001b[38;5;241m.\u001b[39mTrace(\n\u001b[0;32m   1094\u001b[0m     \u001b[38;5;124m'\u001b[39m\u001b[38;5;124mtrain\u001b[39m\u001b[38;5;124m'\u001b[39m,\n\u001b[0;32m   1095\u001b[0m     epoch_num\u001b[38;5;241m=\u001b[39mepoch,\n\u001b[0;32m   1096\u001b[0m     step_num\u001b[38;5;241m=\u001b[39mstep,\n\u001b[0;32m   1097\u001b[0m     batch_size\u001b[38;5;241m=\u001b[39mbatch_size,\n\u001b[0;32m   1098\u001b[0m     _r\u001b[38;5;241m=\u001b[39m\u001b[38;5;241m1\u001b[39m):\n\u001b[0;32m   1099\u001b[0m   callbacks\u001b[38;5;241m.\u001b[39mon_train_batch_begin(step)\n\u001b[1;32m-> 1100\u001b[0m   tmp_logs \u001b[38;5;241m=\u001b[39m \u001b[38;5;28;43mself\u001b[39;49m\u001b[38;5;241;43m.\u001b[39;49m\u001b[43mtrain_function\u001b[49m\u001b[43m(\u001b[49m\u001b[43miterator\u001b[49m\u001b[43m)\u001b[49m\n\u001b[0;32m   1101\u001b[0m   \u001b[38;5;28;01mif\u001b[39;00m data_handler\u001b[38;5;241m.\u001b[39mshould_sync:\n\u001b[0;32m   1102\u001b[0m     context\u001b[38;5;241m.\u001b[39masync_wait()\n",
      "File \u001b[1;32m~\\anaconda3\\lib\\site-packages\\tensorflow\\python\\eager\\def_function.py:828\u001b[0m, in \u001b[0;36mFunction.__call__\u001b[1;34m(self, *args, **kwds)\u001b[0m\n\u001b[0;32m    826\u001b[0m tracing_count \u001b[38;5;241m=\u001b[39m \u001b[38;5;28mself\u001b[39m\u001b[38;5;241m.\u001b[39mexperimental_get_tracing_count()\n\u001b[0;32m    827\u001b[0m \u001b[38;5;28;01mwith\u001b[39;00m trace\u001b[38;5;241m.\u001b[39mTrace(\u001b[38;5;28mself\u001b[39m\u001b[38;5;241m.\u001b[39m_name) \u001b[38;5;28;01mas\u001b[39;00m tm:\n\u001b[1;32m--> 828\u001b[0m   result \u001b[38;5;241m=\u001b[39m \u001b[38;5;28;43mself\u001b[39;49m\u001b[38;5;241;43m.\u001b[39;49m\u001b[43m_call\u001b[49m\u001b[43m(\u001b[49m\u001b[38;5;241;43m*\u001b[39;49m\u001b[43margs\u001b[49m\u001b[43m,\u001b[49m\u001b[43m \u001b[49m\u001b[38;5;241;43m*\u001b[39;49m\u001b[38;5;241;43m*\u001b[39;49m\u001b[43mkwds\u001b[49m\u001b[43m)\u001b[49m\n\u001b[0;32m    829\u001b[0m   compiler \u001b[38;5;241m=\u001b[39m \u001b[38;5;124m\"\u001b[39m\u001b[38;5;124mxla\u001b[39m\u001b[38;5;124m\"\u001b[39m \u001b[38;5;28;01mif\u001b[39;00m \u001b[38;5;28mself\u001b[39m\u001b[38;5;241m.\u001b[39m_experimental_compile \u001b[38;5;28;01melse\u001b[39;00m \u001b[38;5;124m\"\u001b[39m\u001b[38;5;124mnonXla\u001b[39m\u001b[38;5;124m\"\u001b[39m\n\u001b[0;32m    830\u001b[0m   new_tracing_count \u001b[38;5;241m=\u001b[39m \u001b[38;5;28mself\u001b[39m\u001b[38;5;241m.\u001b[39mexperimental_get_tracing_count()\n",
      "File \u001b[1;32m~\\anaconda3\\lib\\site-packages\\tensorflow\\python\\eager\\def_function.py:855\u001b[0m, in \u001b[0;36mFunction._call\u001b[1;34m(self, *args, **kwds)\u001b[0m\n\u001b[0;32m    852\u001b[0m   \u001b[38;5;28mself\u001b[39m\u001b[38;5;241m.\u001b[39m_lock\u001b[38;5;241m.\u001b[39mrelease()\n\u001b[0;32m    853\u001b[0m   \u001b[38;5;66;03m# In this case we have created variables on the first call, so we run the\u001b[39;00m\n\u001b[0;32m    854\u001b[0m   \u001b[38;5;66;03m# defunned version which is guaranteed to never create variables.\u001b[39;00m\n\u001b[1;32m--> 855\u001b[0m   \u001b[38;5;28;01mreturn\u001b[39;00m \u001b[38;5;28;43mself\u001b[39;49m\u001b[38;5;241;43m.\u001b[39;49m\u001b[43m_stateless_fn\u001b[49m\u001b[43m(\u001b[49m\u001b[38;5;241;43m*\u001b[39;49m\u001b[43margs\u001b[49m\u001b[43m,\u001b[49m\u001b[43m \u001b[49m\u001b[38;5;241;43m*\u001b[39;49m\u001b[38;5;241;43m*\u001b[39;49m\u001b[43mkwds\u001b[49m\u001b[43m)\u001b[49m  \u001b[38;5;66;03m# pylint: disable=not-callable\u001b[39;00m\n\u001b[0;32m    856\u001b[0m \u001b[38;5;28;01melif\u001b[39;00m \u001b[38;5;28mself\u001b[39m\u001b[38;5;241m.\u001b[39m_stateful_fn \u001b[38;5;129;01mis\u001b[39;00m \u001b[38;5;129;01mnot\u001b[39;00m \u001b[38;5;28;01mNone\u001b[39;00m:\n\u001b[0;32m    857\u001b[0m   \u001b[38;5;66;03m# Release the lock early so that multiple threads can perform the call\u001b[39;00m\n\u001b[0;32m    858\u001b[0m   \u001b[38;5;66;03m# in parallel.\u001b[39;00m\n\u001b[0;32m    859\u001b[0m   \u001b[38;5;28mself\u001b[39m\u001b[38;5;241m.\u001b[39m_lock\u001b[38;5;241m.\u001b[39mrelease()\n",
      "File \u001b[1;32m~\\anaconda3\\lib\\site-packages\\tensorflow\\python\\eager\\function.py:2942\u001b[0m, in \u001b[0;36mFunction.__call__\u001b[1;34m(self, *args, **kwargs)\u001b[0m\n\u001b[0;32m   2939\u001b[0m \u001b[38;5;28;01mwith\u001b[39;00m \u001b[38;5;28mself\u001b[39m\u001b[38;5;241m.\u001b[39m_lock:\n\u001b[0;32m   2940\u001b[0m   (graph_function,\n\u001b[0;32m   2941\u001b[0m    filtered_flat_args) \u001b[38;5;241m=\u001b[39m \u001b[38;5;28mself\u001b[39m\u001b[38;5;241m.\u001b[39m_maybe_define_function(args, kwargs)\n\u001b[1;32m-> 2942\u001b[0m \u001b[38;5;28;01mreturn\u001b[39;00m \u001b[43mgraph_function\u001b[49m\u001b[38;5;241;43m.\u001b[39;49m\u001b[43m_call_flat\u001b[49m\u001b[43m(\u001b[49m\n\u001b[0;32m   2943\u001b[0m \u001b[43m    \u001b[49m\u001b[43mfiltered_flat_args\u001b[49m\u001b[43m,\u001b[49m\u001b[43m \u001b[49m\u001b[43mcaptured_inputs\u001b[49m\u001b[38;5;241;43m=\u001b[39;49m\u001b[43mgraph_function\u001b[49m\u001b[38;5;241;43m.\u001b[39;49m\u001b[43mcaptured_inputs\u001b[49m\u001b[43m)\u001b[49m\n",
      "File \u001b[1;32m~\\anaconda3\\lib\\site-packages\\tensorflow\\python\\eager\\function.py:1918\u001b[0m, in \u001b[0;36mConcreteFunction._call_flat\u001b[1;34m(self, args, captured_inputs, cancellation_manager)\u001b[0m\n\u001b[0;32m   1914\u001b[0m possible_gradient_type \u001b[38;5;241m=\u001b[39m gradients_util\u001b[38;5;241m.\u001b[39mPossibleTapeGradientTypes(args)\n\u001b[0;32m   1915\u001b[0m \u001b[38;5;28;01mif\u001b[39;00m (possible_gradient_type \u001b[38;5;241m==\u001b[39m gradients_util\u001b[38;5;241m.\u001b[39mPOSSIBLE_GRADIENT_TYPES_NONE\n\u001b[0;32m   1916\u001b[0m     \u001b[38;5;129;01mand\u001b[39;00m executing_eagerly):\n\u001b[0;32m   1917\u001b[0m   \u001b[38;5;66;03m# No tape is watching; skip to running the function.\u001b[39;00m\n\u001b[1;32m-> 1918\u001b[0m   \u001b[38;5;28;01mreturn\u001b[39;00m \u001b[38;5;28mself\u001b[39m\u001b[38;5;241m.\u001b[39m_build_call_outputs(\u001b[38;5;28;43mself\u001b[39;49m\u001b[38;5;241;43m.\u001b[39;49m\u001b[43m_inference_function\u001b[49m\u001b[38;5;241;43m.\u001b[39;49m\u001b[43mcall\u001b[49m\u001b[43m(\u001b[49m\n\u001b[0;32m   1919\u001b[0m \u001b[43m      \u001b[49m\u001b[43mctx\u001b[49m\u001b[43m,\u001b[49m\u001b[43m \u001b[49m\u001b[43margs\u001b[49m\u001b[43m,\u001b[49m\u001b[43m \u001b[49m\u001b[43mcancellation_manager\u001b[49m\u001b[38;5;241;43m=\u001b[39;49m\u001b[43mcancellation_manager\u001b[49m\u001b[43m)\u001b[49m)\n\u001b[0;32m   1920\u001b[0m forward_backward \u001b[38;5;241m=\u001b[39m \u001b[38;5;28mself\u001b[39m\u001b[38;5;241m.\u001b[39m_select_forward_and_backward_functions(\n\u001b[0;32m   1921\u001b[0m     args,\n\u001b[0;32m   1922\u001b[0m     possible_gradient_type,\n\u001b[0;32m   1923\u001b[0m     executing_eagerly)\n\u001b[0;32m   1924\u001b[0m forward_function, args_with_tangents \u001b[38;5;241m=\u001b[39m forward_backward\u001b[38;5;241m.\u001b[39mforward()\n",
      "File \u001b[1;32m~\\anaconda3\\lib\\site-packages\\tensorflow\\python\\eager\\function.py:555\u001b[0m, in \u001b[0;36m_EagerDefinedFunction.call\u001b[1;34m(self, ctx, args, cancellation_manager)\u001b[0m\n\u001b[0;32m    553\u001b[0m \u001b[38;5;28;01mwith\u001b[39;00m _InterpolateFunctionError(\u001b[38;5;28mself\u001b[39m):\n\u001b[0;32m    554\u001b[0m   \u001b[38;5;28;01mif\u001b[39;00m cancellation_manager \u001b[38;5;129;01mis\u001b[39;00m \u001b[38;5;28;01mNone\u001b[39;00m:\n\u001b[1;32m--> 555\u001b[0m     outputs \u001b[38;5;241m=\u001b[39m \u001b[43mexecute\u001b[49m\u001b[38;5;241;43m.\u001b[39;49m\u001b[43mexecute\u001b[49m\u001b[43m(\u001b[49m\n\u001b[0;32m    556\u001b[0m \u001b[43m        \u001b[49m\u001b[38;5;28;43mstr\u001b[39;49m\u001b[43m(\u001b[49m\u001b[38;5;28;43mself\u001b[39;49m\u001b[38;5;241;43m.\u001b[39;49m\u001b[43msignature\u001b[49m\u001b[38;5;241;43m.\u001b[39;49m\u001b[43mname\u001b[49m\u001b[43m)\u001b[49m\u001b[43m,\u001b[49m\n\u001b[0;32m    557\u001b[0m \u001b[43m        \u001b[49m\u001b[43mnum_outputs\u001b[49m\u001b[38;5;241;43m=\u001b[39;49m\u001b[38;5;28;43mself\u001b[39;49m\u001b[38;5;241;43m.\u001b[39;49m\u001b[43m_num_outputs\u001b[49m\u001b[43m,\u001b[49m\n\u001b[0;32m    558\u001b[0m \u001b[43m        \u001b[49m\u001b[43minputs\u001b[49m\u001b[38;5;241;43m=\u001b[39;49m\u001b[43margs\u001b[49m\u001b[43m,\u001b[49m\n\u001b[0;32m    559\u001b[0m \u001b[43m        \u001b[49m\u001b[43mattrs\u001b[49m\u001b[38;5;241;43m=\u001b[39;49m\u001b[43mattrs\u001b[49m\u001b[43m,\u001b[49m\n\u001b[0;32m    560\u001b[0m \u001b[43m        \u001b[49m\u001b[43mctx\u001b[49m\u001b[38;5;241;43m=\u001b[39;49m\u001b[43mctx\u001b[49m\u001b[43m)\u001b[49m\n\u001b[0;32m    561\u001b[0m   \u001b[38;5;28;01melse\u001b[39;00m:\n\u001b[0;32m    562\u001b[0m     outputs \u001b[38;5;241m=\u001b[39m execute\u001b[38;5;241m.\u001b[39mexecute_with_cancellation(\n\u001b[0;32m    563\u001b[0m         \u001b[38;5;28mstr\u001b[39m(\u001b[38;5;28mself\u001b[39m\u001b[38;5;241m.\u001b[39msignature\u001b[38;5;241m.\u001b[39mname),\n\u001b[0;32m    564\u001b[0m         num_outputs\u001b[38;5;241m=\u001b[39m\u001b[38;5;28mself\u001b[39m\u001b[38;5;241m.\u001b[39m_num_outputs,\n\u001b[1;32m   (...)\u001b[0m\n\u001b[0;32m    567\u001b[0m         ctx\u001b[38;5;241m=\u001b[39mctx,\n\u001b[0;32m    568\u001b[0m         cancellation_manager\u001b[38;5;241m=\u001b[39mcancellation_manager)\n",
      "File \u001b[1;32m~\\anaconda3\\lib\\site-packages\\tensorflow\\python\\eager\\execute.py:59\u001b[0m, in \u001b[0;36mquick_execute\u001b[1;34m(op_name, num_outputs, inputs, attrs, ctx, name)\u001b[0m\n\u001b[0;32m     57\u001b[0m \u001b[38;5;28;01mtry\u001b[39;00m:\n\u001b[0;32m     58\u001b[0m   ctx\u001b[38;5;241m.\u001b[39mensure_initialized()\n\u001b[1;32m---> 59\u001b[0m   tensors \u001b[38;5;241m=\u001b[39m \u001b[43mpywrap_tfe\u001b[49m\u001b[38;5;241;43m.\u001b[39;49m\u001b[43mTFE_Py_Execute\u001b[49m\u001b[43m(\u001b[49m\u001b[43mctx\u001b[49m\u001b[38;5;241;43m.\u001b[39;49m\u001b[43m_handle\u001b[49m\u001b[43m,\u001b[49m\u001b[43m \u001b[49m\u001b[43mdevice_name\u001b[49m\u001b[43m,\u001b[49m\u001b[43m \u001b[49m\u001b[43mop_name\u001b[49m\u001b[43m,\u001b[49m\n\u001b[0;32m     60\u001b[0m \u001b[43m                                      \u001b[49m\u001b[43minputs\u001b[49m\u001b[43m,\u001b[49m\u001b[43m \u001b[49m\u001b[43mattrs\u001b[49m\u001b[43m,\u001b[49m\u001b[43m \u001b[49m\u001b[43mnum_outputs\u001b[49m\u001b[43m)\u001b[49m\n\u001b[0;32m     61\u001b[0m \u001b[38;5;28;01mexcept\u001b[39;00m core\u001b[38;5;241m.\u001b[39m_NotOkStatusException \u001b[38;5;28;01mas\u001b[39;00m e:\n\u001b[0;32m     62\u001b[0m   \u001b[38;5;28;01mif\u001b[39;00m name \u001b[38;5;129;01mis\u001b[39;00m \u001b[38;5;129;01mnot\u001b[39;00m \u001b[38;5;28;01mNone\u001b[39;00m:\n",
      "\u001b[1;31mKeyboardInterrupt\u001b[0m: "
     ]
    }
   ],
   "source": [
    "rlrop = callbacks.ReduceLROnPlateau(monitor='val_categorical_accuracy', factor=0.2, patience=70)\n",
    "MODEL.compile(loss='categorical_crossentropy', optimizer='RMSProp', metrics=['categorical_accuracy'])\n",
    "mcp_save = callbacks.ModelCheckpoint('.mdl_wts_korean_128.hdf5', save_best_only=True, monitor='val_loss', mode='min')\n",
    "model = MODEL.fit(X_train, y_train_class, epochs=100, batch_size=32, validation_data=(X_val, y_val_class), callbacks=[mcp_save])"
   ]
  },
  {
   "cell_type": "code",
   "execution_count": 32,
   "id": "44ac3013",
   "metadata": {},
   "outputs": [],
   "source": [
    "model = keras.models.load_model('.mdl_wts_256.hdf5')"
   ]
  },
  {
   "cell_type": "code",
   "execution_count": 33,
   "id": "bf6c90c2",
   "metadata": {},
   "outputs": [],
   "source": [
    "result = model.predict(X)"
   ]
  },
  {
   "cell_type": "code",
   "execution_count": 34,
   "id": "b00eb16c",
   "metadata": {},
   "outputs": [
    {
     "data": {
      "text/plain": [
       "array([0, 0, 0, ..., 2, 0, 2], dtype=int64)"
      ]
     },
     "execution_count": 34,
     "metadata": {},
     "output_type": "execute_result"
    }
   ],
   "source": [
    "np.argmax(result,axis=1)"
   ]
  },
  {
   "cell_type": "code",
   "execution_count": 35,
   "id": "1f2c8bbd",
   "metadata": {},
   "outputs": [
    {
     "data": {
      "text/plain": [
       "array([0, 0, 0, ..., 2, 2, 2], dtype=int8)"
      ]
     },
     "execution_count": 35,
     "metadata": {},
     "output_type": "execute_result"
    }
   ],
   "source": [
    "y.squeeze()"
   ]
  },
  {
   "cell_type": "code",
   "execution_count": 36,
   "id": "168dd92f",
   "metadata": {},
   "outputs": [
    {
     "data": {
      "text/plain": [
       "3230"
      ]
     },
     "execution_count": 36,
     "metadata": {},
     "output_type": "execute_result"
    }
   ],
   "source": [
    "list(np.argmax(result,axis=1)==y.squeeze()).count(True)"
   ]
  },
  {
   "cell_type": "code",
   "execution_count": 37,
   "id": "c56b2097",
   "metadata": {},
   "outputs": [
    {
     "data": {
      "text/plain": [
       "0.7457861925652274"
      ]
     },
     "execution_count": 37,
     "metadata": {},
     "output_type": "execute_result"
    }
   ],
   "source": [
    "3230/len(y)"
   ]
  },
  {
   "cell_type": "code",
   "execution_count": 58,
   "id": "22523213",
   "metadata": {},
   "outputs": [
    {
     "data": {
      "text/plain": [
       "0.16666666666666666"
      ]
     },
     "execution_count": 58,
     "metadata": {},
     "output_type": "execute_result"
    }
   ],
   "source": [
    "1/6"
   ]
  },
  {
   "cell_type": "code",
   "execution_count": 61,
   "id": "27ee5062",
   "metadata": {},
   "outputs": [],
   "source": [
    "tmpX = X.copy()\n",
    "tmpy = y.copy()"
   ]
  },
  {
   "cell_type": "code",
   "execution_count": 108,
   "id": "4e26cb8b",
   "metadata": {},
   "outputs": [],
   "source": [
    "result = model.predict(tmpX)"
   ]
  },
  {
   "cell_type": "code",
   "execution_count": 111,
   "id": "86b12697",
   "metadata": {},
   "outputs": [
    {
     "data": {
      "text/plain": [
       "array([[1.4858578e-02, 6.7407161e-02, 2.4383131e-01, 1.9385165e-02,\n",
       "        6.0388696e-01, 5.0630808e-02],\n",
       "       [2.7565801e-04, 7.4705612e-03, 9.7697347e-01, 3.5484384e-03,\n",
       "        1.0574976e-02, 1.1567977e-03],\n",
       "       [8.4776329e-03, 7.5393939e-01, 7.9144322e-04, 1.9908617e-01,\n",
       "        3.4652557e-02, 3.0528065e-03],\n",
       "       ...,\n",
       "       [4.2038937e-03, 4.8345429e-01, 5.2626086e-03, 2.4919488e-01,\n",
       "        3.1412321e-03, 2.5474310e-01],\n",
       "       [3.0523732e-01, 3.6091286e-01, 1.3623715e-03, 2.1210983e-02,\n",
       "        5.4534893e-03, 3.0582297e-01],\n",
       "       [3.9429528e-07, 6.4288014e-07, 9.9993658e-01, 2.8139443e-06,\n",
       "        3.2948926e-06, 5.6180652e-05]], dtype=float32)"
      ]
     },
     "execution_count": 111,
     "metadata": {},
     "output_type": "execute_result"
    }
   ],
   "source": [
    "result"
   ]
  },
  {
   "cell_type": "code",
   "execution_count": 112,
   "id": "00ddef09",
   "metadata": {},
   "outputs": [
    {
     "data": {
      "text/plain": [
       "array([4, 2, 1, 3, 1, 1, 4, 2, 1, 1], dtype=int64)"
      ]
     },
     "execution_count": 112,
     "metadata": {},
     "output_type": "execute_result"
    }
   ],
   "source": [
    "np.argmax(result,axis=1)[:10]"
   ]
  },
  {
   "cell_type": "code",
   "execution_count": 113,
   "id": "d9a93897",
   "metadata": {},
   "outputs": [
    {
     "data": {
      "text/plain": [
       "array([[1],\n",
       "       [3],\n",
       "       [3],\n",
       "       [0],\n",
       "       [1],\n",
       "       [2],\n",
       "       [1],\n",
       "       [2],\n",
       "       [3],\n",
       "       [3]], dtype=int8)"
      ]
     },
     "execution_count": 113,
     "metadata": {},
     "output_type": "execute_result"
    }
   ],
   "source": [
    "tmpy[:10]"
   ]
  },
  {
   "cell_type": "code",
   "execution_count": 115,
   "id": "d89195da",
   "metadata": {},
   "outputs": [
    {
     "data": {
      "text/plain": [
       "1430"
      ]
     },
     "execution_count": 115,
     "metadata": {},
     "output_type": "execute_result"
    }
   ],
   "source": [
    "list(np.argmax(result,axis=1)==tmpy.squeeze()).count(True)"
   ]
  },
  {
   "cell_type": "code",
   "execution_count": 128,
   "id": "016635a8",
   "metadata": {},
   "outputs": [],
   "source": [
    "model1 = keras.models.load_model('.mdl_wts_korean_128.hdf5')"
   ]
  },
  {
   "cell_type": "code",
   "execution_count": 129,
   "id": "e3700561",
   "metadata": {},
   "outputs": [],
   "source": [
    "result = model1.predict(tmpX)"
   ]
  },
  {
   "cell_type": "code",
   "execution_count": 130,
   "id": "1a204a84",
   "metadata": {},
   "outputs": [
    {
     "data": {
      "text/plain": [
       "array([1, 2, 3, 5, 3, 2, 0, 1, 2, 1], dtype=int64)"
      ]
     },
     "execution_count": 130,
     "metadata": {},
     "output_type": "execute_result"
    }
   ],
   "source": [
    "np.argmax(result,axis=1)[:10]"
   ]
  },
  {
   "cell_type": "code",
   "execution_count": 133,
   "id": "041c8e44",
   "metadata": {},
   "outputs": [
    {
     "data": {
      "text/plain": [
       "0.40334638661445354"
      ]
     },
     "execution_count": 133,
     "metadata": {},
     "output_type": "execute_result"
    }
   ],
   "source": [
    "list(np.argmax(result,axis=1)==tmpy.squeeze()).count(True) / len(tmpy)"
   ]
  },
  {
   "cell_type": "code",
   "execution_count": 135,
   "id": "50c50d0c",
   "metadata": {},
   "outputs": [],
   "source": [
    "X_train, X_to_split, y_train, y_to_split = train_test_split(tmpX, tmpy, test_size=0.15, random_state=1)\n",
    "X_val, X_test, y_val, y_test = train_test_split(X_to_split, y_to_split, test_size=0.3, random_state=1)\n",
    "\n",
    "y_train_class = to_categorical(y_train, 7)\n",
    "y_val_class = to_categorical(y_val, 7)"
   ]
  },
  {
   "cell_type": "code",
   "execution_count": 136,
   "id": "5ca0368c",
   "metadata": {},
   "outputs": [
    {
     "name": "stdout",
     "output_type": "stream",
     "text": [
      "Epoch 1/100\n",
      "224/224 [==============================] - 149s 658ms/step - loss: 1.6573 - categorical_accuracy: 0.3107 - val_loss: 1.6125 - val_categorical_accuracy: 0.3390\n",
      "Epoch 2/100\n",
      "224/224 [==============================] - 145s 648ms/step - loss: 1.6131 - categorical_accuracy: 0.3347 - val_loss: 1.6064 - val_categorical_accuracy: 0.3492\n",
      "Epoch 3/100\n",
      "224/224 [==============================] - 144s 644ms/step - loss: 1.6167 - categorical_accuracy: 0.3408 - val_loss: 1.5964 - val_categorical_accuracy: 0.3390\n",
      "Epoch 4/100\n",
      "224/224 [==============================] - 143s 639ms/step - loss: 1.5907 - categorical_accuracy: 0.3527 - val_loss: 1.5908 - val_categorical_accuracy: 0.3446\n",
      "Epoch 5/100\n",
      "224/224 [==============================] - 144s 641ms/step - loss: 1.5931 - categorical_accuracy: 0.3500 - val_loss: 1.5931 - val_categorical_accuracy: 0.3424\n",
      "Epoch 6/100\n",
      "224/224 [==============================] - 142s 633ms/step - loss: 1.5870 - categorical_accuracy: 0.3677 - val_loss: 1.6218 - val_categorical_accuracy: 0.3379\n",
      "Epoch 7/100\n",
      "224/224 [==============================] - 144s 643ms/step - loss: 1.5814 - categorical_accuracy: 0.3708 - val_loss: 1.5962 - val_categorical_accuracy: 0.3525\n",
      "Epoch 8/100\n",
      "224/224 [==============================] - 143s 641ms/step - loss: 1.5863 - categorical_accuracy: 0.3570 - val_loss: 1.5963 - val_categorical_accuracy: 0.3412\n",
      "Epoch 9/100\n",
      "224/224 [==============================] - 143s 641ms/step - loss: 1.5823 - categorical_accuracy: 0.3477 - val_loss: 1.5931 - val_categorical_accuracy: 0.3559\n",
      "Epoch 10/100\n",
      "224/224 [==============================] - 144s 642ms/step - loss: 1.5862 - categorical_accuracy: 0.3678 - val_loss: 1.5958 - val_categorical_accuracy: 0.3537\n",
      "Epoch 11/100\n",
      "224/224 [==============================] - 142s 635ms/step - loss: 1.5798 - categorical_accuracy: 0.3541 - val_loss: 1.6085 - val_categorical_accuracy: 0.3559\n",
      "Epoch 12/100\n",
      "224/224 [==============================] - 144s 643ms/step - loss: 1.5626 - categorical_accuracy: 0.3629 - val_loss: 1.5924 - val_categorical_accuracy: 0.3672\n",
      "Epoch 13/100\n",
      "224/224 [==============================] - 143s 638ms/step - loss: 1.5647 - categorical_accuracy: 0.3659 - val_loss: 1.6024 - val_categorical_accuracy: 0.3401\n",
      "Epoch 14/100\n",
      "224/224 [==============================] - 144s 643ms/step - loss: 1.5579 - categorical_accuracy: 0.3721 - val_loss: 1.5903 - val_categorical_accuracy: 0.3616\n",
      "Epoch 15/100\n",
      "224/224 [==============================] - 144s 641ms/step - loss: 1.5585 - categorical_accuracy: 0.3755 - val_loss: 1.5773 - val_categorical_accuracy: 0.3627\n",
      "Epoch 16/100\n",
      "224/224 [==============================] - 143s 638ms/step - loss: 1.5539 - categorical_accuracy: 0.3748 - val_loss: 1.6177 - val_categorical_accuracy: 0.3571\n",
      "Epoch 17/100\n",
      "224/224 [==============================] - 144s 642ms/step - loss: 1.5499 - categorical_accuracy: 0.3667 - val_loss: 1.5985 - val_categorical_accuracy: 0.3480\n",
      "Epoch 18/100\n",
      "224/224 [==============================] - 144s 642ms/step - loss: 1.5514 - categorical_accuracy: 0.3717 - val_loss: 1.5990 - val_categorical_accuracy: 0.3559\n",
      "Epoch 19/100\n",
      "224/224 [==============================] - 143s 640ms/step - loss: 1.5475 - categorical_accuracy: 0.3692 - val_loss: 1.5943 - val_categorical_accuracy: 0.3819\n",
      "Epoch 20/100\n",
      "224/224 [==============================] - 143s 639ms/step - loss: 1.5222 - categorical_accuracy: 0.3956 - val_loss: 1.5959 - val_categorical_accuracy: 0.3469\n",
      "Epoch 21/100\n",
      "224/224 [==============================] - 142s 634ms/step - loss: 1.5421 - categorical_accuracy: 0.3836 - val_loss: 1.5835 - val_categorical_accuracy: 0.3672\n",
      "Epoch 22/100\n",
      "224/224 [==============================] - 141s 630ms/step - loss: 1.5361 - categorical_accuracy: 0.3787 - val_loss: 1.6100 - val_categorical_accuracy: 0.3571\n",
      "Epoch 23/100\n",
      "224/224 [==============================] - 141s 631ms/step - loss: 1.5129 - categorical_accuracy: 0.3924 - val_loss: 1.6056 - val_categorical_accuracy: 0.3367\n",
      "Epoch 24/100\n",
      "224/224 [==============================] - 142s 635ms/step - loss: 1.5148 - categorical_accuracy: 0.3815 - val_loss: 1.6103 - val_categorical_accuracy: 0.3593\n",
      "Epoch 25/100\n",
      "224/224 [==============================] - 141s 630ms/step - loss: 1.5019 - categorical_accuracy: 0.3947 - val_loss: 1.6356 - val_categorical_accuracy: 0.3503\n",
      "Epoch 26/100\n",
      "224/224 [==============================] - 141s 631ms/step - loss: 1.4920 - categorical_accuracy: 0.4109 - val_loss: 1.6127 - val_categorical_accuracy: 0.3650\n",
      "Epoch 27/100\n",
      "224/224 [==============================] - 141s 630ms/step - loss: 1.4880 - categorical_accuracy: 0.4084 - val_loss: 1.6329 - val_categorical_accuracy: 0.3435\n",
      "Epoch 28/100\n",
      "224/224 [==============================] - 142s 633ms/step - loss: 1.4983 - categorical_accuracy: 0.3942 - val_loss: 1.6149 - val_categorical_accuracy: 0.3503\n",
      "Epoch 29/100\n",
      "224/224 [==============================] - 144s 645ms/step - loss: 1.4889 - categorical_accuracy: 0.4007 - val_loss: 1.5989 - val_categorical_accuracy: 0.3763\n",
      "Epoch 30/100\n",
      "224/224 [==============================] - 145s 646ms/step - loss: 1.4711 - categorical_accuracy: 0.3924 - val_loss: 1.6229 - val_categorical_accuracy: 0.3503\n",
      "Epoch 31/100\n",
      "224/224 [==============================] - 141s 630ms/step - loss: 1.4545 - categorical_accuracy: 0.4209 - val_loss: 1.6137 - val_categorical_accuracy: 0.3650\n",
      "Epoch 32/100\n",
      "224/224 [==============================] - 140s 625ms/step - loss: 1.4381 - categorical_accuracy: 0.4201 - val_loss: 1.6099 - val_categorical_accuracy: 0.3650\n",
      "Epoch 33/100\n",
      "224/224 [==============================] - 141s 628ms/step - loss: 1.4445 - categorical_accuracy: 0.4155 - val_loss: 1.6020 - val_categorical_accuracy: 0.3616\n",
      "Epoch 34/100\n",
      "224/224 [==============================] - 141s 630ms/step - loss: 1.4221 - categorical_accuracy: 0.4350 - val_loss: 1.6113 - val_categorical_accuracy: 0.3785\n",
      "Epoch 35/100\n",
      "224/224 [==============================] - 141s 628ms/step - loss: 1.4318 - categorical_accuracy: 0.4255 - val_loss: 1.6457 - val_categorical_accuracy: 0.3763\n",
      "Epoch 36/100\n",
      "224/224 [==============================] - 151s 673ms/step - loss: 1.4295 - categorical_accuracy: 0.4267 - val_loss: 1.6382 - val_categorical_accuracy: 0.3559\n",
      "Epoch 37/100\n",
      "224/224 [==============================] - 144s 644ms/step - loss: 1.3995 - categorical_accuracy: 0.4353 - val_loss: 1.6072 - val_categorical_accuracy: 0.3853\n",
      "Epoch 38/100\n",
      "224/224 [==============================] - 139s 621ms/step - loss: 1.3761 - categorical_accuracy: 0.4514 - val_loss: 1.6183 - val_categorical_accuracy: 0.3910\n",
      "Epoch 39/100\n",
      "224/224 [==============================] - 140s 625ms/step - loss: 1.3710 - categorical_accuracy: 0.4515 - val_loss: 1.6428 - val_categorical_accuracy: 0.3785\n",
      "Epoch 40/100\n",
      "224/224 [==============================] - 141s 632ms/step - loss: 1.3767 - categorical_accuracy: 0.4410 - val_loss: 1.6322 - val_categorical_accuracy: 0.3695\n",
      "Epoch 41/100\n",
      "224/224 [==============================] - 138s 618ms/step - loss: 1.3555 - categorical_accuracy: 0.4535 - val_loss: 1.6856 - val_categorical_accuracy: 0.3559\n",
      "Epoch 42/100\n",
      "224/224 [==============================] - 138s 617ms/step - loss: 1.3546 - categorical_accuracy: 0.4615 - val_loss: 1.6356 - val_categorical_accuracy: 0.3672\n",
      "Epoch 43/100\n",
      "224/224 [==============================] - 141s 629ms/step - loss: 1.3296 - categorical_accuracy: 0.4693 - val_loss: 1.7043 - val_categorical_accuracy: 0.3559\n",
      "Epoch 44/100\n",
      "224/224 [==============================] - 138s 618ms/step - loss: 1.3231 - categorical_accuracy: 0.4725 - val_loss: 1.6509 - val_categorical_accuracy: 0.3537\n",
      "Epoch 45/100\n",
      "224/224 [==============================] - 139s 619ms/step - loss: 1.2983 - categorical_accuracy: 0.4849 - val_loss: 1.6779 - val_categorical_accuracy: 0.3650\n",
      "Epoch 46/100\n",
      "224/224 [==============================] - 138s 616ms/step - loss: 1.2915 - categorical_accuracy: 0.4837 - val_loss: 1.6389 - val_categorical_accuracy: 0.3684\n",
      "Epoch 47/100\n",
      "224/224 [==============================] - 138s 618ms/step - loss: 1.2818 - categorical_accuracy: 0.4815 - val_loss: 1.6694 - val_categorical_accuracy: 0.3819\n",
      "Epoch 48/100\n",
      "224/224 [==============================] - 139s 619ms/step - loss: 1.2599 - categorical_accuracy: 0.5036 - val_loss: 1.6524 - val_categorical_accuracy: 0.3763\n"
     ]
    },
    {
     "name": "stdout",
     "output_type": "stream",
     "text": [
      "Epoch 49/100\n",
      "224/224 [==============================] - 138s 618ms/step - loss: 1.2469 - categorical_accuracy: 0.5002 - val_loss: 1.6657 - val_categorical_accuracy: 0.3808\n",
      "Epoch 50/100\n",
      "224/224 [==============================] - 139s 619ms/step - loss: 1.2545 - categorical_accuracy: 0.4923 - val_loss: 1.7419 - val_categorical_accuracy: 0.3593\n",
      "Epoch 51/100\n",
      "224/224 [==============================] - 143s 641ms/step - loss: 1.2158 - categorical_accuracy: 0.5130 - val_loss: 1.7812 - val_categorical_accuracy: 0.3525\n",
      "Epoch 52/100\n",
      "224/224 [==============================] - 141s 629ms/step - loss: 1.2251 - categorical_accuracy: 0.5170 - val_loss: 1.7718 - val_categorical_accuracy: 0.3435\n",
      "Epoch 53/100\n",
      "224/224 [==============================] - 142s 636ms/step - loss: 1.2006 - categorical_accuracy: 0.5263 - val_loss: 1.7786 - val_categorical_accuracy: 0.3616\n",
      "Epoch 54/100\n",
      "224/224 [==============================] - 145s 645ms/step - loss: 1.1977 - categorical_accuracy: 0.5165 - val_loss: 1.7746 - val_categorical_accuracy: 0.3446\n",
      "Epoch 55/100\n",
      "224/224 [==============================] - 144s 642ms/step - loss: 1.1905 - categorical_accuracy: 0.5322 - val_loss: 1.7677 - val_categorical_accuracy: 0.3695\n",
      "Epoch 56/100\n",
      "224/224 [==============================] - 143s 640ms/step - loss: 1.1804 - categorical_accuracy: 0.5359 - val_loss: 1.8229 - val_categorical_accuracy: 0.3503\n",
      "Epoch 57/100\n",
      "224/224 [==============================] - 147s 655ms/step - loss: 1.1544 - categorical_accuracy: 0.5418 - val_loss: 1.8138 - val_categorical_accuracy: 0.3492\n",
      "Epoch 58/100\n",
      "224/224 [==============================] - 143s 639ms/step - loss: 1.1680 - categorical_accuracy: 0.5372 - val_loss: 1.8070 - val_categorical_accuracy: 0.3605\n",
      "Epoch 59/100\n",
      "224/224 [==============================] - 146s 652ms/step - loss: 1.1570 - categorical_accuracy: 0.5481 - val_loss: 1.8135 - val_categorical_accuracy: 0.3469\n",
      "Epoch 60/100\n",
      "224/224 [==============================] - 144s 644ms/step - loss: 1.1297 - categorical_accuracy: 0.5563 - val_loss: 1.9240 - val_categorical_accuracy: 0.3232\n",
      "Epoch 61/100\n",
      "105/224 [=============>................] - ETA: 1:10 - loss: 1.1381 - categorical_accuracy: 0.5536"
     ]
    },
    {
     "ename": "KeyboardInterrupt",
     "evalue": "",
     "output_type": "error",
     "traceback": [
      "\u001b[1;31m---------------------------------------------------------------------------\u001b[0m",
      "\u001b[1;31mKeyboardInterrupt\u001b[0m                         Traceback (most recent call last)",
      "Input \u001b[1;32mIn [136]\u001b[0m, in \u001b[0;36m<cell line: 4>\u001b[1;34m()\u001b[0m\n\u001b[0;32m      2\u001b[0m MODEL\u001b[38;5;241m.\u001b[39mcompile(loss\u001b[38;5;241m=\u001b[39m\u001b[38;5;124m'\u001b[39m\u001b[38;5;124mcategorical_crossentropy\u001b[39m\u001b[38;5;124m'\u001b[39m, optimizer\u001b[38;5;241m=\u001b[39m\u001b[38;5;124m'\u001b[39m\u001b[38;5;124mRMSProp\u001b[39m\u001b[38;5;124m'\u001b[39m, metrics\u001b[38;5;241m=\u001b[39m[\u001b[38;5;124m'\u001b[39m\u001b[38;5;124mcategorical_accuracy\u001b[39m\u001b[38;5;124m'\u001b[39m])\n\u001b[0;32m      3\u001b[0m mcp_save \u001b[38;5;241m=\u001b[39m callbacks\u001b[38;5;241m.\u001b[39mModelCheckpoint(\u001b[38;5;124m'\u001b[39m\u001b[38;5;124m.mdl_wts_korean_128.hdf5\u001b[39m\u001b[38;5;124m'\u001b[39m, save_best_only\u001b[38;5;241m=\u001b[39m\u001b[38;5;28;01mTrue\u001b[39;00m, monitor\u001b[38;5;241m=\u001b[39m\u001b[38;5;124m'\u001b[39m\u001b[38;5;124mval_loss\u001b[39m\u001b[38;5;124m'\u001b[39m, mode\u001b[38;5;241m=\u001b[39m\u001b[38;5;124m'\u001b[39m\u001b[38;5;124mmin\u001b[39m\u001b[38;5;124m'\u001b[39m)\n\u001b[1;32m----> 4\u001b[0m model \u001b[38;5;241m=\u001b[39m \u001b[43mMODEL\u001b[49m\u001b[38;5;241;43m.\u001b[39;49m\u001b[43mfit\u001b[49m\u001b[43m(\u001b[49m\u001b[43mX_train\u001b[49m\u001b[43m,\u001b[49m\u001b[43m \u001b[49m\u001b[43my_train_class\u001b[49m\u001b[43m,\u001b[49m\u001b[43m \u001b[49m\u001b[43mepochs\u001b[49m\u001b[38;5;241;43m=\u001b[39;49m\u001b[38;5;241;43m100\u001b[39;49m\u001b[43m,\u001b[49m\u001b[43m \u001b[49m\u001b[43mbatch_size\u001b[49m\u001b[38;5;241;43m=\u001b[39;49m\u001b[38;5;241;43m32\u001b[39;49m\u001b[43m,\u001b[49m\u001b[43m \u001b[49m\u001b[43mvalidation_data\u001b[49m\u001b[38;5;241;43m=\u001b[39;49m\u001b[43m(\u001b[49m\u001b[43mX_val\u001b[49m\u001b[43m,\u001b[49m\u001b[43m \u001b[49m\u001b[43my_val_class\u001b[49m\u001b[43m)\u001b[49m\u001b[43m,\u001b[49m\u001b[43m \u001b[49m\u001b[43mcallbacks\u001b[49m\u001b[38;5;241;43m=\u001b[39;49m\u001b[43m[\u001b[49m\u001b[43mmcp_save\u001b[49m\u001b[43m]\u001b[49m\u001b[43m)\u001b[49m\n",
      "File \u001b[1;32m~\\anaconda3\\lib\\site-packages\\tensorflow\\python\\keras\\engine\\training.py:1100\u001b[0m, in \u001b[0;36mModel.fit\u001b[1;34m(self, x, y, batch_size, epochs, verbose, callbacks, validation_split, validation_data, shuffle, class_weight, sample_weight, initial_epoch, steps_per_epoch, validation_steps, validation_batch_size, validation_freq, max_queue_size, workers, use_multiprocessing)\u001b[0m\n\u001b[0;32m   1093\u001b[0m \u001b[38;5;28;01mwith\u001b[39;00m trace\u001b[38;5;241m.\u001b[39mTrace(\n\u001b[0;32m   1094\u001b[0m     \u001b[38;5;124m'\u001b[39m\u001b[38;5;124mtrain\u001b[39m\u001b[38;5;124m'\u001b[39m,\n\u001b[0;32m   1095\u001b[0m     epoch_num\u001b[38;5;241m=\u001b[39mepoch,\n\u001b[0;32m   1096\u001b[0m     step_num\u001b[38;5;241m=\u001b[39mstep,\n\u001b[0;32m   1097\u001b[0m     batch_size\u001b[38;5;241m=\u001b[39mbatch_size,\n\u001b[0;32m   1098\u001b[0m     _r\u001b[38;5;241m=\u001b[39m\u001b[38;5;241m1\u001b[39m):\n\u001b[0;32m   1099\u001b[0m   callbacks\u001b[38;5;241m.\u001b[39mon_train_batch_begin(step)\n\u001b[1;32m-> 1100\u001b[0m   tmp_logs \u001b[38;5;241m=\u001b[39m \u001b[38;5;28;43mself\u001b[39;49m\u001b[38;5;241;43m.\u001b[39;49m\u001b[43mtrain_function\u001b[49m\u001b[43m(\u001b[49m\u001b[43miterator\u001b[49m\u001b[43m)\u001b[49m\n\u001b[0;32m   1101\u001b[0m   \u001b[38;5;28;01mif\u001b[39;00m data_handler\u001b[38;5;241m.\u001b[39mshould_sync:\n\u001b[0;32m   1102\u001b[0m     context\u001b[38;5;241m.\u001b[39masync_wait()\n",
      "File \u001b[1;32m~\\anaconda3\\lib\\site-packages\\tensorflow\\python\\eager\\def_function.py:828\u001b[0m, in \u001b[0;36mFunction.__call__\u001b[1;34m(self, *args, **kwds)\u001b[0m\n\u001b[0;32m    826\u001b[0m tracing_count \u001b[38;5;241m=\u001b[39m \u001b[38;5;28mself\u001b[39m\u001b[38;5;241m.\u001b[39mexperimental_get_tracing_count()\n\u001b[0;32m    827\u001b[0m \u001b[38;5;28;01mwith\u001b[39;00m trace\u001b[38;5;241m.\u001b[39mTrace(\u001b[38;5;28mself\u001b[39m\u001b[38;5;241m.\u001b[39m_name) \u001b[38;5;28;01mas\u001b[39;00m tm:\n\u001b[1;32m--> 828\u001b[0m   result \u001b[38;5;241m=\u001b[39m \u001b[38;5;28;43mself\u001b[39;49m\u001b[38;5;241;43m.\u001b[39;49m\u001b[43m_call\u001b[49m\u001b[43m(\u001b[49m\u001b[38;5;241;43m*\u001b[39;49m\u001b[43margs\u001b[49m\u001b[43m,\u001b[49m\u001b[43m \u001b[49m\u001b[38;5;241;43m*\u001b[39;49m\u001b[38;5;241;43m*\u001b[39;49m\u001b[43mkwds\u001b[49m\u001b[43m)\u001b[49m\n\u001b[0;32m    829\u001b[0m   compiler \u001b[38;5;241m=\u001b[39m \u001b[38;5;124m\"\u001b[39m\u001b[38;5;124mxla\u001b[39m\u001b[38;5;124m\"\u001b[39m \u001b[38;5;28;01mif\u001b[39;00m \u001b[38;5;28mself\u001b[39m\u001b[38;5;241m.\u001b[39m_experimental_compile \u001b[38;5;28;01melse\u001b[39;00m \u001b[38;5;124m\"\u001b[39m\u001b[38;5;124mnonXla\u001b[39m\u001b[38;5;124m\"\u001b[39m\n\u001b[0;32m    830\u001b[0m   new_tracing_count \u001b[38;5;241m=\u001b[39m \u001b[38;5;28mself\u001b[39m\u001b[38;5;241m.\u001b[39mexperimental_get_tracing_count()\n",
      "File \u001b[1;32m~\\anaconda3\\lib\\site-packages\\tensorflow\\python\\eager\\def_function.py:855\u001b[0m, in \u001b[0;36mFunction._call\u001b[1;34m(self, *args, **kwds)\u001b[0m\n\u001b[0;32m    852\u001b[0m   \u001b[38;5;28mself\u001b[39m\u001b[38;5;241m.\u001b[39m_lock\u001b[38;5;241m.\u001b[39mrelease()\n\u001b[0;32m    853\u001b[0m   \u001b[38;5;66;03m# In this case we have created variables on the first call, so we run the\u001b[39;00m\n\u001b[0;32m    854\u001b[0m   \u001b[38;5;66;03m# defunned version which is guaranteed to never create variables.\u001b[39;00m\n\u001b[1;32m--> 855\u001b[0m   \u001b[38;5;28;01mreturn\u001b[39;00m \u001b[38;5;28;43mself\u001b[39;49m\u001b[38;5;241;43m.\u001b[39;49m\u001b[43m_stateless_fn\u001b[49m\u001b[43m(\u001b[49m\u001b[38;5;241;43m*\u001b[39;49m\u001b[43margs\u001b[49m\u001b[43m,\u001b[49m\u001b[43m \u001b[49m\u001b[38;5;241;43m*\u001b[39;49m\u001b[38;5;241;43m*\u001b[39;49m\u001b[43mkwds\u001b[49m\u001b[43m)\u001b[49m  \u001b[38;5;66;03m# pylint: disable=not-callable\u001b[39;00m\n\u001b[0;32m    856\u001b[0m \u001b[38;5;28;01melif\u001b[39;00m \u001b[38;5;28mself\u001b[39m\u001b[38;5;241m.\u001b[39m_stateful_fn \u001b[38;5;129;01mis\u001b[39;00m \u001b[38;5;129;01mnot\u001b[39;00m \u001b[38;5;28;01mNone\u001b[39;00m:\n\u001b[0;32m    857\u001b[0m   \u001b[38;5;66;03m# Release the lock early so that multiple threads can perform the call\u001b[39;00m\n\u001b[0;32m    858\u001b[0m   \u001b[38;5;66;03m# in parallel.\u001b[39;00m\n\u001b[0;32m    859\u001b[0m   \u001b[38;5;28mself\u001b[39m\u001b[38;5;241m.\u001b[39m_lock\u001b[38;5;241m.\u001b[39mrelease()\n",
      "File \u001b[1;32m~\\anaconda3\\lib\\site-packages\\tensorflow\\python\\eager\\function.py:2942\u001b[0m, in \u001b[0;36mFunction.__call__\u001b[1;34m(self, *args, **kwargs)\u001b[0m\n\u001b[0;32m   2939\u001b[0m \u001b[38;5;28;01mwith\u001b[39;00m \u001b[38;5;28mself\u001b[39m\u001b[38;5;241m.\u001b[39m_lock:\n\u001b[0;32m   2940\u001b[0m   (graph_function,\n\u001b[0;32m   2941\u001b[0m    filtered_flat_args) \u001b[38;5;241m=\u001b[39m \u001b[38;5;28mself\u001b[39m\u001b[38;5;241m.\u001b[39m_maybe_define_function(args, kwargs)\n\u001b[1;32m-> 2942\u001b[0m \u001b[38;5;28;01mreturn\u001b[39;00m \u001b[43mgraph_function\u001b[49m\u001b[38;5;241;43m.\u001b[39;49m\u001b[43m_call_flat\u001b[49m\u001b[43m(\u001b[49m\n\u001b[0;32m   2943\u001b[0m \u001b[43m    \u001b[49m\u001b[43mfiltered_flat_args\u001b[49m\u001b[43m,\u001b[49m\u001b[43m \u001b[49m\u001b[43mcaptured_inputs\u001b[49m\u001b[38;5;241;43m=\u001b[39;49m\u001b[43mgraph_function\u001b[49m\u001b[38;5;241;43m.\u001b[39;49m\u001b[43mcaptured_inputs\u001b[49m\u001b[43m)\u001b[49m\n",
      "File \u001b[1;32m~\\anaconda3\\lib\\site-packages\\tensorflow\\python\\eager\\function.py:1918\u001b[0m, in \u001b[0;36mConcreteFunction._call_flat\u001b[1;34m(self, args, captured_inputs, cancellation_manager)\u001b[0m\n\u001b[0;32m   1914\u001b[0m possible_gradient_type \u001b[38;5;241m=\u001b[39m gradients_util\u001b[38;5;241m.\u001b[39mPossibleTapeGradientTypes(args)\n\u001b[0;32m   1915\u001b[0m \u001b[38;5;28;01mif\u001b[39;00m (possible_gradient_type \u001b[38;5;241m==\u001b[39m gradients_util\u001b[38;5;241m.\u001b[39mPOSSIBLE_GRADIENT_TYPES_NONE\n\u001b[0;32m   1916\u001b[0m     \u001b[38;5;129;01mand\u001b[39;00m executing_eagerly):\n\u001b[0;32m   1917\u001b[0m   \u001b[38;5;66;03m# No tape is watching; skip to running the function.\u001b[39;00m\n\u001b[1;32m-> 1918\u001b[0m   \u001b[38;5;28;01mreturn\u001b[39;00m \u001b[38;5;28mself\u001b[39m\u001b[38;5;241m.\u001b[39m_build_call_outputs(\u001b[38;5;28;43mself\u001b[39;49m\u001b[38;5;241;43m.\u001b[39;49m\u001b[43m_inference_function\u001b[49m\u001b[38;5;241;43m.\u001b[39;49m\u001b[43mcall\u001b[49m\u001b[43m(\u001b[49m\n\u001b[0;32m   1919\u001b[0m \u001b[43m      \u001b[49m\u001b[43mctx\u001b[49m\u001b[43m,\u001b[49m\u001b[43m \u001b[49m\u001b[43margs\u001b[49m\u001b[43m,\u001b[49m\u001b[43m \u001b[49m\u001b[43mcancellation_manager\u001b[49m\u001b[38;5;241;43m=\u001b[39;49m\u001b[43mcancellation_manager\u001b[49m\u001b[43m)\u001b[49m)\n\u001b[0;32m   1920\u001b[0m forward_backward \u001b[38;5;241m=\u001b[39m \u001b[38;5;28mself\u001b[39m\u001b[38;5;241m.\u001b[39m_select_forward_and_backward_functions(\n\u001b[0;32m   1921\u001b[0m     args,\n\u001b[0;32m   1922\u001b[0m     possible_gradient_type,\n\u001b[0;32m   1923\u001b[0m     executing_eagerly)\n\u001b[0;32m   1924\u001b[0m forward_function, args_with_tangents \u001b[38;5;241m=\u001b[39m forward_backward\u001b[38;5;241m.\u001b[39mforward()\n",
      "File \u001b[1;32m~\\anaconda3\\lib\\site-packages\\tensorflow\\python\\eager\\function.py:555\u001b[0m, in \u001b[0;36m_EagerDefinedFunction.call\u001b[1;34m(self, ctx, args, cancellation_manager)\u001b[0m\n\u001b[0;32m    553\u001b[0m \u001b[38;5;28;01mwith\u001b[39;00m _InterpolateFunctionError(\u001b[38;5;28mself\u001b[39m):\n\u001b[0;32m    554\u001b[0m   \u001b[38;5;28;01mif\u001b[39;00m cancellation_manager \u001b[38;5;129;01mis\u001b[39;00m \u001b[38;5;28;01mNone\u001b[39;00m:\n\u001b[1;32m--> 555\u001b[0m     outputs \u001b[38;5;241m=\u001b[39m \u001b[43mexecute\u001b[49m\u001b[38;5;241;43m.\u001b[39;49m\u001b[43mexecute\u001b[49m\u001b[43m(\u001b[49m\n\u001b[0;32m    556\u001b[0m \u001b[43m        \u001b[49m\u001b[38;5;28;43mstr\u001b[39;49m\u001b[43m(\u001b[49m\u001b[38;5;28;43mself\u001b[39;49m\u001b[38;5;241;43m.\u001b[39;49m\u001b[43msignature\u001b[49m\u001b[38;5;241;43m.\u001b[39;49m\u001b[43mname\u001b[49m\u001b[43m)\u001b[49m\u001b[43m,\u001b[49m\n\u001b[0;32m    557\u001b[0m \u001b[43m        \u001b[49m\u001b[43mnum_outputs\u001b[49m\u001b[38;5;241;43m=\u001b[39;49m\u001b[38;5;28;43mself\u001b[39;49m\u001b[38;5;241;43m.\u001b[39;49m\u001b[43m_num_outputs\u001b[49m\u001b[43m,\u001b[49m\n\u001b[0;32m    558\u001b[0m \u001b[43m        \u001b[49m\u001b[43minputs\u001b[49m\u001b[38;5;241;43m=\u001b[39;49m\u001b[43margs\u001b[49m\u001b[43m,\u001b[49m\n\u001b[0;32m    559\u001b[0m \u001b[43m        \u001b[49m\u001b[43mattrs\u001b[49m\u001b[38;5;241;43m=\u001b[39;49m\u001b[43mattrs\u001b[49m\u001b[43m,\u001b[49m\n\u001b[0;32m    560\u001b[0m \u001b[43m        \u001b[49m\u001b[43mctx\u001b[49m\u001b[38;5;241;43m=\u001b[39;49m\u001b[43mctx\u001b[49m\u001b[43m)\u001b[49m\n\u001b[0;32m    561\u001b[0m   \u001b[38;5;28;01melse\u001b[39;00m:\n\u001b[0;32m    562\u001b[0m     outputs \u001b[38;5;241m=\u001b[39m execute\u001b[38;5;241m.\u001b[39mexecute_with_cancellation(\n\u001b[0;32m    563\u001b[0m         \u001b[38;5;28mstr\u001b[39m(\u001b[38;5;28mself\u001b[39m\u001b[38;5;241m.\u001b[39msignature\u001b[38;5;241m.\u001b[39mname),\n\u001b[0;32m    564\u001b[0m         num_outputs\u001b[38;5;241m=\u001b[39m\u001b[38;5;28mself\u001b[39m\u001b[38;5;241m.\u001b[39m_num_outputs,\n\u001b[1;32m   (...)\u001b[0m\n\u001b[0;32m    567\u001b[0m         ctx\u001b[38;5;241m=\u001b[39mctx,\n\u001b[0;32m    568\u001b[0m         cancellation_manager\u001b[38;5;241m=\u001b[39mcancellation_manager)\n",
      "File \u001b[1;32m~\\anaconda3\\lib\\site-packages\\tensorflow\\python\\eager\\execute.py:59\u001b[0m, in \u001b[0;36mquick_execute\u001b[1;34m(op_name, num_outputs, inputs, attrs, ctx, name)\u001b[0m\n\u001b[0;32m     57\u001b[0m \u001b[38;5;28;01mtry\u001b[39;00m:\n\u001b[0;32m     58\u001b[0m   ctx\u001b[38;5;241m.\u001b[39mensure_initialized()\n\u001b[1;32m---> 59\u001b[0m   tensors \u001b[38;5;241m=\u001b[39m \u001b[43mpywrap_tfe\u001b[49m\u001b[38;5;241;43m.\u001b[39;49m\u001b[43mTFE_Py_Execute\u001b[49m\u001b[43m(\u001b[49m\u001b[43mctx\u001b[49m\u001b[38;5;241;43m.\u001b[39;49m\u001b[43m_handle\u001b[49m\u001b[43m,\u001b[49m\u001b[43m \u001b[49m\u001b[43mdevice_name\u001b[49m\u001b[43m,\u001b[49m\u001b[43m \u001b[49m\u001b[43mop_name\u001b[49m\u001b[43m,\u001b[49m\n\u001b[0;32m     60\u001b[0m \u001b[43m                                      \u001b[49m\u001b[43minputs\u001b[49m\u001b[43m,\u001b[49m\u001b[43m \u001b[49m\u001b[43mattrs\u001b[49m\u001b[43m,\u001b[49m\u001b[43m \u001b[49m\u001b[43mnum_outputs\u001b[49m\u001b[43m)\u001b[49m\n\u001b[0;32m     61\u001b[0m \u001b[38;5;28;01mexcept\u001b[39;00m core\u001b[38;5;241m.\u001b[39m_NotOkStatusException \u001b[38;5;28;01mas\u001b[39;00m e:\n\u001b[0;32m     62\u001b[0m   \u001b[38;5;28;01mif\u001b[39;00m name \u001b[38;5;129;01mis\u001b[39;00m \u001b[38;5;129;01mnot\u001b[39;00m \u001b[38;5;28;01mNone\u001b[39;00m:\n",
      "\u001b[1;31mKeyboardInterrupt\u001b[0m: "
     ]
    }
   ],
   "source": [
    "rlrop = callbacks.ReduceLROnPlateau(monitor='val_categorical_accuracy', factor=0.2, patience=70)\n",
    "MODEL.compile(loss='categorical_crossentropy', optimizer='RMSProp', metrics=['categorical_accuracy'])\n",
    "mcp_save = callbacks.ModelCheckpoint('.mdl_wts_korean_128.hdf5', save_best_only=True, monitor='val_loss', mode='min')\n",
    "model = MODEL.fit(X_train, y_train_class, epochs=100, batch_size=32, validation_data=(X_val, y_val_class), callbacks=[mcp_save])"
   ]
  },
  {
   "cell_type": "code",
   "execution_count": 38,
   "id": "4bf2ff27",
   "metadata": {},
   "outputs": [],
   "source": [
    "t_z = []\n",
    "t_r = []\n",
    "t_m = []\n",
    "t_e = []\n",
    "\n",
    "FRAME_LENGTH = 2048\n",
    "HOP_LENGTH = 512\n",
    "\n",
    "for row in [[\"datasets/test/angry_1.wav\",\"angry\"],[\"datasets/test/sad_1.wav\",\"sad\"]]:\n",
    "    try: \n",
    "        y, sr = preprocess_audio(row[0])\n",
    "\n",
    "        zcr = librosa.feature.zero_crossing_rate(y, frame_length=FRAME_LENGTH, hop_length=HOP_LENGTH)\n",
    "        rms = librosa.feature.rms(y=y, frame_length=FRAME_LENGTH, hop_length=HOP_LENGTH)\n",
    "        mfccs = librosa.feature.mfcc(y=y, sr=sr, n_mfcc=13, hop_length=HOP_LENGTH)\n",
    "\n",
    "        t_z.append(zcr)\n",
    "        t_r.append(rms)\n",
    "        t_m.append(mfccs)\n",
    "\n",
    "        t_e.append(encode(row[1]))\n",
    "    except:\n",
    "        print(f\"Failed for path: {row[0]}\")"
   ]
  },
  {
   "cell_type": "code",
   "execution_count": 39,
   "id": "f8dc3560",
   "metadata": {},
   "outputs": [],
   "source": [
    "t_X = np.concatenate((\n",
    "    np.swapaxes(t_z, 1, 2), \n",
    "    np.swapaxes(t_r, 1, 2), \n",
    "    np.swapaxes(t_m, 1, 2)), \n",
    "    axis=2\n",
    ")\n",
    "t_X = t_X.astype('float32')\n",
    "\n",
    "t_y = np.asarray(t_e)\n",
    "t_y = np.expand_dims(y, axis=1).astype('int8')"
   ]
  },
  {
   "cell_type": "code",
   "execution_count": 148,
   "id": "1c1a2850",
   "metadata": {},
   "outputs": [],
   "source": [
    "model = keras.models.load_model('.mdl_wts_256.hdf5')"
   ]
  },
  {
   "cell_type": "code",
   "execution_count": 40,
   "id": "29cc4ca7",
   "metadata": {},
   "outputs": [],
   "source": [
    "t__r = model.predict_classes(t_X)"
   ]
  },
  {
   "cell_type": "code",
   "execution_count": 41,
   "id": "93cede0f",
   "metadata": {},
   "outputs": [
    {
     "data": {
      "text/plain": [
       "array([5, 5], dtype=int64)"
      ]
     },
     "execution_count": 41,
     "metadata": {},
     "output_type": "execute_result"
    }
   ],
   "source": [
    "t__r"
   ]
  },
  {
   "cell_type": "code",
   "execution_count": 42,
   "id": "cd64ae7a",
   "metadata": {},
   "outputs": [
    {
     "data": {
      "text/plain": [
       "[3, 2]"
      ]
     },
     "execution_count": 42,
     "metadata": {},
     "output_type": "execute_result"
    }
   ],
   "source": [
    "t_e"
   ]
  },
  {
   "cell_type": "code",
   "execution_count": 74,
   "id": "b70c69e1",
   "metadata": {},
   "outputs": [
    {
     "data": {
      "text/html": [
       "<div>\n",
       "<style scoped>\n",
       "    .dataframe tbody tr th:only-of-type {\n",
       "        vertical-align: middle;\n",
       "    }\n",
       "\n",
       "    .dataframe tbody tr th {\n",
       "        vertical-align: top;\n",
       "    }\n",
       "\n",
       "    .dataframe thead th {\n",
       "        text-align: right;\n",
       "    }\n",
       "</style>\n",
       "<table border=\"1\" class=\"dataframe\">\n",
       "  <thead>\n",
       "    <tr style=\"text-align: right;\">\n",
       "      <th></th>\n",
       "      <th>wav_id</th>\n",
       "      <th>상황</th>\n",
       "    </tr>\n",
       "  </thead>\n",
       "  <tbody>\n",
       "    <tr>\n",
       "      <th>0</th>\n",
       "      <td>5f7940c59e04b149046cc19a</td>\n",
       "      <td>happiness</td>\n",
       "    </tr>\n",
       "    <tr>\n",
       "      <th>1</th>\n",
       "      <td>5f100cc8b140144dfcff4b66</td>\n",
       "      <td>anger</td>\n",
       "    </tr>\n",
       "    <tr>\n",
       "      <th>2</th>\n",
       "      <td>5f0a7b09b140144dfcff21a8</td>\n",
       "      <td>anger</td>\n",
       "    </tr>\n",
       "    <tr>\n",
       "      <th>3</th>\n",
       "      <td>5fbca5c6576e9378b67acf76</td>\n",
       "      <td>neutral</td>\n",
       "    </tr>\n",
       "    <tr>\n",
       "      <th>4</th>\n",
       "      <td>5f8da1949e04b149046cd695</td>\n",
       "      <td>happiness</td>\n",
       "    </tr>\n",
       "    <tr>\n",
       "      <th>5</th>\n",
       "      <td>5efab05c8bbcd61f551d2b4c</td>\n",
       "      <td>sad</td>\n",
       "    </tr>\n",
       "    <tr>\n",
       "      <th>6</th>\n",
       "      <td>5f886cc6111dfd48d40fe460</td>\n",
       "      <td>happiness</td>\n",
       "    </tr>\n",
       "    <tr>\n",
       "      <th>7</th>\n",
       "      <td>5f6d55539e04b149046cbcbe</td>\n",
       "      <td>sadness</td>\n",
       "    </tr>\n",
       "    <tr>\n",
       "      <th>8</th>\n",
       "      <td>5e337d0e5807b852d9e04c6b</td>\n",
       "      <td>anger</td>\n",
       "    </tr>\n",
       "    <tr>\n",
       "      <th>9</th>\n",
       "      <td>5fba399ccb503578af9ee17a</td>\n",
       "      <td>surprise</td>\n",
       "    </tr>\n",
       "    <tr>\n",
       "      <th>10</th>\n",
       "      <td>5f8dadfef8fac448cc0a79ed</td>\n",
       "      <td>angry</td>\n",
       "    </tr>\n",
       "    <tr>\n",
       "      <th>11</th>\n",
       "      <td>5e4969d88849ac3aacea5507</td>\n",
       "      <td>sad</td>\n",
       "    </tr>\n",
       "    <tr>\n",
       "      <th>12</th>\n",
       "      <td>5f0277afb140144dfcfed88d</td>\n",
       "      <td>sad</td>\n",
       "    </tr>\n",
       "    <tr>\n",
       "      <th>13</th>\n",
       "      <td>5e36352abacf60088a5adb59</td>\n",
       "      <td>anger</td>\n",
       "    </tr>\n",
       "    <tr>\n",
       "      <th>14</th>\n",
       "      <td>5ef88d36497740547350be5c</td>\n",
       "      <td>anger</td>\n",
       "    </tr>\n",
       "    <tr>\n",
       "      <th>15</th>\n",
       "      <td>5f83c3929e04b149046cc739</td>\n",
       "      <td>happiness</td>\n",
       "    </tr>\n",
       "    <tr>\n",
       "      <th>16</th>\n",
       "      <td>5f03be21b140144dfcfee3f3</td>\n",
       "      <td>sad</td>\n",
       "    </tr>\n",
       "    <tr>\n",
       "      <th>17</th>\n",
       "      <td>5fbe286e44697678c497bfe5</td>\n",
       "      <td>happiness</td>\n",
       "    </tr>\n",
       "    <tr>\n",
       "      <th>18</th>\n",
       "      <td>5f06a6acb140144dfcff06ec</td>\n",
       "      <td>anger</td>\n",
       "    </tr>\n",
       "    <tr>\n",
       "      <th>19</th>\n",
       "      <td>5f660700f8fac448cc0a5916</td>\n",
       "      <td>angry</td>\n",
       "    </tr>\n",
       "  </tbody>\n",
       "</table>\n",
       "</div>"
      ],
      "text/plain": [
       "                      wav_id         상황\n",
       "0   5f7940c59e04b149046cc19a  happiness\n",
       "1   5f100cc8b140144dfcff4b66      anger\n",
       "2   5f0a7b09b140144dfcff21a8      anger\n",
       "3   5fbca5c6576e9378b67acf76    neutral\n",
       "4   5f8da1949e04b149046cd695  happiness\n",
       "5   5efab05c8bbcd61f551d2b4c        sad\n",
       "6   5f886cc6111dfd48d40fe460  happiness\n",
       "7   5f6d55539e04b149046cbcbe    sadness\n",
       "8   5e337d0e5807b852d9e04c6b      anger\n",
       "9   5fba399ccb503578af9ee17a   surprise\n",
       "10  5f8dadfef8fac448cc0a79ed      angry\n",
       "11  5e4969d88849ac3aacea5507        sad\n",
       "12  5f0277afb140144dfcfed88d        sad\n",
       "13  5e36352abacf60088a5adb59      anger\n",
       "14  5ef88d36497740547350be5c      anger\n",
       "15  5f83c3929e04b149046cc739  happiness\n",
       "16  5f03be21b140144dfcfee3f3        sad\n",
       "17  5fbe286e44697678c497bfe5  happiness\n",
       "18  5f06a6acb140144dfcff06ec      anger\n",
       "19  5f660700f8fac448cc0a5916      angry"
      ]
     },
     "execution_count": 74,
     "metadata": {},
     "output_type": "execute_result"
    }
   ],
   "source": [
    "df.head(20)"
   ]
  },
  {
   "cell_type": "code",
   "execution_count": null,
   "id": "a4c5b0a0",
   "metadata": {},
   "outputs": [],
   "source": []
  }
 ],
 "metadata": {
  "kernelspec": {
   "display_name": "Python 3 (ipykernel)",
   "language": "python",
   "name": "python3"
  },
  "language_info": {
   "codemirror_mode": {
    "name": "ipython",
    "version": 3
   },
   "file_extension": ".py",
   "mimetype": "text/x-python",
   "name": "python",
   "nbconvert_exporter": "python",
   "pygments_lexer": "ipython3",
   "version": "3.8.5"
  },
  "papermill": {
   "default_parameters": {},
   "duration": 568.597423,
   "end_time": "2023-05-13T23:16:18.300687",
   "environment_variables": {},
   "exception": null,
   "input_path": "__notebook__.ipynb",
   "output_path": "__notebook__.ipynb",
   "parameters": {},
   "start_time": "2023-05-13T23:06:49.703264",
   "version": "2.4.0"
  }
 },
 "nbformat": 4,
 "nbformat_minor": 5
}
