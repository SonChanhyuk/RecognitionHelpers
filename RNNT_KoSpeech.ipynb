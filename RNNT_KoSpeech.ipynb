{
 "cells": [
  {
   "cell_type": "code",
   "execution_count": null,
   "metadata": {
    "colab": {
     "base_uri": "https://localhost:8080/",
     "height": 1000
    },
    "id": "NuRXQinm0Byq",
    "outputId": "e1706a5b-4362-47ae-de33-1d5ecc6f45e8"
   },
   "outputs": [],
   "source": [
    "!pip install sentencepiece\n",
    "!pip install python-Levenshtein\n",
    "#!pip install warp_rnnt\n",
    "!pip install hydra-core"
   ]
  },
  {
   "cell_type": "code",
   "execution_count": null,
   "metadata": {},
   "outputs": [],
   "source": [
    "!pip install wget"
   ]
  },
  {
   "cell_type": "code",
   "execution_count": null,
   "metadata": {},
   "outputs": [],
   "source": [
    "!pip install jamo"
   ]
  },
  {
   "cell_type": "code",
   "execution_count": null,
   "metadata": {
    "colab": {
     "base_uri": "https://localhost:8080/"
    },
    "id": "DAo1PY-LdB79",
    "outputId": "a8db4e09-af27-4ee9-ea5e-d30790927228"
   },
   "outputs": [],
   "source": [
    "!wget https://www.openslr.org/resources/12/test-clean.tar.gz\n",
    "!wget https://www.openslr.org/resources/12/dev-clean.tar.gz"
   ]
  },
  {
   "cell_type": "code",
   "execution_count": null,
   "metadata": {
    "id": "pLGQX0ErdFMf"
   },
   "outputs": [],
   "source": [
    "!tar xvzf dev-clean.tar.gz\n",
    "!tar xvzf test-clean.tar.gz"
   ]
  },
  {
   "cell_type": "code",
   "execution_count": null,
   "metadata": {
    "colab": {
     "base_uri": "https://localhost:8080/"
    },
    "id": "OUZqDGDZZ3kS",
    "outputId": "56489afd-a62d-47a8-fd5a-f86e39c51860"
   },
   "outputs": [],
   "source": [
    "!python -m pip install -U pip"
   ]
  },
  {
   "cell_type": "code",
   "execution_count": null,
   "metadata": {
    "colab": {
     "base_uri": "https://localhost:8080/"
    },
    "id": "rDu3Ih9ZZmFn",
    "outputId": "55b5e536-6474-4f06-b00e-ee1201ebe230"
   },
   "outputs": [],
   "source": [
    "!pip install warp-rnnt"
   ]
  },
  {
   "cell_type": "code",
   "execution_count": null,
   "metadata": {
    "colab": {
     "base_uri": "https://localhost:8080/"
    },
    "id": "IDCtGd6MaCsv",
    "outputId": "574aea7e-4e8e-4745-9d39-3c69bf2157c5"
   },
   "outputs": [],
   "source": [
    "!git clone https://github.com/1ytic/warp-rnnt\n",
    "#cd warp-rnnt/pytorch_binding\n",
    "!python warp-rnnt/pytorch_binding/setup.py install"
   ]
  },
  {
   "cell_type": "code",
   "execution_count": null,
   "metadata": {
    "colab": {
     "base_uri": "https://localhost:8080/"
    },
    "id": "BKK7EGtM1i-q",
    "outputId": "9b3bc4bd-884a-4b2b-86d7-5001777377ff"
   },
   "outputs": [],
   "source": [
    "!git clone https://github.com/sooftware/kospeech.git"
   ]
  },
  {
   "attachments": {},
   "cell_type": "markdown",
   "metadata": {
    "id": "Zs9kCNCeUJ8d"
   },
   "source": [
    "**Codes from :** https://github.com/sooftware/kospeech\n",
    "\n",
    "* https://github.com/sooftware/kospeech/blob/latest/LICENSE\n"
   ]
  },
  {
   "cell_type": "code",
   "execution_count": 1,
   "metadata": {},
   "outputs": [],
   "source": [
    "import Levenshtein as Lev"
   ]
  },
  {
   "cell_type": "code",
   "execution_count": 2,
   "metadata": {},
   "outputs": [],
   "source": [
    "def wer(s1,s2):\n",
    "    b = set(s1.split()+s2.split())\n",
    "    word_map = dict(zip(b,range(len(b))))\n",
    "    print(\"word_map:\",word_map)\n",
    "    w1 = [chr(word_map[w]) for w in s1.split()]\n",
    "    w2 = [chr(word_map[w]) for w in s2.split()]\n",
    "    dev = max(len(s2.split()),1)\n",
    "    score = Lev.distance(\"\".join(w1),\"\".join(w2))/dev\n",
    "    return score\n",
    "\n",
    "def cer(s1,s2):\n",
    "    w1 = s1.replace(\" \",\"\")\n",
    "    w2 = s2.replace(\" \",\"\")\n",
    "    dev = max(len(s2),1)\n",
    "    score = Lev.distance((w1),(w2))/dev\n",
    "    return score"
   ]
  },
  {
   "cell_type": "code",
   "execution_count": 3,
   "metadata": {
    "id": "-gqTAb_yYG9U"
   },
   "outputs": [],
   "source": [
    "# Copyright (c) 2020, Soohwan Kim. All rights reserved.\n",
    "#\n",
    "# Licensed under the Apache License, Version 2.0 (the \"License\");\n",
    "# you may not use this file except in compliance with the License.\n",
    "# You may obtain a copy of the License at\n",
    "#\n",
    "#     http://www.apache.org/licenses/LICENSE-2.0\n",
    "#\n",
    "# Unless required by applicable law or agreed to in writing, software\n",
    "# distributed under the License is distributed on an \"AS IS\" BASIS,\n",
    "# WITHOUT WARRANTIES OR CONDITIONS OF ANY KIND, either express or implied.\n",
    "# See the License for the specific language governing permissions and\n",
    "# limitations under the License.\n",
    "\n",
    "import torch\n",
    "import torch.nn as nn\n",
    "import torch.nn.init as init\n",
    "from torch import Tensor\n",
    "\n",
    "\n",
    "class ResidualConnectionModule(nn.Module):\n",
    "    \"\"\"\n",
    "    Residual Connection Module.\n",
    "    outputs = (module(inputs) x module_factor + inputs x input_factor)\n",
    "    \"\"\"\n",
    "    def __init__(\n",
    "            self,\n",
    "            module: nn.Module,\n",
    "            module_factor: float = 1.0,\n",
    "            input_factor: float = 1.0,\n",
    "    ) -> None:\n",
    "        super(ResidualConnectionModule, self).__init__()\n",
    "        self.module = module\n",
    "        self.module_factor = module_factor\n",
    "        self.input_factor = input_factor\n",
    "\n",
    "    def forward(self, inputs: Tensor) -> Tensor:\n",
    "        return (self.module(inputs) * self.module_factor) + (inputs * self.input_factor)\n",
    "\n",
    "\n",
    "class Linear(nn.Module):\n",
    "    \"\"\"\n",
    "    Wrapper class of torch.nn.Linear\n",
    "    Weight initialize by xavier initialization and bias initialize to zeros.\n",
    "    \"\"\"\n",
    "    def __init__(self, in_features: int, out_features: int, bias: bool = True) -> None:\n",
    "        super(Linear, self).__init__()\n",
    "        self.linear = nn.Linear(in_features, out_features, bias=bias)\n",
    "        init.xavier_uniform_(self.linear.weight)\n",
    "        if bias:\n",
    "            init.zeros_(self.linear.bias)\n",
    "\n",
    "    def forward(self, x: Tensor) -> Tensor:\n",
    "        return self.linear(x)\n",
    "\n",
    "\n",
    "class View(nn.Module):\n",
    "    \"\"\" Wrapper class of torch.view() for Sequential module. \"\"\"\n",
    "    def __init__(self, shape: tuple, contiguous: bool = False):\n",
    "        super(View, self).__init__()\n",
    "        self.shape = shape\n",
    "        self.contiguous = contiguous\n",
    "\n",
    "    def forward(self, inputs):\n",
    "        if self.contiguous:\n",
    "            inputs = inputs.contiguous()\n",
    "        return inputs.view(*self.shape)\n",
    "\n",
    "\n",
    "class Transpose(nn.Module):\n",
    "    \"\"\" Wrapper class of torch.transpose() for Sequential module. \"\"\"\n",
    "    def __init__(self, shape: tuple):\n",
    "        super(Transpose, self).__init__()\n",
    "        self.shape = shape\n",
    "\n",
    "    def forward(self, inputs: Tensor):\n",
    "        return inputs.transpose(*self.shape)"
   ]
  },
  {
   "cell_type": "code",
   "execution_count": 4,
   "metadata": {
    "id": "NFy6pcqGWnxq"
   },
   "outputs": [],
   "source": [
    "import torch.nn as nn\n",
    "from torch import Tensor\n",
    "from typing import Tuple\n",
    "\n",
    "\n",
    "class EncoderInterface(nn.Module):\n",
    "    \"\"\" Base Interface of Encoder \"\"\"\n",
    "    def __init__(self):\n",
    "        super(EncoderInterface, self).__init__()\n",
    "\n",
    "    def count_parameters(self) -> int:\n",
    "        \"\"\" Count parameters of encoder \"\"\"\n",
    "        return sum([p.numel for p in self.parameters()])\n",
    "\n",
    "    def update_dropout(self, dropout_p: float) -> None:\n",
    "        \"\"\" Update dropout probability of encoder \"\"\"\n",
    "        for name, child in self.named_children():\n",
    "            if isinstance(child, nn.Dropout):\n",
    "                child.p = dropout_p\n",
    "\n",
    "    def forward(self, inputs: Tensor, input_lengths: Tensor):\n",
    "        \"\"\"\n",
    "        Forward propagate for encoder training.\n",
    "        Args:\n",
    "            inputs (torch.FloatTensor): A input sequence passed to encoder. Typically for inputs this will be a padded\n",
    "                `FloatTensor` of size ``(batch, seq_length, dimension)``.\n",
    "            input_lengths (torch.LongTensor): The length of input tensor. ``(batch)``\n",
    "        \"\"\"\n",
    "        raise NotImplementedError\n",
    "\n",
    "\n",
    "class BaseEncoder(EncoderInterface):\n",
    "    \"\"\" ASR Encoder Super Class for KoSpeech model implementation \"\"\"\n",
    "    \"\"\"\n",
    "    supported_extractors = {\n",
    "        'ds2': DeepSpeech2Extractor,\n",
    "        'vgg': VGGExtractor,\n",
    "    }\n",
    "    \"\"\"\n",
    "\n",
    "    def __init__(\n",
    "            self,\n",
    "            input_dim: int,\n",
    "            extractor: str = 'vgg',\n",
    "            d_model: int = None,\n",
    "            num_classes: int = None,\n",
    "            dropout_p: float = None,\n",
    "            activation: str = 'hardtanh',\n",
    "            joint_ctc_attention: bool = False,\n",
    "    ) -> None:\n",
    "        super(BaseEncoder, self).__init__()\n",
    "        if joint_ctc_attention:\n",
    "            assert num_classes, \"If `joint_ctc_attention` True, `num_classes` should be not None\"\n",
    "            assert dropout_p, \"If `joint_ctc_attention` True, `dropout_p` should be not None\"\n",
    "            assert d_model, \"If `joint_ctc_attention` True, `d_model` should be not None\"\n",
    "\n",
    "        if extractor is not None:\n",
    "            extractor = self.supported_extractors[extractor.lower()]\n",
    "            self.conv = extractor(input_dim=input_dim, activation=activation)\n",
    "\n",
    "        self.conv_output_dim = self.conv.get_output_dim()\n",
    "        self.num_classes = num_classes\n",
    "        self.joint_ctc_attention = joint_ctc_attention\n",
    "\n",
    "        if self.joint_ctc_attention:\n",
    "            self.fc = nn.Sequential(\n",
    "                nn.BatchNorm1d(d_model),\n",
    "                Transpose(shape=(1, 2)),\n",
    "                nn.Dropout(dropout_p),\n",
    "                Linear(d_model, num_classes, bias=False),\n",
    "            )\n",
    "\n",
    "    def forward(self, inputs: Tensor, input_lengths: Tensor) -> Tuple[Tensor, Tensor, Tensor]:\n",
    "        \"\"\"\n",
    "        Forward propagate a `inputs` for  encoder training.\n",
    "        Args:\n",
    "            inputs (torch.FloatTensor): A input sequence passed to encoder. Typically for inputs this will be a padded\n",
    "                `FloatTensor` of size ``(batch, seq_length, dimension)``.\n",
    "            input_lengths (torch.LongTensor): The length of input tensor. ``(batch)``\n",
    "        Returns:\n",
    "            (Tensor, Tensor, Tensor):\n",
    "            * encoder_outputs: A output sequence of encoder. `FloatTensor` of size ``(batch, seq_length, dimension)``\n",
    "            * encoder_output_lengths: The length of encoder outputs. ``(batch)``\n",
    "            * encoder_log_probs: Log probability of encoder outputs will be passed to CTC Loss.\n",
    "                If joint_ctc_attention is False, return None.\n",
    "        \"\"\"\n",
    "        raise NotImplementedError\n",
    "\n",
    "\n",
    "class TransducerEncoder(EncoderInterface):\n",
    "    \"\"\" ASR Transducer Encoder Super class for KoSpeech model implementation \"\"\"\n",
    "    def __init__(self):\n",
    "        super(TransducerEncoder, self).__init__()\n",
    "\n",
    "    def forward(self, inputs: Tensor, input_lengths: Tensor) -> Tensor:\n",
    "        \"\"\"\n",
    "        Forward propagate a `inputs` for  encoder training.\n",
    "        Args:\n",
    "            inputs (torch.FloatTensor): A input sequence passed to encoder. Typically for inputs this will be a padded\n",
    "                `FloatTensor` of size ``(batch, seq_length, dimension)``.\n",
    "            input_lengths (torch.LongTensor): The length of input tensor. ``(batch)``\n",
    "        Returns:\n",
    "            (Tensor, Tensor)\n",
    "            * outputs (torch.FloatTensor): A output sequence of encoder. `FloatTensor` of size\n",
    "                ``(batch, seq_length, dimension)``\n",
    "            * output_lengths (torch.LongTensor): The length of output tensor. ``(batch)``\n",
    "        \"\"\"\n",
    "        raise NotImplementedError"
   ]
  },
  {
   "cell_type": "code",
   "execution_count": 5,
   "metadata": {
    "id": "3MA0PNyrW87W"
   },
   "outputs": [],
   "source": [
    "import torch\n",
    "import torch.nn as nn\n",
    "from torch import Tensor\n",
    "from typing import Tuple\n",
    "\n",
    "\n",
    "class DecoderInterface(nn.Module):\n",
    "    def __init__(self):\n",
    "        super(DecoderInterface, self).__init__()\n",
    "\n",
    "    def count_parameters(self) -> int:\n",
    "        \"\"\" Count parameters of encoder \"\"\"\n",
    "        return sum([p.numel for p in self.parameters()])\n",
    "\n",
    "    def update_dropout(self, dropout_p: float) -> None:\n",
    "        \"\"\" Update dropout probability of encoder \"\"\"\n",
    "        for name, child in self.named_children():\n",
    "            if isinstance(child, nn.Dropout):\n",
    "                child.p = dropout_p\n",
    "\n",
    "\n",
    "class BaseDecoder(DecoderInterface):\n",
    "    \"\"\" ASR Decoder Super Class for KoSpeech model implementation \"\"\"\n",
    "    def __init__(self):\n",
    "        super(BaseDecoder, self).__init__()\n",
    "\n",
    "    def forward(self, targets: Tensor, encoder_outputs: Tensor, **kwargs) -> Tensor:\n",
    "        \"\"\"\n",
    "        Forward propagate a `encoder_outputs` for training.\n",
    "        Args:\n",
    "            targets (torch.LongTensr): A target sequence passed to decoder. `IntTensor` of size ``(batch, seq_length)``\n",
    "            encoder_outputs (torch.FloatTensor): A output sequence of encoder. `FloatTensor` of size\n",
    "                ``(batch, seq_length, dimension)``\n",
    "        Returns:\n",
    "            * predicted_log_probs (torch.FloatTensor): Log probability of model predictions.\n",
    "        \"\"\"\n",
    "        raise NotImplementedError\n",
    "\n",
    "    @torch.no_grad()\n",
    "    def decode(self, encoder_outputs: Tensor, *args) -> Tensor:\n",
    "        \"\"\"\n",
    "        Decode encoder_outputs.\n",
    "        Args:\n",
    "            encoder_outputs (torch.FloatTensor): A output sequence of encoder. `FloatTensor` of size\n",
    "                ``(batch, seq_length, dimension)``\n",
    "        Returns:\n",
    "            * predicted_log_probs (torch.FloatTensor): Log probability of model predictions.\n",
    "        \"\"\"\n",
    "        raise NotImplementedError\n",
    "\n",
    "\n",
    "class TransducerDecoder(DecoderInterface):\n",
    "    \"\"\" ASR Transducer Decoder Super Class for KoSpeech model implementation \"\"\"\n",
    "    def __init__(self):\n",
    "        super(TransducerDecoder, self).__init__()\n",
    "\n",
    "    def forward(self, inputs: Tensor, input_lengths: Tensor) -> Tuple[Tensor, Tensor]:\n",
    "        \"\"\"\n",
    "        Forward propage a `inputs` (targets) for training.\n",
    "        Args:\n",
    "            inputs (torch.LongTensor): A target sequence passed to decoder. `IntTensor` of size ``(batch, seq_length)``\n",
    "            input_lengths (torch.LongTensor): The length of input tensor. ``(batch)``\n",
    "        Returns:\n",
    "            (Tensor, Tensor):\n",
    "            * decoder_outputs (torch.FloatTensor): A output sequence of decoder. `FloatTensor` of size\n",
    "                ``(batch, seq_length, dimension)``\n",
    "            * hidden_states (torch.FloatTensor): A hidden state of decoder. `FloatTensor` of size\n",
    "                ``(batch, seq_length, dimension)``\n",
    "        \"\"\"\n",
    "        raise NotImplementedError"
   ]
  },
  {
   "cell_type": "code",
   "execution_count": 6,
   "metadata": {
    "id": "BF-Sl3ioVm4l"
   },
   "outputs": [],
   "source": [
    "import torch\n",
    "import torch.nn as nn\n",
    "from torch import Tensor\n",
    "from typing import Tuple\n",
    "\n",
    "\n",
    "\n",
    "class BaseModel(nn.Module):\n",
    "    def __init__(self):\n",
    "        super(BaseModel, self).__init__()\n",
    "\n",
    "    def count_parameters(self) -> int:\n",
    "        \"\"\" Count parameters of encoder \"\"\"\n",
    "        return sum([p.numel for p in self.parameters()])\n",
    "\n",
    "    def update_dropout(self, dropout_p: float) -> None:\n",
    "        \"\"\" Update dropout probability of encoder \"\"\"\n",
    "        for name, child in self.named_children():\n",
    "            if isinstance(child, nn.Dropout):\n",
    "                child.p = dropout_p\n",
    "\n",
    "    @torch.no_grad()\n",
    "    def recognize(self, inputs: Tensor, input_lengths: Tensor):\n",
    "        raise NotImplementedError\n",
    "\n",
    "\n",
    "class EncoderModel(BaseModel):\n",
    "    \"\"\" Super class of KoSpeech's Encoder only Models \"\"\"\n",
    "    def __init__(self):\n",
    "        super(EncoderModel, self).__init__()\n",
    "        self.decoder = None\n",
    "\n",
    "    def set_decoder(self, decoder):\n",
    "        \"\"\" Setter for decoder \"\"\"\n",
    "        self.decoder = decoder\n",
    "\n",
    "    def forward(self, inputs: Tensor, input_lengths: Tensor) -> Tuple[Tensor, Tensor]:\n",
    "        \"\"\"\n",
    "        Forward propagate a `inputs` for  ctc training.\n",
    "        Args:\n",
    "            inputs (torch.FloatTensor): A input sequence passed to encoder. Typically for inputs this will be a padded\n",
    "                `FloatTensor` of size ``(batch, seq_length, dimension)``.\n",
    "            input_lengths (torch.LongTensor): The length of input tensor. ``(batch)``\n",
    "        Returns:\n",
    "            (Tensor, Tensor):\n",
    "            * predicted_log_prob (torch.FloatTensor)s: Log probability of model predictions.\n",
    "            * output_lengths (torch.LongTensor): The length of output tensor ``(batch)``\n",
    "        \"\"\"\n",
    "        raise NotImplementedError\n",
    "\n",
    "    @torch.no_grad()\n",
    "    def decode(self, predicted_log_probs: Tensor) -> Tensor:\n",
    "        \"\"\"\n",
    "        Decode encoder_outputs.\n",
    "        Args:\n",
    "            predicted_log_probs (torch.FloatTensor):Log probability of model predictions. `FloatTensor` of size\n",
    "                ``(batch, seq_length, dimension)``\n",
    "        Returns:\n",
    "            * predictions (torch.FloatTensor): Result of model predictions.\n",
    "        \"\"\"\n",
    "        return predicted_log_probs.max(-1)[1]\n",
    "\n",
    "    @torch.no_grad()\n",
    "    def recognize(self, inputs: Tensor, input_lengths: Tensor) -> Tensor:\n",
    "        \"\"\"\n",
    "        Recognize input speech.\n",
    "        Args:\n",
    "            inputs (torch.FloatTensor): A input sequence passed to encoder. Typically for inputs this will be a padded\n",
    "                `FloatTensor` of size ``(batch, seq_length, dimension)``.\n",
    "            input_lengths (torch.LongTensor): The length of input tensor. ``(batch)``\n",
    "        Returns:\n",
    "            * predictions (torch.FloatTensor): Result of model predictions.\n",
    "        \"\"\"\n",
    "        predicted_log_probs, _ = self.forward(inputs, input_lengths)\n",
    "        if self.decoder is not None:\n",
    "            return self.decoder.decode(predicted_log_probs)\n",
    "        return self.decode(predicted_log_probs)\n",
    "\n",
    "\n",
    "class EncoderDecoderModel(BaseModel):\n",
    "    \"\"\" Super class of KoSpeech's Encoder-Decoder Models \"\"\"\n",
    "    def __init__(self, encoder: BaseEncoder, decoder: BaseDecoder) -> None:\n",
    "        super(EncoderDecoderModel, self).__init__()\n",
    "        self.encoder = encoder\n",
    "        self.decoder = decoder\n",
    "\n",
    "    def set_encoder(self, encoder):\n",
    "        \"\"\" Setter for encoder \"\"\"\n",
    "        self.encoder = encoder\n",
    "\n",
    "    def set_decoder(self, decoder):\n",
    "        \"\"\" Setter for decoder \"\"\"\n",
    "        self.decoder = decoder\n",
    "\n",
    "    def count_parameters(self) -> int:\n",
    "        \"\"\" Count parameters of encoder \"\"\"\n",
    "        num_encoder_parameters = self.encoder.count_parameters()\n",
    "        num_decoder_parameters = self.decoder.count_parameters()\n",
    "        return num_encoder_parameters + num_decoder_parameters\n",
    "\n",
    "    def update_dropout(self, dropout_p) -> None:\n",
    "        \"\"\" Update dropout probability of model \"\"\"\n",
    "        self.encoder.update_dropout(dropout_p)\n",
    "        self.decoder.update_dropout(dropout_p)\n",
    "\n",
    "    def forward(\n",
    "            self,\n",
    "            inputs: Tensor,\n",
    "            input_lengths: Tensor,\n",
    "            targets: Tensor,\n",
    "            *args,\n",
    "    ) -> Tuple[Tensor, Tensor, Tensor]:\n",
    "        \"\"\"\n",
    "        Forward propagate a `inputs` and `targets` pair for training.\n",
    "        Args:\n",
    "            inputs (torch.FloatTensor): A input sequence passed to encoder. Typically for inputs this will be a padded\n",
    "                `FloatTensor` of size ``(batch, seq_length, dimension)``.\n",
    "            input_lengths (torch.LongTensor): The length of input tensor. ``(batch)``\n",
    "            targets (torch.LongTensr): A target sequence passed to decoder. `IntTensor` of size ``(batch, seq_length)``\n",
    "        Returns:\n",
    "            (Tensor, Tensor, Tensor)\n",
    "            * predicted_log_probs (torch.FloatTensor): Log probability of model predictions.\n",
    "            * encoder_output_lengths: The length of encoder outputs. ``(batch)``\n",
    "            * encoder_log_probs: Log probability of encoder outputs will be passed to CTC Loss.\n",
    "                If joint_ctc_attention is False, return None.\n",
    "        \"\"\"\n",
    "        raise NotImplementedError\n",
    "\n",
    "    @torch.no_grad()\n",
    "    def recognize(self, inputs: Tensor, input_lengths: Tensor) -> Tensor:\n",
    "        \"\"\"\n",
    "        Recognize input speech. This method consists of the forward of the encoder and the decode() of the decoder.\n",
    "        Args:\n",
    "            inputs (torch.FloatTensor): A input sequence passed to encoder. Typically for inputs this will be a padded\n",
    "                `FloatTensor` of size ``(batch, seq_length, dimension)``.\n",
    "            input_lengths (torch.LongTensor): The length of input tensor. ``(batch)``\n",
    "        Returns:\n",
    "            * predictions (torch.FloatTensor): Result of model predictions.\n",
    "        \"\"\"\n",
    "        encoder_outputs, encoder_output_lengths, _ = self.encoder(inputs, input_lengths)\n",
    "        return self.decoder.decode(encoder_outputs, encoder_output_lengths)\n",
    "\n",
    "\n",
    "class TransducerModel(BaseModel):\n",
    "    \"\"\" Super class of KoSpeech's Transducer Models \"\"\"\n",
    "    def __init__(\n",
    "            self,\n",
    "            encoder: TransducerEncoder,\n",
    "            decoder: TransducerDecoder,\n",
    "            d_model: int,\n",
    "            num_classes: int,\n",
    "    ) -> None:\n",
    "        super(TransducerModel, self).__init__()\n",
    "        self.encoder = encoder\n",
    "        self.decoder = decoder\n",
    "        self.fc = Linear(d_model<<1, num_classes, bias=False)\n",
    "\n",
    "    def set_encoder(self, encoder):\n",
    "        \"\"\" Setter for encoder \"\"\"\n",
    "        self.encoder = encoder\n",
    "\n",
    "    def set_decoder(self, decoder):\n",
    "        \"\"\" Setter for decoder \"\"\"\n",
    "        self.decoder = decoder\n",
    "\n",
    "    def count_parameters(self) -> int:\n",
    "        \"\"\" Count parameters of encoder \"\"\"\n",
    "        num_encoder_parameters = self.encoder.count_parameters()\n",
    "        num_decoder_parameters = self.decoder.count_parameters()\n",
    "        return num_encoder_parameters + num_decoder_parameters\n",
    "\n",
    "    def update_dropout(self, dropout_p) -> None:\n",
    "        \"\"\" Update dropout probability of model \"\"\"\n",
    "        self.encoder.update_dropout(dropout_p)\n",
    "        self.decoder.update_dropout(dropout_p)\n",
    "\n",
    "    def joint(self, encoder_outputs: Tensor, decoder_outputs: Tensor) -> Tensor:\n",
    "        \"\"\"\n",
    "        Joint `encoder_outputs` and `decoder_outputs`.\n",
    "        Args:\n",
    "            encoder_outputs (torch.FloatTensor): A output sequence of encoder. `FloatTensor` of size\n",
    "                ``(batch, seq_length, dimension)``\n",
    "            decoder_outputs (torch.FloatTensor): A output sequence of decoder. `FloatTensor` of size\n",
    "                ``(batch, seq_length, dimension)``\n",
    "        Returns:\n",
    "            * outputs (torch.FloatTensor): outputs of joint `encoder_outputs` and `decoder_outputs`..\n",
    "        \"\"\"\n",
    "        if encoder_outputs.dim() == 3 and decoder_outputs.dim() == 3:\n",
    "            input_length = encoder_outputs.size(1)\n",
    "            target_length = decoder_outputs.size(1)\n",
    "\n",
    "            encoder_outputs = encoder_outputs.unsqueeze(2)\n",
    "            decoder_outputs = decoder_outputs.unsqueeze(1)\n",
    "\n",
    "            encoder_outputs = encoder_outputs.repeat([1, 1, target_length, 1])\n",
    "            decoder_outputs = decoder_outputs.repeat([1, input_length, 1, 1])\n",
    "\n",
    "            #print(\"  encoder_outputs:\",encoder_outputs.shape)\n",
    "            #print(\"  decoder_outputs:\",decoder_outputs.shape)\n",
    "        #outputs = (encoder_outputs + decoder_outputs)\n",
    "        outputs = torch.cat((encoder_outputs, decoder_outputs), dim=-1)\n",
    "        #print(\" outputs:\",outputs.shape)\n",
    "        outputs = self.fc(outputs).log_softmax(dim=-1)\n",
    "        #print(\" outputs2:\",outputs.shape)\n",
    "        return outputs\n",
    "\n",
    "    def forward(\n",
    "            self,\n",
    "            inputs: Tensor,\n",
    "            input_lengths: Tensor,\n",
    "            targets: Tensor,\n",
    "            target_lengths: Tensor,\n",
    "    ) -> Tensor:\n",
    "        \"\"\"\n",
    "        Forward propagate a `inputs` and `targets` pair for training.\n",
    "        Args:\n",
    "            inputs (torch.FloatTensor): A input sequence passed to encoder. Typically for inputs this will be a padded\n",
    "                `FloatTensor` of size ``(batch, seq_length, dimension)``.\n",
    "            input_lengths (torch.LongTensor): The length of input tensor. ``(batch)``\n",
    "            targets (torch.LongTensr): A target sequence passed to decoder. `IntTensor` of size ``(batch, seq_length)``\n",
    "            target_lengths (torch.LongTensor): The length of target tensor. ``(batch)``\n",
    "        Returns:\n",
    "            * predictions (torch.FloatTensor): Result of model predictions.\n",
    "        \"\"\"\n",
    "        encoder_outputs, _ = self.encoder(inputs, input_lengths)\n",
    "        decoder_outputs, _ = self.decoder(targets, target_lengths)\n",
    "        return self.joint(encoder_outputs, decoder_outputs)\n",
    "\n",
    "    @torch.no_grad()\n",
    "    def decode(self, encoder_output: Tensor, max_length: int) -> Tensor:\n",
    "        \"\"\"\n",
    "        Decode `encoder_outputs`.\n",
    "        Args:\n",
    "            encoder_output (torch.FloatTensor): A output sequence of encoder. `FloatTensor` of size\n",
    "                ``(seq_length, dimension)``\n",
    "            max_length (int): max decoding time step\n",
    "        Returns:\n",
    "            * predicted_log_probs (torch.FloatTensor): Log probability of model predictions.\n",
    "        \"\"\"\n",
    "        pred_tokens, hidden_state = list(), None\n",
    "        decoder_input = encoder_output.new_tensor([[self.decoder.sos_id]], dtype=torch.long)\n",
    "\n",
    "        for t in range(max_length):\n",
    "            decoder_output, hidden_state = self.decoder(decoder_input, hidden_states=hidden_state)\n",
    "            step_output = self.joint(encoder_output[t].view(-1), decoder_output.view(-1))\n",
    "            step_output = step_output.softmax(dim=0)\n",
    "            pred_token = step_output.argmax(dim=0)\n",
    "            pred_token = int(pred_token.item())\n",
    "            pred_tokens.append(pred_token)\n",
    "            decoder_input = step_output.new_tensor([[pred_token]], dtype=torch.long)\n",
    "\n",
    "        return torch.LongTensor(pred_tokens)\n",
    "\n",
    "    @torch.no_grad()\n",
    "    def recognize(self, inputs: Tensor, input_lengths: Tensor) -> Tensor:\n",
    "        \"\"\"\n",
    "        Recognize input speech. This method consists of the forward of the encoder and the decode() of the decoder.\n",
    "        Args:\n",
    "            inputs (torch.FloatTensor): A input sequence passed to encoder. Typically for inputs this will be a padded\n",
    "                `FloatTensor` of size ``(batch, seq_length, dimension)``.\n",
    "            input_lengths (torch.LongTensor): The length of input tensor. ``(batch)``\n",
    "        Returns:\n",
    "            * outputs (torch.FloatTensor): Result of model predictions.\n",
    "        \"\"\"\n",
    "        outputs = list()\n",
    "\n",
    "        encoder_outputs, output_lengths = self.encoder(inputs, input_lengths)\n",
    "        max_length = encoder_outputs.size(1)\n",
    "\n",
    "        for encoder_output in encoder_outputs:\n",
    "            decoded_seq = self.decode(encoder_output, max_length)\n",
    "            outputs.append(decoded_seq)\n",
    "\n",
    "        outputs = torch.stack(outputs, dim=1).transpose(0, 1)\n",
    "\n",
    "        return outputs"
   ]
  },
  {
   "cell_type": "code",
   "execution_count": null,
   "metadata": {
    "id": "db-HFs5efS80"
   },
   "outputs": [],
   "source": []
  },
  {
   "cell_type": "code",
   "execution_count": 7,
   "metadata": {
    "id": "XTj2-rYzVIxa"
   },
   "outputs": [],
   "source": [
    "import torch.nn as nn\n",
    "from torch import Tensor\n",
    "from typing import Tuple\n",
    "\n",
    "\n",
    "class DecoderRNNT(TransducerDecoder):\n",
    "    \"\"\"\n",
    "    Decoder of RNN-Transducer\n",
    "    Args:\n",
    "        num_classes (int): number of classification\n",
    "        hidden_state_dim (int, optional): hidden state dimension of decoder (default: 512)\n",
    "        output_dim (int, optional): output dimension of encoder and decoder (default: 512)\n",
    "        num_layers (int, optional): number of decoder layers (default: 1)\n",
    "        rnn_type (str, optional): type of rnn cell (default: lstm)\n",
    "        sos_id (int, optional): start of sentence identification\n",
    "        eos_id (int, optional): end of sentence identification\n",
    "        dropout_p (float, optional): dropout probability of decoder\n",
    "    Inputs: inputs, input_lengths\n",
    "        inputs (torch.LongTensor): A target sequence passed to decoder. `IntTensor` of size ``(batch, seq_length)``\n",
    "        input_lengths (torch.LongTensor): The length of input tensor. ``(batch)``\n",
    "        hidden_states (torch.FloatTensor): A previous hidden state of decoder. `FloatTensor` of size\n",
    "            ``(batch, seq_length, dimension)``\n",
    "    Returns:\n",
    "        (Tensor, Tensor):\n",
    "        * decoder_outputs (torch.FloatTensor): A output sequence of decoder. `FloatTensor` of size\n",
    "            ``(batch, seq_length, dimension)``\n",
    "        * hidden_states (torch.FloatTensor): A hidden state of decoder. `FloatTensor` of size\n",
    "            ``(batch, seq_length, dimension)``\n",
    "    \"\"\"\n",
    "    supported_rnns = {\n",
    "        'lstm': nn.LSTM,\n",
    "        'gru': nn.GRU,\n",
    "        'rnn': nn.RNN,\n",
    "    }\n",
    "\n",
    "    def __init__(\n",
    "            self,\n",
    "            num_classes: int,\n",
    "            hidden_state_dim: int,\n",
    "            output_dim: int,\n",
    "            num_layers: int,\n",
    "            rnn_type: str = 'lstm',\n",
    "            sos_id: int = 1,\n",
    "            eos_id: int = 2,\n",
    "            dropout_p: float = 0.2,\n",
    "    ):\n",
    "        super(DecoderRNNT, self).__init__()\n",
    "        self.hidden_state_dim = hidden_state_dim\n",
    "        self.sos_id = sos_id\n",
    "        self.eos_id = eos_id\n",
    "        self.embedding = nn.Embedding(num_classes, hidden_state_dim)\n",
    "        rnn_cell = self.supported_rnns[rnn_type.lower()]\n",
    "        self.rnn = rnn_cell(\n",
    "            input_size=hidden_state_dim,\n",
    "            hidden_size=hidden_state_dim,\n",
    "            num_layers=num_layers,\n",
    "            bias=True,\n",
    "            batch_first=True,\n",
    "            dropout=dropout_p,\n",
    "            bidirectional=False,\n",
    "        )\n",
    "        self.out_proj = Linear(hidden_state_dim, output_dim)\n",
    "\n",
    "    def forward(\n",
    "            self,\n",
    "            inputs: Tensor,\n",
    "            input_lengths: Tensor = None,\n",
    "            hidden_states: Tensor = None,\n",
    "    ) -> Tuple[Tensor, Tensor]:\n",
    "        \"\"\"\n",
    "        Forward propage a `inputs` (targets) for training.\n",
    "        Args:\n",
    "            inputs (torch.LongTensor): A target sequence passed to decoder. `IntTensor` of size ``(batch, seq_length)``\n",
    "            input_lengths (torch.LongTensor): The length of input tensor. ``(batch)``\n",
    "            hidden_states (torch.FloatTensor): A previous hidden state of decoder. `FloatTensor` of size\n",
    "                ``(batch, seq_length, dimension)``\n",
    "        Returns:\n",
    "            (Tensor, Tensor):\n",
    "            * decoder_outputs (torch.FloatTensor): A output sequence of decoder. `FloatTensor` of size\n",
    "                ``(batch, seq_length, dimension)``\n",
    "            * hidden_states (torch.FloatTensor): A hidden state of decoder. `FloatTensor` of size\n",
    "                ``(batch, seq_length, dimension)``\n",
    "        \"\"\"\n",
    "        embedded = self.embedding(inputs)\n",
    "        #print(\"embeded:\",embedded.shape,\"hidden_states:\",hidden_states)\n",
    "        outputs, hidden_states = self.rnn(embedded, hidden_states)\n",
    "        outputs = self.out_proj(outputs)\n",
    "        return outputs, hidden_states\n",
    "      "
   ]
  },
  {
   "cell_type": "code",
   "execution_count": 8,
   "metadata": {
    "id": "WUx4133iVUQk"
   },
   "outputs": [],
   "source": [
    "# Copyright (c) 2021, Soohwan Kim. All rights reserved.\n",
    "#\n",
    "# Licensed under the Apache License, Version 2.0 (the \"License\");\n",
    "# you may not use this file except in compliance with the License.\n",
    "# You may obtain a copy of the License at\n",
    "#\n",
    "#     http://www.apache.org/licenses/LICENSE-2.0\n",
    "#\n",
    "# Unless required by applicable law or agreed to in writing, software\n",
    "# distributed under the License is distributed on an \"AS IS\" BASIS,\n",
    "# WITHOUT WARRANTIES OR CONDITIONS OF ANY KIND, either express or implied.\n",
    "# See the License for the specific language governing permissions and\n",
    "# limitations under the License.\n",
    "\n",
    "import torch.nn as nn\n",
    "from torch import Tensor\n",
    "from typing import Tuple\n",
    "\n",
    "\n",
    "\n",
    "class EncoderRNNT(TransducerEncoder):\n",
    "    \"\"\"\n",
    "    Encoder of RNN-Transducer.\n",
    "    Args:\n",
    "        input_dim (int): dimension of input vector\n",
    "        hidden_state_dim (int, optional): hidden state dimension of encoder (default: 320)\n",
    "        output_dim (int, optional): output dimension of encoder and decoder (default: 512)\n",
    "        num_layers (int, optional): number of encoder layers (default: 4)\n",
    "        rnn_type (str, optional): type of rnn cell (default: lstm)\n",
    "        bidirectional (bool, optional): if True, becomes a bidirectional encoder (default: True)\n",
    "    Inputs: inputs, input_lengths\n",
    "        inputs (torch.FloatTensor): A input sequence passed to encoder. Typically for inputs this will be a padded\n",
    "            `FloatTensor` of size ``(batch, seq_length, dimension)``.\n",
    "        input_lengths (torch.LongTensor): The length of input tensor. ``(batch)``\n",
    "    Returns:\n",
    "        (Tensor, Tensor)\n",
    "        * outputs (torch.FloatTensor): A output sequence of encoder. `FloatTensor` of size\n",
    "            ``(batch, seq_length, dimension)``\n",
    "        * hidden_states (torch.FloatTensor): A hidden state of encoder. `FloatTensor` of size\n",
    "            ``(batch, seq_length, dimension)``\n",
    "    \"\"\"\n",
    "    supported_rnns = {\n",
    "        'lstm': nn.LSTM,\n",
    "        'gru': nn.GRU,\n",
    "        'rnn': nn.RNN,\n",
    "    }\n",
    "\n",
    "    def __init__(\n",
    "            self,\n",
    "            input_dim: int,\n",
    "            hidden_state_dim: int,\n",
    "            output_dim: int,\n",
    "            num_layers: int,\n",
    "            rnn_type: str = 'lstm',\n",
    "            dropout_p: float = 0.2,\n",
    "            bidirectional: bool = True,\n",
    "    ):\n",
    "        super(EncoderRNNT, self).__init__()\n",
    "        self.hidden_state_dim = hidden_state_dim\n",
    "        rnn_cell = self.supported_rnns[rnn_type.lower()]\n",
    "        self.rnn = rnn_cell(\n",
    "            input_size=input_dim,\n",
    "            hidden_size=hidden_state_dim,\n",
    "            num_layers=num_layers,\n",
    "            bias=True,\n",
    "            batch_first=True,\n",
    "            dropout=dropout_p,\n",
    "            bidirectional=bidirectional,\n",
    "        )\n",
    "        self.out_proj = Linear(hidden_state_dim << 1 if bidirectional else hidden_state_dim, output_dim)\n",
    "\n",
    "    def forward(self, inputs: Tensor, input_lengths: Tensor) -> Tuple[Tensor, Tensor]:\n",
    "        \"\"\"\n",
    "        Forward propagate a `inputs` for  encoder training.\n",
    "        Args:\n",
    "            inputs (torch.FloatTensor): A input sequence passed to encoder. Typically for inputs this will be a padded\n",
    "                `FloatTensor` of size ``(batch, seq_length, dimension)``.\n",
    "            input_lengths (torch.LongTensor): The length of input tensor. ``(batch)``\n",
    "        Returns:\n",
    "            (Tensor, Tensor)\n",
    "            * outputs (torch.FloatTensor): A output sequence of encoder. `FloatTensor` of size\n",
    "                ``(batch, seq_length, dimension)``\n",
    "            * output_lengths (torch.LongTensor): The length of output tensor. ``(batch)``\n",
    "        \"\"\"\n",
    "        inputs = nn.utils.rnn.pack_padded_sequence(inputs.transpose(0, 1), input_lengths.cpu())\n",
    "        outputs, hidden_states = self.rnn(inputs)\n",
    "        outputs, _ = nn.utils.rnn.pad_packed_sequence(outputs)\n",
    "        outputs = self.out_proj(outputs.transpose(0, 1))\n",
    "        return outputs, input_lengths"
   ]
  },
  {
   "cell_type": "code",
   "execution_count": 9,
   "metadata": {
    "id": "dMg3s75HVYau"
   },
   "outputs": [],
   "source": [
    "# Copyright (c) 2021, Soohwan Kim. All rights reserved.\n",
    "#\n",
    "# Licensed under the Apache License, Version 2.0 (the \"License\");\n",
    "# you may not use this file except in compliance with the License.\n",
    "# You may obtain a copy of the License at\n",
    "#\n",
    "#     http://www.apache.org/licenses/LICENSE-2.0\n",
    "#\n",
    "# Unless required by applicable law or agreed to in writing, software\n",
    "# distributed under the License is distributed on an \"AS IS\" BASIS,\n",
    "# WITHOUT WARRANTIES OR CONDITIONS OF ANY KIND, either express or implied.\n",
    "# See the License for the specific language governing permissions and\n",
    "# limitations under the License.\n",
    "\n",
    "from torch import Tensor\n",
    "\n",
    "\n",
    "\n",
    "class RNNTransducer(TransducerModel):\n",
    "    \"\"\"\n",
    "    RNN-Transducer are a form of sequence-to-sequence models that do not employ attention mechanisms.\n",
    "    Unlike most sequence-to-sequence models, which typically need to process the entire input sequence\n",
    "    (the waveform in our case) to produce an output (the sentence), the RNN-T continuously processes input samples and\n",
    "    streams output symbols, a property that is welcome for speech dictation. In our implementation,\n",
    "    the output symbols are the characters of the alphabet.\n",
    "    Args:\n",
    "        num_classes (int): number of classification\n",
    "        input_dim (int): dimension of input vector\n",
    "        num_encoder_layers (int, optional): number of encoder layers (default: 4)\n",
    "        num_decoder_layers (int, optional): number of decoder layers (default: 1)\n",
    "        encoder_hidden_state_dim (int, optional): hidden state dimension of encoder (default: 320)\n",
    "        decoder_hidden_state_dim (int, optional): hidden state dimension of decoder (default: 512)\n",
    "        output_dim (int, optional): output dimension of encoder and decoder (default: 512)\n",
    "        rnn_type (str, optional): type of rnn cell (default: lstm)\n",
    "        bidirectional (bool, optional): if True, becomes a bidirectional encoder (default: True)\n",
    "        encoder_dropout_p (float, optional): dropout probability of encoder\n",
    "        decoder_dropout_p (float, optional): dropout probability of decoder\n",
    "        sos_id (int, optional): start of sentence identification\n",
    "        eos_id (int, optional): end of sentence identification\n",
    "    Inputs: inputs, input_lengths, targets, target_lengths\n",
    "        inputs (torch.FloatTensor): A input sequence passed to encoder. Typically for inputs this will be a padded\n",
    "            `FloatTensor` of size ``(batch, seq_length, dimension)``.\n",
    "        input_lengths (torch.LongTensor): The length of input tensor. ``(batch)``\n",
    "        targets (torch.LongTensr): A target sequence passed to decoder. `IntTensor` of size ``(batch, seq_length)``\n",
    "        target_lengths (torch.LongTensor): The length of target tensor. ``(batch)``\n",
    "    Returns:\n",
    "        * predictions (torch.FloatTensor): Result of model predictions.\n",
    "    \"\"\"\n",
    "    def __init__(\n",
    "            self,\n",
    "            num_classes: int,\n",
    "            input_dim: int,\n",
    "            num_encoder_layers: int = 4,\n",
    "            num_decoder_layers: int = 1,\n",
    "            encoder_hidden_state_dim: int = 320,\n",
    "            decoder_hidden_state_dim: int = 256,\n",
    "            output_dim: int = 256,\n",
    "            rnn_type: str = \"lstm\",\n",
    "            bidirectional: bool = True,\n",
    "            encoder_dropout_p: float = 0.2,\n",
    "            decoder_dropout_p: float = 0.2,\n",
    "            sos_id: int = 1,\n",
    "            eos_id: int = 2,\n",
    "    ):\n",
    "        encoder = EncoderRNNT(\n",
    "            input_dim=input_dim,\n",
    "            hidden_state_dim=encoder_hidden_state_dim,\n",
    "            output_dim=output_dim,\n",
    "            num_layers=num_encoder_layers,\n",
    "            rnn_type=rnn_type,\n",
    "            dropout_p=encoder_dropout_p,\n",
    "            bidirectional=bidirectional,\n",
    "        )\n",
    "        decoder = DecoderRNNT(\n",
    "            num_classes=num_classes,\n",
    "            hidden_state_dim=decoder_hidden_state_dim,\n",
    "            output_dim=output_dim,\n",
    "            num_layers=num_decoder_layers,\n",
    "            rnn_type=rnn_type,\n",
    "            sos_id=sos_id,\n",
    "            eos_id=eos_id,\n",
    "            dropout_p=decoder_dropout_p,\n",
    "        )\n",
    "        super(RNNTransducer, self).__init__(encoder, decoder, output_dim, num_classes)\n",
    "\n",
    "    def forward(\n",
    "            self,\n",
    "            inputs: Tensor,\n",
    "            input_lengths: Tensor,\n",
    "            targets: Tensor,\n",
    "            target_lengths: Tensor\n",
    "    ) -> Tensor:\n",
    "        \"\"\"\n",
    "        Forward propagate a `inputs` and `targets` pair for training.\n",
    "        Args:\n",
    "            inputs (torch.FloatTensor): A input sequence passed to encoder. Typically for inputs this will be a padded\n",
    "                `FloatTensor` of size ``(batch, seq_length, dimension)``.\n",
    "            input_lengths (torch.LongTensor): The length of input tensor. ``(batch)``\n",
    "            targets (torch.LongTensr): A target sequence passed to decoder. `IntTensor` of size ``(batch, seq_length)``\n",
    "            target_lengths (torch.LongTensor): The length of target tensor. ``(batch)``\n",
    "        Returns:\n",
    "            * predictions (torch.FloatTensor): Result of model predictions.\n",
    "        \"\"\"\n",
    "        return super().forward(inputs, input_lengths, targets, target_lengths)"
   ]
  },
  {
   "cell_type": "code",
   "execution_count": 10,
   "metadata": {
    "id": "P3pkJOy3YoUW"
   },
   "outputs": [],
   "source": [
    "# Copyright (c) 2021, Soohwan Kim. All rights reserved.\n",
    "#\n",
    "# Licensed under the Apache License, Version 2.0 (the \"License\");\n",
    "# you may not use this file except in compliance with the License.\n",
    "# You may obtain a copy of the License at\n",
    "#\n",
    "#     http://www.apache.org/licenses/LICENSE-2.0\n",
    "#\n",
    "# Unless required by applicable law or agreed to in writing, software\n",
    "# distributed under the License is distributed on an \"AS IS\" BASIS,\n",
    "# WITHOUT WARRANTIES OR CONDITIONS OF ANY KIND, either express or implied.\n",
    "# See the License for the specific language governing permissions and\n",
    "# limitations under the License.\n",
    "\n",
    "import torch\n",
    "import torch.nn as nn\n",
    "import torchaudio\n",
    "\n",
    "\n",
    "class TransducerLoss(nn.Module):\n",
    "    \"\"\"\n",
    "    Transducer loss module.\n",
    "    Args:\n",
    "        blank_id (int): blank symbol id\n",
    "    \"\"\"\n",
    "\n",
    "    def __init__(self, blank_id: int) -> None:\n",
    "        \"\"\"Construct an TransLoss object.\"\"\"\n",
    "        super().__init__()\n",
    "        #self._device = torch.device(\"cuda:0\" if(torch.cuda.is_available()) else \"cpu\")\n",
    "        \"\"\"\n",
    "        try:\n",
    "            from warp_rnnt import rnnt_loss\n",
    "        except ImportError:\n",
    "            raise ImportError(\"warp-rnnt is not installed. Please re-setup\")\n",
    "        \"\"\"\n",
    "        rnnt_loss = torchaudio.transforms.RNNTLoss(blank=blank_id,reduction='sum')\n",
    "        self.rnnt_loss = rnnt_loss\n",
    "        self.blank_id = blank_id\n",
    "\n",
    "    def forward(\n",
    "            self,\n",
    "            log_probs: torch.FloatTensor,\n",
    "            targets: torch.IntTensor,\n",
    "            input_lengths: torch.IntTensor,\n",
    "            target_lengths: torch.IntTensor,\n",
    "    ) -> torch.FloatTensor:\n",
    "        \"\"\"\n",
    "        Compute path-aware regularization transducer loss.\n",
    "        Args:\n",
    "            log_probs (torch.FloatTensor): Batch of predicted sequences (batch, maxlen_in, maxlen_out+1, odim)\n",
    "            targets (torch.IntTensor): Batch of target sequences (batch, maxlen_out)\n",
    "            input_lengths (torch.IntTensor): batch of lengths of predicted sequences (batch)\n",
    "            target_lengths (torch.IntTensor): batch of lengths of target sequences (batch)\n",
    "        Returns:\n",
    "            loss (torch.FloatTensor): transducer loss\n",
    "        \"\"\"\n",
    "        \"\"\"\n",
    "        return self.rnnt_loss(\n",
    "            log_probs,\n",
    "            targets,\n",
    "            input_lengths,\n",
    "            target_lengths,\n",
    "            reduction=\"mean\",\n",
    "            blank=self.blank_id,\n",
    "            gather=True,\n",
    "        )\n",
    "        \"\"\"\n",
    "        return self.rnnt_loss(log_probs,targets,input_lengths,target_lengths)"
   ]
  },
  {
   "cell_type": "code",
   "execution_count": 11,
   "metadata": {
    "id": "HGLwwYqfb6sR"
   },
   "outputs": [],
   "source": [
    "import numpy as np\n",
    "#import librosa\n",
    "from glob import glob\n",
    "import os\n",
    "import soundfile as sf\n",
    "from torchaudio import transforms as audioT\n",
    "import random\n",
    "from pathlib import Path\n",
    "class DataLoader:\n",
    "    def __init__(self,batch_size=1,is_test_set=False):\n",
    "        super().__init__()\n",
    "        self.batch_size = batch_size\n",
    "        self.is_test_set = is_test_set\n",
    "        common_folder = \"D:\\\\datasets\\\\LibriSpeech\\\\train-clean-100\" #\n",
    "        #common_folder = \"LibriSpeech/dev-clean\"#\"LibriSpeech/train-clean-100\"\n",
    "        if(is_test_set==True):\n",
    "            common_folder = \"LibriSpeech/test-clean\"\n",
    "        transcripts_files = glob(os.path.join(common_folder,\"*\\\\*\\\\*.txt\"),recursive=True)\n",
    "        audio_files = glob(os.path.join(common_folder,\"*\\\\*\\\\*.flac\"),recursive=True)\n",
    "        if(is_test_set==False):\n",
    "            audio_files_len = len(audio_files)\n",
    "            audio_files = audio_files[:audio_files_len//8]\n",
    "        print(\"transcripts_files:\",len(transcripts_files))\n",
    "        print(\"audio_files:\",len(audio_files))\n",
    "        transcripts = {}\n",
    "        for ts_fpath in transcripts_files:\n",
    "            with open(ts_fpath,\"r\") as fp:\n",
    "                txt = fp.read().split(\"\\n\")\n",
    "                for ln in txt:\n",
    "                    ln=ln.strip()\n",
    "                    if(ln==\"\"):\n",
    "                        continue\n",
    "                  \n",
    "                    lines = ln.split(\" \",1)\n",
    "                    fn = lines[0]\n",
    "                    lbls = lines[1].upper()\n",
    "                    transcripts[fn] = lbls\n",
    "        self.audio_files = audio_files\n",
    "        self.transcript_keys = list(transcripts.keys())\n",
    "        self.transcript_table = \"\".join([chr(ord(\"A\")+i) for i in range(26)])+(\" .'!?\")\n",
    "        #print(\"transcript\",transcripts)\n",
    "        #print(\"transcript keys:\",self.transcript_keys)\n",
    "        \n",
    "        self.transcripts = transcripts\n",
    "        self._audio_file_len = len(self.audio_files)\n",
    "        if(is_test_set==False):\n",
    "            self.shuffleDataset()\n",
    "\n",
    "    def __len__(self):\n",
    "        return len(self.audio_files)//self.batch_size\n",
    "    def _loadFeature(self,fpath):\n",
    "        rawinput,sample_rate = torchaudio.load(fpath) #sf.read(fpath)\n",
    "        audio_transform = audioT.MFCC(sample_rate=sample_rate,n_mfcc=96,log_mels=True)\n",
    "        mfcc = audio_transform(rawinput)\n",
    "        mfcc = mfcc.squeeze(dim=0).transpose(1,0)\n",
    "        return mfcc\n",
    "    def _convertTranscript2(self,text_list,with_blank=False):\n",
    "        result = []\n",
    "        for char in text_list:\n",
    "            result.append(self.transcript_table.find(char)+3)\n",
    "            if(with_blank==True):\n",
    "                result.append(2)\n",
    "        return result\n",
    "    def shuffleDataset(self):\n",
    "        random.shuffle(self.audio_files)\n",
    "    def token2String(self,token_list,with_visible_tag=True):\n",
    "        result = \"\"\n",
    "        max_len = len(self.transcript_table)+2\n",
    "        for i in range(len(token_list)):\n",
    "            token_id = token_list[i]\n",
    "            if(token_id==1):\n",
    "                result+='<s>' if(with_visible_tag==True) else \"\"\n",
    "            elif(token_id==0):\n",
    "                result += '</s>' if(with_visible_tag==True) else \"\"\n",
    "            elif(token_id==2):\n",
    "                result += '</b>' if(with_visible_tag==True) else \"\"\n",
    "            elif(2<token_id<max_len):\n",
    "                result+= self.transcript_table[token_id-3]\n",
    "            else:\n",
    "                result+='</u?>' if(with_visible_tag==True) else \"\"\n",
    "        return result\n",
    "    \n",
    "    def __getitem__(self,idx):\n",
    "        if(idx>=self.__len__()):\n",
    "            raise StopIteration()\n",
    "        start_index,end_cond = (idx*self.batch_size,min((idx+1)*self.batch_size,(self._audio_file_len)))\n",
    "        #print((start_index,end_cond))\n",
    "        specs = []\n",
    "        transcripts = []\n",
    "        transcript_lengths = []\n",
    "        specs_lengths = []\n",
    "\n",
    "        for i in range(start_index,end_cond):\n",
    "            fpath = self.audio_files[i]\n",
    "            feature = self._loadFeature(fpath)\n",
    "            fn = Path(fpath).stem\n",
    "            specs.append(feature)#torch.from_numpy(feature))\n",
    "            specs_lengths.append(feature.size(0))\n",
    "            transcript_indices = [0]+self._convertTranscript2(self.transcripts[fn],with_blank=False)#+[2]\n",
    "            transcripts.append(torch.from_numpy(np.array(transcript_indices)))\n",
    "            transcript_lengths.append(len(transcript_indices))\n",
    "        transcript_lengths = np.array(transcript_lengths)\n",
    "        specs_lengths = np.array(specs_lengths)\n",
    "        return specs,specs_lengths,transcripts,transcript_lengths"
   ]
  },
  {
   "cell_type": "code",
   "execution_count": 12,
   "metadata": {},
   "outputs": [],
   "source": [
    "\n",
    "chosung = (\"ㄱ\", \"ㄲ\", \"ㄴ\", \"ㄷ\", \"ㄸ\", \"ㄹ\", \"ㅁ\", \"ㅂ\", \"ㅃ\", \"ㅅ\", \"ㅆ\", \"ㅇ\", \"ㅈ\", \"ㅉ\", \"ㅊ\", \"ㅋ\", \"ㅌ\", \"ㅍ\", \"ㅎ\")\n",
    "\n",
    "jungsung = (\"ㅏ\", \"ㅐ\", \"ㅑ\", \"ㅒ\", \"ㅓ\", \"ㅔ\", \"ㅕ\", \"ㅖ\", \"ㅗ\", \"ㅘ\", \"ㅙ\", \"ㅚ\", \"ㅛ\", \"ㅜ\", \"ㅝ\", \"ㅞ\", \"ㅟ\", \"ㅠ\", \"ㅡ\", \"ㅢ\", \"ㅣ\")\n",
    "\n",
    "jongsung = (\"\", \"ㄱ\", \"ㄲ\", \"ㄳ\", \"ㄴ\", \"ㄵ\", \"ㄶ\", \"ㄷ\", \"ㄹ\", \"ㄺ\", \"ㄻ\", \"ㄼ\", \"ㄽ\", \"ㄾ\", \"ㄿ\", \"ㅀ\", \"ㅁ\", \"ㅂ\", \"ㅄ\", \"ㅅ\", \"ㅆ\", \"ㅇ\", \"ㅈ\", \"ㅊ\", \"ㅋ\", \"ㅌ\", \"ㅍ\", \"ㅎ\")\n",
    "\n",
    "ENGS = tuple([chr(ord(\"A\")+i) for i in range(26)])\n",
    "\n",
    "special_chars = tuple(list(\" #$!?@~^&*()'\\\"`_:\"))\n",
    "\n",
    "import re\n",
    "\n",
    "def replaceBracket(sentence):\n",
    "    rst = re.sub( \"(\\(((\\S|\\s)*)(\\)_))\",\"\",sentence)\n",
    "    rst = re.sub( \"(\\(((\\S|\\s)*)(\\)))\",\"\",rst)\n",
    "    return rst\n",
    "\n",
    "def getHangeulIndex(one_character):\n",
    "    for i,comp in enumerate(chosung+jungsung+jongsung+ENGS+special_chars):\n",
    "        if(one_character.upper()==comp):\n",
    "            return i+4\n",
    "    return 3\n",
    "def convertString2HangeulIndex(text):\n",
    "    result = []\n",
    "    for character in text:\n",
    "        result.append(getHangeulIndex(character))\n",
    "    return result\n",
    "\n",
    "def isHangeul(one_character):\n",
    "    return 0xAC00 <= ord(one_character[:1]) <= 0xD7A3\n",
    "\n",
    "def hangeulExplode(one_hangeul):\n",
    "    a = one_hangeul[:1]\n",
    "    if isHangeul(a) != True:\n",
    "        return False\n",
    "    b = ord(a) - 0xAC00\n",
    "    cho = b // (21*28)\n",
    "    jung = b % (21*28) // 28\n",
    "    jong = b % 28\n",
    "    if jong == 0:\n",
    "        return (chosung[cho], jungsung[jung])\n",
    "    else:\n",
    "        return (chosung[cho], jungsung[jung], jongsung[jong])\n",
    "\n",
    "def hangeulJoin(inputlist):\n",
    "    result = \"\"\n",
    "    cho, jung, jong = 0, 0, 0\n",
    "    inputlist.insert(0, \"\")\n",
    "    while len(inputlist) > 1:\n",
    "        if inputlist[-1] in jongsung:\n",
    "            if inputlist[-2] in jungsung:\n",
    "                jong = jongsung.index(inputlist.pop())\n",
    "            \n",
    "            else:\n",
    "                result += inputlist.pop()\n",
    "        elif inputlist[-1] in jungsung:\n",
    "            if inputlist[-2] in chosung:\n",
    "                jung = jungsung.index(inputlist.pop())\n",
    "                cho = chosung.index(inputlist.pop())\n",
    "                result += chr(0xAC00 + ((cho*21)+jung)*28+jong)\n",
    "                cho, jung, jong = 0, 0, 0\n",
    "            else:\n",
    "                result += inputlist.pop()\n",
    "\n",
    "        else:\n",
    "            result += inputlist.pop()\n",
    "    else:\n",
    "        return result[::-1]\n",
    "\n",
    "def pureosseugi(inputtext):\n",
    "    result = \"\"\n",
    "    for i in inputtext:\n",
    "        if isHangeul(i) == True:\n",
    "            for j in hangeulExplode(i):\n",
    "                result += j\n",
    "        else:\n",
    "            result += i\n",
    "    \n",
    "    return result\n",
    "\n",
    "def moasseugi(inputtext):\n",
    "    t1 = []\n",
    "    for i in inputtext:\n",
    "        t1.append(i)\n",
    "\n",
    "    return hangeulJoin(t1)"
   ]
  },
  {
   "cell_type": "code",
   "execution_count": 22,
   "metadata": {
    "scrolled": true
   },
   "outputs": [
    {
     "name": "stdout",
     "output_type": "stream",
     "text": [
      "torch.Size([666, 96])\n",
      "   tensor([ 4, 41,  9, 27,  6, 98, 13, 28, 10, 15, 43, 16, 43, 98,  4, 41, 98, 15,\n",
      "        43, 22, 36, 98, 18, 27,  6, 22, 32, 15, 15, 43, 98, 16, 43,  6, 23,  7,\n",
      "        23,  4, 23, 98,  6, 24,  9, 29,  4, 15, 41,  9, 98,  7, 41,  7,  4, 31,\n",
      "        98, 15, 43,  9, 41, 10, 15, 41,  9, 98,  4, 41, 10, 13, 31,  9, 31,  9,\n",
      "        31, 98, 11, 23,  5, 37, 14,  7, 24], dtype=torch.int32)\n",
      "label: torch.Size([2, 81])\n",
      "torch.Size([698, 96])\n",
      "   tensor([19, 27,  7, 23,  9, 23,  6, 98, 16, 27,  6, 18, 27,  9, 15, 41,  9, 98,\n",
      "        20, 23,  4, 31, 98, 15, 27,  7, 43,  9, 31,  6,  4, 23, 98,  4, 23,  4,\n",
      "        31, 98, 15, 43, 14,  6, 41,  6,  7, 28, 98, 18, 23, 15, 11, 23,  5, 15,\n",
      "        41,  9, 31, 98, 22, 24, 13, 13, 23,  9, 15, 43, 98,  6, 36,  6, 11, 36,\n",
      "        13, 43,  4, 28, 98, 11, 36, 13, 27, 16, 43,  7, 27,  9, 23],\n",
      "       dtype=torch.int32)\n",
      "label: torch.Size([2, 88])\n",
      "torch.Size([532, 96])\n",
      "   tensor([ 4, 41,  9, 43,  4, 31, 98, 15, 35,  4, 23, 22, 23,  6, 41,  6, 98,  4,\n",
      "        41, 98, 13, 43,  4, 23,  6, 15, 28,  6, 98, 15, 27, 17, 24, 14,  7, 41,\n",
      "         6, 98,  6, 23, 98, 16, 23, 13, 43,  6, 15, 28,  4, 28, 98, 16, 43, 11,\n",
      "        16, 36, 15, 22, 23,  4, 28, 98,  7, 34, 16, 23, 50, 15, 23],\n",
      "       dtype=torch.int32)\n",
      "label: torch.Size([2, 69])\n",
      "torch.Size([397, 96])\n",
      "   tensor([ 4, 30,  7, 23,  6, 98, 15, 31,  9, 41,  4, 43, 98, 15, 42, 15, 34,  9,\n",
      "        31, 98,  7, 23,  6, 13, 36,  6, 22, 23,  6, 28], dtype=torch.int32)\n",
      "label: torch.Size([2, 30])\n",
      "torch.Size([410, 96])\n",
      "   tensor([ 4, 41,  9, 27, 22, 16, 43], dtype=torch.int32)\n",
      "label: torch.Size([2, 44])\n",
      "torch.Size([490, 96])\n",
      "   tensor([15, 23,  9, 18, 41, 22, 23, 15, 43, 10, 27,  4, 23, 98, 11, 23,  9, 13,\n",
      "        24, 15, 22, 23,  6, 41,  6, 98, 15, 43, 15, 40,  6, 41,  6, 15, 35],\n",
      "       dtype=torch.int32)\n",
      "label: torch.Size([2, 50])\n",
      "torch.Size([423, 96])\n",
      "   tensor([98, 13, 41, 20, 41,  9, 28, 13, 41, 98, 11, 23,  7, 15, 23, 13, 27, 98,\n",
      "         4, 41,  9, 27,  6,  4, 23, 98,  7, 23,  9,  7, 23,  9, 22, 23,  6, 98,\n",
      "         7, 43, 16, 27, 20, 41, 98, 10, 27,  4,  4, 31, 98, 13, 43, 21,  7, 23],\n",
      "       dtype=torch.int32)\n",
      "label: torch.Size([2, 54])\n",
      "torch.Size([407, 96])\n",
      "   tensor([ 15,  42,  10,  43, 102,  98,   4,  41,   6,  25,  15,  98,  13,  43,\n",
      "          4,  13,  23,  98,  22,  36,  15,  28,  98,  10,  27,   4,   6,  41,\n",
      "          6,  98,  15,  41,  10,  13,  43,   4,  15,  41,   9,  98,  10,  23,\n",
      "          9,  22,  23,   6,  41,   6,  98,   4,  27,  98,  15,  23,   6,  43,\n",
      "         15,  25, 102], dtype=torch.int32)\n",
      "label: torch.Size([2, 59])\n",
      "torch.Size([516, 96])\n",
      "   tensor([10, 23, 16, 15, 23,  3, 98, 22, 24, 15, 34, 98, 15, 29, 22, 24, 15, 98,\n",
      "         4, 23, 10, 29,  6, 98,  4, 41, 98,  6, 23,  9, 23, 15, 42, 98,  7, 43,\n",
      "        16, 27, 20, 41, 98, 10, 27,  4, 15, 27, 11, 31,  6, 41,  6, 98, 16, 24,\n",
      "        10, 43,  7, 31, 98, 14, 31,  9, 14, 31,  9, 22, 23,  7, 27,  9, 23,  3],\n",
      "       dtype=torch.int32)\n",
      "label: torch.Size([2, 72])\n",
      "torch.Size([541, 96])\n",
      "   tensor([10, 23,  9, 10, 23,  6, 98,  7, 41,  9, 15, 27,  7, 31, 98, 10, 23,  4,\n",
      "        98, 13, 27,  9,  9, 28,  6,  7, 23, 98], dtype=torch.int32)\n",
      "label: torch.Size([2, 60])\n",
      "torch.Size([704, 96])\n",
      "   tensor([13, 27,  9, 20, 23, 15,  4, 32, 98, 15, 31,  4, 13, 36, 13, 36, 98, 16,\n",
      "        27,  6, 11, 36,  6, 15, 41,  9, 98,  4, 43, 11, 31,  6, 15, 41,  9, 31,\n",
      "        98, 22, 28, 15, 43, 16, 41,  9,  6, 27, 13, 98, 22, 31,  7, 36, 98, 21,\n",
      "        43, 13, 41, 20, 23, 18, 43, 15, 31, 98,  7, 41, 15, 15, 41,  9, 98,  6,\n",
      "        27, 22, 15, 27, 13, 27, 98, 10, 23,  6,  7, 41,  6, 98,  4, 32, 16, 23,\n",
      "        15, 25], dtype=torch.int32)\n",
      "label: torch.Size([2, 92])\n",
      "torch.Size([586, 96])\n",
      "   tensor([16, 27, 15, 15, 40,  4, 10, 29,  6, 18, 28, 98, 10, 31, 15, 25, 15, 15,\n",
      "        28, 98, 13, 24,  4, 13, 24,  4,  5, 23,  9, 15, 43, 98,  6, 27, 10, 36,\n",
      "         6, 27, 10, 36, 98, 15, 43, 12, 41,  6,  7, 28, 98, 16, 27, 15, 10, 23,\n",
      "         9, 98, 15, 27, 10, 18, 27, 15,  6, 23,  4, 28, 98,  7, 23,  6, 10, 23,\n",
      "        13, 15, 43, 98,  6, 23], dtype=torch.int32)\n",
      "label: torch.Size([2, 78])\n"
     ]
    }
   ],
   "source": [
    "import numpy as np\n",
    "import os\n",
    "from glob import glob\n",
    "import json\n",
    "from pathlib import Path\n",
    "import torch\n",
    "import torchaudio\n",
    "from torchaudio import transforms as audioT\n",
    "\n",
    "\n",
    "\n",
    "class DatasetLoader:\n",
    "    def __init__(self,is_train_dataset:bool,batch_size,top_dataset_folder = \"자유대화 음성(일반남녀)\"):\n",
    "        super().__init__()\n",
    "        section_folder = \"Training\"\n",
    "        if(is_train_dataset==False):\n",
    "            section_folder = \"Validation\"\n",
    "        top_folder = os.path.join(top_dataset_folder,section_folder)\n",
    "        tmp_audios = glob(os.path.join(top_folder,\"*\\\\*.wav\"))\n",
    "        audios = []\n",
    "        for aud in tmp_audios:\n",
    "            ffolder = os.path.dirname(aud)\n",
    "            fname = os.path.basename(aud)\n",
    "            fn = Path(fname).stem\n",
    "            trans_path = os.path.join(ffolder,fn+\".json\")\n",
    "            if(os.path.exists(trans_path)==True):\n",
    "                trans = self.__getTranscription(trans_path)\n",
    "                trans = replaceBracket(trans)\n",
    "                if(len(trans)>0):\n",
    "                    audios.append(aud)\n",
    "        self.__audios = audios\n",
    "        self.__audio_len = len(audios)\n",
    "        self._batch_size = batch_size\n",
    "    def __len__(self):\n",
    "        return self.__audio_len//self._batch_size\n",
    "    def __getTranscription(self,fpath):\n",
    "        with open(fpath,\"r\",encoding=\"UTF-8\") as fp:\n",
    "            data = json.load(fp)[\"발화정보\"][\"stt\"]\n",
    "            data = pureosseugi(data)\n",
    "            #data = jamo.h2j(data)\n",
    "            #data = jamo.j2hcj(data)\n",
    "        return data\n",
    "    def __getRawAudioData(self,fpath,with_pytorch=True):\n",
    "        if(with_pytorch==True):\n",
    "            data,sample_rate = torchaudio.load(fpath)\n",
    "            return data,sample_rate\n",
    "        else:\n",
    "            import librosa\n",
    "            data,sample_rate = librosa.load(fpath)\n",
    "            return data,sample_rate\n",
    "\n",
    "    def __getAudioData(self,fpath,as_raw_data:bool = False,with_pytorch=True):\n",
    "        data,sample_rate = self.__getRawAudioData(fpath,with_pytorch)\n",
    "        if(as_raw_data==False):\n",
    "            if(with_pytorch==True):\n",
    "                mfcc_transforms = audioT.MFCC(sample_rate=sample_rate,n_mfcc=96)\n",
    "                data = mfcc_transforms(data)\n",
    "                data = data.transpose(1,2)\n",
    "                data = data.squeeze(0)\n",
    "                length = data.size(0)\n",
    "\n",
    "            else:\n",
    "                import librosa\n",
    "                data= librosa.feature.mfcc(y=data,sr=sample_rate).T\n",
    "                data = torch.from_numpy(data)\n",
    "                length = data.size(0)\n",
    "        return data,length\n",
    "        \n",
    "        \n",
    "    def shuffleDataset(self):\n",
    "        random.shuffle(self.__audios)\n",
    "    def __getitem__(self,idx):\n",
    "        st_idx,ed_idx = idx*self._batch_size,min((idx+1)*self._batch_size,self.__audio_len)\n",
    "        audios = []\n",
    "        audio_lengths = []\n",
    "        transcripts = []\n",
    "        transcript_length = []\n",
    "        for i in range(st_idx,ed_idx):\n",
    "            fpath = self.__audios[i]\n",
    "            fname = os.path.basename(fpath)\n",
    "            #print(fname)\n",
    "            ffolder = os.path.dirname(fpath)\n",
    "            transcript_fpath = os.path.join(ffolder,Path(fname).stem+\".json\")\n",
    "            transcription = self.__getTranscription(transcript_fpath)\n",
    "            audio_data,data_length = self.__getAudioData(fpath)\n",
    "            audios.append(audio_data)\n",
    "            audio_lengths.append(data_length)\n",
    "            #print(\"transcript:\",transcription)\n",
    "            transcription = replaceBracket(transcription)\n",
    "            #print(\"transcript2:\",transcription)\n",
    "            transcription = convertString2HangeulIndex(transcription)\n",
    "            transcripts.append(torch.from_numpy(np.array(transcription)))\n",
    "\n",
    "            transcript_length.append(len(transcription))#temp length\n",
    "        audios = torch.nn.utils.rnn.pad_sequence(audios,batch_first=True)\n",
    "        audio_lengths = np.array(audio_lengths)\n",
    "        transcript_length = np.array(transcript_length)\n",
    "        #transcripts = np.array(transcripts)\n",
    "        return audios,audio_lengths,transcripts,transcript_length\n",
    "        \n",
    "if(__name__==\"__main__\"):\n",
    "    debug_dataset = True\n",
    "    if(debug_dataset==True):\n",
    "        dataset_loader = DatasetLoader(is_train_dataset=True,batch_size=2,top_dataset_folder=\"자유대화 음성(일반남녀)\")\n",
    "        for i, (audios,audio_lengths,transcripts,transcript_length) in enumerate(dataset_loader):\n",
    "            #print(\"audios:\",len(audios),\"transcripts:\",len(transcripts))\n",
    "            sample_audio = audios[0]\n",
    "            sample_transcripts = transcripts[0]\n",
    "            print(sample_audio.shape)\n",
    "            print(\"  \",sample_transcripts)\n",
    "            labels = nn.utils.rnn.pad_sequence(transcripts,batch_first=True)\n",
    "            print(\"label:\",labels.shape)\n",
    "            if(i>10):\n",
    "                break\n"
   ]
  },
  {
   "cell_type": "code",
   "execution_count": 14,
   "metadata": {},
   "outputs": [],
   "source": [
    "def predict(net,dataset):\n",
    "    net.eval()\n",
    "    state = None\n",
    "    with torch.no_grad():\n",
    "        for (features,feat_lens,labels,label_lens) in dataset:\n",
    "            #features = torch.from_numpy(features)\n",
    "            feat_lens = torch.from_numpy(feat_lens)\n",
    "            #labels = torch.from_numpy(labels)\n",
    "            label_lens = torch.from_numpy(label_lens)\n",
    "            features = nn.utils.rnn.pad_sequence(features,batch_first=True)#.unsqueeze(1).transpose(2, 3)\n",
    "            labels = nn.utils.rnn.pad_sequence(labels,batch_first=True)\n",
    "            \n",
    "            features = features.to(device)\n",
    "            labels = labels.to(device)\n",
    "            feat_lens = feat_lens.to(device)\n",
    "            label_lens = label_lens.to(device)\n",
    "            \n",
    "            print(features.shape,labels.shape)\n",
    "            output = net.recognize(features.float(),feat_lens)  # (batch, time, n_class)\n",
    "            print(\"output:\",output.shape)\n",
    "            \n",
    "            #output = output.argmax(dim=-1)\n",
    "            print(\"raw output:\",output)\n",
    "            output = output.numpy().tolist()\n",
    "            \n",
    "                \n",
    "            features = features.cpu()\n",
    "            labels = labels.cpu()\n",
    "            feat_lens = feat_lens.cpu()\n",
    "            label_lens = label_lens.cpu()\n",
    "            print(\"-\"*10)\n",
    "            print(\"\\toriginal:\",labels)\n",
    "            #with_visible_tag\n",
    "            ori_string = dataset.token2String(labels.numpy()[0].tolist())\n",
    "            pred_string = dataset.token2String(output[0])\n",
    "            print(\"\\tori string: \",ori_string)\n",
    "            print(\"\\toutput result:\",output[0][0])\n",
    "            print(\"\\topt string: \",pred_string)\n",
    "            ori_string = dataset.token2String(labels.numpy()[0].tolist(),with_visible_tag=False)\n",
    "            pred_string = dataset.token2String(output[0],with_visible_tag=False)\n",
    "            print(f\"\\topt' string: '{pred_string}'\")\n",
    "            print(\"\\twer:\",wer(pred_string,ori_string))\n",
    "            print(\"\\tcer:\",cer(pred_string,ori_string))\n",
    "  "
   ]
  },
  {
   "cell_type": "code",
   "execution_count": 15,
   "metadata": {},
   "outputs": [],
   "source": [
    "device = torch.device(\"cuda:0\" if(torch.cuda.is_available()==True) else \"cpu\")"
   ]
  },
  {
   "cell_type": "code",
   "execution_count": 23,
   "metadata": {
    "colab": {
     "base_uri": "https://localhost:8080/"
    },
    "id": "Mj9XoeVzZCDo",
    "outputId": "dcecdc51-a84c-4321-c3e5-cafd599c86af"
   },
   "outputs": [],
   "source": [
    "net = RNNTransducer(num_classes=200,input_dim=96)\n",
    "net = net.to(device)"
   ]
  },
  {
   "cell_type": "code",
   "execution_count": 24,
   "metadata": {
    "id": "Tag98OfcbhyM"
   },
   "outputs": [],
   "source": [
    "from torch import optim\n",
    "initial_learning_rate = 0.0005\n",
    "optimizer = optim.Adam(net.parameters(),lr=initial_learning_rate)#,rho=0.95,eps=1e-8,weight_decay=0.0)\n",
    "scheduler = optim.lr_scheduler.ExponentialLR(optimizer,gamma=0.95) #.CosineAnnealingLR(optimizer,T_max=100,eta_min=0.001)"
   ]
  },
  {
   "cell_type": "code",
   "execution_count": null,
   "metadata": {},
   "outputs": [],
   "source": [
    "predict(net,testdataset)"
   ]
  },
  {
   "cell_type": "code",
   "execution_count": null,
   "metadata": {
    "id": "Ok4Ppw76vhze"
   },
   "outputs": [],
   "source": [
    "torch.save(net.state_dict(),\"rnnt_ko.pth\")"
   ]
  },
  {
   "cell_type": "code",
   "execution_count": 27,
   "metadata": {
    "colab": {
     "base_uri": "https://localhost:8080/"
    },
    "id": "sXcB2UhqcbQ-",
    "outputId": "5da0df9c-c63c-445e-ed52-77cc3e244257",
    "scrolled": true
   },
   "outputs": [
    {
     "name": "stderr",
     "output_type": "stream",
     "text": [
      "  0%|                                                                              | 1/46290 [00:00<4:42:29,  2.73it/s]"
     ]
    },
    {
     "name": "stdout",
     "output_type": "stream",
     "text": [
      "75.58484649658203\n"
     ]
    },
    {
     "name": "stderr",
     "output_type": "stream",
     "text": [
      "  0%|▏                                                                           | 101/46290 [00:20<2:21:51,  5.43it/s]"
     ]
    },
    {
     "name": "stdout",
     "output_type": "stream",
     "text": [
      "82.97039031982422\n"
     ]
    },
    {
     "name": "stderr",
     "output_type": "stream",
     "text": [
      "  0%|▎                                                                           | 202/46290 [00:41<2:06:26,  6.08it/s]"
     ]
    },
    {
     "name": "stdout",
     "output_type": "stream",
     "text": [
      "63.96460723876953\n"
     ]
    },
    {
     "name": "stderr",
     "output_type": "stream",
     "text": [
      "  1%|▍                                                                           | 301/46290 [01:01<2:14:25,  5.70it/s]"
     ]
    },
    {
     "name": "stdout",
     "output_type": "stream",
     "text": [
      "69.58851623535156\n"
     ]
    },
    {
     "name": "stderr",
     "output_type": "stream",
     "text": [
      "  1%|▋                                                                           | 402/46290 [01:23<2:18:58,  5.50it/s]"
     ]
    },
    {
     "name": "stdout",
     "output_type": "stream",
     "text": [
      "49.22011184692383\n"
     ]
    },
    {
     "name": "stderr",
     "output_type": "stream",
     "text": [
      "  1%|▊                                                                           | 502/46290 [01:44<2:19:45,  5.46it/s]"
     ]
    },
    {
     "name": "stdout",
     "output_type": "stream",
     "text": [
      "89.96521759033203\n"
     ]
    },
    {
     "name": "stderr",
     "output_type": "stream",
     "text": [
      "  1%|▉                                                                           | 602/46290 [02:05<2:28:08,  5.14it/s]"
     ]
    },
    {
     "name": "stdout",
     "output_type": "stream",
     "text": [
      "34.719417572021484\n"
     ]
    },
    {
     "name": "stderr",
     "output_type": "stream",
     "text": [
      "  2%|█▏                                                                          | 701/46290 [02:25<2:46:47,  4.56it/s]"
     ]
    },
    {
     "name": "stdout",
     "output_type": "stream",
     "text": [
      "62.309696197509766\n"
     ]
    },
    {
     "name": "stderr",
     "output_type": "stream",
     "text": [
      "  2%|█▎                                                                          | 802/46290 [02:46<1:57:17,  6.46it/s]"
     ]
    },
    {
     "name": "stdout",
     "output_type": "stream",
     "text": [
      "31.020946502685547\n"
     ]
    },
    {
     "name": "stderr",
     "output_type": "stream",
     "text": [
      "  2%|█▍                                                                          | 901/46290 [03:05<2:39:46,  4.73it/s]"
     ]
    },
    {
     "name": "stdout",
     "output_type": "stream",
     "text": [
      "181.8939208984375\n"
     ]
    },
    {
     "name": "stderr",
     "output_type": "stream",
     "text": [
      "  2%|█▌                                                                         | 1002/46290 [03:26<2:05:26,  6.02it/s]"
     ]
    },
    {
     "name": "stdout",
     "output_type": "stream",
     "text": [
      "47.117183685302734\n"
     ]
    },
    {
     "name": "stderr",
     "output_type": "stream",
     "text": [
      "  2%|█▊                                                                         | 1101/46290 [03:47<2:44:01,  4.59it/s]"
     ]
    },
    {
     "name": "stdout",
     "output_type": "stream",
     "text": [
      "89.80774688720703\n"
     ]
    },
    {
     "name": "stderr",
     "output_type": "stream",
     "text": [
      "  3%|█▉                                                                         | 1201/46290 [04:07<2:05:24,  5.99it/s]"
     ]
    },
    {
     "name": "stdout",
     "output_type": "stream",
     "text": [
      "88.61614227294922\n"
     ]
    },
    {
     "name": "stderr",
     "output_type": "stream",
     "text": [
      "  3%|██                                                                         | 1301/46290 [04:28<2:11:04,  5.72it/s]"
     ]
    },
    {
     "name": "stdout",
     "output_type": "stream",
     "text": [
      "77.85064697265625\n"
     ]
    },
    {
     "name": "stderr",
     "output_type": "stream",
     "text": [
      "  3%|██▎                                                                        | 1401/46290 [04:49<2:41:46,  4.62it/s]"
     ]
    },
    {
     "name": "stdout",
     "output_type": "stream",
     "text": [
      "113.34015655517578\n"
     ]
    },
    {
     "name": "stderr",
     "output_type": "stream",
     "text": [
      "  3%|██▍                                                                        | 1501/46290 [05:09<2:32:57,  4.88it/s]"
     ]
    },
    {
     "name": "stdout",
     "output_type": "stream",
     "text": [
      "106.61524200439453\n"
     ]
    },
    {
     "name": "stderr",
     "output_type": "stream",
     "text": [
      "  3%|██▌                                                                        | 1602/46290 [05:31<2:12:11,  5.63it/s]"
     ]
    },
    {
     "name": "stdout",
     "output_type": "stream",
     "text": [
      "74.9659423828125\n"
     ]
    },
    {
     "name": "stderr",
     "output_type": "stream",
     "text": [
      "  4%|██▊                                                                        | 1701/46290 [05:52<2:05:49,  5.91it/s]"
     ]
    },
    {
     "name": "stdout",
     "output_type": "stream",
     "text": [
      "148.17340087890625\n"
     ]
    },
    {
     "name": "stderr",
     "output_type": "stream",
     "text": [
      "  4%|██▉                                                                        | 1801/46290 [06:12<2:18:24,  5.36it/s]"
     ]
    },
    {
     "name": "stdout",
     "output_type": "stream",
     "text": [
      "19.750892639160156\n"
     ]
    },
    {
     "name": "stderr",
     "output_type": "stream",
     "text": [
      "  4%|███                                                                        | 1901/46290 [06:32<2:04:15,  5.95it/s]"
     ]
    },
    {
     "name": "stdout",
     "output_type": "stream",
     "text": [
      "53.57270050048828\n"
     ]
    },
    {
     "name": "stderr",
     "output_type": "stream",
     "text": [
      "  4%|███▏                                                                       | 2002/46290 [06:51<2:06:23,  5.84it/s]"
     ]
    },
    {
     "name": "stdout",
     "output_type": "stream",
     "text": [
      "108.65145111083984\n"
     ]
    },
    {
     "name": "stderr",
     "output_type": "stream",
     "text": [
      "  5%|███▍                                                                       | 2102/46290 [07:12<2:34:28,  4.77it/s]"
     ]
    },
    {
     "name": "stdout",
     "output_type": "stream",
     "text": [
      "11.792133331298828\n"
     ]
    },
    {
     "name": "stderr",
     "output_type": "stream",
     "text": [
      "  5%|███▌                                                                       | 2201/46290 [07:31<2:10:22,  5.64it/s]"
     ]
    },
    {
     "name": "stdout",
     "output_type": "stream",
     "text": [
      "42.82441711425781\n"
     ]
    },
    {
     "name": "stderr",
     "output_type": "stream",
     "text": [
      "  5%|███▋                                                                       | 2301/46290 [07:51<2:30:26,  4.87it/s]"
     ]
    },
    {
     "name": "stdout",
     "output_type": "stream",
     "text": [
      "102.06041717529297\n"
     ]
    },
    {
     "name": "stderr",
     "output_type": "stream",
     "text": [
      "  5%|███▉                                                                       | 2402/46290 [08:14<2:30:22,  4.86it/s]"
     ]
    },
    {
     "name": "stdout",
     "output_type": "stream",
     "text": [
      "58.88202667236328\n"
     ]
    },
    {
     "name": "stderr",
     "output_type": "stream",
     "text": [
      "  5%|████                                                                       | 2502/46290 [08:35<2:03:05,  5.93it/s]"
     ]
    },
    {
     "name": "stdout",
     "output_type": "stream",
     "text": [
      "71.9266357421875\n"
     ]
    },
    {
     "name": "stderr",
     "output_type": "stream",
     "text": [
      "  6%|████▏                                                                      | 2601/46290 [08:55<2:18:04,  5.27it/s]"
     ]
    },
    {
     "name": "stdout",
     "output_type": "stream",
     "text": [
      "85.53187561035156\n"
     ]
    },
    {
     "name": "stderr",
     "output_type": "stream",
     "text": [
      "  6%|████▍                                                                      | 2701/46290 [09:16<2:38:31,  4.58it/s]"
     ]
    },
    {
     "name": "stdout",
     "output_type": "stream",
     "text": [
      "101.48155975341797\n"
     ]
    },
    {
     "name": "stderr",
     "output_type": "stream",
     "text": [
      "  6%|████▌                                                                      | 2802/46290 [09:37<2:10:12,  5.57it/s]"
     ]
    },
    {
     "name": "stdout",
     "output_type": "stream",
     "text": [
      "38.43658447265625\n"
     ]
    },
    {
     "name": "stderr",
     "output_type": "stream",
     "text": [
      "  6%|████▋                                                                      | 2901/46290 [09:57<2:20:37,  5.14it/s]"
     ]
    },
    {
     "name": "stdout",
     "output_type": "stream",
     "text": [
      "44.619300842285156\n"
     ]
    },
    {
     "name": "stderr",
     "output_type": "stream",
     "text": [
      "  6%|████▊                                                                      | 3002/46290 [10:19<2:38:30,  4.55it/s]"
     ]
    },
    {
     "name": "stdout",
     "output_type": "stream",
     "text": [
      "121.73786926269531\n"
     ]
    },
    {
     "name": "stderr",
     "output_type": "stream",
     "text": [
      "  7%|█████                                                                      | 3102/46290 [10:38<2:12:32,  5.43it/s]"
     ]
    },
    {
     "name": "stdout",
     "output_type": "stream",
     "text": [
      "nan\n"
     ]
    },
    {
     "name": "stderr",
     "output_type": "stream",
     "text": [
      "  7%|█████▏                                                                     | 3201/46290 [10:59<2:52:58,  4.15it/s]"
     ]
    },
    {
     "name": "stdout",
     "output_type": "stream",
     "text": [
      "nan\n"
     ]
    },
    {
     "name": "stderr",
     "output_type": "stream",
     "text": [
      "  7%|█████▎                                                                     | 3301/46290 [11:20<2:55:02,  4.09it/s]"
     ]
    },
    {
     "name": "stdout",
     "output_type": "stream",
     "text": [
      "nan\n"
     ]
    },
    {
     "name": "stderr",
     "output_type": "stream",
     "text": [
      "  7%|█████▌                                                                     | 3402/46290 [11:41<2:03:13,  5.80it/s]"
     ]
    },
    {
     "name": "stdout",
     "output_type": "stream",
     "text": [
      "nan\n"
     ]
    },
    {
     "name": "stderr",
     "output_type": "stream",
     "text": [
      "  8%|█████▋                                                                     | 3502/46290 [12:01<1:59:11,  5.98it/s]"
     ]
    },
    {
     "name": "stdout",
     "output_type": "stream",
     "text": [
      "nan\n"
     ]
    },
    {
     "name": "stderr",
     "output_type": "stream",
     "text": [
      "  8%|█████▊                                                                     | 3601/46290 [12:21<2:27:46,  4.81it/s]"
     ]
    },
    {
     "name": "stdout",
     "output_type": "stream",
     "text": [
      "nan\n"
     ]
    },
    {
     "name": "stderr",
     "output_type": "stream",
     "text": [
      "  8%|█████▉                                                                     | 3701/46290 [12:42<2:13:55,  5.30it/s]"
     ]
    },
    {
     "name": "stdout",
     "output_type": "stream",
     "text": [
      "nan\n"
     ]
    },
    {
     "name": "stderr",
     "output_type": "stream",
     "text": [
      "  8%|██████▏                                                                    | 3802/46290 [13:03<2:10:19,  5.43it/s]"
     ]
    },
    {
     "name": "stdout",
     "output_type": "stream",
     "text": [
      "nan\n"
     ]
    },
    {
     "name": "stderr",
     "output_type": "stream",
     "text": [
      "  8%|██████▎                                                                    | 3902/46290 [13:23<2:35:34,  4.54it/s]"
     ]
    },
    {
     "name": "stdout",
     "output_type": "stream",
     "text": [
      "nan\n"
     ]
    },
    {
     "name": "stderr",
     "output_type": "stream",
     "text": [
      "  9%|██████▍                                                                    | 4001/46290 [13:44<2:16:09,  5.18it/s]"
     ]
    },
    {
     "name": "stdout",
     "output_type": "stream",
     "text": [
      "nan\n"
     ]
    },
    {
     "name": "stderr",
     "output_type": "stream",
     "text": [
      "  9%|██████▋                                                                    | 4102/46290 [14:06<2:05:17,  5.61it/s]"
     ]
    },
    {
     "name": "stdout",
     "output_type": "stream",
     "text": [
      "nan\n"
     ]
    },
    {
     "name": "stderr",
     "output_type": "stream",
     "text": [
      "  9%|██████▊                                                                    | 4201/46290 [14:26<2:21:07,  4.97it/s]"
     ]
    },
    {
     "name": "stdout",
     "output_type": "stream",
     "text": [
      "nan\n"
     ]
    },
    {
     "name": "stderr",
     "output_type": "stream",
     "text": [
      "  9%|██████▉                                                                    | 4301/46290 [14:47<2:08:19,  5.45it/s]"
     ]
    },
    {
     "name": "stdout",
     "output_type": "stream",
     "text": [
      "nan\n"
     ]
    },
    {
     "name": "stderr",
     "output_type": "stream",
     "text": [
      " 10%|███████▏                                                                   | 4401/46290 [15:07<2:29:13,  4.68it/s]"
     ]
    },
    {
     "name": "stdout",
     "output_type": "stream",
     "text": [
      "nan\n"
     ]
    },
    {
     "name": "stderr",
     "output_type": "stream",
     "text": [
      " 10%|███████▎                                                                   | 4502/46290 [15:28<2:29:24,  4.66it/s]"
     ]
    },
    {
     "name": "stdout",
     "output_type": "stream",
     "text": [
      "nan\n"
     ]
    },
    {
     "name": "stderr",
     "output_type": "stream",
     "text": [
      " 10%|███████▍                                                                   | 4601/46290 [15:48<2:25:16,  4.78it/s]"
     ]
    },
    {
     "name": "stdout",
     "output_type": "stream",
     "text": [
      "nan\n"
     ]
    },
    {
     "name": "stderr",
     "output_type": "stream",
     "text": [
      " 10%|███████▌                                                                   | 4702/46290 [16:09<2:19:34,  4.97it/s]"
     ]
    },
    {
     "name": "stdout",
     "output_type": "stream",
     "text": [
      "nan\n"
     ]
    },
    {
     "name": "stderr",
     "output_type": "stream",
     "text": [
      " 10%|███████▊                                                                   | 4801/46290 [16:29<2:02:42,  5.64it/s]"
     ]
    },
    {
     "name": "stdout",
     "output_type": "stream",
     "text": [
      "nan\n"
     ]
    },
    {
     "name": "stderr",
     "output_type": "stream",
     "text": [
      " 11%|███████▉                                                                   | 4902/46290 [16:49<2:17:06,  5.03it/s]"
     ]
    },
    {
     "name": "stdout",
     "output_type": "stream",
     "text": [
      "nan\n"
     ]
    },
    {
     "name": "stderr",
     "output_type": "stream",
     "text": [
      " 11%|████████                                                                   | 5002/46290 [17:10<2:01:12,  5.68it/s]"
     ]
    },
    {
     "name": "stdout",
     "output_type": "stream",
     "text": [
      "nan\n"
     ]
    },
    {
     "name": "stderr",
     "output_type": "stream",
     "text": [
      " 11%|████████▎                                                                  | 5102/46290 [17:30<2:24:03,  4.77it/s]"
     ]
    },
    {
     "name": "stdout",
     "output_type": "stream",
     "text": [
      "nan\n"
     ]
    },
    {
     "name": "stderr",
     "output_type": "stream",
     "text": [
      " 11%|████████▍                                                                  | 5201/46290 [17:50<2:20:25,  4.88it/s]"
     ]
    },
    {
     "name": "stdout",
     "output_type": "stream",
     "text": [
      "nan\n"
     ]
    },
    {
     "name": "stderr",
     "output_type": "stream",
     "text": [
      " 11%|████████▌                                                                  | 5301/46290 [18:12<2:38:08,  4.32it/s]"
     ]
    },
    {
     "name": "stdout",
     "output_type": "stream",
     "text": [
      "nan\n"
     ]
    },
    {
     "name": "stderr",
     "output_type": "stream",
     "text": [
      " 12%|████████▊                                                                  | 5401/46290 [18:33<2:12:02,  5.16it/s]"
     ]
    },
    {
     "name": "stdout",
     "output_type": "stream",
     "text": [
      "nan\n"
     ]
    },
    {
     "name": "stderr",
     "output_type": "stream",
     "text": [
      " 12%|████████▉                                                                  | 5502/46290 [18:52<1:51:31,  6.10it/s]"
     ]
    },
    {
     "name": "stdout",
     "output_type": "stream",
     "text": [
      "nan\n"
     ]
    },
    {
     "name": "stderr",
     "output_type": "stream",
     "text": [
      " 12%|█████████                                                                  | 5601/46290 [19:11<2:01:05,  5.60it/s]"
     ]
    },
    {
     "name": "stdout",
     "output_type": "stream",
     "text": [
      "nan\n"
     ]
    },
    {
     "name": "stderr",
     "output_type": "stream",
     "text": [
      " 12%|█████████▏                                                                 | 5702/46290 [19:32<1:57:44,  5.75it/s]"
     ]
    },
    {
     "name": "stdout",
     "output_type": "stream",
     "text": [
      "nan\n"
     ]
    },
    {
     "name": "stderr",
     "output_type": "stream",
     "text": [
      " 13%|█████████▍                                                                 | 5801/46290 [19:51<2:08:20,  5.26it/s]"
     ]
    },
    {
     "name": "stdout",
     "output_type": "stream",
     "text": [
      "nan\n"
     ]
    },
    {
     "name": "stderr",
     "output_type": "stream",
     "text": [
      " 13%|█████████▌                                                                 | 5901/46290 [20:13<2:55:31,  3.84it/s]"
     ]
    },
    {
     "name": "stdout",
     "output_type": "stream",
     "text": [
      "nan\n"
     ]
    },
    {
     "name": "stderr",
     "output_type": "stream",
     "text": [
      " 13%|█████████▋                                                                 | 6001/46290 [20:33<2:08:33,  5.22it/s]"
     ]
    },
    {
     "name": "stdout",
     "output_type": "stream",
     "text": [
      "nan\n"
     ]
    },
    {
     "name": "stderr",
     "output_type": "stream",
     "text": [
      " 13%|█████████▉                                                                 | 6102/46290 [20:54<2:06:38,  5.29it/s]"
     ]
    },
    {
     "name": "stdout",
     "output_type": "stream",
     "text": [
      "nan\n"
     ]
    },
    {
     "name": "stderr",
     "output_type": "stream",
     "text": [
      " 13%|██████████                                                                 | 6202/46290 [21:13<2:12:38,  5.04it/s]"
     ]
    },
    {
     "name": "stdout",
     "output_type": "stream",
     "text": [
      "nan\n"
     ]
    },
    {
     "name": "stderr",
     "output_type": "stream",
     "text": [
      " 14%|██████████▏                                                                | 6301/46290 [21:34<2:17:10,  4.86it/s]"
     ]
    },
    {
     "name": "stdout",
     "output_type": "stream",
     "text": [
      "nan\n"
     ]
    },
    {
     "name": "stderr",
     "output_type": "stream",
     "text": [
      " 14%|██████████▎                                                                | 6401/46290 [21:54<2:34:54,  4.29it/s]"
     ]
    },
    {
     "name": "stdout",
     "output_type": "stream",
     "text": [
      "nan\n"
     ]
    },
    {
     "name": "stderr",
     "output_type": "stream",
     "text": [
      " 14%|██████████▌                                                                | 6501/46290 [22:16<2:16:28,  4.86it/s]"
     ]
    },
    {
     "name": "stdout",
     "output_type": "stream",
     "text": [
      "nan\n"
     ]
    },
    {
     "name": "stderr",
     "output_type": "stream",
     "text": [
      " 14%|██████████▋                                                                | 6602/46290 [22:36<1:55:27,  5.73it/s]"
     ]
    },
    {
     "name": "stdout",
     "output_type": "stream",
     "text": [
      "nan\n"
     ]
    },
    {
     "name": "stderr",
     "output_type": "stream",
     "text": [
      " 14%|██████████▊                                                                | 6701/46290 [22:56<2:36:17,  4.22it/s]"
     ]
    },
    {
     "name": "stdout",
     "output_type": "stream",
     "text": [
      "nan\n"
     ]
    },
    {
     "name": "stderr",
     "output_type": "stream",
     "text": [
      " 15%|███████████                                                                | 6801/46290 [23:17<2:56:55,  3.72it/s]"
     ]
    },
    {
     "name": "stdout",
     "output_type": "stream",
     "text": [
      "nan\n"
     ]
    },
    {
     "name": "stderr",
     "output_type": "stream",
     "text": [
      " 15%|███████████▏                                                               | 6902/46290 [23:37<1:50:07,  5.96it/s]"
     ]
    },
    {
     "name": "stdout",
     "output_type": "stream",
     "text": [
      "nan\n"
     ]
    },
    {
     "name": "stderr",
     "output_type": "stream",
     "text": [
      " 15%|███████████▎                                                               | 7001/46290 [23:57<2:12:58,  4.92it/s]"
     ]
    },
    {
     "name": "stdout",
     "output_type": "stream",
     "text": [
      "nan\n"
     ]
    },
    {
     "name": "stderr",
     "output_type": "stream",
     "text": [
      " 15%|███████████▌                                                               | 7101/46290 [24:17<2:04:05,  5.26it/s]"
     ]
    },
    {
     "name": "stdout",
     "output_type": "stream",
     "text": [
      "nan\n"
     ]
    },
    {
     "name": "stderr",
     "output_type": "stream",
     "text": [
      " 16%|███████████▋                                                               | 7201/46290 [24:38<3:05:10,  3.52it/s]"
     ]
    },
    {
     "name": "stdout",
     "output_type": "stream",
     "text": [
      "nan\n"
     ]
    },
    {
     "name": "stderr",
     "output_type": "stream",
     "text": [
      " 16%|███████████▊                                                               | 7302/46290 [24:58<2:51:11,  3.80it/s]"
     ]
    },
    {
     "name": "stdout",
     "output_type": "stream",
     "text": [
      "nan\n"
     ]
    },
    {
     "name": "stderr",
     "output_type": "stream",
     "text": [
      " 16%|███████████▉                                                               | 7401/46290 [25:18<2:15:57,  4.77it/s]"
     ]
    },
    {
     "name": "stdout",
     "output_type": "stream",
     "text": [
      "nan\n"
     ]
    },
    {
     "name": "stderr",
     "output_type": "stream",
     "text": [
      " 16%|████████████▏                                                              | 7501/46290 [25:37<2:41:17,  4.01it/s]"
     ]
    },
    {
     "name": "stdout",
     "output_type": "stream",
     "text": [
      "nan\n"
     ]
    },
    {
     "name": "stderr",
     "output_type": "stream",
     "text": [
      " 16%|████████████▎                                                              | 7601/46290 [25:58<2:00:35,  5.35it/s]"
     ]
    },
    {
     "name": "stdout",
     "output_type": "stream",
     "text": [
      "nan\n"
     ]
    },
    {
     "name": "stderr",
     "output_type": "stream",
     "text": [
      " 17%|████████████▍                                                              | 7702/46290 [26:19<2:10:53,  4.91it/s]"
     ]
    },
    {
     "name": "stdout",
     "output_type": "stream",
     "text": [
      "nan\n"
     ]
    },
    {
     "name": "stderr",
     "output_type": "stream",
     "text": [
      " 17%|████████████▋                                                              | 7801/46290 [26:38<1:49:22,  5.87it/s]"
     ]
    },
    {
     "name": "stdout",
     "output_type": "stream",
     "text": [
      "nan\n"
     ]
    },
    {
     "name": "stderr",
     "output_type": "stream",
     "text": [
      " 17%|████████████▊                                                              | 7902/46290 [26:58<1:55:53,  5.52it/s]"
     ]
    },
    {
     "name": "stdout",
     "output_type": "stream",
     "text": [
      "nan\n"
     ]
    },
    {
     "name": "stderr",
     "output_type": "stream",
     "text": [
      " 17%|████████████▉                                                              | 8001/46290 [27:18<1:54:58,  5.55it/s]"
     ]
    },
    {
     "name": "stdout",
     "output_type": "stream",
     "text": [
      "nan\n"
     ]
    },
    {
     "name": "stderr",
     "output_type": "stream",
     "text": [
      " 18%|█████████████▏                                                             | 8102/46290 [27:39<1:45:29,  6.03it/s]"
     ]
    },
    {
     "name": "stdout",
     "output_type": "stream",
     "text": [
      "nan\n"
     ]
    },
    {
     "name": "stderr",
     "output_type": "stream",
     "text": [
      " 18%|█████████████▎                                                             | 8201/46290 [27:59<1:57:43,  5.39it/s]"
     ]
    },
    {
     "name": "stdout",
     "output_type": "stream",
     "text": [
      "nan\n"
     ]
    },
    {
     "name": "stderr",
     "output_type": "stream",
     "text": [
      " 18%|█████████████▍                                                             | 8301/46290 [28:19<1:51:19,  5.69it/s]"
     ]
    },
    {
     "name": "stdout",
     "output_type": "stream",
     "text": [
      "nan\n"
     ]
    },
    {
     "name": "stderr",
     "output_type": "stream",
     "text": [
      " 18%|█████████████▌                                                             | 8401/46290 [28:40<2:44:59,  3.83it/s]"
     ]
    },
    {
     "name": "stdout",
     "output_type": "stream",
     "text": [
      "nan\n"
     ]
    },
    {
     "name": "stderr",
     "output_type": "stream",
     "text": [
      " 18%|█████████████▊                                                             | 8501/46290 [29:01<2:12:32,  4.75it/s]"
     ]
    },
    {
     "name": "stdout",
     "output_type": "stream",
     "text": [
      "nan\n"
     ]
    },
    {
     "name": "stderr",
     "output_type": "stream",
     "text": [
      " 19%|█████████████▉                                                             | 8602/46290 [29:22<2:05:56,  4.99it/s]"
     ]
    },
    {
     "name": "stdout",
     "output_type": "stream",
     "text": [
      "nan\n"
     ]
    },
    {
     "name": "stderr",
     "output_type": "stream",
     "text": [
      " 19%|██████████████                                                             | 8701/46290 [29:41<2:25:39,  4.30it/s]"
     ]
    },
    {
     "name": "stdout",
     "output_type": "stream",
     "text": [
      "nan\n"
     ]
    },
    {
     "name": "stderr",
     "output_type": "stream",
     "text": [
      " 19%|██████████████▎                                                            | 8802/46290 [30:01<1:55:45,  5.40it/s]"
     ]
    },
    {
     "name": "stdout",
     "output_type": "stream",
     "text": [
      "nan\n"
     ]
    },
    {
     "name": "stderr",
     "output_type": "stream",
     "text": [
      " 19%|██████████████▍                                                            | 8901/46290 [30:20<1:51:57,  5.57it/s]"
     ]
    },
    {
     "name": "stdout",
     "output_type": "stream",
     "text": [
      "nan\n"
     ]
    },
    {
     "name": "stderr",
     "output_type": "stream",
     "text": [
      " 19%|██████████████▌                                                            | 9002/46290 [30:40<2:21:27,  4.39it/s]"
     ]
    },
    {
     "name": "stdout",
     "output_type": "stream",
     "text": [
      "nan\n"
     ]
    },
    {
     "name": "stderr",
     "output_type": "stream",
     "text": [
      " 20%|██████████████▋                                                            | 9101/46290 [31:00<2:16:09,  4.55it/s]"
     ]
    },
    {
     "name": "stdout",
     "output_type": "stream",
     "text": [
      "nan\n"
     ]
    },
    {
     "name": "stderr",
     "output_type": "stream",
     "text": [
      " 20%|██████████████▉                                                            | 9201/46290 [31:20<1:53:32,  5.44it/s]"
     ]
    },
    {
     "name": "stdout",
     "output_type": "stream",
     "text": [
      "nan\n"
     ]
    },
    {
     "name": "stderr",
     "output_type": "stream",
     "text": [
      " 20%|███████████████                                                            | 9302/46290 [31:41<2:11:06,  4.70it/s]"
     ]
    },
    {
     "name": "stdout",
     "output_type": "stream",
     "text": [
      "nan\n"
     ]
    },
    {
     "name": "stderr",
     "output_type": "stream",
     "text": [
      " 20%|███████████████▏                                                           | 9401/46290 [32:02<2:35:05,  3.96it/s]"
     ]
    },
    {
     "name": "stdout",
     "output_type": "stream",
     "text": [
      "nan\n"
     ]
    },
    {
     "name": "stderr",
     "output_type": "stream",
     "text": [
      " 21%|███████████████▍                                                           | 9502/46290 [32:22<1:36:25,  6.36it/s]"
     ]
    },
    {
     "name": "stdout",
     "output_type": "stream",
     "text": [
      "nan\n"
     ]
    },
    {
     "name": "stderr",
     "output_type": "stream",
     "text": [
      " 21%|███████████████▌                                                           | 9601/46290 [32:41<2:00:44,  5.06it/s]"
     ]
    },
    {
     "name": "stdout",
     "output_type": "stream",
     "text": [
      "nan\n"
     ]
    },
    {
     "name": "stderr",
     "output_type": "stream",
     "text": [
      " 21%|███████████████▋                                                           | 9702/46290 [33:02<1:52:11,  5.44it/s]"
     ]
    },
    {
     "name": "stdout",
     "output_type": "stream",
     "text": [
      "nan\n"
     ]
    },
    {
     "name": "stderr",
     "output_type": "stream",
     "text": [
      " 21%|███████████████▉                                                           | 9802/46290 [33:22<1:49:28,  5.56it/s]"
     ]
    },
    {
     "name": "stdout",
     "output_type": "stream",
     "text": [
      "nan\n"
     ]
    },
    {
     "name": "stderr",
     "output_type": "stream",
     "text": [
      " 21%|████████████████                                                           | 9901/46290 [33:42<1:57:19,  5.17it/s]"
     ]
    },
    {
     "name": "stdout",
     "output_type": "stream",
     "text": [
      "nan\n"
     ]
    },
    {
     "name": "stderr",
     "output_type": "stream",
     "text": [
      " 22%|███████████████▉                                                          | 10001/46290 [34:03<2:16:09,  4.44it/s]"
     ]
    },
    {
     "name": "stdout",
     "output_type": "stream",
     "text": [
      "nan\n"
     ]
    },
    {
     "name": "stderr",
     "output_type": "stream",
     "text": [
      " 22%|████████████████▏                                                         | 10101/46290 [34:23<1:53:11,  5.33it/s]"
     ]
    },
    {
     "name": "stdout",
     "output_type": "stream",
     "text": [
      "nan\n"
     ]
    },
    {
     "name": "stderr",
     "output_type": "stream",
     "text": [
      " 22%|████████████████▎                                                         | 10201/46290 [34:44<2:35:51,  3.86it/s]"
     ]
    },
    {
     "name": "stdout",
     "output_type": "stream",
     "text": [
      "nan\n"
     ]
    },
    {
     "name": "stderr",
     "output_type": "stream",
     "text": [
      " 22%|████████████████▍                                                         | 10302/46290 [35:05<1:51:01,  5.40it/s]"
     ]
    },
    {
     "name": "stdout",
     "output_type": "stream",
     "text": [
      "nan\n"
     ]
    },
    {
     "name": "stderr",
     "output_type": "stream",
     "text": [
      " 22%|████████████████▋                                                         | 10402/46290 [35:26<2:00:14,  4.97it/s]"
     ]
    },
    {
     "name": "stdout",
     "output_type": "stream",
     "text": [
      "nan\n"
     ]
    },
    {
     "name": "stderr",
     "output_type": "stream",
     "text": [
      " 23%|████████████████▊                                                         | 10502/46290 [35:46<1:59:18,  5.00it/s]"
     ]
    },
    {
     "name": "stdout",
     "output_type": "stream",
     "text": [
      "nan\n"
     ]
    },
    {
     "name": "stderr",
     "output_type": "stream",
     "text": [
      " 23%|████████████████▉                                                         | 10601/46290 [36:06<2:14:58,  4.41it/s]"
     ]
    },
    {
     "name": "stdout",
     "output_type": "stream",
     "text": [
      "nan\n"
     ]
    },
    {
     "name": "stderr",
     "output_type": "stream",
     "text": [
      " 23%|█████████████████                                                         | 10701/46290 [36:27<1:56:22,  5.10it/s]"
     ]
    },
    {
     "name": "stdout",
     "output_type": "stream",
     "text": [
      "nan\n"
     ]
    },
    {
     "name": "stderr",
     "output_type": "stream",
     "text": [
      " 23%|█████████████████▎                                                        | 10802/46290 [36:48<1:48:47,  5.44it/s]"
     ]
    },
    {
     "name": "stdout",
     "output_type": "stream",
     "text": [
      "nan\n"
     ]
    },
    {
     "name": "stderr",
     "output_type": "stream",
     "text": [
      " 24%|█████████████████▍                                                        | 10901/46290 [37:09<1:55:47,  5.09it/s]"
     ]
    },
    {
     "name": "stdout",
     "output_type": "stream",
     "text": [
      "nan\n"
     ]
    },
    {
     "name": "stderr",
     "output_type": "stream",
     "text": [
      " 24%|█████████████████▌                                                        | 11002/46290 [37:30<1:49:27,  5.37it/s]"
     ]
    },
    {
     "name": "stdout",
     "output_type": "stream",
     "text": [
      "nan\n"
     ]
    },
    {
     "name": "stderr",
     "output_type": "stream",
     "text": [
      " 24%|█████████████████▋                                                        | 11101/46290 [37:50<1:50:06,  5.33it/s]"
     ]
    },
    {
     "name": "stdout",
     "output_type": "stream",
     "text": [
      "nan\n"
     ]
    },
    {
     "name": "stderr",
     "output_type": "stream",
     "text": [
      " 24%|█████████████████▉                                                        | 11202/46290 [38:11<2:04:36,  4.69it/s]"
     ]
    },
    {
     "name": "stdout",
     "output_type": "stream",
     "text": [
      "nan\n"
     ]
    },
    {
     "name": "stderr",
     "output_type": "stream",
     "text": [
      " 24%|██████████████████                                                        | 11302/46290 [38:31<1:36:36,  6.04it/s]"
     ]
    },
    {
     "name": "stdout",
     "output_type": "stream",
     "text": [
      "nan\n"
     ]
    },
    {
     "name": "stderr",
     "output_type": "stream",
     "text": [
      " 25%|██████████████████▏                                                       | 11402/46290 [38:52<1:58:15,  4.92it/s]"
     ]
    },
    {
     "name": "stdout",
     "output_type": "stream",
     "text": [
      "nan\n"
     ]
    },
    {
     "name": "stderr",
     "output_type": "stream",
     "text": [
      " 25%|██████████████████▍                                                       | 11501/46290 [39:12<2:16:52,  4.24it/s]"
     ]
    },
    {
     "name": "stdout",
     "output_type": "stream",
     "text": [
      "nan\n"
     ]
    },
    {
     "name": "stderr",
     "output_type": "stream",
     "text": [
      " 25%|██████████████████▌                                                       | 11601/46290 [39:33<1:59:36,  4.83it/s]"
     ]
    },
    {
     "name": "stdout",
     "output_type": "stream",
     "text": [
      "nan\n"
     ]
    },
    {
     "name": "stderr",
     "output_type": "stream",
     "text": [
      " 25%|██████████████████▋                                                       | 11701/46290 [39:55<2:43:29,  3.53it/s]"
     ]
    },
    {
     "name": "stdout",
     "output_type": "stream",
     "text": [
      "nan\n"
     ]
    },
    {
     "name": "stderr",
     "output_type": "stream",
     "text": [
      " 25%|██████████████████▊                                                       | 11801/46290 [40:14<2:08:04,  4.49it/s]"
     ]
    },
    {
     "name": "stdout",
     "output_type": "stream",
     "text": [
      "nan\n"
     ]
    },
    {
     "name": "stderr",
     "output_type": "stream",
     "text": [
      " 26%|███████████████████                                                       | 11902/46290 [40:34<1:51:20,  5.15it/s]"
     ]
    },
    {
     "name": "stdout",
     "output_type": "stream",
     "text": [
      "nan\n"
     ]
    },
    {
     "name": "stderr",
     "output_type": "stream",
     "text": [
      " 26%|███████████████████▏                                                      | 12002/46290 [40:55<1:40:04,  5.71it/s]"
     ]
    },
    {
     "name": "stdout",
     "output_type": "stream",
     "text": [
      "nan\n"
     ]
    },
    {
     "name": "stderr",
     "output_type": "stream",
     "text": [
      " 26%|███████████████████▎                                                      | 12101/46290 [41:16<2:18:17,  4.12it/s]"
     ]
    },
    {
     "name": "stdout",
     "output_type": "stream",
     "text": [
      "nan\n"
     ]
    },
    {
     "name": "stderr",
     "output_type": "stream",
     "text": [
      " 26%|███████████████████▌                                                      | 12201/46290 [41:37<1:31:11,  6.23it/s]"
     ]
    },
    {
     "name": "stdout",
     "output_type": "stream",
     "text": [
      "nan\n"
     ]
    },
    {
     "name": "stderr",
     "output_type": "stream",
     "text": [
      " 27%|███████████████████▋                                                      | 12301/46290 [41:58<2:07:09,  4.45it/s]"
     ]
    },
    {
     "name": "stdout",
     "output_type": "stream",
     "text": [
      "nan\n"
     ]
    },
    {
     "name": "stderr",
     "output_type": "stream",
     "text": [
      " 27%|███████████████████▊                                                      | 12401/46290 [42:18<1:41:43,  5.55it/s]"
     ]
    },
    {
     "name": "stdout",
     "output_type": "stream",
     "text": [
      "nan\n"
     ]
    },
    {
     "name": "stderr",
     "output_type": "stream",
     "text": [
      " 27%|███████████████████▉                                                      | 12501/46290 [42:38<1:45:20,  5.35it/s]"
     ]
    },
    {
     "name": "stdout",
     "output_type": "stream",
     "text": [
      "nan\n"
     ]
    },
    {
     "name": "stderr",
     "output_type": "stream",
     "text": [
      " 27%|████████████████████▏                                                     | 12601/46290 [42:58<1:56:16,  4.83it/s]"
     ]
    },
    {
     "name": "stdout",
     "output_type": "stream",
     "text": [
      "nan\n"
     ]
    },
    {
     "name": "stderr",
     "output_type": "stream",
     "text": [
      " 27%|████████████████████▎                                                     | 12702/46290 [43:17<1:35:18,  5.87it/s]"
     ]
    },
    {
     "name": "stdout",
     "output_type": "stream",
     "text": [
      "nan\n"
     ]
    },
    {
     "name": "stderr",
     "output_type": "stream",
     "text": [
      " 28%|████████████████████▍                                                     | 12801/46290 [43:38<2:07:55,  4.36it/s]"
     ]
    },
    {
     "name": "stdout",
     "output_type": "stream",
     "text": [
      "nan\n"
     ]
    },
    {
     "name": "stderr",
     "output_type": "stream",
     "text": [
      " 28%|████████████████████▌                                                     | 12901/46290 [43:58<1:44:25,  5.33it/s]"
     ]
    },
    {
     "name": "stdout",
     "output_type": "stream",
     "text": [
      "nan\n"
     ]
    },
    {
     "name": "stderr",
     "output_type": "stream",
     "text": [
      " 28%|████████████████████▊                                                     | 13001/46290 [44:18<1:59:38,  4.64it/s]"
     ]
    },
    {
     "name": "stdout",
     "output_type": "stream",
     "text": [
      "nan\n"
     ]
    },
    {
     "name": "stderr",
     "output_type": "stream",
     "text": [
      " 28%|████████████████████▉                                                     | 13102/46290 [44:40<1:44:42,  5.28it/s]"
     ]
    },
    {
     "name": "stdout",
     "output_type": "stream",
     "text": [
      "nan\n"
     ]
    },
    {
     "name": "stderr",
     "output_type": "stream",
     "text": [
      " 29%|█████████████████████                                                     | 13202/46290 [45:00<1:42:31,  5.38it/s]"
     ]
    },
    {
     "name": "stdout",
     "output_type": "stream",
     "text": [
      "nan\n"
     ]
    },
    {
     "name": "stderr",
     "output_type": "stream",
     "text": [
      " 29%|█████████████████████▎                                                    | 13302/46290 [45:21<1:46:25,  5.17it/s]"
     ]
    },
    {
     "name": "stdout",
     "output_type": "stream",
     "text": [
      "nan\n"
     ]
    },
    {
     "name": "stderr",
     "output_type": "stream",
     "text": [
      " 29%|█████████████████████▍                                                    | 13402/46290 [45:41<1:48:39,  5.04it/s]"
     ]
    },
    {
     "name": "stdout",
     "output_type": "stream",
     "text": [
      "nan\n"
     ]
    },
    {
     "name": "stderr",
     "output_type": "stream",
     "text": [
      " 29%|█████████████████████▌                                                    | 13501/46290 [46:01<1:47:56,  5.06it/s]"
     ]
    },
    {
     "name": "stdout",
     "output_type": "stream",
     "text": [
      "nan\n"
     ]
    },
    {
     "name": "stderr",
     "output_type": "stream",
     "text": [
      " 29%|█████████████████████▋                                                    | 13602/46290 [46:22<1:43:34,  5.26it/s]"
     ]
    },
    {
     "name": "stdout",
     "output_type": "stream",
     "text": [
      "nan\n"
     ]
    },
    {
     "name": "stderr",
     "output_type": "stream",
     "text": [
      " 30%|█████████████████████▉                                                    | 13702/46290 [46:41<1:37:45,  5.56it/s]"
     ]
    },
    {
     "name": "stdout",
     "output_type": "stream",
     "text": [
      "nan\n"
     ]
    },
    {
     "name": "stderr",
     "output_type": "stream",
     "text": [
      " 30%|██████████████████████                                                    | 13801/46290 [47:01<1:28:02,  6.15it/s]"
     ]
    },
    {
     "name": "stdout",
     "output_type": "stream",
     "text": [
      "nan\n"
     ]
    },
    {
     "name": "stderr",
     "output_type": "stream",
     "text": [
      " 30%|██████████████████████▏                                                   | 13901/46290 [47:22<1:29:55,  6.00it/s]"
     ]
    },
    {
     "name": "stdout",
     "output_type": "stream",
     "text": [
      "nan\n"
     ]
    },
    {
     "name": "stderr",
     "output_type": "stream",
     "text": [
      " 30%|██████████████████████▍                                                   | 14002/46290 [47:43<1:32:54,  5.79it/s]"
     ]
    },
    {
     "name": "stdout",
     "output_type": "stream",
     "text": [
      "nan\n"
     ]
    },
    {
     "name": "stderr",
     "output_type": "stream",
     "text": [
      " 30%|██████████████████████▌                                                   | 14102/46290 [48:04<2:04:42,  4.30it/s]"
     ]
    },
    {
     "name": "stdout",
     "output_type": "stream",
     "text": [
      "nan\n"
     ]
    },
    {
     "name": "stderr",
     "output_type": "stream",
     "text": [
      " 31%|██████████████████████▋                                                   | 14201/46290 [48:25<1:52:55,  4.74it/s]"
     ]
    },
    {
     "name": "stdout",
     "output_type": "stream",
     "text": [
      "nan\n"
     ]
    },
    {
     "name": "stderr",
     "output_type": "stream",
     "text": [
      " 31%|██████████████████████▊                                                   | 14302/46290 [48:46<1:29:06,  5.98it/s]"
     ]
    },
    {
     "name": "stdout",
     "output_type": "stream",
     "text": [
      "nan\n"
     ]
    },
    {
     "name": "stderr",
     "output_type": "stream",
     "text": [
      " 31%|███████████████████████                                                   | 14402/46290 [49:06<1:50:20,  4.82it/s]"
     ]
    },
    {
     "name": "stdout",
     "output_type": "stream",
     "text": [
      "nan\n"
     ]
    },
    {
     "name": "stderr",
     "output_type": "stream",
     "text": [
      " 31%|███████████████████████▏                                                  | 14501/46290 [49:26<1:31:53,  5.77it/s]"
     ]
    },
    {
     "name": "stdout",
     "output_type": "stream",
     "text": [
      "nan\n"
     ]
    },
    {
     "name": "stderr",
     "output_type": "stream",
     "text": [
      " 32%|███████████████████████▎                                                  | 14601/46290 [49:46<1:40:26,  5.26it/s]"
     ]
    },
    {
     "name": "stdout",
     "output_type": "stream",
     "text": [
      "nan\n"
     ]
    },
    {
     "name": "stderr",
     "output_type": "stream",
     "text": [
      " 32%|███████████████████████▌                                                  | 14702/46290 [50:06<1:45:21,  5.00it/s]"
     ]
    },
    {
     "name": "stdout",
     "output_type": "stream",
     "text": [
      "nan\n"
     ]
    },
    {
     "name": "stderr",
     "output_type": "stream",
     "text": [
      " 32%|███████████████████████▋                                                  | 14801/46290 [50:26<1:29:16,  5.88it/s]"
     ]
    },
    {
     "name": "stdout",
     "output_type": "stream",
     "text": [
      "nan\n"
     ]
    },
    {
     "name": "stderr",
     "output_type": "stream",
     "text": [
      " 32%|███████████████████████▊                                                  | 14901/46290 [50:47<1:32:08,  5.68it/s]"
     ]
    },
    {
     "name": "stdout",
     "output_type": "stream",
     "text": [
      "nan\n"
     ]
    },
    {
     "name": "stderr",
     "output_type": "stream",
     "text": [
      " 32%|███████████████████████▉                                                  | 15001/46290 [51:06<1:45:44,  4.93it/s]"
     ]
    },
    {
     "name": "stdout",
     "output_type": "stream",
     "text": [
      "nan\n"
     ]
    },
    {
     "name": "stderr",
     "output_type": "stream",
     "text": [
      " 33%|████████████████████████▏                                                 | 15101/46290 [51:28<1:36:39,  5.38it/s]"
     ]
    },
    {
     "name": "stdout",
     "output_type": "stream",
     "text": [
      "nan\n"
     ]
    },
    {
     "name": "stderr",
     "output_type": "stream",
     "text": [
      " 33%|████████████████████████▎                                                 | 15202/46290 [51:49<1:46:50,  4.85it/s]"
     ]
    },
    {
     "name": "stdout",
     "output_type": "stream",
     "text": [
      "nan\n"
     ]
    },
    {
     "name": "stderr",
     "output_type": "stream",
     "text": [
      " 33%|████████████████████████▍                                                 | 15302/46290 [52:10<1:34:52,  5.44it/s]"
     ]
    },
    {
     "name": "stdout",
     "output_type": "stream",
     "text": [
      "nan\n"
     ]
    },
    {
     "name": "stderr",
     "output_type": "stream",
     "text": [
      " 33%|████████████████████████▌                                                 | 15401/46290 [52:30<1:46:02,  4.86it/s]"
     ]
    },
    {
     "name": "stdout",
     "output_type": "stream",
     "text": [
      "nan\n"
     ]
    },
    {
     "name": "stderr",
     "output_type": "stream",
     "text": [
      " 33%|████████████████████████▊                                                 | 15502/46290 [52:50<1:37:36,  5.26it/s]"
     ]
    },
    {
     "name": "stdout",
     "output_type": "stream",
     "text": [
      "nan\n"
     ]
    },
    {
     "name": "stderr",
     "output_type": "stream",
     "text": [
      " 34%|████████████████████████▉                                                 | 15601/46290 [53:13<1:52:54,  4.53it/s]"
     ]
    },
    {
     "name": "stdout",
     "output_type": "stream",
     "text": [
      "nan\n"
     ]
    },
    {
     "name": "stderr",
     "output_type": "stream",
     "text": [
      " 34%|█████████████████████████                                                 | 15701/46290 [53:33<1:27:04,  5.85it/s]"
     ]
    },
    {
     "name": "stdout",
     "output_type": "stream",
     "text": [
      "nan\n"
     ]
    },
    {
     "name": "stderr",
     "output_type": "stream",
     "text": [
      " 34%|█████████████████████████▎                                                | 15802/46290 [53:54<1:48:45,  4.67it/s]"
     ]
    },
    {
     "name": "stdout",
     "output_type": "stream",
     "text": [
      "nan\n"
     ]
    },
    {
     "name": "stderr",
     "output_type": "stream",
     "text": [
      " 34%|█████████████████████████▍                                                | 15902/46290 [54:14<1:40:20,  5.05it/s]"
     ]
    },
    {
     "name": "stdout",
     "output_type": "stream",
     "text": [
      "nan\n"
     ]
    },
    {
     "name": "stderr",
     "output_type": "stream",
     "text": [
      " 35%|█████████████████████████▌                                                | 16001/46290 [54:34<1:32:19,  5.47it/s]"
     ]
    },
    {
     "name": "stdout",
     "output_type": "stream",
     "text": [
      "nan\n"
     ]
    },
    {
     "name": "stderr",
     "output_type": "stream",
     "text": [
      " 35%|█████████████████████████▋                                                | 16102/46290 [54:55<1:47:27,  4.68it/s]"
     ]
    },
    {
     "name": "stdout",
     "output_type": "stream",
     "text": [
      "nan\n"
     ]
    },
    {
     "name": "stderr",
     "output_type": "stream",
     "text": [
      " 35%|█████████████████████████▉                                                | 16201/46290 [55:15<1:40:12,  5.00it/s]"
     ]
    },
    {
     "name": "stdout",
     "output_type": "stream",
     "text": [
      "nan\n"
     ]
    },
    {
     "name": "stderr",
     "output_type": "stream",
     "text": [
      " 35%|██████████████████████████                                                | 16301/46290 [55:35<1:37:03,  5.15it/s]"
     ]
    },
    {
     "name": "stdout",
     "output_type": "stream",
     "text": [
      "nan\n"
     ]
    },
    {
     "name": "stderr",
     "output_type": "stream",
     "text": [
      " 35%|██████████████████████████▏                                               | 16401/46290 [55:54<1:44:08,  4.78it/s]"
     ]
    },
    {
     "name": "stdout",
     "output_type": "stream",
     "text": [
      "nan\n"
     ]
    },
    {
     "name": "stderr",
     "output_type": "stream",
     "text": [
      " 36%|██████████████████████████▍                                               | 16502/46290 [56:14<1:14:24,  6.67it/s]"
     ]
    },
    {
     "name": "stdout",
     "output_type": "stream",
     "text": [
      "nan\n"
     ]
    },
    {
     "name": "stderr",
     "output_type": "stream",
     "text": [
      " 36%|██████████████████████████▌                                               | 16602/46290 [56:35<1:48:03,  4.58it/s]"
     ]
    },
    {
     "name": "stdout",
     "output_type": "stream",
     "text": [
      "nan\n"
     ]
    },
    {
     "name": "stderr",
     "output_type": "stream",
     "text": [
      " 36%|██████████████████████████▋                                               | 16702/46290 [56:55<1:32:45,  5.32it/s]"
     ]
    },
    {
     "name": "stdout",
     "output_type": "stream",
     "text": [
      "nan\n"
     ]
    },
    {
     "name": "stderr",
     "output_type": "stream",
     "text": [
      " 36%|██████████████████████████▊                                               | 16801/46290 [57:16<1:43:32,  4.75it/s]"
     ]
    },
    {
     "name": "stdout",
     "output_type": "stream",
     "text": [
      "nan\n"
     ]
    },
    {
     "name": "stderr",
     "output_type": "stream",
     "text": [
      " 37%|███████████████████████████                                               | 16902/46290 [57:36<1:29:23,  5.48it/s]"
     ]
    },
    {
     "name": "stdout",
     "output_type": "stream",
     "text": [
      "nan\n"
     ]
    },
    {
     "name": "stderr",
     "output_type": "stream",
     "text": [
      " 37%|███████████████████████████▏                                              | 17001/46290 [57:58<1:39:26,  4.91it/s]"
     ]
    },
    {
     "name": "stdout",
     "output_type": "stream",
     "text": [
      "nan\n"
     ]
    },
    {
     "name": "stderr",
     "output_type": "stream",
     "text": [
      " 37%|███████████████████████████▎                                              | 17102/46290 [58:18<1:29:15,  5.45it/s]"
     ]
    },
    {
     "name": "stdout",
     "output_type": "stream",
     "text": [
      "nan\n"
     ]
    },
    {
     "name": "stderr",
     "output_type": "stream",
     "text": [
      " 37%|███████████████████████████▍                                              | 17202/46290 [58:38<1:21:19,  5.96it/s]"
     ]
    },
    {
     "name": "stdout",
     "output_type": "stream",
     "text": [
      "nan\n"
     ]
    },
    {
     "name": "stderr",
     "output_type": "stream",
     "text": [
      " 37%|███████████████████████████▋                                              | 17301/46290 [58:59<1:34:14,  5.13it/s]"
     ]
    },
    {
     "name": "stdout",
     "output_type": "stream",
     "text": [
      "nan\n"
     ]
    },
    {
     "name": "stderr",
     "output_type": "stream",
     "text": [
      " 38%|███████████████████████████▊                                              | 17401/46290 [59:20<1:57:26,  4.10it/s]"
     ]
    },
    {
     "name": "stdout",
     "output_type": "stream",
     "text": [
      "nan\n"
     ]
    },
    {
     "name": "stderr",
     "output_type": "stream",
     "text": [
      " 38%|███████████████████████████▉                                              | 17502/46290 [59:40<1:30:47,  5.28it/s]"
     ]
    },
    {
     "name": "stdout",
     "output_type": "stream",
     "text": [
      "nan\n"
     ]
    },
    {
     "name": "stderr",
     "output_type": "stream",
     "text": [
      " 38%|████████████████████████████▏                                             | 17602/46290 [59:59<1:22:24,  5.80it/s]"
     ]
    },
    {
     "name": "stdout",
     "output_type": "stream",
     "text": [
      "nan\n"
     ]
    },
    {
     "name": "stderr",
     "output_type": "stream",
     "text": [
      " 38%|███████████████████████████▌                                            | 17702/46290 [1:00:21<1:36:51,  4.92it/s]"
     ]
    },
    {
     "name": "stdout",
     "output_type": "stream",
     "text": [
      "nan\n"
     ]
    },
    {
     "name": "stderr",
     "output_type": "stream",
     "text": [
      " 38%|███████████████████████████▋                                            | 17801/46290 [1:00:42<1:49:39,  4.33it/s]"
     ]
    },
    {
     "name": "stdout",
     "output_type": "stream",
     "text": [
      "nan\n"
     ]
    },
    {
     "name": "stderr",
     "output_type": "stream",
     "text": [
      " 39%|███████████████████████████▊                                            | 17901/46290 [1:01:03<1:31:53,  5.15it/s]"
     ]
    },
    {
     "name": "stdout",
     "output_type": "stream",
     "text": [
      "nan\n"
     ]
    },
    {
     "name": "stderr",
     "output_type": "stream",
     "text": [
      " 39%|███████████████████████████▉                                            | 18001/46290 [1:01:24<1:39:13,  4.75it/s]"
     ]
    },
    {
     "name": "stdout",
     "output_type": "stream",
     "text": [
      "nan\n"
     ]
    },
    {
     "name": "stderr",
     "output_type": "stream",
     "text": [
      " 39%|████████████████████████████▏                                           | 18101/46290 [1:01:44<1:18:07,  6.01it/s]"
     ]
    },
    {
     "name": "stdout",
     "output_type": "stream",
     "text": [
      "nan\n"
     ]
    },
    {
     "name": "stderr",
     "output_type": "stream",
     "text": [
      " 39%|████████████████████████████▎                                           | 18201/46290 [1:02:06<1:46:08,  4.41it/s]"
     ]
    },
    {
     "name": "stdout",
     "output_type": "stream",
     "text": [
      "nan\n"
     ]
    },
    {
     "name": "stderr",
     "output_type": "stream",
     "text": [
      " 40%|████████████████████████████▍                                           | 18301/46290 [1:02:26<1:40:42,  4.63it/s]"
     ]
    },
    {
     "name": "stdout",
     "output_type": "stream",
     "text": [
      "nan\n"
     ]
    },
    {
     "name": "stderr",
     "output_type": "stream",
     "text": [
      " 40%|████████████████████████████▌                                           | 18401/46290 [1:02:48<1:37:43,  4.76it/s]"
     ]
    },
    {
     "name": "stdout",
     "output_type": "stream",
     "text": [
      "nan\n"
     ]
    },
    {
     "name": "stderr",
     "output_type": "stream",
     "text": [
      " 40%|████████████████████████████▊                                           | 18502/46290 [1:03:08<1:22:41,  5.60it/s]"
     ]
    },
    {
     "name": "stdout",
     "output_type": "stream",
     "text": [
      "nan\n"
     ]
    },
    {
     "name": "stderr",
     "output_type": "stream",
     "text": [
      " 40%|████████████████████████████▉                                           | 18602/46290 [1:03:28<1:26:56,  5.31it/s]"
     ]
    },
    {
     "name": "stdout",
     "output_type": "stream",
     "text": [
      "nan\n"
     ]
    },
    {
     "name": "stderr",
     "output_type": "stream",
     "text": [
      " 40%|█████████████████████████████                                           | 18701/46290 [1:03:49<1:23:53,  5.48it/s]"
     ]
    },
    {
     "name": "stdout",
     "output_type": "stream",
     "text": [
      "nan\n"
     ]
    },
    {
     "name": "stderr",
     "output_type": "stream",
     "text": [
      " 41%|█████████████████████████████▏                                          | 18802/46290 [1:04:10<1:30:26,  5.07it/s]"
     ]
    },
    {
     "name": "stdout",
     "output_type": "stream",
     "text": [
      "nan\n"
     ]
    },
    {
     "name": "stderr",
     "output_type": "stream",
     "text": [
      " 41%|█████████████████████████████▍                                          | 18901/46290 [1:04:32<1:30:22,  5.05it/s]"
     ]
    },
    {
     "name": "stdout",
     "output_type": "stream",
     "text": [
      "nan\n"
     ]
    },
    {
     "name": "stderr",
     "output_type": "stream",
     "text": [
      " 41%|█████████████████████████████▌                                          | 19002/46290 [1:04:53<1:31:48,  4.95it/s]"
     ]
    },
    {
     "name": "stdout",
     "output_type": "stream",
     "text": [
      "nan\n"
     ]
    },
    {
     "name": "stderr",
     "output_type": "stream",
     "text": [
      " 41%|█████████████████████████████▋                                          | 19102/46290 [1:05:13<1:33:04,  4.87it/s]"
     ]
    },
    {
     "name": "stdout",
     "output_type": "stream",
     "text": [
      "nan\n"
     ]
    },
    {
     "name": "stderr",
     "output_type": "stream",
     "text": [
      " 41%|█████████████████████████████▊                                          | 19202/46290 [1:05:34<1:08:39,  6.58it/s]"
     ]
    },
    {
     "name": "stdout",
     "output_type": "stream",
     "text": [
      "nan\n"
     ]
    },
    {
     "name": "stderr",
     "output_type": "stream",
     "text": [
      " 42%|██████████████████████████████                                          | 19301/46290 [1:05:54<1:15:32,  5.95it/s]"
     ]
    },
    {
     "name": "stdout",
     "output_type": "stream",
     "text": [
      "nan\n"
     ]
    },
    {
     "name": "stderr",
     "output_type": "stream",
     "text": [
      " 42%|██████████████████████████████▏                                         | 19401/46290 [1:06:15<1:20:49,  5.54it/s]"
     ]
    },
    {
     "name": "stdout",
     "output_type": "stream",
     "text": [
      "nan\n"
     ]
    },
    {
     "name": "stderr",
     "output_type": "stream",
     "text": [
      " 42%|██████████████████████████████▎                                         | 19501/46290 [1:06:35<1:38:39,  4.53it/s]"
     ]
    },
    {
     "name": "stdout",
     "output_type": "stream",
     "text": [
      "nan\n"
     ]
    },
    {
     "name": "stderr",
     "output_type": "stream",
     "text": [
      " 42%|██████████████████████████████▍                                         | 19602/46290 [1:06:55<1:11:48,  6.19it/s]"
     ]
    },
    {
     "name": "stdout",
     "output_type": "stream",
     "text": [
      "nan\n"
     ]
    },
    {
     "name": "stderr",
     "output_type": "stream",
     "text": [
      " 43%|██████████████████████████████▋                                         | 19701/46290 [1:07:19<1:53:08,  3.92it/s]"
     ]
    },
    {
     "name": "stdout",
     "output_type": "stream",
     "text": [
      "nan\n"
     ]
    },
    {
     "name": "stderr",
     "output_type": "stream",
     "text": [
      " 43%|██████████████████████████████▊                                         | 19802/46290 [1:07:41<1:27:22,  5.05it/s]"
     ]
    },
    {
     "name": "stdout",
     "output_type": "stream",
     "text": [
      "nan\n"
     ]
    },
    {
     "name": "stderr",
     "output_type": "stream",
     "text": [
      " 43%|██████████████████████████████▉                                         | 19901/46290 [1:08:01<1:19:54,  5.50it/s]"
     ]
    },
    {
     "name": "stdout",
     "output_type": "stream",
     "text": [
      "nan\n"
     ]
    },
    {
     "name": "stderr",
     "output_type": "stream",
     "text": [
      " 43%|███████████████████████████████                                         | 20001/46290 [1:08:21<1:18:46,  5.56it/s]"
     ]
    },
    {
     "name": "stdout",
     "output_type": "stream",
     "text": [
      "nan\n"
     ]
    },
    {
     "name": "stderr",
     "output_type": "stream",
     "text": [
      " 43%|███████████████████████████████▎                                        | 20102/46290 [1:08:42<1:26:28,  5.05it/s]"
     ]
    },
    {
     "name": "stdout",
     "output_type": "stream",
     "text": [
      "nan\n"
     ]
    },
    {
     "name": "stderr",
     "output_type": "stream",
     "text": [
      " 44%|███████████████████████████████▍                                        | 20202/46290 [1:09:01<1:30:45,  4.79it/s]"
     ]
    },
    {
     "name": "stdout",
     "output_type": "stream",
     "text": [
      "nan\n"
     ]
    },
    {
     "name": "stderr",
     "output_type": "stream",
     "text": [
      " 44%|███████████████████████████████▌                                        | 20302/46290 [1:09:21<1:23:43,  5.17it/s]"
     ]
    },
    {
     "name": "stdout",
     "output_type": "stream",
     "text": [
      "nan\n"
     ]
    },
    {
     "name": "stderr",
     "output_type": "stream",
     "text": [
      " 44%|███████████████████████████████▋                                        | 20401/46290 [1:09:42<1:33:20,  4.62it/s]"
     ]
    },
    {
     "name": "stdout",
     "output_type": "stream",
     "text": [
      "nan\n"
     ]
    },
    {
     "name": "stderr",
     "output_type": "stream",
     "text": [
      " 44%|███████████████████████████████▉                                        | 20501/46290 [1:10:03<1:18:58,  5.44it/s]"
     ]
    },
    {
     "name": "stdout",
     "output_type": "stream",
     "text": [
      "nan\n"
     ]
    },
    {
     "name": "stderr",
     "output_type": "stream",
     "text": [
      " 45%|████████████████████████████████                                        | 20602/46290 [1:10:23<1:14:24,  5.75it/s]"
     ]
    },
    {
     "name": "stdout",
     "output_type": "stream",
     "text": [
      "nan\n"
     ]
    },
    {
     "name": "stderr",
     "output_type": "stream",
     "text": [
      " 45%|████████████████████████████████▏                                       | 20702/46290 [1:10:42<1:17:41,  5.49it/s]"
     ]
    },
    {
     "name": "stdout",
     "output_type": "stream",
     "text": [
      "nan\n"
     ]
    },
    {
     "name": "stderr",
     "output_type": "stream",
     "text": [
      " 45%|████████████████████████████████▎                                       | 20801/46290 [1:11:02<1:18:59,  5.38it/s]"
     ]
    },
    {
     "name": "stdout",
     "output_type": "stream",
     "text": [
      "nan\n"
     ]
    },
    {
     "name": "stderr",
     "output_type": "stream",
     "text": [
      " 45%|████████████████████████████████▌                                       | 20902/46290 [1:11:23<1:26:18,  4.90it/s]"
     ]
    },
    {
     "name": "stdout",
     "output_type": "stream",
     "text": [
      "nan\n"
     ]
    },
    {
     "name": "stderr",
     "output_type": "stream",
     "text": [
      " 45%|████████████████████████████████▋                                       | 21001/46290 [1:11:44<1:16:05,  5.54it/s]"
     ]
    },
    {
     "name": "stdout",
     "output_type": "stream",
     "text": [
      "nan\n"
     ]
    },
    {
     "name": "stderr",
     "output_type": "stream",
     "text": [
      " 46%|████████████████████████████████▊                                       | 21101/46290 [1:12:07<1:34:59,  4.42it/s]"
     ]
    },
    {
     "name": "stdout",
     "output_type": "stream",
     "text": [
      "nan\n"
     ]
    },
    {
     "name": "stderr",
     "output_type": "stream",
     "text": [
      " 46%|████████████████████████████████▉                                       | 21201/46290 [1:12:29<1:17:13,  5.41it/s]"
     ]
    },
    {
     "name": "stdout",
     "output_type": "stream",
     "text": [
      "nan\n"
     ]
    },
    {
     "name": "stderr",
     "output_type": "stream",
     "text": [
      " 46%|█████████████████████████████████▏                                      | 21301/46290 [1:12:50<1:46:45,  3.90it/s]"
     ]
    },
    {
     "name": "stdout",
     "output_type": "stream",
     "text": [
      "nan\n"
     ]
    },
    {
     "name": "stderr",
     "output_type": "stream",
     "text": [
      " 46%|█████████████████████████████████▎                                      | 21401/46290 [1:13:12<1:30:59,  4.56it/s]"
     ]
    },
    {
     "name": "stdout",
     "output_type": "stream",
     "text": [
      "nan\n"
     ]
    },
    {
     "name": "stderr",
     "output_type": "stream",
     "text": [
      " 46%|█████████████████████████████████▍                                      | 21501/46290 [1:13:33<1:05:41,  6.29it/s]"
     ]
    },
    {
     "name": "stdout",
     "output_type": "stream",
     "text": [
      "nan\n"
     ]
    },
    {
     "name": "stderr",
     "output_type": "stream",
     "text": [
      " 47%|█████████████████████████████████▌                                      | 21601/46290 [1:13:53<1:31:40,  4.49it/s]"
     ]
    },
    {
     "name": "stdout",
     "output_type": "stream",
     "text": [
      "nan\n"
     ]
    },
    {
     "name": "stderr",
     "output_type": "stream",
     "text": [
      " 47%|█████████████████████████████████▊                                      | 21701/46290 [1:14:14<1:39:53,  4.10it/s]"
     ]
    },
    {
     "name": "stdout",
     "output_type": "stream",
     "text": [
      "nan\n"
     ]
    },
    {
     "name": "stderr",
     "output_type": "stream",
     "text": [
      " 47%|█████████████████████████████████▉                                      | 21801/46290 [1:14:35<1:11:58,  5.67it/s]"
     ]
    },
    {
     "name": "stdout",
     "output_type": "stream",
     "text": [
      "nan\n"
     ]
    },
    {
     "name": "stderr",
     "output_type": "stream",
     "text": [
      " 47%|██████████████████████████████████                                      | 21901/46290 [1:14:55<1:10:55,  5.73it/s]"
     ]
    },
    {
     "name": "stdout",
     "output_type": "stream",
     "text": [
      "nan\n"
     ]
    },
    {
     "name": "stderr",
     "output_type": "stream",
     "text": [
      " 48%|██████████████████████████████████▏                                     | 22002/46290 [1:15:17<1:14:52,  5.41it/s]"
     ]
    },
    {
     "name": "stdout",
     "output_type": "stream",
     "text": [
      "nan\n"
     ]
    },
    {
     "name": "stderr",
     "output_type": "stream",
     "text": [
      " 48%|██████████████████████████████████▍                                     | 22102/46290 [1:15:38<1:27:57,  4.58it/s]"
     ]
    },
    {
     "name": "stdout",
     "output_type": "stream",
     "text": [
      "nan\n"
     ]
    },
    {
     "name": "stderr",
     "output_type": "stream",
     "text": [
      " 48%|██████████████████████████████████▌                                     | 22201/46290 [1:15:59<1:25:40,  4.69it/s]"
     ]
    },
    {
     "name": "stdout",
     "output_type": "stream",
     "text": [
      "nan\n"
     ]
    },
    {
     "name": "stderr",
     "output_type": "stream",
     "text": [
      " 48%|██████████████████████████████████▋                                     | 22302/46290 [1:16:20<1:07:43,  5.90it/s]"
     ]
    },
    {
     "name": "stdout",
     "output_type": "stream",
     "text": [
      "nan\n"
     ]
    },
    {
     "name": "stderr",
     "output_type": "stream",
     "text": [
      " 48%|██████████████████████████████████▊                                     | 22401/46290 [1:16:40<1:16:18,  5.22it/s]"
     ]
    },
    {
     "name": "stdout",
     "output_type": "stream",
     "text": [
      "nan\n"
     ]
    },
    {
     "name": "stderr",
     "output_type": "stream",
     "text": [
      " 49%|██████████████████████████████████▉                                     | 22502/46290 [1:17:01<1:06:33,  5.96it/s]"
     ]
    },
    {
     "name": "stdout",
     "output_type": "stream",
     "text": [
      "nan\n"
     ]
    },
    {
     "name": "stderr",
     "output_type": "stream",
     "text": [
      " 49%|███████████████████████████████████▏                                    | 22601/46290 [1:17:21<1:07:20,  5.86it/s]"
     ]
    },
    {
     "name": "stdout",
     "output_type": "stream",
     "text": [
      "nan\n"
     ]
    },
    {
     "name": "stderr",
     "output_type": "stream",
     "text": [
      " 49%|███████████████████████████████████▎                                    | 22701/46290 [1:17:41<1:22:34,  4.76it/s]"
     ]
    },
    {
     "name": "stdout",
     "output_type": "stream",
     "text": [
      "nan\n"
     ]
    },
    {
     "name": "stderr",
     "output_type": "stream",
     "text": [
      " 49%|███████████████████████████████████▍                                    | 22801/46290 [1:18:03<1:16:52,  5.09it/s]"
     ]
    },
    {
     "name": "stdout",
     "output_type": "stream",
     "text": [
      "nan\n"
     ]
    },
    {
     "name": "stderr",
     "output_type": "stream",
     "text": [
      " 49%|███████████████████████████████████▌                                    | 22901/46290 [1:18:23<1:29:15,  4.37it/s]"
     ]
    },
    {
     "name": "stdout",
     "output_type": "stream",
     "text": [
      "nan\n"
     ]
    },
    {
     "name": "stderr",
     "output_type": "stream",
     "text": [
      " 50%|███████████████████████████████████▊                                    | 23002/46290 [1:18:44<1:23:03,  4.67it/s]"
     ]
    },
    {
     "name": "stdout",
     "output_type": "stream",
     "text": [
      "nan\n"
     ]
    },
    {
     "name": "stderr",
     "output_type": "stream",
     "text": [
      " 50%|███████████████████████████████████▉                                    | 23102/46290 [1:19:05<1:15:38,  5.11it/s]"
     ]
    },
    {
     "name": "stdout",
     "output_type": "stream",
     "text": [
      "nan\n"
     ]
    },
    {
     "name": "stderr",
     "output_type": "stream",
     "text": [
      " 50%|████████████████████████████████████                                    | 23201/46290 [1:19:25<1:25:28,  4.50it/s]"
     ]
    },
    {
     "name": "stdout",
     "output_type": "stream",
     "text": [
      "nan\n"
     ]
    },
    {
     "name": "stderr",
     "output_type": "stream",
     "text": [
      " 50%|█████████████████████████████████████▎                                    | 23302/46290 [1:19:46<57:03,  6.71it/s]"
     ]
    },
    {
     "name": "stdout",
     "output_type": "stream",
     "text": [
      "nan\n"
     ]
    },
    {
     "name": "stderr",
     "output_type": "stream",
     "text": [
      " 51%|████████████████████████████████████▍                                   | 23401/46290 [1:20:06<1:18:48,  4.84it/s]"
     ]
    },
    {
     "name": "stdout",
     "output_type": "stream",
     "text": [
      "nan\n"
     ]
    },
    {
     "name": "stderr",
     "output_type": "stream",
     "text": [
      " 51%|████████████████████████████████████▌                                   | 23501/46290 [1:20:27<1:37:37,  3.89it/s]"
     ]
    },
    {
     "name": "stdout",
     "output_type": "stream",
     "text": [
      "nan\n"
     ]
    },
    {
     "name": "stderr",
     "output_type": "stream",
     "text": [
      " 51%|████████████████████████████████████▋                                   | 23602/46290 [1:20:47<1:11:24,  5.30it/s]"
     ]
    },
    {
     "name": "stdout",
     "output_type": "stream",
     "text": [
      "nan\n"
     ]
    },
    {
     "name": "stderr",
     "output_type": "stream",
     "text": [
      " 51%|████████████████████████████████████▊                                   | 23701/46290 [1:21:08<1:41:39,  3.70it/s]"
     ]
    },
    {
     "name": "stdout",
     "output_type": "stream",
     "text": [
      "nan\n"
     ]
    },
    {
     "name": "stderr",
     "output_type": "stream",
     "text": [
      " 51%|█████████████████████████████████████                                   | 23802/46290 [1:21:30<1:14:11,  5.05it/s]"
     ]
    },
    {
     "name": "stdout",
     "output_type": "stream",
     "text": [
      "nan\n"
     ]
    },
    {
     "name": "stderr",
     "output_type": "stream",
     "text": [
      " 52%|█████████████████████████████████████▏                                  | 23901/46290 [1:21:50<1:11:34,  5.21it/s]"
     ]
    },
    {
     "name": "stdout",
     "output_type": "stream",
     "text": [
      "nan\n"
     ]
    },
    {
     "name": "stderr",
     "output_type": "stream",
     "text": [
      " 52%|█████████████████████████████████████▎                                  | 24002/46290 [1:22:10<1:06:19,  5.60it/s]"
     ]
    },
    {
     "name": "stdout",
     "output_type": "stream",
     "text": [
      "nan\n"
     ]
    },
    {
     "name": "stderr",
     "output_type": "stream",
     "text": [
      " 52%|█████████████████████████████████████▍                                  | 24102/46290 [1:22:31<1:09:04,  5.35it/s]"
     ]
    },
    {
     "name": "stdout",
     "output_type": "stream",
     "text": [
      "nan\n"
     ]
    },
    {
     "name": "stderr",
     "output_type": "stream",
     "text": [
      " 52%|█████████████████████████████████████▋                                  | 24201/46290 [1:22:51<1:32:06,  4.00it/s]"
     ]
    },
    {
     "name": "stdout",
     "output_type": "stream",
     "text": [
      "nan\n"
     ]
    },
    {
     "name": "stderr",
     "output_type": "stream",
     "text": [
      " 52%|█████████████████████████████████████▊                                  | 24301/46290 [1:23:12<1:06:28,  5.51it/s]"
     ]
    },
    {
     "name": "stdout",
     "output_type": "stream",
     "text": [
      "nan\n"
     ]
    },
    {
     "name": "stderr",
     "output_type": "stream",
     "text": [
      " 53%|█████████████████████████████████████▉                                  | 24402/46290 [1:23:33<1:07:09,  5.43it/s]"
     ]
    },
    {
     "name": "stdout",
     "output_type": "stream",
     "text": [
      "nan\n"
     ]
    },
    {
     "name": "stderr",
     "output_type": "stream",
     "text": [
      " 53%|██████████████████████████████████████                                  | 24502/46290 [1:23:54<1:08:53,  5.27it/s]"
     ]
    },
    {
     "name": "stdout",
     "output_type": "stream",
     "text": [
      "nan\n"
     ]
    },
    {
     "name": "stderr",
     "output_type": "stream",
     "text": [
      " 53%|██████████████████████████████████████▎                                 | 24601/46290 [1:24:13<1:04:37,  5.59it/s]"
     ]
    },
    {
     "name": "stdout",
     "output_type": "stream",
     "text": [
      "nan\n"
     ]
    },
    {
     "name": "stderr",
     "output_type": "stream",
     "text": [
      " 53%|██████████████████████████████████████▍                                 | 24702/46290 [1:24:35<1:03:13,  5.69it/s]"
     ]
    },
    {
     "name": "stdout",
     "output_type": "stream",
     "text": [
      "nan\n"
     ]
    },
    {
     "name": "stderr",
     "output_type": "stream",
     "text": [
      " 54%|███████████████████████████████████████▋                                  | 24802/46290 [1:24:55<49:03,  7.30it/s]"
     ]
    },
    {
     "name": "stdout",
     "output_type": "stream",
     "text": [
      "nan\n"
     ]
    },
    {
     "name": "stderr",
     "output_type": "stream",
     "text": [
      " 54%|██████████████████████████████████████▋                                 | 24900/46290 [1:25:16<1:14:28,  4.79it/s]"
     ]
    },
    {
     "name": "stdout",
     "output_type": "stream",
     "text": [
      "nan\n"
     ]
    },
    {
     "name": "stderr",
     "output_type": "stream",
     "text": [
      " 54%|██████████████████████████████████████▉                                 | 25001/46290 [1:25:38<1:10:01,  5.07it/s]"
     ]
    },
    {
     "name": "stdout",
     "output_type": "stream",
     "text": [
      "nan\n"
     ]
    },
    {
     "name": "stderr",
     "output_type": "stream",
     "text": [
      " 54%|███████████████████████████████████████                                 | 25101/46290 [1:25:59<1:11:30,  4.94it/s]"
     ]
    },
    {
     "name": "stdout",
     "output_type": "stream",
     "text": [
      "nan\n"
     ]
    },
    {
     "name": "stderr",
     "output_type": "stream",
     "text": [
      " 54%|███████████████████████████████████████▏                                | 25201/46290 [1:26:20<1:21:50,  4.29it/s]"
     ]
    },
    {
     "name": "stdout",
     "output_type": "stream",
     "text": [
      "nan\n"
     ]
    },
    {
     "name": "stderr",
     "output_type": "stream",
     "text": [
      " 55%|███████████████████████████████████████▎                                | 25301/46290 [1:26:41<1:10:36,  4.95it/s]"
     ]
    },
    {
     "name": "stdout",
     "output_type": "stream",
     "text": [
      "nan\n"
     ]
    },
    {
     "name": "stderr",
     "output_type": "stream",
     "text": [
      " 55%|███████████████████████████████████████▌                                | 25401/46290 [1:27:01<1:04:34,  5.39it/s]"
     ]
    },
    {
     "name": "stdout",
     "output_type": "stream",
     "text": [
      "nan\n"
     ]
    },
    {
     "name": "stderr",
     "output_type": "stream",
     "text": [
      " 55%|███████████████████████████████████████▋                                | 25502/46290 [1:27:22<1:03:08,  5.49it/s]"
     ]
    },
    {
     "name": "stdout",
     "output_type": "stream",
     "text": [
      "nan\n"
     ]
    },
    {
     "name": "stderr",
     "output_type": "stream",
     "text": [
      " 55%|███████████████████████████████████████▊                                | 25601/46290 [1:27:42<1:10:30,  4.89it/s]"
     ]
    },
    {
     "name": "stdout",
     "output_type": "stream",
     "text": [
      "nan\n"
     ]
    },
    {
     "name": "stderr",
     "output_type": "stream",
     "text": [
      " 56%|█████████████████████████████████████████                                 | 25702/46290 [1:28:02<54:06,  6.34it/s]"
     ]
    },
    {
     "name": "stdout",
     "output_type": "stream",
     "text": [
      "nan\n"
     ]
    },
    {
     "name": "stderr",
     "output_type": "stream",
     "text": [
      " 56%|████████████████████████████████████████▏                               | 25801/46290 [1:28:24<1:02:55,  5.43it/s]"
     ]
    },
    {
     "name": "stdout",
     "output_type": "stream",
     "text": [
      "nan\n"
     ]
    },
    {
     "name": "stderr",
     "output_type": "stream",
     "text": [
      " 56%|████████████████████████████████████████▎                               | 25901/46290 [1:28:45<1:12:56,  4.66it/s]"
     ]
    },
    {
     "name": "stdout",
     "output_type": "stream",
     "text": [
      "nan\n"
     ]
    },
    {
     "name": "stderr",
     "output_type": "stream",
     "text": [
      " 56%|████████████████████████████████████████▍                               | 26001/46290 [1:29:06<1:19:00,  4.28it/s]"
     ]
    },
    {
     "name": "stdout",
     "output_type": "stream",
     "text": [
      "nan\n"
     ]
    },
    {
     "name": "stderr",
     "output_type": "stream",
     "text": [
      " 56%|█████████████████████████████████████████▋                                | 26102/46290 [1:29:27<55:23,  6.07it/s]"
     ]
    },
    {
     "name": "stdout",
     "output_type": "stream",
     "text": [
      "nan\n"
     ]
    },
    {
     "name": "stderr",
     "output_type": "stream",
     "text": [
      " 57%|████████████████████████████████████████▊                               | 26202/46290 [1:29:48<1:14:32,  4.49it/s]"
     ]
    },
    {
     "name": "stdout",
     "output_type": "stream",
     "text": [
      "nan\n"
     ]
    },
    {
     "name": "stderr",
     "output_type": "stream",
     "text": [
      " 57%|████████████████████████████████████████▉                               | 26302/46290 [1:30:09<1:16:09,  4.37it/s]"
     ]
    },
    {
     "name": "stdout",
     "output_type": "stream",
     "text": [
      "nan\n"
     ]
    },
    {
     "name": "stderr",
     "output_type": "stream",
     "text": [
      " 57%|█████████████████████████████████████████                               | 26401/46290 [1:30:31<1:18:53,  4.20it/s]"
     ]
    },
    {
     "name": "stdout",
     "output_type": "stream",
     "text": [
      "nan\n"
     ]
    },
    {
     "name": "stderr",
     "output_type": "stream",
     "text": [
      " 57%|█████████████████████████████████████████▏                              | 26501/46290 [1:30:52<1:08:39,  4.80it/s]"
     ]
    },
    {
     "name": "stdout",
     "output_type": "stream",
     "text": [
      "nan\n"
     ]
    },
    {
     "name": "stderr",
     "output_type": "stream",
     "text": [
      " 57%|█████████████████████████████████████████▍                              | 26601/46290 [1:31:13<1:05:42,  4.99it/s]"
     ]
    },
    {
     "name": "stdout",
     "output_type": "stream",
     "text": [
      "nan\n"
     ]
    },
    {
     "name": "stderr",
     "output_type": "stream",
     "text": [
      " 58%|██████████████████████████████████████████▋                               | 26702/46290 [1:31:34<57:28,  5.68it/s]"
     ]
    },
    {
     "name": "stdout",
     "output_type": "stream",
     "text": [
      "nan\n"
     ]
    },
    {
     "name": "stderr",
     "output_type": "stream",
     "text": [
      " 58%|█████████████████████████████████████████▋                              | 26801/46290 [1:31:55<1:15:47,  4.29it/s]"
     ]
    },
    {
     "name": "stdout",
     "output_type": "stream",
     "text": [
      "nan\n"
     ]
    },
    {
     "name": "stderr",
     "output_type": "stream",
     "text": [
      " 58%|█████████████████████████████████████████▊                              | 26901/46290 [1:32:17<1:03:19,  5.10it/s]"
     ]
    },
    {
     "name": "stdout",
     "output_type": "stream",
     "text": [
      "nan\n"
     ]
    },
    {
     "name": "stderr",
     "output_type": "stream",
     "text": [
      " 58%|███████████████████████████████████████████▏                              | 27001/46290 [1:32:37<52:09,  6.16it/s]"
     ]
    },
    {
     "name": "stdout",
     "output_type": "stream",
     "text": [
      "nan\n"
     ]
    },
    {
     "name": "stderr",
     "output_type": "stream",
     "text": [
      " 59%|██████████████████████████████████████████▏                             | 27102/46290 [1:32:57<1:05:03,  4.92it/s]"
     ]
    },
    {
     "name": "stdout",
     "output_type": "stream",
     "text": [
      "nan\n"
     ]
    },
    {
     "name": "stderr",
     "output_type": "stream",
     "text": [
      " 59%|██████████████████████████████████████████▎                             | 27201/46290 [1:33:18<1:09:28,  4.58it/s]"
     ]
    },
    {
     "name": "stdout",
     "output_type": "stream",
     "text": [
      "nan\n"
     ]
    },
    {
     "name": "stderr",
     "output_type": "stream",
     "text": [
      " 59%|██████████████████████████████████████████▍                             | 27302/46290 [1:33:39<1:11:47,  4.41it/s]"
     ]
    },
    {
     "name": "stdout",
     "output_type": "stream",
     "text": [
      "nan\n"
     ]
    },
    {
     "name": "stderr",
     "output_type": "stream",
     "text": [
      " 59%|███████████████████████████████████████████▊                              | 27401/46290 [1:34:00<50:26,  6.24it/s]"
     ]
    },
    {
     "name": "stdout",
     "output_type": "stream",
     "text": [
      "nan\n"
     ]
    },
    {
     "name": "stderr",
     "output_type": "stream",
     "text": [
      " 59%|███████████████████████████████████████████▉                              | 27501/46290 [1:34:21<58:26,  5.36it/s]"
     ]
    },
    {
     "name": "stdout",
     "output_type": "stream",
     "text": [
      "nan\n"
     ]
    },
    {
     "name": "stderr",
     "output_type": "stream",
     "text": [
      " 60%|██████████████████████████████████████████▉                             | 27601/46290 [1:34:41<1:00:32,  5.14it/s]"
     ]
    },
    {
     "name": "stdout",
     "output_type": "stream",
     "text": [
      "nan\n"
     ]
    },
    {
     "name": "stderr",
     "output_type": "stream",
     "text": [
      " 60%|███████████████████████████████████████████                             | 27701/46290 [1:35:03<1:02:44,  4.94it/s]"
     ]
    },
    {
     "name": "stdout",
     "output_type": "stream",
     "text": [
      "nan\n"
     ]
    },
    {
     "name": "stderr",
     "output_type": "stream",
     "text": [
      " 60%|███████████████████████████████████████████▏                            | 27801/46290 [1:35:24<1:01:40,  5.00it/s]"
     ]
    },
    {
     "name": "stdout",
     "output_type": "stream",
     "text": [
      "nan\n"
     ]
    },
    {
     "name": "stderr",
     "output_type": "stream",
     "text": [
      " 60%|████████████████████████████████████████████▌                             | 27902/46290 [1:35:45<50:38,  6.05it/s]"
     ]
    },
    {
     "name": "stdout",
     "output_type": "stream",
     "text": [
      "nan\n"
     ]
    },
    {
     "name": "stderr",
     "output_type": "stream",
     "text": [
      " 60%|███████████████████████████████████████████▌                            | 28002/46290 [1:36:06<1:05:53,  4.63it/s]"
     ]
    },
    {
     "name": "stdout",
     "output_type": "stream",
     "text": [
      "nan\n"
     ]
    },
    {
     "name": "stderr",
     "output_type": "stream",
     "text": [
      " 61%|████████████████████████████████████████████▉                             | 28101/46290 [1:36:26<52:04,  5.82it/s]"
     ]
    },
    {
     "name": "stdout",
     "output_type": "stream",
     "text": [
      "nan\n"
     ]
    },
    {
     "name": "stderr",
     "output_type": "stream",
     "text": [
      " 61%|█████████████████████████████████████████████                             | 28201/46290 [1:36:47<52:13,  5.77it/s]"
     ]
    },
    {
     "name": "stdout",
     "output_type": "stream",
     "text": [
      "nan\n"
     ]
    },
    {
     "name": "stderr",
     "output_type": "stream",
     "text": [
      " 61%|████████████████████████████████████████████                            | 28302/46290 [1:37:09<1:04:03,  4.68it/s]"
     ]
    },
    {
     "name": "stdout",
     "output_type": "stream",
     "text": [
      "nan\n"
     ]
    },
    {
     "name": "stderr",
     "output_type": "stream",
     "text": [
      " 61%|████████████████████████████████████████████▏                           | 28401/46290 [1:37:29<1:01:15,  4.87it/s]"
     ]
    },
    {
     "name": "stdout",
     "output_type": "stream",
     "text": [
      "nan\n"
     ]
    },
    {
     "name": "stderr",
     "output_type": "stream",
     "text": [
      " 62%|█████████████████████████████████████████████▌                            | 28502/46290 [1:37:50<59:44,  4.96it/s]"
     ]
    },
    {
     "name": "stdout",
     "output_type": "stream",
     "text": [
      "nan\n"
     ]
    },
    {
     "name": "stderr",
     "output_type": "stream",
     "text": [
      " 62%|█████████████████████████████████████████████▋                            | 28602/46290 [1:38:11<52:57,  5.57it/s]"
     ]
    },
    {
     "name": "stdout",
     "output_type": "stream",
     "text": [
      "nan\n"
     ]
    },
    {
     "name": "stderr",
     "output_type": "stream",
     "text": [
      " 62%|█████████████████████████████████████████████▉                            | 28701/46290 [1:38:32<52:45,  5.56it/s]"
     ]
    },
    {
     "name": "stdout",
     "output_type": "stream",
     "text": [
      "nan\n"
     ]
    },
    {
     "name": "stderr",
     "output_type": "stream",
     "text": [
      " 62%|██████████████████████████████████████████████                            | 28801/46290 [1:38:54<55:16,  5.27it/s]"
     ]
    },
    {
     "name": "stdout",
     "output_type": "stream",
     "text": [
      "nan\n"
     ]
    },
    {
     "name": "stderr",
     "output_type": "stream",
     "text": [
      " 62%|████████████████████████████████████████████▉                           | 28901/46290 [1:39:15<1:12:40,  3.99it/s]"
     ]
    },
    {
     "name": "stdout",
     "output_type": "stream",
     "text": [
      "nan\n"
     ]
    },
    {
     "name": "stderr",
     "output_type": "stream",
     "text": [
      " 63%|█████████████████████████████████████████████                           | 29001/46290 [1:39:38<1:05:18,  4.41it/s]"
     ]
    },
    {
     "name": "stdout",
     "output_type": "stream",
     "text": [
      "nan\n"
     ]
    },
    {
     "name": "stderr",
     "output_type": "stream",
     "text": [
      " 63%|█████████████████████████████████████████████▎                          | 29101/46290 [1:39:59<1:11:43,  3.99it/s]"
     ]
    },
    {
     "name": "stdout",
     "output_type": "stream",
     "text": [
      "nan\n"
     ]
    },
    {
     "name": "stderr",
     "output_type": "stream",
     "text": [
      " 63%|██████████████████████████████████████████████▋                           | 29201/46290 [1:40:20<54:38,  5.21it/s]"
     ]
    },
    {
     "name": "stdout",
     "output_type": "stream",
     "text": [
      "nan\n"
     ]
    },
    {
     "name": "stderr",
     "output_type": "stream",
     "text": [
      " 63%|█████████████████████████████████████████████▌                          | 29301/46290 [1:40:42<1:02:24,  4.54it/s]"
     ]
    },
    {
     "name": "stdout",
     "output_type": "stream",
     "text": [
      "nan\n"
     ]
    },
    {
     "name": "stderr",
     "output_type": "stream",
     "text": [
      " 64%|█████████████████████████████████████████████▋                          | 29402/46290 [1:41:02<1:03:50,  4.41it/s]"
     ]
    },
    {
     "name": "stdout",
     "output_type": "stream",
     "text": [
      "nan\n"
     ]
    },
    {
     "name": "stderr",
     "output_type": "stream",
     "text": [
      " 64%|███████████████████████████████████████████████▏                          | 29502/46290 [1:41:22<40:17,  6.94it/s]"
     ]
    },
    {
     "name": "stdout",
     "output_type": "stream",
     "text": [
      "nan\n"
     ]
    },
    {
     "name": "stderr",
     "output_type": "stream",
     "text": [
      " 64%|██████████████████████████████████████████████                          | 29601/46290 [1:41:43<1:02:08,  4.48it/s]"
     ]
    },
    {
     "name": "stdout",
     "output_type": "stream",
     "text": [
      "nan\n"
     ]
    },
    {
     "name": "stderr",
     "output_type": "stream",
     "text": [
      " 64%|███████████████████████████████████████████████▍                          | 29702/46290 [1:42:03<55:09,  5.01it/s]"
     ]
    },
    {
     "name": "stdout",
     "output_type": "stream",
     "text": [
      "nan\n"
     ]
    },
    {
     "name": "stderr",
     "output_type": "stream",
     "text": [
      " 64%|███████████████████████████████████████████████▋                          | 29802/46290 [1:42:23<52:20,  5.25it/s]"
     ]
    },
    {
     "name": "stdout",
     "output_type": "stream",
     "text": [
      "nan\n"
     ]
    },
    {
     "name": "stderr",
     "output_type": "stream",
     "text": [
      " 65%|███████████████████████████████████████████████▊                          | 29902/46290 [1:42:44<50:08,  5.45it/s]"
     ]
    },
    {
     "name": "stdout",
     "output_type": "stream",
     "text": [
      "nan\n"
     ]
    },
    {
     "name": "stderr",
     "output_type": "stream",
     "text": [
      " 65%|███████████████████████████████████████████████▉                          | 30001/46290 [1:43:05<54:38,  4.97it/s]"
     ]
    },
    {
     "name": "stdout",
     "output_type": "stream",
     "text": [
      "nan\n"
     ]
    },
    {
     "name": "stderr",
     "output_type": "stream",
     "text": [
      " 65%|████████████████████████████████████████████████                          | 30102/46290 [1:43:26<45:54,  5.88it/s]"
     ]
    },
    {
     "name": "stdout",
     "output_type": "stream",
     "text": [
      "nan\n"
     ]
    },
    {
     "name": "stderr",
     "output_type": "stream",
     "text": [
      " 65%|████████████████████████████████████████████████▎                         | 30202/46290 [1:43:47<54:21,  4.93it/s]"
     ]
    },
    {
     "name": "stdout",
     "output_type": "stream",
     "text": [
      "nan\n"
     ]
    },
    {
     "name": "stderr",
     "output_type": "stream",
     "text": [
      " 65%|████████████████████████████████████████████████▍                         | 30302/46290 [1:44:09<48:46,  5.46it/s]"
     ]
    },
    {
     "name": "stdout",
     "output_type": "stream",
     "text": [
      "nan\n"
     ]
    },
    {
     "name": "stderr",
     "output_type": "stream",
     "text": [
      " 66%|████████████████████████████████████████████████▌                         | 30401/46290 [1:44:32<57:44,  4.59it/s]"
     ]
    },
    {
     "name": "stdout",
     "output_type": "stream",
     "text": [
      "nan\n"
     ]
    },
    {
     "name": "stderr",
     "output_type": "stream",
     "text": [
      " 66%|████████████████████████████████████████████████▊                         | 30501/46290 [1:44:53<49:24,  5.33it/s]"
     ]
    },
    {
     "name": "stdout",
     "output_type": "stream",
     "text": [
      "nan\n"
     ]
    },
    {
     "name": "stderr",
     "output_type": "stream",
     "text": [
      " 66%|████████████████████████████████████████████████▉                         | 30601/46290 [1:45:13<51:36,  5.07it/s]"
     ]
    },
    {
     "name": "stdout",
     "output_type": "stream",
     "text": [
      "nan\n"
     ]
    },
    {
     "name": "stderr",
     "output_type": "stream",
     "text": [
      " 66%|█████████████████████████████████████████████████                         | 30701/46290 [1:45:34<47:34,  5.46it/s]"
     ]
    },
    {
     "name": "stdout",
     "output_type": "stream",
     "text": [
      "nan\n"
     ]
    },
    {
     "name": "stderr",
     "output_type": "stream",
     "text": [
      " 67%|███████████████████████████████████████████████▉                        | 30801/46290 [1:45:56<1:01:26,  4.20it/s]"
     ]
    },
    {
     "name": "stdout",
     "output_type": "stream",
     "text": [
      "nan\n"
     ]
    },
    {
     "name": "stderr",
     "output_type": "stream",
     "text": [
      " 67%|█████████████████████████████████████████████████▍                        | 30901/46290 [1:46:18<59:55,  4.28it/s]"
     ]
    },
    {
     "name": "stdout",
     "output_type": "stream",
     "text": [
      "nan\n"
     ]
    },
    {
     "name": "stderr",
     "output_type": "stream",
     "text": [
      " 67%|█████████████████████████████████████████████████▌                        | 31001/46290 [1:46:39<56:09,  4.54it/s]"
     ]
    },
    {
     "name": "stdout",
     "output_type": "stream",
     "text": [
      "nan\n"
     ]
    },
    {
     "name": "stderr",
     "output_type": "stream",
     "text": [
      " 67%|█████████████████████████████████████████████████▋                        | 31102/46290 [1:46:59<50:31,  5.01it/s]"
     ]
    },
    {
     "name": "stdout",
     "output_type": "stream",
     "text": [
      "nan\n"
     ]
    },
    {
     "name": "stderr",
     "output_type": "stream",
     "text": [
      " 67%|█████████████████████████████████████████████████▉                        | 31202/46290 [1:47:20<56:36,  4.44it/s]"
     ]
    },
    {
     "name": "stdout",
     "output_type": "stream",
     "text": [
      "nan\n"
     ]
    },
    {
     "name": "stderr",
     "output_type": "stream",
     "text": [
      " 68%|██████████████████████████████████████████████████                        | 31302/46290 [1:47:42<46:10,  5.41it/s]"
     ]
    },
    {
     "name": "stdout",
     "output_type": "stream",
     "text": [
      "nan\n"
     ]
    },
    {
     "name": "stderr",
     "output_type": "stream",
     "text": [
      " 68%|██████████████████████████████████████████████████▏                       | 31401/46290 [1:48:02<59:50,  4.15it/s]"
     ]
    },
    {
     "name": "stdout",
     "output_type": "stream",
     "text": [
      "nan\n"
     ]
    },
    {
     "name": "stderr",
     "output_type": "stream",
     "text": [
      " 68%|██████████████████████████████████████████████████▎                       | 31501/46290 [1:48:24<52:15,  4.72it/s]"
     ]
    },
    {
     "name": "stdout",
     "output_type": "stream",
     "text": [
      "nan\n"
     ]
    },
    {
     "name": "stderr",
     "output_type": "stream",
     "text": [
      " 68%|██████████████████████████████████████████████████▌                       | 31601/46290 [1:48:44<44:37,  5.49it/s]"
     ]
    },
    {
     "name": "stdout",
     "output_type": "stream",
     "text": [
      "nan\n"
     ]
    },
    {
     "name": "stderr",
     "output_type": "stream",
     "text": [
      " 68%|██████████████████████████████████████████████████▋                       | 31702/46290 [1:49:07<40:07,  6.06it/s]"
     ]
    },
    {
     "name": "stdout",
     "output_type": "stream",
     "text": [
      "nan\n"
     ]
    },
    {
     "name": "stderr",
     "output_type": "stream",
     "text": [
      " 69%|█████████████████████████████████████████████████▍                      | 31801/46290 [1:49:28<1:02:46,  3.85it/s]"
     ]
    },
    {
     "name": "stdout",
     "output_type": "stream",
     "text": [
      "nan\n"
     ]
    },
    {
     "name": "stderr",
     "output_type": "stream",
     "text": [
      " 69%|██████████████████████████████████████████████████▉                       | 31902/46290 [1:49:50<48:42,  4.92it/s]"
     ]
    },
    {
     "name": "stdout",
     "output_type": "stream",
     "text": [
      "nan\n"
     ]
    },
    {
     "name": "stderr",
     "output_type": "stream",
     "text": [
      " 69%|███████████████████████████████████████████████████▏                      | 32001/46290 [1:50:11<55:51,  4.26it/s]"
     ]
    },
    {
     "name": "stdout",
     "output_type": "stream",
     "text": [
      "nan\n"
     ]
    },
    {
     "name": "stderr",
     "output_type": "stream",
     "text": [
      " 69%|███████████████████████████████████████████████████▎                      | 32101/46290 [1:50:33<41:30,  5.70it/s]"
     ]
    },
    {
     "name": "stdout",
     "output_type": "stream",
     "text": [
      "nan\n"
     ]
    },
    {
     "name": "stderr",
     "output_type": "stream",
     "text": [
      " 70%|███████████████████████████████████████████████████▍                      | 32201/46290 [1:50:54<36:17,  6.47it/s]"
     ]
    },
    {
     "name": "stdout",
     "output_type": "stream",
     "text": [
      "nan\n"
     ]
    },
    {
     "name": "stderr",
     "output_type": "stream",
     "text": [
      " 70%|███████████████████████████████████████████████████▋                      | 32302/46290 [1:51:16<48:50,  4.77it/s]"
     ]
    },
    {
     "name": "stdout",
     "output_type": "stream",
     "text": [
      "nan\n"
     ]
    },
    {
     "name": "stderr",
     "output_type": "stream",
     "text": [
      " 70%|███████████████████████████████████████████████████▊                      | 32401/46290 [1:51:36<46:57,  4.93it/s]"
     ]
    },
    {
     "name": "stdout",
     "output_type": "stream",
     "text": [
      "nan\n"
     ]
    },
    {
     "name": "stderr",
     "output_type": "stream",
     "text": [
      " 70%|███████████████████████████████████████████████████▉                      | 32502/46290 [1:51:57<45:08,  5.09it/s]"
     ]
    },
    {
     "name": "stdout",
     "output_type": "stream",
     "text": [
      "nan\n"
     ]
    },
    {
     "name": "stderr",
     "output_type": "stream",
     "text": [
      " 70%|████████████████████████████████████████████████████                      | 32602/46290 [1:52:17<38:54,  5.86it/s]"
     ]
    },
    {
     "name": "stdout",
     "output_type": "stream",
     "text": [
      "nan\n"
     ]
    },
    {
     "name": "stderr",
     "output_type": "stream",
     "text": [
      " 71%|████████████████████████████████████████████████████▎                     | 32701/46290 [1:52:37<48:26,  4.68it/s]"
     ]
    },
    {
     "name": "stdout",
     "output_type": "stream",
     "text": [
      "nan\n"
     ]
    },
    {
     "name": "stderr",
     "output_type": "stream",
     "text": [
      " 71%|████████████████████████████████████████████████████▍                     | 32802/46290 [1:52:57<37:21,  6.02it/s]"
     ]
    },
    {
     "name": "stdout",
     "output_type": "stream",
     "text": [
      "nan\n"
     ]
    },
    {
     "name": "stderr",
     "output_type": "stream",
     "text": [
      " 71%|████████████████████████████████████████████████████▌                     | 32901/46290 [1:53:19<56:05,  3.98it/s]"
     ]
    },
    {
     "name": "stdout",
     "output_type": "stream",
     "text": [
      "nan\n"
     ]
    },
    {
     "name": "stderr",
     "output_type": "stream",
     "text": [
      " 71%|████████████████████████████████████████████████████▊                     | 33002/46290 [1:53:40<40:30,  5.47it/s]"
     ]
    },
    {
     "name": "stdout",
     "output_type": "stream",
     "text": [
      "nan\n"
     ]
    },
    {
     "name": "stderr",
     "output_type": "stream",
     "text": [
      " 72%|████████████████████████████████████████████████████▉                     | 33101/46290 [1:54:02<43:51,  5.01it/s]"
     ]
    },
    {
     "name": "stdout",
     "output_type": "stream",
     "text": [
      "nan\n"
     ]
    },
    {
     "name": "stderr",
     "output_type": "stream",
     "text": [
      " 72%|█████████████████████████████████████████████████████                     | 33201/46290 [1:54:22<39:50,  5.48it/s]"
     ]
    },
    {
     "name": "stdout",
     "output_type": "stream",
     "text": [
      "nan\n"
     ]
    },
    {
     "name": "stderr",
     "output_type": "stream",
     "text": [
      " 72%|█████████████████████████████████████████████████████▏                    | 33301/46290 [1:54:43<38:14,  5.66it/s]"
     ]
    },
    {
     "name": "stdout",
     "output_type": "stream",
     "text": [
      "nan\n"
     ]
    },
    {
     "name": "stderr",
     "output_type": "stream",
     "text": [
      " 72%|█████████████████████████████████████████████████████▍                    | 33401/46290 [1:55:05<45:37,  4.71it/s]"
     ]
    },
    {
     "name": "stdout",
     "output_type": "stream",
     "text": [
      "nan\n"
     ]
    },
    {
     "name": "stderr",
     "output_type": "stream",
     "text": [
      " 72%|█████████████████████████████████████████████████████▌                    | 33502/46290 [1:55:25<42:21,  5.03it/s]"
     ]
    },
    {
     "name": "stdout",
     "output_type": "stream",
     "text": [
      "nan\n"
     ]
    },
    {
     "name": "stderr",
     "output_type": "stream",
     "text": [
      " 73%|█████████████████████████████████████████████████████▋                    | 33601/46290 [1:55:47<44:09,  4.79it/s]"
     ]
    },
    {
     "name": "stdout",
     "output_type": "stream",
     "text": [
      "nan\n"
     ]
    },
    {
     "name": "stderr",
     "output_type": "stream",
     "text": [
      " 73%|█████████████████████████████████████████████████████▉                    | 33701/46290 [1:56:07<37:37,  5.58it/s]"
     ]
    },
    {
     "name": "stdout",
     "output_type": "stream",
     "text": [
      "nan\n"
     ]
    },
    {
     "name": "stderr",
     "output_type": "stream",
     "text": [
      " 73%|██████████████████████████████████████████████████████                    | 33802/46290 [1:56:29<42:02,  4.95it/s]"
     ]
    },
    {
     "name": "stdout",
     "output_type": "stream",
     "text": [
      "nan\n"
     ]
    },
    {
     "name": "stderr",
     "output_type": "stream",
     "text": [
      " 73%|██████████████████████████████████████████████████████▏                   | 33902/46290 [1:56:51<40:03,  5.15it/s]"
     ]
    },
    {
     "name": "stdout",
     "output_type": "stream",
     "text": [
      "nan\n"
     ]
    },
    {
     "name": "stderr",
     "output_type": "stream",
     "text": [
      " 73%|██████████████████████████████████████████████████████▎                   | 34001/46290 [1:57:12<49:36,  4.13it/s]"
     ]
    },
    {
     "name": "stdout",
     "output_type": "stream",
     "text": [
      "nan\n"
     ]
    },
    {
     "name": "stderr",
     "output_type": "stream",
     "text": [
      " 74%|██████████████████████████████████████████████████████▌                   | 34101/46290 [1:57:32<43:19,  4.69it/s]"
     ]
    },
    {
     "name": "stdout",
     "output_type": "stream",
     "text": [
      "nan\n"
     ]
    },
    {
     "name": "stderr",
     "output_type": "stream",
     "text": [
      " 74%|██████████████████████████████████████████████████████▋                   | 34202/46290 [1:57:53<37:54,  5.31it/s]"
     ]
    },
    {
     "name": "stdout",
     "output_type": "stream",
     "text": [
      "nan\n"
     ]
    },
    {
     "name": "stderr",
     "output_type": "stream",
     "text": [
      " 74%|██████████████████████████████████████████████████████▊                   | 34302/46290 [1:58:14<41:38,  4.80it/s]"
     ]
    },
    {
     "name": "stdout",
     "output_type": "stream",
     "text": [
      "nan\n"
     ]
    },
    {
     "name": "stderr",
     "output_type": "stream",
     "text": [
      " 74%|██████████████████████████████████████████████████████▉                   | 34401/46290 [1:58:35<44:49,  4.42it/s]"
     ]
    },
    {
     "name": "stdout",
     "output_type": "stream",
     "text": [
      "nan\n"
     ]
    },
    {
     "name": "stderr",
     "output_type": "stream",
     "text": [
      " 75%|███████████████████████████████████████████████████████▏                  | 34501/46290 [1:58:58<43:06,  4.56it/s]"
     ]
    },
    {
     "name": "stdout",
     "output_type": "stream",
     "text": [
      "nan\n"
     ]
    },
    {
     "name": "stderr",
     "output_type": "stream",
     "text": [
      " 75%|███████████████████████████████████████████████████████▎                  | 34602/46290 [1:59:19<39:28,  4.93it/s]"
     ]
    },
    {
     "name": "stdout",
     "output_type": "stream",
     "text": [
      "nan\n"
     ]
    },
    {
     "name": "stderr",
     "output_type": "stream",
     "text": [
      " 75%|███████████████████████████████████████████████████████▍                  | 34701/46290 [1:59:40<41:18,  4.68it/s]"
     ]
    },
    {
     "name": "stdout",
     "output_type": "stream",
     "text": [
      "nan\n"
     ]
    },
    {
     "name": "stderr",
     "output_type": "stream",
     "text": [
      " 75%|███████████████████████████████████████████████████████▋                  | 34801/46290 [2:00:01<42:37,  4.49it/s]"
     ]
    },
    {
     "name": "stdout",
     "output_type": "stream",
     "text": [
      "nan\n"
     ]
    },
    {
     "name": "stderr",
     "output_type": "stream",
     "text": [
      " 75%|███████████████████████████████████████████████████████▊                  | 34901/46290 [2:00:22<33:37,  5.64it/s]"
     ]
    },
    {
     "name": "stdout",
     "output_type": "stream",
     "text": [
      "nan\n"
     ]
    },
    {
     "name": "stderr",
     "output_type": "stream",
     "text": [
      " 76%|███████████████████████████████████████████████████████▉                  | 35001/46290 [2:00:43<38:14,  4.92it/s]"
     ]
    },
    {
     "name": "stdout",
     "output_type": "stream",
     "text": [
      "nan\n"
     ]
    },
    {
     "name": "stderr",
     "output_type": "stream",
     "text": [
      " 76%|████████████████████████████████████████████████████████                  | 35102/46290 [2:01:04<42:46,  4.36it/s]"
     ]
    },
    {
     "name": "stdout",
     "output_type": "stream",
     "text": [
      "nan\n"
     ]
    },
    {
     "name": "stderr",
     "output_type": "stream",
     "text": [
      " 76%|████████████████████████████████████████████████████████▎                 | 35201/46290 [2:01:24<43:05,  4.29it/s]"
     ]
    },
    {
     "name": "stdout",
     "output_type": "stream",
     "text": [
      "nan\n"
     ]
    },
    {
     "name": "stderr",
     "output_type": "stream",
     "text": [
      " 76%|████████████████████████████████████████████████████████▍                 | 35301/46290 [2:01:45<33:18,  5.50it/s]"
     ]
    },
    {
     "name": "stdout",
     "output_type": "stream",
     "text": [
      "nan\n"
     ]
    },
    {
     "name": "stderr",
     "output_type": "stream",
     "text": [
      " 76%|████████████████████████████████████████████████████████▌                 | 35401/46290 [2:02:06<32:24,  5.60it/s]"
     ]
    },
    {
     "name": "stdout",
     "output_type": "stream",
     "text": [
      "nan\n"
     ]
    },
    {
     "name": "stderr",
     "output_type": "stream",
     "text": [
      " 77%|████████████████████████████████████████████████████████▊                 | 35501/46290 [2:02:28<39:19,  4.57it/s]"
     ]
    },
    {
     "name": "stdout",
     "output_type": "stream",
     "text": [
      "nan\n"
     ]
    },
    {
     "name": "stderr",
     "output_type": "stream",
     "text": [
      " 77%|████████████████████████████████████████████████████████▉                 | 35602/46290 [2:02:48<33:47,  5.27it/s]"
     ]
    },
    {
     "name": "stdout",
     "output_type": "stream",
     "text": [
      "nan\n"
     ]
    },
    {
     "name": "stderr",
     "output_type": "stream",
     "text": [
      " 77%|█████████████████████████████████████████████████████████                 | 35701/46290 [2:03:11<38:26,  4.59it/s]"
     ]
    },
    {
     "name": "stdout",
     "output_type": "stream",
     "text": [
      "nan\n"
     ]
    },
    {
     "name": "stderr",
     "output_type": "stream",
     "text": [
      " 77%|█████████████████████████████████████████████████████████▏                | 35802/46290 [2:03:32<30:26,  5.74it/s]"
     ]
    },
    {
     "name": "stdout",
     "output_type": "stream",
     "text": [
      "nan\n"
     ]
    },
    {
     "name": "stderr",
     "output_type": "stream",
     "text": [
      " 78%|█████████████████████████████████████████████████████████▍                | 35901/46290 [2:03:55<34:39,  5.00it/s]"
     ]
    },
    {
     "name": "stdout",
     "output_type": "stream",
     "text": [
      "nan\n"
     ]
    },
    {
     "name": "stderr",
     "output_type": "stream",
     "text": [
      " 78%|█████████████████████████████████████████████████████████▌                | 36001/46290 [2:04:17<38:22,  4.47it/s]"
     ]
    },
    {
     "name": "stdout",
     "output_type": "stream",
     "text": [
      "nan\n"
     ]
    },
    {
     "name": "stderr",
     "output_type": "stream",
     "text": [
      " 78%|█████████████████████████████████████████████████████████▋                | 36101/46290 [2:04:38<35:22,  4.80it/s]"
     ]
    },
    {
     "name": "stdout",
     "output_type": "stream",
     "text": [
      "nan\n"
     ]
    },
    {
     "name": "stderr",
     "output_type": "stream",
     "text": [
      " 78%|█████████████████████████████████████████████████████████▊                | 36202/46290 [2:04:59<34:53,  4.82it/s]"
     ]
    },
    {
     "name": "stdout",
     "output_type": "stream",
     "text": [
      "nan\n"
     ]
    },
    {
     "name": "stderr",
     "output_type": "stream",
     "text": [
      " 78%|██████████████████████████████████████████████████████████                | 36301/46290 [2:05:21<41:30,  4.01it/s]"
     ]
    },
    {
     "name": "stdout",
     "output_type": "stream",
     "text": [
      "nan\n"
     ]
    },
    {
     "name": "stderr",
     "output_type": "stream",
     "text": [
      " 79%|██████████████████████████████████████████████████████████▏               | 36401/46290 [2:05:42<34:18,  4.80it/s]"
     ]
    },
    {
     "name": "stdout",
     "output_type": "stream",
     "text": [
      "nan\n"
     ]
    },
    {
     "name": "stderr",
     "output_type": "stream",
     "text": [
      " 79%|██████████████████████████████████████████████████████████▎               | 36502/46290 [2:06:03<31:59,  5.10it/s]"
     ]
    },
    {
     "name": "stdout",
     "output_type": "stream",
     "text": [
      "nan\n"
     ]
    },
    {
     "name": "stderr",
     "output_type": "stream",
     "text": [
      " 79%|██████████████████████████████████████████████████████████▌               | 36602/46290 [2:06:25<32:16,  5.00it/s]"
     ]
    },
    {
     "name": "stdout",
     "output_type": "stream",
     "text": [
      "nan\n"
     ]
    },
    {
     "name": "stderr",
     "output_type": "stream",
     "text": [
      " 79%|██████████████████████████████████████████████████████████▋               | 36701/46290 [2:06:45<32:32,  4.91it/s]"
     ]
    },
    {
     "name": "stdout",
     "output_type": "stream",
     "text": [
      "nan\n"
     ]
    },
    {
     "name": "stderr",
     "output_type": "stream",
     "text": [
      " 80%|██████████████████████████████████████████████████████████▊               | 36802/46290 [2:07:07<30:25,  5.20it/s]"
     ]
    },
    {
     "name": "stdout",
     "output_type": "stream",
     "text": [
      "nan\n"
     ]
    },
    {
     "name": "stderr",
     "output_type": "stream",
     "text": [
      " 80%|██████████████████████████████████████████████████████████▉               | 36902/46290 [2:07:28<30:14,  5.17it/s]"
     ]
    },
    {
     "name": "stdout",
     "output_type": "stream",
     "text": [
      "nan\n"
     ]
    },
    {
     "name": "stderr",
     "output_type": "stream",
     "text": [
      " 80%|███████████████████████████████████████████████████████████▏              | 37002/46290 [2:07:49<32:23,  4.78it/s]"
     ]
    },
    {
     "name": "stdout",
     "output_type": "stream",
     "text": [
      "nan\n"
     ]
    },
    {
     "name": "stderr",
     "output_type": "stream",
     "text": [
      " 80%|███████████████████████████████████████████████████████████▎              | 37101/46290 [2:08:09<27:44,  5.52it/s]"
     ]
    },
    {
     "name": "stdout",
     "output_type": "stream",
     "text": [
      "nan\n"
     ]
    },
    {
     "name": "stderr",
     "output_type": "stream",
     "text": [
      " 80%|███████████████████████████████████████████████████████████▍              | 37202/46290 [2:08:32<32:20,  4.68it/s]"
     ]
    },
    {
     "name": "stdout",
     "output_type": "stream",
     "text": [
      "nan\n"
     ]
    },
    {
     "name": "stderr",
     "output_type": "stream",
     "text": [
      " 81%|███████████████████████████████████████████████████████████▋              | 37301/46290 [2:08:52<28:35,  5.24it/s]"
     ]
    },
    {
     "name": "stdout",
     "output_type": "stream",
     "text": [
      "nan\n"
     ]
    },
    {
     "name": "stderr",
     "output_type": "stream",
     "text": [
      " 81%|███████████████████████████████████████████████████████████▊              | 37402/46290 [2:09:13<30:18,  4.89it/s]"
     ]
    },
    {
     "name": "stdout",
     "output_type": "stream",
     "text": [
      "nan\n"
     ]
    },
    {
     "name": "stderr",
     "output_type": "stream",
     "text": [
      " 81%|███████████████████████████████████████████████████████████▉              | 37502/46290 [2:09:34<29:16,  5.00it/s]"
     ]
    },
    {
     "name": "stdout",
     "output_type": "stream",
     "text": [
      "nan\n"
     ]
    },
    {
     "name": "stderr",
     "output_type": "stream",
     "text": [
      " 81%|████████████████████████████████████████████████████████████              | 37602/46290 [2:09:55<27:54,  5.19it/s]"
     ]
    },
    {
     "name": "stdout",
     "output_type": "stream",
     "text": [
      "nan\n"
     ]
    },
    {
     "name": "stderr",
     "output_type": "stream",
     "text": [
      " 81%|████████████████████████████████████████████████████████████▎             | 37701/46290 [2:10:15<32:50,  4.36it/s]"
     ]
    },
    {
     "name": "stdout",
     "output_type": "stream",
     "text": [
      "nan\n"
     ]
    },
    {
     "name": "stderr",
     "output_type": "stream",
     "text": [
      " 82%|████████████████████████████████████████████████████████████▍             | 37802/46290 [2:10:36<26:01,  5.44it/s]"
     ]
    },
    {
     "name": "stdout",
     "output_type": "stream",
     "text": [
      "nan\n"
     ]
    },
    {
     "name": "stderr",
     "output_type": "stream",
     "text": [
      " 82%|████████████████████████████████████████████████████████████▌             | 37902/46290 [2:10:58<28:16,  4.94it/s]"
     ]
    },
    {
     "name": "stdout",
     "output_type": "stream",
     "text": [
      "nan\n"
     ]
    },
    {
     "name": "stderr",
     "output_type": "stream",
     "text": [
      " 82%|████████████████████████████████████████████████████████████▊             | 38002/46290 [2:11:19<26:40,  5.18it/s]"
     ]
    },
    {
     "name": "stdout",
     "output_type": "stream",
     "text": [
      "nan\n"
     ]
    },
    {
     "name": "stderr",
     "output_type": "stream",
     "text": [
      " 82%|████████████████████████████████████████████████████████████▉             | 38101/46290 [2:11:40<31:11,  4.38it/s]"
     ]
    },
    {
     "name": "stdout",
     "output_type": "stream",
     "text": [
      "nan\n"
     ]
    },
    {
     "name": "stderr",
     "output_type": "stream",
     "text": [
      " 83%|█████████████████████████████████████████████████████████████             | 38201/46290 [2:12:00<29:07,  4.63it/s]"
     ]
    },
    {
     "name": "stdout",
     "output_type": "stream",
     "text": [
      "nan\n"
     ]
    },
    {
     "name": "stderr",
     "output_type": "stream",
     "text": [
      " 83%|█████████████████████████████████████████████████████████████▏            | 38301/46290 [2:12:21<23:08,  5.75it/s]"
     ]
    },
    {
     "name": "stdout",
     "output_type": "stream",
     "text": [
      "nan\n"
     ]
    },
    {
     "name": "stderr",
     "output_type": "stream",
     "text": [
      " 83%|█████████████████████████████████████████████████████████████▍            | 38401/46290 [2:12:44<26:43,  4.92it/s]"
     ]
    },
    {
     "name": "stdout",
     "output_type": "stream",
     "text": [
      "nan\n"
     ]
    },
    {
     "name": "stderr",
     "output_type": "stream",
     "text": [
      " 83%|█████████████████████████████████████████████████████████████▌            | 38502/46290 [2:13:05<27:09,  4.78it/s]"
     ]
    },
    {
     "name": "stdout",
     "output_type": "stream",
     "text": [
      "nan\n"
     ]
    },
    {
     "name": "stderr",
     "output_type": "stream",
     "text": [
      " 83%|█████████████████████████████████████████████████████████████▋            | 38601/46290 [2:13:24<18:31,  6.91it/s]"
     ]
    },
    {
     "name": "stdout",
     "output_type": "stream",
     "text": [
      "nan\n"
     ]
    },
    {
     "name": "stderr",
     "output_type": "stream",
     "text": [
      " 84%|█████████████████████████████████████████████████████████████▊            | 38701/46290 [2:13:46<29:17,  4.32it/s]"
     ]
    },
    {
     "name": "stdout",
     "output_type": "stream",
     "text": [
      "nan\n"
     ]
    },
    {
     "name": "stderr",
     "output_type": "stream",
     "text": [
      " 84%|██████████████████████████████████████████████████████████████            | 38802/46290 [2:14:07<19:47,  6.31it/s]"
     ]
    },
    {
     "name": "stdout",
     "output_type": "stream",
     "text": [
      "nan\n"
     ]
    },
    {
     "name": "stderr",
     "output_type": "stream",
     "text": [
      " 84%|██████████████████████████████████████████████████████████████▏           | 38902/46290 [2:14:28<22:53,  5.38it/s]"
     ]
    },
    {
     "name": "stdout",
     "output_type": "stream",
     "text": [
      "nan\n"
     ]
    },
    {
     "name": "stderr",
     "output_type": "stream",
     "text": [
      " 84%|██████████████████████████████████████████████████████████████▎           | 39001/46290 [2:14:48<18:36,  6.53it/s]"
     ]
    },
    {
     "name": "stdout",
     "output_type": "stream",
     "text": [
      "nan\n"
     ]
    },
    {
     "name": "stderr",
     "output_type": "stream",
     "text": [
      " 84%|██████████████████████████████████████████████████████████████▌           | 39101/46290 [2:15:09<27:30,  4.36it/s]"
     ]
    },
    {
     "name": "stdout",
     "output_type": "stream",
     "text": [
      "nan\n"
     ]
    },
    {
     "name": "stderr",
     "output_type": "stream",
     "text": [
      " 85%|██████████████████████████████████████████████████████████████▋           | 39201/46290 [2:15:29<24:31,  4.82it/s]"
     ]
    },
    {
     "name": "stdout",
     "output_type": "stream",
     "text": [
      "nan\n"
     ]
    },
    {
     "name": "stderr",
     "output_type": "stream",
     "text": [
      " 85%|██████████████████████████████████████████████████████████████▊           | 39301/46290 [2:15:50<29:33,  3.94it/s]"
     ]
    },
    {
     "name": "stdout",
     "output_type": "stream",
     "text": [
      "nan\n"
     ]
    },
    {
     "name": "stderr",
     "output_type": "stream",
     "text": [
      " 85%|██████████████████████████████████████████████████████████████▉           | 39401/46290 [2:16:12<26:35,  4.32it/s]"
     ]
    },
    {
     "name": "stdout",
     "output_type": "stream",
     "text": [
      "nan\n"
     ]
    },
    {
     "name": "stderr",
     "output_type": "stream",
     "text": [
      " 85%|███████████████████████████████████████████████████████████████▏          | 39501/46290 [2:16:33<20:15,  5.59it/s]"
     ]
    },
    {
     "name": "stdout",
     "output_type": "stream",
     "text": [
      "nan\n"
     ]
    },
    {
     "name": "stderr",
     "output_type": "stream",
     "text": [
      " 86%|███████████████████████████████████████████████████████████████▎          | 39602/46290 [2:16:54<23:21,  4.77it/s]"
     ]
    },
    {
     "name": "stdout",
     "output_type": "stream",
     "text": [
      "nan\n"
     ]
    },
    {
     "name": "stderr",
     "output_type": "stream",
     "text": [
      " 86%|███████████████████████████████████████████████████████████████▍          | 39701/46290 [2:17:15<25:54,  4.24it/s]"
     ]
    },
    {
     "name": "stdout",
     "output_type": "stream",
     "text": [
      "nan\n"
     ]
    },
    {
     "name": "stderr",
     "output_type": "stream",
     "text": [
      " 86%|███████████████████████████████████████████████████████████████▋          | 39802/46290 [2:17:37<21:20,  5.07it/s]"
     ]
    },
    {
     "name": "stdout",
     "output_type": "stream",
     "text": [
      "nan\n"
     ]
    },
    {
     "name": "stderr",
     "output_type": "stream",
     "text": [
      " 86%|███████████████████████████████████████████████████████████████▊          | 39901/46290 [2:17:59<28:29,  3.74it/s]"
     ]
    },
    {
     "name": "stdout",
     "output_type": "stream",
     "text": [
      "nan\n"
     ]
    },
    {
     "name": "stderr",
     "output_type": "stream",
     "text": [
      " 86%|███████████████████████████████████████████████████████████████▉          | 40001/46290 [2:18:22<21:50,  4.80it/s]"
     ]
    },
    {
     "name": "stdout",
     "output_type": "stream",
     "text": [
      "nan\n"
     ]
    },
    {
     "name": "stderr",
     "output_type": "stream",
     "text": [
      " 87%|████████████████████████████████████████████████████████████████          | 40101/46290 [2:18:44<21:01,  4.91it/s]"
     ]
    },
    {
     "name": "stdout",
     "output_type": "stream",
     "text": [
      "nan\n"
     ]
    },
    {
     "name": "stderr",
     "output_type": "stream",
     "text": [
      " 87%|████████████████████████████████████████████████████████████████▎         | 40201/46290 [2:19:05<18:44,  5.41it/s]"
     ]
    },
    {
     "name": "stdout",
     "output_type": "stream",
     "text": [
      "nan\n"
     ]
    },
    {
     "name": "stderr",
     "output_type": "stream",
     "text": [
      " 87%|████████████████████████████████████████████████████████████████▍         | 40301/46290 [2:19:26<20:25,  4.89it/s]"
     ]
    },
    {
     "name": "stdout",
     "output_type": "stream",
     "text": [
      "nan\n"
     ]
    },
    {
     "name": "stderr",
     "output_type": "stream",
     "text": [
      " 87%|████████████████████████████████████████████████████████████████▌         | 40401/46290 [2:19:46<21:14,  4.62it/s]"
     ]
    },
    {
     "name": "stdout",
     "output_type": "stream",
     "text": [
      "nan\n"
     ]
    },
    {
     "name": "stderr",
     "output_type": "stream",
     "text": [
      " 87%|████████████████████████████████████████████████████████████████▋         | 40502/46290 [2:20:06<17:32,  5.50it/s]"
     ]
    },
    {
     "name": "stdout",
     "output_type": "stream",
     "text": [
      "nan\n"
     ]
    },
    {
     "name": "stderr",
     "output_type": "stream",
     "text": [
      " 88%|████████████████████████████████████████████████████████████████▉         | 40601/46290 [2:20:26<18:46,  5.05it/s]"
     ]
    },
    {
     "name": "stdout",
     "output_type": "stream",
     "text": [
      "nan\n"
     ]
    },
    {
     "name": "stderr",
     "output_type": "stream",
     "text": [
      " 88%|█████████████████████████████████████████████████████████████████         | 40701/46290 [2:20:46<17:08,  5.43it/s]"
     ]
    },
    {
     "name": "stdout",
     "output_type": "stream",
     "text": [
      "nan\n"
     ]
    },
    {
     "name": "stderr",
     "output_type": "stream",
     "text": [
      " 88%|█████████████████████████████████████████████████████████████████▏        | 40802/46290 [2:21:08<17:57,  5.09it/s]"
     ]
    },
    {
     "name": "stdout",
     "output_type": "stream",
     "text": [
      "nan\n"
     ]
    },
    {
     "name": "stderr",
     "output_type": "stream",
     "text": [
      " 88%|█████████████████████████████████████████████████████████████████▍        | 40901/46290 [2:21:29<29:49,  3.01it/s]"
     ]
    },
    {
     "name": "stdout",
     "output_type": "stream",
     "text": [
      "nan\n"
     ]
    },
    {
     "name": "stderr",
     "output_type": "stream",
     "text": [
      " 89%|█████████████████████████████████████████████████████████████████▌        | 41002/46290 [2:21:51<18:39,  4.72it/s]"
     ]
    },
    {
     "name": "stdout",
     "output_type": "stream",
     "text": [
      "nan\n"
     ]
    },
    {
     "name": "stderr",
     "output_type": "stream",
     "text": [
      " 89%|█████████████████████████████████████████████████████████████████▋        | 41101/46290 [2:22:14<14:49,  5.83it/s]"
     ]
    },
    {
     "name": "stdout",
     "output_type": "stream",
     "text": [
      "nan\n"
     ]
    },
    {
     "name": "stderr",
     "output_type": "stream",
     "text": [
      " 89%|█████████████████████████████████████████████████████████████████▊        | 41201/46290 [2:22:34<15:18,  5.54it/s]"
     ]
    },
    {
     "name": "stdout",
     "output_type": "stream",
     "text": [
      "nan\n"
     ]
    },
    {
     "name": "stderr",
     "output_type": "stream",
     "text": [
      " 89%|██████████████████████████████████████████████████████████████████        | 41302/46290 [2:22:55<17:15,  4.82it/s]"
     ]
    },
    {
     "name": "stdout",
     "output_type": "stream",
     "text": [
      "nan\n"
     ]
    },
    {
     "name": "stderr",
     "output_type": "stream",
     "text": [
      " 89%|██████████████████████████████████████████████████████████████████▏       | 41401/46290 [2:23:15<22:34,  3.61it/s]"
     ]
    },
    {
     "name": "stdout",
     "output_type": "stream",
     "text": [
      "nan\n"
     ]
    },
    {
     "name": "stderr",
     "output_type": "stream",
     "text": [
      " 90%|██████████████████████████████████████████████████████████████████▎       | 41501/46290 [2:23:36<15:42,  5.08it/s]"
     ]
    },
    {
     "name": "stdout",
     "output_type": "stream",
     "text": [
      "nan\n"
     ]
    },
    {
     "name": "stderr",
     "output_type": "stream",
     "text": [
      " 90%|██████████████████████████████████████████████████████████████████▌       | 41601/46290 [2:23:58<19:21,  4.04it/s]"
     ]
    },
    {
     "name": "stdout",
     "output_type": "stream",
     "text": [
      "nan\n"
     ]
    },
    {
     "name": "stderr",
     "output_type": "stream",
     "text": [
      " 90%|██████████████████████████████████████████████████████████████████▋       | 41702/46290 [2:24:19<14:47,  5.17it/s]"
     ]
    },
    {
     "name": "stdout",
     "output_type": "stream",
     "text": [
      "nan\n"
     ]
    },
    {
     "name": "stderr",
     "output_type": "stream",
     "text": [
      " 90%|██████████████████████████████████████████████████████████████████▊       | 41801/46290 [2:24:39<17:48,  4.20it/s]"
     ]
    },
    {
     "name": "stdout",
     "output_type": "stream",
     "text": [
      "nan\n"
     ]
    },
    {
     "name": "stderr",
     "output_type": "stream",
     "text": [
      " 91%|██████████████████████████████████████████████████████████████████▉       | 41902/46290 [2:24:59<13:12,  5.54it/s]"
     ]
    },
    {
     "name": "stdout",
     "output_type": "stream",
     "text": [
      "nan\n"
     ]
    },
    {
     "name": "stderr",
     "output_type": "stream",
     "text": [
      " 91%|███████████████████████████████████████████████████████████████████▏      | 42001/46290 [2:25:21<14:24,  4.96it/s]"
     ]
    },
    {
     "name": "stdout",
     "output_type": "stream",
     "text": [
      "nan\n"
     ]
    },
    {
     "name": "stderr",
     "output_type": "stream",
     "text": [
      " 91%|███████████████████████████████████████████████████████████████████▎      | 42102/46290 [2:25:42<13:36,  5.13it/s]"
     ]
    },
    {
     "name": "stdout",
     "output_type": "stream",
     "text": [
      "nan\n"
     ]
    },
    {
     "name": "stderr",
     "output_type": "stream",
     "text": [
      " 91%|███████████████████████████████████████████████████████████████████▍      | 42202/46290 [2:26:03<14:10,  4.80it/s]"
     ]
    },
    {
     "name": "stdout",
     "output_type": "stream",
     "text": [
      "nan\n"
     ]
    },
    {
     "name": "stderr",
     "output_type": "stream",
     "text": [
      " 91%|███████████████████████████████████████████████████████████████████▌      | 42301/46290 [2:26:24<14:07,  4.70it/s]"
     ]
    },
    {
     "name": "stdout",
     "output_type": "stream",
     "text": [
      "nan\n"
     ]
    },
    {
     "name": "stderr",
     "output_type": "stream",
     "text": [
      " 92%|███████████████████████████████████████████████████████████████████▊      | 42401/46290 [2:26:48<13:19,  4.86it/s]"
     ]
    },
    {
     "name": "stdout",
     "output_type": "stream",
     "text": [
      "nan\n"
     ]
    },
    {
     "name": "stderr",
     "output_type": "stream",
     "text": [
      " 92%|███████████████████████████████████████████████████████████████████▉      | 42501/46290 [2:27:09<15:22,  4.11it/s]"
     ]
    },
    {
     "name": "stdout",
     "output_type": "stream",
     "text": [
      "nan\n"
     ]
    },
    {
     "name": "stderr",
     "output_type": "stream",
     "text": [
      " 92%|████████████████████████████████████████████████████████████████████      | 42602/46290 [2:27:31<12:44,  4.83it/s]"
     ]
    },
    {
     "name": "stdout",
     "output_type": "stream",
     "text": [
      "nan\n"
     ]
    },
    {
     "name": "stderr",
     "output_type": "stream",
     "text": [
      " 92%|████████████████████████████████████████████████████████████████████▎     | 42701/46290 [2:27:52<12:38,  4.73it/s]"
     ]
    },
    {
     "name": "stdout",
     "output_type": "stream",
     "text": [
      "nan\n"
     ]
    },
    {
     "name": "stderr",
     "output_type": "stream",
     "text": [
      " 92%|████████████████████████████████████████████████████████████████████▍     | 42801/46290 [2:28:13<10:40,  5.45it/s]"
     ]
    },
    {
     "name": "stdout",
     "output_type": "stream",
     "text": [
      "nan\n"
     ]
    },
    {
     "name": "stderr",
     "output_type": "stream",
     "text": [
      " 93%|████████████████████████████████████████████████████████████████████▌     | 42901/46290 [2:28:34<09:53,  5.71it/s]"
     ]
    },
    {
     "name": "stdout",
     "output_type": "stream",
     "text": [
      "nan\n"
     ]
    },
    {
     "name": "stderr",
     "output_type": "stream",
     "text": [
      " 93%|████████████████████████████████████████████████████████████████████▋     | 43001/46290 [2:28:56<10:47,  5.08it/s]"
     ]
    },
    {
     "name": "stdout",
     "output_type": "stream",
     "text": [
      "nan\n"
     ]
    },
    {
     "name": "stderr",
     "output_type": "stream",
     "text": [
      " 93%|████████████████████████████████████████████████████████████████████▉     | 43101/46290 [2:29:17<15:49,  3.36it/s]"
     ]
    },
    {
     "name": "stdout",
     "output_type": "stream",
     "text": [
      "nan\n"
     ]
    },
    {
     "name": "stderr",
     "output_type": "stream",
     "text": [
      " 93%|█████████████████████████████████████████████████████████████████████     | 43201/46290 [2:29:38<10:07,  5.08it/s]"
     ]
    },
    {
     "name": "stdout",
     "output_type": "stream",
     "text": [
      "nan\n"
     ]
    },
    {
     "name": "stderr",
     "output_type": "stream",
     "text": [
      " 94%|█████████████████████████████████████████████████████████████████████▏    | 43301/46290 [2:29:59<08:20,  5.97it/s]"
     ]
    },
    {
     "name": "stdout",
     "output_type": "stream",
     "text": [
      "nan\n"
     ]
    },
    {
     "name": "stderr",
     "output_type": "stream",
     "text": [
      " 94%|█████████████████████████████████████████████████████████████████████▍    | 43401/46290 [2:30:20<11:55,  4.04it/s]"
     ]
    },
    {
     "name": "stdout",
     "output_type": "stream",
     "text": [
      "nan\n"
     ]
    },
    {
     "name": "stderr",
     "output_type": "stream",
     "text": [
      " 94%|█████████████████████████████████████████████████████████████████████▌    | 43502/46290 [2:30:39<08:50,  5.26it/s]"
     ]
    },
    {
     "name": "stdout",
     "output_type": "stream",
     "text": [
      "nan\n"
     ]
    },
    {
     "name": "stderr",
     "output_type": "stream",
     "text": [
      " 94%|█████████████████████████████████████████████████████████████████████▋    | 43601/46290 [2:31:01<08:51,  5.06it/s]"
     ]
    },
    {
     "name": "stdout",
     "output_type": "stream",
     "text": [
      "nan\n"
     ]
    },
    {
     "name": "stderr",
     "output_type": "stream",
     "text": [
      " 94%|█████████████████████████████████████████████████████████████████████▊    | 43701/46290 [2:31:22<09:27,  4.56it/s]"
     ]
    },
    {
     "name": "stdout",
     "output_type": "stream",
     "text": [
      "nan\n"
     ]
    },
    {
     "name": "stderr",
     "output_type": "stream",
     "text": [
      " 95%|██████████████████████████████████████████████████████████████████████    | 43801/46290 [2:31:47<08:59,  4.61it/s]"
     ]
    },
    {
     "name": "stdout",
     "output_type": "stream",
     "text": [
      "nan\n"
     ]
    },
    {
     "name": "stderr",
     "output_type": "stream",
     "text": [
      " 95%|██████████████████████████████████████████████████████████████████████▏   | 43901/46290 [2:32:09<08:58,  4.44it/s]"
     ]
    },
    {
     "name": "stdout",
     "output_type": "stream",
     "text": [
      "nan\n"
     ]
    },
    {
     "name": "stderr",
     "output_type": "stream",
     "text": [
      " 95%|██████████████████████████████████████████████████████████████████████▎   | 44002/46290 [2:32:30<07:44,  4.93it/s]"
     ]
    },
    {
     "name": "stdout",
     "output_type": "stream",
     "text": [
      "nan\n"
     ]
    },
    {
     "name": "stderr",
     "output_type": "stream",
     "text": [
      " 95%|██████████████████████████████████████████████████████████████████████▌   | 44101/46290 [2:32:50<06:59,  5.22it/s]"
     ]
    },
    {
     "name": "stdout",
     "output_type": "stream",
     "text": [
      "nan\n"
     ]
    },
    {
     "name": "stderr",
     "output_type": "stream",
     "text": [
      " 95%|██████████████████████████████████████████████████████████████████████▋   | 44201/46290 [2:33:12<06:57,  5.00it/s]"
     ]
    },
    {
     "name": "stdout",
     "output_type": "stream",
     "text": [
      "nan\n"
     ]
    },
    {
     "name": "stderr",
     "output_type": "stream",
     "text": [
      " 96%|██████████████████████████████████████████████████████████████████████▊   | 44301/46290 [2:33:34<06:33,  5.06it/s]"
     ]
    },
    {
     "name": "stdout",
     "output_type": "stream",
     "text": [
      "nan\n"
     ]
    },
    {
     "name": "stderr",
     "output_type": "stream",
     "text": [
      " 96%|██████████████████████████████████████████████████████████████████████▉   | 44402/46290 [2:33:55<06:03,  5.19it/s]"
     ]
    },
    {
     "name": "stdout",
     "output_type": "stream",
     "text": [
      "nan\n"
     ]
    },
    {
     "name": "stderr",
     "output_type": "stream",
     "text": [
      " 96%|███████████████████████████████████████████████████████████████████████▏  | 44501/46290 [2:34:17<05:34,  5.36it/s]"
     ]
    },
    {
     "name": "stdout",
     "output_type": "stream",
     "text": [
      "nan\n"
     ]
    },
    {
     "name": "stderr",
     "output_type": "stream",
     "text": [
      " 96%|███████████████████████████████████████████████████████████████████████▎  | 44601/46290 [2:34:39<06:52,  4.10it/s]"
     ]
    },
    {
     "name": "stdout",
     "output_type": "stream",
     "text": [
      "nan\n"
     ]
    },
    {
     "name": "stderr",
     "output_type": "stream",
     "text": [
      " 97%|███████████████████████████████████████████████████████████████████████▍  | 44701/46290 [2:34:59<05:14,  5.06it/s]"
     ]
    },
    {
     "name": "stdout",
     "output_type": "stream",
     "text": [
      "nan\n"
     ]
    },
    {
     "name": "stderr",
     "output_type": "stream",
     "text": [
      " 97%|███████████████████████████████████████████████████████████████████████▌  | 44802/46290 [2:35:21<05:13,  4.74it/s]"
     ]
    },
    {
     "name": "stdout",
     "output_type": "stream",
     "text": [
      "nan\n"
     ]
    },
    {
     "name": "stderr",
     "output_type": "stream",
     "text": [
      " 97%|███████████████████████████████████████████████████████████████████████▊  | 44902/46290 [2:35:41<04:35,  5.03it/s]"
     ]
    },
    {
     "name": "stdout",
     "output_type": "stream",
     "text": [
      "nan\n"
     ]
    },
    {
     "name": "stderr",
     "output_type": "stream",
     "text": [
      " 97%|███████████████████████████████████████████████████████████████████████▉  | 45001/46290 [2:36:02<05:18,  4.05it/s]"
     ]
    },
    {
     "name": "stdout",
     "output_type": "stream",
     "text": [
      "nan\n"
     ]
    },
    {
     "name": "stderr",
     "output_type": "stream",
     "text": [
      " 97%|████████████████████████████████████████████████████████████████████████  | 45101/46290 [2:36:24<04:13,  4.70it/s]"
     ]
    },
    {
     "name": "stdout",
     "output_type": "stream",
     "text": [
      "nan\n"
     ]
    },
    {
     "name": "stderr",
     "output_type": "stream",
     "text": [
      " 98%|████████████████████████████████████████████████████████████████████████▎ | 45201/46290 [2:36:45<03:22,  5.39it/s]"
     ]
    },
    {
     "name": "stdout",
     "output_type": "stream",
     "text": [
      "nan\n"
     ]
    },
    {
     "name": "stderr",
     "output_type": "stream",
     "text": [
      " 98%|████████████████████████████████████████████████████████████████████████▍ | 45302/46290 [2:37:07<03:21,  4.90it/s]"
     ]
    },
    {
     "name": "stdout",
     "output_type": "stream",
     "text": [
      "nan\n"
     ]
    },
    {
     "name": "stderr",
     "output_type": "stream",
     "text": [
      " 98%|████████████████████████████████████████████████████████████████████████▌ | 45401/46290 [2:37:30<03:58,  3.73it/s]"
     ]
    },
    {
     "name": "stdout",
     "output_type": "stream",
     "text": [
      "nan\n"
     ]
    },
    {
     "name": "stderr",
     "output_type": "stream",
     "text": [
      " 98%|████████████████████████████████████████████████████████████████████████▋ | 45500/46290 [2:37:51<02:45,  4.78it/s]"
     ]
    },
    {
     "name": "stdout",
     "output_type": "stream",
     "text": [
      "nan\n"
     ]
    },
    {
     "name": "stderr",
     "output_type": "stream",
     "text": [
      " 99%|████████████████████████████████████████████████████████████████████████▉ | 45602/46290 [2:38:12<02:02,  5.61it/s]"
     ]
    },
    {
     "name": "stdout",
     "output_type": "stream",
     "text": [
      "nan\n"
     ]
    },
    {
     "name": "stderr",
     "output_type": "stream",
     "text": [
      " 99%|█████████████████████████████████████████████████████████████████████████ | 45702/46290 [2:38:34<01:45,  5.58it/s]"
     ]
    },
    {
     "name": "stdout",
     "output_type": "stream",
     "text": [
      "nan\n"
     ]
    },
    {
     "name": "stderr",
     "output_type": "stream",
     "text": [
      " 99%|█████████████████████████████████████████████████████████████████████████▏| 45801/46290 [2:38:54<01:32,  5.29it/s]"
     ]
    },
    {
     "name": "stdout",
     "output_type": "stream",
     "text": [
      "nan\n"
     ]
    },
    {
     "name": "stderr",
     "output_type": "stream",
     "text": [
      " 99%|█████████████████████████████████████████████████████████████████████████▍| 45902/46290 [2:39:16<01:05,  5.95it/s]"
     ]
    },
    {
     "name": "stdout",
     "output_type": "stream",
     "text": [
      "nan\n"
     ]
    },
    {
     "name": "stderr",
     "output_type": "stream",
     "text": [
      " 99%|█████████████████████████████████████████████████████████████████████████▌| 46001/46290 [2:39:38<00:56,  5.11it/s]"
     ]
    },
    {
     "name": "stdout",
     "output_type": "stream",
     "text": [
      "nan\n"
     ]
    },
    {
     "name": "stderr",
     "output_type": "stream",
     "text": [
      "100%|█████████████████████████████████████████████████████████████████████████▋| 46102/46290 [2:39:58<00:36,  5.08it/s]"
     ]
    },
    {
     "name": "stdout",
     "output_type": "stream",
     "text": [
      "nan\n"
     ]
    },
    {
     "name": "stderr",
     "output_type": "stream",
     "text": [
      "100%|█████████████████████████████████████████████████████████████████████████▊| 46201/46290 [2:40:19<00:19,  4.60it/s]"
     ]
    },
    {
     "name": "stdout",
     "output_type": "stream",
     "text": [
      "nan\n"
     ]
    },
    {
     "name": "stderr",
     "output_type": "stream",
     "text": [
      "100%|██████████████████████████████████████████████████████████████████████████| 46290/46290 [2:40:40<00:00,  4.80it/s]\n"
     ]
    },
    {
     "ename": "RuntimeError",
     "evalue": "received an empty list of sequences",
     "output_type": "error",
     "traceback": [
      "\u001b[1;31m---------------------------------------------------------------------------\u001b[0m",
      "\u001b[1;31mRuntimeError\u001b[0m                              Traceback (most recent call last)",
      "\u001b[1;32m~\\AppData\\Local\\Temp\\ipykernel_26976\\1164284121.py\u001b[0m in \u001b[0;36m<module>\u001b[1;34m\u001b[0m\n\u001b[0;32m     18\u001b[0m         \u001b[0mlosses\u001b[0m \u001b[1;33m=\u001b[0m \u001b[1;33m[\u001b[0m\u001b[1;33m]\u001b[0m\u001b[1;33m\u001b[0m\u001b[1;33m\u001b[0m\u001b[0m\n\u001b[0;32m     19\u001b[0m         \u001b[0mnet\u001b[0m\u001b[1;33m.\u001b[0m\u001b[0mtrain\u001b[0m\u001b[1;33m(\u001b[0m\u001b[1;33m)\u001b[0m\u001b[1;33m\u001b[0m\u001b[1;33m\u001b[0m\u001b[0m\n\u001b[1;32m---> 20\u001b[1;33m         \u001b[1;32mfor\u001b[0m \u001b[1;33m(\u001b[0m\u001b[0mfeatures\u001b[0m\u001b[1;33m,\u001b[0m\u001b[0mfeat_lens\u001b[0m\u001b[1;33m,\u001b[0m\u001b[0mlabels\u001b[0m\u001b[1;33m,\u001b[0m\u001b[0mlabel_lens\u001b[0m\u001b[1;33m)\u001b[0m \u001b[1;32min\u001b[0m \u001b[0mtqdm\u001b[0m\u001b[1;33m(\u001b[0m\u001b[1;33m(\u001b[0m\u001b[0mtraindataset\u001b[0m\u001b[1;33m)\u001b[0m\u001b[1;33m)\u001b[0m\u001b[1;33m:\u001b[0m\u001b[1;33m\u001b[0m\u001b[1;33m\u001b[0m\u001b[0m\n\u001b[0m\u001b[0;32m     21\u001b[0m             \u001b[0mfeat_lens\u001b[0m\u001b[1;33m,\u001b[0m\u001b[0mlabel_lens\u001b[0m \u001b[1;33m=\u001b[0m \u001b[0mtorch\u001b[0m\u001b[1;33m.\u001b[0m\u001b[0mfrom_numpy\u001b[0m\u001b[1;33m(\u001b[0m\u001b[0mfeat_lens\u001b[0m\u001b[1;33m)\u001b[0m\u001b[1;33m,\u001b[0m\u001b[0mtorch\u001b[0m\u001b[1;33m.\u001b[0m\u001b[0mfrom_numpy\u001b[0m\u001b[1;33m(\u001b[0m\u001b[0mlabel_lens\u001b[0m\u001b[1;33m)\u001b[0m\u001b[1;33m\u001b[0m\u001b[1;33m\u001b[0m\u001b[0m\n\u001b[0;32m     22\u001b[0m \u001b[1;33m\u001b[0m\u001b[0m\n",
      "\u001b[1;32m~\\AppData\\Local\\Programs\\Python\\Python37\\lib\\site-packages\\tqdm\\std.py\u001b[0m in \u001b[0;36m__iter__\u001b[1;34m(self)\u001b[0m\n\u001b[0;32m   1193\u001b[0m \u001b[1;33m\u001b[0m\u001b[0m\n\u001b[0;32m   1194\u001b[0m         \u001b[1;32mtry\u001b[0m\u001b[1;33m:\u001b[0m\u001b[1;33m\u001b[0m\u001b[1;33m\u001b[0m\u001b[0m\n\u001b[1;32m-> 1195\u001b[1;33m             \u001b[1;32mfor\u001b[0m \u001b[0mobj\u001b[0m \u001b[1;32min\u001b[0m \u001b[0miterable\u001b[0m\u001b[1;33m:\u001b[0m\u001b[1;33m\u001b[0m\u001b[1;33m\u001b[0m\u001b[0m\n\u001b[0m\u001b[0;32m   1196\u001b[0m                 \u001b[1;32myield\u001b[0m \u001b[0mobj\u001b[0m\u001b[1;33m\u001b[0m\u001b[1;33m\u001b[0m\u001b[0m\n\u001b[0;32m   1197\u001b[0m                 \u001b[1;31m# Update and possibly print the progressbar.\u001b[0m\u001b[1;33m\u001b[0m\u001b[1;33m\u001b[0m\u001b[1;33m\u001b[0m\u001b[0m\n",
      "\u001b[1;32m~\\AppData\\Local\\Temp\\ipykernel_26976\\248591708.py\u001b[0m in \u001b[0;36m__getitem__\u001b[1;34m(self, idx)\u001b[0m\n\u001b[0;32m     93\u001b[0m \u001b[1;33m\u001b[0m\u001b[0m\n\u001b[0;32m     94\u001b[0m             \u001b[0mtranscript_length\u001b[0m\u001b[1;33m.\u001b[0m\u001b[0mappend\u001b[0m\u001b[1;33m(\u001b[0m\u001b[0mlen\u001b[0m\u001b[1;33m(\u001b[0m\u001b[0mtranscription\u001b[0m\u001b[1;33m)\u001b[0m\u001b[1;33m)\u001b[0m\u001b[1;31m#temp length\u001b[0m\u001b[1;33m\u001b[0m\u001b[1;33m\u001b[0m\u001b[0m\n\u001b[1;32m---> 95\u001b[1;33m         \u001b[0maudios\u001b[0m \u001b[1;33m=\u001b[0m \u001b[0mtorch\u001b[0m\u001b[1;33m.\u001b[0m\u001b[0mnn\u001b[0m\u001b[1;33m.\u001b[0m\u001b[0mutils\u001b[0m\u001b[1;33m.\u001b[0m\u001b[0mrnn\u001b[0m\u001b[1;33m.\u001b[0m\u001b[0mpad_sequence\u001b[0m\u001b[1;33m(\u001b[0m\u001b[0maudios\u001b[0m\u001b[1;33m,\u001b[0m\u001b[0mbatch_first\u001b[0m\u001b[1;33m=\u001b[0m\u001b[1;32mTrue\u001b[0m\u001b[1;33m)\u001b[0m\u001b[1;33m\u001b[0m\u001b[1;33m\u001b[0m\u001b[0m\n\u001b[0m\u001b[0;32m     96\u001b[0m         \u001b[0maudio_lengths\u001b[0m \u001b[1;33m=\u001b[0m \u001b[0mnp\u001b[0m\u001b[1;33m.\u001b[0m\u001b[0marray\u001b[0m\u001b[1;33m(\u001b[0m\u001b[0maudio_lengths\u001b[0m\u001b[1;33m)\u001b[0m\u001b[1;33m\u001b[0m\u001b[1;33m\u001b[0m\u001b[0m\n\u001b[0;32m     97\u001b[0m         \u001b[0mtranscript_length\u001b[0m \u001b[1;33m=\u001b[0m \u001b[0mnp\u001b[0m\u001b[1;33m.\u001b[0m\u001b[0marray\u001b[0m\u001b[1;33m(\u001b[0m\u001b[0mtranscript_length\u001b[0m\u001b[1;33m)\u001b[0m\u001b[1;33m\u001b[0m\u001b[1;33m\u001b[0m\u001b[0m\n",
      "\u001b[1;32m~\\AppData\\Local\\Programs\\Python\\Python37\\lib\\site-packages\\torch\\nn\\utils\\rnn.py\u001b[0m in \u001b[0;36mpad_sequence\u001b[1;34m(sequences, batch_first, padding_value)\u001b[0m\n\u001b[0;32m    396\u001b[0m     \u001b[1;31m# assuming trailing dimensions and type of all the Tensors\u001b[0m\u001b[1;33m\u001b[0m\u001b[1;33m\u001b[0m\u001b[1;33m\u001b[0m\u001b[0m\n\u001b[0;32m    397\u001b[0m     \u001b[1;31m# in sequences are same and fetching those from sequences[0]\u001b[0m\u001b[1;33m\u001b[0m\u001b[1;33m\u001b[0m\u001b[1;33m\u001b[0m\u001b[0m\n\u001b[1;32m--> 398\u001b[1;33m     \u001b[1;32mreturn\u001b[0m \u001b[0mtorch\u001b[0m\u001b[1;33m.\u001b[0m\u001b[0m_C\u001b[0m\u001b[1;33m.\u001b[0m\u001b[0m_nn\u001b[0m\u001b[1;33m.\u001b[0m\u001b[0mpad_sequence\u001b[0m\u001b[1;33m(\u001b[0m\u001b[0msequences\u001b[0m\u001b[1;33m,\u001b[0m \u001b[0mbatch_first\u001b[0m\u001b[1;33m,\u001b[0m \u001b[0mpadding_value\u001b[0m\u001b[1;33m)\u001b[0m\u001b[1;33m\u001b[0m\u001b[1;33m\u001b[0m\u001b[0m\n\u001b[0m\u001b[0;32m    399\u001b[0m \u001b[1;33m\u001b[0m\u001b[0m\n\u001b[0;32m    400\u001b[0m \u001b[1;33m\u001b[0m\u001b[0m\n",
      "\u001b[1;31mRuntimeError\u001b[0m: received an empty list of sequences"
     ]
    }
   ],
   "source": [
    "if(__name__==\"__main__\"):\n",
    "    from tqdm import tqdm\n",
    "    #initial_learning_rate = 0.0001\n",
    "    #import nemo.collections.asr as nemo_asr\n",
    "\n",
    "    max_num_epoch = 3\n",
    "    #optimizer = optim.Adam(net.parameters(),lr=initial_learning_rate)#,rho=0.95,eps=1e-8,weight_decay=0.0)\n",
    "    #criterion = audioT.RNNTLoss(blank=0,fused_log_softmax=True,reduction='sum')#,clamp=1.0)#'sum')\n",
    "    criterion =  TransducerLoss(blank_id=0)#nemo_asr.losses.rnnt.RNNTLoss(num_classes=0)\n",
    "    traindataset = DatasetLoader(is_train_dataset=True,batch_size=1,top_dataset_folder=\"자유대화 음성(일반남녀)\")\n",
    "    testdataset = DatasetLoader(is_train_dataset=False,batch_size=1,top_dataset_folder=\"자유대화 음성(일반남녀)\")\n",
    "    #torch.save(net.parameters(),\"rnnt.pth\")\n",
    "    #predict(net,testdataset)\n",
    "    \n",
    "    for epoch in range(max_num_epoch):\n",
    "        index = 0\n",
    "        traindataset.shuffleDataset()\n",
    "        losses = []\n",
    "        net.train()\n",
    "        for (features,feat_lens,labels,label_lens) in tqdm((traindataset)):\n",
    "            feat_lens,label_lens = torch.from_numpy(feat_lens),torch.from_numpy(label_lens)\n",
    "\n",
    "            features = nn.utils.rnn.pad_sequence(features,batch_first=True)#.unsqueeze(1).transpose(2, 3)\n",
    "            labels = nn.utils.rnn.pad_sequence(labels,batch_first=True)\n",
    "\n",
    "            #\"\"\"\n",
    "            sorted_lens,indices = torch.sort(feat_lens.view(-1),dim=0,descending=True)\n",
    "            features = features[indices]\n",
    "            labels = labels[indices]\n",
    "            feat_lens = sorted_lens\n",
    "            label_lens = label_lens[indices]\n",
    "            #\"\"\"\n",
    "            \n",
    "            features = features.float()\n",
    "            features = features.to(device)\n",
    "            labels = labels.to(device)\n",
    "            feat_lens = feat_lens.to(device)\n",
    "            label_lens = label_lens.to(device)\n",
    "            \n",
    "            optimizer.zero_grad()\n",
    "            \n",
    "            joint_outputs = net(features.float(),feat_lens,labels.int(),label_lens)\n",
    "            \n",
    "            outputs = joint_outputs#\n",
    "            \n",
    "\n",
    "            loss = criterion(log_probs=outputs,targets=(labels[...,1:]).int(),input_lengths=(feat_lens).int() ,target_lengths=(label_lens-1).int())\n",
    "            del features,labels,feat_lens,label_lens\n",
    "            torch.cuda.empty_cache()\n",
    "            \n",
    "            loss.backward()\n",
    "            \n",
    "            optimizer.step()\n",
    "            losses.append(loss.item())\n",
    "            if(index%100==0):\n",
    "                print(loss.item())\n",
    "            index+=1\n",
    "        print(f\"ep={epoch}] loss= \",np.mean(losses))\n",
    "        scheduler.step()\n",
    "    torch.save(net.state_dict(),\"kornnt_ko.pth\")\n",
    "    #predict(net,testdataset)"
   ]
  },
  {
   "cell_type": "code",
   "execution_count": null,
   "metadata": {
    "scrolled": true
   },
   "outputs": [],
   "source": [
    "predict(net,testdataset)"
   ]
  },
  {
   "attachments": {},
   "cell_type": "markdown",
   "metadata": {
    "id": "M_UQ4P8BU_pL"
   },
   "source": [
    "Apache License\n",
    "                           Version 2.0, January 2004\n",
    "                        http://www.apache.org/licenses/\n",
    "\n",
    "   TERMS AND CONDITIONS FOR USE, REPRODUCTION, AND DISTRIBUTION\n",
    "\n",
    "   1. Definitions.\n",
    "\n",
    "      \"License\" shall mean the terms and conditions for use, reproduction,\n",
    "      and distribution as defined by Sections 1 through 9 of this document.\n",
    "\n",
    "      \"Licensor\" shall mean the copyright owner or entity authorized by\n",
    "      the copyright owner that is granting the License.\n",
    "\n",
    "      \"Legal Entity\" shall mean the union of the acting entity and all\n",
    "      other entities that control, are controlled by, or are under common\n",
    "      control with that entity. For the purposes of this definition,\n",
    "      \"control\" means (i) the power, direct or indirect, to cause the\n",
    "      direction or management of such entity, whether by contract or\n",
    "      otherwise, or (ii) ownership of fifty percent (50%) or more of the\n",
    "      outstanding shares, or (iii) beneficial ownership of such entity.\n",
    "\n",
    "      \"You\" (or \"Your\") shall mean an individual or Legal Entity\n",
    "      exercising permissions granted by this License.\n",
    "\n",
    "      \"Source\" form shall mean the preferred form for making modifications,\n",
    "      including but not limited to software source code, documentation\n",
    "      source, and configuration files.\n",
    "\n",
    "      \"Object\" form shall mean any form resulting from mechanical\n",
    "      transformation or translation of a Source form, including but\n",
    "      not limited to compiled object code, generated documentation,\n",
    "      and conversions to other media types.\n",
    "\n",
    "      \"Work\" shall mean the work of authorship, whether in Source or\n",
    "      Object form, made available under the License, as indicated by a\n",
    "      copyright notice that is included in or attached to the work\n",
    "      (an example is provided in the Appendix below).\n",
    "\n",
    "      \"Derivative Works\" shall mean any work, whether in Source or Object\n",
    "      form, that is based on (or derived from) the Work and for which the\n",
    "      editorial revisions, annotations, elaborations, or other modifications\n",
    "      represent, as a whole, an original work of authorship. For the purposes\n",
    "      of this License, Derivative Works shall not include works that remain\n",
    "      separable from, or merely link (or bind by name) to the interfaces of,\n",
    "      the Work and Derivative Works thereof.\n",
    "\n",
    "      \"Contribution\" shall mean any work of authorship, including\n",
    "      the original version of the Work and any modifications or additions\n",
    "      to that Work or Derivative Works thereof, that is intentionally\n",
    "      submitted to Licensor for inclusion in the Work by the copyright owner\n",
    "      or by an individual or Legal Entity authorized to submit on behalf of\n",
    "      the copyright owner. For the purposes of this definition, \"submitted\"\n",
    "      means any form of electronic, verbal, or written communication sent\n",
    "      to the Licensor or its representatives, including but not limited to\n",
    "      communication on electronic mailing lists, source code control systems,\n",
    "      and issue tracking systems that are managed by, or on behalf of, the\n",
    "      Licensor for the purpose of discussing and improving the Work, but\n",
    "      excluding communication that is conspicuously marked or otherwise\n",
    "      designated in writing by the copyright owner as \"Not a Contribution.\"\n",
    "\n",
    "      \"Contributor\" shall mean Licensor and any individual or Legal Entity\n",
    "      on behalf of whom a Contribution has been received by Licensor and\n",
    "      subsequently incorporated within the Work.\n",
    "\n",
    "   2. Grant of Copyright License. Subject to the terms and conditions of\n",
    "      this License, each Contributor hereby grants to You a perpetual,\n",
    "      worldwide, non-exclusive, no-charge, royalty-free, irrevocable\n",
    "      copyright license to reproduce, prepare Derivative Works of,\n",
    "      publicly display, publicly perform, sublicense, and distribute the\n",
    "      Work and such Derivative Works in Source or Object form.\n",
    "\n",
    "   3. Grant of Patent License. Subject to the terms and conditions of\n",
    "      this License, each Contributor hereby grants to You a perpetual,\n",
    "      worldwide, non-exclusive, no-charge, royalty-free, irrevocable\n",
    "      (except as stated in this section) patent license to make, have made,\n",
    "      use, offer to sell, sell, import, and otherwise transfer the Work,\n",
    "      where such license applies only to those patent claims licensable\n",
    "      by such Contributor that are necessarily infringed by their\n",
    "      Contribution(s) alone or by combination of their Contribution(s)\n",
    "      with the Work to which such Contribution(s) was submitted. If You\n",
    "      institute patent litigation against any entity (including a\n",
    "      cross-claim or counterclaim in a lawsuit) alleging that the Work\n",
    "      or a Contribution incorporated within the Work constitutes direct\n",
    "      or contributory patent infringement, then any patent licenses\n",
    "      granted to You under this License for that Work shall terminate\n",
    "      as of the date such litigation is filed.\n",
    "\n",
    "   4. Redistribution. You may reproduce and distribute copies of the\n",
    "      Work or Derivative Works thereof in any medium, with or without\n",
    "      modifications, and in Source or Object form, provided that You\n",
    "      meet the following conditions:\n",
    "\n",
    "      (a) You must give any other recipients of the Work or\n",
    "          Derivative Works a copy of this License; and\n",
    "\n",
    "      (b) You must cause any modified files to carry prominent notices\n",
    "          stating that You changed the files; and\n",
    "\n",
    "      (c) You must retain, in the Source form of any Derivative Works\n",
    "          that You distribute, all copyright, patent, trademark, and\n",
    "          attribution notices from the Source form of the Work,\n",
    "          excluding those notices that do not pertain to any part of\n",
    "          the Derivative Works; and\n",
    "\n",
    "      (d) If the Work includes a \"NOTICE\" text file as part of its\n",
    "          distribution, then any Derivative Works that You distribute must\n",
    "          include a readable copy of the attribution notices contained\n",
    "          within such NOTICE file, excluding those notices that do not\n",
    "          pertain to any part of the Derivative Works, in at least one\n",
    "          of the following places: within a NOTICE text file distributed\n",
    "          as part of the Derivative Works; within the Source form or\n",
    "          documentation, if provided along with the Derivative Works; or,\n",
    "          within a display generated by the Derivative Works, if and\n",
    "          wherever such third-party notices normally appear. The contents\n",
    "          of the NOTICE file are for informational purposes only and\n",
    "          do not modify the License. You may add Your own attribution\n",
    "          notices within Derivative Works that You distribute, alongside\n",
    "          or as an addendum to the NOTICE text from the Work, provided\n",
    "          that such additional attribution notices cannot be construed\n",
    "          as modifying the License.\n",
    "\n",
    "      You may add Your own copyright statement to Your modifications and\n",
    "      may provide additional or different license terms and conditions\n",
    "      for use, reproduction, or distribution of Your modifications, or\n",
    "      for any such Derivative Works as a whole, provided Your use,\n",
    "      reproduction, and distribution of the Work otherwise complies with\n",
    "      the conditions stated in this License.\n",
    "\n",
    "   5. Submission of Contributions. Unless You explicitly state otherwise,\n",
    "      any Contribution intentionally submitted for inclusion in the Work\n",
    "      by You to the Licensor shall be under the terms and conditions of\n",
    "      this License, without any additional terms or conditions.\n",
    "      Notwithstanding the above, nothing herein shall supersede or modify\n",
    "      the terms of any separate license agreement you may have executed\n",
    "      with Licensor regarding such Contributions.\n",
    "\n",
    "   6. Trademarks. This License does not grant permission to use the trade\n",
    "      names, trademarks, service marks, or product names of the Licensor,\n",
    "      except as required for reasonable and customary use in describing the\n",
    "      origin of the Work and reproducing the content of the NOTICE file.\n",
    "\n",
    "   7. Disclaimer of Warranty. Unless required by applicable law or\n",
    "      agreed to in writing, Licensor provides the Work (and each\n",
    "      Contributor provides its Contributions) on an \"AS IS\" BASIS,\n",
    "      WITHOUT WARRANTIES OR CONDITIONS OF ANY KIND, either express or\n",
    "      implied, including, without limitation, any warranties or conditions\n",
    "      of TITLE, NON-INFRINGEMENT, MERCHANTABILITY, or FITNESS FOR A\n",
    "      PARTICULAR PURPOSE. You are solely responsible for determining the\n",
    "      appropriateness of using or redistributing the Work and assume any\n",
    "      risks associated with Your exercise of permissions under this License.\n",
    "\n",
    "   8. Limitation of Liability. In no event and under no legal theory,\n",
    "      whether in tort (including negligence), contract, or otherwise,\n",
    "      unless required by applicable law (such as deliberate and grossly\n",
    "      negligent acts) or agreed to in writing, shall any Contributor be\n",
    "      liable to You for damages, including any direct, indirect, special,\n",
    "      incidental, or consequential damages of any character arising as a\n",
    "      result of this License or out of the use or inability to use the\n",
    "      Work (including but not limited to damages for loss of goodwill,\n",
    "      work stoppage, computer failure or malfunction, or any and all\n",
    "      other commercial damages or losses), even if such Contributor\n",
    "      has been advised of the possibility of such damages.\n",
    "\n",
    "   9. Accepting Warranty or Additional Liability. While redistributing\n",
    "      the Work or Derivative Works thereof, You may choose to offer,\n",
    "      and charge a fee for, acceptance of support, warranty, indemnity,\n",
    "      or other liability obligations and/or rights consistent with this\n",
    "      License. However, in accepting such obligations, You may act only\n",
    "      on Your own behalf and on Your sole responsibility, not on behalf\n",
    "      of any other Contributor, and only if You agree to indemnify,\n",
    "      defend, and hold each Contributor harmless for any liability\n",
    "      incurred by, or claims asserted against, such Contributor by reason\n",
    "      of your accepting any such warranty or additional liability.\n",
    "\n",
    "   END OF TERMS AND CONDITIONS\n",
    "\n",
    "   APPENDIX: How to apply the Apache License to your work.\n",
    "\n",
    "      To apply the Apache License to your work, attach the following\n",
    "      boilerplate notice, with the fields enclosed by brackets \"[]\"\n",
    "      replaced with your own identifying information. (Don't include\n",
    "      the brackets!)  The text should be enclosed in the appropriate\n",
    "      comment syntax for the file format. We also recommend that a\n",
    "      file or class name and description of purpose be included on the\n",
    "      same \"printed page\" as the copyright notice for easier\n",
    "      identification within third-party archives.\n",
    "\n",
    "   Copyright [yyyy] [name of copyright owner]\n",
    "\n",
    "   Licensed under the Apache License, Version 2.0 (the \"License\");\n",
    "   you may not use this file except in compliance with the License.\n",
    "   You may obtain a copy of the License at\n",
    "\n",
    "       http://www.apache.org/licenses/LICENSE-2.0\n",
    "\n",
    "   Unless required by applicable law or agreed to in writing, software\n",
    "   distributed under the License is distributed on an \"AS IS\" BASIS,\n",
    "   WITHOUT WARRANTIES OR CONDITIONS OF ANY KIND, either express or implied.\n",
    "   See the License for the specific language governing permissions and\n",
    "   limitations under the License."
   ]
  }
 ],
 "metadata": {
  "colab": {
   "provenance": []
  },
  "kernelspec": {
   "display_name": "Python 3 (ipykernel)",
   "language": "python",
   "name": "python3"
  },
  "language_info": {
   "codemirror_mode": {
    "name": "ipython",
    "version": 3
   },
   "file_extension": ".py",
   "mimetype": "text/x-python",
   "name": "python",
   "nbconvert_exporter": "python",
   "pygments_lexer": "ipython3",
   "version": "3.7.9"
  }
 },
 "nbformat": 4,
 "nbformat_minor": 1
}
