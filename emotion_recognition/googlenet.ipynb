{
 "cells": [
  {
   "cell_type": "code",
   "execution_count": 1,
   "id": "15d260e0",
   "metadata": {},
   "outputs": [],
   "source": [
    "import torch\n",
    "import torch.nn as nn\n",
    "import torch.optim as optim\n",
    "from torch.utils.data import Dataset, DataLoader\n",
    "from torchvision.models import googlenet\n",
    "import torchvision.transforms as transforms\n",
    "import torch.nn.functional as F\n",
    "from torchvision.transforms import functional as TF\n",
    "import librosa\n",
    "import numpy as np\n",
    "import pandas as pd\n",
    "from tqdm import tqdm\n",
    "from PIL import Image"
   ]
  },
  {
   "cell_type": "code",
   "execution_count": 2,
   "id": "97617a02",
   "metadata": {},
   "outputs": [],
   "source": [
    "class EmotionDataset(Dataset):\n",
    "    def __init__(self, csv, n_mfcc):\n",
    "        file_list = pd.read_csv(csv)\n",
    "        self.images = []\n",
    "        self.emotions = []\n",
    "        emotion_to_int = {'anger': 0, 'angry': 0, 'disgust': 1, 'fear': 2, 'happiness': 3,\n",
    "                               'neutral': 4, 'sad': 5, 'sadness': 5, 'surprise': 6}\n",
    "\n",
    "        for i in tqdm(range(len(file_list))):\n",
    "            name = \"datasets/emotion_audio_data/{}.wav\".format(file_list.iloc[i, 1])\n",
    "            y, sr = librosa.load(name, res_type=\"kaiser_fast\", duration=3.0, sr=16000)\n",
    "            \n",
    "            # 데이터 길이가 3초보다 짧은 경우 0으로 패딩합니다.\n",
    "            if len(y) < sr * 3:\n",
    "                pad_length = sr * 3 - len(y)\n",
    "                y = np.pad(y, (0, pad_length), mode='constant')\n",
    "\n",
    "            mfcc = librosa.feature.mfcc(y=y, sr=sr, n_mfcc=n_mfcc)\n",
    "            \n",
    "            # MFCC를 이미지로 변환하여 크기를 조정합니다.\n",
    "            mfcc = (mfcc - mfcc.min()) / (mfcc.max() - mfcc.min())  # 정규화\n",
    "            mfcc = Image.fromarray(mfcc)\n",
    "            mfcc = mfcc.resize((224, 224), resample=Image.BILINEAR)  # 크기 조정\n",
    "            mfcc = np.array(mfcc).astype(np.float32)\n",
    "            mfcc = np.stack([mfcc] * 3, axis=0)  # 채널 수를 3으로 맞춥니다.\n",
    "            \n",
    "            mfcc = torch.from_numpy(mfcc)\n",
    "            self.images.append(mfcc)\n",
    "\n",
    "            emotion = file_list.iloc[i, 3]\n",
    "            self.emotions.append(emotion_to_int[emotion])\n",
    "            \n",
    "        self.len = len(file_list)\n",
    "        self.n_mfcc = n_mfcc\n",
    "\n",
    "    def __len__(self):\n",
    "        return self.len\n",
    "\n",
    "    def __getitem__(self, idx):\n",
    "        image = self.images[idx]\n",
    "        label = self.emotions[idx]\n",
    "        return image, label"
   ]
  },
  {
   "cell_type": "code",
   "execution_count": 20,
   "id": "ead4a59e",
   "metadata": {},
   "outputs": [],
   "source": [
    "class EmotionDataset(Dataset):\n",
    "    def __init__(self, csv, n_mfcc):\n",
    "        file_list = pd.read_csv(csv)\n",
    "        self.images = []\n",
    "        self.emotions = []\n",
    "        emotion_to_int = {'anger': 0, 'angry': 0, 'disgust': 1, 'fear': 2, 'happiness': 3,\n",
    "                               'neutral': 4, 'sad': 5, 'sadness': 5, 'surprise': 6}\n",
    "        \n",
    "        transform = transforms.Compose([\n",
    "        transforms.Resize((224,224)),\n",
    "        transforms.ToTensor(),\n",
    "        transforms.Normalize([0.485, 0.456, 0.406],[0.229, 0.224, 0.225])\n",
    "        ])\n",
    "\n",
    "        for i in tqdm(range(len(file_list))):\n",
    "            name = \"datasets/emotion_audio_data/{}.wav\".format(file_list.iloc[i, 1])\n",
    "            y, sr = librosa.load(name, res_type=\"kaiser_fast\", duration=3.0, sr=16000)\n",
    "            \n",
    "            # 데이터 길이가 3초보다 짧은 경우 0으로 패딩합니다.\n",
    "            if len(y) < sr * 3:\n",
    "                pad_length = sr * 3 - len(y)\n",
    "                y = np.pad(y, (0, pad_length), mode='constant')\n",
    "\n",
    "            mfcc = librosa.feature.mfcc(y=y, sr=sr, n_mfcc=n_mfcc)\n",
    "            \n",
    "            # MFCC를 이미지로 변환하여 크기를 조정합니다.\n",
    "            image = Image.fromarray(mfcc,\"RGB\") \n",
    "            image = transform(image)\n",
    "            \n",
    "            self.images.append(image)\n",
    "\n",
    "            emotion = file_list.iloc[i, 3]\n",
    "            self.emotions.append(emotion_to_int[emotion])\n",
    "            \n",
    "        self.len = len(file_list)\n",
    "        self.n_mfcc = n_mfcc\n",
    "\n",
    "    def __len__(self):\n",
    "        return self.len\n",
    "\n",
    "    def __getitem__(self, idx):\n",
    "        image = self.images[idx]\n",
    "        label = self.emotions[idx]\n",
    "        return image, label"
   ]
  },
  {
   "cell_type": "code",
   "execution_count": 17,
   "id": "42ad1013",
   "metadata": {},
   "outputs": [],
   "source": [
    "class EmotionDataset(Dataset):\n",
    "    def __init__(self, csv, n_mels=128):\n",
    "        file_list = pd.read_csv(csv)\n",
    "        self.images = []\n",
    "        self.emotions = []\n",
    "        emotion_to_int = {'anger': 0, 'angry': 0, 'disgust': 1, 'fear': 2, 'happiness': 3,\n",
    "                               'neutral': 4, 'sad': 5, 'sadness': 5, 'surprise': 6}\n",
    "\n",
    "        transform = transforms.Compose([\n",
    "        transforms.Resize((224,224)),\n",
    "        transforms.ToTensor(),\n",
    "        transforms.Normalize([0.485, 0.456, 0.406],[0.229, 0.224, 0.225])\n",
    "        ])\n",
    "        \n",
    "        for i in tqdm(range(len(file_list))):\n",
    "            name = \"datasets/emotion_audio_data/{}.wav\".format(file_list.iloc[i, 1])\n",
    "            y, sr = librosa.load(name, res_type=\"kaiser_fast\", duration=3.0, sr=16000)\n",
    "            \n",
    "            # 데이터 길이가 3초보다 짧은 경우 0으로 패딩합니다.\n",
    "\n",
    "            mel_spectrogram = librosa.feature.melspectrogram(y, sr=sr, n_mels=n_mels)\n",
    "            mel_spectrogram = librosa.power_to_db(mel_spectrogram).astype(np.float32)\n",
    "            \n",
    "            # mel_spec을 이미지로 변환하여 크기를 조정합니다.\n",
    "            #mel_spectrogram = np.stack([mel_spectrogram] * 3, axis=0) \n",
    "            image = Image.fromarray(mel_spectrogram,\"RGB\") \n",
    "            image = transform(image)\n",
    "            \n",
    "            self.images.append(image)\n",
    "\n",
    "            emotion = file_list.iloc[i, 3]\n",
    "            self.emotions.append(emotion_to_int[emotion])\n",
    "            \n",
    "        self.len = len(file_list)\n",
    "        self.n_mfcc = n_mfcc\n",
    "\n",
    "    def __len__(self):\n",
    "        return self.len\n",
    "\n",
    "    def __getitem__(self, idx):\n",
    "        image = self.images[idx]\n",
    "        label = self.emotions[idx]\n",
    "        return image, label"
   ]
  },
  {
   "cell_type": "code",
   "execution_count": 3,
   "id": "191429ab",
   "metadata": {},
   "outputs": [],
   "source": [
    "n_mfcc = 40\n",
    "n_mels = 128"
   ]
  },
  {
   "cell_type": "code",
   "execution_count": 19,
   "id": "03a2854c",
   "metadata": {},
   "outputs": [
    {
     "name": "stderr",
     "output_type": "stream",
     "text": [
      "100%|████████████████████████████████████████████████████████████████████████████| 35179/35179 [19:38<00:00, 29.85it/s]\n"
     ]
    }
   ],
   "source": [
    "dataset = EmotionDataset(csv='datasets/emotion_train.csv', n_mels=n_mels)\n",
    "dataloader = DataLoader(dataset, batch_size=16, shuffle=True)"
   ]
  },
  {
   "cell_type": "code",
   "execution_count": 21,
   "id": "b59e07df",
   "metadata": {},
   "outputs": [
    {
     "name": "stderr",
     "output_type": "stream",
     "text": [
      "100%|████████████████████████████████████████████████████████████████████████████| 35179/35179 [20:28<00:00, 28.63it/s]\n"
     ]
    }
   ],
   "source": [
    "dataset = EmotionDataset(csv='datasets/emotion_train.csv', n_mfcc=n_mfcc)\n",
    "dataloader = DataLoader(dataset, batch_size=16, shuffle=True)"
   ]
  },
  {
   "cell_type": "code",
   "execution_count": 22,
   "id": "4ec054cb",
   "metadata": {},
   "outputs": [
    {
     "name": "stderr",
     "output_type": "stream",
     "text": [
      "100%|██████████████████████████████████████████████████████████████████████████████| 8793/8793 [05:16<00:00, 27.76it/s]\n"
     ]
    }
   ],
   "source": [
    "test_dataset = EmotionDataset(csv='datasets/emotion_test.csv', n_mfcc=n_mfcc)\n",
    "test_loader = DataLoader(test_dataset, batch_size=16, shuffle=False)"
   ]
  },
  {
   "cell_type": "code",
   "execution_count": 20,
   "id": "595a4a59",
   "metadata": {},
   "outputs": [
    {
     "name": "stderr",
     "output_type": "stream",
     "text": [
      "100%|██████████████████████████████████████████████████████████████████████████████| 8793/8793 [05:08<00:00, 28.51it/s]\n"
     ]
    }
   ],
   "source": [
    "test_dataset = EmotionDataset(csv='datasets/emotion_test.csv', n_mels=n_mels)\n",
    "test_loader = DataLoader(test_dataset, batch_size=16, shuffle=False)"
   ]
  },
  {
   "cell_type": "code",
   "execution_count": 6,
   "id": "de7ba4cb",
   "metadata": {},
   "outputs": [],
   "source": [
    "model = googlenet(pretrained=True)\n",
    "num_features = model.fc.in_features\n",
    "num_classes = 7\n",
    "model.fc = nn.Linear(num_features, num_classes) "
   ]
  },
  {
   "cell_type": "code",
   "execution_count": 23,
   "id": "f1101321",
   "metadata": {},
   "outputs": [],
   "source": [
    "device = torch.device(\"cuda\" if torch.cuda.is_available() else \"cpu\")\n",
    "model = model.to(device)"
   ]
  },
  {
   "cell_type": "code",
   "execution_count": 24,
   "id": "d21dd62b",
   "metadata": {},
   "outputs": [],
   "source": [
    "criterion = nn.CrossEntropyLoss()\n",
    "\n",
    "optimizer = optim.Adam(model.parameters(), lr=0.001, betas=(0.9, 0.999), eps=1e-08, weight_decay=0, amsgrad=False)"
   ]
  },
  {
   "cell_type": "code",
   "execution_count": 25,
   "id": "7e5b98f7",
   "metadata": {},
   "outputs": [],
   "source": [
    "def test(model, test_loader):\n",
    "    model.eval()\n",
    "    correct = 0\n",
    "    total = 0\n",
    "\n",
    "    with torch.no_grad():\n",
    "        for images, labels in tqdm(test_loader):\n",
    "            images = images.to(device)\n",
    "            labels = labels.to(device)\n",
    "\n",
    "            outputs = model(images)\n",
    "            _, predicted = torch.max(outputs.data, 1)\n",
    "            total += labels.size(0)\n",
    "            correct += (predicted == labels).sum().item()\n",
    "\n",
    "    accuracy = 100 * correct / total\n",
    "    print(f'Test Accuracy: {accuracy}%')\n",
    "    return accuracy"
   ]
  },
  {
   "cell_type": "code",
   "execution_count": 26,
   "id": "bb5dc828",
   "metadata": {},
   "outputs": [],
   "source": [
    "num_epochs = 60"
   ]
  },
  {
   "cell_type": "code",
   "execution_count": 27,
   "id": "5d4fc6ef",
   "metadata": {},
   "outputs": [
    {
     "name": "stderr",
     "output_type": "stream",
     "text": [
      "Epoch [1/60]: 100%|█████████████████████████████████████████████████████| 2199/2199 [03:10<00:00, 11.52it/s, loss=1.75]\n",
      "100%|████████████████████████████████████████████████████████████████████████████████| 550/550 [00:20<00:00, 26.80it/s]\n"
     ]
    },
    {
     "name": "stdout",
     "output_type": "stream",
     "text": [
      "Test Accuracy: 31.650176276583647%\n"
     ]
    },
    {
     "name": "stderr",
     "output_type": "stream",
     "text": [
      "Epoch [2/60]: 100%|█████████████████████████████████████████████████████| 2199/2199 [03:02<00:00, 12.06it/s, loss=1.73]\n",
      "100%|████████████████████████████████████████████████████████████████████████████████| 550/550 [00:10<00:00, 51.75it/s]\n"
     ]
    },
    {
     "name": "stdout",
     "output_type": "stream",
     "text": [
      "Test Accuracy: 31.695667007847153%\n"
     ]
    },
    {
     "name": "stderr",
     "output_type": "stream",
     "text": [
      "Epoch [3/60]: 100%|█████████████████████████████████████████████████████| 2199/2199 [02:53<00:00, 12.70it/s, loss=1.72]\n",
      "100%|████████████████████████████████████████████████████████████████████████████████| 550/550 [00:11<00:00, 49.69it/s]\n"
     ]
    },
    {
     "name": "stdout",
     "output_type": "stream",
     "text": [
      "Test Accuracy: 32.37802797679973%\n"
     ]
    },
    {
     "name": "stderr",
     "output_type": "stream",
     "text": [
      "Epoch [4/60]: 100%|█████████████████████████████████████████████████████| 2199/2199 [02:45<00:00, 13.29it/s, loss=1.71]\n",
      "100%|████████████████████████████████████████████████████████████████████████████████| 550/550 [00:09<00:00, 55.51it/s]\n"
     ]
    },
    {
     "name": "stdout",
     "output_type": "stream",
     "text": [
      "Test Accuracy: 32.23018310019334%\n"
     ]
    },
    {
     "name": "stderr",
     "output_type": "stream",
     "text": [
      "Epoch [5/60]: 100%|█████████████████████████████████████████████████████| 2199/2199 [02:45<00:00, 13.26it/s, loss=1.71]\n",
      "100%|████████████████████████████████████████████████████████████████████████████████| 550/550 [00:13<00:00, 40.84it/s]\n"
     ]
    },
    {
     "name": "stdout",
     "output_type": "stream",
     "text": [
      "Test Accuracy: 32.1505743204822%\n"
     ]
    },
    {
     "name": "stderr",
     "output_type": "stream",
     "text": [
      "Epoch [6/60]: 100%|██████████████████████████████████████████████████████| 2199/2199 [02:47<00:00, 13.14it/s, loss=1.7]\n",
      "100%|████████████████████████████████████████████████████████████████████████████████| 550/550 [00:13<00:00, 40.55it/s]\n"
     ]
    },
    {
     "name": "stdout",
     "output_type": "stream",
     "text": [
      "Test Accuracy: 33.31058796770158%\n"
     ]
    },
    {
     "name": "stderr",
     "output_type": "stream",
     "text": [
      "Epoch [7/60]: 100%|█████████████████████████████████████████████████████| 2199/2199 [02:48<00:00, 13.03it/s, loss=1.69]\n",
      "100%|████████████████████████████████████████████████████████████████████████████████| 550/550 [00:10<00:00, 51.19it/s]\n"
     ]
    },
    {
     "name": "stdout",
     "output_type": "stream",
     "text": [
      "Test Accuracy: 33.36745138178096%\n"
     ]
    },
    {
     "name": "stderr",
     "output_type": "stream",
     "text": [
      "Epoch [8/60]: 100%|█████████████████████████████████████████████████████| 2199/2199 [02:49<00:00, 12.97it/s, loss=1.67]\n",
      "100%|████████████████████████████████████████████████████████████████████████████████| 550/550 [00:10<00:00, 54.74it/s]\n"
     ]
    },
    {
     "name": "stdout",
     "output_type": "stream",
     "text": [
      "Test Accuracy: 31.03605140452633%\n"
     ]
    },
    {
     "name": "stderr",
     "output_type": "stream",
     "text": [
      "Epoch [9/60]: 100%|█████████████████████████████████████████████████████| 2199/2199 [02:47<00:00, 13.13it/s, loss=1.64]\n",
      "100%|████████████████████████████████████████████████████████████████████████████████| 550/550 [00:09<00:00, 56.08it/s]\n"
     ]
    },
    {
     "name": "stdout",
     "output_type": "stream",
     "text": [
      "Test Accuracy: 32.082338223586945%\n"
     ]
    },
    {
     "name": "stderr",
     "output_type": "stream",
     "text": [
      "Epoch [10/60]: 100%|████████████████████████████████████████████████████| 2199/2199 [02:44<00:00, 13.38it/s, loss=1.61]\n",
      "100%|████████████████████████████████████████████████████████████████████████████████| 550/550 [00:09<00:00, 55.74it/s]\n"
     ]
    },
    {
     "name": "stdout",
     "output_type": "stream",
     "text": [
      "Test Accuracy: 32.1505743204822%\n"
     ]
    },
    {
     "name": "stderr",
     "output_type": "stream",
     "text": [
      "Epoch [11/60]: 100%|████████████████████████████████████████████████████| 2199/2199 [02:51<00:00, 12.84it/s, loss=1.56]\n",
      "100%|████████████████████████████████████████████████████████████████████████████████| 550/550 [00:10<00:00, 51.80it/s]\n"
     ]
    },
    {
     "name": "stdout",
     "output_type": "stream",
     "text": [
      "Test Accuracy: 32.32116456272035%\n"
     ]
    },
    {
     "name": "stderr",
     "output_type": "stream",
     "text": [
      "Epoch [12/60]: 100%|████████████████████████████████████████████████████| 2199/2199 [02:49<00:00, 12.99it/s, loss=1.49]\n",
      "100%|████████████████████████████████████████████████████████████████████████████████| 550/550 [00:12<00:00, 43.80it/s]\n"
     ]
    },
    {
     "name": "stdout",
     "output_type": "stream",
     "text": [
      "Test Accuracy: 29.53485727283066%\n"
     ]
    },
    {
     "name": "stderr",
     "output_type": "stream",
     "text": [
      "Epoch [13/60]: 100%|████████████████████████████████████████████████████| 2199/2199 [02:54<00:00, 12.62it/s, loss=1.41]\n",
      "100%|████████████████████████████████████████████████████████████████████████████████| 550/550 [00:21<00:00, 25.27it/s]\n"
     ]
    },
    {
     "name": "stdout",
     "output_type": "stream",
     "text": [
      "Test Accuracy: 24.928920732400773%\n"
     ]
    },
    {
     "name": "stderr",
     "output_type": "stream",
     "text": [
      "Epoch [14/60]: 100%|████████████████████████████████████████████████████| 2199/2199 [03:06<00:00, 11.79it/s, loss=1.32]\n",
      "100%|████████████████████████████████████████████████████████████████████████████████| 550/550 [00:13<00:00, 40.75it/s]\n"
     ]
    },
    {
     "name": "stdout",
     "output_type": "stream",
     "text": [
      "Test Accuracy: 27.294438758103038%\n"
     ]
    },
    {
     "name": "stderr",
     "output_type": "stream",
     "text": [
      "Epoch [15/60]: 100%|████████████████████████████████████████████████████| 2199/2199 [02:54<00:00, 12.61it/s, loss=1.23]\n",
      "100%|████████████████████████████████████████████████████████████████████████████████| 550/550 [00:09<00:00, 55.49it/s]\n"
     ]
    },
    {
     "name": "stdout",
     "output_type": "stream",
     "text": [
      "Test Accuracy: 28.568179233481178%\n"
     ]
    },
    {
     "name": "stderr",
     "output_type": "stream",
     "text": [
      "Epoch [16/60]: 100%|████████████████████████████████████████████████████| 2199/2199 [02:47<00:00, 13.16it/s, loss=1.14]\n",
      "100%|████████████████████████████████████████████████████████████████████████████████| 550/550 [00:09<00:00, 56.35it/s]\n"
     ]
    },
    {
     "name": "stdout",
     "output_type": "stream",
     "text": [
      "Test Accuracy: 28.95485044922097%\n"
     ]
    },
    {
     "name": "stderr",
     "output_type": "stream",
     "text": [
      "Epoch [17/60]: 100%|████████████████████████████████████████████████████| 2199/2199 [02:49<00:00, 13.00it/s, loss=1.06]\n",
      "100%|████████████████████████████████████████████████████████████████████████████████| 550/550 [00:10<00:00, 53.90it/s]\n"
     ]
    },
    {
     "name": "stdout",
     "output_type": "stream",
     "text": [
      "Test Accuracy: 30.44467189810076%\n"
     ]
    },
    {
     "name": "stderr",
     "output_type": "stream",
     "text": [
      "Epoch [18/60]: 100%|███████████████████████████████████████████████████| 2199/2199 [02:47<00:00, 13.16it/s, loss=0.981]\n",
      "100%|████████████████████████████████████████████████████████████████████████████████| 550/550 [00:09<00:00, 57.67it/s]\n"
     ]
    },
    {
     "name": "stdout",
     "output_type": "stream",
     "text": [
      "Test Accuracy: 26.28226998749005%\n"
     ]
    },
    {
     "name": "stderr",
     "output_type": "stream",
     "text": [
      "Epoch [19/60]:   4%|█▉                                                  | 83/2199 [00:06<02:35, 13.61it/s, loss=0.0326]\n"
     ]
    },
    {
     "ename": "KeyboardInterrupt",
     "evalue": "",
     "output_type": "error",
     "traceback": [
      "\u001b[1;31m---------------------------------------------------------------------------\u001b[0m",
      "\u001b[1;31mKeyboardInterrupt\u001b[0m                         Traceback (most recent call last)",
      "Input \u001b[1;32mIn [27]\u001b[0m, in \u001b[0;36m<cell line: 1>\u001b[1;34m()\u001b[0m\n\u001b[0;32m     12\u001b[0m loss \u001b[38;5;241m=\u001b[39m criterion(outputs, labels)\n\u001b[0;32m     14\u001b[0m \u001b[38;5;66;03m# Backward and optimize\u001b[39;00m\n\u001b[1;32m---> 15\u001b[0m \u001b[43moptimizer\u001b[49m\u001b[38;5;241;43m.\u001b[39;49m\u001b[43mzero_grad\u001b[49m\u001b[43m(\u001b[49m\u001b[43m)\u001b[49m\n\u001b[0;32m     16\u001b[0m loss\u001b[38;5;241m.\u001b[39mbackward()\n\u001b[0;32m     17\u001b[0m optimizer\u001b[38;5;241m.\u001b[39mstep()\n",
      "File \u001b[1;32m~\\anaconda3\\lib\\site-packages\\torch\\optim\\optimizer.py:249\u001b[0m, in \u001b[0;36mOptimizer.zero_grad\u001b[1;34m(self, set_to_none)\u001b[0m\n\u001b[0;32m    247\u001b[0m     p\u001b[38;5;241m.\u001b[39mgrad\u001b[38;5;241m.\u001b[39mrequires_grad_(\u001b[38;5;28;01mFalse\u001b[39;00m)\n\u001b[0;32m    248\u001b[0m \u001b[38;5;28;01mif\u001b[39;00m (\u001b[38;5;129;01mnot\u001b[39;00m foreach \u001b[38;5;129;01mor\u001b[39;00m p\u001b[38;5;241m.\u001b[39mgrad\u001b[38;5;241m.\u001b[39mis_sparse):\n\u001b[1;32m--> 249\u001b[0m     \u001b[43mp\u001b[49m\u001b[38;5;241;43m.\u001b[39;49m\u001b[43mgrad\u001b[49m\u001b[38;5;241;43m.\u001b[39;49m\u001b[43mzero_\u001b[49m\u001b[43m(\u001b[49m\u001b[43m)\u001b[49m\n\u001b[0;32m    250\u001b[0m \u001b[38;5;28;01melse\u001b[39;00m:\n\u001b[0;32m    251\u001b[0m     per_device_and_dtype_grads[p\u001b[38;5;241m.\u001b[39mgrad\u001b[38;5;241m.\u001b[39mdevice][p\u001b[38;5;241m.\u001b[39mgrad\u001b[38;5;241m.\u001b[39mdtype]\u001b[38;5;241m.\u001b[39mappend(p\u001b[38;5;241m.\u001b[39mgrad)\n",
      "\u001b[1;31mKeyboardInterrupt\u001b[0m: "
     ]
    }
   ],
   "source": [
    "for epoch in range(num_epochs):\n",
    "    running_loss = 0.0\n",
    "    loop = tqdm(dataloader, total=len(dataloader), leave=True)\n",
    "    model.train()\n",
    "    \n",
    "    for mfccs, labels in loop:\n",
    "        mfccs = mfccs.to(device)\n",
    "        labels = labels.to(device)\n",
    "\n",
    "        # Forward pass\n",
    "        outputs = model(mfccs)\n",
    "        loss = criterion(outputs, labels)\n",
    "\n",
    "        # Backward and optimize\n",
    "        optimizer.zero_grad()\n",
    "        loss.backward()\n",
    "        optimizer.step()\n",
    "\n",
    "        running_loss += loss.item()\n",
    "        loop.set_description(f'Epoch [{epoch+1}/{num_epochs}]')\n",
    "        loop.set_postfix(loss=running_loss / (len(dataloader)))\n",
    "    test(model,test_loader)\n",
    "    torch.save(model.state_dict(), \"result/model_googlenet_40_{}.pth\".format(epoch))\n",
    "    \n",
    "print('Training finished!')"
   ]
  },
  {
   "cell_type": "code",
   "execution_count": null,
   "id": "411cb9d0",
   "metadata": {},
   "outputs": [],
   "source": []
  }
 ],
 "metadata": {
  "kernelspec": {
   "display_name": "Python 3 (ipykernel)",
   "language": "python",
   "name": "python3"
  },
  "language_info": {
   "codemirror_mode": {
    "name": "ipython",
    "version": 3
   },
   "file_extension": ".py",
   "mimetype": "text/x-python",
   "name": "python",
   "nbconvert_exporter": "python",
   "pygments_lexer": "ipython3",
   "version": "3.8.5"
  }
 },
 "nbformat": 4,
 "nbformat_minor": 5
}
