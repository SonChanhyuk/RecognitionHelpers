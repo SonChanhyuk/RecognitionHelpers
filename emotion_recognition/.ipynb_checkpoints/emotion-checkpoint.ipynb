{
 "cells": [
  {
   "cell_type": "code",
   "execution_count": 1,
   "id": "38f32b38",
   "metadata": {},
   "outputs": [],
   "source": [
    "import librosa\n",
    "import os\n",
    "import torch\n",
    "import torch.nn as nn\n",
    "from torch.nn import functional as F\n",
    "from torch.utils.data import Dataset\n",
    "from torch.utils.data import DataLoader\n",
    "from tqdm import tqdm\n",
    "import matplotlib.pyplot as plt\n",
    "import pandas as pd\n",
    "import numpy as np\n",
    "from sklearn.preprocessing import LabelEncoder\n",
    "%matplotlib inline"
   ]
  },
  {
   "cell_type": "code",
   "execution_count": 54,
   "id": "d5d0988d",
   "metadata": {},
   "outputs": [],
   "source": [
    "df = pd.read_csv(\"datasets/emotion_test.csv\",index_col=0)"
   ]
  },
  {
   "cell_type": "code",
   "execution_count": 55,
   "id": "d95ca526",
   "metadata": {},
   "outputs": [
    {
     "data": {
      "text/html": [
       "<div>\n",
       "<style scoped>\n",
       "    .dataframe tbody tr th:only-of-type {\n",
       "        vertical-align: middle;\n",
       "    }\n",
       "\n",
       "    .dataframe tbody tr th {\n",
       "        vertical-align: top;\n",
       "    }\n",
       "\n",
       "    .dataframe thead th {\n",
       "        text-align: right;\n",
       "    }\n",
       "</style>\n",
       "<table border=\"1\" class=\"dataframe\">\n",
       "  <thead>\n",
       "    <tr style=\"text-align: right;\">\n",
       "      <th></th>\n",
       "      <th>wav_id</th>\n",
       "      <th>발화문</th>\n",
       "      <th>상황</th>\n",
       "      <th>1번 감정</th>\n",
       "      <th>1번 감정세기</th>\n",
       "      <th>2번 감정</th>\n",
       "      <th>2번 감정세기</th>\n",
       "      <th>3번 감정</th>\n",
       "      <th>3번 감정세기</th>\n",
       "      <th>4번 감정</th>\n",
       "      <th>4번감정세기</th>\n",
       "      <th>5번 감정</th>\n",
       "      <th>5번 감정세기</th>\n",
       "      <th>나이</th>\n",
       "      <th>성별</th>\n",
       "    </tr>\n",
       "  </thead>\n",
       "  <tbody>\n",
       "    <tr>\n",
       "      <th>0</th>\n",
       "      <td>5f7940c59e04b149046cc19a</td>\n",
       "      <td>함께 달리는 크루가 있어서 서로 큰 힘이 되어주고 있어.</td>\n",
       "      <td>happiness</td>\n",
       "      <td>happiness</td>\n",
       "      <td>1</td>\n",
       "      <td>happiness</td>\n",
       "      <td>2</td>\n",
       "      <td>happiness</td>\n",
       "      <td>1</td>\n",
       "      <td>happiness</td>\n",
       "      <td>1</td>\n",
       "      <td>happiness</td>\n",
       "      <td>1</td>\n",
       "      <td>46</td>\n",
       "      <td>female</td>\n",
       "    </tr>\n",
       "    <tr>\n",
       "      <th>1</th>\n",
       "      <td>5f100cc8b140144dfcff4b66</td>\n",
       "      <td>고등학교 때부터 알던 사이인데 방을 이렇게 더럽게 사용할 줄 몰랐어. 알았으면 룸메...</td>\n",
       "      <td>anger</td>\n",
       "      <td>Angry</td>\n",
       "      <td>2</td>\n",
       "      <td>Angry</td>\n",
       "      <td>2</td>\n",
       "      <td>Sadness</td>\n",
       "      <td>1</td>\n",
       "      <td>Angry</td>\n",
       "      <td>1</td>\n",
       "      <td>Angry</td>\n",
       "      <td>1</td>\n",
       "      <td>46</td>\n",
       "      <td>female</td>\n",
       "    </tr>\n",
       "    <tr>\n",
       "      <th>2</th>\n",
       "      <td>5f0a7b09b140144dfcff21a8</td>\n",
       "      <td>친구를 기다린지 한 시간이 넘었어. 너무 짜증이 나!</td>\n",
       "      <td>anger</td>\n",
       "      <td>Angry</td>\n",
       "      <td>2</td>\n",
       "      <td>Angry</td>\n",
       "      <td>2</td>\n",
       "      <td>Angry</td>\n",
       "      <td>1</td>\n",
       "      <td>Angry</td>\n",
       "      <td>1</td>\n",
       "      <td>Angry</td>\n",
       "      <td>2</td>\n",
       "      <td>46</td>\n",
       "      <td>female</td>\n",
       "    </tr>\n",
       "    <tr>\n",
       "      <th>3</th>\n",
       "      <td>5fbca5c6576e9378b67acf76</td>\n",
       "      <td>아까 나갔는데 짭새들이 모여있길래 구경했어.</td>\n",
       "      <td>neutral</td>\n",
       "      <td>fear</td>\n",
       "      <td>1</td>\n",
       "      <td>neutral</td>\n",
       "      <td>0</td>\n",
       "      <td>neutral</td>\n",
       "      <td>0</td>\n",
       "      <td>neutral</td>\n",
       "      <td>0</td>\n",
       "      <td>neutral</td>\n",
       "      <td>0</td>\n",
       "      <td>22</td>\n",
       "      <td>female</td>\n",
       "    </tr>\n",
       "    <tr>\n",
       "      <th>4</th>\n",
       "      <td>5f8da1949e04b149046cd695</td>\n",
       "      <td>음악을 한 번 들어볼까, 그러면?</td>\n",
       "      <td>happiness</td>\n",
       "      <td>neutral</td>\n",
       "      <td>0</td>\n",
       "      <td>happiness</td>\n",
       "      <td>1</td>\n",
       "      <td>sadness</td>\n",
       "      <td>1</td>\n",
       "      <td>happiness</td>\n",
       "      <td>1</td>\n",
       "      <td>neutral</td>\n",
       "      <td>0</td>\n",
       "      <td>35</td>\n",
       "      <td>female</td>\n",
       "    </tr>\n",
       "    <tr>\n",
       "      <th>...</th>\n",
       "      <td>...</td>\n",
       "      <td>...</td>\n",
       "      <td>...</td>\n",
       "      <td>...</td>\n",
       "      <td>...</td>\n",
       "      <td>...</td>\n",
       "      <td>...</td>\n",
       "      <td>...</td>\n",
       "      <td>...</td>\n",
       "      <td>...</td>\n",
       "      <td>...</td>\n",
       "      <td>...</td>\n",
       "      <td>...</td>\n",
       "      <td>...</td>\n",
       "      <td>...</td>\n",
       "    </tr>\n",
       "    <tr>\n",
       "      <th>8788</th>\n",
       "      <td>5f5ccadc3bd6941613f6d194</td>\n",
       "      <td>우리 집 쓰레기통에서 정말 고약시런 냄새가 나기 시작했어!</td>\n",
       "      <td>disgust</td>\n",
       "      <td>disgust</td>\n",
       "      <td>2</td>\n",
       "      <td>disgust</td>\n",
       "      <td>2</td>\n",
       "      <td>disgust</td>\n",
       "      <td>2</td>\n",
       "      <td>disgust</td>\n",
       "      <td>1</td>\n",
       "      <td>sadness</td>\n",
       "      <td>2</td>\n",
       "      <td>48</td>\n",
       "      <td>female</td>\n",
       "    </tr>\n",
       "    <tr>\n",
       "      <th>8789</th>\n",
       "      <td>5fb8dfcacb503578af9edd68</td>\n",
       "      <td>짜장면에서 벌레가 나왔어!</td>\n",
       "      <td>disgust</td>\n",
       "      <td>surprise</td>\n",
       "      <td>1</td>\n",
       "      <td>angry</td>\n",
       "      <td>1</td>\n",
       "      <td>neutral</td>\n",
       "      <td>0</td>\n",
       "      <td>angry</td>\n",
       "      <td>1</td>\n",
       "      <td>angry</td>\n",
       "      <td>1</td>\n",
       "      <td>24</td>\n",
       "      <td>male</td>\n",
       "    </tr>\n",
       "    <tr>\n",
       "      <th>8790</th>\n",
       "      <td>5f5f82b92e23c7161accd230</td>\n",
       "      <td>헐 나 이벤트 당첨됐어.</td>\n",
       "      <td>happiness</td>\n",
       "      <td>happiness</td>\n",
       "      <td>1</td>\n",
       "      <td>happiness</td>\n",
       "      <td>2</td>\n",
       "      <td>happiness</td>\n",
       "      <td>2</td>\n",
       "      <td>surprise</td>\n",
       "      <td>1</td>\n",
       "      <td>happiness</td>\n",
       "      <td>2</td>\n",
       "      <td>35</td>\n",
       "      <td>female</td>\n",
       "    </tr>\n",
       "    <tr>\n",
       "      <th>8791</th>\n",
       "      <td>5e36a893ee8206179943c292</td>\n",
       "      <td>자리가 부족해서 안락사시키는 애들이 많아.</td>\n",
       "      <td>disgust</td>\n",
       "      <td>Neutral</td>\n",
       "      <td>0</td>\n",
       "      <td>Sadness</td>\n",
       "      <td>1</td>\n",
       "      <td>Sadness</td>\n",
       "      <td>1</td>\n",
       "      <td>Disgust</td>\n",
       "      <td>1</td>\n",
       "      <td>Sadness</td>\n",
       "      <td>2</td>\n",
       "      <td>23</td>\n",
       "      <td>female</td>\n",
       "    </tr>\n",
       "    <tr>\n",
       "      <th>8792</th>\n",
       "      <td>5fb4985344697678c497aaf5</td>\n",
       "      <td>뭔가 문제가 있었나봐.</td>\n",
       "      <td>neutral</td>\n",
       "      <td>neutral</td>\n",
       "      <td>0</td>\n",
       "      <td>neutral</td>\n",
       "      <td>0</td>\n",
       "      <td>neutral</td>\n",
       "      <td>0</td>\n",
       "      <td>neutral</td>\n",
       "      <td>0</td>\n",
       "      <td>neutral</td>\n",
       "      <td>0</td>\n",
       "      <td>29</td>\n",
       "      <td>female</td>\n",
       "    </tr>\n",
       "  </tbody>\n",
       "</table>\n",
       "<p>8793 rows × 15 columns</p>\n",
       "</div>"
      ],
      "text/plain": [
       "                        wav_id  \\\n",
       "0     5f7940c59e04b149046cc19a   \n",
       "1     5f100cc8b140144dfcff4b66   \n",
       "2     5f0a7b09b140144dfcff21a8   \n",
       "3     5fbca5c6576e9378b67acf76   \n",
       "4     5f8da1949e04b149046cd695   \n",
       "...                        ...   \n",
       "8788  5f5ccadc3bd6941613f6d194   \n",
       "8789  5fb8dfcacb503578af9edd68   \n",
       "8790  5f5f82b92e23c7161accd230   \n",
       "8791  5e36a893ee8206179943c292   \n",
       "8792  5fb4985344697678c497aaf5   \n",
       "\n",
       "                                                    발화문         상황      1번 감정  \\\n",
       "0                       함께 달리는 크루가 있어서 서로 큰 힘이 되어주고 있어.  happiness  happiness   \n",
       "1     고등학교 때부터 알던 사이인데 방을 이렇게 더럽게 사용할 줄 몰랐어. 알았으면 룸메...      anger      Angry   \n",
       "2                         친구를 기다린지 한 시간이 넘었어. 너무 짜증이 나!      anger      Angry   \n",
       "3                              아까 나갔는데 짭새들이 모여있길래 구경했어.    neutral       fear   \n",
       "4                                    음악을 한 번 들어볼까, 그러면?  happiness    neutral   \n",
       "...                                                 ...        ...        ...   \n",
       "8788                   우리 집 쓰레기통에서 정말 고약시런 냄새가 나기 시작했어!    disgust    disgust   \n",
       "8789                                     짜장면에서 벌레가 나왔어!    disgust   surprise   \n",
       "8790                                      헐 나 이벤트 당첨됐어.  happiness  happiness   \n",
       "8791                            자리가 부족해서 안락사시키는 애들이 많아.    disgust    Neutral   \n",
       "8792                                       뭔가 문제가 있었나봐.    neutral    neutral   \n",
       "\n",
       "      1번 감정세기      2번 감정  2번 감정세기      3번 감정  3번 감정세기      4번 감정  4번감정세기  \\\n",
       "0           1  happiness        2  happiness        1  happiness       1   \n",
       "1           2      Angry        2    Sadness        1      Angry       1   \n",
       "2           2      Angry        2      Angry        1      Angry       1   \n",
       "3           1    neutral        0    neutral        0    neutral       0   \n",
       "4           0  happiness        1    sadness        1  happiness       1   \n",
       "...       ...        ...      ...        ...      ...        ...     ...   \n",
       "8788        2    disgust        2    disgust        2    disgust       1   \n",
       "8789        1      angry        1    neutral        0      angry       1   \n",
       "8790        1  happiness        2  happiness        2   surprise       1   \n",
       "8791        0    Sadness        1    Sadness        1    Disgust       1   \n",
       "8792        0    neutral        0    neutral        0    neutral       0   \n",
       "\n",
       "          5번 감정  5번 감정세기  나이      성별  \n",
       "0     happiness        1  46  female  \n",
       "1         Angry        1  46  female  \n",
       "2         Angry        2  46  female  \n",
       "3       neutral        0  22  female  \n",
       "4       neutral        0  35  female  \n",
       "...         ...      ...  ..     ...  \n",
       "8788    sadness        2  48  female  \n",
       "8789      angry        1  24    male  \n",
       "8790  happiness        2  35  female  \n",
       "8791    Sadness        2  23  female  \n",
       "8792    neutral        0  29  female  \n",
       "\n",
       "[8793 rows x 15 columns]"
      ]
     },
     "execution_count": 55,
     "metadata": {},
     "output_type": "execute_result"
    }
   ],
   "source": [
    "df"
   ]
  },
  {
   "cell_type": "code",
   "execution_count": 49,
   "id": "b844d104",
   "metadata": {},
   "outputs": [
    {
     "name": "stderr",
     "output_type": "stream",
     "text": [
      "100%|█████████████████████████████████████████████████████████████████████████████| 8798/8798 [00:42<00:00, 209.19it/s]\n"
     ]
    }
   ],
   "source": [
    "error = []\n",
    "for name in tqdm(df['wav_id']):\n",
    "    try:\n",
    "        librosa.load(\"datasets/emotion_audio_data/\"+name+\".wav\",sr=None)\n",
    "    except:\n",
    "        error.append(name)"
   ]
  },
  {
   "cell_type": "code",
   "execution_count": 16,
   "id": "2f9b567b",
   "metadata": {},
   "outputs": [
    {
     "data": {
      "text/plain": [
       "['5e32924e5807b852d9e03894',\n",
       " '5e378b4233e9ad176cc9ae53',\n",
       " '5e3292655807b852d9e03896',\n",
       " '5e4155f3189842034d9f72b9',\n",
       " '5e298bdc5807b852d9e01a11',\n",
       " '5e33a9d35807b852d9e050f4',\n",
       " '5e298b9f5807b852d9e01a0f',\n",
       " '5f0dd0aeb140144dfcff3b51',\n",
       " '5e3161c65807b852d9e032af',\n",
       " '5e2998b85807b852d9e01b02',\n",
       " '5e315dca5807b852d9e03275',\n",
       " '5e2ad43e5807b852d9e020dc',\n",
       " '5e33638b5807b852d9e04aeb',\n",
       " '5e298c085807b852d9e01a12']"
      ]
     },
     "execution_count": 16,
     "metadata": {},
     "output_type": "execute_result"
    }
   ],
   "source": [
    "error # train data"
   ]
  },
  {
   "cell_type": "code",
   "execution_count": 50,
   "id": "4c460f27",
   "metadata": {},
   "outputs": [
    {
     "data": {
      "text/plain": [
       "['5e2979c25807b852d9e018d5',\n",
       " '5e2ad4145807b852d9e020d9',\n",
       " '5e298bc45807b852d9e01a10',\n",
       " '5e31622f5807b852d9e032ba',\n",
       " '5e3292825807b852d9e0389a']"
      ]
     },
     "execution_count": 50,
     "metadata": {},
     "output_type": "execute_result"
    }
   ],
   "source": [
    "error # test data"
   ]
  },
  {
   "cell_type": "code",
   "execution_count": 51,
   "id": "216bc14b",
   "metadata": {},
   "outputs": [],
   "source": [
    "for name in error:\n",
    "    df.drop(df[df['wav_id'] == name].index, inplace=True)"
   ]
  },
  {
   "cell_type": "code",
   "execution_count": 52,
   "id": "d232783a",
   "metadata": {},
   "outputs": [],
   "source": [
    "df = df.reset_index(drop=True)"
   ]
  },
  {
   "cell_type": "code",
   "execution_count": 53,
   "id": "4eac77dc",
   "metadata": {},
   "outputs": [],
   "source": [
    "df.to_csv(\"datasets/emotion_test.csv\")"
   ]
  },
  {
   "cell_type": "code",
   "execution_count": 5,
   "id": "10b263c1",
   "metadata": {},
   "outputs": [],
   "source": [
    "def extract_mel_spectrogram(path, n_mels=128):\n",
    "    y, sr = librosa.load(path, sr=None)\n",
    "    mel_spectrogram = librosa.feature.melspectrogram(y, sr=sr, n_mels=n_mels)\n",
    "    return librosa.power_to_db(mel_spectrogram).astype(np.float32)"
   ]
  },
  {
   "cell_type": "code",
   "execution_count": 4,
   "id": "822731f0",
   "metadata": {},
   "outputs": [],
   "source": [
    "def padding_audio_data(audio_data):\n",
    "    padded_data = []\n",
    "    max_length = int(np.percentile([mel_spec.shape[1] for mel_spec in audio_data], 95))\n",
    "    print(max_length)\n",
    "    for mel_spec in tqdm(audio_data):\n",
    "        if mel_spec.shape[1] < max_length:\n",
    "            padding = np.zeros((128, max_length - mel_spec.shape[1]), dtype=np.float32)\n",
    "            padded_data.append(np.hstack((mel_spec.astype(np.float32), padding)))\n",
    "        else:\n",
    "            padded_data.append(mel_spec[:, :max_length].astype(np.float32))\n",
    "    return np.array(padded_data)"
   ]
  },
  {
   "cell_type": "code",
   "execution_count": 46,
   "id": "ba6260c8",
   "metadata": {},
   "outputs": [],
   "source": [
    "def padding_audio_data(audio_data, max_length):\n",
    "    padded_data = []\n",
    "    print(max_length)\n",
    "    for mel_spec in tqdm(audio_data):\n",
    "        if mel_spec.shape[1] < max_length:\n",
    "            padding = np.zeros((128, max_length - mel_spec.shape[1]), dtype=np.float32)\n",
    "            padded_data.append(np.hstack((mel_spec.astype(np.float32), padding)))\n",
    "        else:\n",
    "            padded_data.append(mel_spec[:, :max_length].astype(np.float32))\n",
    "    return np.array(padded_data)"
   ]
  },
  {
   "cell_type": "code",
   "execution_count": 6,
   "id": "4055023a",
   "metadata": {},
   "outputs": [],
   "source": [
    "class EmotionDataset(Dataset):\n",
    "    def __init__(self, audio_data, labels):\n",
    "        self.labels = labels\n",
    "        self.audio = audio_data\n",
    "        \n",
    "    def __len__(self):\n",
    "        return len(self.audio)\n",
    "\n",
    "    def __getitem__(self, idx):        \n",
    "        return self.audio[idx], self.labels[idx]"
   ]
  },
  {
   "cell_type": "code",
   "execution_count": 8,
   "id": "78778388",
   "metadata": {},
   "outputs": [
    {
     "name": "stderr",
     "output_type": "stream",
     "text": [
      "100%|████████████████████████████████████████████████████████████████████████████| 35179/35179 [25:25<00:00, 23.06it/s]\n"
     ]
    },
    {
     "name": "stdout",
     "output_type": "stream",
     "text": [
      "1057\n"
     ]
    },
    {
     "name": "stderr",
     "output_type": "stream",
     "text": [
      "100%|███████████████████████████████████████████████████████████████████████████| 35179/35179 [01:05<00:00, 534.13it/s]\n"
     ]
    }
   ],
   "source": [
    "csv_name = \"datasets/emotion_train.csv\"\n",
    "audio_df = pd.read_csv(csv_name)\n",
    "\n",
    "audio_train = []\n",
    "for name in tqdm(audio_df['wav_id']):\n",
    "    audio_path = os.path.join(\"datasets/emotion_audio_data\",name+\".wav\")\n",
    "    mel_spectrogram = extract_mel_spectrogram(audio_path)\n",
    "    audio_train.append(mel_spectrogram)\n",
    "\n",
    "audio_train = padding_audio_data(audio_train)"
   ]
  },
  {
   "cell_type": "code",
   "execution_count": 23,
   "id": "171a4a74",
   "metadata": {},
   "outputs": [],
   "source": [
    "column = '상황'\n",
    "audio_df.replace(\"anger\",\"angry\")\n",
    "audio_df.replace(\"sadness\",\"sad\")\n",
    "labels_data = audio_df['상황'].tolist()\n",
    "label_encoder = LabelEncoder()\n",
    "encoded_labels_train = label_encoder.fit_transform(labels_data)"
   ]
  },
  {
   "cell_type": "code",
   "execution_count": 56,
   "id": "c6490a70",
   "metadata": {},
   "outputs": [
    {
     "name": "stderr",
     "output_type": "stream",
     "text": [
      "100%|██████████████████████████████████████████████████████████████████████████████| 8793/8793 [03:10<00:00, 46.18it/s]\n"
     ]
    },
    {
     "name": "stdout",
     "output_type": "stream",
     "text": [
      "1057\n"
     ]
    },
    {
     "name": "stderr",
     "output_type": "stream",
     "text": [
      "100%|████████████████████████████████████████████████████████████████████████████| 8793/8793 [00:08<00:00, 1098.36it/s]\n"
     ]
    }
   ],
   "source": [
    "csv_name = \"datasets/emotion_test.csv\"\n",
    "audio_df = pd.read_csv(csv_name)\n",
    "\n",
    "audio_test = []\n",
    "for name in tqdm(audio_df['wav_id']):\n",
    "    audio_path = os.path.join(\"datasets/emotion_audio_data\",name+\".wav\")\n",
    "    mel_spectrogram = extract_mel_spectrogram(audio_path)\n",
    "    audio_test.append(mel_spectrogram)\n",
    "\n",
    "audio_test = padding_audio_data(audio_test,1057)"
   ]
  },
  {
   "cell_type": "code",
   "execution_count": 57,
   "id": "fed0bd63",
   "metadata": {},
   "outputs": [],
   "source": [
    "column = '상황'\n",
    "audio_df.replace(\"anger\",\"angry\")\n",
    "audio_df.replace(\"sadness\",\"sad\")\n",
    "labels_data = audio_df['상황'].tolist()\n",
    "encoded_labels_test = label_encoder.transform(labels_data)"
   ]
  },
  {
   "cell_type": "code",
   "execution_count": 42,
   "id": "3fadcde1",
   "metadata": {},
   "outputs": [],
   "source": [
    "class EmotionRecognitionCNN(nn.Module):\n",
    "    def __init__(self, num_situations):\n",
    "        super(EmotionRecognitionCNN, self).__init__()\n",
    "        self.conv1 = nn.Conv2d(1, 16, kernel_size=3, stride=1, padding=1)\n",
    "        self.bn1 = nn.BatchNorm2d(16)\n",
    "        self.relu1 = nn.ReLU(inplace=True)\n",
    "        self.pool1 = nn.MaxPool2d(kernel_size=2, stride=2, padding=0)\n",
    "\n",
    "        self.conv2 = nn.Conv2d(16, 32, kernel_size=3, stride=1, padding=1)\n",
    "        self.bn2 = nn.BatchNorm2d(32)\n",
    "        self.relu2 = nn.ReLU(inplace=True)\n",
    "        self.pool2 = nn.MaxPool2d(kernel_size=2, stride=2, padding=0)\n",
    "        \n",
    "        self.conv3 = nn.Conv2d(32, 64, kernel_size=3, stride=1, padding=1)\n",
    "        self.bn3 = nn.BatchNorm2d(64)\n",
    "        self.relu3 = nn.ReLU(inplace=True)\n",
    "        self.pool3 = nn.MaxPool2d(kernel_size=2, stride=2, padding=0)\n",
    "\n",
    "        self.conv4 = nn.Conv2d(64, 128, kernel_size=(3, 3), stride=(1, 1), padding=(1, 1))\n",
    "        self.bn4 = nn.BatchNorm2d(128)\n",
    "        self.relu4 = nn.ReLU()\n",
    "        self.pool4 = nn.MaxPool2d(kernel_size=(4, 4), stride=(4, 4), padding=0)\n",
    "\n",
    "        #(128,1057) -> (4,33,128)\n",
    "        self.conv_out_size = 4 * 33 * 128\n",
    "\n",
    "        self.fc1 = nn.Linear(self.conv_out_size, 1024)\n",
    "        self.dropout1 = nn.Dropout(0.5)\n",
    "        self.fc2 = nn.Linear(1024, num_situations)\n",
    "\n",
    "    def forward(self, x):\n",
    "        x = self.pool1(self.relu1(self.bn1(self.conv1(x))))\n",
    "        x = self.pool2(self.relu2(self.bn2(self.conv2(x))))\n",
    "        x = self.pool3(self.relu3(self.bn3(self.conv3(x))))\n",
    "        x = self.pool4(self.relu4(self.bn4(self.conv4(x))))\n",
    "        \n",
    "        x = x.view(x.size(0), -1)\n",
    "        x = self.dropout1(self.fc1(x))\n",
    "        x = self.fc2(x)\n",
    "        return x"
   ]
  },
  {
   "cell_type": "code",
   "execution_count": 40,
   "id": "e9f2925b",
   "metadata": {},
   "outputs": [
    {
     "data": {
      "text/plain": [
       "1057"
      ]
     },
     "execution_count": 40,
     "metadata": {},
     "output_type": "execute_result"
    }
   ],
   "source": [
    "len(audio[0][0])"
   ]
  },
  {
   "cell_type": "code",
   "execution_count": 24,
   "id": "723ed2f6",
   "metadata": {},
   "outputs": [],
   "source": [
    "num_situations = len(np.unique(encoded_labels))"
   ]
  },
  {
   "cell_type": "code",
   "execution_count": 43,
   "id": "cc894ef9",
   "metadata": {},
   "outputs": [],
   "source": [
    "device = torch.device('cuda' if torch.cuda.is_available() else 'cpu')\n",
    "model = EmotionRecognitionCNN(num_situations).to(device)"
   ]
  },
  {
   "cell_type": "code",
   "execution_count": 30,
   "id": "c7ff4a6c",
   "metadata": {},
   "outputs": [],
   "source": [
    "train_dataset = EmotionDataset(audio_train,encoded_labels_train)\n",
    "train_loader = DataLoader(train_dataset, batch_size=32, shuffle=True)"
   ]
  },
  {
   "cell_type": "code",
   "execution_count": 58,
   "id": "cb9e1ca8",
   "metadata": {},
   "outputs": [],
   "source": [
    "test_dataset = EmotionDataset(audio_test,encoded_labels_test)\n",
    "test_loader = DataLoader(test_dataset, batch_size=32, shuffle=True)"
   ]
  },
  {
   "cell_type": "code",
   "execution_count": 45,
   "id": "c01d1a44",
   "metadata": {},
   "outputs": [],
   "source": [
    "import gc\n",
    "\n",
    "def clear_cuda_memory():\n",
    "    torch.cuda.empty_cache()\n",
    "    gc.collect()\n",
    "\n",
    "clear_cuda_memory()"
   ]
  },
  {
   "cell_type": "code",
   "execution_count": 59,
   "id": "65b536c6",
   "metadata": {},
   "outputs": [
    {
     "name": "stderr",
     "output_type": "stream",
     "text": [
      "Epoch 1/50: 100%|█████████████████████████████████████████████████████| 1100/1100 [01:13<00:00, 14.88it/s, Loss=1.8498]\n"
     ]
    },
    {
     "name": "stdout",
     "output_type": "stream",
     "text": [
      "Accuracy: 27.93%\n"
     ]
    },
    {
     "name": "stderr",
     "output_type": "stream",
     "text": [
      "Epoch 2/50: 100%|█████████████████████████████████████████████████████| 1100/1100 [01:11<00:00, 15.41it/s, Loss=1.7956]\n"
     ]
    },
    {
     "name": "stdout",
     "output_type": "stream",
     "text": [
      "Accuracy: 30.18%\n"
     ]
    },
    {
     "name": "stderr",
     "output_type": "stream",
     "text": [
      "Epoch 3/50: 100%|█████████████████████████████████████████████████████| 1100/1100 [01:11<00:00, 15.33it/s, Loss=1.5584]\n"
     ]
    },
    {
     "name": "stdout",
     "output_type": "stream",
     "text": [
      "Accuracy: 30.82%\n"
     ]
    },
    {
     "name": "stderr",
     "output_type": "stream",
     "text": [
      "Epoch 4/50: 100%|█████████████████████████████████████████████████████| 1100/1100 [01:10<00:00, 15.64it/s, Loss=1.8216]\n"
     ]
    },
    {
     "name": "stdout",
     "output_type": "stream",
     "text": [
      "Accuracy: 34.36%\n"
     ]
    },
    {
     "name": "stderr",
     "output_type": "stream",
     "text": [
      "Epoch 5/50: 100%|█████████████████████████████████████████████████████| 1100/1100 [01:10<00:00, 15.60it/s, Loss=2.1214]\n"
     ]
    },
    {
     "name": "stdout",
     "output_type": "stream",
     "text": [
      "Accuracy: 33.75%\n"
     ]
    },
    {
     "name": "stderr",
     "output_type": "stream",
     "text": [
      "Epoch 6/50: 100%|█████████████████████████████████████████████████████| 1100/1100 [01:11<00:00, 15.43it/s, Loss=1.9471]\n"
     ]
    },
    {
     "name": "stdout",
     "output_type": "stream",
     "text": [
      "Accuracy: 37.13%\n"
     ]
    },
    {
     "name": "stderr",
     "output_type": "stream",
     "text": [
      "Epoch 7/50: 100%|█████████████████████████████████████████████████████| 1100/1100 [01:11<00:00, 15.41it/s, Loss=1.1837]\n"
     ]
    },
    {
     "name": "stdout",
     "output_type": "stream",
     "text": [
      "Accuracy: 36.81%\n"
     ]
    },
    {
     "name": "stderr",
     "output_type": "stream",
     "text": [
      "Epoch 8/50: 100%|█████████████████████████████████████████████████████| 1100/1100 [01:11<00:00, 15.37it/s, Loss=1.2834]\n"
     ]
    },
    {
     "name": "stdout",
     "output_type": "stream",
     "text": [
      "Accuracy: 37.54%\n"
     ]
    },
    {
     "name": "stderr",
     "output_type": "stream",
     "text": [
      "Epoch 9/50: 100%|█████████████████████████████████████████████████████| 1100/1100 [01:11<00:00, 15.43it/s, Loss=2.0513]\n"
     ]
    },
    {
     "name": "stdout",
     "output_type": "stream",
     "text": [
      "Accuracy: 38.17%\n"
     ]
    },
    {
     "name": "stderr",
     "output_type": "stream",
     "text": [
      "Epoch 10/50: 100%|████████████████████████████████████████████████████| 1100/1100 [01:12<00:00, 15.15it/s, Loss=1.0549]\n"
     ]
    },
    {
     "name": "stdout",
     "output_type": "stream",
     "text": [
      "Accuracy: 37.18%\n"
     ]
    },
    {
     "name": "stderr",
     "output_type": "stream",
     "text": [
      "Epoch 11/50: 100%|████████████████████████████████████████████████████| 1100/1100 [01:13<00:00, 15.04it/s, Loss=1.2650]\n"
     ]
    },
    {
     "name": "stdout",
     "output_type": "stream",
     "text": [
      "Accuracy: 37.77%\n"
     ]
    },
    {
     "name": "stderr",
     "output_type": "stream",
     "text": [
      "Epoch 12/50: 100%|████████████████████████████████████████████████████| 1100/1100 [01:12<00:00, 15.08it/s, Loss=0.8555]\n"
     ]
    },
    {
     "name": "stdout",
     "output_type": "stream",
     "text": [
      "Accuracy: 37.48%\n"
     ]
    },
    {
     "name": "stderr",
     "output_type": "stream",
     "text": [
      "Epoch 13/50: 100%|████████████████████████████████████████████████████| 1100/1100 [01:09<00:00, 15.72it/s, Loss=1.5842]\n"
     ]
    },
    {
     "name": "stdout",
     "output_type": "stream",
     "text": [
      "Accuracy: 36.18%\n"
     ]
    },
    {
     "name": "stderr",
     "output_type": "stream",
     "text": [
      "Epoch 14/50: 100%|████████████████████████████████████████████████████| 1100/1100 [01:10<00:00, 15.65it/s, Loss=1.3255]\n"
     ]
    },
    {
     "name": "stdout",
     "output_type": "stream",
     "text": [
      "Accuracy: 37.86%\n"
     ]
    },
    {
     "name": "stderr",
     "output_type": "stream",
     "text": [
      "Epoch 15/50: 100%|████████████████████████████████████████████████████| 1100/1100 [01:10<00:00, 15.60it/s, Loss=1.2609]\n"
     ]
    },
    {
     "name": "stdout",
     "output_type": "stream",
     "text": [
      "Accuracy: 36.43%\n"
     ]
    },
    {
     "name": "stderr",
     "output_type": "stream",
     "text": [
      "Epoch 16/50: 100%|████████████████████████████████████████████████████| 1100/1100 [01:10<00:00, 15.61it/s, Loss=1.1122]\n"
     ]
    },
    {
     "name": "stdout",
     "output_type": "stream",
     "text": [
      "Accuracy: 37.73%\n"
     ]
    },
    {
     "name": "stderr",
     "output_type": "stream",
     "text": [
      "Epoch 17/50: 100%|████████████████████████████████████████████████████| 1100/1100 [01:10<00:00, 15.61it/s, Loss=0.6278]\n"
     ]
    },
    {
     "name": "stdout",
     "output_type": "stream",
     "text": [
      "Accuracy: 37.68%\n"
     ]
    },
    {
     "name": "stderr",
     "output_type": "stream",
     "text": [
      "Epoch 18/50: 100%|████████████████████████████████████████████████████| 1100/1100 [01:10<00:00, 15.70it/s, Loss=1.2338]\n"
     ]
    },
    {
     "name": "stdout",
     "output_type": "stream",
     "text": [
      "Accuracy: 37.89%\n"
     ]
    },
    {
     "name": "stderr",
     "output_type": "stream",
     "text": [
      "Epoch 19/50: 100%|████████████████████████████████████████████████████| 1100/1100 [01:11<00:00, 15.43it/s, Loss=0.6157]\n"
     ]
    },
    {
     "name": "stdout",
     "output_type": "stream",
     "text": [
      "Accuracy: 37.72%\n"
     ]
    },
    {
     "name": "stderr",
     "output_type": "stream",
     "text": [
      "Epoch 20/50: 100%|████████████████████████████████████████████████████| 1100/1100 [01:11<00:00, 15.42it/s, Loss=1.3431]\n"
     ]
    },
    {
     "name": "stdout",
     "output_type": "stream",
     "text": [
      "Accuracy: 36.70%\n"
     ]
    },
    {
     "name": "stderr",
     "output_type": "stream",
     "text": [
      "Epoch 21/50: 100%|████████████████████████████████████████████████████| 1100/1100 [01:10<00:00, 15.50it/s, Loss=0.8419]\n"
     ]
    },
    {
     "name": "stdout",
     "output_type": "stream",
     "text": [
      "Accuracy: 38.01%\n"
     ]
    },
    {
     "name": "stderr",
     "output_type": "stream",
     "text": [
      "Epoch 22/50: 100%|████████████████████████████████████████████████████| 1100/1100 [01:10<00:00, 15.56it/s, Loss=1.3291]\n"
     ]
    },
    {
     "name": "stdout",
     "output_type": "stream",
     "text": [
      "Accuracy: 37.59%\n"
     ]
    },
    {
     "name": "stderr",
     "output_type": "stream",
     "text": [
      "Epoch 23/50: 100%|████████████████████████████████████████████████████| 1100/1100 [01:11<00:00, 15.29it/s, Loss=0.9277]\n"
     ]
    },
    {
     "name": "stdout",
     "output_type": "stream",
     "text": [
      "Accuracy: 35.45%\n"
     ]
    },
    {
     "name": "stderr",
     "output_type": "stream",
     "text": [
      "Epoch 24/50: 100%|████████████████████████████████████████████████████| 1100/1100 [01:12<00:00, 15.13it/s, Loss=0.3491]\n"
     ]
    },
    {
     "name": "stdout",
     "output_type": "stream",
     "text": [
      "Accuracy: 36.52%\n"
     ]
    },
    {
     "name": "stderr",
     "output_type": "stream",
     "text": [
      "Epoch 25/50: 100%|████████████████████████████████████████████████████| 1100/1100 [01:10<00:00, 15.61it/s, Loss=0.2119]\n"
     ]
    },
    {
     "name": "stdout",
     "output_type": "stream",
     "text": [
      "Accuracy: 38.04%\n"
     ]
    },
    {
     "name": "stderr",
     "output_type": "stream",
     "text": [
      "Epoch 26/50: 100%|████████████████████████████████████████████████████| 1100/1100 [01:10<00:00, 15.70it/s, Loss=0.5107]\n"
     ]
    },
    {
     "name": "stdout",
     "output_type": "stream",
     "text": [
      "Accuracy: 36.51%\n"
     ]
    },
    {
     "name": "stderr",
     "output_type": "stream",
     "text": [
      "Epoch 27/50:   5%|██▋                                                   | 55/1100 [00:03<01:07, 15.47it/s, Loss=0.7881]\n"
     ]
    },
    {
     "ename": "KeyboardInterrupt",
     "evalue": "",
     "output_type": "error",
     "traceback": [
      "\u001b[1;31m---------------------------------------------------------------------------\u001b[0m",
      "\u001b[1;31mKeyboardInterrupt\u001b[0m                         Traceback (most recent call last)",
      "Input \u001b[1;32mIn [59]\u001b[0m, in \u001b[0;36m<cell line: 5>\u001b[1;34m()\u001b[0m\n\u001b[0;32m      7\u001b[0m progress_bar \u001b[38;5;241m=\u001b[39m tqdm(\u001b[38;5;28menumerate\u001b[39m(train_loader), total\u001b[38;5;241m=\u001b[39m\u001b[38;5;28mlen\u001b[39m(train_loader), desc\u001b[38;5;241m=\u001b[39m\u001b[38;5;124mf\u001b[39m\u001b[38;5;124m'\u001b[39m\u001b[38;5;124mEpoch \u001b[39m\u001b[38;5;132;01m{\u001b[39;00mepoch\u001b[38;5;241m+\u001b[39m\u001b[38;5;241m1\u001b[39m\u001b[38;5;132;01m}\u001b[39;00m\u001b[38;5;124m/\u001b[39m\u001b[38;5;132;01m{\u001b[39;00mnum_epochs\u001b[38;5;132;01m}\u001b[39;00m\u001b[38;5;124m'\u001b[39m)\n\u001b[0;32m      8\u001b[0m \u001b[38;5;28;01mfor\u001b[39;00m batch_idx, (inputs, targets) \u001b[38;5;129;01min\u001b[39;00m progress_bar:\n\u001b[1;32m----> 9\u001b[0m     inputs, targets \u001b[38;5;241m=\u001b[39m \u001b[43minputs\u001b[49m\u001b[38;5;241;43m.\u001b[39;49m\u001b[43mto\u001b[49m\u001b[43m(\u001b[49m\u001b[43mdevice\u001b[49m\u001b[43m)\u001b[49m, targets\u001b[38;5;241m.\u001b[39mto(device)\n\u001b[0;32m     11\u001b[0m     optimizer\u001b[38;5;241m.\u001b[39mzero_grad()\n\u001b[0;32m     12\u001b[0m     outputs \u001b[38;5;241m=\u001b[39m model(inputs\u001b[38;5;241m.\u001b[39munsqueeze(\u001b[38;5;241m1\u001b[39m))\n",
      "\u001b[1;31mKeyboardInterrupt\u001b[0m: "
     ]
    }
   ],
   "source": [
    "criterion = nn.CrossEntropyLoss()\n",
    "optimizer = torch.optim.Adam(model.parameters(), lr=0.001)\n",
    "\n",
    "num_epochs = 50\n",
    "for epoch in range(num_epochs):\n",
    "    model.train()\n",
    "    progress_bar = tqdm(enumerate(train_loader), total=len(train_loader), desc=f'Epoch {epoch+1}/{num_epochs}')\n",
    "    for batch_idx, (inputs, targets) in progress_bar:\n",
    "        inputs, targets = inputs.to(device), targets.to(device)\n",
    "\n",
    "        optimizer.zero_grad()\n",
    "        outputs = model(inputs.unsqueeze(1))\n",
    "        loss = criterion(outputs, targets)\n",
    "        loss.backward()\n",
    "        optimizer.step()\n",
    "\n",
    "        if (batch_idx + 1) % 10 == 0:\n",
    "            progress_bar.set_postfix({'Loss': f'{loss.item():.4f}'})\n",
    "            \n",
    "    # 모델 평가\n",
    "    model.eval()\n",
    "    correct = 0\n",
    "    total = 0\n",
    "    with torch.no_grad():\n",
    "        for inputs, targets in test_loader:\n",
    "            inputs, targets = inputs.to(device), targets.to(device)\n",
    "            outputs = model(inputs.unsqueeze(1))\n",
    "            _, predicted = torch.max(outputs.data, 1)\n",
    "            total += targets.size(0)\n",
    "            correct += (predicted == targets).sum().item()\n",
    "\n",
    "    print(f'Accuracy: {100 * correct / total:.2f}%')"
   ]
  },
  {
   "cell_type": "code",
   "execution_count": 60,
   "id": "16aba65b",
   "metadata": {},
   "outputs": [],
   "source": [
    "# 모델의 state_dict 저장\n",
    "model_path = 'emotion_CNN_1057_1.pth'\n",
    "torch.save(model.state_dict(), model_path)"
   ]
  },
  {
   "cell_type": "code",
   "execution_count": null,
   "id": "fa9e8581",
   "metadata": {},
   "outputs": [],
   "source": [
    "# 모델 인스턴스를 만들고 state_dict 불러오기\n",
    "model = EmotionRecognitionCNN()  # 동일한 모델 구조를 가진 인스턴스를 생성합니다.\n",
    "length = 1057\n",
    "model.load_state_dict(torch.load(model_path))\n",
    "\n",
    "# 모델을 평가 모드로 설정하기\n",
    "model.eval()"
   ]
  }
 ],
 "metadata": {
  "kernelspec": {
   "display_name": "Python 3 (ipykernel)",
   "language": "python",
   "name": "python3"
  },
  "language_info": {
   "codemirror_mode": {
    "name": "ipython",
    "version": 3
   },
   "file_extension": ".py",
   "mimetype": "text/x-python",
   "name": "python",
   "nbconvert_exporter": "python",
   "pygments_lexer": "ipython3",
   "version": "3.8.5"
  }
 },
 "nbformat": 4,
 "nbformat_minor": 5
}
