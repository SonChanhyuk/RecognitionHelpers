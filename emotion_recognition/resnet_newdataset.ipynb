{
 "cells": [
  {
   "cell_type": "code",
   "execution_count": 1,
   "id": "b87bc02c",
   "metadata": {},
   "outputs": [],
   "source": [
    "import os\n",
    "import pandas as pd\n",
    "import numpy as np"
   ]
  },
  {
   "cell_type": "code",
   "execution_count": 2,
   "id": "6ca3c965",
   "metadata": {},
   "outputs": [],
   "source": [
    "import torch\n",
    "import torch.nn as nn\n",
    "import torch.optim as optim\n",
    "from torch.utils.data import Dataset, DataLoader,random_split\n",
    "from torchvision.models import googlenet, resnet18, resnet50\n",
    "import torchvision.transforms as transforms\n",
    "import torch.nn.functional as F\n",
    "from torchvision.transforms import functional as TF\n",
    "import sklearn\n",
    "import librosa\n",
    "import numpy as np\n",
    "import pandas as pd\n",
    "from tqdm import tqdm\n",
    "from PIL import Image"
   ]
  },
  {
   "cell_type": "code",
   "execution_count": 3,
   "id": "82316baa",
   "metadata": {},
   "outputs": [],
   "source": [
    "import random\n",
    "import numpy as np\n",
    "import torch\n",
    "\n",
    "seed = 20236\n",
    "deterministic = True\n",
    "\n",
    "random.seed(seed)\n",
    "np.random.seed(seed)\n",
    "torch.manual_seed(seed)\n",
    "torch.cuda.manual_seed_all(seed)\n",
    "if deterministic:\n",
    "    torch.backends.cudnn.deterministic = True\n",
    "    torch.backends.cudnn.benchmark = False"
   ]
  },
  {
   "cell_type": "code",
   "execution_count": 4,
   "id": "84cd5916",
   "metadata": {},
   "outputs": [],
   "source": [
    "RAVDESS = \"test/ravdess-emotional-speech-audio/audio_speech_actors_01-24/\"\n",
    "CREMA = \"test/cremad/AudioWAV/\"\n",
    "TESS = \"test/toronto-emotional-speech-set-tess/tess toronto emotional speech set data/TESS Toronto emotional speech set data/\"\n",
    "SAVEE = \"test/surrey-audiovisual-expressed-emotion-savee/ALL/\""
   ]
  },
  {
   "cell_type": "code",
   "execution_count": 5,
   "id": "eebce357",
   "metadata": {},
   "outputs": [
    {
     "data": {
      "text/html": [
       "<div>\n",
       "<style scoped>\n",
       "    .dataframe tbody tr th:only-of-type {\n",
       "        vertical-align: middle;\n",
       "    }\n",
       "\n",
       "    .dataframe tbody tr th {\n",
       "        vertical-align: top;\n",
       "    }\n",
       "\n",
       "    .dataframe thead th {\n",
       "        text-align: right;\n",
       "    }\n",
       "</style>\n",
       "<table border=\"1\" class=\"dataframe\">\n",
       "  <thead>\n",
       "    <tr style=\"text-align: right;\">\n",
       "      <th></th>\n",
       "      <th>path</th>\n",
       "      <th>sex</th>\n",
       "      <th>emotion</th>\n",
       "    </tr>\n",
       "  </thead>\n",
       "  <tbody>\n",
       "    <tr>\n",
       "      <th>0</th>\n",
       "      <td>test/ravdess-emotional-speech-audio/audio_spee...</td>\n",
       "      <td>male</td>\n",
       "      <td>neutral</td>\n",
       "    </tr>\n",
       "    <tr>\n",
       "      <th>1</th>\n",
       "      <td>test/ravdess-emotional-speech-audio/audio_spee...</td>\n",
       "      <td>male</td>\n",
       "      <td>neutral</td>\n",
       "    </tr>\n",
       "    <tr>\n",
       "      <th>2</th>\n",
       "      <td>test/ravdess-emotional-speech-audio/audio_spee...</td>\n",
       "      <td>male</td>\n",
       "      <td>neutral</td>\n",
       "    </tr>\n",
       "    <tr>\n",
       "      <th>3</th>\n",
       "      <td>test/ravdess-emotional-speech-audio/audio_spee...</td>\n",
       "      <td>male</td>\n",
       "      <td>neutral</td>\n",
       "    </tr>\n",
       "    <tr>\n",
       "      <th>4</th>\n",
       "      <td>test/ravdess-emotional-speech-audio/audio_spee...</td>\n",
       "      <td>male</td>\n",
       "      <td>happy</td>\n",
       "    </tr>\n",
       "  </tbody>\n",
       "</table>\n",
       "</div>"
      ],
      "text/plain": [
       "                                                path   sex  emotion\n",
       "0  test/ravdess-emotional-speech-audio/audio_spee...  male  neutral\n",
       "1  test/ravdess-emotional-speech-audio/audio_spee...  male  neutral\n",
       "2  test/ravdess-emotional-speech-audio/audio_spee...  male  neutral\n",
       "3  test/ravdess-emotional-speech-audio/audio_spee...  male  neutral\n",
       "4  test/ravdess-emotional-speech-audio/audio_spee...  male    happy"
      ]
     },
     "execution_count": 5,
     "metadata": {},
     "output_type": "execute_result"
    }
   ],
   "source": [
    "ravdess_dir_lis = os.listdir(RAVDESS)\n",
    "path_list = []\n",
    "gender_list = []\n",
    "emotion_list = []\n",
    "\n",
    "emotion_dic = {\n",
    "    '03' : 'happy',\n",
    "    '01' : 'neutral',\n",
    "    '04' : 'sad',\n",
    "    '05' : 'angry',\n",
    "    '06' : 'fear',\n",
    "    '07' : 'disgust',\n",
    "}\n",
    "\n",
    "for directory in ravdess_dir_lis:\n",
    "    actor_files = os.listdir(os.path.join(RAVDESS, directory))\n",
    "    for audio_file in actor_files: \n",
    "        part = audio_file.split('.')[0]\n",
    "        key = part.split('-')[2]\n",
    "        if key in emotion_dic:\n",
    "            gender_code = int(part.split('-')[6])\n",
    "            path_list.append(f\"{RAVDESS}{directory}/{audio_file}\")\n",
    "            gender_list.append('female' if gender_code & 1 == 0 else 'male')\n",
    "            emotion_list.append(emotion_dic[key])\n",
    "            \n",
    "ravdess_df = pd.concat([\n",
    "    pd.DataFrame(path_list, columns=['path']),\n",
    "    pd.DataFrame(gender_list, columns=['sex']),\n",
    "    pd.DataFrame(emotion_list, columns=['emotion'])\n",
    "], axis=1)\n",
    "\n",
    "ravdess_df.head()"
   ]
  },
  {
   "cell_type": "code",
   "execution_count": 6,
   "id": "69fb19a9",
   "metadata": {},
   "outputs": [
    {
     "data": {
      "text/html": [
       "<div>\n",
       "<style scoped>\n",
       "    .dataframe tbody tr th:only-of-type {\n",
       "        vertical-align: middle;\n",
       "    }\n",
       "\n",
       "    .dataframe tbody tr th {\n",
       "        vertical-align: top;\n",
       "    }\n",
       "\n",
       "    .dataframe thead th {\n",
       "        text-align: right;\n",
       "    }\n",
       "</style>\n",
       "<table border=\"1\" class=\"dataframe\">\n",
       "  <thead>\n",
       "    <tr style=\"text-align: right;\">\n",
       "      <th></th>\n",
       "      <th>path</th>\n",
       "      <th>sex</th>\n",
       "      <th>emotion</th>\n",
       "    </tr>\n",
       "  </thead>\n",
       "  <tbody>\n",
       "    <tr>\n",
       "      <th>0</th>\n",
       "      <td>test/cremad/AudioWAV/1001_IEO_ANG_HI.wav</td>\n",
       "      <td>male</td>\n",
       "      <td>angry</td>\n",
       "    </tr>\n",
       "    <tr>\n",
       "      <th>1</th>\n",
       "      <td>test/cremad/AudioWAV/1001_IEO_DIS_HI.wav</td>\n",
       "      <td>male</td>\n",
       "      <td>disgust</td>\n",
       "    </tr>\n",
       "    <tr>\n",
       "      <th>2</th>\n",
       "      <td>test/cremad/AudioWAV/1001_IEO_FEA_HI.wav</td>\n",
       "      <td>male</td>\n",
       "      <td>fear</td>\n",
       "    </tr>\n",
       "    <tr>\n",
       "      <th>3</th>\n",
       "      <td>test/cremad/AudioWAV/1001_IEO_HAP_HI.wav</td>\n",
       "      <td>male</td>\n",
       "      <td>happy</td>\n",
       "    </tr>\n",
       "    <tr>\n",
       "      <th>4</th>\n",
       "      <td>test/cremad/AudioWAV/1001_IEO_SAD_HI.wav</td>\n",
       "      <td>male</td>\n",
       "      <td>sad</td>\n",
       "    </tr>\n",
       "  </tbody>\n",
       "</table>\n",
       "</div>"
      ],
      "text/plain": [
       "                                       path   sex  emotion\n",
       "0  test/cremad/AudioWAV/1001_IEO_ANG_HI.wav  male    angry\n",
       "1  test/cremad/AudioWAV/1001_IEO_DIS_HI.wav  male  disgust\n",
       "2  test/cremad/AudioWAV/1001_IEO_FEA_HI.wav  male     fear\n",
       "3  test/cremad/AudioWAV/1001_IEO_HAP_HI.wav  male    happy\n",
       "4  test/cremad/AudioWAV/1001_IEO_SAD_HI.wav  male      sad"
      ]
     },
     "execution_count": 6,
     "metadata": {},
     "output_type": "execute_result"
    }
   ],
   "source": [
    "crema_dir_list = os.listdir(CREMA)\n",
    "path_list = []\n",
    "gender_list = []\n",
    "emotion_list = []\n",
    "\n",
    "emotion_dic = {\n",
    "    'HAP' : 'happy',\n",
    "    'NEU' : 'neutral',\n",
    "    'SAD' : 'sad',\n",
    "    'ANG' : 'angry',\n",
    "    'FEA' : 'fear',\n",
    "    'DIS' : 'disgust',\n",
    "}\n",
    "\n",
    "female_id_list = [\n",
    "    '1002', '1003', '1004', '1006', '1007', '1008', '1009', '1010', '1012', '1013', '1018', \n",
    "    '1020', '1021', '1024', '1025', '1028', '1029', '1030', '1037', '1043', '1046', '1047', \n",
    "    '1049', '1052', '1053', '1054', '1055', '1056', '1058', '1060', '1061', '1063', '1072', \n",
    "    '1073', '1074', '1075', '1076', '1078', '1079', '1082', '1084', '1089', '1091',\n",
    "]\n",
    "\n",
    "for audio_file in crema_dir_list:\n",
    "    part = audio_file.split('_')\n",
    "    key = part[2]\n",
    "    if key in emotion_dic and part[3] == 'HI.wav':\n",
    "        path_list.append(f\"{CREMA}{audio_file}\")\n",
    "        gender_list.append('female' if part[0] in female_id_list else 'male')\n",
    "        emotion_list.append(emotion_dic[key])\n",
    "\n",
    "crema_df = pd.concat([\n",
    "    pd.DataFrame(path_list, columns=['path']),\n",
    "    pd.DataFrame(gender_list, columns=['sex']),\n",
    "    pd.DataFrame(emotion_list, columns=['emotion'])\n",
    "], axis=1)\n",
    "\n",
    "crema_df.head()"
   ]
  },
  {
   "cell_type": "code",
   "execution_count": 7,
   "id": "a42f5b06",
   "metadata": {},
   "outputs": [
    {
     "data": {
      "text/html": [
       "<div>\n",
       "<style scoped>\n",
       "    .dataframe tbody tr th:only-of-type {\n",
       "        vertical-align: middle;\n",
       "    }\n",
       "\n",
       "    .dataframe tbody tr th {\n",
       "        vertical-align: top;\n",
       "    }\n",
       "\n",
       "    .dataframe thead th {\n",
       "        text-align: right;\n",
       "    }\n",
       "</style>\n",
       "<table border=\"1\" class=\"dataframe\">\n",
       "  <thead>\n",
       "    <tr style=\"text-align: right;\">\n",
       "      <th></th>\n",
       "      <th>path</th>\n",
       "      <th>sex</th>\n",
       "      <th>emotion</th>\n",
       "    </tr>\n",
       "  </thead>\n",
       "  <tbody>\n",
       "    <tr>\n",
       "      <th>0</th>\n",
       "      <td>test/toronto-emotional-speech-set-tess/tess to...</td>\n",
       "      <td>female</td>\n",
       "      <td>angry</td>\n",
       "    </tr>\n",
       "    <tr>\n",
       "      <th>1</th>\n",
       "      <td>test/toronto-emotional-speech-set-tess/tess to...</td>\n",
       "      <td>female</td>\n",
       "      <td>angry</td>\n",
       "    </tr>\n",
       "    <tr>\n",
       "      <th>2</th>\n",
       "      <td>test/toronto-emotional-speech-set-tess/tess to...</td>\n",
       "      <td>female</td>\n",
       "      <td>angry</td>\n",
       "    </tr>\n",
       "    <tr>\n",
       "      <th>3</th>\n",
       "      <td>test/toronto-emotional-speech-set-tess/tess to...</td>\n",
       "      <td>female</td>\n",
       "      <td>angry</td>\n",
       "    </tr>\n",
       "    <tr>\n",
       "      <th>4</th>\n",
       "      <td>test/toronto-emotional-speech-set-tess/tess to...</td>\n",
       "      <td>female</td>\n",
       "      <td>angry</td>\n",
       "    </tr>\n",
       "  </tbody>\n",
       "</table>\n",
       "</div>"
      ],
      "text/plain": [
       "                                                path     sex emotion\n",
       "0  test/toronto-emotional-speech-set-tess/tess to...  female   angry\n",
       "1  test/toronto-emotional-speech-set-tess/tess to...  female   angry\n",
       "2  test/toronto-emotional-speech-set-tess/tess to...  female   angry\n",
       "3  test/toronto-emotional-speech-set-tess/tess to...  female   angry\n",
       "4  test/toronto-emotional-speech-set-tess/tess to...  female   angry"
      ]
     },
     "execution_count": 7,
     "metadata": {},
     "output_type": "execute_result"
    }
   ],
   "source": [
    "tess_dir_list = os.listdir(TESS)\n",
    "path_list = []\n",
    "gender_list = []\n",
    "emotion_list = [] \n",
    "\n",
    "emotion_dic = {\n",
    "    'happy'   : 'happy',\n",
    "    'neutral' : 'neutral',\n",
    "    'sad'     : 'sad',\n",
    "    'Sad'     : 'sad',\n",
    "    'angry'   : 'angry',\n",
    "    'fear'    : 'fear',\n",
    "    'disgust'  : 'disgust',\n",
    "}\n",
    "\n",
    "for directory in tess_dir_list:\n",
    "    audio_files = os.listdir(os.path.join(TESS, directory))\n",
    "    for audio_file in audio_files:\n",
    "        part = audio_file.split('.')[0]\n",
    "        key = part.split('_')[2]\n",
    "        if key in emotion_dic:\n",
    "            path_list.append(f\"{TESS}{directory}/{audio_file}\") \n",
    "            gender_list.append('female') # female only dataset\n",
    "            emotion_list.append(emotion_dic[key])\n",
    "            \n",
    "tess_df = pd.concat([\n",
    "    pd.DataFrame(path_list, columns=['path']),\n",
    "    pd.DataFrame(gender_list, columns=['sex']),\n",
    "    pd.DataFrame(emotion_list, columns=['emotion'])\n",
    "], axis=1)\n",
    "\n",
    "tess_df.head()"
   ]
  },
  {
   "cell_type": "code",
   "execution_count": 8,
   "id": "3babcec7",
   "metadata": {},
   "outputs": [
    {
     "data": {
      "text/html": [
       "<div>\n",
       "<style scoped>\n",
       "    .dataframe tbody tr th:only-of-type {\n",
       "        vertical-align: middle;\n",
       "    }\n",
       "\n",
       "    .dataframe tbody tr th {\n",
       "        vertical-align: top;\n",
       "    }\n",
       "\n",
       "    .dataframe thead th {\n",
       "        text-align: right;\n",
       "    }\n",
       "</style>\n",
       "<table border=\"1\" class=\"dataframe\">\n",
       "  <thead>\n",
       "    <tr style=\"text-align: right;\">\n",
       "      <th></th>\n",
       "      <th>path</th>\n",
       "      <th>sex</th>\n",
       "      <th>emotion</th>\n",
       "    </tr>\n",
       "  </thead>\n",
       "  <tbody>\n",
       "    <tr>\n",
       "      <th>0</th>\n",
       "      <td>test/surrey-audiovisual-expressed-emotion-save...</td>\n",
       "      <td>male</td>\n",
       "      <td>angry</td>\n",
       "    </tr>\n",
       "    <tr>\n",
       "      <th>1</th>\n",
       "      <td>test/surrey-audiovisual-expressed-emotion-save...</td>\n",
       "      <td>male</td>\n",
       "      <td>angry</td>\n",
       "    </tr>\n",
       "    <tr>\n",
       "      <th>2</th>\n",
       "      <td>test/surrey-audiovisual-expressed-emotion-save...</td>\n",
       "      <td>male</td>\n",
       "      <td>angry</td>\n",
       "    </tr>\n",
       "    <tr>\n",
       "      <th>3</th>\n",
       "      <td>test/surrey-audiovisual-expressed-emotion-save...</td>\n",
       "      <td>male</td>\n",
       "      <td>angry</td>\n",
       "    </tr>\n",
       "    <tr>\n",
       "      <th>4</th>\n",
       "      <td>test/surrey-audiovisual-expressed-emotion-save...</td>\n",
       "      <td>male</td>\n",
       "      <td>angry</td>\n",
       "    </tr>\n",
       "  </tbody>\n",
       "</table>\n",
       "</div>"
      ],
      "text/plain": [
       "                                                path   sex emotion\n",
       "0  test/surrey-audiovisual-expressed-emotion-save...  male   angry\n",
       "1  test/surrey-audiovisual-expressed-emotion-save...  male   angry\n",
       "2  test/surrey-audiovisual-expressed-emotion-save...  male   angry\n",
       "3  test/surrey-audiovisual-expressed-emotion-save...  male   angry\n",
       "4  test/surrey-audiovisual-expressed-emotion-save...  male   angry"
      ]
     },
     "execution_count": 8,
     "metadata": {},
     "output_type": "execute_result"
    }
   ],
   "source": [
    "savee_dir_list = os.listdir(SAVEE)\n",
    "path_list = []\n",
    "gender_list = []\n",
    "emotion_list = []\n",
    "\n",
    "emotion_dic = {\n",
    "    'h'  : 'happy',\n",
    "    'n'  : 'neutral',\n",
    "    'sa' : 'sad',\n",
    "    'a'  : 'angry',\n",
    "    'f'  : 'fear',\n",
    "    'd'  : 'disgust'\n",
    "}\n",
    "\n",
    "for audio_file in savee_dir_list:\n",
    "    part = audio_file.split('_')[1]\n",
    "    key = part[:-6]\n",
    "    if key in emotion_dic:\n",
    "        path_list.append(f\"{SAVEE}{audio_file}\")\n",
    "        gender_list.append('male') # male only dataset\n",
    "        emotion_list.append(emotion_dic[key])\n",
    "        \n",
    "savee_df = pd.concat([\n",
    "    pd.DataFrame(path_list, columns=['path']),\n",
    "    pd.DataFrame(gender_list, columns=['sex']),\n",
    "    pd.DataFrame(emotion_list, columns=['emotion'])\n",
    "], axis=1)\n",
    "\n",
    "savee_df.head()"
   ]
  },
  {
   "cell_type": "code",
   "execution_count": 9,
   "id": "25fac82c",
   "metadata": {},
   "outputs": [
    {
     "data": {
      "text/html": [
       "<div>\n",
       "<style scoped>\n",
       "    .dataframe tbody tr th:only-of-type {\n",
       "        vertical-align: middle;\n",
       "    }\n",
       "\n",
       "    .dataframe tbody tr th {\n",
       "        vertical-align: top;\n",
       "    }\n",
       "\n",
       "    .dataframe thead th {\n",
       "        text-align: right;\n",
       "    }\n",
       "</style>\n",
       "<table border=\"1\" class=\"dataframe\">\n",
       "  <thead>\n",
       "    <tr style=\"text-align: right;\">\n",
       "      <th></th>\n",
       "      <th>path</th>\n",
       "      <th>sex</th>\n",
       "      <th>emotion</th>\n",
       "    </tr>\n",
       "  </thead>\n",
       "  <tbody>\n",
       "    <tr>\n",
       "      <th>0</th>\n",
       "      <td>test/ravdess-emotional-speech-audio/audio_spee...</td>\n",
       "      <td>male</td>\n",
       "      <td>neutral</td>\n",
       "    </tr>\n",
       "    <tr>\n",
       "      <th>1</th>\n",
       "      <td>test/ravdess-emotional-speech-audio/audio_spee...</td>\n",
       "      <td>male</td>\n",
       "      <td>neutral</td>\n",
       "    </tr>\n",
       "    <tr>\n",
       "      <th>2</th>\n",
       "      <td>test/ravdess-emotional-speech-audio/audio_spee...</td>\n",
       "      <td>male</td>\n",
       "      <td>neutral</td>\n",
       "    </tr>\n",
       "    <tr>\n",
       "      <th>3</th>\n",
       "      <td>test/ravdess-emotional-speech-audio/audio_spee...</td>\n",
       "      <td>male</td>\n",
       "      <td>neutral</td>\n",
       "    </tr>\n",
       "    <tr>\n",
       "      <th>4</th>\n",
       "      <td>test/ravdess-emotional-speech-audio/audio_spee...</td>\n",
       "      <td>male</td>\n",
       "      <td>happy</td>\n",
       "    </tr>\n",
       "  </tbody>\n",
       "</table>\n",
       "</div>"
      ],
      "text/plain": [
       "                                                path   sex  emotion\n",
       "0  test/ravdess-emotional-speech-audio/audio_spee...  male  neutral\n",
       "1  test/ravdess-emotional-speech-audio/audio_spee...  male  neutral\n",
       "2  test/ravdess-emotional-speech-audio/audio_spee...  male  neutral\n",
       "3  test/ravdess-emotional-speech-audio/audio_spee...  male  neutral\n",
       "4  test/ravdess-emotional-speech-audio/audio_spee...  male    happy"
      ]
     },
     "execution_count": 9,
     "metadata": {},
     "output_type": "execute_result"
    }
   ],
   "source": [
    "df = pd.concat([\n",
    "    ravdess_df, \n",
    "    crema_df, \n",
    "    tess_df, \n",
    "    savee_df\n",
    "], axis=0)\n",
    "df.head()"
   ]
  },
  {
   "cell_type": "code",
   "execution_count": 10,
   "id": "56e28ea3",
   "metadata": {},
   "outputs": [
    {
     "data": {
      "text/html": [
       "<div>\n",
       "<style scoped>\n",
       "    .dataframe tbody tr th:only-of-type {\n",
       "        vertical-align: middle;\n",
       "    }\n",
       "\n",
       "    .dataframe tbody tr th {\n",
       "        vertical-align: top;\n",
       "    }\n",
       "\n",
       "    .dataframe thead th {\n",
       "        text-align: right;\n",
       "    }\n",
       "</style>\n",
       "<table border=\"1\" class=\"dataframe\">\n",
       "  <thead>\n",
       "    <tr style=\"text-align: right;\">\n",
       "      <th></th>\n",
       "      <th>path</th>\n",
       "      <th>emotion</th>\n",
       "    </tr>\n",
       "  </thead>\n",
       "  <tbody>\n",
       "    <tr>\n",
       "      <th>0</th>\n",
       "      <td>test/ravdess-emotional-speech-audio/audio_spee...</td>\n",
       "      <td>neutral</td>\n",
       "    </tr>\n",
       "    <tr>\n",
       "      <th>1</th>\n",
       "      <td>test/ravdess-emotional-speech-audio/audio_spee...</td>\n",
       "      <td>neutral</td>\n",
       "    </tr>\n",
       "    <tr>\n",
       "      <th>2</th>\n",
       "      <td>test/ravdess-emotional-speech-audio/audio_spee...</td>\n",
       "      <td>neutral</td>\n",
       "    </tr>\n",
       "    <tr>\n",
       "      <th>3</th>\n",
       "      <td>test/ravdess-emotional-speech-audio/audio_spee...</td>\n",
       "      <td>neutral</td>\n",
       "    </tr>\n",
       "    <tr>\n",
       "      <th>4</th>\n",
       "      <td>test/ravdess-emotional-speech-audio/audio_spee...</td>\n",
       "      <td>happy</td>\n",
       "    </tr>\n",
       "  </tbody>\n",
       "</table>\n",
       "</div>"
      ],
      "text/plain": [
       "                                                path  emotion\n",
       "0  test/ravdess-emotional-speech-audio/audio_spee...  neutral\n",
       "1  test/ravdess-emotional-speech-audio/audio_spee...  neutral\n",
       "2  test/ravdess-emotional-speech-audio/audio_spee...  neutral\n",
       "3  test/ravdess-emotional-speech-audio/audio_spee...  neutral\n",
       "4  test/ravdess-emotional-speech-audio/audio_spee...    happy"
      ]
     },
     "execution_count": 10,
     "metadata": {},
     "output_type": "execute_result"
    }
   ],
   "source": [
    "df.drop('sex', axis=1, inplace=True)\n",
    "df.head()"
   ]
  },
  {
   "cell_type": "code",
   "execution_count": 11,
   "id": "09e786cb",
   "metadata": {},
   "outputs": [],
   "source": [
    "import librosa\n",
    "from pydub import AudioSegment, effects"
   ]
  },
  {
   "cell_type": "code",
   "execution_count": 12,
   "id": "02e33cc1",
   "metadata": {},
   "outputs": [],
   "source": [
    "def preprocess_audio(path):\n",
    "    _, sr = librosa.load(path)\n",
    "    raw_audio = AudioSegment.from_file(path)\n",
    "    \n",
    "    samples = np.array(raw_audio.get_array_of_samples(), dtype='float32')\n",
    "    trimmed, _ = librosa.effects.trim(samples, top_db=25)\n",
    "    if (len(trimmed)>180000):\n",
    "        padded = trimmed[:180000]\n",
    "    else:\n",
    "        padded = np.pad(trimmed, (0, 180000-len(trimmed)), 'constant')\n",
    "    return padded, sr"
   ]
  },
  {
   "cell_type": "code",
   "execution_count": 12,
   "id": "19c80acf",
   "metadata": {},
   "outputs": [],
   "source": [
    "def noise(data):\n",
    "    noise_amp = 0.035*np.random.uniform()*np.amax(data)\n",
    "    data = data + noise_amp*np.random.normal(size=data.shape[0])\n",
    "    return data"
   ]
  },
  {
   "cell_type": "code",
   "execution_count": 13,
   "id": "12220df7",
   "metadata": {},
   "outputs": [],
   "source": [
    "emotion_dic = {\n",
    "    'neutral' : 0,\n",
    "    'happy'   : 1,\n",
    "    'sad'     : 2, \n",
    "    'angry'   : 3, \n",
    "    'fear'    : 4, \n",
    "    'disgust' : 5\n",
    "}\n",
    "\n",
    "def encode(label):\n",
    "    return emotion_dic.get(label)"
   ]
  },
  {
   "cell_type": "code",
   "execution_count": 14,
   "id": "da8937dd",
   "metadata": {},
   "outputs": [
    {
     "data": {
      "text/plain": [
       "['neutral', 'happy', 'sad', 'angry', 'fear', 'disgust']"
      ]
     },
     "execution_count": 14,
     "metadata": {},
     "output_type": "execute_result"
    }
   ],
   "source": [
    "list(emotion_dic.keys())"
   ]
  },
  {
   "cell_type": "code",
   "execution_count": 15,
   "id": "cfbe98cf",
   "metadata": {},
   "outputs": [],
   "source": [
    "zcr_list = []\n",
    "rms_list = []\n",
    "mfccs_list = []\n",
    "emotion_list = []\n",
    "\n",
    "FRAME_LENGTH = 2048\n",
    "HOP_LENGTH = 512\n",
    "\n",
    "for row in df.itertuples(index=False):\n",
    "    try: \n",
    "        y, sr = preprocess_audio(row.path)\n",
    "        zcr = librosa.feature.zero_crossing_rate(y, frame_length=FRAME_LENGTH, hop_length=HOP_LENGTH)\n",
    "        rms = librosa.feature.rms(y=y, frame_length=FRAME_LENGTH, hop_length=HOP_LENGTH)\n",
    "        mfccs = librosa.feature.mfcc(y=y, sr=sr, n_mfcc=13, hop_length=HOP_LENGTH)\n",
    "        zcr_list.append(zcr)\n",
    "        rms_list.append(rms)\n",
    "        mfccs_list.append(mfccs)\n",
    "\n",
    "        emotion_list.append(encode(row.emotion))\n",
    "    except:\n",
    "        print(f\"Failed for path: {row.path}\")"
   ]
  },
  {
   "cell_type": "code",
   "execution_count": 16,
   "id": "d9ffdb1a",
   "metadata": {},
   "outputs": [],
   "source": [
    "X = np.concatenate((\n",
    "    np.swapaxes(zcr_list, 1, 2), \n",
    "    np.swapaxes(rms_list, 1, 2), \n",
    "    np.swapaxes(mfccs_list, 1, 2)), \n",
    "    axis=2\n",
    ")\n",
    "X = X.astype('float32')\n",
    "\n",
    "y = np.asarray(emotion_list)"
   ]
  },
  {
   "cell_type": "code",
   "execution_count": 28,
   "id": "acd3ee64",
   "metadata": {},
   "outputs": [
    {
     "data": {
      "text/plain": [
       "'test/ravdess-emotional-speech-audio/audio_speech_actors_01-24/Actor_01/03-01-01-01-01-02-01.wav'"
      ]
     },
     "execution_count": 28,
     "metadata": {},
     "output_type": "execute_result"
    }
   ],
   "source": [
    "df.iloc[1].path"
   ]
  },
  {
   "cell_type": "code",
   "execution_count": 55,
   "id": "86abdde2",
   "metadata": {},
   "outputs": [],
   "source": [
    "class EmotionDataset(Dataset):\n",
    "    def __init__(self, df):\n",
    "        self.df = df\n",
    "        self.emotion_list = []\n",
    "\n",
    "        self.FRAME_LENGTH = 2048\n",
    "        self.HOP_LENGTH = 512\n",
    "\n",
    "        for row in df.itertuples(index=False):\n",
    "            self.emotion_list.append(encode(row.emotion))\n",
    "            \n",
    "        self.len = len(self.emotion_list)\n",
    "\n",
    "    def __len__(self):\n",
    "        return self.len\n",
    "\n",
    "    def __getitem__(self, idx):\n",
    "        y, sr = preprocess_audio(df.iloc[idx].path)\n",
    "        y = noise(y)\n",
    "        mfccs = librosa.feature.mfcc(y=y, sr=sr, n_mfcc=13, hop_length=self.HOP_LENGTH)\n",
    "        mfccs = mfccs.T.astype('float32')\n",
    "            \n",
    "        label = self.emotion_list[idx]\n",
    "        return mfccs, label"
   ]
  },
  {
   "cell_type": "code",
   "execution_count": 16,
   "id": "fb4a5631",
   "metadata": {},
   "outputs": [],
   "source": [
    "class EmotionDataset(Dataset):\n",
    "    def __init__(self, images, labels):\n",
    "        self.images = []\n",
    "        self.emotions = torch.Tensor(labels).to(torch.int64)\n",
    "        transform = transforms.Compose([\n",
    "            transforms.Resize((224,224)),\n",
    "            transforms.ToTensor(),\n",
    "            transforms.Normalize([0.485, 0.456, 0.406],[0.229, 0.224, 0.225])\n",
    "        ])\n",
    "\n",
    "        for i in tqdm(range(len(images))):\n",
    "            \n",
    "            # MFCC를 이미지로 변환하여 크기를 조정합니다.\n",
    "            image = Image.fromarray(images[i],\"RGB\")\n",
    "            image = transform(image)\n",
    "            self.images.append(image)\n",
    "            \n",
    "        self.len = len(images)\n",
    "\n",
    "    def __len__(self):\n",
    "        return self.len\n",
    "\n",
    "    def __getitem__(self, idx):\n",
    "        image = self.images[idx]\n",
    "        label = self.emotions[idx]\n",
    "        return image, label"
   ]
  },
  {
   "cell_type": "code",
   "execution_count": 17,
   "id": "acb2a452",
   "metadata": {},
   "outputs": [],
   "source": [
    "class EmotionDataset(Dataset):\n",
    "    def __init__(self, inputs, labels):\n",
    "        self.inputs = inputs\n",
    "        self.emotions = torch.Tensor(labels).to(torch.int64)\n",
    "\n",
    "    def __len__(self):\n",
    "        return len(self.emotions)\n",
    "\n",
    "    def __getitem__(self, idx):\n",
    "        inputs = self.inputs[idx]\n",
    "        labels = self.emotions[idx]\n",
    "        return inputs, labels"
   ]
  },
  {
   "cell_type": "code",
   "execution_count": 38,
   "id": "79a9f0a5",
   "metadata": {},
   "outputs": [],
   "source": [
    "class EmotionLSTM(nn.Module):\n",
    "    def __init__(self, input_shape, hidden_size, n_class):\n",
    "        super(EmotionLSTM, self).__init__()\n",
    "        self.lstm1 = nn.LSTM(input_size=input_shape[1], hidden_size=hidden_size, batch_first=True)\n",
    "        self.lstm2 = nn.LSTM(input_size=hidden_size, hidden_size=hidden_size, batch_first=True)\n",
    "        self.fc = nn.Linear(hidden_size, n_class)\n",
    "\n",
    "    def forward(self, x):\n",
    "        x, _ = self.lstm1(x)\n",
    "        x, _ = self.lstm2(x)\n",
    "        x = x[:, -1, :] \n",
    "        x = self.fc(x)\n",
    "        return x"
   ]
  },
  {
   "cell_type": "code",
   "execution_count": 18,
   "id": "9910a3af",
   "metadata": {},
   "outputs": [],
   "source": [
    "class EmotionLSTM(nn.Module):\n",
    "    def __init__(self, input_shape, hidden_size, n_class):\n",
    "        super(EmotionLSTM, self).__init__()\n",
    "        self.lstm1 = nn.LSTM(input_size=input_shape[1], hidden_size=hidden_size, batch_first=True, dropout = 0.3)\n",
    "        self.lstm2 = nn.LSTM(input_size=hidden_size, hidden_size=hidden_size, batch_first=True, dropout=0.3)\n",
    "        self.lstm3 = nn.LSTM(input_size=hidden_size, hidden_size=hidden_size//2, batch_first=True, dropout=0.3)\n",
    "        self.fc = nn.Linear(hidden_size//2, n_class)\n",
    "\n",
    "    def forward(self, x):\n",
    "        x, _ = self.lstm1(x)\n",
    "        x, _ = self.lstm2(x)\n",
    "        x, _ = self.lstm3(x)\n",
    "        x = x[:, -1, :] \n",
    "        x = self.fc(x)\n",
    "        return x"
   ]
  },
  {
   "cell_type": "code",
   "execution_count": 56,
   "id": "07d1fc4a",
   "metadata": {},
   "outputs": [],
   "source": [
    "dataset = EmotionDataset(df)\n",
    "dataset_size = len(dataset)\n",
    "train_size = int(dataset_size * 0.8)\n",
    "validation_size = int(dataset_size * 0.1)\n",
    "test_size = dataset_size - train_size - validation_size\n",
    "\n",
    "train_dataset, validation_dataset, test_dataset = random_split(dataset, [train_size, validation_size, test_size])"
   ]
  },
  {
   "cell_type": "code",
   "execution_count": 19,
   "id": "d14df6c2",
   "metadata": {},
   "outputs": [],
   "source": [
    "dataset = EmotionDataset(X,y)\n",
    "dataset_size = len(dataset)\n",
    "train_size = int(dataset_size * 0.8)\n",
    "validation_size = int(dataset_size * 0.1)\n",
    "test_size = dataset_size - train_size - validation_size\n",
    "\n",
    "train_dataset, validation_dataset, test_dataset = random_split(dataset, [train_size, validation_size, test_size])"
   ]
  },
  {
   "cell_type": "code",
   "execution_count": 20,
   "id": "ba80c7aa",
   "metadata": {},
   "outputs": [],
   "source": [
    "dataloader = DataLoader(train_dataset, batch_size=16, shuffle=True, drop_last=True)\n",
    "validation_loader = DataLoader(validation_dataset, batch_size=4, shuffle=True, drop_last=True)\n",
    "test_loader = DataLoader(test_dataset, batch_size=4, shuffle=True, drop_last=True)"
   ]
  },
  {
   "cell_type": "code",
   "execution_count": 117,
   "id": "80f15422",
   "metadata": {},
   "outputs": [],
   "source": [
    "y, sr = preprocess_audio(\"../input.wav\")\n",
    "zcr = librosa.feature.zero_crossing_rate(y, frame_length=FRAME_LENGTH, hop_length=HOP_LENGTH)\n",
    "rms = librosa.feature.rms(y=y, frame_length=FRAME_LENGTH, hop_length=HOP_LENGTH)\n",
    "mfccs = librosa.feature.mfcc(y=y, sr=sr, n_mfcc=13, hop_length=HOP_LENGTH)"
   ]
  },
  {
   "cell_type": "code",
   "execution_count": 112,
   "id": "56d7c05b",
   "metadata": {},
   "outputs": [],
   "source": [
    "testX = np.concatenate((\n",
    "    np.swapaxes(zcr, 0, 1), \n",
    "    np.swapaxes(rms, 0, 1), \n",
    "    np.swapaxes(mfccs, 0, 1)), \n",
    "    axis=1\n",
    ")\n",
    "testX = testX.astype('float32')"
   ]
  },
  {
   "cell_type": "code",
   "execution_count": 95,
   "id": "be7c588a",
   "metadata": {},
   "outputs": [
    {
     "data": {
      "text/plain": [
       "(352, 15)"
      ]
     },
     "execution_count": 95,
     "metadata": {},
     "output_type": "execute_result"
    }
   ],
   "source": [
    "X.shape[1:3]"
   ]
  },
  {
   "cell_type": "code",
   "execution_count": 61,
   "id": "29f7f109",
   "metadata": {},
   "outputs": [],
   "source": [
    "model = EmotionLSTM(X.shape[1:3],256,6)"
   ]
  },
  {
   "cell_type": "code",
   "execution_count": 21,
   "id": "f35b701e",
   "metadata": {},
   "outputs": [],
   "source": [
    "model = EmotionLSTM(X.shape[1:3],512,6)"
   ]
  },
  {
   "cell_type": "code",
   "execution_count": 38,
   "id": "e4e96f80",
   "metadata": {},
   "outputs": [],
   "source": [
    "model = EmotionLSTM((352, 13),512,6)"
   ]
  },
  {
   "cell_type": "code",
   "execution_count": 19,
   "id": "70ecbb80",
   "metadata": {},
   "outputs": [],
   "source": [
    "model = resnet18(pretrained=True)\n",
    "num_features = model.fc.in_features\n",
    "num_classes = 6\n",
    "model.fc = nn.Linear(num_features, num_classes) "
   ]
  },
  {
   "cell_type": "code",
   "execution_count": 22,
   "id": "685da38b",
   "metadata": {},
   "outputs": [],
   "source": [
    "device = torch.device(\"cuda\" if torch.cuda.is_available() else \"cpu\")\n",
    "model = model.to(device)"
   ]
  },
  {
   "cell_type": "code",
   "execution_count": 23,
   "id": "4bfc5f71",
   "metadata": {},
   "outputs": [],
   "source": [
    "criterion = nn.CrossEntropyLoss()\n",
    "optimizer = optim.Adam(model.parameters(), lr=0.001)"
   ]
  },
  {
   "cell_type": "code",
   "execution_count": 32,
   "id": "3e201d42",
   "metadata": {},
   "outputs": [
    {
     "data": {
      "text/plain": [
       "15"
      ]
     },
     "execution_count": 32,
     "metadata": {},
     "output_type": "execute_result"
    }
   ],
   "source": [
    "len(X[0][0])"
   ]
  },
  {
   "cell_type": "code",
   "execution_count": 24,
   "id": "721395ed",
   "metadata": {},
   "outputs": [],
   "source": [
    "def test(model, test_loader):\n",
    "    model.eval()\n",
    "    correct = 0\n",
    "    total = 0\n",
    "\n",
    "    with torch.no_grad():\n",
    "        for images, labels in tqdm(test_loader):\n",
    "            images = images.to(device)\n",
    "            labels = labels.to(device)\n",
    "\n",
    "            outputs = model(images)\n",
    "            _, predicted = torch.max(outputs.data, 1)\n",
    "            total += labels.size(0)\n",
    "            correct += (predicted == labels).sum().item()\n",
    "\n",
    "    accuracy = 100 * correct / total\n",
    "    print(f'Test Accuracy: {accuracy}%')\n",
    "    return accuracy"
   ]
  },
  {
   "cell_type": "code",
   "execution_count": 72,
   "id": "f65a28b8",
   "metadata": {},
   "outputs": [],
   "source": [
    "from sklearn.metrics import f1_score"
   ]
  },
  {
   "cell_type": "code",
   "execution_count": 93,
   "id": "1c719fed",
   "metadata": {},
   "outputs": [],
   "source": [
    "def f1score(model, test_loader):\n",
    "    model.eval()\n",
    "    correct = 0\n",
    "    total = 0\n",
    "    predict = []\n",
    "    label_data = []\n",
    "\n",
    "    with torch.no_grad():\n",
    "        for images, labels in tqdm(test_loader):\n",
    "            images = images.to(device)\n",
    "            labels = labels.to(device)\n",
    "            label_data = label_data + labels.squeeze().tolist()\n",
    "\n",
    "            outputs = model(images)\n",
    "            _, predicted = torch.max(outputs.data, 1)\n",
    "            total += labels.size(0)\n",
    "            correct += (predicted == labels).sum().item()\n",
    "            predict = predict + predicted.squeeze().tolist()\n",
    "\n",
    "    accuracy = 100 * correct / total\n",
    "    f1 = f1_score(label_data, predict,average=\"macro\")\n",
    "    print(f'Accuracy: {accuracy}%')\n",
    "    print(f'f1 score: {f1*100}%')\n",
    "    return accuracy"
   ]
  },
  {
   "cell_type": "code",
   "execution_count": 94,
   "id": "c697265a",
   "metadata": {},
   "outputs": [
    {
     "name": "stderr",
     "output_type": "stream",
     "text": [
      "100%|████████████████████████████████████████████████████████████████████████████████| 108/108 [00:03<00:00, 34.59it/s]"
     ]
    },
    {
     "name": "stdout",
     "output_type": "stream",
     "text": [
      "Accuracy: 81.25%\n",
      "f1 score: 81.48568868514351%\n"
     ]
    },
    {
     "name": "stderr",
     "output_type": "stream",
     "text": [
      "\n"
     ]
    },
    {
     "data": {
      "text/plain": [
       "81.25"
      ]
     },
     "execution_count": 94,
     "metadata": {},
     "output_type": "execute_result"
    }
   ],
   "source": [
    "f1score(model,validation_loader)"
   ]
  },
  {
   "cell_type": "code",
   "execution_count": 25,
   "id": "ef843c32",
   "metadata": {},
   "outputs": [],
   "source": [
    "num_epochs = 200"
   ]
  },
  {
   "cell_type": "code",
   "execution_count": 27,
   "id": "e754f4b6",
   "metadata": {},
   "outputs": [
    {
     "name": "stderr",
     "output_type": "stream",
     "text": [
      "Epoch [1/200]: 100%|██████████████████████████████████████████████████████| 216/216 [00:17<00:00, 12.16it/s, loss=1.56]\n",
      "100%|████████████████████████████████████████████████████████████████████████████████| 108/108 [00:03<00:00, 32.42it/s]\n"
     ]
    },
    {
     "name": "stdout",
     "output_type": "stream",
     "text": [
      "Test Accuracy: 35.18518518518518%\n"
     ]
    },
    {
     "name": "stderr",
     "output_type": "stream",
     "text": [
      "Epoch [2/200]: 100%|██████████████████████████████████████████████████████| 216/216 [00:17<00:00, 12.02it/s, loss=1.43]\n",
      "100%|████████████████████████████████████████████████████████████████████████████████| 108/108 [00:03<00:00, 30.84it/s]\n"
     ]
    },
    {
     "name": "stdout",
     "output_type": "stream",
     "text": [
      "Test Accuracy: 35.879629629629626%\n"
     ]
    },
    {
     "name": "stderr",
     "output_type": "stream",
     "text": [
      "Epoch [3/200]: 100%|██████████████████████████████████████████████████████| 216/216 [00:17<00:00, 12.14it/s, loss=1.39]\n",
      "100%|████████████████████████████████████████████████████████████████████████████████| 108/108 [00:03<00:00, 32.22it/s]\n"
     ]
    },
    {
     "name": "stdout",
     "output_type": "stream",
     "text": [
      "Test Accuracy: 35.648148148148145%\n"
     ]
    },
    {
     "name": "stderr",
     "output_type": "stream",
     "text": [
      "Epoch [4/200]: 100%|██████████████████████████████████████████████████████| 216/216 [00:17<00:00, 12.23it/s, loss=1.37]\n",
      "100%|████████████████████████████████████████████████████████████████████████████████| 108/108 [00:03<00:00, 32.63it/s]\n"
     ]
    },
    {
     "name": "stdout",
     "output_type": "stream",
     "text": [
      "Test Accuracy: 38.425925925925924%\n"
     ]
    },
    {
     "name": "stderr",
     "output_type": "stream",
     "text": [
      "Epoch [5/200]: 100%|██████████████████████████████████████████████████████| 216/216 [00:17<00:00, 12.15it/s, loss=1.29]\n",
      "100%|████████████████████████████████████████████████████████████████████████████████| 108/108 [00:03<00:00, 31.72it/s]\n"
     ]
    },
    {
     "name": "stdout",
     "output_type": "stream",
     "text": [
      "Test Accuracy: 43.51851851851852%\n"
     ]
    },
    {
     "name": "stderr",
     "output_type": "stream",
     "text": [
      "Epoch [6/200]: 100%|██████████████████████████████████████████████████████| 216/216 [00:17<00:00, 12.26it/s, loss=1.29]\n",
      "100%|████████████████████████████████████████████████████████████████████████████████| 108/108 [00:03<00:00, 32.93it/s]\n"
     ]
    },
    {
     "name": "stdout",
     "output_type": "stream",
     "text": [
      "Test Accuracy: 45.601851851851855%\n"
     ]
    },
    {
     "name": "stderr",
     "output_type": "stream",
     "text": [
      "Epoch [7/200]: 100%|██████████████████████████████████████████████████████| 216/216 [00:17<00:00, 12.32it/s, loss=1.27]\n",
      "100%|████████████████████████████████████████████████████████████████████████████████| 108/108 [00:03<00:00, 32.69it/s]\n"
     ]
    },
    {
     "name": "stdout",
     "output_type": "stream",
     "text": [
      "Test Accuracy: 43.98148148148148%\n"
     ]
    },
    {
     "name": "stderr",
     "output_type": "stream",
     "text": [
      "Epoch [8/200]: 100%|██████████████████████████████████████████████████████| 216/216 [00:17<00:00, 12.12it/s, loss=1.23]\n",
      "100%|████████████████████████████████████████████████████████████████████████████████| 108/108 [00:03<00:00, 32.61it/s]\n"
     ]
    },
    {
     "name": "stdout",
     "output_type": "stream",
     "text": [
      "Test Accuracy: 48.148148148148145%\n"
     ]
    },
    {
     "name": "stderr",
     "output_type": "stream",
     "text": [
      "Epoch [9/200]: 100%|██████████████████████████████████████████████████████| 216/216 [00:17<00:00, 12.16it/s, loss=1.22]\n",
      "100%|████████████████████████████████████████████████████████████████████████████████| 108/108 [00:03<00:00, 32.36it/s]\n"
     ]
    },
    {
     "name": "stdout",
     "output_type": "stream",
     "text": [
      "Test Accuracy: 53.7037037037037%\n"
     ]
    },
    {
     "name": "stderr",
     "output_type": "stream",
     "text": [
      "Epoch [10/200]: 100%|█████████████████████████████████████████████████████| 216/216 [00:17<00:00, 12.31it/s, loss=1.17]\n",
      "100%|████████████████████████████████████████████████████████████████████████████████| 108/108 [00:03<00:00, 32.56it/s]\n"
     ]
    },
    {
     "name": "stdout",
     "output_type": "stream",
     "text": [
      "Test Accuracy: 52.5462962962963%\n"
     ]
    },
    {
     "name": "stderr",
     "output_type": "stream",
     "text": [
      "Epoch [11/200]: 100%|█████████████████████████████████████████████████████| 216/216 [00:17<00:00, 12.35it/s, loss=1.11]\n",
      "100%|████████████████████████████████████████████████████████████████████████████████| 108/108 [00:03<00:00, 32.73it/s]\n"
     ]
    },
    {
     "name": "stdout",
     "output_type": "stream",
     "text": [
      "Test Accuracy: 52.77777777777778%\n"
     ]
    },
    {
     "name": "stderr",
     "output_type": "stream",
     "text": [
      "Epoch [12/200]: 100%|█████████████████████████████████████████████████████| 216/216 [00:17<00:00, 12.40it/s, loss=1.09]\n",
      "100%|████████████████████████████████████████████████████████████████████████████████| 108/108 [00:03<00:00, 32.82it/s]\n"
     ]
    },
    {
     "name": "stdout",
     "output_type": "stream",
     "text": [
      "Test Accuracy: 51.157407407407405%\n"
     ]
    },
    {
     "name": "stderr",
     "output_type": "stream",
     "text": [
      "Epoch [13/200]: 100%|█████████████████████████████████████████████████████| 216/216 [00:17<00:00, 12.40it/s, loss=1.05]\n",
      "100%|████████████████████████████████████████████████████████████████████████████████| 108/108 [00:03<00:00, 32.68it/s]\n"
     ]
    },
    {
     "name": "stdout",
     "output_type": "stream",
     "text": [
      "Test Accuracy: 54.166666666666664%\n"
     ]
    },
    {
     "name": "stderr",
     "output_type": "stream",
     "text": [
      "Epoch [14/200]: 100%|█████████████████████████████████████████████████████| 216/216 [00:17<00:00, 12.55it/s, loss=1.06]\n",
      "100%|████████████████████████████████████████████████████████████████████████████████| 108/108 [00:03<00:00, 32.70it/s]\n"
     ]
    },
    {
     "name": "stdout",
     "output_type": "stream",
     "text": [
      "Test Accuracy: 54.861111111111114%\n"
     ]
    },
    {
     "name": "stderr",
     "output_type": "stream",
     "text": [
      "Epoch [15/200]: 100%|█████████████████████████████████████████████████████| 216/216 [00:17<00:00, 12.41it/s, loss=1.02]\n",
      "100%|████████████████████████████████████████████████████████████████████████████████| 108/108 [00:03<00:00, 32.51it/s]\n"
     ]
    },
    {
     "name": "stdout",
     "output_type": "stream",
     "text": [
      "Test Accuracy: 55.78703703703704%\n"
     ]
    },
    {
     "name": "stderr",
     "output_type": "stream",
     "text": [
      "Epoch [16/200]: 100%|████████████████████████████████████████████████████| 216/216 [00:17<00:00, 12.29it/s, loss=0.981]\n",
      "100%|████████████████████████████████████████████████████████████████████████████████| 108/108 [00:03<00:00, 32.82it/s]\n"
     ]
    },
    {
     "name": "stdout",
     "output_type": "stream",
     "text": [
      "Test Accuracy: 53.7037037037037%\n"
     ]
    },
    {
     "name": "stderr",
     "output_type": "stream",
     "text": [
      "Epoch [17/200]: 100%|█████████████████████████████████████████████████████| 216/216 [00:17<00:00, 12.35it/s, loss=1.01]\n",
      "100%|████████████████████████████████████████████████████████████████████████████████| 108/108 [00:03<00:00, 32.63it/s]\n"
     ]
    },
    {
     "name": "stdout",
     "output_type": "stream",
     "text": [
      "Test Accuracy: 56.25%\n"
     ]
    },
    {
     "name": "stderr",
     "output_type": "stream",
     "text": [
      "Epoch [18/200]: 100%|████████████████████████████████████████████████████| 216/216 [00:17<00:00, 12.41it/s, loss=0.995]\n",
      "100%|████████████████████████████████████████████████████████████████████████████████| 108/108 [00:03<00:00, 32.41it/s]\n"
     ]
    },
    {
     "name": "stdout",
     "output_type": "stream",
     "text": [
      "Test Accuracy: 58.7962962962963%\n"
     ]
    },
    {
     "name": "stderr",
     "output_type": "stream",
     "text": [
      "Epoch [19/200]: 100%|████████████████████████████████████████████████████| 216/216 [00:17<00:00, 12.34it/s, loss=0.957]\n",
      "100%|████████████████████████████████████████████████████████████████████████████████| 108/108 [00:03<00:00, 32.79it/s]\n"
     ]
    },
    {
     "name": "stdout",
     "output_type": "stream",
     "text": [
      "Test Accuracy: 55.78703703703704%\n"
     ]
    },
    {
     "name": "stderr",
     "output_type": "stream",
     "text": [
      "Epoch [20/200]: 100%|████████████████████████████████████████████████████| 216/216 [00:17<00:00, 12.31it/s, loss=0.951]\n",
      "100%|████████████████████████████████████████████████████████████████████████████████| 108/108 [00:03<00:00, 33.01it/s]\n"
     ]
    },
    {
     "name": "stdout",
     "output_type": "stream",
     "text": [
      "Test Accuracy: 53.93518518518518%\n"
     ]
    },
    {
     "name": "stderr",
     "output_type": "stream",
     "text": [
      "Epoch [21/200]: 100%|████████████████████████████████████████████████████| 216/216 [00:17<00:00, 12.30it/s, loss=0.959]\n",
      "100%|████████████████████████████████████████████████████████████████████████████████| 108/108 [00:03<00:00, 32.67it/s]\n"
     ]
    },
    {
     "name": "stdout",
     "output_type": "stream",
     "text": [
      "Test Accuracy: 59.49074074074074%\n"
     ]
    },
    {
     "name": "stderr",
     "output_type": "stream",
     "text": [
      "Epoch [22/200]: 100%|████████████████████████████████████████████████████| 216/216 [00:17<00:00, 12.26it/s, loss=0.898]\n",
      "100%|████████████████████████████████████████████████████████████████████████████████| 108/108 [00:03<00:00, 32.38it/s]\n"
     ]
    },
    {
     "name": "stdout",
     "output_type": "stream",
     "text": [
      "Test Accuracy: 62.5%\n"
     ]
    },
    {
     "name": "stderr",
     "output_type": "stream",
     "text": [
      "Epoch [23/200]: 100%|████████████████████████████████████████████████████| 216/216 [00:17<00:00, 12.44it/s, loss=0.889]\n",
      "100%|████████████████████████████████████████████████████████████████████████████████| 108/108 [00:03<00:00, 32.82it/s]\n"
     ]
    },
    {
     "name": "stdout",
     "output_type": "stream",
     "text": [
      "Test Accuracy: 61.342592592592595%\n"
     ]
    },
    {
     "name": "stderr",
     "output_type": "stream",
     "text": [
      "Epoch [24/200]: 100%|█████████████████████████████████████████████████████| 216/216 [00:17<00:00, 12.38it/s, loss=0.87]\n",
      "100%|████████████████████████████████████████████████████████████████████████████████| 108/108 [00:03<00:00, 32.96it/s]\n"
     ]
    },
    {
     "name": "stdout",
     "output_type": "stream",
     "text": [
      "Test Accuracy: 62.96296296296296%\n"
     ]
    },
    {
     "name": "stderr",
     "output_type": "stream",
     "text": [
      "Epoch [25/200]: 100%|████████████████████████████████████████████████████| 216/216 [00:17<00:00, 12.37it/s, loss=0.869]\n",
      "100%|████████████████████████████████████████████████████████████████████████████████| 108/108 [00:03<00:00, 32.85it/s]\n"
     ]
    },
    {
     "name": "stdout",
     "output_type": "stream",
     "text": [
      "Test Accuracy: 62.03703703703704%\n"
     ]
    },
    {
     "name": "stderr",
     "output_type": "stream",
     "text": [
      "Epoch [26/200]: 100%|████████████████████████████████████████████████████| 216/216 [00:17<00:00, 12.36it/s, loss=0.862]\n",
      "100%|████████████████████████████████████████████████████████████████████████████████| 108/108 [00:03<00:00, 32.66it/s]\n"
     ]
    },
    {
     "name": "stdout",
     "output_type": "stream",
     "text": [
      "Test Accuracy: 61.80555555555556%\n"
     ]
    },
    {
     "name": "stderr",
     "output_type": "stream",
     "text": [
      "Epoch [27/200]: 100%|████████████████████████████████████████████████████| 216/216 [00:17<00:00, 12.32it/s, loss=0.846]\n",
      "100%|████████████████████████████████████████████████████████████████████████████████| 108/108 [00:03<00:00, 32.28it/s]\n"
     ]
    },
    {
     "name": "stdout",
     "output_type": "stream",
     "text": [
      "Test Accuracy: 65.27777777777777%\n"
     ]
    },
    {
     "name": "stderr",
     "output_type": "stream",
     "text": [
      "Epoch [28/200]: 100%|████████████████████████████████████████████████████| 216/216 [00:17<00:00, 12.36it/s, loss=0.833]\n",
      "100%|████████████████████████████████████████████████████████████████████████████████| 108/108 [00:03<00:00, 32.64it/s]\n"
     ]
    },
    {
     "name": "stdout",
     "output_type": "stream",
     "text": [
      "Test Accuracy: 61.80555555555556%\n"
     ]
    },
    {
     "name": "stderr",
     "output_type": "stream",
     "text": [
      "Epoch [29/200]: 100%|████████████████████████████████████████████████████| 216/216 [00:17<00:00, 12.44it/s, loss=0.848]\n",
      "100%|████████████████████████████████████████████████████████████████████████████████| 108/108 [00:03<00:00, 32.69it/s]\n"
     ]
    },
    {
     "name": "stdout",
     "output_type": "stream",
     "text": [
      "Test Accuracy: 65.04629629629629%\n"
     ]
    },
    {
     "name": "stderr",
     "output_type": "stream",
     "text": [
      "Epoch [30/200]: 100%|████████████████████████████████████████████████████| 216/216 [00:17<00:00, 12.34it/s, loss=0.855]\n",
      "100%|████████████████████████████████████████████████████████████████████████████████| 108/108 [00:03<00:00, 32.31it/s]\n"
     ]
    },
    {
     "name": "stdout",
     "output_type": "stream",
     "text": [
      "Test Accuracy: 65.50925925925925%\n"
     ]
    },
    {
     "name": "stderr",
     "output_type": "stream",
     "text": [
      "Epoch [31/200]: 100%|████████████████████████████████████████████████████| 216/216 [00:17<00:00, 12.29it/s, loss=0.818]\n",
      "100%|████████████████████████████████████████████████████████████████████████████████| 108/108 [00:03<00:00, 32.11it/s]\n"
     ]
    },
    {
     "name": "stdout",
     "output_type": "stream",
     "text": [
      "Test Accuracy: 61.111111111111114%\n"
     ]
    },
    {
     "name": "stderr",
     "output_type": "stream",
     "text": [
      "Epoch [32/200]: 100%|██████████████████████████████████████████████████████| 216/216 [00:17<00:00, 12.33it/s, loss=0.8]\n",
      "100%|████████████████████████████████████████████████████████████████████████████████| 108/108 [00:03<00:00, 32.51it/s]\n"
     ]
    },
    {
     "name": "stdout",
     "output_type": "stream",
     "text": [
      "Test Accuracy: 68.98148148148148%\n"
     ]
    },
    {
     "name": "stderr",
     "output_type": "stream",
     "text": [
      "Epoch [33/200]: 100%|████████████████████████████████████████████████████| 216/216 [00:17<00:00, 12.29it/s, loss=0.804]\n",
      "100%|████████████████████████████████████████████████████████████████████████████████| 108/108 [00:03<00:00, 32.93it/s]\n"
     ]
    },
    {
     "name": "stdout",
     "output_type": "stream",
     "text": [
      "Test Accuracy: 67.12962962962963%\n"
     ]
    },
    {
     "name": "stderr",
     "output_type": "stream",
     "text": [
      "Epoch [34/200]: 100%|████████████████████████████████████████████████████| 216/216 [00:17<00:00, 12.25it/s, loss=0.814]\n",
      "100%|████████████████████████████████████████████████████████████████████████████████| 108/108 [00:03<00:00, 32.39it/s]\n"
     ]
    },
    {
     "name": "stdout",
     "output_type": "stream",
     "text": [
      "Test Accuracy: 66.43518518518519%\n"
     ]
    },
    {
     "name": "stderr",
     "output_type": "stream",
     "text": [
      "Epoch [35/200]: 100%|█████████████████████████████████████████████████████| 216/216 [00:17<00:00, 12.37it/s, loss=0.74]\n",
      "100%|████████████████████████████████████████████████████████████████████████████████| 108/108 [00:03<00:00, 31.96it/s]\n"
     ]
    },
    {
     "name": "stdout",
     "output_type": "stream",
     "text": [
      "Test Accuracy: 68.28703703703704%\n"
     ]
    },
    {
     "name": "stderr",
     "output_type": "stream",
     "text": [
      "Epoch [36/200]: 100%|████████████████████████████████████████████████████| 216/216 [00:17<00:00, 12.15it/s, loss=0.731]\n",
      "100%|████████████████████████████████████████████████████████████████████████████████| 108/108 [00:03<00:00, 32.94it/s]\n"
     ]
    },
    {
     "name": "stdout",
     "output_type": "stream",
     "text": [
      "Test Accuracy: 63.888888888888886%\n"
     ]
    },
    {
     "name": "stderr",
     "output_type": "stream",
     "text": [
      "Epoch [37/200]: 100%|████████████████████████████████████████████████████| 216/216 [00:17<00:00, 12.12it/s, loss=0.771]\n",
      "100%|████████████████████████████████████████████████████████████████████████████████| 108/108 [00:03<00:00, 32.73it/s]\n"
     ]
    },
    {
     "name": "stdout",
     "output_type": "stream",
     "text": [
      "Test Accuracy: 67.12962962962963%\n"
     ]
    },
    {
     "name": "stderr",
     "output_type": "stream",
     "text": [
      "Epoch [38/200]: 100%|████████████████████████████████████████████████████| 216/216 [00:18<00:00, 11.93it/s, loss=0.757]\n",
      "100%|████████████████████████████████████████████████████████████████████████████████| 108/108 [00:03<00:00, 30.96it/s]\n"
     ]
    },
    {
     "name": "stdout",
     "output_type": "stream",
     "text": [
      "Test Accuracy: 72.22222222222223%\n"
     ]
    },
    {
     "name": "stderr",
     "output_type": "stream",
     "text": [
      "Epoch [39/200]: 100%|████████████████████████████████████████████████████| 216/216 [00:17<00:00, 12.54it/s, loss=0.686]\n",
      "100%|████████████████████████████████████████████████████████████████████████████████| 108/108 [00:03<00:00, 32.38it/s]\n"
     ]
    },
    {
     "name": "stdout",
     "output_type": "stream",
     "text": [
      "Test Accuracy: 68.51851851851852%\n"
     ]
    },
    {
     "name": "stderr",
     "output_type": "stream",
     "text": [
      "Epoch [40/200]: 100%|████████████████████████████████████████████████████| 216/216 [00:17<00:00, 12.26it/s, loss=0.757]\n",
      "100%|████████████████████████████████████████████████████████████████████████████████| 108/108 [00:03<00:00, 31.47it/s]\n"
     ]
    },
    {
     "name": "stdout",
     "output_type": "stream",
     "text": [
      "Test Accuracy: 66.20370370370371%\n"
     ]
    },
    {
     "name": "stderr",
     "output_type": "stream",
     "text": [
      "Epoch [41/200]: 100%|████████████████████████████████████████████████████| 216/216 [00:17<00:00, 12.16it/s, loss=0.693]\n",
      "100%|████████████████████████████████████████████████████████████████████████████████| 108/108 [00:03<00:00, 31.62it/s]\n"
     ]
    },
    {
     "name": "stdout",
     "output_type": "stream",
     "text": [
      "Test Accuracy: 68.05555555555556%\n"
     ]
    },
    {
     "name": "stderr",
     "output_type": "stream",
     "text": [
      "Epoch [42/200]: 100%|████████████████████████████████████████████████████| 216/216 [00:17<00:00, 12.15it/s, loss=0.688]\n",
      "100%|████████████████████████████████████████████████████████████████████████████████| 108/108 [00:03<00:00, 31.43it/s]\n"
     ]
    },
    {
     "name": "stdout",
     "output_type": "stream",
     "text": [
      "Test Accuracy: 67.12962962962963%\n"
     ]
    },
    {
     "name": "stderr",
     "output_type": "stream",
     "text": [
      "Epoch [43/200]: 100%|████████████████████████████████████████████████████| 216/216 [00:18<00:00, 11.84it/s, loss=0.705]\n",
      "100%|████████████████████████████████████████████████████████████████████████████████| 108/108 [00:03<00:00, 31.79it/s]\n"
     ]
    },
    {
     "name": "stdout",
     "output_type": "stream",
     "text": [
      "Test Accuracy: 69.44444444444444%\n"
     ]
    },
    {
     "name": "stderr",
     "output_type": "stream",
     "text": [
      "Epoch [44/200]: 100%|██████████████████████████████████████████████████████| 216/216 [00:17<00:00, 12.04it/s, loss=0.7]\n",
      "100%|████████████████████████████████████████████████████████████████████████████████| 108/108 [00:03<00:00, 30.78it/s]\n"
     ]
    },
    {
     "name": "stdout",
     "output_type": "stream",
     "text": [
      "Test Accuracy: 64.35185185185185%\n"
     ]
    },
    {
     "name": "stderr",
     "output_type": "stream",
     "text": [
      "Epoch [45/200]: 100%|████████████████████████████████████████████████████| 216/216 [00:18<00:00, 11.68it/s, loss=0.651]\n",
      "100%|████████████████████████████████████████████████████████████████████████████████| 108/108 [00:03<00:00, 31.93it/s]\n"
     ]
    },
    {
     "name": "stdout",
     "output_type": "stream",
     "text": [
      "Test Accuracy: 68.75%\n"
     ]
    },
    {
     "name": "stderr",
     "output_type": "stream",
     "text": [
      "Epoch [46/200]: 100%|████████████████████████████████████████████████████| 216/216 [00:18<00:00, 11.86it/s, loss=0.667]\n",
      "100%|████████████████████████████████████████████████████████████████████████████████| 108/108 [00:03<00:00, 29.83it/s]\n"
     ]
    },
    {
     "name": "stdout",
     "output_type": "stream",
     "text": [
      "Test Accuracy: 68.75%\n"
     ]
    },
    {
     "name": "stderr",
     "output_type": "stream",
     "text": [
      "Epoch [47/200]: 100%|█████████████████████████████████████████████████████| 216/216 [00:18<00:00, 11.59it/s, loss=0.65]\n",
      "100%|████████████████████████████████████████████████████████████████████████████████| 108/108 [00:03<00:00, 30.16it/s]\n"
     ]
    },
    {
     "name": "stdout",
     "output_type": "stream",
     "text": [
      "Test Accuracy: 68.28703703703704%\n"
     ]
    },
    {
     "name": "stderr",
     "output_type": "stream",
     "text": [
      "Epoch [48/200]: 100%|████████████████████████████████████████████████████| 216/216 [00:18<00:00, 11.89it/s, loss=0.653]\n",
      "100%|████████████████████████████████████████████████████████████████████████████████| 108/108 [00:03<00:00, 32.06it/s]\n"
     ]
    },
    {
     "name": "stdout",
     "output_type": "stream",
     "text": [
      "Test Accuracy: 68.98148148148148%\n"
     ]
    },
    {
     "name": "stderr",
     "output_type": "stream",
     "text": [
      "Epoch [49/200]: 100%|████████████████████████████████████████████████████| 216/216 [00:17<00:00, 12.10it/s, loss=0.597]\n",
      "100%|████████████████████████████████████████████████████████████████████████████████| 108/108 [00:03<00:00, 32.27it/s]\n"
     ]
    },
    {
     "name": "stdout",
     "output_type": "stream",
     "text": [
      "Test Accuracy: 72.91666666666667%\n"
     ]
    },
    {
     "name": "stderr",
     "output_type": "stream",
     "text": [
      "Epoch [50/200]: 100%|████████████████████████████████████████████████████| 216/216 [00:18<00:00, 11.69it/s, loss=0.632]\n",
      "100%|████████████████████████████████████████████████████████████████████████████████| 108/108 [00:03<00:00, 30.49it/s]\n"
     ]
    },
    {
     "name": "stdout",
     "output_type": "stream",
     "text": [
      "Test Accuracy: 72.68518518518519%\n"
     ]
    },
    {
     "name": "stderr",
     "output_type": "stream",
     "text": [
      "Epoch [51/200]: 100%|████████████████████████████████████████████████████| 216/216 [00:18<00:00, 11.99it/s, loss=0.642]\n",
      "100%|████████████████████████████████████████████████████████████████████████████████| 108/108 [00:03<00:00, 33.02it/s]\n"
     ]
    },
    {
     "name": "stdout",
     "output_type": "stream",
     "text": [
      "Test Accuracy: 69.9074074074074%\n"
     ]
    },
    {
     "name": "stderr",
     "output_type": "stream",
     "text": [
      "Epoch [52/200]: 100%|█████████████████████████████████████████████████████| 216/216 [00:17<00:00, 12.33it/s, loss=0.59]\n",
      "100%|████████████████████████████████████████████████████████████████████████████████| 108/108 [00:03<00:00, 33.40it/s]\n"
     ]
    },
    {
     "name": "stdout",
     "output_type": "stream",
     "text": [
      "Test Accuracy: 72.45370370370371%\n"
     ]
    },
    {
     "name": "stderr",
     "output_type": "stream",
     "text": [
      "Epoch [53/200]: 100%|████████████████████████████████████████████████████| 216/216 [00:17<00:00, 12.42it/s, loss=0.625]\n",
      "100%|████████████████████████████████████████████████████████████████████████████████| 108/108 [00:03<00:00, 33.44it/s]\n"
     ]
    },
    {
     "name": "stdout",
     "output_type": "stream",
     "text": [
      "Test Accuracy: 70.13888888888889%\n"
     ]
    },
    {
     "name": "stderr",
     "output_type": "stream",
     "text": [
      "Epoch [54/200]: 100%|████████████████████████████████████████████████████| 216/216 [00:17<00:00, 12.38it/s, loss=0.582]\n",
      "100%|████████████████████████████████████████████████████████████████████████████████| 108/108 [00:03<00:00, 32.75it/s]\n"
     ]
    },
    {
     "name": "stdout",
     "output_type": "stream",
     "text": [
      "Test Accuracy: 72.45370370370371%\n"
     ]
    },
    {
     "name": "stderr",
     "output_type": "stream",
     "text": [
      "Epoch [55/200]: 100%|████████████████████████████████████████████████████| 216/216 [00:17<00:00, 12.03it/s, loss=0.608]\n",
      "100%|████████████████████████████████████████████████████████████████████████████████| 108/108 [00:03<00:00, 33.10it/s]\n"
     ]
    },
    {
     "name": "stdout",
     "output_type": "stream",
     "text": [
      "Test Accuracy: 72.45370370370371%\n"
     ]
    },
    {
     "name": "stderr",
     "output_type": "stream",
     "text": [
      "Epoch [56/200]: 100%|████████████████████████████████████████████████████| 216/216 [00:17<00:00, 12.53it/s, loss=0.564]\n",
      "100%|████████████████████████████████████████████████████████████████████████████████| 108/108 [00:03<00:00, 33.13it/s]\n"
     ]
    },
    {
     "name": "stdout",
     "output_type": "stream",
     "text": [
      "Test Accuracy: 74.76851851851852%\n"
     ]
    },
    {
     "name": "stderr",
     "output_type": "stream",
     "text": [
      "Epoch [57/200]: 100%|████████████████████████████████████████████████████| 216/216 [00:17<00:00, 12.04it/s, loss=0.592]\n",
      "100%|████████████████████████████████████████████████████████████████████████████████| 108/108 [00:03<00:00, 32.76it/s]\n"
     ]
    },
    {
     "name": "stdout",
     "output_type": "stream",
     "text": [
      "Test Accuracy: 73.8425925925926%\n"
     ]
    },
    {
     "name": "stderr",
     "output_type": "stream",
     "text": [
      "Epoch [58/200]: 100%|████████████████████████████████████████████████████| 216/216 [00:17<00:00, 12.27it/s, loss=0.569]\n",
      "100%|████████████████████████████████████████████████████████████████████████████████| 108/108 [00:03<00:00, 33.22it/s]\n"
     ]
    },
    {
     "name": "stdout",
     "output_type": "stream",
     "text": [
      "Test Accuracy: 73.37962962962963%\n"
     ]
    },
    {
     "name": "stderr",
     "output_type": "stream",
     "text": [
      "Epoch [59/200]: 100%|████████████████████████████████████████████████████| 216/216 [00:18<00:00, 11.90it/s, loss=0.555]\n",
      "100%|████████████████████████████████████████████████████████████████████████████████| 108/108 [00:03<00:00, 33.16it/s]\n"
     ]
    },
    {
     "name": "stdout",
     "output_type": "stream",
     "text": [
      "Test Accuracy: 75.92592592592592%\n"
     ]
    },
    {
     "name": "stderr",
     "output_type": "stream",
     "text": [
      "Epoch [60/200]: 100%|████████████████████████████████████████████████████| 216/216 [00:17<00:00, 12.35it/s, loss=0.554]\n",
      "100%|████████████████████████████████████████████████████████████████████████████████| 108/108 [00:03<00:00, 32.21it/s]\n"
     ]
    },
    {
     "name": "stdout",
     "output_type": "stream",
     "text": [
      "Test Accuracy: 75.92592592592592%\n"
     ]
    },
    {
     "name": "stderr",
     "output_type": "stream",
     "text": [
      "Epoch [61/200]: 100%|████████████████████████████████████████████████████| 216/216 [00:17<00:00, 12.06it/s, loss=0.563]\n",
      "100%|████████████████████████████████████████████████████████████████████████████████| 108/108 [00:03<00:00, 30.73it/s]\n"
     ]
    },
    {
     "name": "stdout",
     "output_type": "stream",
     "text": [
      "Test Accuracy: 74.53703703703704%\n"
     ]
    },
    {
     "name": "stderr",
     "output_type": "stream",
     "text": [
      "Epoch [62/200]: 100%|████████████████████████████████████████████████████| 216/216 [00:17<00:00, 12.19it/s, loss=0.546]\n",
      "100%|████████████████████████████████████████████████████████████████████████████████| 108/108 [00:03<00:00, 33.10it/s]\n"
     ]
    },
    {
     "name": "stdout",
     "output_type": "stream",
     "text": [
      "Test Accuracy: 70.60185185185185%\n"
     ]
    },
    {
     "name": "stderr",
     "output_type": "stream",
     "text": [
      "Epoch [63/200]: 100%|█████████████████████████████████████████████████████| 216/216 [00:17<00:00, 12.38it/s, loss=0.54]\n",
      "100%|████████████████████████████████████████████████████████████████████████████████| 108/108 [00:03<00:00, 33.35it/s]\n"
     ]
    },
    {
     "name": "stdout",
     "output_type": "stream",
     "text": [
      "Test Accuracy: 69.21296296296296%\n"
     ]
    },
    {
     "name": "stderr",
     "output_type": "stream",
     "text": [
      "Epoch [64/200]: 100%|████████████████████████████████████████████████████| 216/216 [00:17<00:00, 12.34it/s, loss=0.519]\n",
      "100%|████████████████████████████████████████████████████████████████████████████████| 108/108 [00:03<00:00, 31.90it/s]\n"
     ]
    },
    {
     "name": "stdout",
     "output_type": "stream",
     "text": [
      "Test Accuracy: 73.8425925925926%\n"
     ]
    },
    {
     "name": "stderr",
     "output_type": "stream",
     "text": [
      "Epoch [65/200]: 100%|████████████████████████████████████████████████████| 216/216 [00:17<00:00, 12.52it/s, loss=0.526]\n",
      "100%|████████████████████████████████████████████████████████████████████████████████| 108/108 [00:03<00:00, 32.82it/s]\n"
     ]
    },
    {
     "name": "stdout",
     "output_type": "stream",
     "text": [
      "Test Accuracy: 74.30555555555556%\n"
     ]
    },
    {
     "name": "stderr",
     "output_type": "stream",
     "text": [
      "Epoch [66/200]: 100%|████████████████████████████████████████████████████| 216/216 [00:17<00:00, 12.65it/s, loss=0.559]\n",
      "100%|████████████████████████████████████████████████████████████████████████████████| 108/108 [00:03<00:00, 33.40it/s]\n"
     ]
    },
    {
     "name": "stdout",
     "output_type": "stream",
     "text": [
      "Test Accuracy: 67.36111111111111%\n"
     ]
    },
    {
     "name": "stderr",
     "output_type": "stream",
     "text": [
      "Epoch [67/200]: 100%|████████████████████████████████████████████████████| 216/216 [00:17<00:00, 12.35it/s, loss=0.635]\n",
      "100%|████████████████████████████████████████████████████████████████████████████████| 108/108 [00:03<00:00, 32.09it/s]\n"
     ]
    },
    {
     "name": "stdout",
     "output_type": "stream",
     "text": [
      "Test Accuracy: 71.99074074074075%\n"
     ]
    },
    {
     "name": "stderr",
     "output_type": "stream",
     "text": [
      "Epoch [68/200]: 100%|█████████████████████████████████████████████████████| 216/216 [00:18<00:00, 11.89it/s, loss=0.51]\n",
      "100%|████████████████████████████████████████████████████████████████████████████████| 108/108 [00:03<00:00, 31.14it/s]\n"
     ]
    },
    {
     "name": "stdout",
     "output_type": "stream",
     "text": [
      "Test Accuracy: 74.30555555555556%\n"
     ]
    },
    {
     "name": "stderr",
     "output_type": "stream",
     "text": [
      "Epoch [69/200]: 100%|████████████████████████████████████████████████████| 216/216 [00:18<00:00, 11.91it/s, loss=0.515]\n",
      "100%|████████████████████████████████████████████████████████████████████████████████| 108/108 [00:03<00:00, 32.14it/s]\n"
     ]
    },
    {
     "name": "stdout",
     "output_type": "stream",
     "text": [
      "Test Accuracy: 74.30555555555556%\n"
     ]
    },
    {
     "name": "stderr",
     "output_type": "stream",
     "text": [
      "Epoch [70/200]: 100%|████████████████████████████████████████████████████| 216/216 [00:18<00:00, 11.95it/s, loss=0.504]\n",
      "100%|████████████████████████████████████████████████████████████████████████████████| 108/108 [00:03<00:00, 32.68it/s]\n"
     ]
    },
    {
     "name": "stdout",
     "output_type": "stream",
     "text": [
      "Test Accuracy: 73.37962962962963%\n"
     ]
    },
    {
     "name": "stderr",
     "output_type": "stream",
     "text": [
      "Epoch [71/200]: 100%|████████████████████████████████████████████████████| 216/216 [00:17<00:00, 12.01it/s, loss=0.496]\n",
      "100%|████████████████████████████████████████████████████████████████████████████████| 108/108 [00:03<00:00, 32.21it/s]\n"
     ]
    },
    {
     "name": "stdout",
     "output_type": "stream",
     "text": [
      "Test Accuracy: 74.53703703703704%\n"
     ]
    },
    {
     "name": "stderr",
     "output_type": "stream",
     "text": [
      "Epoch [72/200]: 100%|████████████████████████████████████████████████████| 216/216 [00:17<00:00, 12.36it/s, loss=0.486]\n",
      "100%|████████████████████████████████████████████████████████████████████████████████| 108/108 [00:03<00:00, 32.00it/s]\n"
     ]
    },
    {
     "name": "stdout",
     "output_type": "stream",
     "text": [
      "Test Accuracy: 74.07407407407408%\n"
     ]
    },
    {
     "name": "stderr",
     "output_type": "stream",
     "text": [
      "Epoch [73/200]: 100%|████████████████████████████████████████████████████| 216/216 [00:17<00:00, 12.11it/s, loss=0.499]\n",
      "100%|████████████████████████████████████████████████████████████████████████████████| 108/108 [00:03<00:00, 31.54it/s]\n"
     ]
    },
    {
     "name": "stdout",
     "output_type": "stream",
     "text": [
      "Test Accuracy: 73.14814814814815%\n"
     ]
    },
    {
     "name": "stderr",
     "output_type": "stream",
     "text": [
      "Epoch [74/200]: 100%|████████████████████████████████████████████████████| 216/216 [00:17<00:00, 12.05it/s, loss=0.789]\n",
      "100%|████████████████████████████████████████████████████████████████████████████████| 108/108 [00:03<00:00, 32.81it/s]\n"
     ]
    },
    {
     "name": "stdout",
     "output_type": "stream",
     "text": [
      "Test Accuracy: 68.28703703703704%\n"
     ]
    },
    {
     "name": "stderr",
     "output_type": "stream",
     "text": [
      "Epoch [75/200]: 100%|████████████████████████████████████████████████████| 216/216 [00:17<00:00, 12.18it/s, loss=0.707]\n",
      "100%|████████████████████████████████████████████████████████████████████████████████| 108/108 [00:03<00:00, 32.68it/s]\n"
     ]
    },
    {
     "name": "stdout",
     "output_type": "stream",
     "text": [
      "Test Accuracy: 67.5925925925926%\n"
     ]
    },
    {
     "name": "stderr",
     "output_type": "stream",
     "text": [
      "Epoch [76/200]: 100%|████████████████████████████████████████████████████| 216/216 [00:17<00:00, 12.23it/s, loss=0.639]\n",
      "100%|████████████████████████████████████████████████████████████████████████████████| 108/108 [00:03<00:00, 31.89it/s]\n"
     ]
    },
    {
     "name": "stdout",
     "output_type": "stream",
     "text": [
      "Test Accuracy: 70.60185185185185%\n"
     ]
    },
    {
     "name": "stderr",
     "output_type": "stream",
     "text": [
      "Epoch [77/200]: 100%|████████████████████████████████████████████████████| 216/216 [00:17<00:00, 12.25it/s, loss=0.551]\n",
      "100%|████████████████████████████████████████████████████████████████████████████████| 108/108 [00:03<00:00, 32.45it/s]\n"
     ]
    },
    {
     "name": "stdout",
     "output_type": "stream",
     "text": [
      "Test Accuracy: 73.61111111111111%\n"
     ]
    },
    {
     "name": "stderr",
     "output_type": "stream",
     "text": [
      "Epoch [78/200]: 100%|████████████████████████████████████████████████████| 216/216 [00:17<00:00, 12.54it/s, loss=0.537]\n",
      "100%|████████████████████████████████████████████████████████████████████████████████| 108/108 [00:03<00:00, 33.05it/s]\n"
     ]
    },
    {
     "name": "stdout",
     "output_type": "stream",
     "text": [
      "Test Accuracy: 69.44444444444444%\n"
     ]
    },
    {
     "name": "stderr",
     "output_type": "stream",
     "text": [
      "Epoch [79/200]: 100%|████████████████████████████████████████████████████| 216/216 [00:17<00:00, 12.44it/s, loss=0.596]\n",
      "100%|████████████████████████████████████████████████████████████████████████████████| 108/108 [00:03<00:00, 32.64it/s]\n"
     ]
    },
    {
     "name": "stdout",
     "output_type": "stream",
     "text": [
      "Test Accuracy: 55.78703703703704%\n"
     ]
    },
    {
     "name": "stderr",
     "output_type": "stream",
     "text": [
      "Epoch [80/200]: 100%|████████████████████████████████████████████████████| 216/216 [00:17<00:00, 12.24it/s, loss=0.613]\n",
      "100%|████████████████████████████████████████████████████████████████████████████████| 108/108 [00:03<00:00, 32.51it/s]\n"
     ]
    },
    {
     "name": "stdout",
     "output_type": "stream",
     "text": [
      "Test Accuracy: 72.91666666666667%\n"
     ]
    },
    {
     "name": "stderr",
     "output_type": "stream",
     "text": [
      "Epoch [81/200]: 100%|████████████████████████████████████████████████████| 216/216 [00:17<00:00, 12.30it/s, loss=0.502]\n",
      "100%|████████████████████████████████████████████████████████████████████████████████| 108/108 [00:03<00:00, 32.92it/s]\n"
     ]
    },
    {
     "name": "stdout",
     "output_type": "stream",
     "text": [
      "Test Accuracy: 72.68518518518519%\n"
     ]
    },
    {
     "name": "stderr",
     "output_type": "stream",
     "text": [
      "Epoch [82/200]: 100%|████████████████████████████████████████████████████| 216/216 [00:17<00:00, 12.20it/s, loss=0.513]\n",
      "100%|████████████████████████████████████████████████████████████████████████████████| 108/108 [00:03<00:00, 32.11it/s]\n"
     ]
    },
    {
     "name": "stdout",
     "output_type": "stream",
     "text": [
      "Test Accuracy: 72.45370370370371%\n"
     ]
    },
    {
     "name": "stderr",
     "output_type": "stream",
     "text": [
      "Epoch [83/200]: 100%|█████████████████████████████████████████████████████| 216/216 [00:17<00:00, 12.10it/s, loss=0.53]\n",
      "100%|████████████████████████████████████████████████████████████████████████████████| 108/108 [00:03<00:00, 30.87it/s]\n"
     ]
    },
    {
     "name": "stdout",
     "output_type": "stream",
     "text": [
      "Test Accuracy: 74.76851851851852%\n"
     ]
    },
    {
     "name": "stderr",
     "output_type": "stream",
     "text": [
      "Epoch [84/200]: 100%|████████████████████████████████████████████████████| 216/216 [00:17<00:00, 12.04it/s, loss=0.499]\n",
      "100%|████████████████████████████████████████████████████████████████████████████████| 108/108 [00:03<00:00, 31.77it/s]\n"
     ]
    },
    {
     "name": "stdout",
     "output_type": "stream",
     "text": [
      "Test Accuracy: 75.0%\n"
     ]
    },
    {
     "name": "stderr",
     "output_type": "stream",
     "text": [
      "Epoch [85/200]: 100%|████████████████████████████████████████████████████| 216/216 [00:17<00:00, 12.06it/s, loss=0.496]\n",
      "100%|████████████████████████████████████████████████████████████████████████████████| 108/108 [00:03<00:00, 31.85it/s]\n"
     ]
    },
    {
     "name": "stdout",
     "output_type": "stream",
     "text": [
      "Test Accuracy: 73.61111111111111%\n"
     ]
    },
    {
     "name": "stderr",
     "output_type": "stream",
     "text": [
      "Epoch [86/200]: 100%|█████████████████████████████████████████████████████| 216/216 [00:17<00:00, 12.00it/s, loss=0.48]\n",
      "100%|████████████████████████████████████████████████████████████████████████████████| 108/108 [00:03<00:00, 33.02it/s]\n"
     ]
    },
    {
     "name": "stdout",
     "output_type": "stream",
     "text": [
      "Test Accuracy: 74.53703703703704%\n"
     ]
    },
    {
     "name": "stderr",
     "output_type": "stream",
     "text": [
      "Epoch [87/200]: 100%|████████████████████████████████████████████████████| 216/216 [00:17<00:00, 12.51it/s, loss=0.485]\n",
      "100%|████████████████████████████████████████████████████████████████████████████████| 108/108 [00:03<00:00, 34.20it/s]\n"
     ]
    },
    {
     "name": "stdout",
     "output_type": "stream",
     "text": [
      "Test Accuracy: 73.61111111111111%\n"
     ]
    },
    {
     "name": "stderr",
     "output_type": "stream",
     "text": [
      "Epoch [88/200]: 100%|█████████████████████████████████████████████████████| 216/216 [00:17<00:00, 12.23it/s, loss=0.46]\n",
      "100%|████████████████████████████████████████████████████████████████████████████████| 108/108 [00:03<00:00, 32.63it/s]\n"
     ]
    },
    {
     "name": "stdout",
     "output_type": "stream",
     "text": [
      "Test Accuracy: 74.07407407407408%\n"
     ]
    },
    {
     "name": "stderr",
     "output_type": "stream",
     "text": [
      "Epoch [89/200]: 100%|████████████████████████████████████████████████████| 216/216 [00:17<00:00, 12.00it/s, loss=0.479]\n",
      "100%|████████████████████████████████████████████████████████████████████████████████| 108/108 [00:03<00:00, 31.79it/s]\n"
     ]
    },
    {
     "name": "stdout",
     "output_type": "stream",
     "text": [
      "Test Accuracy: 76.38888888888889%\n"
     ]
    },
    {
     "name": "stderr",
     "output_type": "stream",
     "text": [
      "Epoch [90/200]: 100%|████████████████████████████████████████████████████| 216/216 [00:18<00:00, 11.84it/s, loss=0.447]\n",
      "100%|████████████████████████████████████████████████████████████████████████████████| 108/108 [00:03<00:00, 32.21it/s]\n"
     ]
    },
    {
     "name": "stdout",
     "output_type": "stream",
     "text": [
      "Test Accuracy: 77.77777777777777%\n"
     ]
    },
    {
     "name": "stderr",
     "output_type": "stream",
     "text": [
      "Epoch [91/200]: 100%|████████████████████████████████████████████████████| 216/216 [00:18<00:00, 11.93it/s, loss=0.439]\n",
      "100%|████████████████████████████████████████████████████████████████████████████████| 108/108 [00:03<00:00, 32.71it/s]\n"
     ]
    },
    {
     "name": "stdout",
     "output_type": "stream",
     "text": [
      "Test Accuracy: 75.0%\n"
     ]
    },
    {
     "name": "stderr",
     "output_type": "stream",
     "text": [
      "Epoch [92/200]: 100%|████████████████████████████████████████████████████| 216/216 [00:18<00:00, 11.79it/s, loss=0.467]\n",
      "100%|████████████████████████████████████████████████████████████████████████████████| 108/108 [00:03<00:00, 32.28it/s]\n"
     ]
    },
    {
     "name": "stdout",
     "output_type": "stream",
     "text": [
      "Test Accuracy: 76.85185185185185%\n"
     ]
    },
    {
     "name": "stderr",
     "output_type": "stream",
     "text": [
      "Epoch [93/200]: 100%|████████████████████████████████████████████████████| 216/216 [00:17<00:00, 12.35it/s, loss=0.417]\n",
      "100%|████████████████████████████████████████████████████████████████████████████████| 108/108 [00:03<00:00, 32.80it/s]\n"
     ]
    },
    {
     "name": "stdout",
     "output_type": "stream",
     "text": [
      "Test Accuracy: 73.14814814814815%\n"
     ]
    },
    {
     "name": "stderr",
     "output_type": "stream",
     "text": [
      "Epoch [94/200]: 100%|████████████████████████████████████████████████████| 216/216 [00:17<00:00, 12.16it/s, loss=0.448]\n",
      "100%|████████████████████████████████████████████████████████████████████████████████| 108/108 [00:03<00:00, 32.18it/s]\n"
     ]
    },
    {
     "name": "stdout",
     "output_type": "stream",
     "text": [
      "Test Accuracy: 75.92592592592592%\n"
     ]
    },
    {
     "name": "stderr",
     "output_type": "stream",
     "text": [
      "Epoch [95/200]: 100%|█████████████████████████████████████████████████████| 216/216 [00:17<00:00, 12.12it/s, loss=0.44]\n",
      "100%|████████████████████████████████████████████████████████████████████████████████| 108/108 [00:03<00:00, 31.11it/s]\n"
     ]
    },
    {
     "name": "stdout",
     "output_type": "stream",
     "text": [
      "Test Accuracy: 77.77777777777777%\n"
     ]
    },
    {
     "name": "stderr",
     "output_type": "stream",
     "text": [
      "Epoch [96/200]: 100%|████████████████████████████████████████████████████| 216/216 [00:17<00:00, 12.19it/s, loss=0.438]\n",
      "100%|████████████████████████████████████████████████████████████████████████████████| 108/108 [00:03<00:00, 31.97it/s]\n"
     ]
    },
    {
     "name": "stdout",
     "output_type": "stream",
     "text": [
      "Test Accuracy: 75.0%\n"
     ]
    },
    {
     "name": "stderr",
     "output_type": "stream",
     "text": [
      "Epoch [97/200]: 100%|████████████████████████████████████████████████████| 216/216 [00:17<00:00, 12.11it/s, loss=0.415]\n",
      "100%|████████████████████████████████████████████████████████████████████████████████| 108/108 [00:03<00:00, 33.27it/s]\n"
     ]
    },
    {
     "name": "stdout",
     "output_type": "stream",
     "text": [
      "Test Accuracy: 75.0%\n"
     ]
    },
    {
     "name": "stderr",
     "output_type": "stream",
     "text": [
      "Epoch [98/200]: 100%|█████████████████████████████████████████████████████| 216/216 [00:17<00:00, 12.45it/s, loss=0.42]\n",
      "100%|████████████████████████████████████████████████████████████████████████████████| 108/108 [00:03<00:00, 32.67it/s]\n"
     ]
    },
    {
     "name": "stdout",
     "output_type": "stream",
     "text": [
      "Test Accuracy: 76.38888888888889%\n"
     ]
    },
    {
     "name": "stderr",
     "output_type": "stream",
     "text": [
      "Epoch [99/200]: 100%|████████████████████████████████████████████████████| 216/216 [00:17<00:00, 12.42it/s, loss=0.449]\n",
      "100%|████████████████████████████████████████████████████████████████████████████████| 108/108 [00:03<00:00, 32.26it/s]\n"
     ]
    },
    {
     "name": "stdout",
     "output_type": "stream",
     "text": [
      "Test Accuracy: 77.77777777777777%\n"
     ]
    },
    {
     "name": "stderr",
     "output_type": "stream",
     "text": [
      "Epoch [100/200]: 100%|███████████████████████████████████████████████████| 216/216 [00:17<00:00, 12.31it/s, loss=0.429]\n",
      "100%|████████████████████████████████████████████████████████████████████████████████| 108/108 [00:03<00:00, 33.23it/s]\n"
     ]
    },
    {
     "name": "stdout",
     "output_type": "stream",
     "text": [
      "Test Accuracy: 77.77777777777777%\n"
     ]
    },
    {
     "name": "stderr",
     "output_type": "stream",
     "text": [
      "Epoch [101/200]: 100%|████████████████████████████████████████████████████| 216/216 [00:17<00:00, 12.47it/s, loss=0.42]\n",
      "100%|████████████████████████████████████████████████████████████████████████████████| 108/108 [00:03<00:00, 33.59it/s]\n"
     ]
    },
    {
     "name": "stdout",
     "output_type": "stream",
     "text": [
      "Test Accuracy: 70.37037037037037%\n"
     ]
    },
    {
     "name": "stderr",
     "output_type": "stream",
     "text": [
      "Epoch [102/200]: 100%|███████████████████████████████████████████████████| 216/216 [00:17<00:00, 12.42it/s, loss=0.422]\n",
      "100%|████████████████████████████████████████████████████████████████████████████████| 108/108 [00:03<00:00, 33.39it/s]\n"
     ]
    },
    {
     "name": "stdout",
     "output_type": "stream",
     "text": [
      "Test Accuracy: 77.31481481481481%\n"
     ]
    },
    {
     "name": "stderr",
     "output_type": "stream",
     "text": [
      "Epoch [103/200]: 100%|███████████████████████████████████████████████████| 216/216 [00:17<00:00, 12.43it/s, loss=0.407]\n",
      "100%|████████████████████████████████████████████████████████████████████████████████| 108/108 [00:03<00:00, 33.18it/s]\n"
     ]
    },
    {
     "name": "stdout",
     "output_type": "stream",
     "text": [
      "Test Accuracy: 73.61111111111111%\n"
     ]
    },
    {
     "name": "stderr",
     "output_type": "stream",
     "text": [
      "Epoch [104/200]: 100%|█████████████████████████████████████████████████████| 216/216 [00:17<00:00, 12.33it/s, loss=0.4]\n",
      "100%|████████████████████████████████████████████████████████████████████████████████| 108/108 [00:03<00:00, 33.14it/s]\n"
     ]
    },
    {
     "name": "stdout",
     "output_type": "stream",
     "text": [
      "Test Accuracy: 78.00925925925925%\n"
     ]
    },
    {
     "name": "stderr",
     "output_type": "stream",
     "text": [
      "Epoch [105/200]: 100%|████████████████████████████████████████████████████| 216/216 [00:17<00:00, 12.22it/s, loss=0.42]\n",
      "100%|████████████████████████████████████████████████████████████████████████████████| 108/108 [00:03<00:00, 32.55it/s]\n"
     ]
    },
    {
     "name": "stdout",
     "output_type": "stream",
     "text": [
      "Test Accuracy: 75.69444444444444%\n"
     ]
    },
    {
     "name": "stderr",
     "output_type": "stream",
     "text": [
      "Epoch [106/200]: 100%|███████████████████████████████████████████████████| 216/216 [00:17<00:00, 12.09it/s, loss=0.389]\n",
      "100%|████████████████████████████████████████████████████████████████████████████████| 108/108 [00:03<00:00, 32.26it/s]\n"
     ]
    },
    {
     "name": "stdout",
     "output_type": "stream",
     "text": [
      "Test Accuracy: 76.85185185185185%\n"
     ]
    },
    {
     "name": "stderr",
     "output_type": "stream",
     "text": [
      "Epoch [107/200]: 100%|███████████████████████████████████████████████████| 216/216 [00:18<00:00, 11.98it/s, loss=0.412]\n",
      "100%|████████████████████████████████████████████████████████████████████████████████| 108/108 [00:03<00:00, 31.66it/s]\n"
     ]
    },
    {
     "name": "stdout",
     "output_type": "stream",
     "text": [
      "Test Accuracy: 76.62037037037037%\n"
     ]
    },
    {
     "name": "stderr",
     "output_type": "stream",
     "text": [
      "Epoch [108/200]: 100%|███████████████████████████████████████████████████| 216/216 [00:17<00:00, 12.02it/s, loss=0.391]\n",
      "100%|████████████████████████████████████████████████████████████████████████████████| 108/108 [00:03<00:00, 32.03it/s]\n"
     ]
    },
    {
     "name": "stdout",
     "output_type": "stream",
     "text": [
      "Test Accuracy: 73.8425925925926%\n"
     ]
    },
    {
     "name": "stderr",
     "output_type": "stream",
     "text": [
      "Epoch [109/200]: 100%|████████████████████████████████████████████████████| 216/216 [00:18<00:00, 11.77it/s, loss=0.38]\n",
      "100%|████████████████████████████████████████████████████████████████████████████████| 108/108 [00:03<00:00, 32.52it/s]\n"
     ]
    },
    {
     "name": "stdout",
     "output_type": "stream",
     "text": [
      "Test Accuracy: 75.23148148148148%\n"
     ]
    },
    {
     "name": "stderr",
     "output_type": "stream",
     "text": [
      "Epoch [110/200]: 100%|███████████████████████████████████████████████████| 216/216 [00:17<00:00, 12.69it/s, loss=0.399]\n",
      "100%|████████████████████████████████████████████████████████████████████████████████| 108/108 [00:03<00:00, 33.31it/s]\n"
     ]
    },
    {
     "name": "stdout",
     "output_type": "stream",
     "text": [
      "Test Accuracy: 75.0%\n"
     ]
    },
    {
     "name": "stderr",
     "output_type": "stream",
     "text": [
      "Epoch [111/200]: 100%|███████████████████████████████████████████████████| 216/216 [00:17<00:00, 12.69it/s, loss=0.393]\n",
      "100%|████████████████████████████████████████████████████████████████████████████████| 108/108 [00:03<00:00, 33.15it/s]\n"
     ]
    },
    {
     "name": "stdout",
     "output_type": "stream",
     "text": [
      "Test Accuracy: 76.38888888888889%\n"
     ]
    },
    {
     "name": "stderr",
     "output_type": "stream",
     "text": [
      "Epoch [112/200]: 100%|███████████████████████████████████████████████████| 216/216 [00:17<00:00, 12.46it/s, loss=0.389]\n",
      "100%|████████████████████████████████████████████████████████████████████████████████| 108/108 [00:03<00:00, 32.44it/s]\n"
     ]
    },
    {
     "name": "stdout",
     "output_type": "stream",
     "text": [
      "Test Accuracy: 74.53703703703704%\n"
     ]
    },
    {
     "name": "stderr",
     "output_type": "stream",
     "text": [
      "Epoch [113/200]: 100%|███████████████████████████████████████████████████| 216/216 [00:17<00:00, 12.11it/s, loss=0.391]\n",
      "100%|████████████████████████████████████████████████████████████████████████████████| 108/108 [00:03<00:00, 31.47it/s]\n"
     ]
    },
    {
     "name": "stdout",
     "output_type": "stream",
     "text": [
      "Test Accuracy: 75.69444444444444%\n"
     ]
    },
    {
     "name": "stderr",
     "output_type": "stream",
     "text": [
      "Epoch [114/200]: 100%|███████████████████████████████████████████████████| 216/216 [00:17<00:00, 12.08it/s, loss=0.353]\n",
      "100%|████████████████████████████████████████████████████████████████████████████████| 108/108 [00:03<00:00, 31.82it/s]\n"
     ]
    },
    {
     "name": "stdout",
     "output_type": "stream",
     "text": [
      "Test Accuracy: 76.62037037037037%\n"
     ]
    },
    {
     "name": "stderr",
     "output_type": "stream",
     "text": [
      "Epoch [115/200]: 100%|███████████████████████████████████████████████████| 216/216 [00:18<00:00, 11.94it/s, loss=0.376]\n",
      "100%|████████████████████████████████████████████████████████████████████████████████| 108/108 [00:03<00:00, 32.21it/s]\n"
     ]
    },
    {
     "name": "stdout",
     "output_type": "stream",
     "text": [
      "Test Accuracy: 77.54629629629629%\n"
     ]
    },
    {
     "name": "stderr",
     "output_type": "stream",
     "text": [
      "Epoch [116/200]: 100%|███████████████████████████████████████████████████| 216/216 [00:17<00:00, 12.02it/s, loss=0.383]\n",
      "100%|████████████████████████████████████████████████████████████████████████████████| 108/108 [00:03<00:00, 32.21it/s]\n"
     ]
    },
    {
     "name": "stdout",
     "output_type": "stream",
     "text": [
      "Test Accuracy: 76.38888888888889%\n"
     ]
    },
    {
     "name": "stderr",
     "output_type": "stream",
     "text": [
      "Epoch [117/200]: 100%|███████████████████████████████████████████████████| 216/216 [00:17<00:00, 12.11it/s, loss=0.386]\n",
      "100%|████████████████████████████████████████████████████████████████████████████████| 108/108 [00:03<00:00, 33.14it/s]\n"
     ]
    },
    {
     "name": "stdout",
     "output_type": "stream",
     "text": [
      "Test Accuracy: 76.62037037037037%\n"
     ]
    },
    {
     "name": "stderr",
     "output_type": "stream",
     "text": [
      "Epoch [118/200]: 100%|███████████████████████████████████████████████████| 216/216 [00:16<00:00, 13.06it/s, loss=0.509]\n",
      "100%|████████████████████████████████████████████████████████████████████████████████| 108/108 [00:03<00:00, 34.83it/s]\n"
     ]
    },
    {
     "name": "stdout",
     "output_type": "stream",
     "text": [
      "Test Accuracy: 73.37962962962963%\n"
     ]
    },
    {
     "name": "stderr",
     "output_type": "stream",
     "text": [
      "Epoch [119/200]: 100%|███████████████████████████████████████████████████| 216/216 [00:17<00:00, 12.32it/s, loss=0.456]\n",
      "100%|████████████████████████████████████████████████████████████████████████████████| 108/108 [00:03<00:00, 29.85it/s]\n"
     ]
    },
    {
     "name": "stdout",
     "output_type": "stream",
     "text": [
      "Test Accuracy: 75.0%\n"
     ]
    },
    {
     "name": "stderr",
     "output_type": "stream",
     "text": [
      "Epoch [120/200]: 100%|███████████████████████████████████████████████████| 216/216 [00:17<00:00, 12.16it/s, loss=0.406]\n",
      "100%|████████████████████████████████████████████████████████████████████████████████| 108/108 [00:03<00:00, 32.24it/s]\n"
     ]
    },
    {
     "name": "stdout",
     "output_type": "stream",
     "text": [
      "Test Accuracy: 76.38888888888889%\n"
     ]
    },
    {
     "name": "stderr",
     "output_type": "stream",
     "text": [
      "Epoch [121/200]: 100%|████████████████████████████████████████████████████| 216/216 [00:17<00:00, 12.32it/s, loss=0.38]\n",
      "100%|████████████████████████████████████████████████████████████████████████████████| 108/108 [00:03<00:00, 32.54it/s]\n"
     ]
    },
    {
     "name": "stdout",
     "output_type": "stream",
     "text": [
      "Test Accuracy: 74.07407407407408%\n"
     ]
    },
    {
     "name": "stderr",
     "output_type": "stream",
     "text": [
      "Epoch [122/200]: 100%|███████████████████████████████████████████████████| 216/216 [00:17<00:00, 12.32it/s, loss=0.423]\n",
      "100%|████████████████████████████████████████████████████████████████████████████████| 108/108 [00:03<00:00, 31.41it/s]\n"
     ]
    },
    {
     "name": "stdout",
     "output_type": "stream",
     "text": [
      "Test Accuracy: 78.24074074074075%\n"
     ]
    },
    {
     "name": "stderr",
     "output_type": "stream",
     "text": [
      "Epoch [123/200]: 100%|███████████████████████████████████████████████████| 216/216 [00:19<00:00, 11.25it/s, loss=0.366]\n",
      "100%|████████████████████████████████████████████████████████████████████████████████| 108/108 [00:05<00:00, 20.69it/s]\n"
     ]
    },
    {
     "name": "stdout",
     "output_type": "stream",
     "text": [
      "Test Accuracy: 75.0%\n"
     ]
    },
    {
     "name": "stderr",
     "output_type": "stream",
     "text": [
      "Epoch [124/200]: 100%|███████████████████████████████████████████████████| 216/216 [00:25<00:00,  8.53it/s, loss=0.358]\n",
      "100%|████████████████████████████████████████████████████████████████████████████████| 108/108 [00:03<00:00, 27.84it/s]\n"
     ]
    },
    {
     "name": "stdout",
     "output_type": "stream",
     "text": [
      "Test Accuracy: 80.78703703703704%\n"
     ]
    },
    {
     "name": "stderr",
     "output_type": "stream",
     "text": [
      "Epoch [125/200]: 100%|███████████████████████████████████████████████████| 216/216 [00:23<00:00,  9.05it/s, loss=0.367]\n",
      "100%|████████████████████████████████████████████████████████████████████████████████| 108/108 [00:05<00:00, 21.16it/s]\n"
     ]
    },
    {
     "name": "stdout",
     "output_type": "stream",
     "text": [
      "Test Accuracy: 75.92592592592592%\n"
     ]
    },
    {
     "name": "stderr",
     "output_type": "stream",
     "text": [
      "Epoch [126/200]: 100%|███████████████████████████████████████████████████| 216/216 [00:23<00:00,  9.24it/s, loss=0.357]\n",
      "100%|████████████████████████████████████████████████████████████████████████████████| 108/108 [00:05<00:00, 20.95it/s]\n"
     ]
    },
    {
     "name": "stdout",
     "output_type": "stream",
     "text": [
      "Test Accuracy: 76.62037037037037%\n"
     ]
    },
    {
     "name": "stderr",
     "output_type": "stream",
     "text": [
      "Epoch [127/200]: 100%|███████████████████████████████████████████████████| 216/216 [00:19<00:00, 11.16it/s, loss=0.353]\n",
      "100%|████████████████████████████████████████████████████████████████████████████████| 108/108 [00:03<00:00, 32.48it/s]\n"
     ]
    },
    {
     "name": "stdout",
     "output_type": "stream",
     "text": [
      "Test Accuracy: 78.00925925925925%\n"
     ]
    },
    {
     "name": "stderr",
     "output_type": "stream",
     "text": [
      "Epoch [128/200]: 100%|███████████████████████████████████████████████████| 216/216 [00:20<00:00, 10.54it/s, loss=0.349]\n",
      "100%|████████████████████████████████████████████████████████████████████████████████| 108/108 [00:05<00:00, 19.31it/s]\n"
     ]
    },
    {
     "name": "stdout",
     "output_type": "stream",
     "text": [
      "Test Accuracy: 76.1574074074074%\n"
     ]
    },
    {
     "name": "stderr",
     "output_type": "stream",
     "text": [
      "Epoch [129/200]: 100%|███████████████████████████████████████████████████| 216/216 [00:25<00:00,  8.44it/s, loss=0.311]\n",
      "100%|████████████████████████████████████████████████████████████████████████████████| 108/108 [00:04<00:00, 26.93it/s]\n"
     ]
    },
    {
     "name": "stdout",
     "output_type": "stream",
     "text": [
      "Test Accuracy: 78.93518518518519%\n"
     ]
    },
    {
     "name": "stderr",
     "output_type": "stream",
     "text": [
      "Epoch [130/200]: 100%|███████████████████████████████████████████████████| 216/216 [00:19<00:00, 10.94it/s, loss=0.314]\n",
      "100%|████████████████████████████████████████████████████████████████████████████████| 108/108 [00:03<00:00, 32.47it/s]\n"
     ]
    },
    {
     "name": "stdout",
     "output_type": "stream",
     "text": [
      "Test Accuracy: 75.0%\n"
     ]
    },
    {
     "name": "stderr",
     "output_type": "stream",
     "text": [
      "Epoch [131/200]: 100%|███████████████████████████████████████████████████| 216/216 [00:17<00:00, 12.31it/s, loss=0.329]\n",
      "100%|████████████████████████████████████████████████████████████████████████████████| 108/108 [00:03<00:00, 32.44it/s]\n"
     ]
    },
    {
     "name": "stdout",
     "output_type": "stream",
     "text": [
      "Test Accuracy: 73.61111111111111%\n"
     ]
    },
    {
     "name": "stderr",
     "output_type": "stream",
     "text": [
      "Epoch [132/200]: 100%|███████████████████████████████████████████████████| 216/216 [00:17<00:00, 12.02it/s, loss=0.312]\n",
      "100%|████████████████████████████████████████████████████████████████████████████████| 108/108 [00:03<00:00, 31.61it/s]\n"
     ]
    },
    {
     "name": "stdout",
     "output_type": "stream",
     "text": [
      "Test Accuracy: 78.24074074074075%\n"
     ]
    },
    {
     "name": "stderr",
     "output_type": "stream",
     "text": [
      "Epoch [133/200]: 100%|███████████████████████████████████████████████████| 216/216 [00:17<00:00, 12.30it/s, loss=0.295]\n",
      "100%|████████████████████████████████████████████████████████████████████████████████| 108/108 [00:03<00:00, 28.45it/s]\n"
     ]
    },
    {
     "name": "stdout",
     "output_type": "stream",
     "text": [
      "Test Accuracy: 73.8425925925926%\n"
     ]
    },
    {
     "name": "stderr",
     "output_type": "stream",
     "text": [
      "Epoch [134/200]: 100%|████████████████████████████████████████████████████| 216/216 [00:18<00:00, 11.90it/s, loss=0.32]\n",
      "100%|████████████████████████████████████████████████████████████████████████████████| 108/108 [00:03<00:00, 31.68it/s]\n"
     ]
    },
    {
     "name": "stdout",
     "output_type": "stream",
     "text": [
      "Test Accuracy: 77.08333333333333%\n"
     ]
    },
    {
     "name": "stderr",
     "output_type": "stream",
     "text": [
      "Epoch [135/200]: 100%|███████████████████████████████████████████████████| 216/216 [00:17<00:00, 12.03it/s, loss=0.352]\n",
      "100%|████████████████████████████████████████████████████████████████████████████████| 108/108 [00:03<00:00, 32.96it/s]\n"
     ]
    },
    {
     "name": "stdout",
     "output_type": "stream",
     "text": [
      "Test Accuracy: 75.0%\n"
     ]
    },
    {
     "name": "stderr",
     "output_type": "stream",
     "text": [
      "Epoch [136/200]: 100%|████████████████████████████████████████████████████| 216/216 [00:17<00:00, 12.08it/s, loss=0.36]\n",
      "100%|████████████████████████████████████████████████████████████████████████████████| 108/108 [00:03<00:00, 31.26it/s]\n"
     ]
    },
    {
     "name": "stdout",
     "output_type": "stream",
     "text": [
      "Test Accuracy: 77.77777777777777%\n"
     ]
    },
    {
     "name": "stderr",
     "output_type": "stream",
     "text": [
      "Epoch [137/200]: 100%|███████████████████████████████████████████████████| 216/216 [00:17<00:00, 12.17it/s, loss=0.311]\n",
      "100%|████████████████████████████████████████████████████████████████████████████████| 108/108 [00:03<00:00, 32.89it/s]\n"
     ]
    },
    {
     "name": "stdout",
     "output_type": "stream",
     "text": [
      "Test Accuracy: 75.46296296296296%\n"
     ]
    },
    {
     "name": "stderr",
     "output_type": "stream",
     "text": [
      "Epoch [138/200]: 100%|███████████████████████████████████████████████████| 216/216 [00:17<00:00, 12.58it/s, loss=0.279]\n",
      "100%|████████████████████████████████████████████████████████████████████████████████| 108/108 [00:03<00:00, 33.36it/s]\n"
     ]
    },
    {
     "name": "stdout",
     "output_type": "stream",
     "text": [
      "Test Accuracy: 75.92592592592592%\n"
     ]
    },
    {
     "name": "stderr",
     "output_type": "stream",
     "text": [
      "Epoch [139/200]: 100%|███████████████████████████████████████████████████| 216/216 [00:17<00:00, 12.57it/s, loss=0.285]\n",
      "100%|████████████████████████████████████████████████████████████████████████████████| 108/108 [00:03<00:00, 33.88it/s]\n"
     ]
    },
    {
     "name": "stdout",
     "output_type": "stream",
     "text": [
      "Test Accuracy: 75.46296296296296%\n"
     ]
    },
    {
     "name": "stderr",
     "output_type": "stream",
     "text": [
      "Epoch [140/200]: 100%|███████████████████████████████████████████████████| 216/216 [00:17<00:00, 12.37it/s, loss=0.329]\n",
      "100%|████████████████████████████████████████████████████████████████████████████████| 108/108 [00:03<00:00, 33.08it/s]\n"
     ]
    },
    {
     "name": "stdout",
     "output_type": "stream",
     "text": [
      "Test Accuracy: 77.08333333333333%\n"
     ]
    },
    {
     "name": "stderr",
     "output_type": "stream",
     "text": [
      "Epoch [141/200]: 100%|███████████████████████████████████████████████████| 216/216 [00:17<00:00, 12.59it/s, loss=0.334]\n",
      "100%|████████████████████████████████████████████████████████████████████████████████| 108/108 [00:03<00:00, 33.30it/s]\n"
     ]
    },
    {
     "name": "stdout",
     "output_type": "stream",
     "text": [
      "Test Accuracy: 76.38888888888889%\n"
     ]
    },
    {
     "name": "stderr",
     "output_type": "stream",
     "text": [
      "Epoch [142/200]: 100%|███████████████████████████████████████████████████| 216/216 [00:17<00:00, 12.33it/s, loss=0.353]\n",
      "100%|████████████████████████████████████████████████████████████████████████████████| 108/108 [00:03<00:00, 33.16it/s]\n"
     ]
    },
    {
     "name": "stdout",
     "output_type": "stream",
     "text": [
      "Test Accuracy: 78.93518518518519%\n"
     ]
    },
    {
     "name": "stderr",
     "output_type": "stream",
     "text": [
      "Epoch [143/200]: 100%|███████████████████████████████████████████████████| 216/216 [00:17<00:00, 12.39it/s, loss=0.341]\n",
      "100%|████████████████████████████████████████████████████████████████████████████████| 108/108 [00:03<00:00, 33.29it/s]\n"
     ]
    },
    {
     "name": "stdout",
     "output_type": "stream",
     "text": [
      "Test Accuracy: 76.38888888888889%\n"
     ]
    },
    {
     "name": "stderr",
     "output_type": "stream",
     "text": [
      "Epoch [144/200]: 100%|███████████████████████████████████████████████████| 216/216 [00:16<00:00, 12.78it/s, loss=0.307]\n",
      "100%|████████████████████████████████████████████████████████████████████████████████| 108/108 [00:03<00:00, 33.49it/s]\n"
     ]
    },
    {
     "name": "stdout",
     "output_type": "stream",
     "text": [
      "Test Accuracy: 76.62037037037037%\n"
     ]
    },
    {
     "name": "stderr",
     "output_type": "stream",
     "text": [
      "Epoch [145/200]: 100%|███████████████████████████████████████████████████| 216/216 [00:17<00:00, 12.14it/s, loss=0.303]\n",
      "100%|████████████████████████████████████████████████████████████████████████████████| 108/108 [00:03<00:00, 32.80it/s]\n"
     ]
    },
    {
     "name": "stdout",
     "output_type": "stream",
     "text": [
      "Test Accuracy: 77.31481481481481%\n"
     ]
    },
    {
     "name": "stderr",
     "output_type": "stream",
     "text": [
      "Epoch [146/200]: 100%|███████████████████████████████████████████████████| 216/216 [00:17<00:00, 12.16it/s, loss=0.321]\n",
      "100%|████████████████████████████████████████████████████████████████████████████████| 108/108 [00:03<00:00, 32.99it/s]\n"
     ]
    },
    {
     "name": "stdout",
     "output_type": "stream",
     "text": [
      "Test Accuracy: 71.29629629629629%\n"
     ]
    },
    {
     "name": "stderr",
     "output_type": "stream",
     "text": [
      "Epoch [147/200]: 100%|███████████████████████████████████████████████████| 216/216 [00:17<00:00, 12.56it/s, loss=0.305]\n",
      "100%|████████████████████████████████████████████████████████████████████████████████| 108/108 [00:03<00:00, 32.44it/s]\n"
     ]
    },
    {
     "name": "stdout",
     "output_type": "stream",
     "text": [
      "Test Accuracy: 77.77777777777777%\n"
     ]
    },
    {
     "name": "stderr",
     "output_type": "stream",
     "text": [
      "Epoch [148/200]: 100%|████████████████████████████████████████████████████| 216/216 [00:17<00:00, 12.22it/s, loss=0.33]\n",
      "100%|████████████████████████████████████████████████████████████████████████████████| 108/108 [00:03<00:00, 33.36it/s]\n"
     ]
    },
    {
     "name": "stdout",
     "output_type": "stream",
     "text": [
      "Test Accuracy: 76.62037037037037%\n"
     ]
    },
    {
     "name": "stderr",
     "output_type": "stream",
     "text": [
      "Epoch [149/200]: 100%|███████████████████████████████████████████████████| 216/216 [00:17<00:00, 12.21it/s, loss=0.276]\n",
      "100%|████████████████████████████████████████████████████████████████████████████████| 108/108 [00:03<00:00, 31.54it/s]\n"
     ]
    },
    {
     "name": "stdout",
     "output_type": "stream",
     "text": [
      "Test Accuracy: 74.07407407407408%\n"
     ]
    },
    {
     "name": "stderr",
     "output_type": "stream",
     "text": [
      "Epoch [150/200]: 100%|███████████████████████████████████████████████████| 216/216 [00:17<00:00, 12.21it/s, loss=0.312]\n",
      "100%|████████████████████████████████████████████████████████████████████████████████| 108/108 [00:03<00:00, 32.19it/s]\n"
     ]
    },
    {
     "name": "stdout",
     "output_type": "stream",
     "text": [
      "Test Accuracy: 77.31481481481481%\n"
     ]
    },
    {
     "name": "stderr",
     "output_type": "stream",
     "text": [
      "Epoch [151/200]: 100%|███████████████████████████████████████████████████| 216/216 [00:17<00:00, 12.17it/s, loss=0.274]\n",
      "100%|████████████████████████████████████████████████████████████████████████████████| 108/108 [00:03<00:00, 32.59it/s]\n"
     ]
    },
    {
     "name": "stdout",
     "output_type": "stream",
     "text": [
      "Test Accuracy: 76.62037037037037%\n"
     ]
    },
    {
     "name": "stderr",
     "output_type": "stream",
     "text": [
      "Epoch [152/200]: 100%|████████████████████████████████████████████████████| 216/216 [00:17<00:00, 12.09it/s, loss=0.27]\n",
      "100%|████████████████████████████████████████████████████████████████████████████████| 108/108 [00:03<00:00, 32.27it/s]\n"
     ]
    },
    {
     "name": "stdout",
     "output_type": "stream",
     "text": [
      "Test Accuracy: 74.76851851851852%\n"
     ]
    },
    {
     "name": "stderr",
     "output_type": "stream",
     "text": [
      "Epoch [153/200]: 100%|███████████████████████████████████████████████████| 216/216 [00:17<00:00, 12.30it/s, loss=0.282]\n",
      "100%|████████████████████████████████████████████████████████████████████████████████| 108/108 [00:03<00:00, 32.17it/s]\n"
     ]
    },
    {
     "name": "stdout",
     "output_type": "stream",
     "text": [
      "Test Accuracy: 78.00925925925925%\n"
     ]
    },
    {
     "name": "stderr",
     "output_type": "stream",
     "text": [
      "Epoch [154/200]: 100%|███████████████████████████████████████████████████| 216/216 [00:17<00:00, 12.17it/s, loss=0.259]\n",
      "100%|████████████████████████████████████████████████████████████████████████████████| 108/108 [00:03<00:00, 32.69it/s]\n"
     ]
    },
    {
     "name": "stdout",
     "output_type": "stream",
     "text": [
      "Test Accuracy: 75.92592592592592%\n"
     ]
    },
    {
     "name": "stderr",
     "output_type": "stream",
     "text": [
      "Epoch [155/200]: 100%|███████████████████████████████████████████████████| 216/216 [00:17<00:00, 12.30it/s, loss=0.253]\n",
      "100%|████████████████████████████████████████████████████████████████████████████████| 108/108 [00:03<00:00, 32.18it/s]\n"
     ]
    },
    {
     "name": "stdout",
     "output_type": "stream",
     "text": [
      "Test Accuracy: 76.38888888888889%\n"
     ]
    },
    {
     "name": "stderr",
     "output_type": "stream",
     "text": [
      "Epoch [156/200]: 100%|███████████████████████████████████████████████████| 216/216 [00:17<00:00, 12.59it/s, loss=0.284]\n",
      "100%|████████████████████████████████████████████████████████████████████████████████| 108/108 [00:03<00:00, 33.76it/s]\n"
     ]
    },
    {
     "name": "stdout",
     "output_type": "stream",
     "text": [
      "Test Accuracy: 77.08333333333333%\n"
     ]
    },
    {
     "name": "stderr",
     "output_type": "stream",
     "text": [
      "Epoch [157/200]: 100%|███████████████████████████████████████████████████| 216/216 [00:16<00:00, 12.83it/s, loss=0.282]\n",
      "100%|████████████████████████████████████████████████████████████████████████████████| 108/108 [00:03<00:00, 33.73it/s]\n"
     ]
    },
    {
     "name": "stdout",
     "output_type": "stream",
     "text": [
      "Test Accuracy: 75.0%\n"
     ]
    },
    {
     "name": "stderr",
     "output_type": "stream",
     "text": [
      "Epoch [158/200]: 100%|███████████████████████████████████████████████████| 216/216 [00:17<00:00, 12.63it/s, loss=0.255]\n",
      "100%|████████████████████████████████████████████████████████████████████████████████| 108/108 [00:03<00:00, 33.70it/s]\n"
     ]
    },
    {
     "name": "stdout",
     "output_type": "stream",
     "text": [
      "Test Accuracy: 75.23148148148148%\n"
     ]
    },
    {
     "name": "stderr",
     "output_type": "stream",
     "text": [
      "Epoch [159/200]: 100%|███████████████████████████████████████████████████| 216/216 [00:16<00:00, 12.91it/s, loss=0.264]\n",
      "100%|████████████████████████████████████████████████████████████████████████████████| 108/108 [00:03<00:00, 33.26it/s]\n"
     ]
    },
    {
     "name": "stdout",
     "output_type": "stream",
     "text": [
      "Test Accuracy: 79.39814814814815%\n"
     ]
    },
    {
     "name": "stderr",
     "output_type": "stream",
     "text": [
      "Epoch [160/200]: 100%|███████████████████████████████████████████████████| 216/216 [00:17<00:00, 12.46it/s, loss=0.254]\n",
      "100%|████████████████████████████████████████████████████████████████████████████████| 108/108 [00:03<00:00, 33.19it/s]\n"
     ]
    },
    {
     "name": "stdout",
     "output_type": "stream",
     "text": [
      "Test Accuracy: 77.54629629629629%\n"
     ]
    },
    {
     "name": "stderr",
     "output_type": "stream",
     "text": [
      "Epoch [161/200]: 100%|███████████████████████████████████████████████████| 216/216 [00:17<00:00, 12.33it/s, loss=0.279]\n",
      "100%|████████████████████████████████████████████████████████████████████████████████| 108/108 [00:03<00:00, 32.24it/s]\n"
     ]
    },
    {
     "name": "stdout",
     "output_type": "stream",
     "text": [
      "Test Accuracy: 75.69444444444444%\n"
     ]
    },
    {
     "name": "stderr",
     "output_type": "stream",
     "text": [
      "Epoch [162/200]: 100%|███████████████████████████████████████████████████| 216/216 [00:17<00:00, 12.19it/s, loss=0.501]\n",
      "100%|████████████████████████████████████████████████████████████████████████████████| 108/108 [00:03<00:00, 32.51it/s]\n"
     ]
    },
    {
     "name": "stdout",
     "output_type": "stream",
     "text": [
      "Test Accuracy: 75.0%\n"
     ]
    },
    {
     "name": "stderr",
     "output_type": "stream",
     "text": [
      "Epoch [163/200]: 100%|███████████████████████████████████████████████████| 216/216 [00:16<00:00, 12.74it/s, loss=0.313]\n",
      "100%|████████████████████████████████████████████████████████████████████████████████| 108/108 [00:03<00:00, 34.25it/s]\n"
     ]
    },
    {
     "name": "stdout",
     "output_type": "stream",
     "text": [
      "Test Accuracy: 75.69444444444444%\n"
     ]
    },
    {
     "name": "stderr",
     "output_type": "stream",
     "text": [
      "Epoch [164/200]: 100%|███████████████████████████████████████████████████| 216/216 [00:16<00:00, 13.48it/s, loss=0.629]\n",
      "100%|████████████████████████████████████████████████████████████████████████████████| 108/108 [00:03<00:00, 32.18it/s]\n"
     ]
    },
    {
     "name": "stdout",
     "output_type": "stream",
     "text": [
      "Test Accuracy: 68.98148148148148%\n"
     ]
    },
    {
     "name": "stderr",
     "output_type": "stream",
     "text": [
      "Epoch [165/200]: 100%|███████████████████████████████████████████████████| 216/216 [00:15<00:00, 13.81it/s, loss=0.464]\n",
      "100%|████████████████████████████████████████████████████████████████████████████████| 108/108 [00:03<00:00, 32.71it/s]\n"
     ]
    },
    {
     "name": "stdout",
     "output_type": "stream",
     "text": [
      "Test Accuracy: 74.76851851851852%\n"
     ]
    },
    {
     "name": "stderr",
     "output_type": "stream",
     "text": [
      "Epoch [166/200]: 100%|████████████████████████████████████████████████████| 216/216 [00:16<00:00, 13.23it/s, loss=0.35]\n",
      "100%|████████████████████████████████████████████████████████████████████████████████| 108/108 [00:03<00:00, 33.94it/s]\n"
     ]
    },
    {
     "name": "stdout",
     "output_type": "stream",
     "text": [
      "Test Accuracy: 76.1574074074074%\n"
     ]
    },
    {
     "name": "stderr",
     "output_type": "stream",
     "text": [
      "Epoch [167/200]: 100%|███████████████████████████████████████████████████| 216/216 [00:15<00:00, 13.53it/s, loss=0.285]\n",
      "100%|████████████████████████████████████████████████████████████████████████████████| 108/108 [00:03<00:00, 33.64it/s]\n"
     ]
    },
    {
     "name": "stdout",
     "output_type": "stream",
     "text": [
      "Test Accuracy: 79.16666666666667%\n"
     ]
    },
    {
     "name": "stderr",
     "output_type": "stream",
     "text": [
      "Epoch [168/200]: 100%|███████████████████████████████████████████████████| 216/216 [00:15<00:00, 13.57it/s, loss=0.283]\n",
      "100%|████████████████████████████████████████████████████████████████████████████████| 108/108 [00:03<00:00, 33.66it/s]\n"
     ]
    },
    {
     "name": "stdout",
     "output_type": "stream",
     "text": [
      "Test Accuracy: 79.86111111111111%\n"
     ]
    },
    {
     "name": "stderr",
     "output_type": "stream",
     "text": [
      "Epoch [169/200]: 100%|███████████████████████████████████████████████████| 216/216 [00:16<00:00, 12.78it/s, loss=0.234]\n",
      "100%|████████████████████████████████████████████████████████████████████████████████| 108/108 [00:03<00:00, 34.08it/s]\n"
     ]
    },
    {
     "name": "stdout",
     "output_type": "stream",
     "text": [
      "Test Accuracy: 76.85185185185185%\n"
     ]
    },
    {
     "name": "stderr",
     "output_type": "stream",
     "text": [
      "Epoch [170/200]: 100%|███████████████████████████████████████████████████| 216/216 [00:16<00:00, 13.16it/s, loss=0.234]\n",
      "100%|████████████████████████████████████████████████████████████████████████████████| 108/108 [00:03<00:00, 33.49it/s]\n"
     ]
    },
    {
     "name": "stdout",
     "output_type": "stream",
     "text": [
      "Test Accuracy: 77.54629629629629%\n"
     ]
    },
    {
     "name": "stderr",
     "output_type": "stream",
     "text": [
      "Epoch [171/200]: 100%|███████████████████████████████████████████████████| 216/216 [00:16<00:00, 12.95it/s, loss=0.249]\n",
      "100%|████████████████████████████████████████████████████████████████████████████████| 108/108 [00:03<00:00, 32.81it/s]\n"
     ]
    },
    {
     "name": "stdout",
     "output_type": "stream",
     "text": [
      "Test Accuracy: 76.85185185185185%\n"
     ]
    },
    {
     "name": "stderr",
     "output_type": "stream",
     "text": [
      "Epoch [172/200]: 100%|███████████████████████████████████████████████████| 216/216 [00:16<00:00, 13.15it/s, loss=0.247]\n",
      "100%|████████████████████████████████████████████████████████████████████████████████| 108/108 [00:03<00:00, 32.62it/s]\n"
     ]
    },
    {
     "name": "stdout",
     "output_type": "stream",
     "text": [
      "Test Accuracy: 78.70370370370371%\n"
     ]
    },
    {
     "name": "stderr",
     "output_type": "stream",
     "text": [
      "Epoch [173/200]: 100%|███████████████████████████████████████████████████| 216/216 [00:16<00:00, 13.49it/s, loss=0.255]\n",
      "100%|████████████████████████████████████████████████████████████████████████████████| 108/108 [00:03<00:00, 32.87it/s]\n"
     ]
    },
    {
     "name": "stdout",
     "output_type": "stream",
     "text": [
      "Test Accuracy: 76.85185185185185%\n"
     ]
    },
    {
     "name": "stderr",
     "output_type": "stream",
     "text": [
      "Epoch [174/200]: 100%|███████████████████████████████████████████████████| 216/216 [00:16<00:00, 13.03it/s, loss=0.272]\n",
      "100%|████████████████████████████████████████████████████████████████████████████████| 108/108 [00:03<00:00, 34.31it/s]\n"
     ]
    },
    {
     "name": "stdout",
     "output_type": "stream",
     "text": [
      "Test Accuracy: 79.39814814814815%\n"
     ]
    },
    {
     "name": "stderr",
     "output_type": "stream",
     "text": [
      "Epoch [175/200]: 100%|███████████████████████████████████████████████████| 216/216 [00:16<00:00, 13.28it/s, loss=0.209]\n",
      "100%|████████████████████████████████████████████████████████████████████████████████| 108/108 [00:03<00:00, 33.38it/s]\n"
     ]
    },
    {
     "name": "stdout",
     "output_type": "stream",
     "text": [
      "Test Accuracy: 79.86111111111111%\n"
     ]
    },
    {
     "name": "stderr",
     "output_type": "stream",
     "text": [
      "Epoch [176/200]: 100%|███████████████████████████████████████████████████| 216/216 [00:16<00:00, 13.12it/s, loss=0.218]\n",
      "100%|████████████████████████████████████████████████████████████████████████████████| 108/108 [00:03<00:00, 33.16it/s]\n"
     ]
    },
    {
     "name": "stdout",
     "output_type": "stream",
     "text": [
      "Test Accuracy: 77.08333333333333%\n"
     ]
    },
    {
     "name": "stderr",
     "output_type": "stream",
     "text": [
      "Epoch [177/200]: 100%|███████████████████████████████████████████████████| 216/216 [00:16<00:00, 12.97it/s, loss=0.288]\n",
      "100%|████████████████████████████████████████████████████████████████████████████████| 108/108 [00:03<00:00, 33.26it/s]\n"
     ]
    },
    {
     "name": "stdout",
     "output_type": "stream",
     "text": [
      "Test Accuracy: 76.1574074074074%\n"
     ]
    },
    {
     "name": "stderr",
     "output_type": "stream",
     "text": [
      "Epoch [178/200]: 100%|███████████████████████████████████████████████████| 216/216 [00:16<00:00, 13.06it/s, loss=0.352]\n",
      "100%|████████████████████████████████████████████████████████████████████████████████| 108/108 [00:03<00:00, 33.24it/s]\n"
     ]
    },
    {
     "name": "stdout",
     "output_type": "stream",
     "text": [
      "Test Accuracy: 78.00925925925925%\n"
     ]
    },
    {
     "name": "stderr",
     "output_type": "stream",
     "text": [
      "Epoch [179/200]: 100%|███████████████████████████████████████████████████| 216/216 [00:17<00:00, 12.18it/s, loss=0.259]\n",
      "100%|████████████████████████████████████████████████████████████████████████████████| 108/108 [00:03<00:00, 31.70it/s]\n"
     ]
    },
    {
     "name": "stdout",
     "output_type": "stream",
     "text": [
      "Test Accuracy: 80.0925925925926%\n"
     ]
    },
    {
     "name": "stderr",
     "output_type": "stream",
     "text": [
      "Epoch [180/200]: 100%|███████████████████████████████████████████████████| 216/216 [00:17<00:00, 12.49it/s, loss=0.243]\n",
      "100%|████████████████████████████████████████████████████████████████████████████████| 108/108 [00:03<00:00, 32.69it/s]\n"
     ]
    },
    {
     "name": "stdout",
     "output_type": "stream",
     "text": [
      "Test Accuracy: 79.16666666666667%\n"
     ]
    },
    {
     "name": "stderr",
     "output_type": "stream",
     "text": [
      "Epoch [181/200]: 100%|███████████████████████████████████████████████████| 216/216 [00:17<00:00, 12.57it/s, loss=0.226]\n",
      "100%|████████████████████████████████████████████████████████████████████████████████| 108/108 [00:03<00:00, 32.21it/s]\n"
     ]
    },
    {
     "name": "stdout",
     "output_type": "stream",
     "text": [
      "Test Accuracy: 77.31481481481481%\n"
     ]
    },
    {
     "name": "stderr",
     "output_type": "stream",
     "text": [
      "Epoch [182/200]: 100%|███████████████████████████████████████████████████| 216/216 [00:15<00:00, 13.65it/s, loss=0.267]\n",
      "100%|████████████████████████████████████████████████████████████████████████████████| 108/108 [00:03<00:00, 34.59it/s]\n"
     ]
    },
    {
     "name": "stdout",
     "output_type": "stream",
     "text": [
      "Test Accuracy: 78.47222222222223%\n"
     ]
    },
    {
     "name": "stderr",
     "output_type": "stream",
     "text": [
      "Epoch [183/200]: 100%|███████████████████████████████████████████████████| 216/216 [00:17<00:00, 12.62it/s, loss=0.222]\n",
      "100%|████████████████████████████████████████████████████████████████████████████████| 108/108 [00:03<00:00, 32.78it/s]\n"
     ]
    },
    {
     "name": "stdout",
     "output_type": "stream",
     "text": [
      "Test Accuracy: 76.85185185185185%\n"
     ]
    },
    {
     "name": "stderr",
     "output_type": "stream",
     "text": [
      "Epoch [184/200]: 100%|███████████████████████████████████████████████████| 216/216 [00:17<00:00, 12.09it/s, loss=0.228]\n",
      "100%|████████████████████████████████████████████████████████████████████████████████| 108/108 [00:03<00:00, 32.02it/s]\n"
     ]
    },
    {
     "name": "stdout",
     "output_type": "stream",
     "text": [
      "Test Accuracy: 76.1574074074074%\n"
     ]
    },
    {
     "name": "stderr",
     "output_type": "stream",
     "text": [
      "Epoch [185/200]: 100%|███████████████████████████████████████████████████| 216/216 [00:15<00:00, 13.62it/s, loss=0.248]\n",
      "100%|████████████████████████████████████████████████████████████████████████████████| 108/108 [00:03<00:00, 34.37it/s]\n"
     ]
    },
    {
     "name": "stdout",
     "output_type": "stream",
     "text": [
      "Test Accuracy: 77.08333333333333%\n"
     ]
    },
    {
     "name": "stderr",
     "output_type": "stream",
     "text": [
      "Epoch [186/200]: 100%|████████████████████████████████████████████████████| 216/216 [00:16<00:00, 12.77it/s, loss=0.22]\n",
      "100%|████████████████████████████████████████████████████████████████████████████████| 108/108 [00:03<00:00, 33.44it/s]\n"
     ]
    },
    {
     "name": "stdout",
     "output_type": "stream",
     "text": [
      "Test Accuracy: 77.08333333333333%\n"
     ]
    },
    {
     "name": "stderr",
     "output_type": "stream",
     "text": [
      "Epoch [187/200]: 100%|███████████████████████████████████████████████████| 216/216 [00:16<00:00, 12.75it/s, loss=0.244]\n",
      "100%|████████████████████████████████████████████████████████████████████████████████| 108/108 [00:03<00:00, 32.88it/s]\n"
     ]
    },
    {
     "name": "stdout",
     "output_type": "stream",
     "text": [
      "Test Accuracy: 78.70370370370371%\n"
     ]
    },
    {
     "name": "stderr",
     "output_type": "stream",
     "text": [
      "Epoch [188/200]: 100%|███████████████████████████████████████████████████| 216/216 [00:16<00:00, 13.38it/s, loss=0.242]\n",
      "100%|████████████████████████████████████████████████████████████████████████████████| 108/108 [00:03<00:00, 34.21it/s]\n"
     ]
    },
    {
     "name": "stdout",
     "output_type": "stream",
     "text": [
      "Test Accuracy: 77.31481481481481%\n"
     ]
    },
    {
     "name": "stderr",
     "output_type": "stream",
     "text": [
      "Epoch [189/200]: 100%|███████████████████████████████████████████████████| 216/216 [00:16<00:00, 13.20it/s, loss=0.213]\n",
      "100%|████████████████████████████████████████████████████████████████████████████████| 108/108 [00:03<00:00, 33.30it/s]\n"
     ]
    },
    {
     "name": "stdout",
     "output_type": "stream",
     "text": [
      "Test Accuracy: 77.31481481481481%\n"
     ]
    },
    {
     "name": "stderr",
     "output_type": "stream",
     "text": [
      "Epoch [190/200]: 100%|███████████████████████████████████████████████████| 216/216 [00:16<00:00, 12.93it/s, loss=0.176]\n",
      "100%|████████████████████████████████████████████████████████████████████████████████| 108/108 [00:03<00:00, 33.50it/s]\n"
     ]
    },
    {
     "name": "stdout",
     "output_type": "stream",
     "text": [
      "Test Accuracy: 78.00925925925925%\n"
     ]
    },
    {
     "name": "stderr",
     "output_type": "stream",
     "text": [
      "Epoch [191/200]: 100%|███████████████████████████████████████████████████| 216/216 [00:16<00:00, 12.89it/s, loss=0.222]\n",
      "100%|████████████████████████████████████████████████████████████████████████████████| 108/108 [00:03<00:00, 33.63it/s]\n"
     ]
    },
    {
     "name": "stdout",
     "output_type": "stream",
     "text": [
      "Test Accuracy: 78.70370370370371%\n"
     ]
    },
    {
     "name": "stderr",
     "output_type": "stream",
     "text": [
      "Epoch [192/200]: 100%|███████████████████████████████████████████████████| 216/216 [00:16<00:00, 13.09it/s, loss=0.231]\n",
      "100%|████████████████████████████████████████████████████████████████████████████████| 108/108 [00:03<00:00, 33.67it/s]\n"
     ]
    },
    {
     "name": "stdout",
     "output_type": "stream",
     "text": [
      "Test Accuracy: 77.08333333333333%\n"
     ]
    },
    {
     "name": "stderr",
     "output_type": "stream",
     "text": [
      "Epoch [193/200]: 100%|███████████████████████████████████████████████████| 216/216 [00:16<00:00, 13.23it/s, loss=0.218]\n",
      "100%|████████████████████████████████████████████████████████████████████████████████| 108/108 [00:03<00:00, 33.66it/s]\n"
     ]
    },
    {
     "name": "stdout",
     "output_type": "stream",
     "text": [
      "Test Accuracy: 80.32407407407408%\n"
     ]
    },
    {
     "name": "stderr",
     "output_type": "stream",
     "text": [
      "Epoch [194/200]: 100%|███████████████████████████████████████████████████| 216/216 [00:17<00:00, 12.66it/s, loss=0.228]\n",
      "100%|████████████████████████████████████████████████████████████████████████████████| 108/108 [00:03<00:00, 31.54it/s]\n"
     ]
    },
    {
     "name": "stdout",
     "output_type": "stream",
     "text": [
      "Test Accuracy: 75.69444444444444%\n"
     ]
    },
    {
     "name": "stderr",
     "output_type": "stream",
     "text": [
      "Epoch [195/200]: 100%|███████████████████████████████████████████████████| 216/216 [00:17<00:00, 12.08it/s, loss=0.259]\n",
      "100%|████████████████████████████████████████████████████████████████████████████████| 108/108 [00:03<00:00, 32.31it/s]\n"
     ]
    },
    {
     "name": "stdout",
     "output_type": "stream",
     "text": [
      "Test Accuracy: 79.16666666666667%\n"
     ]
    },
    {
     "name": "stderr",
     "output_type": "stream",
     "text": [
      "Epoch [196/200]: 100%|████████████████████████████████████████████████████| 216/216 [00:16<00:00, 12.80it/s, loss=0.23]\n",
      "100%|████████████████████████████████████████████████████████████████████████████████| 108/108 [00:03<00:00, 33.20it/s]\n"
     ]
    },
    {
     "name": "stdout",
     "output_type": "stream",
     "text": [
      "Test Accuracy: 76.38888888888889%\n"
     ]
    },
    {
     "name": "stderr",
     "output_type": "stream",
     "text": [
      "Epoch [197/200]: 100%|███████████████████████████████████████████████████| 216/216 [00:16<00:00, 12.74it/s, loss=0.266]\n",
      "100%|████████████████████████████████████████████████████████████████████████████████| 108/108 [00:03<00:00, 33.52it/s]\n"
     ]
    },
    {
     "name": "stdout",
     "output_type": "stream",
     "text": [
      "Test Accuracy: 78.24074074074075%\n"
     ]
    },
    {
     "name": "stderr",
     "output_type": "stream",
     "text": [
      "Epoch [198/200]: 100%|███████████████████████████████████████████████████| 216/216 [00:17<00:00, 12.58it/s, loss=0.223]\n",
      "100%|████████████████████████████████████████████████████████████████████████████████| 108/108 [00:03<00:00, 33.31it/s]\n"
     ]
    },
    {
     "name": "stdout",
     "output_type": "stream",
     "text": [
      "Test Accuracy: 79.39814814814815%\n"
     ]
    },
    {
     "name": "stderr",
     "output_type": "stream",
     "text": [
      "Epoch [199/200]: 100%|███████████████████████████████████████████████████| 216/216 [00:16<00:00, 12.72it/s, loss=0.212]\n",
      "100%|████████████████████████████████████████████████████████████████████████████████| 108/108 [00:03<00:00, 32.48it/s]\n"
     ]
    },
    {
     "name": "stdout",
     "output_type": "stream",
     "text": [
      "Test Accuracy: 79.39814814814815%\n"
     ]
    },
    {
     "name": "stderr",
     "output_type": "stream",
     "text": [
      "Epoch [200/200]: 100%|███████████████████████████████████████████████████| 216/216 [00:17<00:00, 12.63it/s, loss=0.189]\n",
      "100%|████████████████████████████████████████████████████████████████████████████████| 108/108 [00:03<00:00, 31.52it/s]"
     ]
    },
    {
     "name": "stdout",
     "output_type": "stream",
     "text": [
      "Test Accuracy: 78.00925925925925%\n",
      "Training finished!\n"
     ]
    },
    {
     "name": "stderr",
     "output_type": "stream",
     "text": [
      "\n"
     ]
    }
   ],
   "source": [
    "accuracy_list = []\n",
    "for epoch in range(num_epochs):\n",
    "    running_loss = 0.0\n",
    "    loop = tqdm(dataloader, total=len(dataloader), leave=True)\n",
    "    model.train()\n",
    "    \n",
    "    for images, labels in loop:\n",
    "        images = images.to(device)\n",
    "        labels = labels.to(device)\n",
    "\n",
    "        # Forward pass\n",
    "        outputs = model(images)\n",
    "        loss = criterion(outputs, labels)\n",
    "\n",
    "        # Backward and optimize\n",
    "        optimizer.zero_grad()\n",
    "        loss.backward()\n",
    "        optimizer.step()\n",
    "\n",
    "        running_loss += loss.item()\n",
    "        loop.set_description(f'Epoch [{epoch+1}/{num_epochs}]')\n",
    "        loop.set_postfix(loss=running_loss / (len(dataloader)))\n",
    "    accuracy_list.append(test(model,test_loader))\n",
    "    torch.save(model.state_dict(), \"result/model_LSTM_512_3_{}.pth\".format(epoch))\n",
    "    \n",
    "print('Training finished!')"
   ]
  },
  {
   "cell_type": "code",
   "execution_count": 28,
   "id": "c708d8f6",
   "metadata": {},
   "outputs": [
    {
     "name": "stderr",
     "output_type": "stream",
     "text": [
      "100%|████████████████████████████████████████████████████████████████████████████████| 108/108 [00:03<00:00, 31.69it/s]"
     ]
    },
    {
     "name": "stdout",
     "output_type": "stream",
     "text": [
      "Test Accuracy: 78.70370370370371%\n"
     ]
    },
    {
     "name": "stderr",
     "output_type": "stream",
     "text": [
      "\n"
     ]
    },
    {
     "data": {
      "text/plain": [
       "78.70370370370371"
      ]
     },
     "execution_count": 28,
     "metadata": {},
     "output_type": "execute_result"
    }
   ],
   "source": [
    "test(model, validation_loader)"
   ]
  },
  {
   "cell_type": "code",
   "execution_count": 53,
   "id": "b0222f12",
   "metadata": {},
   "outputs": [
    {
     "name": "stderr",
     "output_type": "stream",
     "text": [
      "Epoch [1/100]: 100%|██████████████████████████████████████████████████████| 216/216 [00:12<00:00, 16.81it/s, loss=1.59]\n",
      "100%|████████████████████████████████████████████████████████████████████████████████| 108/108 [00:02<00:00, 40.42it/s]\n"
     ]
    },
    {
     "name": "stdout",
     "output_type": "stream",
     "text": [
      "Test Accuracy: 42.129629629629626%\n"
     ]
    },
    {
     "name": "stderr",
     "output_type": "stream",
     "text": [
      "Epoch [2/100]: 100%|██████████████████████████████████████████████████████| 216/216 [00:12<00:00, 16.95it/s, loss=1.51]\n",
      "100%|████████████████████████████████████████████████████████████████████████████████| 108/108 [00:02<00:00, 41.76it/s]\n"
     ]
    },
    {
     "name": "stdout",
     "output_type": "stream",
     "text": [
      "Test Accuracy: 40.0462962962963%\n"
     ]
    },
    {
     "name": "stderr",
     "output_type": "stream",
     "text": [
      "Epoch [3/100]: 100%|██████████████████████████████████████████████████████| 216/216 [00:12<00:00, 17.07it/s, loss=1.44]\n",
      "100%|████████████████████████████████████████████████████████████████████████████████| 108/108 [00:02<00:00, 42.10it/s]\n"
     ]
    },
    {
     "name": "stdout",
     "output_type": "stream",
     "text": [
      "Test Accuracy: 35.879629629629626%\n"
     ]
    },
    {
     "name": "stderr",
     "output_type": "stream",
     "text": [
      "Epoch [4/100]: 100%|███████████████████████████████████████████████████████| 216/216 [00:12<00:00, 17.09it/s, loss=1.4]\n",
      "100%|████████████████████████████████████████████████████████████████████████████████| 108/108 [00:02<00:00, 41.49it/s]\n"
     ]
    },
    {
     "name": "stdout",
     "output_type": "stream",
     "text": [
      "Test Accuracy: 44.675925925925924%\n"
     ]
    },
    {
     "name": "stderr",
     "output_type": "stream",
     "text": [
      "Epoch [5/100]: 100%|██████████████████████████████████████████████████████| 216/216 [00:12<00:00, 17.07it/s, loss=1.35]\n",
      "100%|████████████████████████████████████████████████████████████████████████████████| 108/108 [00:02<00:00, 42.08it/s]\n"
     ]
    },
    {
     "name": "stdout",
     "output_type": "stream",
     "text": [
      "Test Accuracy: 43.05555555555556%\n"
     ]
    },
    {
     "name": "stderr",
     "output_type": "stream",
     "text": [
      "Epoch [6/100]: 100%|███████████████████████████████████████████████████████| 216/216 [00:12<00:00, 17.09it/s, loss=1.3]\n",
      "100%|████████████████████████████████████████████████████████████████████████████████| 108/108 [00:02<00:00, 41.24it/s]\n"
     ]
    },
    {
     "name": "stdout",
     "output_type": "stream",
     "text": [
      "Test Accuracy: 47.4537037037037%\n"
     ]
    },
    {
     "name": "stderr",
     "output_type": "stream",
     "text": [
      "Epoch [7/100]: 100%|██████████████████████████████████████████████████████| 216/216 [00:12<00:00, 16.93it/s, loss=1.25]\n",
      "100%|████████████████████████████████████████████████████████████████████████████████| 108/108 [00:02<00:00, 42.09it/s]\n"
     ]
    },
    {
     "name": "stdout",
     "output_type": "stream",
     "text": [
      "Test Accuracy: 53.47222222222222%\n"
     ]
    },
    {
     "name": "stderr",
     "output_type": "stream",
     "text": [
      "Epoch [8/100]: 100%|██████████████████████████████████████████████████████| 216/216 [00:12<00:00, 17.10it/s, loss=1.22]\n",
      "100%|████████████████████████████████████████████████████████████████████████████████| 108/108 [00:02<00:00, 42.09it/s]\n"
     ]
    },
    {
     "name": "stdout",
     "output_type": "stream",
     "text": [
      "Test Accuracy: 53.00925925925926%\n"
     ]
    },
    {
     "name": "stderr",
     "output_type": "stream",
     "text": [
      "Epoch [9/100]: 100%|██████████████████████████████████████████████████████| 216/216 [00:12<00:00, 17.09it/s, loss=1.18]\n",
      "100%|████████████████████████████████████████████████████████████████████████████████| 108/108 [00:02<00:00, 42.32it/s]\n"
     ]
    },
    {
     "name": "stdout",
     "output_type": "stream",
     "text": [
      "Test Accuracy: 51.620370370370374%\n"
     ]
    },
    {
     "name": "stderr",
     "output_type": "stream",
     "text": [
      "Epoch [10/100]: 100%|█████████████████████████████████████████████████████| 216/216 [00:12<00:00, 16.77it/s, loss=1.25]\n",
      "100%|████████████████████████████████████████████████████████████████████████████████| 108/108 [00:02<00:00, 43.79it/s]\n"
     ]
    },
    {
     "name": "stdout",
     "output_type": "stream",
     "text": [
      "Test Accuracy: 42.592592592592595%\n"
     ]
    },
    {
     "name": "stderr",
     "output_type": "stream",
     "text": [
      "Epoch [11/100]: 100%|█████████████████████████████████████████████████████| 216/216 [00:12<00:00, 17.89it/s, loss=1.26]\n",
      "100%|████████████████████████████████████████████████████████████████████████████████| 108/108 [00:02<00:00, 46.01it/s]\n"
     ]
    },
    {
     "name": "stdout",
     "output_type": "stream",
     "text": [
      "Test Accuracy: 49.30555555555556%\n"
     ]
    },
    {
     "name": "stderr",
     "output_type": "stream",
     "text": [
      "Epoch [12/100]: 100%|█████████████████████████████████████████████████████| 216/216 [00:12<00:00, 17.94it/s, loss=1.26]\n",
      "100%|████████████████████████████████████████████████████████████████████████████████| 108/108 [00:02<00:00, 42.51it/s]\n"
     ]
    },
    {
     "name": "stdout",
     "output_type": "stream",
     "text": [
      "Test Accuracy: 40.50925925925926%\n"
     ]
    },
    {
     "name": "stderr",
     "output_type": "stream",
     "text": [
      "Epoch [13/100]: 100%|█████████████████████████████████████████████████████| 216/216 [00:12<00:00, 17.04it/s, loss=1.23]\n",
      "100%|████████████████████████████████████████████████████████████████████████████████| 108/108 [00:02<00:00, 40.98it/s]\n"
     ]
    },
    {
     "name": "stdout",
     "output_type": "stream",
     "text": [
      "Test Accuracy: 48.379629629629626%\n"
     ]
    },
    {
     "name": "stderr",
     "output_type": "stream",
     "text": [
      "Epoch [14/100]: 100%|█████████████████████████████████████████████████████| 216/216 [00:12<00:00, 17.22it/s, loss=1.18]\n",
      "100%|████████████████████████████████████████████████████████████████████████████████| 108/108 [00:02<00:00, 44.05it/s]\n"
     ]
    },
    {
     "name": "stdout",
     "output_type": "stream",
     "text": [
      "Test Accuracy: 56.01851851851852%\n"
     ]
    },
    {
     "name": "stderr",
     "output_type": "stream",
     "text": [
      "Epoch [15/100]: 100%|█████████████████████████████████████████████████████| 216/216 [00:12<00:00, 17.36it/s, loss=1.12]\n",
      "100%|████████████████████████████████████████████████████████████████████████████████| 108/108 [00:02<00:00, 42.55it/s]\n"
     ]
    },
    {
     "name": "stdout",
     "output_type": "stream",
     "text": [
      "Test Accuracy: 56.71296296296296%\n"
     ]
    },
    {
     "name": "stderr",
     "output_type": "stream",
     "text": [
      "Epoch [16/100]: 100%|██████████████████████████████████████████████████████| 216/216 [00:12<00:00, 17.62it/s, loss=1.1]\n",
      "100%|████████████████████████████████████████████████████████████████████████████████| 108/108 [00:02<00:00, 43.52it/s]\n"
     ]
    },
    {
     "name": "stdout",
     "output_type": "stream",
     "text": [
      "Test Accuracy: 57.638888888888886%\n"
     ]
    },
    {
     "name": "stderr",
     "output_type": "stream",
     "text": [
      "Epoch [17/100]: 100%|█████████████████████████████████████████████████████| 216/216 [00:12<00:00, 17.63it/s, loss=1.08]\n",
      "100%|████████████████████████████████████████████████████████████████████████████████| 108/108 [00:02<00:00, 43.27it/s]\n"
     ]
    },
    {
     "name": "stdout",
     "output_type": "stream",
     "text": [
      "Test Accuracy: 55.78703703703704%\n"
     ]
    },
    {
     "name": "stderr",
     "output_type": "stream",
     "text": [
      "Epoch [18/100]: 100%|██████████████████████████████████████████████████████| 216/216 [00:12<00:00, 17.51it/s, loss=1.1]\n",
      "100%|████████████████████████████████████████████████████████████████████████████████| 108/108 [00:02<00:00, 44.40it/s]\n"
     ]
    },
    {
     "name": "stdout",
     "output_type": "stream",
     "text": [
      "Test Accuracy: 59.25925925925926%\n"
     ]
    },
    {
     "name": "stderr",
     "output_type": "stream",
     "text": [
      "Epoch [19/100]: 100%|█████████████████████████████████████████████████████| 216/216 [00:12<00:00, 17.56it/s, loss=1.06]\n",
      "100%|████████████████████████████████████████████████████████████████████████████████| 108/108 [00:02<00:00, 44.14it/s]\n"
     ]
    },
    {
     "name": "stdout",
     "output_type": "stream",
     "text": [
      "Test Accuracy: 58.333333333333336%\n"
     ]
    },
    {
     "name": "stderr",
     "output_type": "stream",
     "text": [
      "Epoch [20/100]: 100%|█████████████████████████████████████████████████████| 216/216 [00:12<00:00, 17.68it/s, loss=1.06]\n",
      "100%|████████████████████████████████████████████████████████████████████████████████| 108/108 [00:02<00:00, 43.70it/s]\n"
     ]
    },
    {
     "name": "stdout",
     "output_type": "stream",
     "text": [
      "Test Accuracy: 58.7962962962963%\n"
     ]
    },
    {
     "name": "stderr",
     "output_type": "stream",
     "text": [
      "Epoch [21/100]: 100%|█████████████████████████████████████████████████████| 216/216 [00:12<00:00, 17.57it/s, loss=1.03]\n",
      "100%|████████████████████████████████████████████████████████████████████████████████| 108/108 [00:02<00:00, 43.34it/s]\n"
     ]
    },
    {
     "name": "stdout",
     "output_type": "stream",
     "text": [
      "Test Accuracy: 58.7962962962963%\n"
     ]
    },
    {
     "name": "stderr",
     "output_type": "stream",
     "text": [
      "Epoch [22/100]: 100%|████████████████████████████████████████████████████| 216/216 [00:12<00:00, 17.78it/s, loss=0.998]\n",
      "100%|████████████████████████████████████████████████████████████████████████████████| 108/108 [00:02<00:00, 42.67it/s]\n"
     ]
    },
    {
     "name": "stdout",
     "output_type": "stream",
     "text": [
      "Test Accuracy: 62.5%\n"
     ]
    },
    {
     "name": "stderr",
     "output_type": "stream",
     "text": [
      "Epoch [23/100]: 100%|████████████████████████████████████████████████████| 216/216 [00:12<00:00, 17.61it/s, loss=0.978]\n",
      "100%|████████████████████████████████████████████████████████████████████████████████| 108/108 [00:02<00:00, 42.93it/s]\n"
     ]
    },
    {
     "name": "stdout",
     "output_type": "stream",
     "text": [
      "Test Accuracy: 60.648148148148145%\n"
     ]
    },
    {
     "name": "stderr",
     "output_type": "stream",
     "text": [
      "Epoch [24/100]: 100%|████████████████████████████████████████████████████| 216/216 [00:12<00:00, 17.72it/s, loss=0.988]\n",
      "100%|████████████████████████████████████████████████████████████████████████████████| 108/108 [00:02<00:00, 43.50it/s]\n"
     ]
    },
    {
     "name": "stdout",
     "output_type": "stream",
     "text": [
      "Test Accuracy: 60.18518518518518%\n"
     ]
    },
    {
     "name": "stderr",
     "output_type": "stream",
     "text": [
      "Epoch [25/100]: 100%|████████████████████████████████████████████████████| 216/216 [00:12<00:00, 17.51it/s, loss=0.938]\n",
      "100%|████████████████████████████████████████████████████████████████████████████████| 108/108 [00:02<00:00, 43.80it/s]\n"
     ]
    },
    {
     "name": "stdout",
     "output_type": "stream",
     "text": [
      "Test Accuracy: 60.648148148148145%\n"
     ]
    },
    {
     "name": "stderr",
     "output_type": "stream",
     "text": [
      "Epoch [26/100]: 100%|████████████████████████████████████████████████████| 216/216 [00:12<00:00, 17.61it/s, loss=0.967]\n",
      "100%|████████████████████████████████████████████████████████████████████████████████| 108/108 [00:02<00:00, 44.09it/s]\n"
     ]
    },
    {
     "name": "stdout",
     "output_type": "stream",
     "text": [
      "Test Accuracy: 57.407407407407405%\n"
     ]
    },
    {
     "name": "stderr",
     "output_type": "stream",
     "text": [
      "Epoch [27/100]: 100%|████████████████████████████████████████████████████| 216/216 [00:12<00:00, 17.55it/s, loss=0.909]\n",
      "100%|████████████████████████████████████████████████████████████████████████████████| 108/108 [00:02<00:00, 44.64it/s]\n"
     ]
    },
    {
     "name": "stdout",
     "output_type": "stream",
     "text": [
      "Test Accuracy: 61.80555555555556%\n"
     ]
    },
    {
     "name": "stderr",
     "output_type": "stream",
     "text": [
      "Epoch [28/100]: 100%|████████████████████████████████████████████████████| 216/216 [00:12<00:00, 17.16it/s, loss=0.903]\n",
      "100%|████████████████████████████████████████████████████████████████████████████████| 108/108 [00:02<00:00, 42.41it/s]\n"
     ]
    },
    {
     "name": "stdout",
     "output_type": "stream",
     "text": [
      "Test Accuracy: 64.81481481481481%\n"
     ]
    },
    {
     "name": "stderr",
     "output_type": "stream",
     "text": [
      "Epoch [29/100]: 100%|██████████████████████████████████████████████████████| 216/216 [00:12<00:00, 17.52it/s, loss=0.9]\n",
      "100%|████████████████████████████████████████████████████████████████████████████████| 108/108 [00:02<00:00, 43.21it/s]\n"
     ]
    },
    {
     "name": "stdout",
     "output_type": "stream",
     "text": [
      "Test Accuracy: 65.27777777777777%\n"
     ]
    },
    {
     "name": "stderr",
     "output_type": "stream",
     "text": [
      "Epoch [30/100]: 100%|████████████████████████████████████████████████████| 216/216 [00:12<00:00, 17.65it/s, loss=0.912]\n",
      "100%|████████████████████████████████████████████████████████████████████████████████| 108/108 [00:02<00:00, 42.59it/s]\n"
     ]
    },
    {
     "name": "stdout",
     "output_type": "stream",
     "text": [
      "Test Accuracy: 65.74074074074075%\n"
     ]
    },
    {
     "name": "stderr",
     "output_type": "stream",
     "text": [
      "Epoch [31/100]: 100%|████████████████████████████████████████████████████| 216/216 [00:12<00:00, 16.74it/s, loss=0.869]\n",
      "100%|████████████████████████████████████████████████████████████████████████████████| 108/108 [00:02<00:00, 43.68it/s]\n"
     ]
    },
    {
     "name": "stdout",
     "output_type": "stream",
     "text": [
      "Test Accuracy: 65.50925925925925%\n"
     ]
    },
    {
     "name": "stderr",
     "output_type": "stream",
     "text": [
      "Epoch [32/100]: 100%|████████████████████████████████████████████████████| 216/216 [00:11<00:00, 18.24it/s, loss=0.842]\n",
      "100%|████████████████████████████████████████████████████████████████████████████████| 108/108 [00:02<00:00, 44.64it/s]\n"
     ]
    },
    {
     "name": "stdout",
     "output_type": "stream",
     "text": [
      "Test Accuracy: 68.05555555555556%\n"
     ]
    },
    {
     "name": "stderr",
     "output_type": "stream",
     "text": [
      "Epoch [33/100]: 100%|████████████████████████████████████████████████████| 216/216 [00:12<00:00, 17.11it/s, loss=0.813]\n",
      "100%|████████████████████████████████████████████████████████████████████████████████| 108/108 [00:02<00:00, 41.45it/s]\n"
     ]
    },
    {
     "name": "stdout",
     "output_type": "stream",
     "text": [
      "Test Accuracy: 70.37037037037037%\n"
     ]
    },
    {
     "name": "stderr",
     "output_type": "stream",
     "text": [
      "Epoch [34/100]: 100%|████████████████████████████████████████████████████| 216/216 [00:12<00:00, 17.08it/s, loss=0.797]\n",
      "100%|████████████████████████████████████████████████████████████████████████████████| 108/108 [00:02<00:00, 44.49it/s]\n"
     ]
    },
    {
     "name": "stdout",
     "output_type": "stream",
     "text": [
      "Test Accuracy: 59.02777777777778%\n"
     ]
    },
    {
     "name": "stderr",
     "output_type": "stream",
     "text": [
      "Epoch [35/100]: 100%|████████████████████████████████████████████████████| 216/216 [00:12<00:00, 17.30it/s, loss=0.853]\n",
      "100%|████████████████████████████████████████████████████████████████████████████████| 108/108 [00:02<00:00, 45.33it/s]\n"
     ]
    },
    {
     "name": "stdout",
     "output_type": "stream",
     "text": [
      "Test Accuracy: 69.21296296296296%\n"
     ]
    },
    {
     "name": "stderr",
     "output_type": "stream",
     "text": [
      "Epoch [36/100]: 100%|████████████████████████████████████████████████████| 216/216 [00:12<00:00, 17.56it/s, loss=0.823]\n",
      "100%|████████████████████████████████████████████████████████████████████████████████| 108/108 [00:02<00:00, 44.30it/s]\n"
     ]
    },
    {
     "name": "stdout",
     "output_type": "stream",
     "text": [
      "Test Accuracy: 65.27777777777777%\n"
     ]
    },
    {
     "name": "stderr",
     "output_type": "stream",
     "text": [
      "Epoch [37/100]: 100%|████████████████████████████████████████████████████| 216/216 [00:12<00:00, 17.61it/s, loss=0.831]\n",
      "100%|████████████████████████████████████████████████████████████████████████████████| 108/108 [00:02<00:00, 44.90it/s]\n"
     ]
    },
    {
     "name": "stdout",
     "output_type": "stream",
     "text": [
      "Test Accuracy: 67.12962962962963%\n"
     ]
    },
    {
     "name": "stderr",
     "output_type": "stream",
     "text": [
      "Epoch [38/100]: 100%|████████████████████████████████████████████████████| 216/216 [00:12<00:00, 17.81it/s, loss=0.794]\n",
      "100%|████████████████████████████████████████████████████████████████████████████████| 108/108 [00:02<00:00, 43.44it/s]\n"
     ]
    },
    {
     "name": "stdout",
     "output_type": "stream",
     "text": [
      "Test Accuracy: 63.657407407407405%\n"
     ]
    },
    {
     "name": "stderr",
     "output_type": "stream",
     "text": [
      "Epoch [39/100]: 100%|████████████████████████████████████████████████████| 216/216 [00:11<00:00, 18.08it/s, loss=0.839]\n",
      "100%|████████████████████████████████████████████████████████████████████████████████| 108/108 [00:02<00:00, 44.70it/s]\n"
     ]
    },
    {
     "name": "stdout",
     "output_type": "stream",
     "text": [
      "Test Accuracy: 68.75%\n"
     ]
    },
    {
     "name": "stderr",
     "output_type": "stream",
     "text": [
      "Epoch [40/100]: 100%|████████████████████████████████████████████████████| 216/216 [00:11<00:00, 18.17it/s, loss=0.796]\n",
      "100%|████████████████████████████████████████████████████████████████████████████████| 108/108 [00:02<00:00, 44.03it/s]\n"
     ]
    },
    {
     "name": "stdout",
     "output_type": "stream",
     "text": [
      "Test Accuracy: 68.05555555555556%\n"
     ]
    },
    {
     "name": "stderr",
     "output_type": "stream",
     "text": [
      "Epoch [41/100]: 100%|████████████████████████████████████████████████████| 216/216 [00:11<00:00, 18.19it/s, loss=0.752]\n",
      "100%|████████████████████████████████████████████████████████████████████████████████| 108/108 [00:02<00:00, 43.79it/s]\n"
     ]
    },
    {
     "name": "stdout",
     "output_type": "stream",
     "text": [
      "Test Accuracy: 71.06481481481481%\n"
     ]
    },
    {
     "name": "stderr",
     "output_type": "stream",
     "text": [
      "Epoch [42/100]: 100%|████████████████████████████████████████████████████| 216/216 [00:12<00:00, 16.98it/s, loss=0.757]\n",
      "100%|████████████████████████████████████████████████████████████████████████████████| 108/108 [00:02<00:00, 43.87it/s]\n"
     ]
    },
    {
     "name": "stdout",
     "output_type": "stream",
     "text": [
      "Test Accuracy: 65.04629629629629%\n"
     ]
    },
    {
     "name": "stderr",
     "output_type": "stream",
     "text": [
      "Epoch [43/100]: 100%|████████████████████████████████████████████████████| 216/216 [00:12<00:00, 17.47it/s, loss=0.803]\n",
      "100%|████████████████████████████████████████████████████████████████████████████████| 108/108 [00:02<00:00, 43.88it/s]\n"
     ]
    },
    {
     "name": "stdout",
     "output_type": "stream",
     "text": [
      "Test Accuracy: 70.37037037037037%\n"
     ]
    },
    {
     "name": "stderr",
     "output_type": "stream",
     "text": [
      "Epoch [44/100]: 100%|████████████████████████████████████████████████████| 216/216 [00:12<00:00, 17.38it/s, loss=0.747]\n",
      "100%|████████████████████████████████████████████████████████████████████████████████| 108/108 [00:02<00:00, 43.45it/s]\n"
     ]
    },
    {
     "name": "stdout",
     "output_type": "stream",
     "text": [
      "Test Accuracy: 71.52777777777777%\n"
     ]
    },
    {
     "name": "stderr",
     "output_type": "stream",
     "text": [
      "Epoch [45/100]: 100%|████████████████████████████████████████████████████| 216/216 [00:12<00:00, 17.75it/s, loss=0.735]\n",
      "100%|████████████████████████████████████████████████████████████████████████████████| 108/108 [00:02<00:00, 44.33it/s]\n"
     ]
    },
    {
     "name": "stdout",
     "output_type": "stream",
     "text": [
      "Test Accuracy: 65.97222222222223%\n"
     ]
    },
    {
     "name": "stderr",
     "output_type": "stream",
     "text": [
      "Epoch [46/100]: 100%|████████████████████████████████████████████████████| 216/216 [00:12<00:00, 17.52it/s, loss=0.753]\n",
      "100%|████████████████████████████████████████████████████████████████████████████████| 108/108 [00:02<00:00, 43.92it/s]\n"
     ]
    },
    {
     "name": "stdout",
     "output_type": "stream",
     "text": [
      "Test Accuracy: 65.97222222222223%\n"
     ]
    },
    {
     "name": "stderr",
     "output_type": "stream",
     "text": [
      "Epoch [47/100]: 100%|████████████████████████████████████████████████████| 216/216 [00:12<00:00, 17.29it/s, loss=0.715]\n",
      "100%|████████████████████████████████████████████████████████████████████████████████| 108/108 [00:02<00:00, 44.38it/s]\n"
     ]
    },
    {
     "name": "stdout",
     "output_type": "stream",
     "text": [
      "Test Accuracy: 69.9074074074074%\n"
     ]
    },
    {
     "name": "stderr",
     "output_type": "stream",
     "text": [
      "Epoch [48/100]: 100%|████████████████████████████████████████████████████| 216/216 [00:12<00:00, 17.59it/s, loss=0.788]\n",
      "100%|████████████████████████████████████████████████████████████████████████████████| 108/108 [00:02<00:00, 43.89it/s]\n"
     ]
    },
    {
     "name": "stdout",
     "output_type": "stream",
     "text": [
      "Test Accuracy: 68.98148148148148%\n"
     ]
    },
    {
     "name": "stderr",
     "output_type": "stream",
     "text": [
      "Epoch [49/100]: 100%|█████████████████████████████████████████████████████| 216/216 [00:12<00:00, 17.47it/s, loss=0.73]\n",
      "100%|████████████████████████████████████████████████████████████████████████████████| 108/108 [00:02<00:00, 43.97it/s]\n"
     ]
    },
    {
     "name": "stdout",
     "output_type": "stream",
     "text": [
      "Test Accuracy: 71.99074074074075%\n"
     ]
    },
    {
     "name": "stderr",
     "output_type": "stream",
     "text": [
      "Epoch [50/100]: 100%|████████████████████████████████████████████████████| 216/216 [00:12<00:00, 17.49it/s, loss=0.721]\n",
      "100%|████████████████████████████████████████████████████████████████████████████████| 108/108 [00:02<00:00, 43.48it/s]\n"
     ]
    },
    {
     "name": "stdout",
     "output_type": "stream",
     "text": [
      "Test Accuracy: 69.67592592592592%\n"
     ]
    },
    {
     "name": "stderr",
     "output_type": "stream",
     "text": [
      "Epoch [51/100]: 100%|████████████████████████████████████████████████████| 216/216 [00:12<00:00, 17.43it/s, loss=0.731]\n",
      "100%|████████████████████████████████████████████████████████████████████████████████| 108/108 [00:02<00:00, 43.88it/s]\n"
     ]
    },
    {
     "name": "stdout",
     "output_type": "stream",
     "text": [
      "Test Accuracy: 67.5925925925926%\n"
     ]
    },
    {
     "name": "stderr",
     "output_type": "stream",
     "text": [
      "Epoch [52/100]: 100%|████████████████████████████████████████████████████| 216/216 [00:12<00:00, 17.40it/s, loss=0.739]\n",
      "100%|████████████████████████████████████████████████████████████████████████████████| 108/108 [00:02<00:00, 44.09it/s]\n"
     ]
    },
    {
     "name": "stdout",
     "output_type": "stream",
     "text": [
      "Test Accuracy: 72.45370370370371%\n"
     ]
    },
    {
     "name": "stderr",
     "output_type": "stream",
     "text": [
      "Epoch [53/100]: 100%|████████████████████████████████████████████████████| 216/216 [00:12<00:00, 17.66it/s, loss=0.667]\n",
      "100%|████████████████████████████████████████████████████████████████████████████████| 108/108 [00:02<00:00, 44.26it/s]\n"
     ]
    },
    {
     "name": "stdout",
     "output_type": "stream",
     "text": [
      "Test Accuracy: 74.07407407407408%\n"
     ]
    },
    {
     "name": "stderr",
     "output_type": "stream",
     "text": [
      "Epoch [54/100]: 100%|████████████████████████████████████████████████████| 216/216 [00:12<00:00, 17.68it/s, loss=0.696]\n",
      "100%|████████████████████████████████████████████████████████████████████████████████| 108/108 [00:02<00:00, 44.24it/s]\n"
     ]
    },
    {
     "name": "stdout",
     "output_type": "stream",
     "text": [
      "Test Accuracy: 72.22222222222223%\n"
     ]
    },
    {
     "name": "stderr",
     "output_type": "stream",
     "text": [
      "Epoch [55/100]: 100%|████████████████████████████████████████████████████| 216/216 [00:12<00:00, 17.36it/s, loss=0.662]\n",
      "100%|████████████████████████████████████████████████████████████████████████████████| 108/108 [00:02<00:00, 43.03it/s]\n"
     ]
    },
    {
     "name": "stdout",
     "output_type": "stream",
     "text": [
      "Test Accuracy: 71.29629629629629%\n"
     ]
    },
    {
     "name": "stderr",
     "output_type": "stream",
     "text": [
      "Epoch [56/100]: 100%|████████████████████████████████████████████████████| 216/216 [00:12<00:00, 17.17it/s, loss=0.678]\n",
      "100%|████████████████████████████████████████████████████████████████████████████████| 108/108 [00:02<00:00, 44.15it/s]\n"
     ]
    },
    {
     "name": "stdout",
     "output_type": "stream",
     "text": [
      "Test Accuracy: 71.75925925925925%\n"
     ]
    },
    {
     "name": "stderr",
     "output_type": "stream",
     "text": [
      "Epoch [57/100]: 100%|████████████████████████████████████████████████████| 216/216 [00:12<00:00, 17.60it/s, loss=0.638]\n",
      "100%|████████████████████████████████████████████████████████████████████████████████| 108/108 [00:02<00:00, 44.17it/s]\n"
     ]
    },
    {
     "name": "stdout",
     "output_type": "stream",
     "text": [
      "Test Accuracy: 73.8425925925926%\n"
     ]
    },
    {
     "name": "stderr",
     "output_type": "stream",
     "text": [
      "Epoch [58/100]: 100%|████████████████████████████████████████████████████| 216/216 [00:12<00:00, 17.56it/s, loss=0.649]\n",
      "100%|████████████████████████████████████████████████████████████████████████████████| 108/108 [00:02<00:00, 43.03it/s]\n"
     ]
    },
    {
     "name": "stdout",
     "output_type": "stream",
     "text": [
      "Test Accuracy: 73.37962962962963%\n"
     ]
    },
    {
     "name": "stderr",
     "output_type": "stream",
     "text": [
      "Epoch [59/100]: 100%|████████████████████████████████████████████████████| 216/216 [00:12<00:00, 17.79it/s, loss=0.663]\n",
      "100%|████████████████████████████████████████████████████████████████████████████████| 108/108 [00:02<00:00, 43.77it/s]\n"
     ]
    },
    {
     "name": "stdout",
     "output_type": "stream",
     "text": [
      "Test Accuracy: 72.91666666666667%\n"
     ]
    },
    {
     "name": "stderr",
     "output_type": "stream",
     "text": [
      "Epoch [60/100]: 100%|████████████████████████████████████████████████████| 216/216 [00:12<00:00, 17.77it/s, loss=0.635]\n",
      "100%|████████████████████████████████████████████████████████████████████████████████| 108/108 [00:02<00:00, 43.80it/s]\n"
     ]
    },
    {
     "name": "stdout",
     "output_type": "stream",
     "text": [
      "Test Accuracy: 75.0%\n"
     ]
    },
    {
     "name": "stderr",
     "output_type": "stream",
     "text": [
      "Epoch [61/100]: 100%|████████████████████████████████████████████████████| 216/216 [00:12<00:00, 17.70it/s, loss=0.651]\n",
      "100%|████████████████████████████████████████████████████████████████████████████████| 108/108 [00:02<00:00, 44.11it/s]\n"
     ]
    },
    {
     "name": "stdout",
     "output_type": "stream",
     "text": [
      "Test Accuracy: 71.99074074074075%\n"
     ]
    },
    {
     "name": "stderr",
     "output_type": "stream",
     "text": [
      "Epoch [62/100]: 100%|████████████████████████████████████████████████████| 216/216 [00:12<00:00, 17.58it/s, loss=0.627]\n",
      "100%|████████████████████████████████████████████████████████████████████████████████| 108/108 [00:02<00:00, 44.27it/s]\n"
     ]
    },
    {
     "name": "stdout",
     "output_type": "stream",
     "text": [
      "Test Accuracy: 69.21296296296296%\n"
     ]
    },
    {
     "name": "stderr",
     "output_type": "stream",
     "text": [
      "Epoch [63/100]: 100%|████████████████████████████████████████████████████| 216/216 [00:12<00:00, 17.53it/s, loss=0.648]\n",
      "100%|████████████████████████████████████████████████████████████████████████████████| 108/108 [00:02<00:00, 43.96it/s]\n"
     ]
    },
    {
     "name": "stdout",
     "output_type": "stream",
     "text": [
      "Test Accuracy: 71.75925925925925%\n"
     ]
    },
    {
     "name": "stderr",
     "output_type": "stream",
     "text": [
      "Epoch [64/100]: 100%|████████████████████████████████████████████████████| 216/216 [00:12<00:00, 17.73it/s, loss=0.597]\n",
      "100%|████████████████████████████████████████████████████████████████████████████████| 108/108 [00:02<00:00, 44.23it/s]\n"
     ]
    },
    {
     "name": "stdout",
     "output_type": "stream",
     "text": [
      "Test Accuracy: 72.91666666666667%\n"
     ]
    },
    {
     "name": "stderr",
     "output_type": "stream",
     "text": [
      "Epoch [65/100]: 100%|████████████████████████████████████████████████████| 216/216 [00:12<00:00, 17.28it/s, loss=0.607]\n",
      "100%|████████████████████████████████████████████████████████████████████████████████| 108/108 [00:02<00:00, 43.83it/s]\n"
     ]
    },
    {
     "name": "stdout",
     "output_type": "stream",
     "text": [
      "Test Accuracy: 68.51851851851852%\n"
     ]
    },
    {
     "name": "stderr",
     "output_type": "stream",
     "text": [
      "Epoch [66/100]: 100%|████████████████████████████████████████████████████| 216/216 [00:12<00:00, 17.72it/s, loss=0.637]\n",
      "100%|████████████████████████████████████████████████████████████████████████████████| 108/108 [00:02<00:00, 43.75it/s]\n"
     ]
    },
    {
     "name": "stdout",
     "output_type": "stream",
     "text": [
      "Test Accuracy: 74.53703703703704%\n"
     ]
    },
    {
     "name": "stderr",
     "output_type": "stream",
     "text": [
      "Epoch [67/100]: 100%|████████████████████████████████████████████████████| 216/216 [00:12<00:00, 17.71it/s, loss=0.614]\n",
      "100%|████████████████████████████████████████████████████████████████████████████████| 108/108 [00:02<00:00, 43.08it/s]\n"
     ]
    },
    {
     "name": "stdout",
     "output_type": "stream",
     "text": [
      "Test Accuracy: 75.69444444444444%\n"
     ]
    },
    {
     "name": "stderr",
     "output_type": "stream",
     "text": [
      "Epoch [68/100]: 100%|████████████████████████████████████████████████████| 216/216 [00:12<00:00, 17.52it/s, loss=0.593]\n",
      "100%|████████████████████████████████████████████████████████████████████████████████| 108/108 [00:02<00:00, 43.57it/s]\n"
     ]
    },
    {
     "name": "stdout",
     "output_type": "stream",
     "text": [
      "Test Accuracy: 73.8425925925926%\n"
     ]
    },
    {
     "name": "stderr",
     "output_type": "stream",
     "text": [
      "Epoch [69/100]: 100%|████████████████████████████████████████████████████| 216/216 [00:12<00:00, 17.76it/s, loss=0.568]\n",
      "100%|████████████████████████████████████████████████████████████████████████████████| 108/108 [00:02<00:00, 42.99it/s]\n"
     ]
    },
    {
     "name": "stdout",
     "output_type": "stream",
     "text": [
      "Test Accuracy: 74.53703703703704%\n"
     ]
    },
    {
     "name": "stderr",
     "output_type": "stream",
     "text": [
      "Epoch [70/100]: 100%|████████████████████████████████████████████████████| 216/216 [00:12<00:00, 17.61it/s, loss=0.613]\n",
      "100%|████████████████████████████████████████████████████████████████████████████████| 108/108 [00:02<00:00, 44.49it/s]\n"
     ]
    },
    {
     "name": "stdout",
     "output_type": "stream",
     "text": [
      "Test Accuracy: 66.20370370370371%\n"
     ]
    },
    {
     "name": "stderr",
     "output_type": "stream",
     "text": [
      "Epoch [71/100]: 100%|████████████████████████████████████████████████████| 216/216 [00:12<00:00, 17.50it/s, loss=0.617]\n",
      "100%|████████████████████████████████████████████████████████████████████████████████| 108/108 [00:02<00:00, 43.59it/s]\n"
     ]
    },
    {
     "name": "stdout",
     "output_type": "stream",
     "text": [
      "Test Accuracy: 73.61111111111111%\n"
     ]
    },
    {
     "name": "stderr",
     "output_type": "stream",
     "text": [
      "Epoch [72/100]: 100%|████████████████████████████████████████████████████| 216/216 [00:12<00:00, 17.69it/s, loss=0.616]\n",
      "100%|████████████████████████████████████████████████████████████████████████████████| 108/108 [00:02<00:00, 44.36it/s]\n"
     ]
    },
    {
     "name": "stdout",
     "output_type": "stream",
     "text": [
      "Test Accuracy: 71.75925925925925%\n"
     ]
    },
    {
     "name": "stderr",
     "output_type": "stream",
     "text": [
      "Epoch [73/100]: 100%|████████████████████████████████████████████████████| 216/216 [00:12<00:00, 17.31it/s, loss=0.571]\n",
      "100%|████████████████████████████████████████████████████████████████████████████████| 108/108 [00:02<00:00, 44.51it/s]\n"
     ]
    },
    {
     "name": "stdout",
     "output_type": "stream",
     "text": [
      "Test Accuracy: 72.91666666666667%\n"
     ]
    },
    {
     "name": "stderr",
     "output_type": "stream",
     "text": [
      "Epoch [74/100]: 100%|████████████████████████████████████████████████████| 216/216 [00:12<00:00, 17.60it/s, loss=0.555]\n",
      "100%|████████████████████████████████████████████████████████████████████████████████| 108/108 [00:02<00:00, 43.99it/s]\n"
     ]
    },
    {
     "name": "stdout",
     "output_type": "stream",
     "text": [
      "Test Accuracy: 74.53703703703704%\n"
     ]
    },
    {
     "name": "stderr",
     "output_type": "stream",
     "text": [
      "Epoch [75/100]: 100%|████████████████████████████████████████████████████| 216/216 [00:12<00:00, 17.40it/s, loss=0.558]\n",
      "100%|████████████████████████████████████████████████████████████████████████████████| 108/108 [00:02<00:00, 45.04it/s]\n"
     ]
    },
    {
     "name": "stdout",
     "output_type": "stream",
     "text": [
      "Test Accuracy: 74.53703703703704%\n"
     ]
    },
    {
     "name": "stderr",
     "output_type": "stream",
     "text": [
      "Epoch [76/100]: 100%|████████████████████████████████████████████████████| 216/216 [00:11<00:00, 18.01it/s, loss=0.546]\n",
      "100%|████████████████████████████████████████████████████████████████████████████████| 108/108 [00:02<00:00, 45.40it/s]\n"
     ]
    },
    {
     "name": "stdout",
     "output_type": "stream",
     "text": [
      "Test Accuracy: 71.75925925925925%\n"
     ]
    },
    {
     "name": "stderr",
     "output_type": "stream",
     "text": [
      "Epoch [77/100]: 100%|████████████████████████████████████████████████████| 216/216 [00:11<00:00, 19.08it/s, loss=0.538]\n",
      "100%|████████████████████████████████████████████████████████████████████████████████| 108/108 [00:02<00:00, 45.64it/s]\n"
     ]
    },
    {
     "name": "stdout",
     "output_type": "stream",
     "text": [
      "Test Accuracy: 75.46296296296296%\n"
     ]
    },
    {
     "name": "stderr",
     "output_type": "stream",
     "text": [
      "Epoch [78/100]: 100%|████████████████████████████████████████████████████| 216/216 [00:11<00:00, 18.36it/s, loss=0.549]\n",
      "100%|████████████████████████████████████████████████████████████████████████████████| 108/108 [00:02<00:00, 46.08it/s]\n"
     ]
    },
    {
     "name": "stdout",
     "output_type": "stream",
     "text": [
      "Test Accuracy: 75.92592592592592%\n"
     ]
    },
    {
     "name": "stderr",
     "output_type": "stream",
     "text": [
      "Epoch [79/100]: 100%|█████████████████████████████████████████████████████| 216/216 [00:11<00:00, 18.12it/s, loss=0.62]\n",
      "100%|████████████████████████████████████████████████████████████████████████████████| 108/108 [00:02<00:00, 44.05it/s]\n"
     ]
    },
    {
     "name": "stdout",
     "output_type": "stream",
     "text": [
      "Test Accuracy: 75.69444444444444%\n"
     ]
    },
    {
     "name": "stderr",
     "output_type": "stream",
     "text": [
      "Epoch [80/100]: 100%|████████████████████████████████████████████████████| 216/216 [00:11<00:00, 18.41it/s, loss=0.626]\n",
      "100%|████████████████████████████████████████████████████████████████████████████████| 108/108 [00:02<00:00, 47.23it/s]\n"
     ]
    },
    {
     "name": "stdout",
     "output_type": "stream",
     "text": [
      "Test Accuracy: 77.31481481481481%\n"
     ]
    },
    {
     "name": "stderr",
     "output_type": "stream",
     "text": [
      "Epoch [81/100]: 100%|████████████████████████████████████████████████████| 216/216 [00:11<00:00, 19.47it/s, loss=0.562]\n",
      "100%|████████████████████████████████████████████████████████████████████████████████| 108/108 [00:02<00:00, 46.36it/s]\n"
     ]
    },
    {
     "name": "stdout",
     "output_type": "stream",
     "text": [
      "Test Accuracy: 74.07407407407408%\n"
     ]
    },
    {
     "name": "stderr",
     "output_type": "stream",
     "text": [
      "Epoch [82/100]: 100%|████████████████████████████████████████████████████| 216/216 [00:11<00:00, 19.31it/s, loss=0.597]\n",
      "100%|████████████████████████████████████████████████████████████████████████████████| 108/108 [00:02<00:00, 45.95it/s]\n"
     ]
    },
    {
     "name": "stdout",
     "output_type": "stream",
     "text": [
      "Test Accuracy: 74.07407407407408%\n"
     ]
    },
    {
     "name": "stderr",
     "output_type": "stream",
     "text": [
      "Epoch [83/100]: 100%|████████████████████████████████████████████████████| 216/216 [00:11<00:00, 18.48it/s, loss=0.596]\n",
      "100%|████████████████████████████████████████████████████████████████████████████████| 108/108 [00:02<00:00, 43.73it/s]\n"
     ]
    },
    {
     "name": "stdout",
     "output_type": "stream",
     "text": [
      "Test Accuracy: 73.8425925925926%\n"
     ]
    },
    {
     "name": "stderr",
     "output_type": "stream",
     "text": [
      "Epoch [84/100]: 100%|████████████████████████████████████████████████████| 216/216 [00:11<00:00, 18.05it/s, loss=0.592]\n",
      "100%|████████████████████████████████████████████████████████████████████████████████| 108/108 [00:02<00:00, 45.60it/s]\n"
     ]
    },
    {
     "name": "stdout",
     "output_type": "stream",
     "text": [
      "Test Accuracy: 71.29629629629629%\n"
     ]
    },
    {
     "name": "stderr",
     "output_type": "stream",
     "text": [
      "Epoch [85/100]: 100%|████████████████████████████████████████████████████| 216/216 [00:11<00:00, 18.14it/s, loss=0.626]\n",
      "100%|████████████████████████████████████████████████████████████████████████████████| 108/108 [00:02<00:00, 42.19it/s]\n"
     ]
    },
    {
     "name": "stdout",
     "output_type": "stream",
     "text": [
      "Test Accuracy: 74.76851851851852%\n"
     ]
    },
    {
     "name": "stderr",
     "output_type": "stream",
     "text": [
      "Epoch [86/100]: 100%|████████████████████████████████████████████████████| 216/216 [00:12<00:00, 17.83it/s, loss=0.569]\n",
      "100%|████████████████████████████████████████████████████████████████████████████████| 108/108 [00:02<00:00, 46.28it/s]\n"
     ]
    },
    {
     "name": "stdout",
     "output_type": "stream",
     "text": [
      "Test Accuracy: 72.68518518518519%\n"
     ]
    },
    {
     "name": "stderr",
     "output_type": "stream",
     "text": [
      "Epoch [87/100]: 100%|█████████████████████████████████████████████████████| 216/216 [00:11<00:00, 18.49it/s, loss=0.57]\n",
      "100%|████████████████████████████████████████████████████████████████████████████████| 108/108 [00:02<00:00, 45.75it/s]\n"
     ]
    },
    {
     "name": "stdout",
     "output_type": "stream",
     "text": [
      "Test Accuracy: 76.85185185185185%\n"
     ]
    },
    {
     "name": "stderr",
     "output_type": "stream",
     "text": [
      "Epoch [88/100]: 100%|████████████████████████████████████████████████████| 216/216 [00:11<00:00, 18.18it/s, loss=0.574]\n",
      "100%|████████████████████████████████████████████████████████████████████████████████| 108/108 [00:02<00:00, 44.23it/s]\n"
     ]
    },
    {
     "name": "stdout",
     "output_type": "stream",
     "text": [
      "Test Accuracy: 74.76851851851852%\n"
     ]
    },
    {
     "name": "stderr",
     "output_type": "stream",
     "text": [
      "Epoch [89/100]: 100%|████████████████████████████████████████████████████| 216/216 [00:11<00:00, 18.80it/s, loss=0.544]\n",
      "100%|████████████████████████████████████████████████████████████████████████████████| 108/108 [00:02<00:00, 45.44it/s]\n"
     ]
    },
    {
     "name": "stdout",
     "output_type": "stream",
     "text": [
      "Test Accuracy: 71.52777777777777%\n"
     ]
    },
    {
     "name": "stderr",
     "output_type": "stream",
     "text": [
      "Epoch [90/100]: 100%|████████████████████████████████████████████████████| 216/216 [00:11<00:00, 18.54it/s, loss=0.549]\n",
      "100%|████████████████████████████████████████████████████████████████████████████████| 108/108 [00:02<00:00, 45.22it/s]\n"
     ]
    },
    {
     "name": "stdout",
     "output_type": "stream",
     "text": [
      "Test Accuracy: 73.61111111111111%\n"
     ]
    },
    {
     "name": "stderr",
     "output_type": "stream",
     "text": [
      "Epoch [91/100]: 100%|█████████████████████████████████████████████████████| 216/216 [00:11<00:00, 18.85it/s, loss=0.55]\n",
      "100%|████████████████████████████████████████████████████████████████████████████████| 108/108 [00:02<00:00, 45.58it/s]\n"
     ]
    },
    {
     "name": "stdout",
     "output_type": "stream",
     "text": [
      "Test Accuracy: 73.37962962962963%\n"
     ]
    },
    {
     "name": "stderr",
     "output_type": "stream",
     "text": [
      "Epoch [92/100]: 100%|████████████████████████████████████████████████████| 216/216 [00:11<00:00, 18.58it/s, loss=0.517]\n",
      "100%|████████████████████████████████████████████████████████████████████████████████| 108/108 [00:02<00:00, 46.26it/s]\n"
     ]
    },
    {
     "name": "stdout",
     "output_type": "stream",
     "text": [
      "Test Accuracy: 74.53703703703704%\n"
     ]
    },
    {
     "name": "stderr",
     "output_type": "stream",
     "text": [
      "Epoch [93/100]: 100%|████████████████████████████████████████████████████| 216/216 [00:11<00:00, 18.42it/s, loss=0.518]\n",
      "100%|████████████████████████████████████████████████████████████████████████████████| 108/108 [00:02<00:00, 44.02it/s]\n"
     ]
    },
    {
     "name": "stdout",
     "output_type": "stream",
     "text": [
      "Test Accuracy: 73.37962962962963%\n"
     ]
    },
    {
     "name": "stderr",
     "output_type": "stream",
     "text": [
      "Epoch [94/100]: 100%|█████████████████████████████████████████████████████| 216/216 [00:11<00:00, 18.84it/s, loss=0.62]\n",
      "100%|████████████████████████████████████████████████████████████████████████████████| 108/108 [00:02<00:00, 44.84it/s]\n"
     ]
    },
    {
     "name": "stdout",
     "output_type": "stream",
     "text": [
      "Test Accuracy: 74.53703703703704%\n"
     ]
    },
    {
     "name": "stderr",
     "output_type": "stream",
     "text": [
      "Epoch [95/100]: 100%|████████████████████████████████████████████████████| 216/216 [00:11<00:00, 18.74it/s, loss=0.564]\n",
      "100%|████████████████████████████████████████████████████████████████████████████████| 108/108 [00:02<00:00, 45.18it/s]\n"
     ]
    },
    {
     "name": "stdout",
     "output_type": "stream",
     "text": [
      "Test Accuracy: 73.61111111111111%\n"
     ]
    },
    {
     "name": "stderr",
     "output_type": "stream",
     "text": [
      "Epoch [96/100]: 100%|████████████████████████████████████████████████████| 216/216 [00:11<00:00, 18.59it/s, loss=0.564]\n",
      "100%|████████████████████████████████████████████████████████████████████████████████| 108/108 [00:02<00:00, 44.80it/s]\n"
     ]
    },
    {
     "name": "stdout",
     "output_type": "stream",
     "text": [
      "Test Accuracy: 76.1574074074074%\n"
     ]
    },
    {
     "name": "stderr",
     "output_type": "stream",
     "text": [
      "Epoch [97/100]: 100%|████████████████████████████████████████████████████| 216/216 [00:11<00:00, 18.89it/s, loss=0.577]\n",
      "100%|████████████████████████████████████████████████████████████████████████████████| 108/108 [00:02<00:00, 46.62it/s]\n"
     ]
    },
    {
     "name": "stdout",
     "output_type": "stream",
     "text": [
      "Test Accuracy: 76.1574074074074%\n"
     ]
    },
    {
     "name": "stderr",
     "output_type": "stream",
     "text": [
      "Epoch [98/100]: 100%|████████████████████████████████████████████████████| 216/216 [00:12<00:00, 17.95it/s, loss=0.556]\n",
      "100%|████████████████████████████████████████████████████████████████████████████████| 108/108 [00:02<00:00, 44.84it/s]\n"
     ]
    },
    {
     "name": "stdout",
     "output_type": "stream",
     "text": [
      "Test Accuracy: 74.07407407407408%\n"
     ]
    },
    {
     "name": "stderr",
     "output_type": "stream",
     "text": [
      "Epoch [99/100]: 100%|████████████████████████████████████████████████████| 216/216 [00:12<00:00, 17.76it/s, loss=0.526]\n",
      "100%|████████████████████████████████████████████████████████████████████████████████| 108/108 [00:02<00:00, 45.56it/s]\n"
     ]
    },
    {
     "name": "stdout",
     "output_type": "stream",
     "text": [
      "Test Accuracy: 78.00925925925925%\n"
     ]
    },
    {
     "name": "stderr",
     "output_type": "stream",
     "text": [
      "Epoch [100/100]: 100%|███████████████████████████████████████████████████| 216/216 [00:12<00:00, 17.87it/s, loss=0.522]\n",
      "100%|████████████████████████████████████████████████████████████████████████████████| 108/108 [00:02<00:00, 45.91it/s]"
     ]
    },
    {
     "name": "stdout",
     "output_type": "stream",
     "text": [
      "Test Accuracy: 77.08333333333333%\n",
      "Training finished!\n"
     ]
    },
    {
     "name": "stderr",
     "output_type": "stream",
     "text": [
      "\n"
     ]
    }
   ],
   "source": [
    "for epoch in range(num_epochs):\n",
    "    running_loss = 0.0\n",
    "    loop = tqdm(dataloader, total=len(dataloader), leave=True)\n",
    "    model.train()\n",
    "    \n",
    "    for images, labels in loop:\n",
    "        images = images.to(device)\n",
    "        labels = labels.to(device)\n",
    "\n",
    "        # Forward pass\n",
    "        outputs = model(images)\n",
    "        loss = criterion(outputs, labels)\n",
    "\n",
    "        # Backward and optimize\n",
    "        optimizer.zero_grad()\n",
    "        loss.backward()\n",
    "        optimizer.step()\n",
    "\n",
    "        running_loss += loss.item()\n",
    "        loop.set_description(f'Epoch [{epoch+1}/{num_epochs}]')\n",
    "        loop.set_postfix(loss=running_loss / (len(dataloader)))\n",
    "    test(model,test_loader)\n",
    "    torch.save(model.state_dict(), \"result/model_LSTM_512_{}.pth\".format(epoch))\n",
    "    \n",
    "print('Training finished!')"
   ]
  },
  {
   "cell_type": "code",
   "execution_count": 48,
   "id": "59b826f3",
   "metadata": {},
   "outputs": [
    {
     "name": "stderr",
     "output_type": "stream",
     "text": [
      "Epoch [61/60]: 100%|█████████████████████████████████████████████████████| 216/216 [00:11<00:00, 19.39it/s, loss=0.649]\n",
      "100%|████████████████████████████████████████████████████████████████████████████████| 108/108 [00:01<00:00, 69.62it/s]\n"
     ]
    },
    {
     "name": "stdout",
     "output_type": "stream",
     "text": [
      "Test Accuracy: 70.60185185185185%\n"
     ]
    },
    {
     "name": "stderr",
     "output_type": "stream",
     "text": [
      "Epoch [62/60]: 100%|█████████████████████████████████████████████████████| 216/216 [00:11<00:00, 19.31it/s, loss=0.643]\n",
      "100%|████████████████████████████████████████████████████████████████████████████████| 108/108 [00:01<00:00, 60.34it/s]\n"
     ]
    },
    {
     "name": "stdout",
     "output_type": "stream",
     "text": [
      "Test Accuracy: 72.45370370370371%\n"
     ]
    },
    {
     "name": "stderr",
     "output_type": "stream",
     "text": [
      "Epoch [63/60]: 100%|█████████████████████████████████████████████████████| 216/216 [00:11<00:00, 19.33it/s, loss=0.708]\n",
      "100%|████████████████████████████████████████████████████████████████████████████████| 108/108 [00:01<00:00, 67.83it/s]\n"
     ]
    },
    {
     "name": "stdout",
     "output_type": "stream",
     "text": [
      "Test Accuracy: 67.5925925925926%\n"
     ]
    },
    {
     "name": "stderr",
     "output_type": "stream",
     "text": [
      "Epoch [64/60]: 100%|█████████████████████████████████████████████████████| 216/216 [00:11<00:00, 19.44it/s, loss=0.755]\n",
      "100%|████████████████████████████████████████████████████████████████████████████████| 108/108 [00:01<00:00, 68.94it/s]\n"
     ]
    },
    {
     "name": "stdout",
     "output_type": "stream",
     "text": [
      "Test Accuracy: 69.21296296296296%\n"
     ]
    },
    {
     "name": "stderr",
     "output_type": "stream",
     "text": [
      "Epoch [65/60]: 100%|█████████████████████████████████████████████████████| 216/216 [00:11<00:00, 19.59it/s, loss=0.702]\n",
      "100%|████████████████████████████████████████████████████████████████████████████████| 108/108 [00:01<00:00, 67.54it/s]\n"
     ]
    },
    {
     "name": "stdout",
     "output_type": "stream",
     "text": [
      "Test Accuracy: 69.21296296296296%\n"
     ]
    },
    {
     "name": "stderr",
     "output_type": "stream",
     "text": [
      "Epoch [66/60]: 100%|█████████████████████████████████████████████████████| 216/216 [00:11<00:00, 19.56it/s, loss=0.691]\n",
      "100%|████████████████████████████████████████████████████████████████████████████████| 108/108 [00:01<00:00, 67.33it/s]\n"
     ]
    },
    {
     "name": "stdout",
     "output_type": "stream",
     "text": [
      "Test Accuracy: 72.45370370370371%\n"
     ]
    },
    {
     "name": "stderr",
     "output_type": "stream",
     "text": [
      "Epoch [67/60]: 100%|█████████████████████████████████████████████████████| 216/216 [00:10<00:00, 19.64it/s, loss=0.663]\n",
      "100%|████████████████████████████████████████████████████████████████████████████████| 108/108 [00:01<00:00, 67.83it/s]\n"
     ]
    },
    {
     "name": "stdout",
     "output_type": "stream",
     "text": [
      "Test Accuracy: 68.98148148148148%\n"
     ]
    },
    {
     "name": "stderr",
     "output_type": "stream",
     "text": [
      "Epoch [68/60]: 100%|█████████████████████████████████████████████████████| 216/216 [00:11<00:00, 19.10it/s, loss=0.627]\n",
      "100%|████████████████████████████████████████████████████████████████████████████████| 108/108 [00:01<00:00, 69.34it/s]\n"
     ]
    },
    {
     "name": "stdout",
     "output_type": "stream",
     "text": [
      "Test Accuracy: 73.61111111111111%\n"
     ]
    },
    {
     "name": "stderr",
     "output_type": "stream",
     "text": [
      "Epoch [69/60]: 100%|█████████████████████████████████████████████████████| 216/216 [00:10<00:00, 19.65it/s, loss=0.609]\n",
      "100%|████████████████████████████████████████████████████████████████████████████████| 108/108 [00:01<00:00, 67.61it/s]\n"
     ]
    },
    {
     "name": "stdout",
     "output_type": "stream",
     "text": [
      "Test Accuracy: 75.46296296296296%\n"
     ]
    },
    {
     "name": "stderr",
     "output_type": "stream",
     "text": [
      "Epoch [70/60]: 100%|█████████████████████████████████████████████████████| 216/216 [00:10<00:00, 19.73it/s, loss=0.603]\n",
      "100%|████████████████████████████████████████████████████████████████████████████████| 108/108 [00:01<00:00, 67.11it/s]\n"
     ]
    },
    {
     "name": "stdout",
     "output_type": "stream",
     "text": [
      "Test Accuracy: 70.83333333333333%\n"
     ]
    },
    {
     "name": "stderr",
     "output_type": "stream",
     "text": [
      "Epoch [71/60]: 100%|█████████████████████████████████████████████████████| 216/216 [00:11<00:00, 19.42it/s, loss=0.574]\n",
      "100%|████████████████████████████████████████████████████████████████████████████████| 108/108 [00:01<00:00, 69.23it/s]\n"
     ]
    },
    {
     "name": "stdout",
     "output_type": "stream",
     "text": [
      "Test Accuracy: 75.23148148148148%\n"
     ]
    },
    {
     "name": "stderr",
     "output_type": "stream",
     "text": [
      "Epoch [72/60]: 100%|█████████████████████████████████████████████████████| 216/216 [00:10<00:00, 19.73it/s, loss=0.578]\n",
      "100%|████████████████████████████████████████████████████████████████████████████████| 108/108 [00:01<00:00, 65.69it/s]\n"
     ]
    },
    {
     "name": "stdout",
     "output_type": "stream",
     "text": [
      "Test Accuracy: 74.07407407407408%\n"
     ]
    },
    {
     "name": "stderr",
     "output_type": "stream",
     "text": [
      "Epoch [73/60]: 100%|█████████████████████████████████████████████████████| 216/216 [00:11<00:00, 19.00it/s, loss=0.594]\n",
      "100%|████████████████████████████████████████████████████████████████████████████████| 108/108 [00:01<00:00, 67.27it/s]\n"
     ]
    },
    {
     "name": "stdout",
     "output_type": "stream",
     "text": [
      "Test Accuracy: 73.61111111111111%\n"
     ]
    },
    {
     "name": "stderr",
     "output_type": "stream",
     "text": [
      "Epoch [74/60]: 100%|█████████████████████████████████████████████████████| 216/216 [00:11<00:00, 19.62it/s, loss=0.584]\n",
      "100%|████████████████████████████████████████████████████████████████████████████████| 108/108 [00:01<00:00, 65.62it/s]\n"
     ]
    },
    {
     "name": "stdout",
     "output_type": "stream",
     "text": [
      "Test Accuracy: 75.23148148148148%\n"
     ]
    },
    {
     "name": "stderr",
     "output_type": "stream",
     "text": [
      "Epoch [75/60]: 100%|█████████████████████████████████████████████████████| 216/216 [00:11<00:00, 19.50it/s, loss=0.561]\n",
      "100%|████████████████████████████████████████████████████████████████████████████████| 108/108 [00:01<00:00, 67.33it/s]\n"
     ]
    },
    {
     "name": "stdout",
     "output_type": "stream",
     "text": [
      "Test Accuracy: 73.61111111111111%\n"
     ]
    },
    {
     "name": "stderr",
     "output_type": "stream",
     "text": [
      "Epoch [76/60]: 100%|█████████████████████████████████████████████████████| 216/216 [00:10<00:00, 19.64it/s, loss=0.573]\n",
      "100%|████████████████████████████████████████████████████████████████████████████████| 108/108 [00:01<00:00, 67.68it/s]\n"
     ]
    },
    {
     "name": "stdout",
     "output_type": "stream",
     "text": [
      "Test Accuracy: 76.62037037037037%\n"
     ]
    },
    {
     "name": "stderr",
     "output_type": "stream",
     "text": [
      "Epoch [77/60]: 100%|█████████████████████████████████████████████████████| 216/216 [00:11<00:00, 19.59it/s, loss=0.556]\n",
      "100%|████████████████████████████████████████████████████████████████████████████████| 108/108 [00:01<00:00, 63.81it/s]\n"
     ]
    },
    {
     "name": "stdout",
     "output_type": "stream",
     "text": [
      "Test Accuracy: 74.76851851851852%\n"
     ]
    },
    {
     "name": "stderr",
     "output_type": "stream",
     "text": [
      "Epoch [78/60]: 100%|█████████████████████████████████████████████████████| 216/216 [00:11<00:00, 18.98it/s, loss=0.526]\n",
      "100%|████████████████████████████████████████████████████████████████████████████████| 108/108 [00:01<00:00, 63.72it/s]\n"
     ]
    },
    {
     "name": "stdout",
     "output_type": "stream",
     "text": [
      "Test Accuracy: 74.76851851851852%\n"
     ]
    },
    {
     "name": "stderr",
     "output_type": "stream",
     "text": [
      "Epoch [79/60]: 100%|█████████████████████████████████████████████████████| 216/216 [00:11<00:00, 19.12it/s, loss=0.528]\n",
      "100%|████████████████████████████████████████████████████████████████████████████████| 108/108 [00:01<00:00, 63.53it/s]\n"
     ]
    },
    {
     "name": "stdout",
     "output_type": "stream",
     "text": [
      "Test Accuracy: 75.0%\n"
     ]
    },
    {
     "name": "stderr",
     "output_type": "stream",
     "text": [
      "Epoch [80/60]: 100%|█████████████████████████████████████████████████████| 216/216 [00:11<00:00, 19.26it/s, loss=0.526]\n",
      "100%|████████████████████████████████████████████████████████████████████████████████| 108/108 [00:01<00:00, 69.84it/s]\n"
     ]
    },
    {
     "name": "stdout",
     "output_type": "stream",
     "text": [
      "Test Accuracy: 75.69444444444444%\n"
     ]
    },
    {
     "name": "stderr",
     "output_type": "stream",
     "text": [
      "Epoch [81/60]: 100%|█████████████████████████████████████████████████████| 216/216 [00:10<00:00, 20.12it/s, loss=0.505]\n",
      "100%|████████████████████████████████████████████████████████████████████████████████| 108/108 [00:01<00:00, 70.39it/s]\n"
     ]
    },
    {
     "name": "stdout",
     "output_type": "stream",
     "text": [
      "Test Accuracy: 74.53703703703704%\n"
     ]
    },
    {
     "name": "stderr",
     "output_type": "stream",
     "text": [
      "Epoch [82/60]: 100%|█████████████████████████████████████████████████████| 216/216 [00:11<00:00, 18.41it/s, loss=0.507]\n",
      "100%|████████████████████████████████████████████████████████████████████████████████| 108/108 [00:01<00:00, 65.36it/s]\n"
     ]
    },
    {
     "name": "stdout",
     "output_type": "stream",
     "text": [
      "Test Accuracy: 74.30555555555556%\n"
     ]
    },
    {
     "name": "stderr",
     "output_type": "stream",
     "text": [
      "Epoch [83/60]: 100%|█████████████████████████████████████████████████████| 216/216 [00:11<00:00, 18.84it/s, loss=0.574]\n",
      "100%|████████████████████████████████████████████████████████████████████████████████| 108/108 [00:01<00:00, 70.53it/s]\n"
     ]
    },
    {
     "name": "stdout",
     "output_type": "stream",
     "text": [
      "Test Accuracy: 75.69444444444444%\n"
     ]
    },
    {
     "name": "stderr",
     "output_type": "stream",
     "text": [
      "Epoch [84/60]: 100%|█████████████████████████████████████████████████████| 216/216 [00:10<00:00, 20.60it/s, loss=0.543]\n",
      "100%|████████████████████████████████████████████████████████████████████████████████| 108/108 [00:01<00:00, 71.98it/s]\n"
     ]
    },
    {
     "name": "stdout",
     "output_type": "stream",
     "text": [
      "Test Accuracy: 73.61111111111111%\n"
     ]
    },
    {
     "name": "stderr",
     "output_type": "stream",
     "text": [
      "Epoch [85/60]: 100%|█████████████████████████████████████████████████████| 216/216 [00:10<00:00, 19.84it/s, loss=0.537]\n",
      "100%|████████████████████████████████████████████████████████████████████████████████| 108/108 [00:01<00:00, 67.32it/s]\n"
     ]
    },
    {
     "name": "stdout",
     "output_type": "stream",
     "text": [
      "Test Accuracy: 75.0%\n"
     ]
    },
    {
     "name": "stderr",
     "output_type": "stream",
     "text": [
      "Epoch [86/60]: 100%|█████████████████████████████████████████████████████| 216/216 [00:11<00:00, 18.56it/s, loss=0.563]\n",
      "100%|████████████████████████████████████████████████████████████████████████████████| 108/108 [00:01<00:00, 62.44it/s]\n"
     ]
    },
    {
     "name": "stdout",
     "output_type": "stream",
     "text": [
      "Test Accuracy: 76.85185185185185%\n"
     ]
    },
    {
     "name": "stderr",
     "output_type": "stream",
     "text": [
      "Epoch [87/60]: 100%|█████████████████████████████████████████████████████| 216/216 [00:11<00:00, 18.87it/s, loss=0.511]\n",
      "100%|████████████████████████████████████████████████████████████████████████████████| 108/108 [00:01<00:00, 65.20it/s]\n"
     ]
    },
    {
     "name": "stdout",
     "output_type": "stream",
     "text": [
      "Test Accuracy: 77.31481481481481%\n"
     ]
    },
    {
     "name": "stderr",
     "output_type": "stream",
     "text": [
      "Epoch [88/60]: 100%|█████████████████████████████████████████████████████| 216/216 [00:11<00:00, 18.70it/s, loss=0.498]\n",
      "100%|████████████████████████████████████████████████████████████████████████████████| 108/108 [00:01<00:00, 65.21it/s]\n"
     ]
    },
    {
     "name": "stdout",
     "output_type": "stream",
     "text": [
      "Test Accuracy: 75.23148148148148%\n"
     ]
    },
    {
     "name": "stderr",
     "output_type": "stream",
     "text": [
      "Epoch [89/60]: 100%|█████████████████████████████████████████████████████| 216/216 [00:11<00:00, 18.95it/s, loss=0.487]\n",
      "100%|████████████████████████████████████████████████████████████████████████████████| 108/108 [00:01<00:00, 64.48it/s]\n"
     ]
    },
    {
     "name": "stdout",
     "output_type": "stream",
     "text": [
      "Test Accuracy: 77.31481481481481%\n"
     ]
    },
    {
     "name": "stderr",
     "output_type": "stream",
     "text": [
      "Epoch [90/60]: 100%|█████████████████████████████████████████████████████| 216/216 [00:11<00:00, 18.54it/s, loss=0.477]\n",
      "100%|████████████████████████████████████████████████████████████████████████████████| 108/108 [00:01<00:00, 64.88it/s]\n"
     ]
    },
    {
     "name": "stdout",
     "output_type": "stream",
     "text": [
      "Test Accuracy: 71.75925925925925%\n"
     ]
    },
    {
     "name": "stderr",
     "output_type": "stream",
     "text": [
      "Epoch [91/60]: 100%|█████████████████████████████████████████████████████| 216/216 [00:11<00:00, 18.79it/s, loss=0.481]\n",
      "100%|████████████████████████████████████████████████████████████████████████████████| 108/108 [00:01<00:00, 64.66it/s]\n"
     ]
    },
    {
     "name": "stdout",
     "output_type": "stream",
     "text": [
      "Test Accuracy: 75.92592592592592%\n"
     ]
    },
    {
     "name": "stderr",
     "output_type": "stream",
     "text": [
      "Epoch [92/60]: 100%|█████████████████████████████████████████████████████| 216/216 [00:11<00:00, 18.84it/s, loss=0.476]\n",
      "100%|████████████████████████████████████████████████████████████████████████████████| 108/108 [00:01<00:00, 63.44it/s]\n"
     ]
    },
    {
     "name": "stdout",
     "output_type": "stream",
     "text": [
      "Test Accuracy: 75.0%\n"
     ]
    },
    {
     "name": "stderr",
     "output_type": "stream",
     "text": [
      "Epoch [93/60]: 100%|█████████████████████████████████████████████████████| 216/216 [00:11<00:00, 18.45it/s, loss=0.473]\n",
      "100%|████████████████████████████████████████████████████████████████████████████████| 108/108 [00:01<00:00, 65.36it/s]\n"
     ]
    },
    {
     "name": "stdout",
     "output_type": "stream",
     "text": [
      "Test Accuracy: 74.30555555555556%\n"
     ]
    },
    {
     "name": "stderr",
     "output_type": "stream",
     "text": [
      "Epoch [94/60]: 100%|█████████████████████████████████████████████████████| 216/216 [00:11<00:00, 18.91it/s, loss=0.445]\n",
      "100%|████████████████████████████████████████████████████████████████████████████████| 108/108 [00:01<00:00, 63.11it/s]\n"
     ]
    },
    {
     "name": "stdout",
     "output_type": "stream",
     "text": [
      "Test Accuracy: 77.54629629629629%\n"
     ]
    },
    {
     "name": "stderr",
     "output_type": "stream",
     "text": [
      "Epoch [95/60]: 100%|█████████████████████████████████████████████████████| 216/216 [00:11<00:00, 18.45it/s, loss=0.443]\n",
      "100%|████████████████████████████████████████████████████████████████████████████████| 108/108 [00:01<00:00, 63.67it/s]\n"
     ]
    },
    {
     "name": "stdout",
     "output_type": "stream",
     "text": [
      "Test Accuracy: 78.47222222222223%\n"
     ]
    },
    {
     "name": "stderr",
     "output_type": "stream",
     "text": [
      "Epoch [96/60]: 100%|█████████████████████████████████████████████████████| 216/216 [00:11<00:00, 18.12it/s, loss=0.453]\n",
      "100%|████████████████████████████████████████████████████████████████████████████████| 108/108 [00:01<00:00, 63.99it/s]\n"
     ]
    },
    {
     "name": "stdout",
     "output_type": "stream",
     "text": [
      "Test Accuracy: 75.23148148148148%\n"
     ]
    },
    {
     "name": "stderr",
     "output_type": "stream",
     "text": [
      "Epoch [97/60]: 100%|██████████████████████████████████████████████████████| 216/216 [00:11<00:00, 18.56it/s, loss=0.44]\n",
      "100%|████████████████████████████████████████████████████████████████████████████████| 108/108 [00:01<00:00, 64.73it/s]\n"
     ]
    },
    {
     "name": "stdout",
     "output_type": "stream",
     "text": [
      "Test Accuracy: 78.00925925925925%\n"
     ]
    },
    {
     "name": "stderr",
     "output_type": "stream",
     "text": [
      "Epoch [98/60]: 100%|█████████████████████████████████████████████████████| 216/216 [00:11<00:00, 18.89it/s, loss=0.426]\n",
      "100%|████████████████████████████████████████████████████████████████████████████████| 108/108 [00:01<00:00, 64.40it/s]\n"
     ]
    },
    {
     "name": "stdout",
     "output_type": "stream",
     "text": [
      "Test Accuracy: 78.93518518518519%\n"
     ]
    },
    {
     "name": "stderr",
     "output_type": "stream",
     "text": [
      "Epoch [99/60]: 100%|█████████████████████████████████████████████████████| 216/216 [00:11<00:00, 19.18it/s, loss=0.423]\n",
      "100%|████████████████████████████████████████████████████████████████████████████████| 108/108 [00:01<00:00, 64.21it/s]\n"
     ]
    },
    {
     "name": "stdout",
     "output_type": "stream",
     "text": [
      "Test Accuracy: 75.92592592592592%\n"
     ]
    },
    {
     "name": "stderr",
     "output_type": "stream",
     "text": [
      "Epoch [100/60]: 100%|████████████████████████████████████████████████████| 216/216 [00:11<00:00, 18.63it/s, loss=0.422]\n",
      "100%|████████████████████████████████████████████████████████████████████████████████| 108/108 [00:01<00:00, 65.15it/s]\n"
     ]
    },
    {
     "name": "stdout",
     "output_type": "stream",
     "text": [
      "Test Accuracy: 76.1574074074074%\n"
     ]
    },
    {
     "name": "stderr",
     "output_type": "stream",
     "text": [
      "Epoch [101/60]: 100%|████████████████████████████████████████████████████| 216/216 [00:11<00:00, 18.72it/s, loss=0.436]\n",
      "100%|████████████████████████████████████████████████████████████████████████████████| 108/108 [00:01<00:00, 65.14it/s]\n"
     ]
    },
    {
     "name": "stdout",
     "output_type": "stream",
     "text": [
      "Test Accuracy: 71.75925925925925%\n"
     ]
    },
    {
     "name": "stderr",
     "output_type": "stream",
     "text": [
      "Epoch [102/60]: 100%|████████████████████████████████████████████████████| 216/216 [00:11<00:00, 18.93it/s, loss=0.429]\n",
      "100%|████████████████████████████████████████████████████████████████████████████████| 108/108 [00:01<00:00, 63.02it/s]\n"
     ]
    },
    {
     "name": "stdout",
     "output_type": "stream",
     "text": [
      "Test Accuracy: 76.1574074074074%\n"
     ]
    },
    {
     "name": "stderr",
     "output_type": "stream",
     "text": [
      "Epoch [103/60]: 100%|████████████████████████████████████████████████████| 216/216 [00:11<00:00, 18.74it/s, loss=0.412]\n",
      "100%|████████████████████████████████████████████████████████████████████████████████| 108/108 [00:01<00:00, 65.17it/s]\n"
     ]
    },
    {
     "name": "stdout",
     "output_type": "stream",
     "text": [
      "Test Accuracy: 76.62037037037037%\n"
     ]
    },
    {
     "name": "stderr",
     "output_type": "stream",
     "text": [
      "Epoch [104/60]: 100%|████████████████████████████████████████████████████| 216/216 [00:11<00:00, 18.71it/s, loss=0.387]\n",
      "100%|████████████████████████████████████████████████████████████████████████████████| 108/108 [00:01<00:00, 65.09it/s]\n"
     ]
    },
    {
     "name": "stdout",
     "output_type": "stream",
     "text": [
      "Test Accuracy: 78.00925925925925%\n"
     ]
    },
    {
     "name": "stderr",
     "output_type": "stream",
     "text": [
      "Epoch [105/60]: 100%|████████████████████████████████████████████████████| 216/216 [00:11<00:00, 18.85it/s, loss=0.355]\n",
      "100%|████████████████████████████████████████████████████████████████████████████████| 108/108 [00:01<00:00, 64.43it/s]\n"
     ]
    },
    {
     "name": "stdout",
     "output_type": "stream",
     "text": [
      "Test Accuracy: 78.00925925925925%\n"
     ]
    },
    {
     "name": "stderr",
     "output_type": "stream",
     "text": [
      "Epoch [106/60]: 100%|████████████████████████████████████████████████████| 216/216 [00:11<00:00, 18.89it/s, loss=0.865]\n",
      "100%|████████████████████████████████████████████████████████████████████████████████| 108/108 [00:01<00:00, 63.46it/s]\n"
     ]
    },
    {
     "name": "stdout",
     "output_type": "stream",
     "text": [
      "Test Accuracy: 70.13888888888889%\n"
     ]
    },
    {
     "name": "stderr",
     "output_type": "stream",
     "text": [
      "Epoch [107/60]: 100%|████████████████████████████████████████████████████| 216/216 [00:11<00:00, 18.55it/s, loss=0.628]\n",
      "100%|████████████████████████████████████████████████████████████████████████████████| 108/108 [00:01<00:00, 64.90it/s]\n"
     ]
    },
    {
     "name": "stdout",
     "output_type": "stream",
     "text": [
      "Test Accuracy: 72.68518518518519%\n"
     ]
    },
    {
     "name": "stderr",
     "output_type": "stream",
     "text": [
      "Epoch [108/60]: 100%|████████████████████████████████████████████████████| 216/216 [00:11<00:00, 18.35it/s, loss=0.521]\n",
      "100%|████████████████████████████████████████████████████████████████████████████████| 108/108 [00:01<00:00, 64.64it/s]\n"
     ]
    },
    {
     "name": "stdout",
     "output_type": "stream",
     "text": [
      "Test Accuracy: 74.53703703703704%\n"
     ]
    },
    {
     "name": "stderr",
     "output_type": "stream",
     "text": [
      "Epoch [109/60]: 100%|█████████████████████████████████████████████████████| 216/216 [00:11<00:00, 18.75it/s, loss=0.48]\n",
      "100%|████████████████████████████████████████████████████████████████████████████████| 108/108 [00:01<00:00, 64.07it/s]\n"
     ]
    },
    {
     "name": "stdout",
     "output_type": "stream",
     "text": [
      "Test Accuracy: 75.46296296296296%\n"
     ]
    },
    {
     "name": "stderr",
     "output_type": "stream",
     "text": [
      "Epoch [110/60]: 100%|████████████████████████████████████████████████████| 216/216 [00:11<00:00, 18.77it/s, loss=0.501]\n",
      "100%|████████████████████████████████████████████████████████████████████████████████| 108/108 [00:01<00:00, 63.36it/s]\n"
     ]
    },
    {
     "name": "stdout",
     "output_type": "stream",
     "text": [
      "Test Accuracy: 73.61111111111111%\n"
     ]
    },
    {
     "name": "stderr",
     "output_type": "stream",
     "text": [
      "Epoch [111/60]: 100%|████████████████████████████████████████████████████| 216/216 [00:11<00:00, 18.60it/s, loss=0.529]\n",
      "100%|████████████████████████████████████████████████████████████████████████████████| 108/108 [00:01<00:00, 64.47it/s]\n"
     ]
    },
    {
     "name": "stdout",
     "output_type": "stream",
     "text": [
      "Test Accuracy: 75.23148148148148%\n"
     ]
    },
    {
     "name": "stderr",
     "output_type": "stream",
     "text": [
      "Epoch [112/60]: 100%|████████████████████████████████████████████████████| 216/216 [00:11<00:00, 18.45it/s, loss=0.438]\n",
      "100%|████████████████████████████████████████████████████████████████████████████████| 108/108 [00:01<00:00, 61.26it/s]\n"
     ]
    },
    {
     "name": "stdout",
     "output_type": "stream",
     "text": [
      "Test Accuracy: 78.93518518518519%\n"
     ]
    },
    {
     "name": "stderr",
     "output_type": "stream",
     "text": [
      "Epoch [113/60]: 100%|████████████████████████████████████████████████████| 216/216 [00:11<00:00, 18.64it/s, loss=0.419]\n",
      "100%|████████████████████████████████████████████████████████████████████████████████| 108/108 [00:01<00:00, 64.05it/s]\n"
     ]
    },
    {
     "name": "stdout",
     "output_type": "stream",
     "text": [
      "Test Accuracy: 73.37962962962963%\n"
     ]
    },
    {
     "name": "stderr",
     "output_type": "stream",
     "text": [
      "Epoch [114/60]: 100%|████████████████████████████████████████████████████| 216/216 [00:11<00:00, 18.89it/s, loss=0.406]\n",
      "100%|████████████████████████████████████████████████████████████████████████████████| 108/108 [00:01<00:00, 63.35it/s]\n"
     ]
    },
    {
     "name": "stdout",
     "output_type": "stream",
     "text": [
      "Test Accuracy: 76.1574074074074%\n"
     ]
    },
    {
     "name": "stderr",
     "output_type": "stream",
     "text": [
      "Epoch [115/60]: 100%|█████████████████████████████████████████████████████| 216/216 [00:11<00:00, 18.42it/s, loss=0.51]\n",
      "100%|████████████████████████████████████████████████████████████████████████████████| 108/108 [00:01<00:00, 64.84it/s]\n"
     ]
    },
    {
     "name": "stdout",
     "output_type": "stream",
     "text": [
      "Test Accuracy: 74.07407407407408%\n"
     ]
    },
    {
     "name": "stderr",
     "output_type": "stream",
     "text": [
      "Epoch [116/60]: 100%|████████████████████████████████████████████████████| 216/216 [00:11<00:00, 18.67it/s, loss=0.456]\n",
      "100%|████████████████████████████████████████████████████████████████████████████████| 108/108 [00:01<00:00, 65.58it/s]\n"
     ]
    },
    {
     "name": "stdout",
     "output_type": "stream",
     "text": [
      "Test Accuracy: 76.38888888888889%\n"
     ]
    },
    {
     "name": "stderr",
     "output_type": "stream",
     "text": [
      "Epoch [117/60]: 100%|████████████████████████████████████████████████████| 216/216 [00:11<00:00, 18.84it/s, loss=0.414]\n",
      "100%|████████████████████████████████████████████████████████████████████████████████| 108/108 [00:01<00:00, 62.88it/s]\n"
     ]
    },
    {
     "name": "stdout",
     "output_type": "stream",
     "text": [
      "Test Accuracy: 75.69444444444444%\n"
     ]
    },
    {
     "name": "stderr",
     "output_type": "stream",
     "text": [
      "Epoch [118/60]: 100%|████████████████████████████████████████████████████| 216/216 [00:11<00:00, 18.57it/s, loss=0.422]\n",
      "100%|████████████████████████████████████████████████████████████████████████████████| 108/108 [00:01<00:00, 64.58it/s]\n"
     ]
    },
    {
     "name": "stdout",
     "output_type": "stream",
     "text": [
      "Test Accuracy: 76.38888888888889%\n"
     ]
    },
    {
     "name": "stderr",
     "output_type": "stream",
     "text": [
      "Epoch [119/60]: 100%|████████████████████████████████████████████████████| 216/216 [00:11<00:00, 18.40it/s, loss=0.474]\n",
      "100%|████████████████████████████████████████████████████████████████████████████████| 108/108 [00:01<00:00, 63.83it/s]\n"
     ]
    },
    {
     "name": "stdout",
     "output_type": "stream",
     "text": [
      "Test Accuracy: 78.47222222222223%\n"
     ]
    },
    {
     "name": "stderr",
     "output_type": "stream",
     "text": [
      "Epoch [120/60]: 100%|████████████████████████████████████████████████████| 216/216 [00:11<00:00, 18.38it/s, loss=0.368]\n",
      "100%|████████████████████████████████████████████████████████████████████████████████| 108/108 [00:01<00:00, 60.82it/s]"
     ]
    },
    {
     "name": "stdout",
     "output_type": "stream",
     "text": [
      "Test Accuracy: 78.93518518518519%\n",
      "Training finished!\n"
     ]
    },
    {
     "name": "stderr",
     "output_type": "stream",
     "text": [
      "\n"
     ]
    }
   ],
   "source": [
    "for epoch in range(60,60+num_epochs):\n",
    "    running_loss = 0.0\n",
    "    loop = tqdm(dataloader, total=len(dataloader), leave=True)\n",
    "    model.train()\n",
    "    \n",
    "    for images, labels in loop:\n",
    "        images = images.to(device)\n",
    "        labels = labels.to(device)\n",
    "\n",
    "        # Forward pass\n",
    "        outputs = model(images)\n",
    "        loss = criterion(outputs, labels)\n",
    "\n",
    "        # Backward and optimize\n",
    "        optimizer.zero_grad()\n",
    "        loss.backward()\n",
    "        optimizer.step()\n",
    "\n",
    "        running_loss += loss.item()\n",
    "        loop.set_description(f'Epoch [{epoch+1}/{num_epochs}]')\n",
    "        loop.set_postfix(loss=running_loss / (len(dataloader)))\n",
    "    test(model,test_loader)\n",
    "    torch.save(model.state_dict(), \"result/model_LSTM_256_{}.pth\".format(epoch))\n",
    "    \n",
    "print('Training finished!')"
   ]
  },
  {
   "cell_type": "code",
   "execution_count": 105,
   "id": "78489958",
   "metadata": {},
   "outputs": [
    {
     "name": "stderr",
     "output_type": "stream",
     "text": [
      "Epoch [1/60]: 100%|██████████████████████████████████████████████████████| 157/157 [00:06<00:00, 22.47it/s, loss=0.733]\n",
      "100%|█████████████████████████████████████████████████████████████████████████████████| 78/78 [00:00<00:00, 194.13it/s]\n"
     ]
    },
    {
     "name": "stdout",
     "output_type": "stream",
     "text": [
      "Test Accuracy: 71.47435897435898%\n"
     ]
    },
    {
     "name": "stderr",
     "output_type": "stream",
     "text": [
      "Epoch [2/60]: 100%|██████████████████████████████████████████████████████| 157/157 [00:06<00:00, 22.78it/s, loss=0.548]\n",
      "100%|█████████████████████████████████████████████████████████████████████████████████| 78/78 [00:00<00:00, 186.43it/s]\n"
     ]
    },
    {
     "name": "stdout",
     "output_type": "stream",
     "text": [
      "Test Accuracy: 59.294871794871796%\n"
     ]
    },
    {
     "name": "stderr",
     "output_type": "stream",
     "text": [
      "Epoch [3/60]: 100%|██████████████████████████████████████████████████████| 157/157 [00:06<00:00, 23.25it/s, loss=0.497]\n",
      "100%|█████████████████████████████████████████████████████████████████████████████████| 78/78 [00:00<00:00, 172.58it/s]\n"
     ]
    },
    {
     "name": "stdout",
     "output_type": "stream",
     "text": [
      "Test Accuracy: 75.32051282051282%\n"
     ]
    },
    {
     "name": "stderr",
     "output_type": "stream",
     "text": [
      "Epoch [4/60]: 100%|██████████████████████████████████████████████████████| 157/157 [00:06<00:00, 23.24it/s, loss=0.476]\n",
      "100%|█████████████████████████████████████████████████████████████████████████████████| 78/78 [00:00<00:00, 187.95it/s]\n"
     ]
    },
    {
     "name": "stdout",
     "output_type": "stream",
     "text": [
      "Test Accuracy: 72.11538461538461%\n"
     ]
    },
    {
     "name": "stderr",
     "output_type": "stream",
     "text": [
      "Epoch [5/60]: 100%|██████████████████████████████████████████████████████| 157/157 [00:06<00:00, 23.23it/s, loss=0.397]\n",
      "100%|█████████████████████████████████████████████████████████████████████████████████| 78/78 [00:00<00:00, 183.90it/s]\n"
     ]
    },
    {
     "name": "stdout",
     "output_type": "stream",
     "text": [
      "Test Accuracy: 71.7948717948718%\n"
     ]
    },
    {
     "name": "stderr",
     "output_type": "stream",
     "text": [
      "Epoch [6/60]: 100%|██████████████████████████████████████████████████████| 157/157 [00:06<00:00, 22.77it/s, loss=0.348]\n",
      "100%|█████████████████████████████████████████████████████████████████████████████████| 78/78 [00:00<00:00, 183.26it/s]\n"
     ]
    },
    {
     "name": "stdout",
     "output_type": "stream",
     "text": [
      "Test Accuracy: 72.43589743589743%\n"
     ]
    },
    {
     "name": "stderr",
     "output_type": "stream",
     "text": [
      "Epoch [7/60]: 100%|██████████████████████████████████████████████████████| 157/157 [00:06<00:00, 23.36it/s, loss=0.349]\n",
      "100%|█████████████████████████████████████████████████████████████████████████████████| 78/78 [00:00<00:00, 175.70it/s]\n"
     ]
    },
    {
     "name": "stdout",
     "output_type": "stream",
     "text": [
      "Test Accuracy: 82.05128205128206%\n"
     ]
    },
    {
     "name": "stderr",
     "output_type": "stream",
     "text": [
      "Epoch [8/60]: 100%|██████████████████████████████████████████████████████| 157/157 [00:06<00:00, 23.17it/s, loss=0.263]\n",
      "100%|█████████████████████████████████████████████████████████████████████████████████| 78/78 [00:00<00:00, 180.98it/s]\n"
     ]
    },
    {
     "name": "stdout",
     "output_type": "stream",
     "text": [
      "Test Accuracy: 75.0%\n"
     ]
    },
    {
     "name": "stderr",
     "output_type": "stream",
     "text": [
      "Epoch [9/60]: 100%|██████████████████████████████████████████████████████| 157/157 [00:06<00:00, 22.95it/s, loss=0.233]\n",
      "100%|█████████████████████████████████████████████████████████████████████████████████| 78/78 [00:00<00:00, 178.48it/s]\n"
     ]
    },
    {
     "name": "stdout",
     "output_type": "stream",
     "text": [
      "Test Accuracy: 81.73076923076923%\n"
     ]
    },
    {
     "name": "stderr",
     "output_type": "stream",
     "text": [
      "Epoch [10/60]: 100%|██████████████████████████████████████████████████████| 157/157 [00:06<00:00, 23.14it/s, loss=0.22]\n",
      "100%|█████████████████████████████████████████████████████████████████████████████████| 78/78 [00:00<00:00, 175.97it/s]\n"
     ]
    },
    {
     "name": "stdout",
     "output_type": "stream",
     "text": [
      "Test Accuracy: 76.92307692307692%\n"
     ]
    },
    {
     "name": "stderr",
     "output_type": "stream",
     "text": [
      "Epoch [11/60]: 100%|█████████████████████████████████████████████████████| 157/157 [00:06<00:00, 23.19it/s, loss=0.138]\n",
      "100%|█████████████████████████████████████████████████████████████████████████████████| 78/78 [00:00<00:00, 179.81it/s]\n"
     ]
    },
    {
     "name": "stdout",
     "output_type": "stream",
     "text": [
      "Test Accuracy: 83.33333333333333%\n"
     ]
    },
    {
     "name": "stderr",
     "output_type": "stream",
     "text": [
      "Epoch [12/60]: 100%|█████████████████████████████████████████████████████| 157/157 [00:06<00:00, 23.21it/s, loss=0.132]\n",
      "100%|█████████████████████████████████████████████████████████████████████████████████| 78/78 [00:00<00:00, 185.29it/s]\n"
     ]
    },
    {
     "name": "stdout",
     "output_type": "stream",
     "text": [
      "Test Accuracy: 78.84615384615384%\n"
     ]
    },
    {
     "name": "stderr",
     "output_type": "stream",
     "text": [
      "Epoch [13/60]: 100%|█████████████████████████████████████████████████████| 157/157 [00:06<00:00, 23.27it/s, loss=0.161]\n",
      "100%|█████████████████████████████████████████████████████████████████████████████████| 78/78 [00:00<00:00, 181.91it/s]\n"
     ]
    },
    {
     "name": "stdout",
     "output_type": "stream",
     "text": [
      "Test Accuracy: 83.33333333333333%\n"
     ]
    },
    {
     "name": "stderr",
     "output_type": "stream",
     "text": [
      "Epoch [14/60]: 100%|████████████████████████████████████████████████████| 157/157 [00:06<00:00, 23.18it/s, loss=0.0729]\n",
      "100%|█████████████████████████████████████████████████████████████████████████████████| 78/78 [00:00<00:00, 180.44it/s]\n"
     ]
    },
    {
     "name": "stdout",
     "output_type": "stream",
     "text": [
      "Test Accuracy: 78.2051282051282%\n"
     ]
    },
    {
     "name": "stderr",
     "output_type": "stream",
     "text": [
      "Epoch [15/60]: 100%|█████████████████████████████████████████████████████| 157/157 [00:06<00:00, 22.58it/s, loss=0.115]\n",
      "100%|█████████████████████████████████████████████████████████████████████████████████| 78/78 [00:00<00:00, 180.14it/s]\n"
     ]
    },
    {
     "name": "stdout",
     "output_type": "stream",
     "text": [
      "Test Accuracy: 80.44871794871794%\n"
     ]
    },
    {
     "name": "stderr",
     "output_type": "stream",
     "text": [
      "Epoch [16/60]: 100%|████████████████████████████████████████████████████| 157/157 [00:06<00:00, 23.42it/s, loss=0.0749]\n",
      "100%|█████████████████████████████████████████████████████████████████████████████████| 78/78 [00:00<00:00, 186.03it/s]\n"
     ]
    },
    {
     "name": "stdout",
     "output_type": "stream",
     "text": [
      "Test Accuracy: 81.73076923076923%\n"
     ]
    },
    {
     "name": "stderr",
     "output_type": "stream",
     "text": [
      "Epoch [17/60]: 100%|████████████████████████████████████████████████████| 157/157 [00:06<00:00, 23.13it/s, loss=0.0587]\n",
      "100%|█████████████████████████████████████████████████████████████████████████████████| 78/78 [00:00<00:00, 174.60it/s]\n"
     ]
    },
    {
     "name": "stdout",
     "output_type": "stream",
     "text": [
      "Test Accuracy: 77.24358974358974%\n"
     ]
    },
    {
     "name": "stderr",
     "output_type": "stream",
     "text": [
      "Epoch [18/60]: 100%|██████████████████████████████████████████████████████| 157/157 [00:06<00:00, 23.11it/s, loss=0.08]\n",
      "100%|█████████████████████████████████████████████████████████████████████████████████| 78/78 [00:00<00:00, 183.68it/s]\n"
     ]
    },
    {
     "name": "stdout",
     "output_type": "stream",
     "text": [
      "Test Accuracy: 81.73076923076923%\n"
     ]
    },
    {
     "name": "stderr",
     "output_type": "stream",
     "text": [
      "Epoch [19/60]: 100%|████████████████████████████████████████████████████| 157/157 [00:06<00:00, 23.31it/s, loss=0.0571]\n",
      "100%|█████████████████████████████████████████████████████████████████████████████████| 78/78 [00:00<00:00, 185.48it/s]\n"
     ]
    },
    {
     "name": "stdout",
     "output_type": "stream",
     "text": [
      "Test Accuracy: 75.64102564102564%\n"
     ]
    },
    {
     "name": "stderr",
     "output_type": "stream",
     "text": [
      "Epoch [20/60]: 100%|█████████████████████████████████████████████████████| 157/157 [00:06<00:00, 23.05it/s, loss=0.043]\n",
      "100%|█████████████████████████████████████████████████████████████████████████████████| 78/78 [00:00<00:00, 175.52it/s]\n"
     ]
    },
    {
     "name": "stdout",
     "output_type": "stream",
     "text": [
      "Test Accuracy: 83.01282051282051%\n"
     ]
    },
    {
     "name": "stderr",
     "output_type": "stream",
     "text": [
      "Epoch [21/60]: 100%|████████████████████████████████████████████████████| 157/157 [00:06<00:00, 23.31it/s, loss=0.0831]\n",
      "100%|█████████████████████████████████████████████████████████████████████████████████| 78/78 [00:00<00:00, 144.95it/s]\n"
     ]
    },
    {
     "name": "stdout",
     "output_type": "stream",
     "text": [
      "Test Accuracy: 72.11538461538461%\n"
     ]
    },
    {
     "name": "stderr",
     "output_type": "stream",
     "text": [
      "Epoch [22/60]: 100%|████████████████████████████████████████████████████| 157/157 [00:06<00:00, 23.21it/s, loss=0.0734]\n",
      "100%|█████████████████████████████████████████████████████████████████████████████████| 78/78 [00:00<00:00, 183.54it/s]\n"
     ]
    },
    {
     "name": "stdout",
     "output_type": "stream",
     "text": [
      "Test Accuracy: 66.98717948717949%\n"
     ]
    },
    {
     "name": "stderr",
     "output_type": "stream",
     "text": [
      "Epoch [23/60]: 100%|████████████████████████████████████████████████████| 157/157 [00:06<00:00, 23.25it/s, loss=0.0921]\n",
      "100%|█████████████████████████████████████████████████████████████████████████████████| 78/78 [00:00<00:00, 184.36it/s]\n"
     ]
    },
    {
     "name": "stdout",
     "output_type": "stream",
     "text": [
      "Test Accuracy: 81.41025641025641%\n"
     ]
    },
    {
     "name": "stderr",
     "output_type": "stream",
     "text": [
      "Epoch [24/60]: 100%|████████████████████████████████████████████████████| 157/157 [00:06<00:00, 22.97it/s, loss=0.0307]\n",
      "100%|█████████████████████████████████████████████████████████████████████████████████| 78/78 [00:00<00:00, 177.59it/s]\n"
     ]
    },
    {
     "name": "stdout",
     "output_type": "stream",
     "text": [
      "Test Accuracy: 83.33333333333333%\n"
     ]
    },
    {
     "name": "stderr",
     "output_type": "stream",
     "text": [
      "Epoch [25/60]: 100%|████████████████████████████████████████████████████| 157/157 [00:06<00:00, 23.09it/s, loss=0.0403]\n",
      "100%|█████████████████████████████████████████████████████████████████████████████████| 78/78 [00:00<00:00, 176.35it/s]\n"
     ]
    },
    {
     "name": "stdout",
     "output_type": "stream",
     "text": [
      "Test Accuracy: 83.65384615384616%\n"
     ]
    },
    {
     "name": "stderr",
     "output_type": "stream",
     "text": [
      "Epoch [26/60]: 100%|█████████████████████████████████████████████████████| 157/157 [00:06<00:00, 22.85it/s, loss=0.027]\n",
      "100%|█████████████████████████████████████████████████████████████████████████████████| 78/78 [00:00<00:00, 187.95it/s]\n"
     ]
    },
    {
     "name": "stdout",
     "output_type": "stream",
     "text": [
      "Test Accuracy: 81.73076923076923%\n"
     ]
    },
    {
     "name": "stderr",
     "output_type": "stream",
     "text": [
      "Epoch [27/60]: 100%|████████████████████████████████████████████████████| 157/157 [00:06<00:00, 23.31it/s, loss=0.0466]\n",
      "100%|█████████████████████████████████████████████████████████████████████████████████| 78/78 [00:00<00:00, 183.69it/s]\n"
     ]
    },
    {
     "name": "stdout",
     "output_type": "stream",
     "text": [
      "Test Accuracy: 78.2051282051282%\n"
     ]
    },
    {
     "name": "stderr",
     "output_type": "stream",
     "text": [
      "Epoch [28/60]: 100%|████████████████████████████████████████████████████| 157/157 [00:06<00:00, 23.37it/s, loss=0.0521]\n",
      "100%|█████████████████████████████████████████████████████████████████████████████████| 78/78 [00:00<00:00, 170.26it/s]\n"
     ]
    },
    {
     "name": "stdout",
     "output_type": "stream",
     "text": [
      "Test Accuracy: 80.44871794871794%\n"
     ]
    },
    {
     "name": "stderr",
     "output_type": "stream",
     "text": [
      "Epoch [29/60]: 100%|████████████████████████████████████████████████████| 157/157 [00:06<00:00, 23.33it/s, loss=0.0203]\n",
      "100%|█████████████████████████████████████████████████████████████████████████████████| 78/78 [00:00<00:00, 175.36it/s]\n"
     ]
    },
    {
     "name": "stdout",
     "output_type": "stream",
     "text": [
      "Test Accuracy: 83.65384615384616%\n"
     ]
    },
    {
     "name": "stderr",
     "output_type": "stream",
     "text": [
      "Epoch [30/60]: 100%|████████████████████████████████████████████████████| 157/157 [00:06<00:00, 23.20it/s, loss=0.0166]\n",
      "100%|█████████████████████████████████████████████████████████████████████████████████| 78/78 [00:00<00:00, 191.97it/s]\n"
     ]
    },
    {
     "name": "stdout",
     "output_type": "stream",
     "text": [
      "Test Accuracy: 77.24358974358974%\n"
     ]
    },
    {
     "name": "stderr",
     "output_type": "stream",
     "text": [
      "Epoch [31/60]: 100%|████████████████████████████████████████████████████| 157/157 [00:06<00:00, 23.17it/s, loss=0.0541]\n",
      "100%|█████████████████████████████████████████████████████████████████████████████████| 78/78 [00:00<00:00, 180.97it/s]\n"
     ]
    },
    {
     "name": "stdout",
     "output_type": "stream",
     "text": [
      "Test Accuracy: 79.16666666666667%\n"
     ]
    },
    {
     "name": "stderr",
     "output_type": "stream",
     "text": [
      "Epoch [32/60]: 100%|████████████████████████████████████████████████████| 157/157 [00:06<00:00, 23.48it/s, loss=0.0212]\n",
      "100%|█████████████████████████████████████████████████████████████████████████████████| 78/78 [00:00<00:00, 168.71it/s]\n"
     ]
    },
    {
     "name": "stdout",
     "output_type": "stream",
     "text": [
      "Test Accuracy: 79.16666666666667%\n"
     ]
    },
    {
     "name": "stderr",
     "output_type": "stream",
     "text": [
      "Epoch [33/60]: 100%|████████████████████████████████████████████████████| 157/157 [00:06<00:00, 23.25it/s, loss=0.0632]\n",
      "100%|█████████████████████████████████████████████████████████████████████████████████| 78/78 [00:00<00:00, 168.45it/s]\n"
     ]
    },
    {
     "name": "stdout",
     "output_type": "stream",
     "text": [
      "Test Accuracy: 80.12820512820512%\n"
     ]
    },
    {
     "name": "stderr",
     "output_type": "stream",
     "text": [
      "Epoch [34/60]:  52%|███████████████████████████▏                        | 82/157 [00:03<00:03, 22.93it/s, loss=0.00913]\n"
     ]
    },
    {
     "ename": "KeyboardInterrupt",
     "evalue": "",
     "output_type": "error",
     "traceback": [
      "\u001b[1;31m---------------------------------------------------------------------------\u001b[0m",
      "\u001b[1;31mKeyboardInterrupt\u001b[0m                         Traceback (most recent call last)",
      "Input \u001b[1;32mIn [105]\u001b[0m, in \u001b[0;36m<cell line: 3>\u001b[1;34m()\u001b[0m\n\u001b[0;32m     18\u001b[0m loss\u001b[38;5;241m.\u001b[39mbackward()\n\u001b[0;32m     19\u001b[0m optimizer\u001b[38;5;241m.\u001b[39mstep()\n\u001b[1;32m---> 21\u001b[0m running_loss \u001b[38;5;241m+\u001b[39m\u001b[38;5;241m=\u001b[39m \u001b[43mloss\u001b[49m\u001b[38;5;241;43m.\u001b[39;49m\u001b[43mitem\u001b[49m\u001b[43m(\u001b[49m\u001b[43m)\u001b[49m\n\u001b[0;32m     22\u001b[0m loop\u001b[38;5;241m.\u001b[39mset_description(\u001b[38;5;124mf\u001b[39m\u001b[38;5;124m'\u001b[39m\u001b[38;5;124mEpoch [\u001b[39m\u001b[38;5;132;01m{\u001b[39;00mepoch\u001b[38;5;241m+\u001b[39m\u001b[38;5;241m1\u001b[39m\u001b[38;5;132;01m}\u001b[39;00m\u001b[38;5;124m/\u001b[39m\u001b[38;5;132;01m{\u001b[39;00mnum_epochs\u001b[38;5;132;01m}\u001b[39;00m\u001b[38;5;124m]\u001b[39m\u001b[38;5;124m'\u001b[39m)\n\u001b[0;32m     23\u001b[0m loop\u001b[38;5;241m.\u001b[39mset_postfix(loss\u001b[38;5;241m=\u001b[39mrunning_loss \u001b[38;5;241m/\u001b[39m (\u001b[38;5;28mlen\u001b[39m(dataloader)))\n",
      "\u001b[1;31mKeyboardInterrupt\u001b[0m: "
     ]
    }
   ],
   "source": [
    "for epoch in range(num_epochs):\n",
    "    running_loss = 0.0\n",
    "    loop = tqdm(dataloader, total=len(dataloader), leave=True)\n",
    "    model.train()\n",
    "    \n",
    "    for images, labels in loop:\n",
    "        images = images.to(device)\n",
    "        labels = labels.to(device)\n",
    "\n",
    "        # Forward pass\n",
    "        outputs = model(images)\n",
    "        loss = criterion(outputs, labels)\n",
    "\n",
    "        # Backward and optimize\n",
    "        optimizer.zero_grad()\n",
    "        loss.backward()\n",
    "        optimizer.step()\n",
    "\n",
    "        running_loss += loss.item()\n",
    "        loop.set_description(f'Epoch [{epoch+1}/{num_epochs}]')\n",
    "        loop.set_postfix(loss=running_loss / (len(dataloader)))\n",
    "    test(model,test_loader)\n",
    "    torch.save(model.state_dict(), \"result/model_resnet_new_{}.pth\".format(epoch))\n",
    "    \n",
    "print('Training finished!')"
   ]
  },
  {
   "cell_type": "markdown",
   "id": "8d700b19",
   "metadata": {},
   "source": [
    "## 남녀 데이터 둘다"
   ]
  },
  {
   "cell_type": "code",
   "execution_count": 106,
   "id": "8ed6ba62",
   "metadata": {},
   "outputs": [
    {
     "data": {
      "text/html": [
       "<div>\n",
       "<style scoped>\n",
       "    .dataframe tbody tr th:only-of-type {\n",
       "        vertical-align: middle;\n",
       "    }\n",
       "\n",
       "    .dataframe tbody tr th {\n",
       "        vertical-align: top;\n",
       "    }\n",
       "\n",
       "    .dataframe thead th {\n",
       "        text-align: right;\n",
       "    }\n",
       "</style>\n",
       "<table border=\"1\" class=\"dataframe\">\n",
       "  <thead>\n",
       "    <tr style=\"text-align: right;\">\n",
       "      <th></th>\n",
       "      <th>path</th>\n",
       "      <th>sex</th>\n",
       "      <th>emotion</th>\n",
       "    </tr>\n",
       "  </thead>\n",
       "  <tbody>\n",
       "    <tr>\n",
       "      <th>0</th>\n",
       "      <td>ravdess-emotional-speech-audio/audio_speech_ac...</td>\n",
       "      <td>male</td>\n",
       "      <td>neutral</td>\n",
       "    </tr>\n",
       "    <tr>\n",
       "      <th>1</th>\n",
       "      <td>ravdess-emotional-speech-audio/audio_speech_ac...</td>\n",
       "      <td>male</td>\n",
       "      <td>neutral</td>\n",
       "    </tr>\n",
       "    <tr>\n",
       "      <th>2</th>\n",
       "      <td>ravdess-emotional-speech-audio/audio_speech_ac...</td>\n",
       "      <td>male</td>\n",
       "      <td>neutral</td>\n",
       "    </tr>\n",
       "    <tr>\n",
       "      <th>3</th>\n",
       "      <td>ravdess-emotional-speech-audio/audio_speech_ac...</td>\n",
       "      <td>male</td>\n",
       "      <td>neutral</td>\n",
       "    </tr>\n",
       "    <tr>\n",
       "      <th>4</th>\n",
       "      <td>ravdess-emotional-speech-audio/audio_speech_ac...</td>\n",
       "      <td>male</td>\n",
       "      <td>happy</td>\n",
       "    </tr>\n",
       "  </tbody>\n",
       "</table>\n",
       "</div>"
      ],
      "text/plain": [
       "                                                path   sex  emotion\n",
       "0  ravdess-emotional-speech-audio/audio_speech_ac...  male  neutral\n",
       "1  ravdess-emotional-speech-audio/audio_speech_ac...  male  neutral\n",
       "2  ravdess-emotional-speech-audio/audio_speech_ac...  male  neutral\n",
       "3  ravdess-emotional-speech-audio/audio_speech_ac...  male  neutral\n",
       "4  ravdess-emotional-speech-audio/audio_speech_ac...  male    happy"
      ]
     },
     "execution_count": 106,
     "metadata": {},
     "output_type": "execute_result"
    }
   ],
   "source": [
    "df = pd.concat([\n",
    "    ravdess_df, \n",
    "    crema_df, \n",
    "    tess_df, \n",
    "    savee_df\n",
    "], axis=0)\n",
    "df.head()"
   ]
  },
  {
   "cell_type": "code",
   "execution_count": 107,
   "id": "eb60577a",
   "metadata": {},
   "outputs": [
    {
     "name": "stdout",
     "output_type": "stream",
     "text": [
      "Failed for path: ravdess-emotional-speech-audio/audio_speech_actors_01-24/Actor_20/03-01-06-01-01-02-20.wav\n",
      "Failed for path: surrey-audiovisual-expressed-emotion-savee/ALL/DC_a13.wav\n",
      "Failed for path: surrey-audiovisual-expressed-emotion-savee/ALL/DC_a14.wav\n",
      "Failed for path: surrey-audiovisual-expressed-emotion-savee/ALL/DC_d01.wav\n",
      "Failed for path: surrey-audiovisual-expressed-emotion-savee/ALL/DC_d04.wav\n",
      "Failed for path: surrey-audiovisual-expressed-emotion-savee/ALL/DC_d08.wav\n",
      "Failed for path: surrey-audiovisual-expressed-emotion-savee/ALL/DC_d09.wav\n",
      "Failed for path: surrey-audiovisual-expressed-emotion-savee/ALL/DC_d10.wav\n",
      "Failed for path: surrey-audiovisual-expressed-emotion-savee/ALL/DC_d13.wav\n",
      "Failed for path: surrey-audiovisual-expressed-emotion-savee/ALL/DC_d14.wav\n",
      "Failed for path: surrey-audiovisual-expressed-emotion-savee/ALL/DC_d15.wav\n",
      "Failed for path: surrey-audiovisual-expressed-emotion-savee/ALL/DC_f11.wav\n",
      "Failed for path: surrey-audiovisual-expressed-emotion-savee/ALL/DC_f12.wav\n",
      "Failed for path: surrey-audiovisual-expressed-emotion-savee/ALL/DC_f14.wav\n",
      "Failed for path: surrey-audiovisual-expressed-emotion-savee/ALL/DC_f15.wav\n",
      "Failed for path: surrey-audiovisual-expressed-emotion-savee/ALL/DC_h05.wav\n",
      "Failed for path: surrey-audiovisual-expressed-emotion-savee/ALL/DC_h11.wav\n",
      "Failed for path: surrey-audiovisual-expressed-emotion-savee/ALL/DC_h12.wav\n",
      "Failed for path: surrey-audiovisual-expressed-emotion-savee/ALL/DC_h14.wav\n",
      "Failed for path: surrey-audiovisual-expressed-emotion-savee/ALL/DC_h15.wav\n",
      "Failed for path: surrey-audiovisual-expressed-emotion-savee/ALL/DC_n06.wav\n",
      "Failed for path: surrey-audiovisual-expressed-emotion-savee/ALL/DC_n10.wav\n",
      "Failed for path: surrey-audiovisual-expressed-emotion-savee/ALL/DC_n11.wav\n",
      "Failed for path: surrey-audiovisual-expressed-emotion-savee/ALL/DC_n14.wav\n",
      "Failed for path: surrey-audiovisual-expressed-emotion-savee/ALL/DC_n15.wav\n",
      "Failed for path: surrey-audiovisual-expressed-emotion-savee/ALL/DC_n27.wav\n",
      "Failed for path: surrey-audiovisual-expressed-emotion-savee/ALL/DC_n28.wav\n",
      "Failed for path: surrey-audiovisual-expressed-emotion-savee/ALL/DC_n30.wav\n",
      "Failed for path: surrey-audiovisual-expressed-emotion-savee/ALL/DC_sa01.wav\n",
      "Failed for path: surrey-audiovisual-expressed-emotion-savee/ALL/DC_sa04.wav\n",
      "Failed for path: surrey-audiovisual-expressed-emotion-savee/ALL/DC_sa05.wav\n",
      "Failed for path: surrey-audiovisual-expressed-emotion-savee/ALL/DC_sa06.wav\n",
      "Failed for path: surrey-audiovisual-expressed-emotion-savee/ALL/DC_sa10.wav\n",
      "Failed for path: surrey-audiovisual-expressed-emotion-savee/ALL/DC_sa11.wav\n",
      "Failed for path: surrey-audiovisual-expressed-emotion-savee/ALL/DC_sa12.wav\n",
      "Failed for path: surrey-audiovisual-expressed-emotion-savee/ALL/DC_sa13.wav\n",
      "Failed for path: surrey-audiovisual-expressed-emotion-savee/ALL/DC_sa14.wav\n",
      "Failed for path: surrey-audiovisual-expressed-emotion-savee/ALL/DC_sa15.wav\n",
      "Failed for path: surrey-audiovisual-expressed-emotion-savee/ALL/JE_a14.wav\n",
      "Failed for path: surrey-audiovisual-expressed-emotion-savee/ALL/JE_a15.wav\n",
      "Failed for path: surrey-audiovisual-expressed-emotion-savee/ALL/JE_d01.wav\n",
      "Failed for path: surrey-audiovisual-expressed-emotion-savee/ALL/JE_d08.wav\n",
      "Failed for path: surrey-audiovisual-expressed-emotion-savee/ALL/JE_d09.wav\n",
      "Failed for path: surrey-audiovisual-expressed-emotion-savee/ALL/JE_d13.wav\n",
      "Failed for path: surrey-audiovisual-expressed-emotion-savee/ALL/JE_d14.wav\n",
      "Failed for path: surrey-audiovisual-expressed-emotion-savee/ALL/JE_d15.wav\n",
      "Failed for path: surrey-audiovisual-expressed-emotion-savee/ALL/JE_f07.wav\n",
      "Failed for path: surrey-audiovisual-expressed-emotion-savee/ALL/JE_f08.wav\n",
      "Failed for path: surrey-audiovisual-expressed-emotion-savee/ALL/JE_f09.wav\n",
      "Failed for path: surrey-audiovisual-expressed-emotion-savee/ALL/JE_f11.wav\n",
      "Failed for path: surrey-audiovisual-expressed-emotion-savee/ALL/JE_f12.wav\n",
      "Failed for path: surrey-audiovisual-expressed-emotion-savee/ALL/JE_f15.wav\n",
      "Failed for path: surrey-audiovisual-expressed-emotion-savee/ALL/JE_h01.wav\n",
      "Failed for path: surrey-audiovisual-expressed-emotion-savee/ALL/JE_h11.wav\n",
      "Failed for path: surrey-audiovisual-expressed-emotion-savee/ALL/JE_h12.wav\n",
      "Failed for path: surrey-audiovisual-expressed-emotion-savee/ALL/JE_h15.wav\n",
      "Failed for path: surrey-audiovisual-expressed-emotion-savee/ALL/JE_n05.wav\n",
      "Failed for path: surrey-audiovisual-expressed-emotion-savee/ALL/JE_n07.wav\n",
      "Failed for path: surrey-audiovisual-expressed-emotion-savee/ALL/JE_n11.wav\n",
      "Failed for path: surrey-audiovisual-expressed-emotion-savee/ALL/JE_n14.wav\n",
      "Failed for path: surrey-audiovisual-expressed-emotion-savee/ALL/JE_n15.wav\n",
      "Failed for path: surrey-audiovisual-expressed-emotion-savee/ALL/JE_n27.wav\n",
      "Failed for path: surrey-audiovisual-expressed-emotion-savee/ALL/JE_n28.wav\n",
      "Failed for path: surrey-audiovisual-expressed-emotion-savee/ALL/JE_sa01.wav\n",
      "Failed for path: surrey-audiovisual-expressed-emotion-savee/ALL/JE_sa04.wav\n",
      "Failed for path: surrey-audiovisual-expressed-emotion-savee/ALL/JE_sa05.wav\n",
      "Failed for path: surrey-audiovisual-expressed-emotion-savee/ALL/JE_sa06.wav\n",
      "Failed for path: surrey-audiovisual-expressed-emotion-savee/ALL/JE_sa08.wav\n",
      "Failed for path: surrey-audiovisual-expressed-emotion-savee/ALL/JE_sa10.wav\n",
      "Failed for path: surrey-audiovisual-expressed-emotion-savee/ALL/JE_sa11.wav\n",
      "Failed for path: surrey-audiovisual-expressed-emotion-savee/ALL/JE_sa12.wav\n",
      "Failed for path: surrey-audiovisual-expressed-emotion-savee/ALL/JE_sa13.wav\n",
      "Failed for path: surrey-audiovisual-expressed-emotion-savee/ALL/JE_sa14.wav\n",
      "Failed for path: surrey-audiovisual-expressed-emotion-savee/ALL/JE_sa15.wav\n",
      "Failed for path: surrey-audiovisual-expressed-emotion-savee/ALL/JK_a01.wav\n",
      "Failed for path: surrey-audiovisual-expressed-emotion-savee/ALL/JK_a13.wav\n",
      "Failed for path: surrey-audiovisual-expressed-emotion-savee/ALL/JK_a14.wav\n",
      "Failed for path: surrey-audiovisual-expressed-emotion-savee/ALL/JK_d01.wav\n",
      "Failed for path: surrey-audiovisual-expressed-emotion-savee/ALL/JK_d10.wav\n",
      "Failed for path: surrey-audiovisual-expressed-emotion-savee/ALL/JK_d13.wav\n",
      "Failed for path: surrey-audiovisual-expressed-emotion-savee/ALL/JK_d14.wav\n",
      "Failed for path: surrey-audiovisual-expressed-emotion-savee/ALL/JK_d15.wav\n",
      "Failed for path: surrey-audiovisual-expressed-emotion-savee/ALL/JK_f07.wav\n",
      "Failed for path: surrey-audiovisual-expressed-emotion-savee/ALL/JK_f08.wav\n",
      "Failed for path: surrey-audiovisual-expressed-emotion-savee/ALL/JK_f11.wav\n",
      "Failed for path: surrey-audiovisual-expressed-emotion-savee/ALL/JK_f12.wav\n",
      "Failed for path: surrey-audiovisual-expressed-emotion-savee/ALL/JK_f15.wav\n",
      "Failed for path: surrey-audiovisual-expressed-emotion-savee/ALL/JK_h11.wav\n",
      "Failed for path: surrey-audiovisual-expressed-emotion-savee/ALL/JK_h12.wav\n",
      "Failed for path: surrey-audiovisual-expressed-emotion-savee/ALL/JK_n01.wav\n",
      "Failed for path: surrey-audiovisual-expressed-emotion-savee/ALL/JK_n11.wav\n",
      "Failed for path: surrey-audiovisual-expressed-emotion-savee/ALL/JK_n14.wav\n",
      "Failed for path: surrey-audiovisual-expressed-emotion-savee/ALL/JK_n15.wav\n",
      "Failed for path: surrey-audiovisual-expressed-emotion-savee/ALL/JK_n16.wav\n",
      "Failed for path: surrey-audiovisual-expressed-emotion-savee/ALL/JK_n27.wav\n",
      "Failed for path: surrey-audiovisual-expressed-emotion-savee/ALL/JK_n30.wav\n",
      "Failed for path: surrey-audiovisual-expressed-emotion-savee/ALL/JK_sa01.wav\n",
      "Failed for path: surrey-audiovisual-expressed-emotion-savee/ALL/JK_sa02.wav\n",
      "Failed for path: surrey-audiovisual-expressed-emotion-savee/ALL/JK_sa04.wav\n",
      "Failed for path: surrey-audiovisual-expressed-emotion-savee/ALL/JK_sa05.wav\n",
      "Failed for path: surrey-audiovisual-expressed-emotion-savee/ALL/JK_sa10.wav\n",
      "Failed for path: surrey-audiovisual-expressed-emotion-savee/ALL/JK_sa11.wav\n",
      "Failed for path: surrey-audiovisual-expressed-emotion-savee/ALL/JK_sa12.wav\n",
      "Failed for path: surrey-audiovisual-expressed-emotion-savee/ALL/JK_sa13.wav\n",
      "Failed for path: surrey-audiovisual-expressed-emotion-savee/ALL/JK_sa14.wav\n",
      "Failed for path: surrey-audiovisual-expressed-emotion-savee/ALL/JK_sa15.wav\n",
      "Failed for path: surrey-audiovisual-expressed-emotion-savee/ALL/KL_d15.wav\n",
      "Failed for path: surrey-audiovisual-expressed-emotion-savee/ALL/KL_f11.wav\n",
      "Failed for path: surrey-audiovisual-expressed-emotion-savee/ALL/KL_h11.wav\n"
     ]
    },
    {
     "name": "stdout",
     "output_type": "stream",
     "text": [
      "Failed for path: surrey-audiovisual-expressed-emotion-savee/ALL/KL_h15.wav\n",
      "Failed for path: surrey-audiovisual-expressed-emotion-savee/ALL/KL_n11.wav\n",
      "Failed for path: surrey-audiovisual-expressed-emotion-savee/ALL/KL_n14.wav\n",
      "Failed for path: surrey-audiovisual-expressed-emotion-savee/ALL/KL_sa04.wav\n",
      "Failed for path: surrey-audiovisual-expressed-emotion-savee/ALL/KL_sa05.wav\n",
      "Failed for path: surrey-audiovisual-expressed-emotion-savee/ALL/KL_sa10.wav\n",
      "Failed for path: surrey-audiovisual-expressed-emotion-savee/ALL/KL_sa11.wav\n",
      "Failed for path: surrey-audiovisual-expressed-emotion-savee/ALL/KL_sa12.wav\n",
      "Failed for path: surrey-audiovisual-expressed-emotion-savee/ALL/KL_sa13.wav\n",
      "Failed for path: surrey-audiovisual-expressed-emotion-savee/ALL/KL_sa14.wav\n",
      "Failed for path: surrey-audiovisual-expressed-emotion-savee/ALL/KL_sa15.wav\n"
     ]
    }
   ],
   "source": [
    "zcr_list = []\n",
    "rms_list = []\n",
    "mfccs_list = []\n",
    "emotion_list = []\n",
    "\n",
    "FRAME_LENGTH = 2048\n",
    "HOP_LENGTH = 512\n",
    "\n",
    "for row in df.itertuples(index=False):\n",
    "    try: \n",
    "        y, sr = preprocess_audio(row.path)\n",
    "        zcr = librosa.feature.zero_crossing_rate(y, frame_length=FRAME_LENGTH, hop_length=HOP_LENGTH)\n",
    "        rms = librosa.feature.rms(y=y, frame_length=FRAME_LENGTH, hop_length=HOP_LENGTH)\n",
    "        mfccs = librosa.feature.mfcc(y=y, sr=sr, n_mfcc=13, hop_length=HOP_LENGTH)\n",
    "        zcr_list.append(zcr)\n",
    "        rms_list.append(rms)\n",
    "        mfccs_list.append(mfccs)\n",
    "\n",
    "        emotion_list.append(encode(row.emotion))\n",
    "    except:\n",
    "        print(f\"Failed for path: {row.path}\")"
   ]
  },
  {
   "cell_type": "code",
   "execution_count": 108,
   "id": "f03d4b44",
   "metadata": {},
   "outputs": [],
   "source": [
    "X = np.concatenate((\n",
    "    np.swapaxes(zcr_list, 1, 2), \n",
    "    np.swapaxes(rms_list, 1, 2), \n",
    "    np.swapaxes(mfccs_list, 1, 2)), \n",
    "    axis=2\n",
    ")\n",
    "X = X.astype('float32')\n",
    "\n",
    "y = np.asarray(emotion_list)"
   ]
  },
  {
   "cell_type": "code",
   "execution_count": 109,
   "id": "cce5c4ed",
   "metadata": {},
   "outputs": [
    {
     "name": "stderr",
     "output_type": "stream",
     "text": [
      "100%|█████████████████████████████████████████████████████████████████████████████| 4211/4211 [00:05<00:00, 749.53it/s]\n"
     ]
    }
   ],
   "source": [
    "dataset = EmotionDataset(X,y)\n",
    "dataset_size = len(dataset)\n",
    "train_size = int(dataset_size * 0.8)\n",
    "validation_size = int(dataset_size * 0.1)\n",
    "test_size = dataset_size - train_size - validation_size\n",
    "\n",
    "train_dataset, validation_dataset, test_dataset = random_split(dataset, [train_size, validation_size, test_size])"
   ]
  },
  {
   "cell_type": "code",
   "execution_count": 110,
   "id": "8756c444",
   "metadata": {},
   "outputs": [],
   "source": [
    "model = resnet18(pretrained=True)\n",
    "num_features = model.fc.in_features\n",
    "num_classes = 6\n",
    "model.fc = nn.Linear(num_features, num_classes) "
   ]
  },
  {
   "cell_type": "code",
   "execution_count": 111,
   "id": "b033b21e",
   "metadata": {},
   "outputs": [],
   "source": [
    "device = torch.device(\"cuda\" if torch.cuda.is_available() else \"cpu\")\n",
    "model = model.to(device)"
   ]
  },
  {
   "cell_type": "code",
   "execution_count": 112,
   "id": "20102ce5",
   "metadata": {},
   "outputs": [],
   "source": [
    "criterion = nn.CrossEntropyLoss()\n",
    "\n",
    "optimizer = optim.Adam(model.parameters(), lr=0.001, betas=(0.9, 0.999), eps=1e-08, weight_decay=0, amsgrad=False)"
   ]
  },
  {
   "cell_type": "code",
   "execution_count": 24,
   "id": "314fc856",
   "metadata": {},
   "outputs": [
    {
     "name": "stderr",
     "output_type": "stream",
     "text": [
      "Epoch [1/60]: 100%|███████████████████████████████████████████████████████| 216/216 [00:12<00:00, 16.69it/s, loss=1.46]\n",
      "100%|███████████████████████████████████████████████████████████████████████████████| 108/108 [00:00<00:00, 177.73it/s]\n"
     ]
    },
    {
     "name": "stdout",
     "output_type": "stream",
     "text": [
      "Test Accuracy: 36.342592592592595%\n"
     ]
    },
    {
     "name": "stderr",
     "output_type": "stream",
     "text": [
      "Epoch [2/60]: 100%|███████████████████████████████████████████████████████| 216/216 [00:09<00:00, 21.72it/s, loss=1.11]\n",
      "100%|███████████████████████████████████████████████████████████████████████████████| 108/108 [00:00<00:00, 166.05it/s]\n"
     ]
    },
    {
     "name": "stdout",
     "output_type": "stream",
     "text": [
      "Test Accuracy: 56.71296296296296%\n"
     ]
    },
    {
     "name": "stderr",
     "output_type": "stream",
     "text": [
      "Epoch [3/60]: 100%|██████████████████████████████████████████████████████| 216/216 [00:09<00:00, 21.88it/s, loss=0.967]\n",
      "100%|███████████████████████████████████████████████████████████████████████████████| 108/108 [00:00<00:00, 178.52it/s]\n"
     ]
    },
    {
     "name": "stdout",
     "output_type": "stream",
     "text": [
      "Test Accuracy: 56.71296296296296%\n"
     ]
    },
    {
     "name": "stderr",
     "output_type": "stream",
     "text": [
      "Epoch [4/60]: 100%|██████████████████████████████████████████████████████| 216/216 [00:10<00:00, 21.43it/s, loss=0.863]\n",
      "100%|███████████████████████████████████████████████████████████████████████████████| 108/108 [00:00<00:00, 174.30it/s]\n"
     ]
    },
    {
     "name": "stdout",
     "output_type": "stream",
     "text": [
      "Test Accuracy: 62.5%\n"
     ]
    },
    {
     "name": "stderr",
     "output_type": "stream",
     "text": [
      "Epoch [5/60]: 100%|██████████████████████████████████████████████████████| 216/216 [00:09<00:00, 21.68it/s, loss=0.754]\n",
      "100%|███████████████████████████████████████████████████████████████████████████████| 108/108 [00:00<00:00, 172.41it/s]\n"
     ]
    },
    {
     "name": "stdout",
     "output_type": "stream",
     "text": [
      "Test Accuracy: 59.72222222222222%\n"
     ]
    },
    {
     "name": "stderr",
     "output_type": "stream",
     "text": [
      "Epoch [6/60]: 100%|██████████████████████████████████████████████████████| 216/216 [00:09<00:00, 21.65it/s, loss=0.716]\n",
      "100%|███████████████████████████████████████████████████████████████████████████████| 108/108 [00:00<00:00, 181.82it/s]\n"
     ]
    },
    {
     "name": "stdout",
     "output_type": "stream",
     "text": [
      "Test Accuracy: 63.425925925925924%\n"
     ]
    },
    {
     "name": "stderr",
     "output_type": "stream",
     "text": [
      "Epoch [7/60]: 100%|██████████████████████████████████████████████████████| 216/216 [00:09<00:00, 21.77it/s, loss=0.645]\n",
      "100%|███████████████████████████████████████████████████████████████████████████████| 108/108 [00:00<00:00, 167.38it/s]\n"
     ]
    },
    {
     "name": "stdout",
     "output_type": "stream",
     "text": [
      "Test Accuracy: 64.12037037037037%\n"
     ]
    },
    {
     "name": "stderr",
     "output_type": "stream",
     "text": [
      "Epoch [8/60]: 100%|██████████████████████████████████████████████████████| 216/216 [00:09<00:00, 21.64it/s, loss=0.561]\n",
      "100%|███████████████████████████████████████████████████████████████████████████████| 108/108 [00:00<00:00, 176.56it/s]\n"
     ]
    },
    {
     "name": "stdout",
     "output_type": "stream",
     "text": [
      "Test Accuracy: 64.35185185185185%\n"
     ]
    },
    {
     "name": "stderr",
     "output_type": "stream",
     "text": [
      "Epoch [9/60]: 100%|██████████████████████████████████████████████████████| 216/216 [00:09<00:00, 21.86it/s, loss=0.481]\n",
      "100%|███████████████████████████████████████████████████████████████████████████████| 108/108 [00:00<00:00, 174.68it/s]\n"
     ]
    },
    {
     "name": "stdout",
     "output_type": "stream",
     "text": [
      "Test Accuracy: 65.74074074074075%\n"
     ]
    },
    {
     "name": "stderr",
     "output_type": "stream",
     "text": [
      "Epoch [10/60]: 100%|█████████████████████████████████████████████████████| 216/216 [00:09<00:00, 21.87it/s, loss=0.423]\n",
      "100%|███████████████████████████████████████████████████████████████████████████████| 108/108 [00:00<00:00, 175.31it/s]\n"
     ]
    },
    {
     "name": "stdout",
     "output_type": "stream",
     "text": [
      "Test Accuracy: 60.416666666666664%\n"
     ]
    },
    {
     "name": "stderr",
     "output_type": "stream",
     "text": [
      "Epoch [11/60]: 100%|█████████████████████████████████████████████████████| 216/216 [00:09<00:00, 21.64it/s, loss=0.354]\n",
      "100%|███████████████████████████████████████████████████████████████████████████████| 108/108 [00:00<00:00, 177.89it/s]\n"
     ]
    },
    {
     "name": "stdout",
     "output_type": "stream",
     "text": [
      "Test Accuracy: 62.96296296296296%\n"
     ]
    },
    {
     "name": "stderr",
     "output_type": "stream",
     "text": [
      "Epoch [12/60]: 100%|█████████████████████████████████████████████████████| 216/216 [00:09<00:00, 21.88it/s, loss=0.268]\n",
      "100%|███████████████████████████████████████████████████████████████████████████████| 108/108 [00:00<00:00, 169.96it/s]\n"
     ]
    },
    {
     "name": "stdout",
     "output_type": "stream",
     "text": [
      "Test Accuracy: 65.50925925925925%\n"
     ]
    },
    {
     "name": "stderr",
     "output_type": "stream",
     "text": [
      "Epoch [13/60]: 100%|██████████████████████████████████████████████████████| 216/216 [00:09<00:00, 21.75it/s, loss=0.24]\n",
      "100%|███████████████████████████████████████████████████████████████████████████████| 108/108 [00:00<00:00, 165.96it/s]\n"
     ]
    },
    {
     "name": "stdout",
     "output_type": "stream",
     "text": [
      "Test Accuracy: 59.02777777777778%\n"
     ]
    },
    {
     "name": "stderr",
     "output_type": "stream",
     "text": [
      "Epoch [14/60]: 100%|█████████████████████████████████████████████████████| 216/216 [00:10<00:00, 21.59it/s, loss=0.151]\n",
      "100%|███████████████████████████████████████████████████████████████████████████████| 108/108 [00:00<00:00, 164.84it/s]\n"
     ]
    },
    {
     "name": "stdout",
     "output_type": "stream",
     "text": [
      "Test Accuracy: 67.12962962962963%\n"
     ]
    },
    {
     "name": "stderr",
     "output_type": "stream",
     "text": [
      "Epoch [15/60]: 100%|█████████████████████████████████████████████████████| 216/216 [00:10<00:00, 21.32it/s, loss=0.137]\n",
      "100%|███████████████████████████████████████████████████████████████████████████████| 108/108 [00:00<00:00, 164.11it/s]\n"
     ]
    },
    {
     "name": "stdout",
     "output_type": "stream",
     "text": [
      "Test Accuracy: 62.5%\n"
     ]
    },
    {
     "name": "stderr",
     "output_type": "stream",
     "text": [
      "Epoch [16/60]: 100%|██████████████████████████████████████████████████████| 216/216 [00:10<00:00, 21.31it/s, loss=0.14]\n",
      "100%|███████████████████████████████████████████████████████████████████████████████| 108/108 [00:00<00:00, 164.98it/s]\n"
     ]
    },
    {
     "name": "stdout",
     "output_type": "stream",
     "text": [
      "Test Accuracy: 63.657407407407405%\n"
     ]
    },
    {
     "name": "stderr",
     "output_type": "stream",
     "text": [
      "Epoch [17/60]: 100%|████████████████████████████████████████████████████| 216/216 [00:09<00:00, 21.75it/s, loss=0.0974]\n",
      "100%|███████████████████████████████████████████████████████████████████████████████| 108/108 [00:00<00:00, 173.07it/s]\n"
     ]
    },
    {
     "name": "stdout",
     "output_type": "stream",
     "text": [
      "Test Accuracy: 65.27777777777777%\n"
     ]
    },
    {
     "name": "stderr",
     "output_type": "stream",
     "text": [
      "Epoch [18/60]: 100%|████████████████████████████████████████████████████| 216/216 [00:09<00:00, 21.77it/s, loss=0.0826]\n",
      "100%|███████████████████████████████████████████████████████████████████████████████| 108/108 [00:00<00:00, 178.47it/s]\n"
     ]
    },
    {
     "name": "stdout",
     "output_type": "stream",
     "text": [
      "Test Accuracy: 67.12962962962963%\n"
     ]
    },
    {
     "name": "stderr",
     "output_type": "stream",
     "text": [
      "Epoch [19/60]: 100%|█████████████████████████████████████████████████████| 216/216 [00:10<00:00, 21.47it/s, loss=0.056]\n",
      "100%|███████████████████████████████████████████████████████████████████████████████| 108/108 [00:00<00:00, 166.91it/s]\n"
     ]
    },
    {
     "name": "stdout",
     "output_type": "stream",
     "text": [
      "Test Accuracy: 66.66666666666667%\n"
     ]
    },
    {
     "name": "stderr",
     "output_type": "stream",
     "text": [
      "Epoch [20/60]: 100%|█████████████████████████████████████████████████████| 216/216 [00:09<00:00, 21.70it/s, loss=0.102]\n",
      "100%|███████████████████████████████████████████████████████████████████████████████| 108/108 [00:00<00:00, 172.42it/s]\n"
     ]
    },
    {
     "name": "stdout",
     "output_type": "stream",
     "text": [
      "Test Accuracy: 63.19444444444444%\n"
     ]
    },
    {
     "name": "stderr",
     "output_type": "stream",
     "text": [
      "Epoch [21/60]: 100%|████████████████████████████████████████████████████| 216/216 [00:09<00:00, 21.86it/s, loss=0.0774]\n",
      "100%|███████████████████████████████████████████████████████████████████████████████| 108/108 [00:00<00:00, 174.90it/s]\n"
     ]
    },
    {
     "name": "stdout",
     "output_type": "stream",
     "text": [
      "Test Accuracy: 67.12962962962963%\n"
     ]
    },
    {
     "name": "stderr",
     "output_type": "stream",
     "text": [
      "Epoch [22/60]: 100%|█████████████████████████████████████████████████████| 216/216 [00:10<00:00, 21.58it/s, loss=0.045]\n",
      "100%|███████████████████████████████████████████████████████████████████████████████| 108/108 [00:00<00:00, 171.92it/s]\n"
     ]
    },
    {
     "name": "stdout",
     "output_type": "stream",
     "text": [
      "Test Accuracy: 67.5925925925926%\n"
     ]
    },
    {
     "name": "stderr",
     "output_type": "stream",
     "text": [
      "Epoch [23/60]: 100%|████████████████████████████████████████████████████| 216/216 [00:09<00:00, 21.77it/s, loss=0.0468]\n",
      "100%|███████████████████████████████████████████████████████████████████████████████| 108/108 [00:00<00:00, 171.58it/s]\n"
     ]
    },
    {
     "name": "stdout",
     "output_type": "stream",
     "text": [
      "Test Accuracy: 67.12962962962963%\n"
     ]
    },
    {
     "name": "stderr",
     "output_type": "stream",
     "text": [
      "Epoch [24/60]: 100%|████████████████████████████████████████████████████| 216/216 [00:09<00:00, 21.61it/s, loss=0.0736]\n",
      "100%|███████████████████████████████████████████████████████████████████████████████| 108/108 [00:00<00:00, 156.19it/s]\n"
     ]
    },
    {
     "name": "stdout",
     "output_type": "stream",
     "text": [
      "Test Accuracy: 63.888888888888886%\n"
     ]
    },
    {
     "name": "stderr",
     "output_type": "stream",
     "text": [
      "Epoch [25/60]: 100%|████████████████████████████████████████████████████| 216/216 [00:10<00:00, 21.06it/s, loss=0.0671]\n",
      "100%|███████████████████████████████████████████████████████████████████████████████| 108/108 [00:00<00:00, 169.56it/s]\n"
     ]
    },
    {
     "name": "stdout",
     "output_type": "stream",
     "text": [
      "Test Accuracy: 64.81481481481481%\n"
     ]
    },
    {
     "name": "stderr",
     "output_type": "stream",
     "text": [
      "Epoch [26/60]: 100%|████████████████████████████████████████████████████| 216/216 [00:09<00:00, 21.61it/s, loss=0.0722]\n",
      "100%|███████████████████████████████████████████████████████████████████████████████| 108/108 [00:00<00:00, 169.94it/s]\n"
     ]
    },
    {
     "name": "stdout",
     "output_type": "stream",
     "text": [
      "Test Accuracy: 66.66666666666667%\n"
     ]
    },
    {
     "name": "stderr",
     "output_type": "stream",
     "text": [
      "Epoch [27/60]: 100%|████████████████████████████████████████████████████| 216/216 [00:10<00:00, 21.29it/s, loss=0.0794]\n",
      "100%|███████████████████████████████████████████████████████████████████████████████| 108/108 [00:00<00:00, 167.63it/s]\n"
     ]
    },
    {
     "name": "stdout",
     "output_type": "stream",
     "text": [
      "Test Accuracy: 64.35185185185185%\n"
     ]
    },
    {
     "name": "stderr",
     "output_type": "stream",
     "text": [
      "Epoch [28/60]: 100%|████████████████████████████████████████████████████| 216/216 [00:10<00:00, 21.47it/s, loss=0.0785]\n",
      "100%|███████████████████████████████████████████████████████████████████████████████| 108/108 [00:00<00:00, 171.12it/s]\n"
     ]
    },
    {
     "name": "stdout",
     "output_type": "stream",
     "text": [
      "Test Accuracy: 67.5925925925926%\n"
     ]
    },
    {
     "name": "stderr",
     "output_type": "stream",
     "text": [
      "Epoch [29/60]: 100%|████████████████████████████████████████████████████| 216/216 [00:10<00:00, 21.17it/s, loss=0.0296]\n",
      "100%|███████████████████████████████████████████████████████████████████████████████| 108/108 [00:00<00:00, 167.65it/s]\n"
     ]
    },
    {
     "name": "stdout",
     "output_type": "stream",
     "text": [
      "Test Accuracy: 67.36111111111111%\n"
     ]
    },
    {
     "name": "stderr",
     "output_type": "stream",
     "text": [
      "Epoch [30/60]: 100%|████████████████████████████████████████████████████| 216/216 [00:10<00:00, 21.36it/s, loss=0.0212]\n",
      "100%|███████████████████████████████████████████████████████████████████████████████| 108/108 [00:00<00:00, 152.43it/s]\n"
     ]
    },
    {
     "name": "stdout",
     "output_type": "stream",
     "text": [
      "Test Accuracy: 66.43518518518519%\n"
     ]
    },
    {
     "name": "stderr",
     "output_type": "stream",
     "text": [
      "Epoch [31/60]: 100%|████████████████████████████████████████████████████| 216/216 [00:10<00:00, 21.17it/s, loss=0.0182]\n",
      "100%|███████████████████████████████████████████████████████████████████████████████| 108/108 [00:00<00:00, 166.58it/s]\n"
     ]
    },
    {
     "name": "stdout",
     "output_type": "stream",
     "text": [
      "Test Accuracy: 66.43518518518519%\n"
     ]
    },
    {
     "name": "stderr",
     "output_type": "stream",
     "text": [
      "Epoch [32/60]: 100%|█████████████████████████████████████████████████████| 216/216 [00:10<00:00, 21.60it/s, loss=0.097]\n",
      "100%|███████████████████████████████████████████████████████████████████████████████| 108/108 [00:00<00:00, 169.16it/s]\n"
     ]
    },
    {
     "name": "stdout",
     "output_type": "stream",
     "text": [
      "Test Accuracy: 67.12962962962963%\n"
     ]
    },
    {
     "name": "stderr",
     "output_type": "stream",
     "text": [
      "Epoch [33/60]: 100%|████████████████████████████████████████████████████| 216/216 [00:10<00:00, 21.27it/s, loss=0.0897]\n",
      "100%|███████████████████████████████████████████████████████████████████████████████| 108/108 [00:00<00:00, 160.93it/s]\n"
     ]
    },
    {
     "name": "stdout",
     "output_type": "stream",
     "text": [
      "Test Accuracy: 65.04629629629629%\n"
     ]
    },
    {
     "name": "stderr",
     "output_type": "stream",
     "text": [
      "Epoch [34/60]: 100%|████████████████████████████████████████████████████| 216/216 [00:10<00:00, 21.27it/s, loss=0.0397]\n",
      "100%|███████████████████████████████████████████████████████████████████████████████| 108/108 [00:00<00:00, 157.40it/s]\n"
     ]
    },
    {
     "name": "stdout",
     "output_type": "stream",
     "text": [
      "Test Accuracy: 67.12962962962963%\n"
     ]
    },
    {
     "name": "stderr",
     "output_type": "stream",
     "text": [
      "Epoch [35/60]: 100%|████████████████████████████████████████████████████| 216/216 [00:10<00:00, 20.98it/s, loss=0.0119]\n",
      "100%|███████████████████████████████████████████████████████████████████████████████| 108/108 [00:00<00:00, 166.72it/s]\n"
     ]
    },
    {
     "name": "stdout",
     "output_type": "stream",
     "text": [
      "Test Accuracy: 66.89814814814815%\n"
     ]
    },
    {
     "name": "stderr",
     "output_type": "stream",
     "text": [
      "Epoch [36/60]: 100%|████████████████████████████████████████████████████| 216/216 [00:10<00:00, 21.12it/s, loss=0.0116]\n",
      "100%|███████████████████████████████████████████████████████████████████████████████| 108/108 [00:00<00:00, 170.51it/s]\n"
     ]
    },
    {
     "name": "stdout",
     "output_type": "stream",
     "text": [
      "Test Accuracy: 67.12962962962963%\n"
     ]
    },
    {
     "name": "stderr",
     "output_type": "stream",
     "text": [
      "Epoch [37/60]: 100%|████████████████████████████████████████████████████| 216/216 [00:10<00:00, 21.24it/s, loss=0.0102]\n",
      "100%|███████████████████████████████████████████████████████████████████████████████| 108/108 [00:00<00:00, 164.52it/s]\n"
     ]
    },
    {
     "name": "stdout",
     "output_type": "stream",
     "text": [
      "Test Accuracy: 65.74074074074075%\n"
     ]
    },
    {
     "name": "stderr",
     "output_type": "stream",
     "text": [
      "Epoch [38/60]: 100%|████████████████████████████████████████████████████| 216/216 [00:10<00:00, 21.36it/s, loss=0.0494]\n",
      "100%|███████████████████████████████████████████████████████████████████████████████| 108/108 [00:00<00:00, 170.33it/s]\n"
     ]
    },
    {
     "name": "stdout",
     "output_type": "stream",
     "text": [
      "Test Accuracy: 62.96296296296296%\n"
     ]
    },
    {
     "name": "stderr",
     "output_type": "stream",
     "text": [
      "Epoch [39/60]: 100%|████████████████████████████████████████████████████| 216/216 [00:10<00:00, 20.74it/s, loss=0.0984]\n",
      "100%|███████████████████████████████████████████████████████████████████████████████| 108/108 [00:00<00:00, 162.60it/s]\n"
     ]
    },
    {
     "name": "stdout",
     "output_type": "stream",
     "text": [
      "Test Accuracy: 66.66666666666667%\n"
     ]
    },
    {
     "name": "stderr",
     "output_type": "stream",
     "text": [
      "Epoch [40/60]: 100%|████████████████████████████████████████████████████| 216/216 [00:09<00:00, 21.64it/s, loss=0.0516]\n",
      "100%|███████████████████████████████████████████████████████████████████████████████| 108/108 [00:00<00:00, 176.37it/s]\n"
     ]
    },
    {
     "name": "stdout",
     "output_type": "stream",
     "text": [
      "Test Accuracy: 65.97222222222223%\n"
     ]
    },
    {
     "name": "stderr",
     "output_type": "stream",
     "text": [
      "Epoch [41/60]: 100%|████████████████████████████████████████████████████| 216/216 [00:09<00:00, 21.67it/s, loss=0.0356]\n",
      "100%|███████████████████████████████████████████████████████████████████████████████| 108/108 [00:00<00:00, 154.82it/s]\n"
     ]
    },
    {
     "name": "stdout",
     "output_type": "stream",
     "text": [
      "Test Accuracy: 65.74074074074075%\n"
     ]
    },
    {
     "name": "stderr",
     "output_type": "stream",
     "text": [
      "Epoch [42/60]: 100%|████████████████████████████████████████████████████| 216/216 [00:10<00:00, 21.48it/s, loss=0.0127]\n",
      "100%|███████████████████████████████████████████████████████████████████████████████| 108/108 [00:00<00:00, 164.28it/s]\n"
     ]
    },
    {
     "name": "stdout",
     "output_type": "stream",
     "text": [
      "Test Accuracy: 67.12962962962963%\n"
     ]
    },
    {
     "name": "stderr",
     "output_type": "stream",
     "text": [
      "Epoch [43/60]: 100%|████████████████████████████████████████████████████| 216/216 [00:10<00:00, 21.44it/s, loss=0.0068]\n",
      "100%|███████████████████████████████████████████████████████████████████████████████| 108/108 [00:00<00:00, 171.40it/s]\n"
     ]
    },
    {
     "name": "stdout",
     "output_type": "stream",
     "text": [
      "Test Accuracy: 65.97222222222223%\n"
     ]
    },
    {
     "name": "stderr",
     "output_type": "stream",
     "text": [
      "Epoch [44/60]: 100%|███████████████████████████████████████████████████| 216/216 [00:10<00:00, 21.49it/s, loss=0.00699]\n",
      "100%|███████████████████████████████████████████████████████████████████████████████| 108/108 [00:00<00:00, 172.22it/s]\n"
     ]
    },
    {
     "name": "stdout",
     "output_type": "stream",
     "text": [
      "Test Accuracy: 66.43518518518519%\n"
     ]
    },
    {
     "name": "stderr",
     "output_type": "stream",
     "text": [
      "Epoch [45/60]: 100%|████████████████████████████████████████████████████| 216/216 [00:10<00:00, 21.35it/s, loss=0.0965]\n",
      "100%|███████████████████████████████████████████████████████████████████████████████| 108/108 [00:00<00:00, 167.27it/s]\n"
     ]
    },
    {
     "name": "stdout",
     "output_type": "stream",
     "text": [
      "Test Accuracy: 64.58333333333333%\n"
     ]
    },
    {
     "name": "stderr",
     "output_type": "stream",
     "text": [
      "Epoch [46/60]: 100%|████████████████████████████████████████████████████| 216/216 [00:10<00:00, 21.35it/s, loss=0.0536]\n",
      "100%|███████████████████████████████████████████████████████████████████████████████| 108/108 [00:00<00:00, 165.50it/s]\n"
     ]
    },
    {
     "name": "stdout",
     "output_type": "stream",
     "text": [
      "Test Accuracy: 67.82407407407408%\n"
     ]
    },
    {
     "name": "stderr",
     "output_type": "stream",
     "text": [
      "Epoch [47/60]: 100%|████████████████████████████████████████████████████| 216/216 [00:10<00:00, 21.29it/s, loss=0.0728]\n",
      "100%|███████████████████████████████████████████████████████████████████████████████| 108/108 [00:00<00:00, 166.94it/s]\n"
     ]
    },
    {
     "name": "stdout",
     "output_type": "stream",
     "text": [
      "Test Accuracy: 66.43518518518519%\n"
     ]
    },
    {
     "name": "stderr",
     "output_type": "stream",
     "text": [
      "Epoch [48/60]: 100%|████████████████████████████████████████████████████| 216/216 [00:10<00:00, 21.38it/s, loss=0.0421]\n",
      "100%|███████████████████████████████████████████████████████████████████████████████| 108/108 [00:00<00:00, 170.48it/s]\n"
     ]
    },
    {
     "name": "stdout",
     "output_type": "stream",
     "text": [
      "Test Accuracy: 65.27777777777777%\n"
     ]
    },
    {
     "name": "stderr",
     "output_type": "stream",
     "text": [
      "Epoch [49/60]: 100%|████████████████████████████████████████████████████| 216/216 [00:09<00:00, 21.61it/s, loss=0.0401]\n",
      "100%|███████████████████████████████████████████████████████████████████████████████| 108/108 [00:00<00:00, 168.46it/s]\n"
     ]
    },
    {
     "name": "stdout",
     "output_type": "stream",
     "text": [
      "Test Accuracy: 63.425925925925924%\n"
     ]
    },
    {
     "name": "stderr",
     "output_type": "stream",
     "text": [
      "Epoch [50/60]: 100%|████████████████████████████████████████████████████| 216/216 [00:10<00:00, 21.57it/s, loss=0.0471]\n",
      "100%|███████████████████████████████████████████████████████████████████████████████| 108/108 [00:00<00:00, 167.52it/s]\n"
     ]
    },
    {
     "name": "stdout",
     "output_type": "stream",
     "text": [
      "Test Accuracy: 63.888888888888886%\n"
     ]
    },
    {
     "name": "stderr",
     "output_type": "stream",
     "text": [
      "Epoch [51/60]: 100%|████████████████████████████████████████████████████| 216/216 [00:09<00:00, 21.69it/s, loss=0.0157]\n",
      "100%|███████████████████████████████████████████████████████████████████████████████| 108/108 [00:00<00:00, 169.46it/s]\n"
     ]
    },
    {
     "name": "stdout",
     "output_type": "stream",
     "text": [
      "Test Accuracy: 66.20370370370371%\n"
     ]
    },
    {
     "name": "stderr",
     "output_type": "stream",
     "text": [
      "Epoch [52/60]: 100%|███████████████████████████████████████████████████| 216/216 [00:09<00:00, 21.72it/s, loss=0.00552]\n",
      "100%|███████████████████████████████████████████████████████████████████████████████| 108/108 [00:00<00:00, 157.87it/s]\n"
     ]
    },
    {
     "name": "stdout",
     "output_type": "stream",
     "text": [
      "Test Accuracy: 70.13888888888889%\n"
     ]
    },
    {
     "name": "stderr",
     "output_type": "stream",
     "text": [
      "Epoch [53/60]: 100%|███████████████████████████████████████████████████| 216/216 [00:09<00:00, 21.70it/s, loss=0.00405]\n",
      "100%|███████████████████████████████████████████████████████████████████████████████| 108/108 [00:00<00:00, 169.70it/s]\n"
     ]
    },
    {
     "name": "stdout",
     "output_type": "stream",
     "text": [
      "Test Accuracy: 71.06481481481481%\n"
     ]
    },
    {
     "name": "stderr",
     "output_type": "stream",
     "text": [
      "Epoch [54/60]: 100%|███████████████████████████████████████████████████| 216/216 [00:09<00:00, 21.83it/s, loss=0.00347]\n",
      "100%|███████████████████████████████████████████████████████████████████████████████| 108/108 [00:00<00:00, 172.22it/s]\n"
     ]
    },
    {
     "name": "stdout",
     "output_type": "stream",
     "text": [
      "Test Accuracy: 67.5925925925926%\n"
     ]
    },
    {
     "name": "stderr",
     "output_type": "stream",
     "text": [
      "Epoch [55/60]: 100%|████████████████████████████████████████████████████| 216/216 [00:10<00:00, 21.36it/s, loss=0.0743]\n",
      "100%|███████████████████████████████████████████████████████████████████████████████| 108/108 [00:00<00:00, 164.70it/s]\n"
     ]
    },
    {
     "name": "stdout",
     "output_type": "stream",
     "text": [
      "Test Accuracy: 63.657407407407405%\n"
     ]
    },
    {
     "name": "stderr",
     "output_type": "stream",
     "text": [
      "Epoch [56/60]: 100%|█████████████████████████████████████████████████████| 216/216 [00:10<00:00, 21.51it/s, loss=0.039]\n",
      "100%|███████████████████████████████████████████████████████████████████████████████| 108/108 [00:00<00:00, 168.31it/s]\n"
     ]
    },
    {
     "name": "stdout",
     "output_type": "stream",
     "text": [
      "Test Accuracy: 70.37037037037037%\n"
     ]
    },
    {
     "name": "stderr",
     "output_type": "stream",
     "text": [
      "Epoch [57/60]: 100%|████████████████████████████████████████████████████| 216/216 [00:10<00:00, 21.48it/s, loss=0.0348]\n",
      "100%|███████████████████████████████████████████████████████████████████████████████| 108/108 [00:00<00:00, 171.57it/s]\n"
     ]
    },
    {
     "name": "stdout",
     "output_type": "stream",
     "text": [
      "Test Accuracy: 67.36111111111111%\n"
     ]
    },
    {
     "name": "stderr",
     "output_type": "stream",
     "text": [
      "Epoch [58/60]: 100%|█████████████████████████████████████████████████████| 216/216 [00:10<00:00, 21.31it/s, loss=0.021]\n",
      "100%|███████████████████████████████████████████████████████████████████████████████| 108/108 [00:00<00:00, 171.17it/s]\n"
     ]
    },
    {
     "name": "stdout",
     "output_type": "stream",
     "text": [
      "Test Accuracy: 66.43518518518519%\n"
     ]
    },
    {
     "name": "stderr",
     "output_type": "stream",
     "text": [
      "Epoch [59/60]: 100%|████████████████████████████████████████████████████| 216/216 [00:10<00:00, 21.53it/s, loss=0.0379]\n",
      "100%|███████████████████████████████████████████████████████████████████████████████| 108/108 [00:00<00:00, 171.95it/s]\n"
     ]
    },
    {
     "name": "stdout",
     "output_type": "stream",
     "text": [
      "Test Accuracy: 64.58333333333333%\n"
     ]
    },
    {
     "name": "stderr",
     "output_type": "stream",
     "text": [
      "Epoch [60/60]: 100%|████████████████████████████████████████████████████| 216/216 [00:10<00:00, 21.50it/s, loss=0.0314]\n",
      "100%|███████████████████████████████████████████████████████████████████████████████| 108/108 [00:00<00:00, 167.70it/s]"
     ]
    },
    {
     "name": "stdout",
     "output_type": "stream",
     "text": [
      "Test Accuracy: 67.82407407407408%\n",
      "Training finished!\n"
     ]
    },
    {
     "name": "stderr",
     "output_type": "stream",
     "text": [
      "\n"
     ]
    }
   ],
   "source": [
    "for epoch in range(num_epochs):\n",
    "    running_loss = 0.0\n",
    "    loop = tqdm(dataloader, total=len(dataloader), leave=True)\n",
    "    model.train()\n",
    "    \n",
    "    for images, labels in loop:\n",
    "        images = images.to(device)\n",
    "        labels = labels.to(device)\n",
    "\n",
    "        # Forward pass\n",
    "        outputs = model(images)\n",
    "        loss = criterion(outputs, labels)\n",
    "\n",
    "        # Backward and optimize\n",
    "        optimizer.zero_grad()\n",
    "        loss.backward()\n",
    "        optimizer.step()\n",
    "\n",
    "        running_loss += loss.item()\n",
    "        loop.set_description(f'Epoch [{epoch+1}/{num_epochs}]')\n",
    "        loop.set_postfix(loss=running_loss / (len(dataloader)))\n",
    "    test(model,test_loader)\n",
    "    torch.save(model.state_dict(), \"result/model_resnet_new_all_{}.pth\".format(epoch))\n",
    "    \n",
    "print('Training finished!')"
   ]
  },
  {
   "cell_type": "code",
   "execution_count": 117,
   "id": "0710253a",
   "metadata": {},
   "outputs": [
    {
     "name": "stderr",
     "output_type": "stream",
     "text": [
      "100%|█████████████████████████████████████████████████████████████████████████████████| 78/78 [00:00<00:00, 123.31it/s]"
     ]
    },
    {
     "name": "stdout",
     "output_type": "stream",
     "text": [
      "Test Accuracy: 80.76923076923077%\n"
     ]
    },
    {
     "name": "stderr",
     "output_type": "stream",
     "text": [
      "\n"
     ]
    },
    {
     "data": {
      "text/plain": [
       "80.76923076923077"
      ]
     },
     "execution_count": 117,
     "metadata": {},
     "output_type": "execute_result"
    }
   ],
   "source": []
  },
  {
   "cell_type": "markdown",
   "id": "8fcda942",
   "metadata": {},
   "source": [
    "## googlenet"
   ]
  },
  {
   "cell_type": "code",
   "execution_count": 25,
   "id": "8a3d10c1",
   "metadata": {},
   "outputs": [],
   "source": [
    "model = googlenet(pretrained=True)\n",
    "num_features = model.fc.in_features\n",
    "num_classes = 6\n",
    "model.fc = nn.Linear(num_features, num_classes) "
   ]
  },
  {
   "cell_type": "code",
   "execution_count": 26,
   "id": "a62696b9",
   "metadata": {},
   "outputs": [],
   "source": [
    "device = torch.device(\"cuda\" if torch.cuda.is_available() else \"cpu\")\n",
    "model = model.to(device)"
   ]
  },
  {
   "cell_type": "code",
   "execution_count": 27,
   "id": "cd3fe9ad",
   "metadata": {},
   "outputs": [],
   "source": [
    "criterion = nn.CrossEntropyLoss()\n",
    "\n",
    "optimizer = optim.Adam(model.parameters(), lr=0.001, betas=(0.9, 0.999), eps=1e-08, weight_decay=0, amsgrad=False)"
   ]
  },
  {
   "cell_type": "code",
   "execution_count": 28,
   "id": "917649ae",
   "metadata": {},
   "outputs": [
    {
     "name": "stderr",
     "output_type": "stream",
     "text": [
      "Epoch [1/60]: 100%|███████████████████████████████████████████████████████| 216/216 [00:15<00:00, 13.53it/s, loss=1.36]\n",
      "100%|████████████████████████████████████████████████████████████████████████████████| 108/108 [00:01<00:00, 79.60it/s]\n"
     ]
    },
    {
     "name": "stdout",
     "output_type": "stream",
     "text": [
      "Test Accuracy: 19.675925925925927%\n"
     ]
    },
    {
     "name": "stderr",
     "output_type": "stream",
     "text": [
      "Epoch [2/60]: 100%|███████████████████████████████████████████████████████| 216/216 [00:15<00:00, 13.51it/s, loss=1.05]\n",
      "100%|████████████████████████████████████████████████████████████████████████████████| 108/108 [00:01<00:00, 77.06it/s]\n"
     ]
    },
    {
     "name": "stdout",
     "output_type": "stream",
     "text": [
      "Test Accuracy: 46.99074074074074%\n"
     ]
    },
    {
     "name": "stderr",
     "output_type": "stream",
     "text": [
      "Epoch [3/60]: 100%|██████████████████████████████████████████████████████| 216/216 [00:15<00:00, 13.56it/s, loss=0.933]\n",
      "100%|████████████████████████████████████████████████████████████████████████████████| 108/108 [00:01<00:00, 77.92it/s]\n"
     ]
    },
    {
     "name": "stdout",
     "output_type": "stream",
     "text": [
      "Test Accuracy: 59.49074074074074%\n"
     ]
    },
    {
     "name": "stderr",
     "output_type": "stream",
     "text": [
      "Epoch [4/60]: 100%|██████████████████████████████████████████████████████| 216/216 [00:15<00:00, 13.65it/s, loss=0.831]\n",
      "100%|████████████████████████████████████████████████████████████████████████████████| 108/108 [00:01<00:00, 79.00it/s]\n"
     ]
    },
    {
     "name": "stdout",
     "output_type": "stream",
     "text": [
      "Test Accuracy: 60.648148148148145%\n"
     ]
    },
    {
     "name": "stderr",
     "output_type": "stream",
     "text": [
      "Epoch [5/60]: 100%|██████████████████████████████████████████████████████| 216/216 [00:15<00:00, 14.09it/s, loss=0.764]\n",
      "100%|████████████████████████████████████████████████████████████████████████████████| 108/108 [00:01<00:00, 79.95it/s]\n"
     ]
    },
    {
     "name": "stdout",
     "output_type": "stream",
     "text": [
      "Test Accuracy: 56.94444444444444%\n"
     ]
    },
    {
     "name": "stderr",
     "output_type": "stream",
     "text": [
      "Epoch [6/60]: 100%|██████████████████████████████████████████████████████| 216/216 [00:15<00:00, 13.85it/s, loss=0.683]\n",
      "100%|████████████████████████████████████████████████████████████████████████████████| 108/108 [00:01<00:00, 78.79it/s]\n"
     ]
    },
    {
     "name": "stdout",
     "output_type": "stream",
     "text": [
      "Test Accuracy: 50.0%\n"
     ]
    },
    {
     "name": "stderr",
     "output_type": "stream",
     "text": [
      "Epoch [7/60]: 100%|██████████████████████████████████████████████████████| 216/216 [00:15<00:00, 13.98it/s, loss=0.652]\n",
      "100%|████████████████████████████████████████████████████████████████████████████████| 108/108 [00:01<00:00, 80.61it/s]\n"
     ]
    },
    {
     "name": "stdout",
     "output_type": "stream",
     "text": [
      "Test Accuracy: 64.12037037037037%\n"
     ]
    },
    {
     "name": "stderr",
     "output_type": "stream",
     "text": [
      "Epoch [8/60]: 100%|██████████████████████████████████████████████████████| 216/216 [00:15<00:00, 13.89it/s, loss=0.559]\n",
      "100%|████████████████████████████████████████████████████████████████████████████████| 108/108 [00:01<00:00, 78.96it/s]\n"
     ]
    },
    {
     "name": "stdout",
     "output_type": "stream",
     "text": [
      "Test Accuracy: 64.35185185185185%\n"
     ]
    },
    {
     "name": "stderr",
     "output_type": "stream",
     "text": [
      "Epoch [9/60]: 100%|██████████████████████████████████████████████████████| 216/216 [00:15<00:00, 14.04it/s, loss=0.527]\n",
      "100%|████████████████████████████████████████████████████████████████████████████████| 108/108 [00:01<00:00, 78.31it/s]\n"
     ]
    },
    {
     "name": "stdout",
     "output_type": "stream",
     "text": [
      "Test Accuracy: 62.26851851851852%\n"
     ]
    },
    {
     "name": "stderr",
     "output_type": "stream",
     "text": [
      "Epoch [10/60]: 100%|█████████████████████████████████████████████████████| 216/216 [00:15<00:00, 13.99it/s, loss=0.477]\n",
      "100%|████████████████████████████████████████████████████████████████████████████████| 108/108 [00:01<00:00, 81.22it/s]\n"
     ]
    },
    {
     "name": "stdout",
     "output_type": "stream",
     "text": [
      "Test Accuracy: 60.416666666666664%\n"
     ]
    },
    {
     "name": "stderr",
     "output_type": "stream",
     "text": [
      "Epoch [11/60]: 100%|██████████████████████████████████████████████████████| 216/216 [00:15<00:00, 13.96it/s, loss=0.44]\n",
      "100%|████████████████████████████████████████████████████████████████████████████████| 108/108 [00:01<00:00, 77.87it/s]\n"
     ]
    },
    {
     "name": "stdout",
     "output_type": "stream",
     "text": [
      "Test Accuracy: 65.04629629629629%\n"
     ]
    },
    {
     "name": "stderr",
     "output_type": "stream",
     "text": [
      "Epoch [12/60]: 100%|█████████████████████████████████████████████████████| 216/216 [00:15<00:00, 13.99it/s, loss=0.335]\n",
      "100%|████████████████████████████████████████████████████████████████████████████████| 108/108 [00:01<00:00, 75.45it/s]\n"
     ]
    },
    {
     "name": "stdout",
     "output_type": "stream",
     "text": [
      "Test Accuracy: 59.49074074074074%\n"
     ]
    },
    {
     "name": "stderr",
     "output_type": "stream",
     "text": [
      "Epoch [13/60]: 100%|█████████████████████████████████████████████████████| 216/216 [00:15<00:00, 13.87it/s, loss=0.317]\n",
      "100%|████████████████████████████████████████████████████████████████████████████████| 108/108 [00:01<00:00, 80.23it/s]\n"
     ]
    },
    {
     "name": "stdout",
     "output_type": "stream",
     "text": [
      "Test Accuracy: 60.648148148148145%\n"
     ]
    },
    {
     "name": "stderr",
     "output_type": "stream",
     "text": [
      "Epoch [14/60]: 100%|█████████████████████████████████████████████████████| 216/216 [00:15<00:00, 13.93it/s, loss=0.282]\n",
      "100%|████████████████████████████████████████████████████████████████████████████████| 108/108 [00:01<00:00, 80.13it/s]\n"
     ]
    },
    {
     "name": "stdout",
     "output_type": "stream",
     "text": [
      "Test Accuracy: 63.888888888888886%\n"
     ]
    },
    {
     "name": "stderr",
     "output_type": "stream",
     "text": [
      "Epoch [15/60]: 100%|█████████████████████████████████████████████████████| 216/216 [00:15<00:00, 13.78it/s, loss=0.223]\n",
      "100%|████████████████████████████████████████████████████████████████████████████████| 108/108 [00:01<00:00, 79.84it/s]\n"
     ]
    },
    {
     "name": "stdout",
     "output_type": "stream",
     "text": [
      "Test Accuracy: 62.96296296296296%\n"
     ]
    },
    {
     "name": "stderr",
     "output_type": "stream",
     "text": [
      "Epoch [16/60]: 100%|█████████████████████████████████████████████████████| 216/216 [00:15<00:00, 14.00it/s, loss=0.239]\n",
      "100%|████████████████████████████████████████████████████████████████████████████████| 108/108 [00:01<00:00, 79.55it/s]\n"
     ]
    },
    {
     "name": "stdout",
     "output_type": "stream",
     "text": [
      "Test Accuracy: 64.58333333333333%\n"
     ]
    },
    {
     "name": "stderr",
     "output_type": "stream",
     "text": [
      "Epoch [17/60]: 100%|█████████████████████████████████████████████████████| 216/216 [00:15<00:00, 13.97it/s, loss=0.228]\n",
      "100%|████████████████████████████████████████████████████████████████████████████████| 108/108 [00:01<00:00, 80.01it/s]\n"
     ]
    },
    {
     "name": "stdout",
     "output_type": "stream",
     "text": [
      "Test Accuracy: 64.35185185185185%\n"
     ]
    },
    {
     "name": "stderr",
     "output_type": "stream",
     "text": [
      "Epoch [18/60]: 100%|█████████████████████████████████████████████████████| 216/216 [00:15<00:00, 14.04it/s, loss=0.176]\n",
      "100%|████████████████████████████████████████████████████████████████████████████████| 108/108 [00:01<00:00, 77.34it/s]\n"
     ]
    },
    {
     "name": "stdout",
     "output_type": "stream",
     "text": [
      "Test Accuracy: 66.66666666666667%\n"
     ]
    },
    {
     "name": "stderr",
     "output_type": "stream",
     "text": [
      "Epoch [19/60]: 100%|█████████████████████████████████████████████████████| 216/216 [00:15<00:00, 13.99it/s, loss=0.106]\n",
      "100%|████████████████████████████████████████████████████████████████████████████████| 108/108 [00:01<00:00, 79.77it/s]\n"
     ]
    },
    {
     "name": "stdout",
     "output_type": "stream",
     "text": [
      "Test Accuracy: 66.89814814814815%\n"
     ]
    },
    {
     "name": "stderr",
     "output_type": "stream",
     "text": [
      "Epoch [20/60]: 100%|█████████████████████████████████████████████████████| 216/216 [00:15<00:00, 13.90it/s, loss=0.163]\n",
      "100%|████████████████████████████████████████████████████████████████████████████████| 108/108 [00:01<00:00, 79.91it/s]\n"
     ]
    },
    {
     "name": "stdout",
     "output_type": "stream",
     "text": [
      "Test Accuracy: 64.81481481481481%\n"
     ]
    },
    {
     "name": "stderr",
     "output_type": "stream",
     "text": [
      "Epoch [21/60]: 100%|█████████████████████████████████████████████████████| 216/216 [00:15<00:00, 13.96it/s, loss=0.118]\n",
      "100%|████████████████████████████████████████████████████████████████████████████████| 108/108 [00:01<00:00, 81.67it/s]\n"
     ]
    },
    {
     "name": "stdout",
     "output_type": "stream",
     "text": [
      "Test Accuracy: 67.5925925925926%\n"
     ]
    },
    {
     "name": "stderr",
     "output_type": "stream",
     "text": [
      "Epoch [22/60]: 100%|█████████████████████████████████████████████████████| 216/216 [00:15<00:00, 14.06it/s, loss=0.136]\n",
      "100%|████████████████████████████████████████████████████████████████████████████████| 108/108 [00:01<00:00, 80.55it/s]\n"
     ]
    },
    {
     "name": "stdout",
     "output_type": "stream",
     "text": [
      "Test Accuracy: 68.28703703703704%\n"
     ]
    },
    {
     "name": "stderr",
     "output_type": "stream",
     "text": [
      "Epoch [23/60]: 100%|██████████████████████████████████████████████████████| 216/216 [00:15<00:00, 14.00it/s, loss=0.14]\n",
      "100%|████████████████████████████████████████████████████████████████████████████████| 108/108 [00:01<00:00, 80.48it/s]\n"
     ]
    },
    {
     "name": "stdout",
     "output_type": "stream",
     "text": [
      "Test Accuracy: 68.05555555555556%\n"
     ]
    },
    {
     "name": "stderr",
     "output_type": "stream",
     "text": [
      "Epoch [24/60]: 100%|█████████████████████████████████████████████████████| 216/216 [00:15<00:00, 13.86it/s, loss=0.116]\n",
      "100%|████████████████████████████████████████████████████████████████████████████████| 108/108 [00:01<00:00, 78.64it/s]\n"
     ]
    },
    {
     "name": "stdout",
     "output_type": "stream",
     "text": [
      "Test Accuracy: 60.18518518518518%\n"
     ]
    },
    {
     "name": "stderr",
     "output_type": "stream",
     "text": [
      "Epoch [25/60]: 100%|█████████████████████████████████████████████████████| 216/216 [00:15<00:00, 13.95it/s, loss=0.109]\n",
      "100%|████████████████████████████████████████████████████████████████████████████████| 108/108 [00:01<00:00, 75.78it/s]\n"
     ]
    },
    {
     "name": "stdout",
     "output_type": "stream",
     "text": [
      "Test Accuracy: 65.97222222222223%\n"
     ]
    },
    {
     "name": "stderr",
     "output_type": "stream",
     "text": [
      "Epoch [26/60]: 100%|█████████████████████████████████████████████████████| 216/216 [00:15<00:00, 13.96it/s, loss=0.113]\n",
      "100%|████████████████████████████████████████████████████████████████████████████████| 108/108 [00:01<00:00, 80.75it/s]\n"
     ]
    },
    {
     "name": "stdout",
     "output_type": "stream",
     "text": [
      "Test Accuracy: 62.03703703703704%\n"
     ]
    },
    {
     "name": "stderr",
     "output_type": "stream",
     "text": [
      "Epoch [27/60]: 100%|█████████████████████████████████████████████████████| 216/216 [00:15<00:00, 14.02it/s, loss=0.124]\n",
      "100%|████████████████████████████████████████████████████████████████████████████████| 108/108 [00:01<00:00, 80.44it/s]\n"
     ]
    },
    {
     "name": "stdout",
     "output_type": "stream",
     "text": [
      "Test Accuracy: 66.89814814814815%\n"
     ]
    },
    {
     "name": "stderr",
     "output_type": "stream",
     "text": [
      "Epoch [28/60]: 100%|████████████████████████████████████████████████████| 216/216 [00:15<00:00, 14.03it/s, loss=0.0766]\n",
      "100%|████████████████████████████████████████████████████████████████████████████████| 108/108 [00:01<00:00, 78.61it/s]\n"
     ]
    },
    {
     "name": "stdout",
     "output_type": "stream",
     "text": [
      "Test Accuracy: 70.83333333333333%\n"
     ]
    },
    {
     "name": "stderr",
     "output_type": "stream",
     "text": [
      "Epoch [29/60]: 100%|████████████████████████████████████████████████████| 216/216 [00:15<00:00, 13.93it/s, loss=0.0477]\n",
      "100%|████████████████████████████████████████████████████████████████████████████████| 108/108 [00:01<00:00, 78.75it/s]\n"
     ]
    },
    {
     "name": "stdout",
     "output_type": "stream",
     "text": [
      "Test Accuracy: 65.97222222222223%\n"
     ]
    },
    {
     "name": "stderr",
     "output_type": "stream",
     "text": [
      "Epoch [30/60]: 100%|█████████████████████████████████████████████████████| 216/216 [00:15<00:00, 13.97it/s, loss=0.104]\n",
      "100%|████████████████████████████████████████████████████████████████████████████████| 108/108 [00:01<00:00, 77.78it/s]\n"
     ]
    },
    {
     "name": "stdout",
     "output_type": "stream",
     "text": [
      "Test Accuracy: 62.96296296296296%\n"
     ]
    },
    {
     "name": "stderr",
     "output_type": "stream",
     "text": [
      "Epoch [31/60]: 100%|████████████████████████████████████████████████████| 216/216 [00:15<00:00, 13.92it/s, loss=0.0829]\n",
      "100%|████████████████████████████████████████████████████████████████████████████████| 108/108 [00:01<00:00, 80.38it/s]\n"
     ]
    },
    {
     "name": "stdout",
     "output_type": "stream",
     "text": [
      "Test Accuracy: 63.657407407407405%\n"
     ]
    },
    {
     "name": "stderr",
     "output_type": "stream",
     "text": [
      "Epoch [32/60]: 100%|████████████████████████████████████████████████████| 216/216 [00:15<00:00, 14.12it/s, loss=0.0984]\n",
      "100%|████████████████████████████████████████████████████████████████████████████████| 108/108 [00:01<00:00, 81.21it/s]\n"
     ]
    },
    {
     "name": "stdout",
     "output_type": "stream",
     "text": [
      "Test Accuracy: 64.81481481481481%\n"
     ]
    },
    {
     "name": "stderr",
     "output_type": "stream",
     "text": [
      "Epoch [33/60]: 100%|████████████████████████████████████████████████████| 216/216 [00:15<00:00, 13.97it/s, loss=0.0781]\n",
      "100%|████████████████████████████████████████████████████████████████████████████████| 108/108 [00:01<00:00, 80.21it/s]\n"
     ]
    },
    {
     "name": "stdout",
     "output_type": "stream",
     "text": [
      "Test Accuracy: 68.51851851851852%\n"
     ]
    },
    {
     "name": "stderr",
     "output_type": "stream",
     "text": [
      "Epoch [34/60]: 100%|████████████████████████████████████████████████████| 216/216 [00:15<00:00, 14.06it/s, loss=0.0865]\n",
      "100%|████████████████████████████████████████████████████████████████████████████████| 108/108 [00:01<00:00, 78.61it/s]\n"
     ]
    },
    {
     "name": "stdout",
     "output_type": "stream",
     "text": [
      "Test Accuracy: 60.648148148148145%\n"
     ]
    },
    {
     "name": "stderr",
     "output_type": "stream",
     "text": [
      "Epoch [35/60]: 100%|█████████████████████████████████████████████████████| 216/216 [00:15<00:00, 13.84it/s, loss=0.102]\n",
      "100%|████████████████████████████████████████████████████████████████████████████████| 108/108 [00:01<00:00, 78.69it/s]\n"
     ]
    },
    {
     "name": "stdout",
     "output_type": "stream",
     "text": [
      "Test Accuracy: 67.12962962962963%\n"
     ]
    },
    {
     "name": "stderr",
     "output_type": "stream",
     "text": [
      "Epoch [36/60]: 100%|████████████████████████████████████████████████████| 216/216 [00:15<00:00, 13.70it/s, loss=0.0456]\n",
      "100%|████████████████████████████████████████████████████████████████████████████████| 108/108 [00:01<00:00, 78.17it/s]\n"
     ]
    },
    {
     "name": "stdout",
     "output_type": "stream",
     "text": [
      "Test Accuracy: 66.89814814814815%\n"
     ]
    },
    {
     "name": "stderr",
     "output_type": "stream",
     "text": [
      "Epoch [37/60]: 100%|████████████████████████████████████████████████████| 216/216 [00:15<00:00, 14.07it/s, loss=0.0285]\n",
      "100%|████████████████████████████████████████████████████████████████████████████████| 108/108 [00:01<00:00, 80.35it/s]\n"
     ]
    },
    {
     "name": "stdout",
     "output_type": "stream",
     "text": [
      "Test Accuracy: 68.98148148148148%\n"
     ]
    },
    {
     "name": "stderr",
     "output_type": "stream",
     "text": [
      "Epoch [38/60]: 100%|████████████████████████████████████████████████████| 216/216 [00:15<00:00, 13.98it/s, loss=0.0603]\n",
      "100%|████████████████████████████████████████████████████████████████████████████████| 108/108 [00:01<00:00, 80.34it/s]\n"
     ]
    },
    {
     "name": "stdout",
     "output_type": "stream",
     "text": [
      "Test Accuracy: 62.73148148148148%\n"
     ]
    },
    {
     "name": "stderr",
     "output_type": "stream",
     "text": [
      "Epoch [39/60]: 100%|█████████████████████████████████████████████████████| 216/216 [00:15<00:00, 14.04it/s, loss=0.107]\n",
      "100%|████████████████████████████████████████████████████████████████████████████████| 108/108 [00:01<00:00, 79.42it/s]\n"
     ]
    },
    {
     "name": "stdout",
     "output_type": "stream",
     "text": [
      "Test Accuracy: 58.333333333333336%\n"
     ]
    },
    {
     "name": "stderr",
     "output_type": "stream",
     "text": [
      "Epoch [40/60]: 100%|████████████████████████████████████████████████████| 216/216 [00:15<00:00, 14.01it/s, loss=0.0851]\n",
      "100%|████████████████████████████████████████████████████████████████████████████████| 108/108 [00:01<00:00, 77.67it/s]\n"
     ]
    },
    {
     "name": "stdout",
     "output_type": "stream",
     "text": [
      "Test Accuracy: 69.21296296296296%\n"
     ]
    },
    {
     "name": "stderr",
     "output_type": "stream",
     "text": [
      "Epoch [41/60]: 100%|████████████████████████████████████████████████████| 216/216 [00:15<00:00, 13.97it/s, loss=0.0669]\n",
      "100%|████████████████████████████████████████████████████████████████████████████████| 108/108 [00:01<00:00, 76.90it/s]\n"
     ]
    },
    {
     "name": "stdout",
     "output_type": "stream",
     "text": [
      "Test Accuracy: 68.75%\n"
     ]
    },
    {
     "name": "stderr",
     "output_type": "stream",
     "text": [
      "Epoch [42/60]: 100%|████████████████████████████████████████████████████| 216/216 [00:15<00:00, 14.04it/s, loss=0.0389]\n",
      "100%|████████████████████████████████████████████████████████████████████████████████| 108/108 [00:01<00:00, 79.96it/s]\n"
     ]
    },
    {
     "name": "stdout",
     "output_type": "stream",
     "text": [
      "Test Accuracy: 66.20370370370371%\n"
     ]
    },
    {
     "name": "stderr",
     "output_type": "stream",
     "text": [
      "Epoch [43/60]: 100%|████████████████████████████████████████████████████| 216/216 [00:15<00:00, 13.96it/s, loss=0.0585]\n",
      "100%|████████████████████████████████████████████████████████████████████████████████| 108/108 [00:01<00:00, 77.97it/s]\n"
     ]
    },
    {
     "name": "stdout",
     "output_type": "stream",
     "text": [
      "Test Accuracy: 67.5925925925926%\n"
     ]
    },
    {
     "name": "stderr",
     "output_type": "stream",
     "text": [
      "Epoch [44/60]: 100%|████████████████████████████████████████████████████| 216/216 [00:15<00:00, 14.03it/s, loss=0.0627]\n",
      "100%|████████████████████████████████████████████████████████████████████████████████| 108/108 [00:01<00:00, 80.45it/s]\n"
     ]
    },
    {
     "name": "stdout",
     "output_type": "stream",
     "text": [
      "Test Accuracy: 66.20370370370371%\n"
     ]
    },
    {
     "name": "stderr",
     "output_type": "stream",
     "text": [
      "Epoch [45/60]: 100%|████████████████████████████████████████████████████| 216/216 [00:15<00:00, 13.95it/s, loss=0.0467]\n",
      "100%|████████████████████████████████████████████████████████████████████████████████| 108/108 [00:01<00:00, 79.20it/s]\n"
     ]
    },
    {
     "name": "stdout",
     "output_type": "stream",
     "text": [
      "Test Accuracy: 67.5925925925926%\n"
     ]
    },
    {
     "name": "stderr",
     "output_type": "stream",
     "text": [
      "Epoch [46/60]: 100%|████████████████████████████████████████████████████| 216/216 [00:15<00:00, 14.05it/s, loss=0.0868]\n",
      "100%|████████████████████████████████████████████████████████████████████████████████| 108/108 [00:01<00:00, 80.95it/s]\n"
     ]
    },
    {
     "name": "stdout",
     "output_type": "stream",
     "text": [
      "Test Accuracy: 64.58333333333333%\n"
     ]
    },
    {
     "name": "stderr",
     "output_type": "stream",
     "text": [
      "Epoch [47/60]: 100%|█████████████████████████████████████████████████████| 216/216 [00:15<00:00, 13.85it/s, loss=0.074]\n",
      "100%|████████████████████████████████████████████████████████████████████████████████| 108/108 [00:01<00:00, 78.18it/s]\n"
     ]
    },
    {
     "name": "stdout",
     "output_type": "stream",
     "text": [
      "Test Accuracy: 65.74074074074075%\n"
     ]
    },
    {
     "name": "stderr",
     "output_type": "stream",
     "text": [
      "Epoch [48/60]: 100%|████████████████████████████████████████████████████| 216/216 [00:15<00:00, 13.93it/s, loss=0.0389]\n",
      "100%|████████████████████████████████████████████████████████████████████████████████| 108/108 [00:01<00:00, 79.14it/s]\n"
     ]
    },
    {
     "name": "stdout",
     "output_type": "stream",
     "text": [
      "Test Accuracy: 68.98148148148148%\n"
     ]
    },
    {
     "name": "stderr",
     "output_type": "stream",
     "text": [
      "Epoch [49/60]: 100%|████████████████████████████████████████████████████| 216/216 [00:15<00:00, 13.97it/s, loss=0.0722]\n",
      "100%|████████████████████████████████████████████████████████████████████████████████| 108/108 [00:01<00:00, 77.78it/s]\n"
     ]
    },
    {
     "name": "stdout",
     "output_type": "stream",
     "text": [
      "Test Accuracy: 70.83333333333333%\n"
     ]
    },
    {
     "name": "stderr",
     "output_type": "stream",
     "text": [
      "Epoch [50/60]: 100%|█████████████████████████████████████████████████████| 216/216 [00:15<00:00, 13.83it/s, loss=0.051]\n",
      "100%|████████████████████████████████████████████████████████████████████████████████| 108/108 [00:01<00:00, 77.87it/s]\n"
     ]
    },
    {
     "name": "stdout",
     "output_type": "stream",
     "text": [
      "Test Accuracy: 63.657407407407405%\n"
     ]
    },
    {
     "name": "stderr",
     "output_type": "stream",
     "text": [
      "Epoch [51/60]: 100%|████████████████████████████████████████████████████| 216/216 [00:15<00:00, 13.87it/s, loss=0.0311]\n",
      "100%|████████████████████████████████████████████████████████████████████████████████| 108/108 [00:01<00:00, 78.12it/s]\n"
     ]
    },
    {
     "name": "stdout",
     "output_type": "stream",
     "text": [
      "Test Accuracy: 72.22222222222223%\n"
     ]
    },
    {
     "name": "stderr",
     "output_type": "stream",
     "text": [
      "Epoch [52/60]: 100%|████████████████████████████████████████████████████| 216/216 [00:15<00:00, 13.86it/s, loss=0.0248]\n",
      "100%|████████████████████████████████████████████████████████████████████████████████| 108/108 [00:01<00:00, 77.98it/s]\n"
     ]
    },
    {
     "name": "stdout",
     "output_type": "stream",
     "text": [
      "Test Accuracy: 66.66666666666667%\n"
     ]
    },
    {
     "name": "stderr",
     "output_type": "stream",
     "text": [
      "Epoch [53/60]: 100%|████████████████████████████████████████████████████| 216/216 [00:15<00:00, 14.11it/s, loss=0.0867]\n",
      "100%|████████████████████████████████████████████████████████████████████████████████| 108/108 [00:01<00:00, 79.73it/s]\n"
     ]
    },
    {
     "name": "stdout",
     "output_type": "stream",
     "text": [
      "Test Accuracy: 66.66666666666667%\n"
     ]
    },
    {
     "name": "stderr",
     "output_type": "stream",
     "text": [
      "Epoch [54/60]: 100%|████████████████████████████████████████████████████| 216/216 [00:15<00:00, 13.87it/s, loss=0.0872]\n",
      "100%|████████████████████████████████████████████████████████████████████████████████| 108/108 [00:01<00:00, 80.34it/s]\n"
     ]
    },
    {
     "name": "stdout",
     "output_type": "stream",
     "text": [
      "Test Accuracy: 71.29629629629629%\n"
     ]
    },
    {
     "name": "stderr",
     "output_type": "stream",
     "text": [
      "Epoch [55/60]: 100%|████████████████████████████████████████████████████| 216/216 [00:15<00:00, 14.00it/s, loss=0.0554]\n",
      "100%|████████████████████████████████████████████████████████████████████████████████| 108/108 [00:01<00:00, 80.46it/s]\n"
     ]
    },
    {
     "name": "stdout",
     "output_type": "stream",
     "text": [
      "Test Accuracy: 68.98148148148148%\n"
     ]
    },
    {
     "name": "stderr",
     "output_type": "stream",
     "text": [
      "Epoch [56/60]: 100%|████████████████████████████████████████████████████| 216/216 [00:15<00:00, 13.82it/s, loss=0.0581]\n",
      "100%|████████████████████████████████████████████████████████████████████████████████| 108/108 [00:01<00:00, 79.98it/s]\n"
     ]
    },
    {
     "name": "stdout",
     "output_type": "stream",
     "text": [
      "Test Accuracy: 68.51851851851852%\n"
     ]
    },
    {
     "name": "stderr",
     "output_type": "stream",
     "text": [
      "Epoch [57/60]: 100%|████████████████████████████████████████████████████| 216/216 [00:15<00:00, 13.85it/s, loss=0.0296]\n",
      "100%|████████████████████████████████████████████████████████████████████████████████| 108/108 [00:01<00:00, 74.38it/s]\n"
     ]
    },
    {
     "name": "stdout",
     "output_type": "stream",
     "text": [
      "Test Accuracy: 73.37962962962963%\n"
     ]
    },
    {
     "name": "stderr",
     "output_type": "stream",
     "text": [
      "Epoch [58/60]: 100%|████████████████████████████████████████████████████| 216/216 [00:15<00:00, 13.73it/s, loss=0.0221]\n",
      "100%|████████████████████████████████████████████████████████████████████████████████| 108/108 [00:01<00:00, 79.70it/s]\n"
     ]
    },
    {
     "name": "stdout",
     "output_type": "stream",
     "text": [
      "Test Accuracy: 70.37037037037037%\n"
     ]
    },
    {
     "name": "stderr",
     "output_type": "stream",
     "text": [
      "Epoch [59/60]: 100%|████████████████████████████████████████████████████| 216/216 [00:15<00:00, 13.99it/s, loss=0.0398]\n",
      "100%|████████████████████████████████████████████████████████████████████████████████| 108/108 [00:01<00:00, 81.58it/s]\n"
     ]
    },
    {
     "name": "stdout",
     "output_type": "stream",
     "text": [
      "Test Accuracy: 70.60185185185185%\n"
     ]
    },
    {
     "name": "stderr",
     "output_type": "stream",
     "text": [
      "Epoch [60/60]: 100%|████████████████████████████████████████████████████| 216/216 [00:15<00:00, 13.99it/s, loss=0.0577]\n",
      "100%|████████████████████████████████████████████████████████████████████████████████| 108/108 [00:01<00:00, 80.06it/s]"
     ]
    },
    {
     "name": "stdout",
     "output_type": "stream",
     "text": [
      "Test Accuracy: 66.89814814814815%\n",
      "Training finished!\n"
     ]
    },
    {
     "name": "stderr",
     "output_type": "stream",
     "text": [
      "\n"
     ]
    }
   ],
   "source": [
    "for epoch in range(num_epochs):\n",
    "    running_loss = 0.0\n",
    "    loop = tqdm(dataloader, total=len(dataloader), leave=True)\n",
    "    model.train()\n",
    "    \n",
    "    for images, labels in loop:\n",
    "        images = images.to(device)\n",
    "        labels = labels.to(device)\n",
    "\n",
    "        # Forward pass\n",
    "        outputs = model(images)                                                                          \n",
    "        loss = criterion(outputs, labels)\n",
    "\n",
    "        # Backward and optimize\n",
    "        optimizer.zero_grad()\n",
    "        loss.backward()\n",
    "        optimizer.step()\n",
    "\n",
    "        running_loss += loss.item()\n",
    "        loop.set_description(f'Epoch [{epoch+1}/{num_epochs}]')\n",
    "        loop.set_postfix(loss=running_loss / (len(dataloader)))\n",
    "    test(model,test_loader)\n",
    "    torch.save(model.state_dict(), \"result/model_googlenet_new_all_{}.pth\".format(epoch))\n",
    "    \n",
    "print('Training finished!')"
   ]
  },
  {
   "cell_type": "code",
   "execution_count": 29,
   "id": "2d41f915",
   "metadata": {},
   "outputs": [],
   "source": [
    "def preprocess_audio(path):\n",
    "    _, sr = librosa.load(path)\n",
    "    raw_audio = AudioSegment.from_file(path)\n",
    "    \n",
    "    samples = np.array(raw_audio.get_array_of_samples(), dtype='float32')\n",
    "    trimmed, _ = librosa.effects.trim(samples, top_db=25)\n",
    "    if (len(trimmed)>240000):\n",
    "        padded = trimmed[:240000]\n",
    "    else:\n",
    "        padded = np.pad(trimmed, (0, 240000-len(trimmed)), 'constant')\n",
    "    return padded, sr"
   ]
  },
  {
   "cell_type": "code",
   "execution_count": 30,
   "id": "9633cc2c",
   "metadata": {},
   "outputs": [],
   "source": [
    "zcr_list = []\n",
    "rms_list = []\n",
    "mfccs_list = []\n",
    "emotion_list = []\n",
    "\n",
    "FRAME_LENGTH = 2048\n",
    "HOP_LENGTH = 512\n",
    "\n",
    "for row in df.itertuples(index=False):\n",
    "    try: \n",
    "        y, sr = preprocess_audio(row.path)\n",
    "        zcr = librosa.feature.zero_crossing_rate(y, frame_length=FRAME_LENGTH, hop_length=HOP_LENGTH)\n",
    "        rms = librosa.feature.rms(y=y, frame_length=FRAME_LENGTH, hop_length=HOP_LENGTH)\n",
    "        mfccs = librosa.feature.mfcc(y=y, sr=sr, n_mfcc=13, hop_length=HOP_LENGTH)\n",
    "        zcr_list.append(zcr)\n",
    "        rms_list.append(rms)\n",
    "        mfccs_list.append(mfccs)\n",
    "\n",
    "        emotion_list.append(encode(row.emotion))\n",
    "    except:\n",
    "        print(f\"Failed for path: {row.path}\")"
   ]
  },
  {
   "cell_type": "code",
   "execution_count": 31,
   "id": "38e119c7",
   "metadata": {},
   "outputs": [],
   "source": [
    "X = np.concatenate((\n",
    "    np.swapaxes(zcr_list, 1, 2), \n",
    "    np.swapaxes(rms_list, 1, 2), \n",
    "    np.swapaxes(mfccs_list, 1, 2)), \n",
    "    axis=2\n",
    ")\n",
    "X = X.astype('float32')\n",
    "\n",
    "y = np.asarray(emotion_list)"
   ]
  },
  {
   "cell_type": "code",
   "execution_count": 32,
   "id": "8277cc57",
   "metadata": {},
   "outputs": [
    {
     "name": "stderr",
     "output_type": "stream",
     "text": [
      "100%|█████████████████████████████████████████████████████████████████████████████| 4331/4331 [00:06<00:00, 652.57it/s]\n"
     ]
    }
   ],
   "source": [
    "dataset = EmotionDataset(X,y)\n",
    "dataset_size = len(dataset)\n",
    "train_size = int(dataset_size * 0.8)\n",
    "validation_size = int(dataset_size * 0.1)\n",
    "test_size = dataset_size - train_size - validation_size\n",
    "\n",
    "train_dataset, validation_dataset, test_dataset = random_split(dataset, [train_size, validation_size, test_size])"
   ]
  },
  {
   "cell_type": "code",
   "execution_count": 33,
   "id": "16bb5890",
   "metadata": {},
   "outputs": [],
   "source": [
    "model = resnet18(pretrained=True)\n",
    "num_features = model.fc.in_features\n",
    "num_classes = 6\n",
    "model.fc = nn.Linear(num_features, num_classes) "
   ]
  },
  {
   "cell_type": "code",
   "execution_count": 34,
   "id": "56cfbaa9",
   "metadata": {},
   "outputs": [],
   "source": [
    "device = torch.device(\"cuda\" if torch.cuda.is_available() else \"cpu\")\n",
    "model = model.to(device)"
   ]
  },
  {
   "cell_type": "code",
   "execution_count": 35,
   "id": "9dd9bf34",
   "metadata": {},
   "outputs": [],
   "source": [
    "criterion = nn.CrossEntropyLoss()\n",
    "\n",
    "optimizer = optim.Adam(model.parameters(), lr=0.001, betas=(0.9, 0.999), eps=1e-08, weight_decay=0, amsgrad=False)"
   ]
  },
  {
   "cell_type": "code",
   "execution_count": 36,
   "id": "573273fb",
   "metadata": {},
   "outputs": [
    {
     "name": "stderr",
     "output_type": "stream",
     "text": [
      "Epoch [1/60]: 100%|████████████████████████████████████████████████████████| 216/216 [00:09<00:00, 22.00it/s, loss=1.4]\n",
      "100%|███████████████████████████████████████████████████████████████████████████████| 108/108 [00:00<00:00, 128.65it/s]\n"
     ]
    },
    {
     "name": "stdout",
     "output_type": "stream",
     "text": [
      "Test Accuracy: 28.47222222222222%\n"
     ]
    },
    {
     "name": "stderr",
     "output_type": "stream",
     "text": [
      "Epoch [2/60]: 100%|███████████████████████████████████████████████████████| 216/216 [00:09<00:00, 22.58it/s, loss=1.06]\n",
      "100%|███████████████████████████████████████████████████████████████████████████████| 108/108 [00:00<00:00, 135.45it/s]\n"
     ]
    },
    {
     "name": "stdout",
     "output_type": "stream",
     "text": [
      "Test Accuracy: 54.398148148148145%\n"
     ]
    },
    {
     "name": "stderr",
     "output_type": "stream",
     "text": [
      "Epoch [3/60]: 100%|██████████████████████████████████████████████████████| 216/216 [00:09<00:00, 22.52it/s, loss=0.877]\n",
      "100%|███████████████████████████████████████████████████████████████████████████████| 108/108 [00:00<00:00, 124.05it/s]\n"
     ]
    },
    {
     "name": "stdout",
     "output_type": "stream",
     "text": [
      "Test Accuracy: 46.75925925925926%\n"
     ]
    },
    {
     "name": "stderr",
     "output_type": "stream",
     "text": [
      "Epoch [4/60]: 100%|██████████████████████████████████████████████████████| 216/216 [00:09<00:00, 22.76it/s, loss=0.802]\n",
      "100%|███████████████████████████████████████████████████████████████████████████████| 108/108 [00:00<00:00, 117.92it/s]\n"
     ]
    },
    {
     "name": "stdout",
     "output_type": "stream",
     "text": [
      "Test Accuracy: 65.97222222222223%\n"
     ]
    },
    {
     "name": "stderr",
     "output_type": "stream",
     "text": [
      "Epoch [5/60]: 100%|██████████████████████████████████████████████████████| 216/216 [00:09<00:00, 22.62it/s, loss=0.746]\n",
      "100%|███████████████████████████████████████████████████████████████████████████████| 108/108 [00:00<00:00, 133.61it/s]\n"
     ]
    },
    {
     "name": "stdout",
     "output_type": "stream",
     "text": [
      "Test Accuracy: 60.648148148148145%\n"
     ]
    },
    {
     "name": "stderr",
     "output_type": "stream",
     "text": [
      "Epoch [6/60]: 100%|██████████████████████████████████████████████████████| 216/216 [00:09<00:00, 22.62it/s, loss=0.643]\n",
      "100%|███████████████████████████████████████████████████████████████████████████████| 108/108 [00:00<00:00, 123.04it/s]\n"
     ]
    },
    {
     "name": "stdout",
     "output_type": "stream",
     "text": [
      "Test Accuracy: 63.19444444444444%\n"
     ]
    },
    {
     "name": "stderr",
     "output_type": "stream",
     "text": [
      "Epoch [7/60]: 100%|██████████████████████████████████████████████████████| 216/216 [00:09<00:00, 22.51it/s, loss=0.605]\n",
      "100%|███████████████████████████████████████████████████████████████████████████████| 108/108 [00:00<00:00, 111.61it/s]\n"
     ]
    },
    {
     "name": "stdout",
     "output_type": "stream",
     "text": [
      "Test Accuracy: 61.342592592592595%\n"
     ]
    },
    {
     "name": "stderr",
     "output_type": "stream",
     "text": [
      "Epoch [8/60]: 100%|██████████████████████████████████████████████████████| 216/216 [00:09<00:00, 21.92it/s, loss=0.526]\n",
      "100%|███████████████████████████████████████████████████████████████████████████████| 108/108 [00:00<00:00, 134.71it/s]\n"
     ]
    },
    {
     "name": "stdout",
     "output_type": "stream",
     "text": [
      "Test Accuracy: 66.43518518518519%\n"
     ]
    },
    {
     "name": "stderr",
     "output_type": "stream",
     "text": [
      "Epoch [9/60]: 100%|██████████████████████████████████████████████████████| 216/216 [00:09<00:00, 22.40it/s, loss=0.451]\n",
      "100%|███████████████████████████████████████████████████████████████████████████████| 108/108 [00:00<00:00, 133.13it/s]\n"
     ]
    },
    {
     "name": "stdout",
     "output_type": "stream",
     "text": [
      "Test Accuracy: 62.96296296296296%\n"
     ]
    },
    {
     "name": "stderr",
     "output_type": "stream",
     "text": [
      "Epoch [10/60]: 100%|█████████████████████████████████████████████████████| 216/216 [00:09<00:00, 22.68it/s, loss=0.329]\n",
      "100%|███████████████████████████████████████████████████████████████████████████████| 108/108 [00:00<00:00, 125.33it/s]\n"
     ]
    },
    {
     "name": "stdout",
     "output_type": "stream",
     "text": [
      "Test Accuracy: 53.7037037037037%\n"
     ]
    },
    {
     "name": "stderr",
     "output_type": "stream",
     "text": [
      "Epoch [11/60]: 100%|█████████████████████████████████████████████████████| 216/216 [00:09<00:00, 22.31it/s, loss=0.329]\n",
      "100%|███████████████████████████████████████████████████████████████████████████████| 108/108 [00:00<00:00, 136.07it/s]\n"
     ]
    },
    {
     "name": "stdout",
     "output_type": "stream",
     "text": [
      "Test Accuracy: 60.648148148148145%\n"
     ]
    },
    {
     "name": "stderr",
     "output_type": "stream",
     "text": [
      "Epoch [12/60]: 100%|█████████████████████████████████████████████████████| 216/216 [00:09<00:00, 22.33it/s, loss=0.218]\n",
      "100%|███████████████████████████████████████████████████████████████████████████████| 108/108 [00:00<00:00, 118.90it/s]\n"
     ]
    },
    {
     "name": "stdout",
     "output_type": "stream",
     "text": [
      "Test Accuracy: 62.5%\n"
     ]
    },
    {
     "name": "stderr",
     "output_type": "stream",
     "text": [
      "Epoch [13/60]: 100%|█████████████████████████████████████████████████████| 216/216 [00:09<00:00, 22.50it/s, loss=0.201]\n",
      "100%|███████████████████████████████████████████████████████████████████████████████| 108/108 [00:00<00:00, 127.28it/s]\n"
     ]
    },
    {
     "name": "stdout",
     "output_type": "stream",
     "text": [
      "Test Accuracy: 66.43518518518519%\n"
     ]
    },
    {
     "name": "stderr",
     "output_type": "stream",
     "text": [
      "Epoch [14/60]: 100%|█████████████████████████████████████████████████████| 216/216 [00:09<00:00, 22.59it/s, loss=0.165]\n",
      "100%|███████████████████████████████████████████████████████████████████████████████| 108/108 [00:00<00:00, 136.19it/s]\n"
     ]
    },
    {
     "name": "stdout",
     "output_type": "stream",
     "text": [
      "Test Accuracy: 66.89814814814815%\n"
     ]
    },
    {
     "name": "stderr",
     "output_type": "stream",
     "text": [
      "Epoch [15/60]: 100%|██████████████████████████████████████████████████████| 216/216 [00:09<00:00, 22.51it/s, loss=0.11]\n",
      "100%|███████████████████████████████████████████████████████████████████████████████| 108/108 [00:00<00:00, 121.87it/s]\n"
     ]
    },
    {
     "name": "stdout",
     "output_type": "stream",
     "text": [
      "Test Accuracy: 68.51851851851852%\n"
     ]
    },
    {
     "name": "stderr",
     "output_type": "stream",
     "text": [
      "Epoch [16/60]: 100%|█████████████████████████████████████████████████████| 216/216 [00:09<00:00, 22.70it/s, loss=0.101]\n",
      "100%|███████████████████████████████████████████████████████████████████████████████| 108/108 [00:00<00:00, 113.92it/s]\n"
     ]
    },
    {
     "name": "stdout",
     "output_type": "stream",
     "text": [
      "Test Accuracy: 65.27777777777777%\n"
     ]
    },
    {
     "name": "stderr",
     "output_type": "stream",
     "text": [
      "Epoch [17/60]: 100%|█████████████████████████████████████████████████████| 216/216 [00:09<00:00, 22.56it/s, loss=0.107]\n",
      "100%|███████████████████████████████████████████████████████████████████████████████| 108/108 [00:00<00:00, 137.18it/s]\n"
     ]
    },
    {
     "name": "stdout",
     "output_type": "stream",
     "text": [
      "Test Accuracy: 67.12962962962963%\n"
     ]
    },
    {
     "name": "stderr",
     "output_type": "stream",
     "text": [
      "Epoch [18/60]: 100%|█████████████████████████████████████████████████████| 216/216 [00:09<00:00, 22.49it/s, loss=0.108]\n",
      "100%|███████████████████████████████████████████████████████████████████████████████| 108/108 [00:00<00:00, 126.57it/s]\n"
     ]
    },
    {
     "name": "stdout",
     "output_type": "stream",
     "text": [
      "Test Accuracy: 64.58333333333333%\n"
     ]
    },
    {
     "name": "stderr",
     "output_type": "stream",
     "text": [
      "Epoch [19/60]: 100%|█████████████████████████████████████████████████████| 216/216 [00:09<00:00, 21.94it/s, loss=0.121]\n",
      "100%|███████████████████████████████████████████████████████████████████████████████| 108/108 [00:00<00:00, 131.92it/s]\n"
     ]
    },
    {
     "name": "stdout",
     "output_type": "stream",
     "text": [
      "Test Accuracy: 61.111111111111114%\n"
     ]
    },
    {
     "name": "stderr",
     "output_type": "stream",
     "text": [
      "Epoch [20/60]: 100%|████████████████████████████████████████████████████| 216/216 [00:09<00:00, 22.42it/s, loss=0.0827]\n",
      "100%|███████████████████████████████████████████████████████████████████████████████| 108/108 [00:00<00:00, 125.82it/s]\n"
     ]
    },
    {
     "name": "stdout",
     "output_type": "stream",
     "text": [
      "Test Accuracy: 65.04629629629629%\n"
     ]
    },
    {
     "name": "stderr",
     "output_type": "stream",
     "text": [
      "Epoch [21/60]: 100%|████████████████████████████████████████████████████| 216/216 [00:09<00:00, 22.64it/s, loss=0.0672]\n",
      "100%|███████████████████████████████████████████████████████████████████████████████| 108/108 [00:00<00:00, 125.95it/s]\n"
     ]
    },
    {
     "name": "stdout",
     "output_type": "stream",
     "text": [
      "Test Accuracy: 67.12962962962963%\n"
     ]
    },
    {
     "name": "stderr",
     "output_type": "stream",
     "text": [
      "Epoch [22/60]: 100%|████████████████████████████████████████████████████| 216/216 [00:09<00:00, 22.57it/s, loss=0.0822]\n",
      "100%|███████████████████████████████████████████████████████████████████████████████| 108/108 [00:00<00:00, 133.71it/s]\n"
     ]
    },
    {
     "name": "stdout",
     "output_type": "stream",
     "text": [
      "Test Accuracy: 66.66666666666667%\n"
     ]
    },
    {
     "name": "stderr",
     "output_type": "stream",
     "text": [
      "Epoch [23/60]: 100%|████████████████████████████████████████████████████| 216/216 [00:09<00:00, 22.44it/s, loss=0.0614]\n",
      "100%|███████████████████████████████████████████████████████████████████████████████| 108/108 [00:00<00:00, 125.46it/s]\n"
     ]
    },
    {
     "name": "stdout",
     "output_type": "stream",
     "text": [
      "Test Accuracy: 67.12962962962963%\n"
     ]
    },
    {
     "name": "stderr",
     "output_type": "stream",
     "text": [
      "Epoch [24/60]: 100%|████████████████████████████████████████████████████| 216/216 [00:09<00:00, 22.48it/s, loss=0.0429]\n",
      "100%|███████████████████████████████████████████████████████████████████████████████| 108/108 [00:00<00:00, 121.36it/s]\n"
     ]
    },
    {
     "name": "stdout",
     "output_type": "stream",
     "text": [
      "Test Accuracy: 70.37037037037037%\n"
     ]
    },
    {
     "name": "stderr",
     "output_type": "stream",
     "text": [
      "Epoch [25/60]: 100%|████████████████████████████████████████████████████| 216/216 [00:09<00:00, 22.48it/s, loss=0.0135]\n",
      "100%|███████████████████████████████████████████████████████████████████████████████| 108/108 [00:00<00:00, 133.50it/s]\n"
     ]
    },
    {
     "name": "stdout",
     "output_type": "stream",
     "text": [
      "Test Accuracy: 66.43518518518519%\n"
     ]
    },
    {
     "name": "stderr",
     "output_type": "stream",
     "text": [
      "Epoch [26/60]: 100%|████████████████████████████████████████████████████| 216/216 [00:09<00:00, 22.35it/s, loss=0.0661]\n",
      "100%|███████████████████████████████████████████████████████████████████████████████| 108/108 [00:00<00:00, 127.67it/s]\n"
     ]
    },
    {
     "name": "stdout",
     "output_type": "stream",
     "text": [
      "Test Accuracy: 66.89814814814815%\n"
     ]
    },
    {
     "name": "stderr",
     "output_type": "stream",
     "text": [
      "Epoch [27/60]: 100%|████████████████████████████████████████████████████| 216/216 [00:09<00:00, 22.60it/s, loss=0.0606]\n",
      "100%|███████████████████████████████████████████████████████████████████████████████| 108/108 [00:00<00:00, 125.15it/s]\n"
     ]
    },
    {
     "name": "stdout",
     "output_type": "stream",
     "text": [
      "Test Accuracy: 68.28703703703704%\n"
     ]
    },
    {
     "name": "stderr",
     "output_type": "stream",
     "text": [
      "Epoch [28/60]: 100%|████████████████████████████████████████████████████| 216/216 [00:09<00:00, 22.43it/s, loss=0.0302]\n",
      "100%|███████████████████████████████████████████████████████████████████████████████| 108/108 [00:00<00:00, 126.16it/s]\n"
     ]
    },
    {
     "name": "stdout",
     "output_type": "stream",
     "text": [
      "Test Accuracy: 71.75925925925925%\n"
     ]
    },
    {
     "name": "stderr",
     "output_type": "stream",
     "text": [
      "Epoch [29/60]: 100%|████████████████████████████████████████████████████| 216/216 [00:09<00:00, 22.41it/s, loss=0.0375]\n",
      "100%|███████████████████████████████████████████████████████████████████████████████| 108/108 [00:00<00:00, 123.59it/s]\n"
     ]
    },
    {
     "name": "stdout",
     "output_type": "stream",
     "text": [
      "Test Accuracy: 68.28703703703704%\n"
     ]
    },
    {
     "name": "stderr",
     "output_type": "stream",
     "text": [
      "Epoch [30/60]: 100%|████████████████████████████████████████████████████| 216/216 [00:09<00:00, 22.45it/s, loss=0.0708]\n",
      "100%|███████████████████████████████████████████████████████████████████████████████| 108/108 [00:00<00:00, 134.12it/s]\n"
     ]
    },
    {
     "name": "stdout",
     "output_type": "stream",
     "text": [
      "Test Accuracy: 67.82407407407408%\n"
     ]
    },
    {
     "name": "stderr",
     "output_type": "stream",
     "text": [
      "Epoch [31/60]: 100%|████████████████████████████████████████████████████| 216/216 [00:09<00:00, 22.47it/s, loss=0.0444]\n",
      "100%|███████████████████████████████████████████████████████████████████████████████| 108/108 [00:00<00:00, 125.46it/s]\n"
     ]
    },
    {
     "name": "stdout",
     "output_type": "stream",
     "text": [
      "Test Accuracy: 69.44444444444444%\n"
     ]
    },
    {
     "name": "stderr",
     "output_type": "stream",
     "text": [
      "Epoch [32/60]: 100%|████████████████████████████████████████████████████| 216/216 [00:09<00:00, 22.63it/s, loss=0.0556]\n",
      "100%|███████████████████████████████████████████████████████████████████████████████| 108/108 [00:00<00:00, 115.62it/s]\n"
     ]
    },
    {
     "name": "stdout",
     "output_type": "stream",
     "text": [
      "Test Accuracy: 62.73148148148148%\n"
     ]
    },
    {
     "name": "stderr",
     "output_type": "stream",
     "text": [
      "Epoch [33/60]: 100%|█████████████████████████████████████████████████████| 216/216 [00:09<00:00, 22.59it/s, loss=0.116]\n",
      "100%|███████████████████████████████████████████████████████████████████████████████| 108/108 [00:00<00:00, 133.26it/s]\n"
     ]
    },
    {
     "name": "stdout",
     "output_type": "stream",
     "text": [
      "Test Accuracy: 67.36111111111111%\n"
     ]
    },
    {
     "name": "stderr",
     "output_type": "stream",
     "text": [
      "Epoch [34/60]: 100%|████████████████████████████████████████████████████| 216/216 [00:09<00:00, 22.52it/s, loss=0.0363]\n",
      "100%|███████████████████████████████████████████████████████████████████████████████| 108/108 [00:00<00:00, 123.72it/s]\n"
     ]
    },
    {
     "name": "stdout",
     "output_type": "stream",
     "text": [
      "Test Accuracy: 67.82407407407408%\n"
     ]
    },
    {
     "name": "stderr",
     "output_type": "stream",
     "text": [
      "Epoch [35/60]: 100%|████████████████████████████████████████████████████| 216/216 [00:09<00:00, 22.52it/s, loss=0.0266]\n",
      "100%|███████████████████████████████████████████████████████████████████████████████| 108/108 [00:00<00:00, 128.63it/s]\n"
     ]
    },
    {
     "name": "stdout",
     "output_type": "stream",
     "text": [
      "Test Accuracy: 65.04629629629629%\n"
     ]
    },
    {
     "name": "stderr",
     "output_type": "stream",
     "text": [
      "Epoch [36/60]: 100%|████████████████████████████████████████████████████| 216/216 [00:09<00:00, 22.06it/s, loss=0.0419]\n",
      "100%|███████████████████████████████████████████████████████████████████████████████| 108/108 [00:00<00:00, 115.63it/s]\n"
     ]
    },
    {
     "name": "stdout",
     "output_type": "stream",
     "text": [
      "Test Accuracy: 67.12962962962963%\n"
     ]
    },
    {
     "name": "stderr",
     "output_type": "stream",
     "text": [
      "Epoch [37/60]: 100%|████████████████████████████████████████████████████| 216/216 [00:09<00:00, 22.31it/s, loss=0.0365]\n",
      "100%|███████████████████████████████████████████████████████████████████████████████| 108/108 [00:00<00:00, 120.81it/s]\n"
     ]
    },
    {
     "name": "stdout",
     "output_type": "stream",
     "text": [
      "Test Accuracy: 69.44444444444444%\n"
     ]
    },
    {
     "name": "stderr",
     "output_type": "stream",
     "text": [
      "Epoch [38/60]: 100%|████████████████████████████████████████████████████| 216/216 [00:09<00:00, 22.49it/s, loss=0.0575]\n",
      "100%|███████████████████████████████████████████████████████████████████████████████| 108/108 [00:00<00:00, 123.09it/s]\n"
     ]
    },
    {
     "name": "stdout",
     "output_type": "stream",
     "text": [
      "Test Accuracy: 68.28703703703704%\n"
     ]
    },
    {
     "name": "stderr",
     "output_type": "stream",
     "text": [
      "Epoch [39/60]: 100%|████████████████████████████████████████████████████| 216/216 [00:09<00:00, 22.53it/s, loss=0.0344]\n",
      "100%|███████████████████████████████████████████████████████████████████████████████| 108/108 [00:00<00:00, 125.97it/s]\n"
     ]
    },
    {
     "name": "stdout",
     "output_type": "stream",
     "text": [
      "Test Accuracy: 69.44444444444444%\n"
     ]
    },
    {
     "name": "stderr",
     "output_type": "stream",
     "text": [
      "Epoch [40/60]: 100%|████████████████████████████████████████████████████| 216/216 [00:09<00:00, 22.74it/s, loss=0.0438]\n",
      "100%|███████████████████████████████████████████████████████████████████████████████| 108/108 [00:00<00:00, 127.68it/s]\n"
     ]
    },
    {
     "name": "stdout",
     "output_type": "stream",
     "text": [
      "Test Accuracy: 66.66666666666667%\n"
     ]
    },
    {
     "name": "stderr",
     "output_type": "stream",
     "text": [
      "Epoch [41/60]: 100%|████████████████████████████████████████████████████| 216/216 [00:09<00:00, 22.46it/s, loss=0.0492]\n",
      "100%|███████████████████████████████████████████████████████████████████████████████| 108/108 [00:00<00:00, 136.90it/s]\n"
     ]
    },
    {
     "name": "stdout",
     "output_type": "stream",
     "text": [
      "Test Accuracy: 67.82407407407408%\n"
     ]
    },
    {
     "name": "stderr",
     "output_type": "stream",
     "text": [
      "Epoch [42/60]: 100%|████████████████████████████████████████████████████| 216/216 [00:09<00:00, 22.50it/s, loss=0.0696]\n",
      "100%|███████████████████████████████████████████████████████████████████████████████| 108/108 [00:00<00:00, 127.14it/s]\n"
     ]
    },
    {
     "name": "stdout",
     "output_type": "stream",
     "text": [
      "Test Accuracy: 68.51851851851852%\n"
     ]
    },
    {
     "name": "stderr",
     "output_type": "stream",
     "text": [
      "Epoch [43/60]: 100%|████████████████████████████████████████████████████| 216/216 [00:09<00:00, 22.49it/s, loss=0.0202]\n",
      "100%|███████████████████████████████████████████████████████████████████████████████| 108/108 [00:00<00:00, 137.57it/s]\n"
     ]
    },
    {
     "name": "stdout",
     "output_type": "stream",
     "text": [
      "Test Accuracy: 69.9074074074074%\n"
     ]
    },
    {
     "name": "stderr",
     "output_type": "stream",
     "text": [
      "Epoch [44/60]: 100%|███████████████████████████████████████████████████| 216/216 [00:09<00:00, 22.48it/s, loss=0.00976]\n",
      "100%|███████████████████████████████████████████████████████████████████████████████| 108/108 [00:00<00:00, 123.84it/s]\n"
     ]
    },
    {
     "name": "stdout",
     "output_type": "stream",
     "text": [
      "Test Accuracy: 71.75925925925925%\n"
     ]
    },
    {
     "name": "stderr",
     "output_type": "stream",
     "text": [
      "Epoch [45/60]: 100%|████████████████████████████████████████████████████| 216/216 [00:09<00:00, 22.70it/s, loss=0.0236]\n",
      "100%|███████████████████████████████████████████████████████████████████████████████| 108/108 [00:00<00:00, 123.37it/s]\n"
     ]
    },
    {
     "name": "stdout",
     "output_type": "stream",
     "text": [
      "Test Accuracy: 66.89814814814815%\n"
     ]
    },
    {
     "name": "stderr",
     "output_type": "stream",
     "text": [
      "Epoch [46/60]: 100%|██████████████████████████████████████████████████████| 216/216 [00:09<00:00, 22.57it/s, loss=0.03]\n",
      "100%|███████████████████████████████████████████████████████████████████████████████| 108/108 [00:00<00:00, 125.07it/s]\n"
     ]
    },
    {
     "name": "stdout",
     "output_type": "stream",
     "text": [
      "Test Accuracy: 66.66666666666667%\n"
     ]
    },
    {
     "name": "stderr",
     "output_type": "stream",
     "text": [
      "Epoch [47/60]: 100%|████████████████████████████████████████████████████| 216/216 [00:09<00:00, 22.40it/s, loss=0.0286]\n",
      "100%|███████████████████████████████████████████████████████████████████████████████| 108/108 [00:00<00:00, 126.39it/s]\n"
     ]
    },
    {
     "name": "stdout",
     "output_type": "stream",
     "text": [
      "Test Accuracy: 66.20370370370371%\n"
     ]
    },
    {
     "name": "stderr",
     "output_type": "stream",
     "text": [
      "Epoch [48/60]: 100%|████████████████████████████████████████████████████| 216/216 [00:09<00:00, 22.43it/s, loss=0.0429]\n",
      "100%|███████████████████████████████████████████████████████████████████████████████| 108/108 [00:00<00:00, 134.49it/s]\n"
     ]
    },
    {
     "name": "stdout",
     "output_type": "stream",
     "text": [
      "Test Accuracy: 68.51851851851852%\n"
     ]
    },
    {
     "name": "stderr",
     "output_type": "stream",
     "text": [
      "Epoch [49/60]: 100%|████████████████████████████████████████████████████| 216/216 [00:09<00:00, 22.58it/s, loss=0.0362]\n",
      "100%|███████████████████████████████████████████████████████████████████████████████| 108/108 [00:00<00:00, 130.01it/s]\n"
     ]
    },
    {
     "name": "stdout",
     "output_type": "stream",
     "text": [
      "Test Accuracy: 70.60185185185185%\n"
     ]
    },
    {
     "name": "stderr",
     "output_type": "stream",
     "text": [
      "Epoch [50/60]: 100%|████████████████████████████████████████████████████| 216/216 [00:09<00:00, 22.51it/s, loss=0.0181]\n",
      "100%|███████████████████████████████████████████████████████████████████████████████| 108/108 [00:00<00:00, 123.05it/s]\n"
     ]
    },
    {
     "name": "stdout",
     "output_type": "stream",
     "text": [
      "Test Accuracy: 68.51851851851852%\n"
     ]
    },
    {
     "name": "stderr",
     "output_type": "stream",
     "text": [
      "Epoch [51/60]: 100%|████████████████████████████████████████████████████| 216/216 [00:09<00:00, 22.59it/s, loss=0.0187]\n",
      "100%|███████████████████████████████████████████████████████████████████████████████| 108/108 [00:00<00:00, 130.70it/s]\n"
     ]
    },
    {
     "name": "stdout",
     "output_type": "stream",
     "text": [
      "Test Accuracy: 66.89814814814815%\n"
     ]
    },
    {
     "name": "stderr",
     "output_type": "stream",
     "text": [
      "Epoch [52/60]: 100%|██████████████████████████████████████████████████████| 216/216 [00:09<00:00, 22.55it/s, loss=0.04]\n",
      "100%|███████████████████████████████████████████████████████████████████████████████| 108/108 [00:00<00:00, 127.07it/s]\n"
     ]
    },
    {
     "name": "stdout",
     "output_type": "stream",
     "text": [
      "Test Accuracy: 67.5925925925926%\n"
     ]
    },
    {
     "name": "stderr",
     "output_type": "stream",
     "text": [
      "Epoch [53/60]: 100%|████████████████████████████████████████████████████| 216/216 [00:09<00:00, 22.49it/s, loss=0.0368]\n",
      "100%|███████████████████████████████████████████████████████████████████████████████| 108/108 [00:00<00:00, 135.52it/s]\n"
     ]
    },
    {
     "name": "stdout",
     "output_type": "stream",
     "text": [
      "Test Accuracy: 69.21296296296296%\n"
     ]
    },
    {
     "name": "stderr",
     "output_type": "stream",
     "text": [
      "Epoch [54/60]: 100%|████████████████████████████████████████████████████| 216/216 [00:09<00:00, 22.51it/s, loss=0.0355]\n",
      "100%|███████████████████████████████████████████████████████████████████████████████| 108/108 [00:00<00:00, 125.03it/s]\n"
     ]
    },
    {
     "name": "stdout",
     "output_type": "stream",
     "text": [
      "Test Accuracy: 68.75%\n"
     ]
    },
    {
     "name": "stderr",
     "output_type": "stream",
     "text": [
      "Epoch [55/60]: 100%|█████████████████████████████████████████████████████| 216/216 [00:09<00:00, 22.65it/s, loss=0.026]\n",
      "100%|███████████████████████████████████████████████████████████████████████████████| 108/108 [00:00<00:00, 128.07it/s]\n"
     ]
    },
    {
     "name": "stdout",
     "output_type": "stream",
     "text": [
      "Test Accuracy: 68.28703703703704%\n"
     ]
    },
    {
     "name": "stderr",
     "output_type": "stream",
     "text": [
      "Epoch [56/60]: 100%|████████████████████████████████████████████████████| 216/216 [00:09<00:00, 22.60it/s, loss=0.0261]\n",
      "100%|███████████████████████████████████████████████████████████████████████████████| 108/108 [00:00<00:00, 133.53it/s]\n"
     ]
    },
    {
     "name": "stdout",
     "output_type": "stream",
     "text": [
      "Test Accuracy: 67.12962962962963%\n"
     ]
    },
    {
     "name": "stderr",
     "output_type": "stream",
     "text": [
      "Epoch [57/60]: 100%|████████████████████████████████████████████████████| 216/216 [00:09<00:00, 22.43it/s, loss=0.0208]\n",
      "100%|███████████████████████████████████████████████████████████████████████████████| 108/108 [00:00<00:00, 129.20it/s]\n"
     ]
    },
    {
     "name": "stdout",
     "output_type": "stream",
     "text": [
      "Test Accuracy: 70.13888888888889%\n"
     ]
    },
    {
     "name": "stderr",
     "output_type": "stream",
     "text": [
      "Epoch [58/60]: 100%|████████████████████████████████████████████████████| 216/216 [00:09<00:00, 22.41it/s, loss=0.0173]\n",
      "100%|███████████████████████████████████████████████████████████████████████████████| 108/108 [00:00<00:00, 135.58it/s]\n"
     ]
    },
    {
     "name": "stdout",
     "output_type": "stream",
     "text": [
      "Test Accuracy: 67.5925925925926%\n"
     ]
    },
    {
     "name": "stderr",
     "output_type": "stream",
     "text": [
      "Epoch [59/60]: 100%|█████████████████████████████████████████████████████| 216/216 [00:09<00:00, 22.52it/s, loss=0.033]\n",
      "100%|███████████████████████████████████████████████████████████████████████████████| 108/108 [00:00<00:00, 124.95it/s]\n"
     ]
    },
    {
     "name": "stdout",
     "output_type": "stream",
     "text": [
      "Test Accuracy: 67.82407407407408%\n"
     ]
    },
    {
     "name": "stderr",
     "output_type": "stream",
     "text": [
      "Epoch [60/60]: 100%|████████████████████████████████████████████████████| 216/216 [00:09<00:00, 22.30it/s, loss=0.0388]\n",
      "100%|███████████████████████████████████████████████████████████████████████████████| 108/108 [00:00<00:00, 125.80it/s]"
     ]
    },
    {
     "name": "stdout",
     "output_type": "stream",
     "text": [
      "Test Accuracy: 65.50925925925925%\n",
      "Training finished!\n"
     ]
    },
    {
     "name": "stderr",
     "output_type": "stream",
     "text": [
      "\n"
     ]
    }
   ],
   "source": [
    "for epoch in range(num_epochs):\n",
    "    running_loss = 0.0\n",
    "    loop = tqdm(dataloader, total=len(dataloader), leave=True)\n",
    "    model.train()\n",
    "    \n",
    "    for images, labels in loop:\n",
    "        images = images.to(device)\n",
    "        labels = labels.to(device)\n",
    "\n",
    "        # Forward pass\n",
    "        outputs = model(images)                                                                          \n",
    "        loss = criterion(outputs, labels)\n",
    "\n",
    "        # Backward and optimize\n",
    "        optimizer.zero_grad()\n",
    "        loss.backward()\n",
    "        optimizer.step()\n",
    "\n",
    "        running_loss += loss.item()\n",
    "        loop.set_description(f'Epoch [{epoch+1}/{num_epochs}]')\n",
    "        loop.set_postfix(loss=running_loss / (len(dataloader)))\n",
    "    test(model,test_loader)\n",
    "    torch.save(model.state_dict(), \"result/model_resnet_240000_all_{}.pth\".format(epoch))\n",
    "    \n",
    "print('Training finished!')"
   ]
  },
  {
   "cell_type": "code",
   "execution_count": null,
   "id": "eb9d4454",
   "metadata": {},
   "outputs": [],
   "source": []
  },
  {
   "cell_type": "code",
   "execution_count": 37,
   "id": "a9f35d87",
   "metadata": {},
   "outputs": [],
   "source": [
    "model = googlenet(pretrained=True)\n",
    "num_features = model.fc.in_features\n",
    "num_classes = 6\n",
    "model.fc = nn.Linear(num_features, num_classes) "
   ]
  },
  {
   "cell_type": "code",
   "execution_count": 38,
   "id": "be027fa0",
   "metadata": {},
   "outputs": [],
   "source": [
    "device = torch.device(\"cuda\" if torch.cuda.is_available() else \"cpu\")\n",
    "model = model.to(device)"
   ]
  },
  {
   "cell_type": "code",
   "execution_count": 39,
   "id": "faf1ca11",
   "metadata": {},
   "outputs": [],
   "source": [
    "criterion = nn.CrossEntropyLoss()\n",
    "\n",
    "optimizer = optim.Adam(model.parameters(), lr=0.001, betas=(0.9, 0.999), eps=1e-08, weight_decay=0, amsgrad=False)"
   ]
  },
  {
   "cell_type": "code",
   "execution_count": 40,
   "id": "8665f345",
   "metadata": {},
   "outputs": [
    {
     "name": "stderr",
     "output_type": "stream",
     "text": [
      "Epoch [1/60]: 100%|███████████████████████████████████████████████████████| 216/216 [00:19<00:00, 11.12it/s, loss=1.35]\n",
      "100%|████████████████████████████████████████████████████████████████████████████████| 108/108 [00:01<00:00, 54.02it/s]\n"
     ]
    },
    {
     "name": "stdout",
     "output_type": "stream",
     "text": [
      "Test Accuracy: 46.75925925925926%\n"
     ]
    },
    {
     "name": "stderr",
     "output_type": "stream",
     "text": [
      "Epoch [2/60]: 100%|███████████████████████████████████████████████████████| 216/216 [00:19<00:00, 10.98it/s, loss=1.06]\n",
      "100%|████████████████████████████████████████████████████████████████████████████████| 108/108 [00:01<00:00, 54.32it/s]\n"
     ]
    },
    {
     "name": "stdout",
     "output_type": "stream",
     "text": [
      "Test Accuracy: 50.925925925925924%\n"
     ]
    },
    {
     "name": "stderr",
     "output_type": "stream",
     "text": [
      "Epoch [3/60]: 100%|██████████████████████████████████████████████████████| 216/216 [00:19<00:00, 11.01it/s, loss=0.903]\n",
      "100%|████████████████████████████████████████████████████████████████████████████████| 108/108 [00:01<00:00, 56.93it/s]\n"
     ]
    },
    {
     "name": "stdout",
     "output_type": "stream",
     "text": [
      "Test Accuracy: 43.75%\n"
     ]
    },
    {
     "name": "stderr",
     "output_type": "stream",
     "text": [
      "Epoch [4/60]: 100%|██████████████████████████████████████████████████████| 216/216 [00:19<00:00, 11.14it/s, loss=0.814]\n",
      "100%|████████████████████████████████████████████████████████████████████████████████| 108/108 [00:01<00:00, 55.96it/s]\n"
     ]
    },
    {
     "name": "stdout",
     "output_type": "stream",
     "text": [
      "Test Accuracy: 55.78703703703704%\n"
     ]
    },
    {
     "name": "stderr",
     "output_type": "stream",
     "text": [
      "Epoch [5/60]: 100%|██████████████████████████████████████████████████████| 216/216 [00:19<00:00, 11.17it/s, loss=0.757]\n",
      "100%|████████████████████████████████████████████████████████████████████████████████| 108/108 [00:02<00:00, 53.16it/s]\n"
     ]
    },
    {
     "name": "stdout",
     "output_type": "stream",
     "text": [
      "Test Accuracy: 65.27777777777777%\n"
     ]
    },
    {
     "name": "stderr",
     "output_type": "stream",
     "text": [
      "Epoch [6/60]: 100%|██████████████████████████████████████████████████████| 216/216 [00:19<00:00, 11.10it/s, loss=0.667]\n",
      "100%|████████████████████████████████████████████████████████████████████████████████| 108/108 [00:01<00:00, 57.97it/s]\n"
     ]
    },
    {
     "name": "stdout",
     "output_type": "stream",
     "text": [
      "Test Accuracy: 59.49074074074074%\n"
     ]
    },
    {
     "name": "stderr",
     "output_type": "stream",
     "text": [
      "Epoch [7/60]: 100%|██████████████████████████████████████████████████████| 216/216 [00:19<00:00, 11.01it/s, loss=0.675]\n",
      "100%|████████████████████████████████████████████████████████████████████████████████| 108/108 [00:01<00:00, 57.80it/s]\n"
     ]
    },
    {
     "name": "stdout",
     "output_type": "stream",
     "text": [
      "Test Accuracy: 64.12037037037037%\n"
     ]
    },
    {
     "name": "stderr",
     "output_type": "stream",
     "text": [
      "Epoch [8/60]: 100%|██████████████████████████████████████████████████████| 216/216 [00:19<00:00, 11.03it/s, loss=0.573]\n",
      "100%|████████████████████████████████████████████████████████████████████████████████| 108/108 [00:01<00:00, 54.88it/s]\n"
     ]
    },
    {
     "name": "stdout",
     "output_type": "stream",
     "text": [
      "Test Accuracy: 64.58333333333333%\n"
     ]
    },
    {
     "name": "stderr",
     "output_type": "stream",
     "text": [
      "Epoch [9/60]: 100%|██████████████████████████████████████████████████████| 216/216 [00:19<00:00, 11.14it/s, loss=0.497]\n",
      "100%|████████████████████████████████████████████████████████████████████████████████| 108/108 [00:01<00:00, 56.10it/s]\n"
     ]
    },
    {
     "name": "stdout",
     "output_type": "stream",
     "text": [
      "Test Accuracy: 53.7037037037037%\n"
     ]
    },
    {
     "name": "stderr",
     "output_type": "stream",
     "text": [
      "Epoch [10/60]: 100%|█████████████████████████████████████████████████████| 216/216 [00:19<00:00, 11.00it/s, loss=0.504]\n",
      "100%|████████████████████████████████████████████████████████████████████████████████| 108/108 [00:01<00:00, 57.16it/s]\n"
     ]
    },
    {
     "name": "stdout",
     "output_type": "stream",
     "text": [
      "Test Accuracy: 58.7962962962963%\n"
     ]
    },
    {
     "name": "stderr",
     "output_type": "stream",
     "text": [
      "Epoch [11/60]: 100%|█████████████████████████████████████████████████████| 216/216 [00:19<00:00, 10.96it/s, loss=0.401]\n",
      "100%|████████████████████████████████████████████████████████████████████████████████| 108/108 [00:01<00:00, 55.83it/s]\n"
     ]
    },
    {
     "name": "stdout",
     "output_type": "stream",
     "text": [
      "Test Accuracy: 65.97222222222223%\n"
     ]
    },
    {
     "name": "stderr",
     "output_type": "stream",
     "text": [
      "Epoch [12/60]: 100%|█████████████████████████████████████████████████████| 216/216 [00:19<00:00, 11.08it/s, loss=0.357]\n",
      "100%|████████████████████████████████████████████████████████████████████████████████| 108/108 [00:01<00:00, 55.32it/s]\n"
     ]
    },
    {
     "name": "stdout",
     "output_type": "stream",
     "text": [
      "Test Accuracy: 52.77777777777778%\n"
     ]
    },
    {
     "name": "stderr",
     "output_type": "stream",
     "text": [
      "Epoch [13/60]: 100%|██████████████████████████████████████████████████████| 216/216 [00:19<00:00, 11.11it/s, loss=0.34]\n",
      "100%|████████████████████████████████████████████████████████████████████████████████| 108/108 [00:01<00:00, 55.37it/s]\n"
     ]
    },
    {
     "name": "stdout",
     "output_type": "stream",
     "text": [
      "Test Accuracy: 40.27777777777778%\n"
     ]
    },
    {
     "name": "stderr",
     "output_type": "stream",
     "text": [
      "Epoch [14/60]: 100%|█████████████████████████████████████████████████████| 216/216 [00:19<00:00, 11.08it/s, loss=0.294]\n",
      "100%|████████████████████████████████████████████████████████████████████████████████| 108/108 [00:01<00:00, 57.43it/s]\n"
     ]
    },
    {
     "name": "stdout",
     "output_type": "stream",
     "text": [
      "Test Accuracy: 61.342592592592595%\n"
     ]
    },
    {
     "name": "stderr",
     "output_type": "stream",
     "text": [
      "Epoch [15/60]: 100%|█████████████████████████████████████████████████████| 216/216 [00:19<00:00, 11.12it/s, loss=0.232]\n",
      "100%|████████████████████████████████████████████████████████████████████████████████| 108/108 [00:01<00:00, 57.45it/s]\n"
     ]
    },
    {
     "name": "stdout",
     "output_type": "stream",
     "text": [
      "Test Accuracy: 60.648148148148145%\n"
     ]
    },
    {
     "name": "stderr",
     "output_type": "stream",
     "text": [
      "Epoch [16/60]: 100%|█████████████████████████████████████████████████████| 216/216 [00:19<00:00, 11.08it/s, loss=0.245]\n",
      "100%|████████████████████████████████████████████████████████████████████████████████| 108/108 [00:02<00:00, 53.50it/s]\n"
     ]
    },
    {
     "name": "stdout",
     "output_type": "stream",
     "text": [
      "Test Accuracy: 60.416666666666664%\n"
     ]
    },
    {
     "name": "stderr",
     "output_type": "stream",
     "text": [
      "Epoch [17/60]: 100%|█████████████████████████████████████████████████████| 216/216 [00:19<00:00, 10.95it/s, loss=0.197]\n",
      "100%|████████████████████████████████████████████████████████████████████████████████| 108/108 [00:02<00:00, 52.83it/s]\n"
     ]
    },
    {
     "name": "stdout",
     "output_type": "stream",
     "text": [
      "Test Accuracy: 65.74074074074075%\n"
     ]
    },
    {
     "name": "stderr",
     "output_type": "stream",
     "text": [
      "Epoch [18/60]: 100%|█████████████████████████████████████████████████████| 216/216 [00:19<00:00, 11.09it/s, loss=0.184]\n",
      "100%|████████████████████████████████████████████████████████████████████████████████| 108/108 [00:01<00:00, 57.57it/s]\n"
     ]
    },
    {
     "name": "stdout",
     "output_type": "stream",
     "text": [
      "Test Accuracy: 60.879629629629626%\n"
     ]
    },
    {
     "name": "stderr",
     "output_type": "stream",
     "text": [
      "Epoch [19/60]: 100%|█████████████████████████████████████████████████████| 216/216 [00:19<00:00, 10.93it/s, loss=0.207]\n",
      "100%|████████████████████████████████████████████████████████████████████████████████| 108/108 [00:01<00:00, 56.97it/s]\n"
     ]
    },
    {
     "name": "stdout",
     "output_type": "stream",
     "text": [
      "Test Accuracy: 63.19444444444444%\n"
     ]
    },
    {
     "name": "stderr",
     "output_type": "stream",
     "text": [
      "Epoch [20/60]: 100%|█████████████████████████████████████████████████████| 216/216 [00:20<00:00, 10.68it/s, loss=0.128]\n",
      "100%|████████████████████████████████████████████████████████████████████████████████| 108/108 [00:02<00:00, 52.93it/s]\n"
     ]
    },
    {
     "name": "stdout",
     "output_type": "stream",
     "text": [
      "Test Accuracy: 65.74074074074075%\n"
     ]
    },
    {
     "name": "stderr",
     "output_type": "stream",
     "text": [
      "Epoch [21/60]: 100%|████████████████████████████████████████████████████| 216/216 [00:19<00:00, 11.08it/s, loss=0.0927]\n",
      "100%|████████████████████████████████████████████████████████████████████████████████| 108/108 [00:01<00:00, 55.10it/s]\n"
     ]
    },
    {
     "name": "stdout",
     "output_type": "stream",
     "text": [
      "Test Accuracy: 62.5%\n"
     ]
    },
    {
     "name": "stderr",
     "output_type": "stream",
     "text": [
      "Epoch [22/60]: 100%|█████████████████████████████████████████████████████| 216/216 [00:19<00:00, 11.13it/s, loss=0.111]\n",
      "100%|████████████████████████████████████████████████████████████████████████████████| 108/108 [00:01<00:00, 55.27it/s]\n"
     ]
    },
    {
     "name": "stdout",
     "output_type": "stream",
     "text": [
      "Test Accuracy: 51.388888888888886%\n"
     ]
    },
    {
     "name": "stderr",
     "output_type": "stream",
     "text": [
      "Epoch [23/60]: 100%|██████████████████████████████████████████████████████| 216/216 [00:19<00:00, 11.04it/s, loss=0.17]\n",
      "100%|████████████████████████████████████████████████████████████████████████████████| 108/108 [00:02<00:00, 53.93it/s]\n"
     ]
    },
    {
     "name": "stdout",
     "output_type": "stream",
     "text": [
      "Test Accuracy: 63.19444444444444%\n"
     ]
    },
    {
     "name": "stderr",
     "output_type": "stream",
     "text": [
      "Epoch [24/60]: 100%|█████████████████████████████████████████████████████| 216/216 [00:19<00:00, 11.14it/s, loss=0.103]\n",
      "100%|████████████████████████████████████████████████████████████████████████████████| 108/108 [00:01<00:00, 54.33it/s]\n"
     ]
    },
    {
     "name": "stdout",
     "output_type": "stream",
     "text": [
      "Test Accuracy: 65.97222222222223%\n"
     ]
    },
    {
     "name": "stderr",
     "output_type": "stream",
     "text": [
      "Epoch [25/60]: 100%|████████████████████████████████████████████████████| 216/216 [00:19<00:00, 11.18it/s, loss=0.0973]\n",
      "100%|████████████████████████████████████████████████████████████████████████████████| 108/108 [00:01<00:00, 56.52it/s]\n"
     ]
    },
    {
     "name": "stdout",
     "output_type": "stream",
     "text": [
      "Test Accuracy: 54.398148148148145%\n"
     ]
    },
    {
     "name": "stderr",
     "output_type": "stream",
     "text": [
      "Epoch [26/60]: 100%|██████████████████████████████████████████████████████| 216/216 [00:19<00:00, 11.10it/s, loss=0.13]\n",
      "100%|████████████████████████████████████████████████████████████████████████████████| 108/108 [00:01<00:00, 56.68it/s]\n"
     ]
    },
    {
     "name": "stdout",
     "output_type": "stream",
     "text": [
      "Test Accuracy: 65.27777777777777%\n"
     ]
    },
    {
     "name": "stderr",
     "output_type": "stream",
     "text": [
      "Epoch [27/60]: 100%|█████████████████████████████████████████████████████| 216/216 [00:19<00:00, 11.10it/s, loss=0.101]\n",
      "100%|████████████████████████████████████████████████████████████████████████████████| 108/108 [00:01<00:00, 56.29it/s]\n"
     ]
    },
    {
     "name": "stdout",
     "output_type": "stream",
     "text": [
      "Test Accuracy: 52.77777777777778%\n"
     ]
    },
    {
     "name": "stderr",
     "output_type": "stream",
     "text": [
      "Epoch [28/60]: 100%|█████████████████████████████████████████████████████| 216/216 [00:19<00:00, 10.81it/s, loss=0.132]\n",
      "100%|████████████████████████████████████████████████████████████████████████████████| 108/108 [00:01<00:00, 55.88it/s]\n"
     ]
    },
    {
     "name": "stdout",
     "output_type": "stream",
     "text": [
      "Test Accuracy: 63.657407407407405%\n"
     ]
    },
    {
     "name": "stderr",
     "output_type": "stream",
     "text": [
      "Epoch [29/60]: 100%|████████████████████████████████████████████████████| 216/216 [00:19<00:00, 11.06it/s, loss=0.0743]\n",
      "100%|████████████████████████████████████████████████████████████████████████████████| 108/108 [00:01<00:00, 58.63it/s]\n"
     ]
    },
    {
     "name": "stdout",
     "output_type": "stream",
     "text": [
      "Test Accuracy: 63.425925925925924%\n"
     ]
    },
    {
     "name": "stderr",
     "output_type": "stream",
     "text": [
      "Epoch [30/60]: 100%|████████████████████████████████████████████████████| 216/216 [00:19<00:00, 11.09it/s, loss=0.0772]\n",
      "100%|████████████████████████████████████████████████████████████████████████████████| 108/108 [00:01<00:00, 56.01it/s]\n"
     ]
    },
    {
     "name": "stdout",
     "output_type": "stream",
     "text": [
      "Test Accuracy: 67.36111111111111%\n"
     ]
    },
    {
     "name": "stderr",
     "output_type": "stream",
     "text": [
      "Epoch [31/60]: 100%|████████████████████████████████████████████████████| 216/216 [00:19<00:00, 11.02it/s, loss=0.0844]\n",
      "100%|████████████████████████████████████████████████████████████████████████████████| 108/108 [00:02<00:00, 53.97it/s]\n"
     ]
    },
    {
     "name": "stdout",
     "output_type": "stream",
     "text": [
      "Test Accuracy: 59.25925925925926%\n"
     ]
    },
    {
     "name": "stderr",
     "output_type": "stream",
     "text": [
      "Epoch [32/60]: 100%|█████████████████████████████████████████████████████| 216/216 [00:19<00:00, 11.12it/s, loss=0.149]\n",
      "100%|████████████████████████████████████████████████████████████████████████████████| 108/108 [00:01<00:00, 55.26it/s]\n"
     ]
    },
    {
     "name": "stdout",
     "output_type": "stream",
     "text": [
      "Test Accuracy: 63.888888888888886%\n"
     ]
    },
    {
     "name": "stderr",
     "output_type": "stream",
     "text": [
      "Epoch [33/60]: 100%|████████████████████████████████████████████████████| 216/216 [00:19<00:00, 11.01it/s, loss=0.0905]\n",
      "100%|████████████████████████████████████████████████████████████████████████████████| 108/108 [00:01<00:00, 54.73it/s]\n"
     ]
    },
    {
     "name": "stdout",
     "output_type": "stream",
     "text": [
      "Test Accuracy: 63.425925925925924%\n"
     ]
    },
    {
     "name": "stderr",
     "output_type": "stream",
     "text": [
      "Epoch [34/60]: 100%|████████████████████████████████████████████████████| 216/216 [00:19<00:00, 11.07it/s, loss=0.0741]\n",
      "100%|████████████████████████████████████████████████████████████████████████████████| 108/108 [00:02<00:00, 53.08it/s]\n"
     ]
    },
    {
     "name": "stdout",
     "output_type": "stream",
     "text": [
      "Test Accuracy: 64.12037037037037%\n"
     ]
    },
    {
     "name": "stderr",
     "output_type": "stream",
     "text": [
      "Epoch [35/60]: 100%|████████████████████████████████████████████████████| 216/216 [00:19<00:00, 11.11it/s, loss=0.0517]\n",
      "100%|████████████████████████████████████████████████████████████████████████████████| 108/108 [00:01<00:00, 57.09it/s]\n"
     ]
    },
    {
     "name": "stdout",
     "output_type": "stream",
     "text": [
      "Test Accuracy: 64.81481481481481%\n"
     ]
    },
    {
     "name": "stderr",
     "output_type": "stream",
     "text": [
      "Epoch [36/60]: 100%|████████████████████████████████████████████████████| 216/216 [00:19<00:00, 10.97it/s, loss=0.0602]\n",
      "100%|████████████████████████████████████████████████████████████████████████████████| 108/108 [00:01<00:00, 56.77it/s]\n"
     ]
    },
    {
     "name": "stdout",
     "output_type": "stream",
     "text": [
      "Test Accuracy: 66.89814814814815%\n"
     ]
    },
    {
     "name": "stderr",
     "output_type": "stream",
     "text": [
      "Epoch [37/60]: 100%|████████████████████████████████████████████████████| 216/216 [00:19<00:00, 10.94it/s, loss=0.0611]\n",
      "100%|████████████████████████████████████████████████████████████████████████████████| 108/108 [00:01<00:00, 57.22it/s]\n"
     ]
    },
    {
     "name": "stdout",
     "output_type": "stream",
     "text": [
      "Test Accuracy: 67.36111111111111%\n"
     ]
    },
    {
     "name": "stderr",
     "output_type": "stream",
     "text": [
      "Epoch [38/60]: 100%|████████████████████████████████████████████████████| 216/216 [00:19<00:00, 11.09it/s, loss=0.0546]\n",
      "100%|████████████████████████████████████████████████████████████████████████████████| 108/108 [00:01<00:00, 57.14it/s]\n"
     ]
    },
    {
     "name": "stdout",
     "output_type": "stream",
     "text": [
      "Test Accuracy: 66.89814814814815%\n"
     ]
    },
    {
     "name": "stderr",
     "output_type": "stream",
     "text": [
      "Epoch [39/60]: 100%|████████████████████████████████████████████████████| 216/216 [00:19<00:00, 11.04it/s, loss=0.0382]\n",
      "100%|████████████████████████████████████████████████████████████████████████████████| 108/108 [00:01<00:00, 57.07it/s]\n"
     ]
    },
    {
     "name": "stdout",
     "output_type": "stream",
     "text": [
      "Test Accuracy: 64.12037037037037%\n"
     ]
    },
    {
     "name": "stderr",
     "output_type": "stream",
     "text": [
      "Epoch [40/60]: 100%|████████████████████████████████████████████████████| 216/216 [00:19<00:00, 11.07it/s, loss=0.0581]\n",
      "100%|████████████████████████████████████████████████████████████████████████████████| 108/108 [00:01<00:00, 56.88it/s]\n"
     ]
    },
    {
     "name": "stdout",
     "output_type": "stream",
     "text": [
      "Test Accuracy: 62.73148148148148%\n"
     ]
    },
    {
     "name": "stderr",
     "output_type": "stream",
     "text": [
      "Epoch [41/60]: 100%|████████████████████████████████████████████████████| 216/216 [00:19<00:00, 11.07it/s, loss=0.0923]\n",
      "100%|████████████████████████████████████████████████████████████████████████████████| 108/108 [00:01<00:00, 56.72it/s]\n"
     ]
    },
    {
     "name": "stdout",
     "output_type": "stream",
     "text": [
      "Test Accuracy: 63.19444444444444%\n"
     ]
    },
    {
     "name": "stderr",
     "output_type": "stream",
     "text": [
      "Epoch [42/60]: 100%|█████████████████████████████████████████████████████| 216/216 [00:19<00:00, 11.04it/s, loss=0.148]\n",
      "100%|████████████████████████████████████████████████████████████████████████████████| 108/108 [00:01<00:00, 57.91it/s]\n"
     ]
    },
    {
     "name": "stdout",
     "output_type": "stream",
     "text": [
      "Test Accuracy: 64.12037037037037%\n"
     ]
    },
    {
     "name": "stderr",
     "output_type": "stream",
     "text": [
      "Epoch [43/60]: 100%|████████████████████████████████████████████████████| 216/216 [00:19<00:00, 11.02it/s, loss=0.0641]\n",
      "100%|████████████████████████████████████████████████████████████████████████████████| 108/108 [00:01<00:00, 57.54it/s]\n"
     ]
    },
    {
     "name": "stdout",
     "output_type": "stream",
     "text": [
      "Test Accuracy: 68.51851851851852%\n"
     ]
    },
    {
     "name": "stderr",
     "output_type": "stream",
     "text": [
      "Epoch [44/60]: 100%|████████████████████████████████████████████████████| 216/216 [00:19<00:00, 10.93it/s, loss=0.0387]\n",
      "100%|████████████████████████████████████████████████████████████████████████████████| 108/108 [00:02<00:00, 50.77it/s]\n"
     ]
    },
    {
     "name": "stdout",
     "output_type": "stream",
     "text": [
      "Test Accuracy: 68.75%\n"
     ]
    },
    {
     "name": "stderr",
     "output_type": "stream",
     "text": [
      "Epoch [45/60]: 100%|████████████████████████████████████████████████████| 216/216 [00:19<00:00, 10.82it/s, loss=0.0266]\n",
      "100%|████████████████████████████████████████████████████████████████████████████████| 108/108 [00:01<00:00, 55.34it/s]\n"
     ]
    },
    {
     "name": "stdout",
     "output_type": "stream",
     "text": [
      "Test Accuracy: 67.12962962962963%\n"
     ]
    },
    {
     "name": "stderr",
     "output_type": "stream",
     "text": [
      "Epoch [46/60]: 100%|████████████████████████████████████████████████████| 216/216 [00:19<00:00, 11.01it/s, loss=0.0264]\n",
      "100%|████████████████████████████████████████████████████████████████████████████████| 108/108 [00:01<00:00, 54.62it/s]\n"
     ]
    },
    {
     "name": "stdout",
     "output_type": "stream",
     "text": [
      "Test Accuracy: 68.28703703703704%\n"
     ]
    },
    {
     "name": "stderr",
     "output_type": "stream",
     "text": [
      "Epoch [47/60]: 100%|████████████████████████████████████████████████████| 216/216 [00:19<00:00, 11.12it/s, loss=0.0564]\n",
      "100%|████████████████████████████████████████████████████████████████████████████████| 108/108 [00:01<00:00, 56.05it/s]\n"
     ]
    },
    {
     "name": "stdout",
     "output_type": "stream",
     "text": [
      "Test Accuracy: 67.36111111111111%\n"
     ]
    },
    {
     "name": "stderr",
     "output_type": "stream",
     "text": [
      "Epoch [48/60]: 100%|████████████████████████████████████████████████████| 216/216 [00:19<00:00, 11.09it/s, loss=0.0759]\n",
      "100%|████████████████████████████████████████████████████████████████████████████████| 108/108 [00:01<00:00, 56.90it/s]\n"
     ]
    },
    {
     "name": "stdout",
     "output_type": "stream",
     "text": [
      "Test Accuracy: 63.425925925925924%\n"
     ]
    },
    {
     "name": "stderr",
     "output_type": "stream",
     "text": [
      "Epoch [49/60]: 100%|████████████████████████████████████████████████████| 216/216 [00:19<00:00, 11.06it/s, loss=0.0934]\n",
      "100%|████████████████████████████████████████████████████████████████████████████████| 108/108 [00:01<00:00, 56.54it/s]\n"
     ]
    },
    {
     "name": "stdout",
     "output_type": "stream",
     "text": [
      "Test Accuracy: 63.19444444444444%\n"
     ]
    },
    {
     "name": "stderr",
     "output_type": "stream",
     "text": [
      "Epoch [50/60]: 100%|████████████████████████████████████████████████████| 216/216 [00:19<00:00, 11.08it/s, loss=0.0775]\n",
      "100%|████████████████████████████████████████████████████████████████████████████████| 108/108 [00:01<00:00, 57.96it/s]\n"
     ]
    },
    {
     "name": "stdout",
     "output_type": "stream",
     "text": [
      "Test Accuracy: 63.19444444444444%\n"
     ]
    },
    {
     "name": "stderr",
     "output_type": "stream",
     "text": [
      "Epoch [51/60]: 100%|████████████████████████████████████████████████████| 216/216 [00:19<00:00, 11.00it/s, loss=0.0382]\n",
      "100%|████████████████████████████████████████████████████████████████████████████████| 108/108 [00:01<00:00, 56.42it/s]\n"
     ]
    },
    {
     "name": "stdout",
     "output_type": "stream",
     "text": [
      "Test Accuracy: 68.28703703703704%\n"
     ]
    },
    {
     "name": "stderr",
     "output_type": "stream",
     "text": [
      "Epoch [52/60]: 100%|████████████████████████████████████████████████████| 216/216 [00:19<00:00, 11.13it/s, loss=0.0432]\n",
      "100%|████████████████████████████████████████████████████████████████████████████████| 108/108 [00:01<00:00, 56.26it/s]\n"
     ]
    },
    {
     "name": "stdout",
     "output_type": "stream",
     "text": [
      "Test Accuracy: 60.879629629629626%\n"
     ]
    },
    {
     "name": "stderr",
     "output_type": "stream",
     "text": [
      "Epoch [53/60]: 100%|█████████████████████████████████████████████████████| 216/216 [00:19<00:00, 11.08it/s, loss=0.037]\n",
      "100%|████████████████████████████████████████████████████████████████████████████████| 108/108 [00:01<00:00, 54.83it/s]\n"
     ]
    },
    {
     "name": "stdout",
     "output_type": "stream",
     "text": [
      "Test Accuracy: 66.43518518518519%\n"
     ]
    },
    {
     "name": "stderr",
     "output_type": "stream",
     "text": [
      "Epoch [54/60]: 100%|████████████████████████████████████████████████████| 216/216 [00:19<00:00, 10.97it/s, loss=0.0579]\n",
      "100%|████████████████████████████████████████████████████████████████████████████████| 108/108 [00:01<00:00, 57.39it/s]\n"
     ]
    },
    {
     "name": "stdout",
     "output_type": "stream",
     "text": [
      "Test Accuracy: 64.12037037037037%\n"
     ]
    },
    {
     "name": "stderr",
     "output_type": "stream",
     "text": [
      "Epoch [55/60]: 100%|████████████████████████████████████████████████████| 216/216 [00:19<00:00, 11.09it/s, loss=0.0617]\n",
      "100%|████████████████████████████████████████████████████████████████████████████████| 108/108 [00:01<00:00, 57.03it/s]\n"
     ]
    },
    {
     "name": "stdout",
     "output_type": "stream",
     "text": [
      "Test Accuracy: 66.89814814814815%\n"
     ]
    },
    {
     "name": "stderr",
     "output_type": "stream",
     "text": [
      "Epoch [56/60]: 100%|█████████████████████████████████████████████████████| 216/216 [00:19<00:00, 11.09it/s, loss=0.057]\n",
      "100%|████████████████████████████████████████████████████████████████████████████████| 108/108 [00:01<00:00, 57.65it/s]\n"
     ]
    },
    {
     "name": "stdout",
     "output_type": "stream",
     "text": [
      "Test Accuracy: 64.12037037037037%\n"
     ]
    },
    {
     "name": "stderr",
     "output_type": "stream",
     "text": [
      "Epoch [57/60]: 100%|████████████████████████████████████████████████████| 216/216 [00:19<00:00, 11.08it/s, loss=0.0369]\n",
      "100%|████████████████████████████████████████████████████████████████████████████████| 108/108 [00:01<00:00, 56.24it/s]\n"
     ]
    },
    {
     "name": "stdout",
     "output_type": "stream",
     "text": [
      "Test Accuracy: 67.36111111111111%\n"
     ]
    },
    {
     "name": "stderr",
     "output_type": "stream",
     "text": [
      "Epoch [58/60]: 100%|████████████████████████████████████████████████████| 216/216 [00:19<00:00, 10.96it/s, loss=0.0224]\n",
      "100%|████████████████████████████████████████████████████████████████████████████████| 108/108 [00:01<00:00, 55.18it/s]\n"
     ]
    },
    {
     "name": "stdout",
     "output_type": "stream",
     "text": [
      "Test Accuracy: 66.43518518518519%\n"
     ]
    },
    {
     "name": "stderr",
     "output_type": "stream",
     "text": [
      "Epoch [59/60]: 100%|████████████████████████████████████████████████████| 216/216 [00:19<00:00, 10.97it/s, loss=0.0186]\n",
      "100%|████████████████████████████████████████████████████████████████████████████████| 108/108 [00:02<00:00, 53.82it/s]\n"
     ]
    },
    {
     "name": "stdout",
     "output_type": "stream",
     "text": [
      "Test Accuracy: 65.50925925925925%\n"
     ]
    },
    {
     "name": "stderr",
     "output_type": "stream",
     "text": [
      "Epoch [60/60]: 100%|████████████████████████████████████████████████████| 216/216 [00:19<00:00, 11.15it/s, loss=0.0384]\n",
      "100%|████████████████████████████████████████████████████████████████████████████████| 108/108 [00:02<00:00, 53.71it/s]"
     ]
    },
    {
     "name": "stdout",
     "output_type": "stream",
     "text": [
      "Test Accuracy: 59.49074074074074%\n",
      "Training finished!\n"
     ]
    },
    {
     "name": "stderr",
     "output_type": "stream",
     "text": [
      "\n"
     ]
    }
   ],
   "source": [
    "for epoch in range(num_epochs):\n",
    "    running_loss = 0.0\n",
    "    loop = tqdm(dataloader, total=len(dataloader), leave=True)\n",
    "    model.train()\n",
    "    \n",
    "    for images, labels in loop:\n",
    "        images = images.to(device)\n",
    "        labels = labels.to(device)\n",
    "\n",
    "        # Forward pass\n",
    "        outputs = model(images)                                                                          \n",
    "        loss = criterion(outputs, labels)\n",
    "\n",
    "        # Backward and optimize\n",
    "        optimizer.zero_grad()\n",
    "        loss.backward()\n",
    "        optimizer.step()\n",
    "\n",
    "        running_loss += loss.item()\n",
    "        loop.set_description(f'Epoch [{epoch+1}/{num_epochs}]')\n",
    "        loop.set_postfix(loss=running_loss / (len(dataloader)))\n",
    "    test(model,test_loader)\n",
    "    torch.save(model.state_dict(), \"result/model_googlenet_240000_all_{}.pth\".format(epoch))\n",
    "    \n",
    "print('Training finished!')"
   ]
  },
  {
   "cell_type": "code",
   "execution_count": null,
   "id": "aeee4319",
   "metadata": {},
   "outputs": [],
   "source": []
  },
  {
   "cell_type": "code",
   "execution_count": null,
   "id": "3ab0adab",
   "metadata": {},
   "outputs": [],
   "source": []
  },
  {
   "cell_type": "code",
   "execution_count": 45,
   "id": "a4768372",
   "metadata": {},
   "outputs": [],
   "source": [
    "df = pd.read_csv(\"datasets/emotion_test.csv\")"
   ]
  },
  {
   "cell_type": "code",
   "execution_count": 46,
   "id": "2f873df8",
   "metadata": {},
   "outputs": [],
   "source": [
    "df = df[[\"wav_id\",\"상황\"]]"
   ]
  },
  {
   "cell_type": "code",
   "execution_count": 58,
   "id": "ad7d0e2b",
   "metadata": {},
   "outputs": [],
   "source": [
    "from tqdm import tqdm"
   ]
  },
  {
   "cell_type": "code",
   "execution_count": 59,
   "id": "706500f2",
   "metadata": {},
   "outputs": [
    {
     "data": {
      "text/plain": [
       "'5f7940c59e04b149046cc19a'"
      ]
     },
     "execution_count": 59,
     "metadata": {},
     "output_type": "execute_result"
    }
   ],
   "source": [
    "df.iloc[0][0]"
   ]
  },
  {
   "cell_type": "code",
   "execution_count": null,
   "id": "1e9372ab",
   "metadata": {},
   "outputs": [],
   "source": [
    "emotion_dic = {\n",
    "    'neutral' : 0,\n",
    "    'happy'   : 1,\n",
    "    'sad'     : 2, \n",
    "    'angry'   : 3, \n",
    "    'fear'    : 4, \n",
    "    'disgust' : 5\n",
    "}"
   ]
  },
  {
   "cell_type": "code",
   "execution_count": 90,
   "id": "3ef67200",
   "metadata": {},
   "outputs": [],
   "source": [
    "emotion_dic = {'anger': 3, 'angry': 3, 'disgust': 5, 'fear': 4, 'happy': 1, 'happiness': 1,\n",
    "                               'neutral': 0, 'sad': 2, 'sadness': 2, 'surprise': 6}\n",
    "\n",
    "def encode(label):\n",
    "    return emotion_dic.get(label)"
   ]
  },
  {
   "cell_type": "code",
   "execution_count": 91,
   "id": "0dd63428",
   "metadata": {},
   "outputs": [],
   "source": [
    "import librosa\n",
    "from pydub import AudioSegment, effects"
   ]
  },
  {
   "cell_type": "code",
   "execution_count": 92,
   "id": "40f18153",
   "metadata": {},
   "outputs": [],
   "source": [
    "def preprocess_audio(path):\n",
    "    _, sr = librosa.load(path)\n",
    "    raw_audio = AudioSegment.from_file(path)\n",
    "    effects.normalize(raw_audio)\n",
    "    \n",
    "    samples = np.array(raw_audio.get_array_of_samples(), dtype='float32')\n",
    "    trimmed, _ = librosa.effects.trim(samples, top_db=25)\n",
    "    if (len(trimmed)>180000):\n",
    "        padded = trimmed[:180000]\n",
    "    else:\n",
    "        padded = np.pad(trimmed, (0, 180000-len(trimmed)), 'constant')\n",
    "    return padded, sr"
   ]
  },
  {
   "cell_type": "code",
   "execution_count": 93,
   "id": "0ac5cec0",
   "metadata": {},
   "outputs": [],
   "source": [
    "zcr_list = []\n",
    "rms_list = []\n",
    "mfccs_list = []\n",
    "emotion_list = []\n",
    "\n",
    "FRAME_LENGTH = 2048\n",
    "HOP_LENGTH = 512\n",
    "\n",
    "for row in df.itertuples(index=False):\n",
    "    try: \n",
    "        y, sr = preprocess_audio(row.path)\n",
    "        zcr = librosa.feature.zero_crossing_rate(y, frame_length=FRAME_LENGTH, hop_length=HOP_LENGTH)\n",
    "        rms = librosa.feature.rms(y=y, frame_length=FRAME_LENGTH, hop_length=HOP_LENGTH)\n",
    "        mfccs = librosa.feature.mfcc(y=y, sr=sr, n_mfcc=13, hop_length=HOP_LENGTH)\n",
    "        zcr_list.append(zcr)\n",
    "        rms_list.append(rms)\n",
    "        mfccs_list.append(mfccs)\n",
    "\n",
    "        emotion_list.append(encode(row.emotion))\n",
    "    except:\n",
    "        print(f\"Failed for path: {row.path}\")"
   ]
  },
  {
   "cell_type": "code",
   "execution_count": 77,
   "id": "a54a45b3",
   "metadata": {},
   "outputs": [
    {
     "name": "stderr",
     "output_type": "stream",
     "text": [
      "100%|██████████████████████████████████████████████████████████████████████████████| 8793/8793 [17:30<00:00,  8.37it/s]\n"
     ]
    }
   ],
   "source": [
    "zcr_list = []\n",
    "rms_list = []\n",
    "mfccs_list = []\n",
    "emotion_list = []\n",
    "\n",
    "FRAME_LENGTH = 2048\n",
    "HOP_LENGTH = 512\n",
    "\n",
    "for i in tqdm(range(len(df))):\n",
    "    try:\n",
    "        if (encode(df.iloc[i][1])==6): continue\n",
    "        y, sr = preprocess_audio(\"datasets/emotion_audio_data/\"+df.iloc[i][0]+\".wav\")\n",
    "        zcr = librosa.feature.zero_crossing_rate(y, frame_length=FRAME_LENGTH, hop_length=HOP_LENGTH)\n",
    "        rms = librosa.feature.rms(y=y, frame_length=FRAME_LENGTH, hop_length=HOP_LENGTH)\n",
    "        mfccs = librosa.feature.mfcc(y=y, sr=sr, n_mfcc=13, hop_length=HOP_LENGTH)\n",
    "        zcr_list.append(zcr)\n",
    "        rms_list.append(rms)\n",
    "        mfccs_list.append(mfccs)\n",
    "\n",
    "        emotion_list.append(encode(df.iloc[i][1]))\n",
    "    except:\n",
    "        print(f\"Failed for path: datasets/emotion_audio_data/{df.iloc[i][0]}.wav\")"
   ]
  },
  {
   "cell_type": "code",
   "execution_count": 94,
   "id": "e8a23026",
   "metadata": {},
   "outputs": [],
   "source": [
    "X = np.concatenate((\n",
    "    np.swapaxes(zcr_list, 1, 2), \n",
    "    np.swapaxes(rms_list, 1, 2), \n",
    "    np.swapaxes(mfccs_list, 1, 2)), \n",
    "    axis=2\n",
    ")\n",
    "X = X.astype('float32')\n",
    "\n",
    "y = np.asarray(emotion_list)"
   ]
  },
  {
   "cell_type": "code",
   "execution_count": 26,
   "id": "8bfb8458",
   "metadata": {},
   "outputs": [],
   "source": [
    "tmpX = X.copy()\n",
    "tmpy = y.copy()"
   ]
  },
  {
   "cell_type": "code",
   "execution_count": 27,
   "id": "523c59a0",
   "metadata": {},
   "outputs": [],
   "source": [
    "class EmotionDataset(Dataset):\n",
    "    def __init__(self, images, labels):\n",
    "        self.images = []\n",
    "        self.emotions = torch.Tensor(labels).to(torch.int64)\n",
    "        transform = transforms.Compose([\n",
    "            transforms.Resize((224,224)),\n",
    "            transforms.ToTensor(),\n",
    "            transforms.Normalize([0.485, 0.456, 0.406],[0.229, 0.224, 0.225])\n",
    "        ])\n",
    "\n",
    "        for i in tqdm(range(len(images))):\n",
    "            \n",
    "            # MFCC를 이미지로 변환하여 크기를 조정합니다.\n",
    "            image = Image.fromarray(images[i],\"RGB\")\n",
    "            image = transform(image)\n",
    "            self.images.append(image)\n",
    "            \n",
    "        self.len = len(images)\n",
    "\n",
    "    def __len__(self):\n",
    "        return self.len\n",
    "\n",
    "    def __getitem__(self, idx):\n",
    "        image = self.images[idx]\n",
    "        label = self.emotions[idx]\n",
    "        return image, label"
   ]
  },
  {
   "cell_type": "code",
   "execution_count": 37,
   "id": "63fc37c8",
   "metadata": {},
   "outputs": [],
   "source": [
    "model = resnet50(pretrained=True)\n",
    "num_features = model.fc.in_features\n",
    "num_classes = 6\n",
    "model.fc = nn.Linear(num_features, num_classes) "
   ]
  },
  {
   "cell_type": "code",
   "execution_count": 38,
   "id": "7bfbc18b",
   "metadata": {},
   "outputs": [],
   "source": [
    "criterion = nn.CrossEntropyLoss()\n",
    "\n",
    "optimizer = optim.Adam(model.parameters(), lr=0.001, betas=(0.9, 0.999), eps=1e-08, weight_decay=0, amsgrad=False)"
   ]
  },
  {
   "cell_type": "code",
   "execution_count": 30,
   "id": "6415b514",
   "metadata": {},
   "outputs": [
    {
     "name": "stderr",
     "output_type": "stream",
     "text": [
      "100%|█████████████████████████████████████████████████████████████████████████████| 4331/4331 [00:04<00:00, 870.71it/s]\n"
     ]
    }
   ],
   "source": [
    "dataset = EmotionDataset(X,y)\n",
    "dataset_size = len(dataset)\n",
    "train_size = int(dataset_size * 0.8)\n",
    "validation_size = int(dataset_size * 0.1)\n",
    "test_size = dataset_size - train_size - validation_size\n",
    "\n",
    "train_dataset, validation_dataset, test_dataset = random_split(dataset, [train_size, validation_size, test_size])"
   ]
  },
  {
   "cell_type": "code",
   "execution_count": 31,
   "id": "a90b3eb1",
   "metadata": {},
   "outputs": [],
   "source": [
    "dataloader = DataLoader(train_dataset, batch_size=16, shuffle=True, drop_last=True)\n",
    "validation_loader = DataLoader(validation_dataset, batch_size=4, shuffle=True, drop_last=True)\n",
    "test_loader = DataLoader(test_dataset, batch_size=4, shuffle=True, drop_last=True)"
   ]
  },
  {
   "cell_type": "code",
   "execution_count": 55,
   "id": "1348a011",
   "metadata": {},
   "outputs": [],
   "source": [
    "device = torch.device(\"cuda\" if torch.cuda.is_available() else \"cpu\")\n",
    "model = model.to(device)"
   ]
  },
  {
   "cell_type": "code",
   "execution_count": 40,
   "id": "9eca4476",
   "metadata": {},
   "outputs": [],
   "source": [
    "num_epochs = 100"
   ]
  },
  {
   "cell_type": "code",
   "execution_count": 95,
   "id": "e5f9fb7a",
   "metadata": {},
   "outputs": [
    {
     "name": "stderr",
     "output_type": "stream",
     "text": [
      "100%|█████████████████████████████████████████████████████████████████████████████| 4331/4331 [00:07<00:00, 607.47it/s]\n"
     ]
    }
   ],
   "source": [
    "dataset = EmotionDataset(X,y)\n",
    "test_loader = DataLoader(dataset, batch_size=4, shuffle=True, drop_last=True)"
   ]
  },
  {
   "cell_type": "code",
   "execution_count": 41,
   "id": "d190ff36",
   "metadata": {},
   "outputs": [],
   "source": [
    "def test(model, test_loader):\n",
    "    model.eval()\n",
    "    correct = 0\n",
    "    total = 0\n",
    "\n",
    "    with torch.no_grad():\n",
    "        for images, labels in tqdm(test_loader):\n",
    "            images = images.to(device)\n",
    "            labels = labels.to(device)\n",
    "\n",
    "            outputs = model(images)\n",
    "            _, predicted = torch.max(outputs.data, 1)\n",
    "            total += labels.size(0)\n",
    "            correct += (predicted == labels).sum().item()\n",
    "\n",
    "    accuracy = 100 * correct / total\n",
    "    print(f'Test Accuracy: {accuracy}%')\n",
    "    return accuracy"
   ]
  },
  {
   "cell_type": "code",
   "execution_count": 96,
   "id": "54224aee",
   "metadata": {},
   "outputs": [
    {
     "name": "stderr",
     "output_type": "stream",
     "text": [
      "100%|██████████████████████████████████████████████████████████████████████████████| 1082/1082 [00:23<00:00, 45.16it/s]"
     ]
    },
    {
     "name": "stdout",
     "output_type": "stream",
     "text": [
      "Test Accuracy: 94.29297597042513%\n"
     ]
    },
    {
     "name": "stderr",
     "output_type": "stream",
     "text": [
      "\n"
     ]
    },
    {
     "data": {
      "text/plain": [
       "94.29297597042513"
      ]
     },
     "execution_count": 96,
     "metadata": {},
     "output_type": "execute_result"
    }
   ],
   "source": [
    "test(model,test_loader)"
   ]
  },
  {
   "cell_type": "code",
   "execution_count": 80,
   "id": "a6b0645c",
   "metadata": {},
   "outputs": [
    {
     "name": "stderr",
     "output_type": "stream",
     "text": [
      "100%|██████████████████████████████████████████████████████████████████████████████| 2106/2106 [00:48<00:00, 43.24it/s]"
     ]
    },
    {
     "name": "stdout",
     "output_type": "stream",
     "text": [
      "Test Accuracy: 21.616809116809115%\n"
     ]
    },
    {
     "name": "stderr",
     "output_type": "stream",
     "text": [
      "\n"
     ]
    },
    {
     "data": {
      "text/plain": [
       "21.616809116809115"
      ]
     },
     "execution_count": 80,
     "metadata": {},
     "output_type": "execute_result"
    }
   ],
   "source": [
    "test(model,test_loader)"
   ]
  },
  {
   "cell_type": "code",
   "execution_count": 42,
   "id": "0817e127",
   "metadata": {},
   "outputs": [
    {
     "name": "stderr",
     "output_type": "stream",
     "text": [
      "Epoch [1/100]: 100%|██████████████████████████████████████████████████████| 216/216 [00:24<00:00,  8.99it/s, loss=1.59]\n",
      "100%|████████████████████████████████████████████████████████████████████████████████| 108/108 [00:01<00:00, 85.83it/s]\n"
     ]
    },
    {
     "name": "stdout",
     "output_type": "stream",
     "text": [
      "Test Accuracy: 37.73148148148148%\n"
     ]
    },
    {
     "name": "stderr",
     "output_type": "stream",
     "text": [
      "Epoch [2/100]: 100%|██████████████████████████████████████████████████████| 216/216 [00:23<00:00,  9.05it/s, loss=1.34]\n",
      "100%|████████████████████████████████████████████████████████████████████████████████| 108/108 [00:01<00:00, 85.97it/s]\n"
     ]
    },
    {
     "name": "stdout",
     "output_type": "stream",
     "text": [
      "Test Accuracy: 24.76851851851852%\n"
     ]
    },
    {
     "name": "stderr",
     "output_type": "stream",
     "text": [
      "Epoch [3/100]: 100%|██████████████████████████████████████████████████████| 216/216 [00:23<00:00,  9.13it/s, loss=1.12]\n",
      "100%|████████████████████████████████████████████████████████████████████████████████| 108/108 [00:01<00:00, 84.75it/s]\n"
     ]
    },
    {
     "name": "stdout",
     "output_type": "stream",
     "text": [
      "Test Accuracy: 57.638888888888886%\n"
     ]
    },
    {
     "name": "stderr",
     "output_type": "stream",
     "text": [
      "Epoch [4/100]: 100%|█████████████████████████████████████████████████████| 216/216 [00:23<00:00,  9.21it/s, loss=0.999]\n",
      "100%|████████████████████████████████████████████████████████████████████████████████| 108/108 [00:01<00:00, 90.05it/s]\n"
     ]
    },
    {
     "name": "stdout",
     "output_type": "stream",
     "text": [
      "Test Accuracy: 57.175925925925924%\n"
     ]
    },
    {
     "name": "stderr",
     "output_type": "stream",
     "text": [
      "Epoch [5/100]: 100%|█████████████████████████████████████████████████████| 216/216 [00:23<00:00,  9.18it/s, loss=0.887]\n",
      "100%|████████████████████████████████████████████████████████████████████████████████| 108/108 [00:01<00:00, 86.04it/s]\n"
     ]
    },
    {
     "name": "stdout",
     "output_type": "stream",
     "text": [
      "Test Accuracy: 57.638888888888886%\n"
     ]
    },
    {
     "name": "stderr",
     "output_type": "stream",
     "text": [
      "Epoch [6/100]: 100%|█████████████████████████████████████████████████████| 216/216 [00:23<00:00,  9.14it/s, loss=0.823]\n",
      "100%|████████████████████████████████████████████████████████████████████████████████| 108/108 [00:01<00:00, 88.29it/s]\n"
     ]
    },
    {
     "name": "stdout",
     "output_type": "stream",
     "text": [
      "Test Accuracy: 63.19444444444444%\n"
     ]
    },
    {
     "name": "stderr",
     "output_type": "stream",
     "text": [
      "Epoch [7/100]: 100%|█████████████████████████████████████████████████████| 216/216 [00:23<00:00,  9.22it/s, loss=0.753]\n",
      "100%|████████████████████████████████████████████████████████████████████████████████| 108/108 [00:01<00:00, 86.73it/s]\n"
     ]
    },
    {
     "name": "stdout",
     "output_type": "stream",
     "text": [
      "Test Accuracy: 65.74074074074075%\n"
     ]
    },
    {
     "name": "stderr",
     "output_type": "stream",
     "text": [
      "Epoch [8/100]: 100%|█████████████████████████████████████████████████████| 216/216 [00:23<00:00,  9.21it/s, loss=0.688]\n",
      "100%|████████████████████████████████████████████████████████████████████████████████| 108/108 [00:01<00:00, 88.14it/s]\n"
     ]
    },
    {
     "name": "stdout",
     "output_type": "stream",
     "text": [
      "Test Accuracy: 47.68518518518518%\n"
     ]
    },
    {
     "name": "stderr",
     "output_type": "stream",
     "text": [
      "Epoch [9/100]: 100%|█████████████████████████████████████████████████████| 216/216 [00:23<00:00,  9.08it/s, loss=0.682]\n",
      "100%|████████████████████████████████████████████████████████████████████████████████| 108/108 [00:01<00:00, 84.49it/s]\n"
     ]
    },
    {
     "name": "stdout",
     "output_type": "stream",
     "text": [
      "Test Accuracy: 59.25925925925926%\n"
     ]
    },
    {
     "name": "stderr",
     "output_type": "stream",
     "text": [
      "Epoch [10/100]: 100%|████████████████████████████████████████████████████| 216/216 [00:23<00:00,  9.20it/s, loss=0.604]\n",
      "100%|████████████████████████████████████████████████████████████████████████████████| 108/108 [00:01<00:00, 86.94it/s]\n"
     ]
    },
    {
     "name": "stdout",
     "output_type": "stream",
     "text": [
      "Test Accuracy: 63.888888888888886%\n"
     ]
    },
    {
     "name": "stderr",
     "output_type": "stream",
     "text": [
      "Epoch [11/100]: 100%|████████████████████████████████████████████████████| 216/216 [00:23<00:00,  9.28it/s, loss=0.572]\n",
      "100%|████████████████████████████████████████████████████████████████████████████████| 108/108 [00:01<00:00, 84.69it/s]\n"
     ]
    },
    {
     "name": "stdout",
     "output_type": "stream",
     "text": [
      "Test Accuracy: 61.574074074074076%\n"
     ]
    },
    {
     "name": "stderr",
     "output_type": "stream",
     "text": [
      "Epoch [12/100]: 100%|████████████████████████████████████████████████████| 216/216 [00:23<00:00,  9.08it/s, loss=0.465]\n",
      "100%|████████████████████████████████████████████████████████████████████████████████| 108/108 [00:01<00:00, 85.36it/s]\n"
     ]
    },
    {
     "name": "stdout",
     "output_type": "stream",
     "text": [
      "Test Accuracy: 64.35185185185185%\n"
     ]
    },
    {
     "name": "stderr",
     "output_type": "stream",
     "text": [
      "Epoch [13/100]: 100%|████████████████████████████████████████████████████| 216/216 [00:23<00:00,  9.12it/s, loss=0.431]\n",
      "100%|████████████████████████████████████████████████████████████████████████████████| 108/108 [00:01<00:00, 78.64it/s]\n"
     ]
    },
    {
     "name": "stdout",
     "output_type": "stream",
     "text": [
      "Test Accuracy: 60.648148148148145%\n"
     ]
    },
    {
     "name": "stderr",
     "output_type": "stream",
     "text": [
      "Epoch [14/100]: 100%|████████████████████████████████████████████████████| 216/216 [00:23<00:00,  9.10it/s, loss=0.367]\n",
      "100%|████████████████████████████████████████████████████████████████████████████████| 108/108 [00:01<00:00, 87.15it/s]\n"
     ]
    },
    {
     "name": "stdout",
     "output_type": "stream",
     "text": [
      "Test Accuracy: 64.12037037037037%\n"
     ]
    },
    {
     "name": "stderr",
     "output_type": "stream",
     "text": [
      "Epoch [15/100]: 100%|████████████████████████████████████████████████████| 216/216 [00:23<00:00,  9.21it/s, loss=0.274]\n",
      "100%|████████████████████████████████████████████████████████████████████████████████| 108/108 [00:01<00:00, 86.59it/s]\n"
     ]
    },
    {
     "name": "stdout",
     "output_type": "stream",
     "text": [
      "Test Accuracy: 65.74074074074075%\n"
     ]
    },
    {
     "name": "stderr",
     "output_type": "stream",
     "text": [
      "Epoch [16/100]: 100%|████████████████████████████████████████████████████| 216/216 [00:23<00:00,  9.25it/s, loss=0.247]\n",
      "100%|████████████████████████████████████████████████████████████████████████████████| 108/108 [00:01<00:00, 87.43it/s]\n"
     ]
    },
    {
     "name": "stdout",
     "output_type": "stream",
     "text": [
      "Test Accuracy: 62.96296296296296%\n"
     ]
    },
    {
     "name": "stderr",
     "output_type": "stream",
     "text": [
      "Epoch [17/100]: 100%|████████████████████████████████████████████████████| 216/216 [00:23<00:00,  9.23it/s, loss=0.204]\n",
      "100%|████████████████████████████████████████████████████████████████████████████████| 108/108 [00:01<00:00, 83.38it/s]\n"
     ]
    },
    {
     "name": "stdout",
     "output_type": "stream",
     "text": [
      "Test Accuracy: 61.111111111111114%\n"
     ]
    },
    {
     "name": "stderr",
     "output_type": "stream",
     "text": [
      "Epoch [18/100]: 100%|████████████████████████████████████████████████████| 216/216 [00:23<00:00,  9.31it/s, loss=0.177]\n",
      "100%|████████████████████████████████████████████████████████████████████████████████| 108/108 [00:01<00:00, 88.50it/s]\n"
     ]
    },
    {
     "name": "stdout",
     "output_type": "stream",
     "text": [
      "Test Accuracy: 67.12962962962963%\n"
     ]
    },
    {
     "name": "stderr",
     "output_type": "stream",
     "text": [
      "Epoch [19/100]: 100%|████████████████████████████████████████████████████| 216/216 [00:23<00:00,  9.28it/s, loss=0.177]\n",
      "100%|████████████████████████████████████████████████████████████████████████████████| 108/108 [00:01<00:00, 80.94it/s]\n"
     ]
    },
    {
     "name": "stdout",
     "output_type": "stream",
     "text": [
      "Test Accuracy: 59.72222222222222%\n"
     ]
    },
    {
     "name": "stderr",
     "output_type": "stream",
     "text": [
      "Epoch [20/100]: 100%|████████████████████████████████████████████████████| 216/216 [00:23<00:00,  9.33it/s, loss=0.107]\n",
      "100%|████████████████████████████████████████████████████████████████████████████████| 108/108 [00:01<00:00, 82.36it/s]\n"
     ]
    },
    {
     "name": "stdout",
     "output_type": "stream",
     "text": [
      "Test Accuracy: 63.657407407407405%\n"
     ]
    },
    {
     "name": "stderr",
     "output_type": "stream",
     "text": [
      "Epoch [21/100]: 100%|████████████████████████████████████████████████████| 216/216 [00:22<00:00,  9.54it/s, loss=0.115]\n",
      "100%|████████████████████████████████████████████████████████████████████████████████| 108/108 [00:01<00:00, 90.05it/s]\n"
     ]
    },
    {
     "name": "stdout",
     "output_type": "stream",
     "text": [
      "Test Accuracy: 62.73148148148148%\n"
     ]
    },
    {
     "name": "stderr",
     "output_type": "stream",
     "text": [
      "Epoch [22/100]: 100%|███████████████████████████████████████████████████| 216/216 [00:22<00:00,  9.60it/s, loss=0.0926]\n",
      "100%|████████████████████████████████████████████████████████████████████████████████| 108/108 [00:01<00:00, 88.29it/s]\n"
     ]
    },
    {
     "name": "stdout",
     "output_type": "stream",
     "text": [
      "Test Accuracy: 62.5%\n"
     ]
    },
    {
     "name": "stderr",
     "output_type": "stream",
     "text": [
      "Epoch [23/100]: 100%|████████████████████████████████████████████████████| 216/216 [00:22<00:00,  9.58it/s, loss=0.126]\n",
      "100%|████████████████████████████████████████████████████████████████████████████████| 108/108 [00:01<00:00, 89.02it/s]\n"
     ]
    },
    {
     "name": "stdout",
     "output_type": "stream",
     "text": [
      "Test Accuracy: 67.5925925925926%\n"
     ]
    },
    {
     "name": "stderr",
     "output_type": "stream",
     "text": [
      "Epoch [24/100]: 100%|███████████████████████████████████████████████████| 216/216 [00:22<00:00,  9.59it/s, loss=0.0853]\n",
      "100%|████████████████████████████████████████████████████████████████████████████████| 108/108 [00:01<00:00, 89.09it/s]\n"
     ]
    },
    {
     "name": "stdout",
     "output_type": "stream",
     "text": [
      "Test Accuracy: 59.9537037037037%\n"
     ]
    },
    {
     "name": "stderr",
     "output_type": "stream",
     "text": [
      "Epoch [25/100]: 100%|███████████████████████████████████████████████████| 216/216 [00:22<00:00,  9.59it/s, loss=0.0949]\n",
      "100%|████████████████████████████████████████████████████████████████████████████████| 108/108 [00:01<00:00, 90.58it/s]\n"
     ]
    },
    {
     "name": "stdout",
     "output_type": "stream",
     "text": [
      "Test Accuracy: 66.43518518518519%\n"
     ]
    },
    {
     "name": "stderr",
     "output_type": "stream",
     "text": [
      "Epoch [26/100]: 100%|████████████████████████████████████████████████████| 216/216 [00:22<00:00,  9.60it/s, loss=0.109]\n",
      "100%|████████████████████████████████████████████████████████████████████████████████| 108/108 [00:01<00:00, 91.50it/s]\n"
     ]
    },
    {
     "name": "stdout",
     "output_type": "stream",
     "text": [
      "Test Accuracy: 61.574074074074076%\n"
     ]
    },
    {
     "name": "stderr",
     "output_type": "stream",
     "text": [
      "Epoch [27/100]: 100%|███████████████████████████████████████████████████| 216/216 [00:22<00:00,  9.59it/s, loss=0.0645]\n",
      "100%|████████████████████████████████████████████████████████████████████████████████| 108/108 [00:01<00:00, 87.43it/s]\n"
     ]
    },
    {
     "name": "stdout",
     "output_type": "stream",
     "text": [
      "Test Accuracy: 65.74074074074075%\n"
     ]
    },
    {
     "name": "stderr",
     "output_type": "stream",
     "text": [
      "Epoch [28/100]: 100%|███████████████████████████████████████████████████| 216/216 [00:22<00:00,  9.53it/s, loss=0.0623]\n",
      "100%|████████████████████████████████████████████████████████████████████████████████| 108/108 [00:01<00:00, 84.78it/s]\n"
     ]
    },
    {
     "name": "stdout",
     "output_type": "stream",
     "text": [
      "Test Accuracy: 66.43518518518519%\n"
     ]
    },
    {
     "name": "stderr",
     "output_type": "stream",
     "text": [
      "Epoch [29/100]: 100%|███████████████████████████████████████████████████| 216/216 [00:22<00:00,  9.56it/s, loss=0.0527]\n",
      "100%|████████████████████████████████████████████████████████████████████████████████| 108/108 [00:01<00:00, 85.99it/s]\n"
     ]
    },
    {
     "name": "stdout",
     "output_type": "stream",
     "text": [
      "Test Accuracy: 66.20370370370371%\n"
     ]
    },
    {
     "name": "stderr",
     "output_type": "stream",
     "text": [
      "Epoch [30/100]: 100%|███████████████████████████████████████████████████| 216/216 [00:22<00:00,  9.58it/s, loss=0.0344]\n",
      "100%|████████████████████████████████████████████████████████████████████████████████| 108/108 [00:01<00:00, 84.64it/s]\n"
     ]
    },
    {
     "name": "stdout",
     "output_type": "stream",
     "text": [
      "Test Accuracy: 67.82407407407408%\n"
     ]
    },
    {
     "name": "stderr",
     "output_type": "stream",
     "text": [
      "Epoch [31/100]: 100%|████████████████████████████████████████████████████| 216/216 [00:22<00:00,  9.49it/s, loss=0.151]\n",
      "100%|████████████████████████████████████████████████████████████████████████████████| 108/108 [00:01<00:00, 88.36it/s]\n"
     ]
    },
    {
     "name": "stdout",
     "output_type": "stream",
     "text": [
      "Test Accuracy: 64.81481481481481%\n"
     ]
    },
    {
     "name": "stderr",
     "output_type": "stream",
     "text": [
      "Epoch [32/100]: 100%|███████████████████████████████████████████████████| 216/216 [00:22<00:00,  9.49it/s, loss=0.0281]\n",
      "100%|████████████████████████████████████████████████████████████████████████████████| 108/108 [00:01<00:00, 90.51it/s]\n"
     ]
    },
    {
     "name": "stdout",
     "output_type": "stream",
     "text": [
      "Test Accuracy: 64.58333333333333%\n"
     ]
    },
    {
     "name": "stderr",
     "output_type": "stream",
     "text": [
      "Epoch [33/100]: 100%|███████████████████████████████████████████████████| 216/216 [00:23<00:00,  9.17it/s, loss=0.0148]\n",
      "100%|████████████████████████████████████████████████████████████████████████████████| 108/108 [00:01<00:00, 89.24it/s]\n"
     ]
    },
    {
     "name": "stdout",
     "output_type": "stream",
     "text": [
      "Test Accuracy: 68.51851851851852%\n"
     ]
    },
    {
     "name": "stderr",
     "output_type": "stream",
     "text": [
      "Epoch [34/100]: 100%|███████████████████████████████████████████████████| 216/216 [00:22<00:00,  9.41it/s, loss=0.0138]\n",
      "100%|████████████████████████████████████████████████████████████████████████████████| 108/108 [00:01<00:00, 89.02it/s]\n"
     ]
    },
    {
     "name": "stdout",
     "output_type": "stream",
     "text": [
      "Test Accuracy: 65.50925925925925%\n"
     ]
    },
    {
     "name": "stderr",
     "output_type": "stream",
     "text": [
      "Epoch [35/100]: 100%|███████████████████████████████████████████████████| 216/216 [00:23<00:00,  9.37it/s, loss=0.0595]\n",
      "100%|████████████████████████████████████████████████████████████████████████████████| 108/108 [00:01<00:00, 83.38it/s]\n"
     ]
    },
    {
     "name": "stdout",
     "output_type": "stream",
     "text": [
      "Test Accuracy: 68.28703703703704%\n"
     ]
    },
    {
     "name": "stderr",
     "output_type": "stream",
     "text": [
      "Epoch [36/100]: 100%|████████████████████████████████████████████████████| 216/216 [00:22<00:00,  9.59it/s, loss=0.125]\n",
      "100%|████████████████████████████████████████████████████████████████████████████████| 108/108 [00:01<00:00, 90.74it/s]\n"
     ]
    },
    {
     "name": "stdout",
     "output_type": "stream",
     "text": [
      "Test Accuracy: 64.35185185185185%\n"
     ]
    },
    {
     "name": "stderr",
     "output_type": "stream",
     "text": [
      "Epoch [37/100]: 100%|███████████████████████████████████████████████████| 216/216 [00:20<00:00, 10.57it/s, loss=0.0687]\n",
      "100%|████████████████████████████████████████████████████████████████████████████████| 108/108 [00:01<00:00, 95.64it/s]\n"
     ]
    },
    {
     "name": "stdout",
     "output_type": "stream",
     "text": [
      "Test Accuracy: 68.75%\n"
     ]
    },
    {
     "name": "stderr",
     "output_type": "stream",
     "text": [
      "Epoch [38/100]: 100%|███████████████████████████████████████████████████| 216/216 [00:22<00:00,  9.71it/s, loss=0.0522]\n",
      "100%|████████████████████████████████████████████████████████████████████████████████| 108/108 [00:01<00:00, 85.97it/s]\n"
     ]
    },
    {
     "name": "stdout",
     "output_type": "stream",
     "text": [
      "Test Accuracy: 66.20370370370371%\n"
     ]
    },
    {
     "name": "stderr",
     "output_type": "stream",
     "text": [
      "Epoch [39/100]: 100%|███████████████████████████████████████████████████| 216/216 [00:22<00:00,  9.73it/s, loss=0.0485]\n",
      "100%|████████████████████████████████████████████████████████████████████████████████| 108/108 [00:01<00:00, 84.88it/s]\n"
     ]
    },
    {
     "name": "stdout",
     "output_type": "stream",
     "text": [
      "Test Accuracy: 62.5%\n"
     ]
    },
    {
     "name": "stderr",
     "output_type": "stream",
     "text": [
      "Epoch [40/100]: 100%|███████████████████████████████████████████████████| 216/216 [00:22<00:00,  9.76it/s, loss=0.0408]\n",
      "100%|████████████████████████████████████████████████████████████████████████████████| 108/108 [00:01<00:00, 95.30it/s]\n"
     ]
    },
    {
     "name": "stdout",
     "output_type": "stream",
     "text": [
      "Test Accuracy: 67.36111111111111%\n"
     ]
    },
    {
     "name": "stderr",
     "output_type": "stream",
     "text": [
      "Epoch [41/100]: 100%|███████████████████████████████████████████████████| 216/216 [00:22<00:00,  9.45it/s, loss=0.0241]\n",
      "100%|████████████████████████████████████████████████████████████████████████████████| 108/108 [00:01<00:00, 86.04it/s]\n"
     ]
    },
    {
     "name": "stdout",
     "output_type": "stream",
     "text": [
      "Test Accuracy: 66.66666666666667%\n"
     ]
    },
    {
     "name": "stderr",
     "output_type": "stream",
     "text": [
      "Epoch [42/100]: 100%|███████████████████████████████████████████████████| 216/216 [00:23<00:00,  9.20it/s, loss=0.0491]\n",
      "100%|████████████████████████████████████████████████████████████████████████████████| 108/108 [00:01<00:00, 87.54it/s]\n"
     ]
    },
    {
     "name": "stdout",
     "output_type": "stream",
     "text": [
      "Test Accuracy: 64.35185185185185%\n"
     ]
    },
    {
     "name": "stderr",
     "output_type": "stream",
     "text": [
      "Epoch [43/100]: 100%|███████████████████████████████████████████████████| 216/216 [00:23<00:00,  9.26it/s, loss=0.0646]\n",
      "100%|████████████████████████████████████████████████████████████████████████████████| 108/108 [00:01<00:00, 88.58it/s]\n"
     ]
    },
    {
     "name": "stdout",
     "output_type": "stream",
     "text": [
      "Test Accuracy: 66.20370370370371%\n"
     ]
    },
    {
     "name": "stderr",
     "output_type": "stream",
     "text": [
      "Epoch [44/100]: 100%|███████████████████████████████████████████████████| 216/216 [00:23<00:00,  9.16it/s, loss=0.0281]\n",
      "100%|████████████████████████████████████████████████████████████████████████████████| 108/108 [00:01<00:00, 85.63it/s]\n"
     ]
    },
    {
     "name": "stdout",
     "output_type": "stream",
     "text": [
      "Test Accuracy: 64.35185185185185%\n"
     ]
    },
    {
     "name": "stderr",
     "output_type": "stream",
     "text": [
      "Epoch [45/100]: 100%|███████████████████████████████████████████████████| 216/216 [00:23<00:00,  9.27it/s, loss=0.0251]\n",
      "100%|████████████████████████████████████████████████████████████████████████████████| 108/108 [00:01<00:00, 82.74it/s]\n"
     ]
    },
    {
     "name": "stdout",
     "output_type": "stream",
     "text": [
      "Test Accuracy: 62.73148148148148%\n"
     ]
    },
    {
     "name": "stderr",
     "output_type": "stream",
     "text": [
      "Epoch [46/100]: 100%|███████████████████████████████████████████████████| 216/216 [00:23<00:00,  9.31it/s, loss=0.0956]\n",
      "100%|████████████████████████████████████████████████████████████████████████████████| 108/108 [00:01<00:00, 87.08it/s]\n"
     ]
    },
    {
     "name": "stdout",
     "output_type": "stream",
     "text": [
      "Test Accuracy: 61.574074074074076%\n"
     ]
    },
    {
     "name": "stderr",
     "output_type": "stream",
     "text": [
      "Epoch [47/100]: 100%|███████████████████████████████████████████████████| 216/216 [00:23<00:00,  9.28it/s, loss=0.0626]\n",
      "100%|████████████████████████████████████████████████████████████████████████████████| 108/108 [00:01<00:00, 85.76it/s]\n"
     ]
    },
    {
     "name": "stdout",
     "output_type": "stream",
     "text": [
      "Test Accuracy: 58.7962962962963%\n"
     ]
    },
    {
     "name": "stderr",
     "output_type": "stream",
     "text": [
      "Epoch [48/100]: 100%|████████████████████████████████████████████████████| 216/216 [00:23<00:00,  9.29it/s, loss=0.039]\n",
      "100%|████████████████████████████████████████████████████████████████████████████████| 108/108 [00:01<00:00, 89.53it/s]\n"
     ]
    },
    {
     "name": "stdout",
     "output_type": "stream",
     "text": [
      "Test Accuracy: 69.21296296296296%\n"
     ]
    },
    {
     "name": "stderr",
     "output_type": "stream",
     "text": [
      "Epoch [49/100]: 100%|███████████████████████████████████████████████████| 216/216 [00:23<00:00,  9.37it/s, loss=0.0367]\n",
      "100%|████████████████████████████████████████████████████████████████████████████████| 108/108 [00:01<00:00, 87.86it/s]\n"
     ]
    },
    {
     "name": "stdout",
     "output_type": "stream",
     "text": [
      "Test Accuracy: 68.28703703703704%\n"
     ]
    },
    {
     "name": "stderr",
     "output_type": "stream",
     "text": [
      "Epoch [50/100]: 100%|████████████████████████████████████████████████████| 216/216 [00:23<00:00,  9.29it/s, loss=0.019]\n",
      "100%|████████████████████████████████████████████████████████████████████████████████| 108/108 [00:01<00:00, 85.90it/s]\n"
     ]
    },
    {
     "name": "stdout",
     "output_type": "stream",
     "text": [
      "Test Accuracy: 69.21296296296296%\n"
     ]
    },
    {
     "name": "stderr",
     "output_type": "stream",
     "text": [
      "Epoch [51/100]: 100%|███████████████████████████████████████████████████| 216/216 [00:23<00:00,  9.27it/s, loss=0.0232]\n",
      "100%|████████████████████████████████████████████████████████████████████████████████| 108/108 [00:01<00:00, 88.07it/s]\n"
     ]
    },
    {
     "name": "stdout",
     "output_type": "stream",
     "text": [
      "Test Accuracy: 65.50925925925925%\n"
     ]
    },
    {
     "name": "stderr",
     "output_type": "stream",
     "text": [
      "Epoch [52/100]: 100%|███████████████████████████████████████████████████| 216/216 [00:23<00:00,  9.22it/s, loss=0.0332]\n",
      "100%|████████████████████████████████████████████████████████████████████████████████| 108/108 [00:01<00:00, 85.15it/s]\n"
     ]
    },
    {
     "name": "stdout",
     "output_type": "stream",
     "text": [
      "Test Accuracy: 67.12962962962963%\n"
     ]
    },
    {
     "name": "stderr",
     "output_type": "stream",
     "text": [
      "Epoch [53/100]: 100%|███████████████████████████████████████████████████| 216/216 [00:23<00:00,  9.21it/s, loss=0.0332]\n",
      "100%|████████████████████████████████████████████████████████████████████████████████| 108/108 [00:01<00:00, 88.50it/s]\n"
     ]
    },
    {
     "name": "stdout",
     "output_type": "stream",
     "text": [
      "Test Accuracy: 66.89814814814815%\n"
     ]
    },
    {
     "name": "stderr",
     "output_type": "stream",
     "text": [
      "Epoch [54/100]: 100%|███████████████████████████████████████████████████| 216/216 [00:23<00:00,  9.26it/s, loss=0.0276]\n",
      "100%|████████████████████████████████████████████████████████████████████████████████| 108/108 [00:01<00:00, 87.50it/s]\n"
     ]
    },
    {
     "name": "stdout",
     "output_type": "stream",
     "text": [
      "Test Accuracy: 65.74074074074075%\n"
     ]
    },
    {
     "name": "stderr",
     "output_type": "stream",
     "text": [
      "Epoch [55/100]: 100%|███████████████████████████████████████████████████| 216/216 [00:23<00:00,  9.21it/s, loss=0.0918]\n",
      "100%|████████████████████████████████████████████████████████████████████████████████| 108/108 [00:01<00:00, 84.42it/s]\n"
     ]
    },
    {
     "name": "stdout",
     "output_type": "stream",
     "text": [
      "Test Accuracy: 61.574074074074076%\n"
     ]
    },
    {
     "name": "stderr",
     "output_type": "stream",
     "text": [
      "Epoch [56/100]: 100%|███████████████████████████████████████████████████| 216/216 [00:23<00:00,  9.22it/s, loss=0.0426]\n",
      "100%|████████████████████████████████████████████████████████████████████████████████| 108/108 [00:01<00:00, 86.38it/s]\n"
     ]
    },
    {
     "name": "stdout",
     "output_type": "stream",
     "text": [
      "Test Accuracy: 67.82407407407408%\n"
     ]
    },
    {
     "name": "stderr",
     "output_type": "stream",
     "text": [
      "Epoch [57/100]: 100%|███████████████████████████████████████████████████| 216/216 [00:23<00:00,  9.25it/s, loss=0.0172]\n",
      "100%|████████████████████████████████████████████████████████████████████████████████| 108/108 [00:01<00:00, 87.36it/s]\n"
     ]
    },
    {
     "name": "stdout",
     "output_type": "stream",
     "text": [
      "Test Accuracy: 68.51851851851852%\n"
     ]
    },
    {
     "name": "stderr",
     "output_type": "stream",
     "text": [
      "Epoch [58/100]: 100%|██████████████████████████████████████████████████| 216/216 [00:23<00:00,  9.25it/s, loss=0.00577]\n",
      "100%|████████████████████████████████████████████████████████████████████████████████| 108/108 [00:01<00:00, 80.82it/s]\n"
     ]
    },
    {
     "name": "stdout",
     "output_type": "stream",
     "text": [
      "Test Accuracy: 64.58333333333333%\n"
     ]
    },
    {
     "name": "stderr",
     "output_type": "stream",
     "text": [
      "Epoch [59/100]: 100%|██████████████████████████████████████████████████| 216/216 [00:23<00:00,  9.23it/s, loss=0.00138]\n",
      "100%|████████████████████████████████████████████████████████████████████████████████| 108/108 [00:01<00:00, 87.29it/s]\n"
     ]
    },
    {
     "name": "stdout",
     "output_type": "stream",
     "text": [
      "Test Accuracy: 67.12962962962963%\n"
     ]
    },
    {
     "name": "stderr",
     "output_type": "stream",
     "text": [
      "Epoch [60/100]: 100%|█████████████████████████████████████████████████| 216/216 [00:23<00:00,  9.27it/s, loss=0.000826]\n",
      "100%|████████████████████████████████████████████████████████████████████████████████| 108/108 [00:01<00:00, 85.56it/s]\n"
     ]
    },
    {
     "name": "stdout",
     "output_type": "stream",
     "text": [
      "Test Accuracy: 68.75%\n"
     ]
    },
    {
     "name": "stderr",
     "output_type": "stream",
     "text": [
      "Epoch [61/100]: 100%|██████████████████████████████████████████████████| 216/216 [00:23<00:00,  9.20it/s, loss=0.00044]\n",
      "100%|████████████████████████████████████████████████████████████████████████████████| 108/108 [00:01<00:00, 83.96it/s]\n"
     ]
    },
    {
     "name": "stdout",
     "output_type": "stream",
     "text": [
      "Test Accuracy: 68.51851851851852%\n"
     ]
    },
    {
     "name": "stderr",
     "output_type": "stream",
     "text": [
      "Epoch [62/100]: 100%|█████████████████████████████████████████████████| 216/216 [00:23<00:00,  9.23it/s, loss=0.000603]\n",
      "100%|████████████████████████████████████████████████████████████████████████████████| 108/108 [00:01<00:00, 86.38it/s]\n"
     ]
    },
    {
     "name": "stdout",
     "output_type": "stream",
     "text": [
      "Test Accuracy: 65.74074074074075%\n"
     ]
    },
    {
     "name": "stderr",
     "output_type": "stream",
     "text": [
      "Epoch [63/100]: 100%|█████████████████████████████████████████████████| 216/216 [00:23<00:00,  9.23it/s, loss=0.000265]\n",
      "100%|████████████████████████████████████████████████████████████████████████████████| 108/108 [00:01<00:00, 86.87it/s]\n"
     ]
    },
    {
     "name": "stdout",
     "output_type": "stream",
     "text": [
      "Test Accuracy: 66.20370370370371%\n"
     ]
    },
    {
     "name": "stderr",
     "output_type": "stream",
     "text": [
      "Epoch [64/100]: 100%|█████████████████████████████████████████████████| 216/216 [00:23<00:00,  9.24it/s, loss=0.000124]\n",
      "100%|████████████████████████████████████████████████████████████████████████████████| 108/108 [00:01<00:00, 88.87it/s]\n"
     ]
    },
    {
     "name": "stdout",
     "output_type": "stream",
     "text": [
      "Test Accuracy: 67.12962962962963%\n"
     ]
    },
    {
     "name": "stderr",
     "output_type": "stream",
     "text": [
      "Epoch [65/100]: 100%|█████████████████████████████████████████████████| 216/216 [00:23<00:00,  9.20it/s, loss=0.000363]\n",
      "100%|████████████████████████████████████████████████████████████████████████████████| 108/108 [00:01<00:00, 84.22it/s]\n"
     ]
    },
    {
     "name": "stdout",
     "output_type": "stream",
     "text": [
      "Test Accuracy: 69.44444444444444%\n"
     ]
    },
    {
     "name": "stderr",
     "output_type": "stream",
     "text": [
      "Epoch [66/100]: 100%|███████████████████████████████████████████████████| 216/216 [00:23<00:00,  9.26it/s, loss=0.0181]\n",
      "100%|████████████████████████████████████████████████████████████████████████████████| 108/108 [00:01<00:00, 86.17it/s]\n"
     ]
    },
    {
     "name": "stdout",
     "output_type": "stream",
     "text": [
      "Test Accuracy: 59.72222222222222%\n"
     ]
    },
    {
     "name": "stderr",
     "output_type": "stream",
     "text": [
      "Epoch [67/100]: 100%|████████████████████████████████████████████████████| 216/216 [00:23<00:00,  9.26it/s, loss=0.306]\n",
      "100%|████████████████████████████████████████████████████████████████████████████████| 108/108 [00:01<00:00, 87.93it/s]\n"
     ]
    },
    {
     "name": "stdout",
     "output_type": "stream",
     "text": [
      "Test Accuracy: 64.35185185185185%\n"
     ]
    },
    {
     "name": "stderr",
     "output_type": "stream",
     "text": [
      "Epoch [68/100]: 100%|███████████████████████████████████████████████████| 216/216 [00:23<00:00,  9.26it/s, loss=0.0331]\n",
      "100%|████████████████████████████████████████████████████████████████████████████████| 108/108 [00:01<00:00, 86.80it/s]\n"
     ]
    },
    {
     "name": "stdout",
     "output_type": "stream",
     "text": [
      "Test Accuracy: 65.97222222222223%\n"
     ]
    },
    {
     "name": "stderr",
     "output_type": "stream",
     "text": [
      "Epoch [69/100]: 100%|██████████████████████████████████████████████████| 216/216 [00:23<00:00,  9.25it/s, loss=0.00734]\n",
      "100%|████████████████████████████████████████████████████████████████████████████████| 108/108 [00:01<00:00, 87.22it/s]\n"
     ]
    },
    {
     "name": "stdout",
     "output_type": "stream",
     "text": [
      "Test Accuracy: 65.97222222222223%\n"
     ]
    },
    {
     "name": "stderr",
     "output_type": "stream",
     "text": [
      "Epoch [70/100]: 100%|██████████████████████████████████████████████████| 216/216 [00:23<00:00,  9.22it/s, loss=0.00505]\n",
      "100%|████████████████████████████████████████████████████████████████████████████████| 108/108 [00:01<00:00, 85.97it/s]\n"
     ]
    },
    {
     "name": "stdout",
     "output_type": "stream",
     "text": [
      "Test Accuracy: 68.28703703703704%\n"
     ]
    },
    {
     "name": "stderr",
     "output_type": "stream",
     "text": [
      "Epoch [71/100]: 100%|█████████████████████████████████████████████████| 216/216 [00:23<00:00,  9.23it/s, loss=0.000976]\n",
      "100%|████████████████████████████████████████████████████████████████████████████████| 108/108 [00:01<00:00, 84.82it/s]\n"
     ]
    },
    {
     "name": "stdout",
     "output_type": "stream",
     "text": [
      "Test Accuracy: 67.82407407407408%\n"
     ]
    },
    {
     "name": "stderr",
     "output_type": "stream",
     "text": [
      "Epoch [72/100]: 100%|█████████████████████████████████████████████████| 216/216 [00:23<00:00,  9.24it/s, loss=0.000811]\n",
      "100%|████████████████████████████████████████████████████████████████████████████████| 108/108 [00:01<00:00, 86.94it/s]\n"
     ]
    },
    {
     "name": "stdout",
     "output_type": "stream",
     "text": [
      "Test Accuracy: 67.12962962962963%\n"
     ]
    },
    {
     "name": "stderr",
     "output_type": "stream",
     "text": [
      "Epoch [73/100]: 100%|█████████████████████████████████████████████████| 216/216 [00:23<00:00,  9.20it/s, loss=0.000518]\n",
      "100%|████████████████████████████████████████████████████████████████████████████████| 108/108 [00:01<00:00, 88.36it/s]\n"
     ]
    },
    {
     "name": "stdout",
     "output_type": "stream",
     "text": [
      "Test Accuracy: 67.12962962962963%\n"
     ]
    },
    {
     "name": "stderr",
     "output_type": "stream",
     "text": [
      "Epoch [74/100]: 100%|█████████████████████████████████████████████████| 216/216 [00:23<00:00,  9.27it/s, loss=0.000279]\n",
      "100%|████████████████████████████████████████████████████████████████████████████████| 108/108 [00:01<00:00, 83.51it/s]\n"
     ]
    },
    {
     "name": "stdout",
     "output_type": "stream",
     "text": [
      "Test Accuracy: 67.5925925925926%\n"
     ]
    },
    {
     "name": "stderr",
     "output_type": "stream",
     "text": [
      "Epoch [75/100]: 100%|█████████████████████████████████████████████████| 216/216 [00:23<00:00,  9.22it/s, loss=0.000206]\n",
      "100%|████████████████████████████████████████████████████████████████████████████████| 108/108 [00:01<00:00, 84.62it/s]\n"
     ]
    },
    {
     "name": "stdout",
     "output_type": "stream",
     "text": [
      "Test Accuracy: 67.5925925925926%\n"
     ]
    },
    {
     "name": "stderr",
     "output_type": "stream",
     "text": [
      "Epoch [76/100]: 100%|█████████████████████████████████████████████████| 216/216 [00:23<00:00,  9.22it/s, loss=0.000271]\n",
      "100%|████████████████████████████████████████████████████████████████████████████████| 108/108 [00:01<00:00, 84.49it/s]\n"
     ]
    },
    {
     "name": "stdout",
     "output_type": "stream",
     "text": [
      "Test Accuracy: 66.89814814814815%\n"
     ]
    },
    {
     "name": "stderr",
     "output_type": "stream",
     "text": [
      "Epoch [77/100]: 100%|███████████████████████████████████████████████████| 216/216 [00:23<00:00,  9.23it/s, loss=0.0003]\n",
      "100%|████████████████████████████████████████████████████████████████████████████████| 108/108 [00:01<00:00, 87.57it/s]\n"
     ]
    },
    {
     "name": "stdout",
     "output_type": "stream",
     "text": [
      "Test Accuracy: 67.5925925925926%\n"
     ]
    },
    {
     "name": "stderr",
     "output_type": "stream",
     "text": [
      "Epoch [78/100]: 100%|█████████████████████████████████████████████████| 216/216 [00:23<00:00,  9.24it/s, loss=0.000236]\n",
      "100%|████████████████████████████████████████████████████████████████████████████████| 108/108 [00:01<00:00, 88.14it/s]\n"
     ]
    },
    {
     "name": "stdout",
     "output_type": "stream",
     "text": [
      "Test Accuracy: 68.28703703703704%\n"
     ]
    },
    {
     "name": "stderr",
     "output_type": "stream",
     "text": [
      "Epoch [79/100]: 100%|█████████████████████████████████████████████████| 216/216 [00:23<00:00,  9.22it/s, loss=0.000182]\n",
      "100%|████████████████████████████████████████████████████████████████████████████████| 108/108 [00:01<00:00, 86.94it/s]\n"
     ]
    },
    {
     "name": "stdout",
     "output_type": "stream",
     "text": [
      "Test Accuracy: 68.98148148148148%\n"
     ]
    },
    {
     "name": "stderr",
     "output_type": "stream",
     "text": [
      "Epoch [80/100]: 100%|█████████████████████████████████████████████████| 216/216 [00:23<00:00,  9.23it/s, loss=0.000111]\n",
      "100%|████████████████████████████████████████████████████████████████████████████████| 108/108 [00:01<00:00, 86.80it/s]\n"
     ]
    },
    {
     "name": "stdout",
     "output_type": "stream",
     "text": [
      "Test Accuracy: 67.36111111111111%\n"
     ]
    },
    {
     "name": "stderr",
     "output_type": "stream",
     "text": [
      "Epoch [81/100]: 100%|█████████████████████████████████████████████████| 216/216 [00:23<00:00,  9.26it/s, loss=0.000139]\n",
      "100%|████████████████████████████████████████████████████████████████████████████████| 108/108 [00:01<00:00, 87.43it/s]\n"
     ]
    },
    {
     "name": "stdout",
     "output_type": "stream",
     "text": [
      "Test Accuracy: 68.75%\n"
     ]
    },
    {
     "name": "stderr",
     "output_type": "stream",
     "text": [
      "Epoch [82/100]: 100%|██████████████████████████████████████████████████| 216/216 [00:23<00:00,  9.27it/s, loss=0.00012]\n",
      "100%|████████████████████████████████████████████████████████████████████████████████| 108/108 [00:01<00:00, 88.87it/s]\n"
     ]
    },
    {
     "name": "stdout",
     "output_type": "stream",
     "text": [
      "Test Accuracy: 67.5925925925926%\n"
     ]
    },
    {
     "name": "stderr",
     "output_type": "stream",
     "text": [
      "Epoch [83/100]: 100%|█████████████████████████████████████████████████████| 216/216 [00:23<00:00,  9.25it/s, loss=0.31]\n",
      "100%|████████████████████████████████████████████████████████████████████████████████| 108/108 [00:01<00:00, 87.93it/s]\n"
     ]
    },
    {
     "name": "stdout",
     "output_type": "stream",
     "text": [
      "Test Accuracy: 66.20370370370371%\n"
     ]
    },
    {
     "name": "stderr",
     "output_type": "stream",
     "text": [
      "Epoch [84/100]: 100%|████████████████████████████████████████████████████| 216/216 [00:23<00:00,  9.22it/s, loss=0.105]\n",
      "100%|████████████████████████████████████████████████████████████████████████████████| 108/108 [00:01<00:00, 83.44it/s]\n"
     ]
    },
    {
     "name": "stdout",
     "output_type": "stream",
     "text": [
      "Test Accuracy: 67.5925925925926%\n"
     ]
    },
    {
     "name": "stderr",
     "output_type": "stream",
     "text": [
      "Epoch [85/100]: 100%|███████████████████████████████████████████████████| 216/216 [00:23<00:00,  9.07it/s, loss=0.0309]\n",
      "100%|████████████████████████████████████████████████████████████████████████████████| 108/108 [00:01<00:00, 86.59it/s]\n"
     ]
    },
    {
     "name": "stdout",
     "output_type": "stream",
     "text": [
      "Test Accuracy: 66.66666666666667%\n"
     ]
    },
    {
     "name": "stderr",
     "output_type": "stream",
     "text": [
      "Epoch [86/100]: 100%|██████████████████████████████████████████████████| 216/216 [00:23<00:00,  9.12it/s, loss=0.00659]\n",
      "100%|████████████████████████████████████████████████████████████████████████████████| 108/108 [00:01<00:00, 76.15it/s]\n"
     ]
    },
    {
     "name": "stdout",
     "output_type": "stream",
     "text": [
      "Test Accuracy: 70.13888888888889%\n"
     ]
    },
    {
     "name": "stderr",
     "output_type": "stream",
     "text": [
      "Epoch [87/100]: 100%|██████████████████████████████████████████████████| 216/216 [00:22<00:00,  9.43it/s, loss=0.00786]\n",
      "100%|████████████████████████████████████████████████████████████████████████████████| 108/108 [00:01<00:00, 86.87it/s]\n"
     ]
    },
    {
     "name": "stdout",
     "output_type": "stream",
     "text": [
      "Test Accuracy: 68.98148148148148%\n"
     ]
    },
    {
     "name": "stderr",
     "output_type": "stream",
     "text": [
      "Epoch [88/100]: 100%|███████████████████████████████████████████████████| 216/216 [00:22<00:00,  9.49it/s, loss=0.0105]\n",
      "100%|████████████████████████████████████████████████████████████████████████████████| 108/108 [00:01<00:00, 88.36it/s]\n"
     ]
    },
    {
     "name": "stdout",
     "output_type": "stream",
     "text": [
      "Test Accuracy: 68.28703703703704%\n"
     ]
    },
    {
     "name": "stderr",
     "output_type": "stream",
     "text": [
      "Epoch [89/100]: 100%|███████████████████████████████████████████████████| 216/216 [00:23<00:00,  9.24it/s, loss=0.0116]\n",
      "100%|████████████████████████████████████████████████████████████████████████████████| 108/108 [00:01<00:00, 85.42it/s]\n"
     ]
    },
    {
     "name": "stdout",
     "output_type": "stream",
     "text": [
      "Test Accuracy: 68.51851851851852%\n"
     ]
    },
    {
     "name": "stderr",
     "output_type": "stream",
     "text": [
      "Epoch [90/100]: 100%|█████████████████████████████████████████████████████| 216/216 [00:23<00:00,  9.19it/s, loss=0.05]\n",
      "100%|████████████████████████████████████████████████████████████████████████████████| 108/108 [00:01<00:00, 87.22it/s]\n"
     ]
    },
    {
     "name": "stdout",
     "output_type": "stream",
     "text": [
      "Test Accuracy: 68.51851851851852%\n"
     ]
    },
    {
     "name": "stderr",
     "output_type": "stream",
     "text": [
      "Epoch [91/100]: 100%|███████████████████████████████████████████████████| 216/216 [00:23<00:00,  9.25it/s, loss=0.0437]\n",
      "100%|████████████████████████████████████████████████████████████████████████████████| 108/108 [00:01<00:00, 87.86it/s]\n"
     ]
    },
    {
     "name": "stdout",
     "output_type": "stream",
     "text": [
      "Test Accuracy: 66.43518518518519%\n"
     ]
    },
    {
     "name": "stderr",
     "output_type": "stream",
     "text": [
      "Epoch [92/100]: 100%|███████████████████████████████████████████████████| 216/216 [00:23<00:00,  9.34it/s, loss=0.0114]\n",
      "100%|████████████████████████████████████████████████████████████████████████████████| 108/108 [00:01<00:00, 80.34it/s]\n"
     ]
    },
    {
     "name": "stdout",
     "output_type": "stream",
     "text": [
      "Test Accuracy: 67.36111111111111%\n"
     ]
    },
    {
     "name": "stderr",
     "output_type": "stream",
     "text": [
      "Epoch [93/100]: 100%|██████████████████████████████████████████████████| 216/216 [00:23<00:00,  9.22it/s, loss=0.00243]\n",
      "100%|████████████████████████████████████████████████████████████████████████████████| 108/108 [00:01<00:00, 85.56it/s]\n"
     ]
    },
    {
     "name": "stdout",
     "output_type": "stream",
     "text": [
      "Test Accuracy: 66.43518518518519%\n"
     ]
    },
    {
     "name": "stderr",
     "output_type": "stream",
     "text": [
      "Epoch [94/100]: 100%|███████████████████████████████████████████████████| 216/216 [00:22<00:00,  9.43it/s, loss=0.0138]\n",
      "100%|████████████████████████████████████████████████████████████████████████████████| 108/108 [00:01<00:00, 87.01it/s]\n"
     ]
    },
    {
     "name": "stdout",
     "output_type": "stream",
     "text": [
      "Test Accuracy: 67.82407407407408%\n"
     ]
    },
    {
     "name": "stderr",
     "output_type": "stream",
     "text": [
      "Epoch [95/100]: 100%|████████████████████████████████████████████████████| 216/216 [00:23<00:00,  9.34it/s, loss=0.021]\n",
      "100%|████████████████████████████████████████████████████████████████████████████████| 108/108 [00:01<00:00, 89.09it/s]\n"
     ]
    },
    {
     "name": "stdout",
     "output_type": "stream",
     "text": [
      "Test Accuracy: 67.5925925925926%\n"
     ]
    },
    {
     "name": "stderr",
     "output_type": "stream",
     "text": [
      "Epoch [96/100]: 100%|███████████████████████████████████████████████████| 216/216 [00:22<00:00,  9.42it/s, loss=0.0664]\n",
      "100%|████████████████████████████████████████████████████████████████████████████████| 108/108 [00:01<00:00, 90.13it/s]\n"
     ]
    },
    {
     "name": "stdout",
     "output_type": "stream",
     "text": [
      "Test Accuracy: 67.36111111111111%\n"
     ]
    },
    {
     "name": "stderr",
     "output_type": "stream",
     "text": [
      "Epoch [97/100]: 100%|███████████████████████████████████████████████████| 216/216 [00:22<00:00,  9.48it/s, loss=0.0246]\n",
      "100%|████████████████████████████████████████████████████████████████████████████████| 108/108 [00:01<00:00, 86.87it/s]\n"
     ]
    },
    {
     "name": "stdout",
     "output_type": "stream",
     "text": [
      "Test Accuracy: 67.12962962962963%\n"
     ]
    },
    {
     "name": "stderr",
     "output_type": "stream",
     "text": [
      "Epoch [98/100]: 100%|███████████████████████████████████████████████████| 216/216 [00:23<00:00,  9.21it/s, loss=0.0121]\n",
      "100%|████████████████████████████████████████████████████████████████████████████████| 108/108 [00:01<00:00, 86.66it/s]\n"
     ]
    },
    {
     "name": "stdout",
     "output_type": "stream",
     "text": [
      "Test Accuracy: 67.12962962962963%\n"
     ]
    },
    {
     "name": "stderr",
     "output_type": "stream",
     "text": [
      "Epoch [99/100]: 100%|██████████████████████████████████████████████████| 216/216 [00:23<00:00,  9.26it/s, loss=0.00769]\n",
      "100%|████████████████████████████████████████████████████████████████████████████████| 108/108 [00:01<00:00, 90.81it/s]\n"
     ]
    },
    {
     "name": "stdout",
     "output_type": "stream",
     "text": [
      "Test Accuracy: 66.20370370370371%\n"
     ]
    },
    {
     "name": "stderr",
     "output_type": "stream",
     "text": [
      "Epoch [100/100]: 100%|█████████████████████████████████████████████████| 216/216 [00:23<00:00,  9.10it/s, loss=0.00271]\n",
      "100%|████████████████████████████████████████████████████████████████████████████████| 108/108 [00:01<00:00, 86.04it/s]\n"
     ]
    },
    {
     "name": "stdout",
     "output_type": "stream",
     "text": [
      "Test Accuracy: 68.05555555555556%\n",
      "Training finished!\n"
     ]
    }
   ],
   "source": [
    "for epoch in range(num_epochs):\n",
    "    running_loss = 0.0\n",
    "    loop = tqdm(dataloader, total=len(dataloader), leave=True)\n",
    "    model.train()\n",
    "    \n",
    "    for images, labels in loop:\n",
    "        images = images.to(device)\n",
    "        labels = labels.to(device)\n",
    "\n",
    "        # Forward pass\n",
    "        outputs = model(images)                                                                          \n",
    "        loss = criterion(outputs, labels)\n",
    "\n",
    "        # Backward and optimize\n",
    "        optimizer.zero_grad()\n",
    "        loss.backward()\n",
    "        optimizer.step()\n",
    "\n",
    "        running_loss += loss.item()\n",
    "        loop.set_description(f'Epoch [{epoch+1}/{num_epochs}]')\n",
    "        loop.set_postfix(loss=running_loss / (len(dataloader)))\n",
    "    test(model,test_loader)\n",
    "    torch.save(model.state_dict(), \"result/model_resnet50_final_{}.pth\".format(epoch))\n",
    "    \n",
    "print('Training finished!')"
   ]
  },
  {
   "cell_type": "code",
   "execution_count": 57,
   "id": "dd16e561",
   "metadata": {},
   "outputs": [],
   "source": [
    "state = torch.load(\"result/model_resnet50_final_85.pth\")"
   ]
  },
  {
   "cell_type": "code",
   "execution_count": 58,
   "id": "585f78b3",
   "metadata": {},
   "outputs": [
    {
     "data": {
      "text/plain": [
       "<All keys matched successfully>"
      ]
     },
     "execution_count": 58,
     "metadata": {},
     "output_type": "execute_result"
    }
   ],
   "source": [
    "model = resnet50()\n",
    "num_features = model.fc.in_features\n",
    "num_classes = 6\n",
    "model.fc = nn.Linear(num_features, num_classes) \n",
    "model.load_state_dict(state)"
   ]
  },
  {
   "cell_type": "code",
   "execution_count": 59,
   "id": "4578ff6e",
   "metadata": {},
   "outputs": [],
   "source": [
    "model = model.to(device)"
   ]
  },
  {
   "cell_type": "code",
   "execution_count": 60,
   "id": "9f86c452",
   "metadata": {},
   "outputs": [
    {
     "name": "stderr",
     "output_type": "stream",
     "text": [
      "100%|██████████████████████████████████████████████████████████████████████████████| 2106/2106 [00:30<00:00, 68.51it/s]"
     ]
    },
    {
     "name": "stdout",
     "output_type": "stream",
     "text": [
      "Test Accuracy: 19.931149097815766%\n"
     ]
    },
    {
     "name": "stderr",
     "output_type": "stream",
     "text": [
      "\n"
     ]
    },
    {
     "data": {
      "text/plain": [
       "19.931149097815766"
      ]
     },
     "execution_count": 60,
     "metadata": {},
     "output_type": "execute_result"
    }
   ],
   "source": [
    "test(model,test_loader)"
   ]
  },
  {
   "cell_type": "code",
   "execution_count": 71,
   "id": "e13cfc6f",
   "metadata": {},
   "outputs": [],
   "source": [
    "from keras.models import Sequential\n",
    "from keras import layers, optimizers, callbacks\n",
    "import keras"
   ]
  },
  {
   "cell_type": "code",
   "execution_count": 72,
   "id": "e5a2c203",
   "metadata": {},
   "outputs": [
    {
     "ename": "NotImplementedError",
     "evalue": "Cannot convert a symbolic Tensor (lstm_3/strided_slice:0) to a numpy array. This error may indicate that you're trying to pass a Tensor to a NumPy call, which is not supported",
     "output_type": "error",
     "traceback": [
      "\u001b[1;31m---------------------------------------------------------------------------\u001b[0m",
      "\u001b[1;31mNotImplementedError\u001b[0m                       Traceback (most recent call last)",
      "Input \u001b[1;32mIn [72]\u001b[0m, in \u001b[0;36m<cell line: 2>\u001b[1;34m()\u001b[0m\n\u001b[0;32m      1\u001b[0m MODEL \u001b[38;5;241m=\u001b[39m Sequential()\n\u001b[1;32m----> 2\u001b[0m \u001b[43mMODEL\u001b[49m\u001b[38;5;241;43m.\u001b[39;49m\u001b[43madd\u001b[49m\u001b[43m(\u001b[49m\u001b[43mlayers\u001b[49m\u001b[38;5;241;43m.\u001b[39;49m\u001b[43mLSTM\u001b[49m\u001b[43m(\u001b[49m\u001b[38;5;241;43m256\u001b[39;49m\u001b[43m,\u001b[49m\u001b[43m \u001b[49m\u001b[43mreturn_sequences\u001b[49m\u001b[38;5;241;43m=\u001b[39;49m\u001b[38;5;28;43;01mTrue\u001b[39;49;00m\u001b[43m,\u001b[49m\u001b[43m \u001b[49m\u001b[43minput_shape\u001b[49m\u001b[38;5;241;43m=\u001b[39;49m\u001b[43m(\u001b[49m\u001b[43mX\u001b[49m\u001b[38;5;241;43m.\u001b[39;49m\u001b[43mshape\u001b[49m\u001b[43m[\u001b[49m\u001b[38;5;241;43m1\u001b[39;49m\u001b[43m:\u001b[49m\u001b[38;5;241;43m3\u001b[39;49m\u001b[43m]\u001b[49m\u001b[43m)\u001b[49m\u001b[43m)\u001b[49m\u001b[43m)\u001b[49m\n\u001b[0;32m      3\u001b[0m MODEL\u001b[38;5;241m.\u001b[39madd(layers\u001b[38;5;241m.\u001b[39mLSTM(\u001b[38;5;241m256\u001b[39m))\n\u001b[0;32m      4\u001b[0m MODEL\u001b[38;5;241m.\u001b[39madd(layers\u001b[38;5;241m.\u001b[39mDense(\u001b[38;5;241m6\u001b[39m, activation\u001b[38;5;241m=\u001b[39m\u001b[38;5;124m'\u001b[39m\u001b[38;5;124msoftmax\u001b[39m\u001b[38;5;124m'\u001b[39m))\n",
      "File \u001b[1;32m~\\anaconda3\\lib\\site-packages\\tensorflow\\python\\training\\tracking\\base.py:517\u001b[0m, in \u001b[0;36mno_automatic_dependency_tracking.<locals>._method_wrapper\u001b[1;34m(self, *args, **kwargs)\u001b[0m\n\u001b[0;32m    515\u001b[0m \u001b[38;5;28mself\u001b[39m\u001b[38;5;241m.\u001b[39m_self_setattr_tracking \u001b[38;5;241m=\u001b[39m \u001b[38;5;28;01mFalse\u001b[39;00m  \u001b[38;5;66;03m# pylint: disable=protected-access\u001b[39;00m\n\u001b[0;32m    516\u001b[0m \u001b[38;5;28;01mtry\u001b[39;00m:\n\u001b[1;32m--> 517\u001b[0m   result \u001b[38;5;241m=\u001b[39m \u001b[43mmethod\u001b[49m\u001b[43m(\u001b[49m\u001b[38;5;28;43mself\u001b[39;49m\u001b[43m,\u001b[49m\u001b[43m \u001b[49m\u001b[38;5;241;43m*\u001b[39;49m\u001b[43margs\u001b[49m\u001b[43m,\u001b[49m\u001b[43m \u001b[49m\u001b[38;5;241;43m*\u001b[39;49m\u001b[38;5;241;43m*\u001b[39;49m\u001b[43mkwargs\u001b[49m\u001b[43m)\u001b[49m\n\u001b[0;32m    518\u001b[0m \u001b[38;5;28;01mfinally\u001b[39;00m:\n\u001b[0;32m    519\u001b[0m   \u001b[38;5;28mself\u001b[39m\u001b[38;5;241m.\u001b[39m_self_setattr_tracking \u001b[38;5;241m=\u001b[39m previous_value  \u001b[38;5;66;03m# pylint: disable=protected-access\u001b[39;00m\n",
      "File \u001b[1;32m~\\anaconda3\\lib\\site-packages\\tensorflow\\python\\keras\\engine\\sequential.py:208\u001b[0m, in \u001b[0;36mSequential.add\u001b[1;34m(self, layer)\u001b[0m\n\u001b[0;32m    203\u001b[0m     x \u001b[38;5;241m=\u001b[39m input_layer\u001b[38;5;241m.\u001b[39mInput(\n\u001b[0;32m    204\u001b[0m         batch_shape\u001b[38;5;241m=\u001b[39mbatch_shape, dtype\u001b[38;5;241m=\u001b[39mdtype, name\u001b[38;5;241m=\u001b[39mlayer\u001b[38;5;241m.\u001b[39mname \u001b[38;5;241m+\u001b[39m \u001b[38;5;124m'\u001b[39m\u001b[38;5;124m_input\u001b[39m\u001b[38;5;124m'\u001b[39m)\n\u001b[0;32m    205\u001b[0m     \u001b[38;5;66;03m# This will build the current layer\u001b[39;00m\n\u001b[0;32m    206\u001b[0m     \u001b[38;5;66;03m# and create the node connecting the current layer\u001b[39;00m\n\u001b[0;32m    207\u001b[0m     \u001b[38;5;66;03m# to the input layer we just created.\u001b[39;00m\n\u001b[1;32m--> 208\u001b[0m     \u001b[43mlayer\u001b[49m\u001b[43m(\u001b[49m\u001b[43mx\u001b[49m\u001b[43m)\u001b[49m\n\u001b[0;32m    209\u001b[0m     set_inputs \u001b[38;5;241m=\u001b[39m \u001b[38;5;28;01mTrue\u001b[39;00m\n\u001b[0;32m    211\u001b[0m \u001b[38;5;28;01mif\u001b[39;00m set_inputs:\n",
      "File \u001b[1;32m~\\anaconda3\\lib\\site-packages\\tensorflow\\python\\keras\\layers\\recurrent.py:660\u001b[0m, in \u001b[0;36mRNN.__call__\u001b[1;34m(self, inputs, initial_state, constants, **kwargs)\u001b[0m\n\u001b[0;32m    654\u001b[0m inputs, initial_state, constants \u001b[38;5;241m=\u001b[39m _standardize_args(inputs,\n\u001b[0;32m    655\u001b[0m                                                      initial_state,\n\u001b[0;32m    656\u001b[0m                                                      constants,\n\u001b[0;32m    657\u001b[0m                                                      \u001b[38;5;28mself\u001b[39m\u001b[38;5;241m.\u001b[39m_num_constants)\n\u001b[0;32m    659\u001b[0m \u001b[38;5;28;01mif\u001b[39;00m initial_state \u001b[38;5;129;01mis\u001b[39;00m \u001b[38;5;28;01mNone\u001b[39;00m \u001b[38;5;129;01mand\u001b[39;00m constants \u001b[38;5;129;01mis\u001b[39;00m \u001b[38;5;28;01mNone\u001b[39;00m:\n\u001b[1;32m--> 660\u001b[0m   \u001b[38;5;28;01mreturn\u001b[39;00m \u001b[38;5;28;43msuper\u001b[39;49m\u001b[43m(\u001b[49m\u001b[43mRNN\u001b[49m\u001b[43m,\u001b[49m\u001b[43m \u001b[49m\u001b[38;5;28;43mself\u001b[39;49m\u001b[43m)\u001b[49m\u001b[38;5;241;43m.\u001b[39;49m\u001b[38;5;21;43m__call__\u001b[39;49m\u001b[43m(\u001b[49m\u001b[43minputs\u001b[49m\u001b[43m,\u001b[49m\u001b[43m \u001b[49m\u001b[38;5;241;43m*\u001b[39;49m\u001b[38;5;241;43m*\u001b[39;49m\u001b[43mkwargs\u001b[49m\u001b[43m)\u001b[49m\n\u001b[0;32m    662\u001b[0m \u001b[38;5;66;03m# If any of `initial_state` or `constants` are specified and are Keras\u001b[39;00m\n\u001b[0;32m    663\u001b[0m \u001b[38;5;66;03m# tensors, then add them to the inputs and temporarily modify the\u001b[39;00m\n\u001b[0;32m    664\u001b[0m \u001b[38;5;66;03m# input_spec to include them.\u001b[39;00m\n\u001b[0;32m    666\u001b[0m additional_inputs \u001b[38;5;241m=\u001b[39m []\n",
      "File \u001b[1;32m~\\anaconda3\\lib\\site-packages\\tensorflow\\python\\keras\\engine\\base_layer.py:951\u001b[0m, in \u001b[0;36mLayer.__call__\u001b[1;34m(self, *args, **kwargs)\u001b[0m\n\u001b[0;32m    945\u001b[0m \u001b[38;5;66;03m# Functional Model construction mode is invoked when `Layer`s are called on\u001b[39;00m\n\u001b[0;32m    946\u001b[0m \u001b[38;5;66;03m# symbolic `KerasTensor`s, i.e.:\u001b[39;00m\n\u001b[0;32m    947\u001b[0m \u001b[38;5;66;03m# >> inputs = tf.keras.Input(10)\u001b[39;00m\n\u001b[0;32m    948\u001b[0m \u001b[38;5;66;03m# >> outputs = MyLayer()(inputs)  # Functional construction mode.\u001b[39;00m\n\u001b[0;32m    949\u001b[0m \u001b[38;5;66;03m# >> model = tf.keras.Model(inputs, outputs)\u001b[39;00m\n\u001b[0;32m    950\u001b[0m \u001b[38;5;28;01mif\u001b[39;00m _in_functional_construction_mode(\u001b[38;5;28mself\u001b[39m, inputs, args, kwargs, input_list):\n\u001b[1;32m--> 951\u001b[0m   \u001b[38;5;28;01mreturn\u001b[39;00m \u001b[38;5;28;43mself\u001b[39;49m\u001b[38;5;241;43m.\u001b[39;49m\u001b[43m_functional_construction_call\u001b[49m\u001b[43m(\u001b[49m\u001b[43minputs\u001b[49m\u001b[43m,\u001b[49m\u001b[43m \u001b[49m\u001b[43margs\u001b[49m\u001b[43m,\u001b[49m\u001b[43m \u001b[49m\u001b[43mkwargs\u001b[49m\u001b[43m,\u001b[49m\n\u001b[0;32m    952\u001b[0m \u001b[43m                                            \u001b[49m\u001b[43minput_list\u001b[49m\u001b[43m)\u001b[49m\n\u001b[0;32m    954\u001b[0m \u001b[38;5;66;03m# Maintains info about the `Layer.call` stack.\u001b[39;00m\n\u001b[0;32m    955\u001b[0m call_context \u001b[38;5;241m=\u001b[39m base_layer_utils\u001b[38;5;241m.\u001b[39mcall_context()\n",
      "File \u001b[1;32m~\\anaconda3\\lib\\site-packages\\tensorflow\\python\\keras\\engine\\base_layer.py:1090\u001b[0m, in \u001b[0;36mLayer._functional_construction_call\u001b[1;34m(self, inputs, args, kwargs, input_list)\u001b[0m\n\u001b[0;32m   1086\u001b[0m \u001b[38;5;28;01mif\u001b[39;00m keras_tensor\u001b[38;5;241m.\u001b[39mkeras_tensors_enabled():\n\u001b[0;32m   1087\u001b[0m   \u001b[38;5;28;01mwith\u001b[39;00m call_context\u001b[38;5;241m.\u001b[39menter(\n\u001b[0;32m   1088\u001b[0m       layer\u001b[38;5;241m=\u001b[39m\u001b[38;5;28mself\u001b[39m, inputs\u001b[38;5;241m=\u001b[39minputs, build_graph\u001b[38;5;241m=\u001b[39m\u001b[38;5;28;01mTrue\u001b[39;00m, training\u001b[38;5;241m=\u001b[39mtraining_value):\n\u001b[0;32m   1089\u001b[0m     \u001b[38;5;66;03m# Check input assumptions set after layer building, e.g. input shape.\u001b[39;00m\n\u001b[1;32m-> 1090\u001b[0m     outputs \u001b[38;5;241m=\u001b[39m \u001b[38;5;28;43mself\u001b[39;49m\u001b[38;5;241;43m.\u001b[39;49m\u001b[43m_keras_tensor_symbolic_call\u001b[49m\u001b[43m(\u001b[49m\n\u001b[0;32m   1091\u001b[0m \u001b[43m        \u001b[49m\u001b[43minputs\u001b[49m\u001b[43m,\u001b[49m\u001b[43m \u001b[49m\u001b[43minput_masks\u001b[49m\u001b[43m,\u001b[49m\u001b[43m \u001b[49m\u001b[43margs\u001b[49m\u001b[43m,\u001b[49m\u001b[43m \u001b[49m\u001b[43mkwargs\u001b[49m\u001b[43m)\u001b[49m\n\u001b[0;32m   1093\u001b[0m     \u001b[38;5;28;01mif\u001b[39;00m outputs \u001b[38;5;129;01mis\u001b[39;00m \u001b[38;5;28;01mNone\u001b[39;00m:\n\u001b[0;32m   1094\u001b[0m       \u001b[38;5;28;01mraise\u001b[39;00m \u001b[38;5;167;01mValueError\u001b[39;00m(\u001b[38;5;124m'\u001b[39m\u001b[38;5;124mA layer\u001b[39m\u001b[38;5;130;01m\\'\u001b[39;00m\u001b[38;5;124ms `call` method should return a \u001b[39m\u001b[38;5;124m'\u001b[39m\n\u001b[0;32m   1095\u001b[0m                        \u001b[38;5;124m'\u001b[39m\u001b[38;5;124mTensor or a list of Tensors, not None \u001b[39m\u001b[38;5;124m'\u001b[39m\n\u001b[0;32m   1096\u001b[0m                        \u001b[38;5;124m'\u001b[39m\u001b[38;5;124m(layer: \u001b[39m\u001b[38;5;124m'\u001b[39m \u001b[38;5;241m+\u001b[39m \u001b[38;5;28mself\u001b[39m\u001b[38;5;241m.\u001b[39mname \u001b[38;5;241m+\u001b[39m \u001b[38;5;124m'\u001b[39m\u001b[38;5;124m).\u001b[39m\u001b[38;5;124m'\u001b[39m)\n",
      "File \u001b[1;32m~\\anaconda3\\lib\\site-packages\\tensorflow\\python\\keras\\engine\\base_layer.py:822\u001b[0m, in \u001b[0;36mLayer._keras_tensor_symbolic_call\u001b[1;34m(self, inputs, input_masks, args, kwargs)\u001b[0m\n\u001b[0;32m    820\u001b[0m   \u001b[38;5;28;01mreturn\u001b[39;00m nest\u001b[38;5;241m.\u001b[39mmap_structure(keras_tensor\u001b[38;5;241m.\u001b[39mKerasTensor, output_signature)\n\u001b[0;32m    821\u001b[0m \u001b[38;5;28;01melse\u001b[39;00m:\n\u001b[1;32m--> 822\u001b[0m   \u001b[38;5;28;01mreturn\u001b[39;00m \u001b[38;5;28;43mself\u001b[39;49m\u001b[38;5;241;43m.\u001b[39;49m\u001b[43m_infer_output_signature\u001b[49m\u001b[43m(\u001b[49m\u001b[43minputs\u001b[49m\u001b[43m,\u001b[49m\u001b[43m \u001b[49m\u001b[43margs\u001b[49m\u001b[43m,\u001b[49m\u001b[43m \u001b[49m\u001b[43mkwargs\u001b[49m\u001b[43m,\u001b[49m\u001b[43m \u001b[49m\u001b[43minput_masks\u001b[49m\u001b[43m)\u001b[49m\n",
      "File \u001b[1;32m~\\anaconda3\\lib\\site-packages\\tensorflow\\python\\keras\\engine\\base_layer.py:863\u001b[0m, in \u001b[0;36mLayer._infer_output_signature\u001b[1;34m(self, inputs, args, kwargs, input_masks)\u001b[0m\n\u001b[0;32m    857\u001b[0m   \u001b[38;5;28;01mwith\u001b[39;00m autocast_variable\u001b[38;5;241m.\u001b[39menable_auto_cast_variables(\n\u001b[0;32m    858\u001b[0m       \u001b[38;5;28mself\u001b[39m\u001b[38;5;241m.\u001b[39m_compute_dtype_object):\n\u001b[0;32m    859\u001b[0m     \u001b[38;5;66;03m# Build layer if applicable (if the `build` method has been\u001b[39;00m\n\u001b[0;32m    860\u001b[0m     \u001b[38;5;66;03m# overridden).\u001b[39;00m\n\u001b[0;32m    861\u001b[0m     \u001b[38;5;66;03m# TODO(kaftan): do we maybe_build here, or have we already done it?\u001b[39;00m\n\u001b[0;32m    862\u001b[0m     \u001b[38;5;28mself\u001b[39m\u001b[38;5;241m.\u001b[39m_maybe_build(inputs)\n\u001b[1;32m--> 863\u001b[0m     outputs \u001b[38;5;241m=\u001b[39m \u001b[43mcall_fn\u001b[49m\u001b[43m(\u001b[49m\u001b[43minputs\u001b[49m\u001b[43m,\u001b[49m\u001b[43m \u001b[49m\u001b[38;5;241;43m*\u001b[39;49m\u001b[43margs\u001b[49m\u001b[43m,\u001b[49m\u001b[43m \u001b[49m\u001b[38;5;241;43m*\u001b[39;49m\u001b[38;5;241;43m*\u001b[39;49m\u001b[43mkwargs\u001b[49m\u001b[43m)\u001b[49m\n\u001b[0;32m    865\u001b[0m   \u001b[38;5;28mself\u001b[39m\u001b[38;5;241m.\u001b[39m_handle_activity_regularization(inputs, outputs)\n\u001b[0;32m    866\u001b[0m \u001b[38;5;28mself\u001b[39m\u001b[38;5;241m.\u001b[39m_set_mask_metadata(inputs, outputs, input_masks,\n\u001b[0;32m    867\u001b[0m                         build_graph\u001b[38;5;241m=\u001b[39m\u001b[38;5;28;01mFalse\u001b[39;00m)\n",
      "File \u001b[1;32m~\\anaconda3\\lib\\site-packages\\tensorflow\\python\\keras\\layers\\recurrent_v2.py:1157\u001b[0m, in \u001b[0;36mLSTM.call\u001b[1;34m(self, inputs, mask, training, initial_state)\u001b[0m\n\u001b[0;32m   1154\u001b[0m \u001b[38;5;28mself\u001b[39m\u001b[38;5;241m.\u001b[39m_validate_args_if_ragged(is_ragged_input, mask)\n\u001b[0;32m   1156\u001b[0m \u001b[38;5;66;03m# LSTM does not support constants. Ignore it during process.\u001b[39;00m\n\u001b[1;32m-> 1157\u001b[0m inputs, initial_state, _ \u001b[38;5;241m=\u001b[39m \u001b[38;5;28;43mself\u001b[39;49m\u001b[38;5;241;43m.\u001b[39;49m\u001b[43m_process_inputs\u001b[49m\u001b[43m(\u001b[49m\u001b[43minputs\u001b[49m\u001b[43m,\u001b[49m\u001b[43m \u001b[49m\u001b[43minitial_state\u001b[49m\u001b[43m,\u001b[49m\u001b[43m \u001b[49m\u001b[38;5;28;43;01mNone\u001b[39;49;00m\u001b[43m)\u001b[49m\n\u001b[0;32m   1159\u001b[0m \u001b[38;5;28;01mif\u001b[39;00m \u001b[38;5;28misinstance\u001b[39m(mask, \u001b[38;5;28mlist\u001b[39m):\n\u001b[0;32m   1160\u001b[0m   mask \u001b[38;5;241m=\u001b[39m mask[\u001b[38;5;241m0\u001b[39m]\n",
      "File \u001b[1;32m~\\anaconda3\\lib\\site-packages\\tensorflow\\python\\keras\\layers\\recurrent.py:859\u001b[0m, in \u001b[0;36mRNN._process_inputs\u001b[1;34m(self, inputs, initial_state, constants)\u001b[0m\n\u001b[0;32m    857\u001b[0m     initial_state \u001b[38;5;241m=\u001b[39m \u001b[38;5;28mself\u001b[39m\u001b[38;5;241m.\u001b[39mstates\n\u001b[0;32m    858\u001b[0m \u001b[38;5;28;01melif\u001b[39;00m initial_state \u001b[38;5;129;01mis\u001b[39;00m \u001b[38;5;28;01mNone\u001b[39;00m:\n\u001b[1;32m--> 859\u001b[0m   initial_state \u001b[38;5;241m=\u001b[39m \u001b[38;5;28;43mself\u001b[39;49m\u001b[38;5;241;43m.\u001b[39;49m\u001b[43mget_initial_state\u001b[49m\u001b[43m(\u001b[49m\u001b[43minputs\u001b[49m\u001b[43m)\u001b[49m\n\u001b[0;32m    861\u001b[0m \u001b[38;5;28;01mif\u001b[39;00m \u001b[38;5;28mlen\u001b[39m(initial_state) \u001b[38;5;241m!=\u001b[39m \u001b[38;5;28mlen\u001b[39m(\u001b[38;5;28mself\u001b[39m\u001b[38;5;241m.\u001b[39mstates):\n\u001b[0;32m    862\u001b[0m   \u001b[38;5;28;01mraise\u001b[39;00m \u001b[38;5;167;01mValueError\u001b[39;00m(\u001b[38;5;124m'\u001b[39m\u001b[38;5;124mLayer has \u001b[39m\u001b[38;5;124m'\u001b[39m \u001b[38;5;241m+\u001b[39m \u001b[38;5;28mstr\u001b[39m(\u001b[38;5;28mlen\u001b[39m(\u001b[38;5;28mself\u001b[39m\u001b[38;5;241m.\u001b[39mstates)) \u001b[38;5;241m+\u001b[39m\n\u001b[0;32m    863\u001b[0m                    \u001b[38;5;124m'\u001b[39m\u001b[38;5;124m states but was passed \u001b[39m\u001b[38;5;124m'\u001b[39m \u001b[38;5;241m+\u001b[39m \u001b[38;5;28mstr\u001b[39m(\u001b[38;5;28mlen\u001b[39m(initial_state)) \u001b[38;5;241m+\u001b[39m\n\u001b[0;32m    864\u001b[0m                    \u001b[38;5;124m'\u001b[39m\u001b[38;5;124m initial states.\u001b[39m\u001b[38;5;124m'\u001b[39m)\n",
      "File \u001b[1;32m~\\anaconda3\\lib\\site-packages\\tensorflow\\python\\keras\\layers\\recurrent.py:642\u001b[0m, in \u001b[0;36mRNN.get_initial_state\u001b[1;34m(self, inputs)\u001b[0m\n\u001b[0;32m    640\u001b[0m dtype \u001b[38;5;241m=\u001b[39m inputs\u001b[38;5;241m.\u001b[39mdtype\n\u001b[0;32m    641\u001b[0m \u001b[38;5;28;01mif\u001b[39;00m get_initial_state_fn:\n\u001b[1;32m--> 642\u001b[0m   init_state \u001b[38;5;241m=\u001b[39m \u001b[43mget_initial_state_fn\u001b[49m\u001b[43m(\u001b[49m\n\u001b[0;32m    643\u001b[0m \u001b[43m      \u001b[49m\u001b[43minputs\u001b[49m\u001b[38;5;241;43m=\u001b[39;49m\u001b[38;5;28;43;01mNone\u001b[39;49;00m\u001b[43m,\u001b[49m\u001b[43m \u001b[49m\u001b[43mbatch_size\u001b[49m\u001b[38;5;241;43m=\u001b[39;49m\u001b[43mbatch_size\u001b[49m\u001b[43m,\u001b[49m\u001b[43m \u001b[49m\u001b[43mdtype\u001b[49m\u001b[38;5;241;43m=\u001b[39;49m\u001b[43mdtype\u001b[49m\u001b[43m)\u001b[49m\n\u001b[0;32m    644\u001b[0m \u001b[38;5;28;01melse\u001b[39;00m:\n\u001b[0;32m    645\u001b[0m   init_state \u001b[38;5;241m=\u001b[39m _generate_zero_filled_state(batch_size, \u001b[38;5;28mself\u001b[39m\u001b[38;5;241m.\u001b[39mcell\u001b[38;5;241m.\u001b[39mstate_size,\n\u001b[0;32m    646\u001b[0m                                            dtype)\n",
      "File \u001b[1;32m~\\anaconda3\\lib\\site-packages\\tensorflow\\python\\keras\\layers\\recurrent.py:2506\u001b[0m, in \u001b[0;36mLSTMCell.get_initial_state\u001b[1;34m(self, inputs, batch_size, dtype)\u001b[0m\n\u001b[0;32m   2505\u001b[0m \u001b[38;5;28;01mdef\u001b[39;00m \u001b[38;5;21mget_initial_state\u001b[39m(\u001b[38;5;28mself\u001b[39m, inputs\u001b[38;5;241m=\u001b[39m\u001b[38;5;28;01mNone\u001b[39;00m, batch_size\u001b[38;5;241m=\u001b[39m\u001b[38;5;28;01mNone\u001b[39;00m, dtype\u001b[38;5;241m=\u001b[39m\u001b[38;5;28;01mNone\u001b[39;00m):\n\u001b[1;32m-> 2506\u001b[0m   \u001b[38;5;28;01mreturn\u001b[39;00m \u001b[38;5;28mlist\u001b[39m(\u001b[43m_generate_zero_filled_state_for_cell\u001b[49m\u001b[43m(\u001b[49m\n\u001b[0;32m   2507\u001b[0m \u001b[43m      \u001b[49m\u001b[38;5;28;43mself\u001b[39;49m\u001b[43m,\u001b[49m\u001b[43m \u001b[49m\u001b[43minputs\u001b[49m\u001b[43m,\u001b[49m\u001b[43m \u001b[49m\u001b[43mbatch_size\u001b[49m\u001b[43m,\u001b[49m\u001b[43m \u001b[49m\u001b[43mdtype\u001b[49m\u001b[43m)\u001b[49m)\n",
      "File \u001b[1;32m~\\anaconda3\\lib\\site-packages\\tensorflow\\python\\keras\\layers\\recurrent.py:2987\u001b[0m, in \u001b[0;36m_generate_zero_filled_state_for_cell\u001b[1;34m(cell, inputs, batch_size, dtype)\u001b[0m\n\u001b[0;32m   2985\u001b[0m   batch_size \u001b[38;5;241m=\u001b[39m array_ops\u001b[38;5;241m.\u001b[39mshape(inputs)[\u001b[38;5;241m0\u001b[39m]\n\u001b[0;32m   2986\u001b[0m   dtype \u001b[38;5;241m=\u001b[39m inputs\u001b[38;5;241m.\u001b[39mdtype\n\u001b[1;32m-> 2987\u001b[0m \u001b[38;5;28;01mreturn\u001b[39;00m \u001b[43m_generate_zero_filled_state\u001b[49m\u001b[43m(\u001b[49m\u001b[43mbatch_size\u001b[49m\u001b[43m,\u001b[49m\u001b[43m \u001b[49m\u001b[43mcell\u001b[49m\u001b[38;5;241;43m.\u001b[39;49m\u001b[43mstate_size\u001b[49m\u001b[43m,\u001b[49m\u001b[43m \u001b[49m\u001b[43mdtype\u001b[49m\u001b[43m)\u001b[49m\n",
      "File \u001b[1;32m~\\anaconda3\\lib\\site-packages\\tensorflow\\python\\keras\\layers\\recurrent.py:3003\u001b[0m, in \u001b[0;36m_generate_zero_filled_state\u001b[1;34m(batch_size_tensor, state_size, dtype)\u001b[0m\n\u001b[0;32m   3000\u001b[0m   \u001b[38;5;28;01mreturn\u001b[39;00m array_ops\u001b[38;5;241m.\u001b[39mzeros(init_state_size, dtype\u001b[38;5;241m=\u001b[39mdtype)\n\u001b[0;32m   3002\u001b[0m \u001b[38;5;28;01mif\u001b[39;00m nest\u001b[38;5;241m.\u001b[39mis_nested(state_size):\n\u001b[1;32m-> 3003\u001b[0m   \u001b[38;5;28;01mreturn\u001b[39;00m \u001b[43mnest\u001b[49m\u001b[38;5;241;43m.\u001b[39;49m\u001b[43mmap_structure\u001b[49m\u001b[43m(\u001b[49m\u001b[43mcreate_zeros\u001b[49m\u001b[43m,\u001b[49m\u001b[43m \u001b[49m\u001b[43mstate_size\u001b[49m\u001b[43m)\u001b[49m\n\u001b[0;32m   3004\u001b[0m \u001b[38;5;28;01melse\u001b[39;00m:\n\u001b[0;32m   3005\u001b[0m   \u001b[38;5;28;01mreturn\u001b[39;00m create_zeros(state_size)\n",
      "File \u001b[1;32m~\\anaconda3\\lib\\site-packages\\tensorflow\\python\\util\\nest.py:659\u001b[0m, in \u001b[0;36mmap_structure\u001b[1;34m(func, *structure, **kwargs)\u001b[0m\n\u001b[0;32m    655\u001b[0m flat_structure \u001b[38;5;241m=\u001b[39m (flatten(s, expand_composites) \u001b[38;5;28;01mfor\u001b[39;00m s \u001b[38;5;129;01min\u001b[39;00m structure)\n\u001b[0;32m    656\u001b[0m entries \u001b[38;5;241m=\u001b[39m \u001b[38;5;28mzip\u001b[39m(\u001b[38;5;241m*\u001b[39mflat_structure)\n\u001b[0;32m    658\u001b[0m \u001b[38;5;28;01mreturn\u001b[39;00m pack_sequence_as(\n\u001b[1;32m--> 659\u001b[0m     structure[\u001b[38;5;241m0\u001b[39m], [func(\u001b[38;5;241m*\u001b[39mx) \u001b[38;5;28;01mfor\u001b[39;00m x \u001b[38;5;129;01min\u001b[39;00m entries],\n\u001b[0;32m    660\u001b[0m     expand_composites\u001b[38;5;241m=\u001b[39mexpand_composites)\n",
      "File \u001b[1;32m~\\anaconda3\\lib\\site-packages\\tensorflow\\python\\util\\nest.py:659\u001b[0m, in \u001b[0;36m<listcomp>\u001b[1;34m(.0)\u001b[0m\n\u001b[0;32m    655\u001b[0m flat_structure \u001b[38;5;241m=\u001b[39m (flatten(s, expand_composites) \u001b[38;5;28;01mfor\u001b[39;00m s \u001b[38;5;129;01min\u001b[39;00m structure)\n\u001b[0;32m    656\u001b[0m entries \u001b[38;5;241m=\u001b[39m \u001b[38;5;28mzip\u001b[39m(\u001b[38;5;241m*\u001b[39mflat_structure)\n\u001b[0;32m    658\u001b[0m \u001b[38;5;28;01mreturn\u001b[39;00m pack_sequence_as(\n\u001b[1;32m--> 659\u001b[0m     structure[\u001b[38;5;241m0\u001b[39m], [\u001b[43mfunc\u001b[49m\u001b[43m(\u001b[49m\u001b[38;5;241;43m*\u001b[39;49m\u001b[43mx\u001b[49m\u001b[43m)\u001b[49m \u001b[38;5;28;01mfor\u001b[39;00m x \u001b[38;5;129;01min\u001b[39;00m entries],\n\u001b[0;32m    660\u001b[0m     expand_composites\u001b[38;5;241m=\u001b[39mexpand_composites)\n",
      "File \u001b[1;32m~\\anaconda3\\lib\\site-packages\\tensorflow\\python\\keras\\layers\\recurrent.py:3000\u001b[0m, in \u001b[0;36m_generate_zero_filled_state.<locals>.create_zeros\u001b[1;34m(unnested_state_size)\u001b[0m\n\u001b[0;32m   2998\u001b[0m flat_dims \u001b[38;5;241m=\u001b[39m tensor_shape\u001b[38;5;241m.\u001b[39mTensorShape(unnested_state_size)\u001b[38;5;241m.\u001b[39mas_list()\n\u001b[0;32m   2999\u001b[0m init_state_size \u001b[38;5;241m=\u001b[39m [batch_size_tensor] \u001b[38;5;241m+\u001b[39m flat_dims\n\u001b[1;32m-> 3000\u001b[0m \u001b[38;5;28;01mreturn\u001b[39;00m \u001b[43marray_ops\u001b[49m\u001b[38;5;241;43m.\u001b[39;49m\u001b[43mzeros\u001b[49m\u001b[43m(\u001b[49m\u001b[43minit_state_size\u001b[49m\u001b[43m,\u001b[49m\u001b[43m \u001b[49m\u001b[43mdtype\u001b[49m\u001b[38;5;241;43m=\u001b[39;49m\u001b[43mdtype\u001b[49m\u001b[43m)\u001b[49m\n",
      "File \u001b[1;32m~\\anaconda3\\lib\\site-packages\\tensorflow\\python\\util\\dispatch.py:201\u001b[0m, in \u001b[0;36madd_dispatch_support.<locals>.wrapper\u001b[1;34m(*args, **kwargs)\u001b[0m\n\u001b[0;32m    199\u001b[0m \u001b[38;5;250m\u001b[39m\u001b[38;5;124;03m\"\"\"Call target, and fall back on dispatchers if there is a TypeError.\"\"\"\u001b[39;00m\n\u001b[0;32m    200\u001b[0m \u001b[38;5;28;01mtry\u001b[39;00m:\n\u001b[1;32m--> 201\u001b[0m   \u001b[38;5;28;01mreturn\u001b[39;00m \u001b[43mtarget\u001b[49m\u001b[43m(\u001b[49m\u001b[38;5;241;43m*\u001b[39;49m\u001b[43margs\u001b[49m\u001b[43m,\u001b[49m\u001b[43m \u001b[49m\u001b[38;5;241;43m*\u001b[39;49m\u001b[38;5;241;43m*\u001b[39;49m\u001b[43mkwargs\u001b[49m\u001b[43m)\u001b[49m\n\u001b[0;32m    202\u001b[0m \u001b[38;5;28;01mexcept\u001b[39;00m (\u001b[38;5;167;01mTypeError\u001b[39;00m, \u001b[38;5;167;01mValueError\u001b[39;00m):\n\u001b[0;32m    203\u001b[0m   \u001b[38;5;66;03m# Note: convert_to_eager_tensor currently raises a ValueError, not a\u001b[39;00m\n\u001b[0;32m    204\u001b[0m   \u001b[38;5;66;03m# TypeError, when given unexpected types.  So we need to catch both.\u001b[39;00m\n\u001b[0;32m    205\u001b[0m   result \u001b[38;5;241m=\u001b[39m dispatch(wrapper, args, kwargs)\n",
      "File \u001b[1;32m~\\anaconda3\\lib\\site-packages\\tensorflow\\python\\ops\\array_ops.py:2819\u001b[0m, in \u001b[0;36m_tag_zeros_tensor.<locals>.wrapped\u001b[1;34m(*args, **kwargs)\u001b[0m\n\u001b[0;32m   2818\u001b[0m \u001b[38;5;28;01mdef\u001b[39;00m \u001b[38;5;21mwrapped\u001b[39m(\u001b[38;5;241m*\u001b[39margs, \u001b[38;5;241m*\u001b[39m\u001b[38;5;241m*\u001b[39mkwargs):\n\u001b[1;32m-> 2819\u001b[0m   tensor \u001b[38;5;241m=\u001b[39m \u001b[43mfun\u001b[49m\u001b[43m(\u001b[49m\u001b[38;5;241;43m*\u001b[39;49m\u001b[43margs\u001b[49m\u001b[43m,\u001b[49m\u001b[43m \u001b[49m\u001b[38;5;241;43m*\u001b[39;49m\u001b[38;5;241;43m*\u001b[39;49m\u001b[43mkwargs\u001b[49m\u001b[43m)\u001b[49m\n\u001b[0;32m   2820\u001b[0m   tensor\u001b[38;5;241m.\u001b[39m_is_zeros_tensor \u001b[38;5;241m=\u001b[39m \u001b[38;5;28;01mTrue\u001b[39;00m\n\u001b[0;32m   2821\u001b[0m   \u001b[38;5;28;01mreturn\u001b[39;00m tensor\n",
      "File \u001b[1;32m~\\anaconda3\\lib\\site-packages\\tensorflow\\python\\ops\\array_ops.py:2868\u001b[0m, in \u001b[0;36mzeros\u001b[1;34m(shape, dtype, name)\u001b[0m\n\u001b[0;32m   2864\u001b[0m \u001b[38;5;28;01mtry\u001b[39;00m:\n\u001b[0;32m   2865\u001b[0m   \u001b[38;5;28;01mif\u001b[39;00m \u001b[38;5;129;01mnot\u001b[39;00m context\u001b[38;5;241m.\u001b[39mexecuting_eagerly():\n\u001b[0;32m   2866\u001b[0m     \u001b[38;5;66;03m# Create a constant if it won't be very big. Otherwise create a fill\u001b[39;00m\n\u001b[0;32m   2867\u001b[0m     \u001b[38;5;66;03m# op to prevent serialized GraphDefs from becoming too large.\u001b[39;00m\n\u001b[1;32m-> 2868\u001b[0m     output \u001b[38;5;241m=\u001b[39m \u001b[43m_constant_if_small\u001b[49m\u001b[43m(\u001b[49m\u001b[43mzero\u001b[49m\u001b[43m,\u001b[49m\u001b[43m \u001b[49m\u001b[43mshape\u001b[49m\u001b[43m,\u001b[49m\u001b[43m \u001b[49m\u001b[43mdtype\u001b[49m\u001b[43m,\u001b[49m\u001b[43m \u001b[49m\u001b[43mname\u001b[49m\u001b[43m)\u001b[49m\n\u001b[0;32m   2869\u001b[0m     \u001b[38;5;28;01mif\u001b[39;00m output \u001b[38;5;129;01mis\u001b[39;00m \u001b[38;5;129;01mnot\u001b[39;00m \u001b[38;5;28;01mNone\u001b[39;00m:\n\u001b[0;32m   2870\u001b[0m       \u001b[38;5;28;01mreturn\u001b[39;00m output\n",
      "File \u001b[1;32m~\\anaconda3\\lib\\site-packages\\tensorflow\\python\\ops\\array_ops.py:2804\u001b[0m, in \u001b[0;36m_constant_if_small\u001b[1;34m(value, shape, dtype, name)\u001b[0m\n\u001b[0;32m   2802\u001b[0m \u001b[38;5;28;01mdef\u001b[39;00m \u001b[38;5;21m_constant_if_small\u001b[39m(value, shape, dtype, name):\n\u001b[0;32m   2803\u001b[0m   \u001b[38;5;28;01mtry\u001b[39;00m:\n\u001b[1;32m-> 2804\u001b[0m     \u001b[38;5;28;01mif\u001b[39;00m \u001b[43mnp\u001b[49m\u001b[38;5;241;43m.\u001b[39;49m\u001b[43mprod\u001b[49m\u001b[43m(\u001b[49m\u001b[43mshape\u001b[49m\u001b[43m)\u001b[49m \u001b[38;5;241m<\u001b[39m \u001b[38;5;241m1000\u001b[39m:\n\u001b[0;32m   2805\u001b[0m       \u001b[38;5;28;01mreturn\u001b[39;00m constant(value, shape\u001b[38;5;241m=\u001b[39mshape, dtype\u001b[38;5;241m=\u001b[39mdtype, name\u001b[38;5;241m=\u001b[39mname)\n\u001b[0;32m   2806\u001b[0m   \u001b[38;5;28;01mexcept\u001b[39;00m \u001b[38;5;167;01mTypeError\u001b[39;00m:\n\u001b[0;32m   2807\u001b[0m     \u001b[38;5;66;03m# Happens when shape is a Tensor, list with Tensor elements, etc.\u001b[39;00m\n",
      "File \u001b[1;32m<__array_function__ internals>:180\u001b[0m, in \u001b[0;36mprod\u001b[1;34m(*args, **kwargs)\u001b[0m\n",
      "File \u001b[1;32m~\\anaconda3\\lib\\site-packages\\numpy\\core\\fromnumeric.py:3088\u001b[0m, in \u001b[0;36mprod\u001b[1;34m(a, axis, dtype, out, keepdims, initial, where)\u001b[0m\n\u001b[0;32m   2970\u001b[0m \u001b[38;5;129m@array_function_dispatch\u001b[39m(_prod_dispatcher)\n\u001b[0;32m   2971\u001b[0m \u001b[38;5;28;01mdef\u001b[39;00m \u001b[38;5;21mprod\u001b[39m(a, axis\u001b[38;5;241m=\u001b[39m\u001b[38;5;28;01mNone\u001b[39;00m, dtype\u001b[38;5;241m=\u001b[39m\u001b[38;5;28;01mNone\u001b[39;00m, out\u001b[38;5;241m=\u001b[39m\u001b[38;5;28;01mNone\u001b[39;00m, keepdims\u001b[38;5;241m=\u001b[39mnp\u001b[38;5;241m.\u001b[39m_NoValue,\n\u001b[0;32m   2972\u001b[0m          initial\u001b[38;5;241m=\u001b[39mnp\u001b[38;5;241m.\u001b[39m_NoValue, where\u001b[38;5;241m=\u001b[39mnp\u001b[38;5;241m.\u001b[39m_NoValue):\n\u001b[0;32m   2973\u001b[0m \u001b[38;5;250m    \u001b[39m\u001b[38;5;124;03m\"\"\"\u001b[39;00m\n\u001b[0;32m   2974\u001b[0m \u001b[38;5;124;03m    Return the product of array elements over a given axis.\u001b[39;00m\n\u001b[0;32m   2975\u001b[0m \n\u001b[1;32m   (...)\u001b[0m\n\u001b[0;32m   3086\u001b[0m \u001b[38;5;124;03m    10\u001b[39;00m\n\u001b[0;32m   3087\u001b[0m \u001b[38;5;124;03m    \"\"\"\u001b[39;00m\n\u001b[1;32m-> 3088\u001b[0m     \u001b[38;5;28;01mreturn\u001b[39;00m \u001b[43m_wrapreduction\u001b[49m\u001b[43m(\u001b[49m\u001b[43ma\u001b[49m\u001b[43m,\u001b[49m\u001b[43m \u001b[49m\u001b[43mnp\u001b[49m\u001b[38;5;241;43m.\u001b[39;49m\u001b[43mmultiply\u001b[49m\u001b[43m,\u001b[49m\u001b[43m \u001b[49m\u001b[38;5;124;43m'\u001b[39;49m\u001b[38;5;124;43mprod\u001b[39;49m\u001b[38;5;124;43m'\u001b[39;49m\u001b[43m,\u001b[49m\u001b[43m \u001b[49m\u001b[43maxis\u001b[49m\u001b[43m,\u001b[49m\u001b[43m \u001b[49m\u001b[43mdtype\u001b[49m\u001b[43m,\u001b[49m\u001b[43m \u001b[49m\u001b[43mout\u001b[49m\u001b[43m,\u001b[49m\n\u001b[0;32m   3089\u001b[0m \u001b[43m                          \u001b[49m\u001b[43mkeepdims\u001b[49m\u001b[38;5;241;43m=\u001b[39;49m\u001b[43mkeepdims\u001b[49m\u001b[43m,\u001b[49m\u001b[43m \u001b[49m\u001b[43minitial\u001b[49m\u001b[38;5;241;43m=\u001b[39;49m\u001b[43minitial\u001b[49m\u001b[43m,\u001b[49m\u001b[43m \u001b[49m\u001b[43mwhere\u001b[49m\u001b[38;5;241;43m=\u001b[39;49m\u001b[43mwhere\u001b[49m\u001b[43m)\u001b[49m\n",
      "File \u001b[1;32m~\\anaconda3\\lib\\site-packages\\numpy\\core\\fromnumeric.py:86\u001b[0m, in \u001b[0;36m_wrapreduction\u001b[1;34m(obj, ufunc, method, axis, dtype, out, **kwargs)\u001b[0m\n\u001b[0;32m     83\u001b[0m         \u001b[38;5;28;01melse\u001b[39;00m:\n\u001b[0;32m     84\u001b[0m             \u001b[38;5;28;01mreturn\u001b[39;00m reduction(axis\u001b[38;5;241m=\u001b[39maxis, out\u001b[38;5;241m=\u001b[39mout, \u001b[38;5;241m*\u001b[39m\u001b[38;5;241m*\u001b[39mpasskwargs)\n\u001b[1;32m---> 86\u001b[0m \u001b[38;5;28;01mreturn\u001b[39;00m \u001b[43mufunc\u001b[49m\u001b[38;5;241;43m.\u001b[39;49m\u001b[43mreduce\u001b[49m\u001b[43m(\u001b[49m\u001b[43mobj\u001b[49m\u001b[43m,\u001b[49m\u001b[43m \u001b[49m\u001b[43maxis\u001b[49m\u001b[43m,\u001b[49m\u001b[43m \u001b[49m\u001b[43mdtype\u001b[49m\u001b[43m,\u001b[49m\u001b[43m \u001b[49m\u001b[43mout\u001b[49m\u001b[43m,\u001b[49m\u001b[43m \u001b[49m\u001b[38;5;241;43m*\u001b[39;49m\u001b[38;5;241;43m*\u001b[39;49m\u001b[43mpasskwargs\u001b[49m\u001b[43m)\u001b[49m\n",
      "File \u001b[1;32m~\\anaconda3\\lib\\site-packages\\tensorflow\\python\\framework\\ops.py:852\u001b[0m, in \u001b[0;36mTensor.__array__\u001b[1;34m(self)\u001b[0m\n\u001b[0;32m    851\u001b[0m \u001b[38;5;28;01mdef\u001b[39;00m \u001b[38;5;21m__array__\u001b[39m(\u001b[38;5;28mself\u001b[39m):\n\u001b[1;32m--> 852\u001b[0m   \u001b[38;5;28;01mraise\u001b[39;00m \u001b[38;5;167;01mNotImplementedError\u001b[39;00m(\n\u001b[0;32m    853\u001b[0m       \u001b[38;5;124m\"\u001b[39m\u001b[38;5;124mCannot convert a symbolic Tensor (\u001b[39m\u001b[38;5;132;01m{}\u001b[39;00m\u001b[38;5;124m) to a numpy array.\u001b[39m\u001b[38;5;124m\"\u001b[39m\n\u001b[0;32m    854\u001b[0m       \u001b[38;5;124m\"\u001b[39m\u001b[38;5;124m This error may indicate that you\u001b[39m\u001b[38;5;124m'\u001b[39m\u001b[38;5;124mre trying to pass a Tensor to\u001b[39m\u001b[38;5;124m\"\u001b[39m\n\u001b[0;32m    855\u001b[0m       \u001b[38;5;124m\"\u001b[39m\u001b[38;5;124m a NumPy call, which is not supported\u001b[39m\u001b[38;5;124m\"\u001b[39m\u001b[38;5;241m.\u001b[39mformat(\u001b[38;5;28mself\u001b[39m\u001b[38;5;241m.\u001b[39mname))\n",
      "\u001b[1;31mNotImplementedError\u001b[0m: Cannot convert a symbolic Tensor (lstm_3/strided_slice:0) to a numpy array. This error may indicate that you're trying to pass a Tensor to a NumPy call, which is not supported"
     ]
    }
   ],
   "source": [
    "MODEL = Sequential()\n",
    "MODEL.add(layers.LSTM(256, return_sequences=True, input_shape=(X.shape[1:3])))\n",
    "MODEL.add(layers.LSTM(256))\n",
    "MODEL.add(layers.Dense(6, activation='softmax'))\n",
    "\n",
    "print(MODEL.summary())"
   ]
  },
  {
   "cell_type": "code",
   "execution_count": 76,
   "id": "6a4bed52",
   "metadata": {},
   "outputs": [
    {
     "ename": "NotImplementedError",
     "evalue": "Cannot convert a symbolic Tensor (lstm_6/strided_slice:0) to a numpy array. This error may indicate that you're trying to pass a Tensor to a NumPy call, which is not supported",
     "output_type": "error",
     "traceback": [
      "\u001b[1;31m---------------------------------------------------------------------------\u001b[0m",
      "\u001b[1;31mNotImplementedError\u001b[0m                       Traceback (most recent call last)",
      "Input \u001b[1;32mIn [76]\u001b[0m, in \u001b[0;36m<cell line: 1>\u001b[1;34m()\u001b[0m\n\u001b[1;32m----> 1\u001b[0m model \u001b[38;5;241m=\u001b[39m \u001b[43mkeras\u001b[49m\u001b[38;5;241;43m.\u001b[39;49m\u001b[43mmodels\u001b[49m\u001b[38;5;241;43m.\u001b[39;49m\u001b[43mload_model\u001b[49m\u001b[43m(\u001b[49m\u001b[38;5;124;43m'\u001b[39;49m\u001b[38;5;124;43m.mdl_wts_256.hdf5\u001b[39;49m\u001b[38;5;124;43m'\u001b[39;49m\u001b[43m)\u001b[49m\n",
      "File \u001b[1;32m~\\anaconda3\\lib\\site-packages\\tensorflow\\python\\keras\\saving\\save.py:206\u001b[0m, in \u001b[0;36mload_model\u001b[1;34m(filepath, custom_objects, compile, options)\u001b[0m\n\u001b[0;32m    203\u001b[0m \u001b[38;5;28;01mwith\u001b[39;00m load_context\u001b[38;5;241m.\u001b[39mload_context(options):\n\u001b[0;32m    204\u001b[0m   \u001b[38;5;28;01mif\u001b[39;00m (h5py \u001b[38;5;129;01mis\u001b[39;00m \u001b[38;5;129;01mnot\u001b[39;00m \u001b[38;5;28;01mNone\u001b[39;00m \u001b[38;5;129;01mand\u001b[39;00m\n\u001b[0;32m    205\u001b[0m       (\u001b[38;5;28misinstance\u001b[39m(filepath, h5py\u001b[38;5;241m.\u001b[39mFile) \u001b[38;5;129;01mor\u001b[39;00m h5py\u001b[38;5;241m.\u001b[39mis_hdf5(filepath))):\n\u001b[1;32m--> 206\u001b[0m     \u001b[38;5;28;01mreturn\u001b[39;00m \u001b[43mhdf5_format\u001b[49m\u001b[38;5;241;43m.\u001b[39;49m\u001b[43mload_model_from_hdf5\u001b[49m\u001b[43m(\u001b[49m\u001b[43mfilepath\u001b[49m\u001b[43m,\u001b[49m\u001b[43m \u001b[49m\u001b[43mcustom_objects\u001b[49m\u001b[43m,\u001b[49m\n\u001b[0;32m    207\u001b[0m \u001b[43m                                            \u001b[49m\u001b[38;5;28;43mcompile\u001b[39;49m\u001b[43m)\u001b[49m\n\u001b[0;32m    209\u001b[0m   filepath \u001b[38;5;241m=\u001b[39m path_to_string(filepath)\n\u001b[0;32m    210\u001b[0m   \u001b[38;5;28;01mif\u001b[39;00m \u001b[38;5;28misinstance\u001b[39m(filepath, six\u001b[38;5;241m.\u001b[39mstring_types):\n",
      "File \u001b[1;32m~\\anaconda3\\lib\\site-packages\\tensorflow\\python\\keras\\saving\\hdf5_format.py:183\u001b[0m, in \u001b[0;36mload_model_from_hdf5\u001b[1;34m(filepath, custom_objects, compile)\u001b[0m\n\u001b[0;32m    181\u001b[0m   \u001b[38;5;28;01mraise\u001b[39;00m \u001b[38;5;167;01mValueError\u001b[39;00m(\u001b[38;5;124m'\u001b[39m\u001b[38;5;124mNo model found in config file.\u001b[39m\u001b[38;5;124m'\u001b[39m)\n\u001b[0;32m    182\u001b[0m model_config \u001b[38;5;241m=\u001b[39m json_utils\u001b[38;5;241m.\u001b[39mdecode(model_config\u001b[38;5;241m.\u001b[39mdecode(\u001b[38;5;124m'\u001b[39m\u001b[38;5;124mutf-8\u001b[39m\u001b[38;5;124m'\u001b[39m))\n\u001b[1;32m--> 183\u001b[0m model \u001b[38;5;241m=\u001b[39m \u001b[43mmodel_config_lib\u001b[49m\u001b[38;5;241;43m.\u001b[39;49m\u001b[43mmodel_from_config\u001b[49m\u001b[43m(\u001b[49m\u001b[43mmodel_config\u001b[49m\u001b[43m,\u001b[49m\n\u001b[0;32m    184\u001b[0m \u001b[43m                                           \u001b[49m\u001b[43mcustom_objects\u001b[49m\u001b[38;5;241;43m=\u001b[39;49m\u001b[43mcustom_objects\u001b[49m\u001b[43m)\u001b[49m\n\u001b[0;32m    186\u001b[0m \u001b[38;5;66;03m# set weights\u001b[39;00m\n\u001b[0;32m    187\u001b[0m load_weights_from_hdf5_group(f[\u001b[38;5;124m'\u001b[39m\u001b[38;5;124mmodel_weights\u001b[39m\u001b[38;5;124m'\u001b[39m], model\u001b[38;5;241m.\u001b[39mlayers)\n",
      "File \u001b[1;32m~\\anaconda3\\lib\\site-packages\\tensorflow\\python\\keras\\saving\\model_config.py:64\u001b[0m, in \u001b[0;36mmodel_from_config\u001b[1;34m(config, custom_objects)\u001b[0m\n\u001b[0;32m     60\u001b[0m   \u001b[38;5;28;01mraise\u001b[39;00m \u001b[38;5;167;01mTypeError\u001b[39;00m(\u001b[38;5;124m'\u001b[39m\u001b[38;5;124m`model_from_config` expects a dictionary, not a list. \u001b[39m\u001b[38;5;124m'\u001b[39m\n\u001b[0;32m     61\u001b[0m                   \u001b[38;5;124m'\u001b[39m\u001b[38;5;124mMaybe you meant to use \u001b[39m\u001b[38;5;124m'\u001b[39m\n\u001b[0;32m     62\u001b[0m                   \u001b[38;5;124m'\u001b[39m\u001b[38;5;124m`Sequential.from_config(config)`?\u001b[39m\u001b[38;5;124m'\u001b[39m)\n\u001b[0;32m     63\u001b[0m \u001b[38;5;28;01mfrom\u001b[39;00m \u001b[38;5;21;01mtensorflow\u001b[39;00m\u001b[38;5;21;01m.\u001b[39;00m\u001b[38;5;21;01mpython\u001b[39;00m\u001b[38;5;21;01m.\u001b[39;00m\u001b[38;5;21;01mkeras\u001b[39;00m\u001b[38;5;21;01m.\u001b[39;00m\u001b[38;5;21;01mlayers\u001b[39;00m \u001b[38;5;28;01mimport\u001b[39;00m deserialize  \u001b[38;5;66;03m# pylint: disable=g-import-not-at-top\u001b[39;00m\n\u001b[1;32m---> 64\u001b[0m \u001b[38;5;28;01mreturn\u001b[39;00m \u001b[43mdeserialize\u001b[49m\u001b[43m(\u001b[49m\u001b[43mconfig\u001b[49m\u001b[43m,\u001b[49m\u001b[43m \u001b[49m\u001b[43mcustom_objects\u001b[49m\u001b[38;5;241;43m=\u001b[39;49m\u001b[43mcustom_objects\u001b[49m\u001b[43m)\u001b[49m\n",
      "File \u001b[1;32m~\\anaconda3\\lib\\site-packages\\tensorflow\\python\\keras\\layers\\serialization.py:173\u001b[0m, in \u001b[0;36mdeserialize\u001b[1;34m(config, custom_objects)\u001b[0m\n\u001b[0;32m    162\u001b[0m \u001b[38;5;250m\u001b[39m\u001b[38;5;124;03m\"\"\"Instantiates a layer from a config dictionary.\u001b[39;00m\n\u001b[0;32m    163\u001b[0m \n\u001b[0;32m    164\u001b[0m \u001b[38;5;124;03mArguments:\u001b[39;00m\n\u001b[1;32m   (...)\u001b[0m\n\u001b[0;32m    170\u001b[0m \u001b[38;5;124;03m    Layer instance (may be Model, Sequential, Network, Layer...)\u001b[39;00m\n\u001b[0;32m    171\u001b[0m \u001b[38;5;124;03m\"\"\"\u001b[39;00m\n\u001b[0;32m    172\u001b[0m populate_deserializable_objects()\n\u001b[1;32m--> 173\u001b[0m \u001b[38;5;28;01mreturn\u001b[39;00m \u001b[43mgeneric_utils\u001b[49m\u001b[38;5;241;43m.\u001b[39;49m\u001b[43mdeserialize_keras_object\u001b[49m\u001b[43m(\u001b[49m\n\u001b[0;32m    174\u001b[0m \u001b[43m    \u001b[49m\u001b[43mconfig\u001b[49m\u001b[43m,\u001b[49m\n\u001b[0;32m    175\u001b[0m \u001b[43m    \u001b[49m\u001b[43mmodule_objects\u001b[49m\u001b[38;5;241;43m=\u001b[39;49m\u001b[43mLOCAL\u001b[49m\u001b[38;5;241;43m.\u001b[39;49m\u001b[43mALL_OBJECTS\u001b[49m\u001b[43m,\u001b[49m\n\u001b[0;32m    176\u001b[0m \u001b[43m    \u001b[49m\u001b[43mcustom_objects\u001b[49m\u001b[38;5;241;43m=\u001b[39;49m\u001b[43mcustom_objects\u001b[49m\u001b[43m,\u001b[49m\n\u001b[0;32m    177\u001b[0m \u001b[43m    \u001b[49m\u001b[43mprintable_module_name\u001b[49m\u001b[38;5;241;43m=\u001b[39;49m\u001b[38;5;124;43m'\u001b[39;49m\u001b[38;5;124;43mlayer\u001b[39;49m\u001b[38;5;124;43m'\u001b[39;49m\u001b[43m)\u001b[49m\n",
      "File \u001b[1;32m~\\anaconda3\\lib\\site-packages\\tensorflow\\python\\keras\\utils\\generic_utils.py:354\u001b[0m, in \u001b[0;36mdeserialize_keras_object\u001b[1;34m(identifier, module_objects, custom_objects, printable_module_name)\u001b[0m\n\u001b[0;32m    351\u001b[0m custom_objects \u001b[38;5;241m=\u001b[39m custom_objects \u001b[38;5;129;01mor\u001b[39;00m {}\n\u001b[0;32m    353\u001b[0m \u001b[38;5;28;01mif\u001b[39;00m \u001b[38;5;124m'\u001b[39m\u001b[38;5;124mcustom_objects\u001b[39m\u001b[38;5;124m'\u001b[39m \u001b[38;5;129;01min\u001b[39;00m arg_spec\u001b[38;5;241m.\u001b[39margs:\n\u001b[1;32m--> 354\u001b[0m   \u001b[38;5;28;01mreturn\u001b[39;00m \u001b[38;5;28;43mcls\u001b[39;49m\u001b[38;5;241;43m.\u001b[39;49m\u001b[43mfrom_config\u001b[49m\u001b[43m(\u001b[49m\n\u001b[0;32m    355\u001b[0m \u001b[43m      \u001b[49m\u001b[43mcls_config\u001b[49m\u001b[43m,\u001b[49m\n\u001b[0;32m    356\u001b[0m \u001b[43m      \u001b[49m\u001b[43mcustom_objects\u001b[49m\u001b[38;5;241;43m=\u001b[39;49m\u001b[38;5;28;43mdict\u001b[39;49m\u001b[43m(\u001b[49m\n\u001b[0;32m    357\u001b[0m \u001b[43m          \u001b[49m\u001b[38;5;28;43mlist\u001b[39;49m\u001b[43m(\u001b[49m\u001b[43m_GLOBAL_CUSTOM_OBJECTS\u001b[49m\u001b[38;5;241;43m.\u001b[39;49m\u001b[43mitems\u001b[49m\u001b[43m(\u001b[49m\u001b[43m)\u001b[49m\u001b[43m)\u001b[49m\u001b[43m \u001b[49m\u001b[38;5;241;43m+\u001b[39;49m\n\u001b[0;32m    358\u001b[0m \u001b[43m          \u001b[49m\u001b[38;5;28;43mlist\u001b[39;49m\u001b[43m(\u001b[49m\u001b[43mcustom_objects\u001b[49m\u001b[38;5;241;43m.\u001b[39;49m\u001b[43mitems\u001b[49m\u001b[43m(\u001b[49m\u001b[43m)\u001b[49m\u001b[43m)\u001b[49m\u001b[43m)\u001b[49m\u001b[43m)\u001b[49m\n\u001b[0;32m    359\u001b[0m \u001b[38;5;28;01mwith\u001b[39;00m CustomObjectScope(custom_objects):\n\u001b[0;32m    360\u001b[0m   \u001b[38;5;28;01mreturn\u001b[39;00m \u001b[38;5;28mcls\u001b[39m\u001b[38;5;241m.\u001b[39mfrom_config(cls_config)\n",
      "File \u001b[1;32m~\\anaconda3\\lib\\site-packages\\tensorflow\\python\\keras\\engine\\sequential.py:494\u001b[0m, in \u001b[0;36mSequential.from_config\u001b[1;34m(cls, config, custom_objects)\u001b[0m\n\u001b[0;32m    491\u001b[0m \u001b[38;5;28;01mfor\u001b[39;00m layer_config \u001b[38;5;129;01min\u001b[39;00m layer_configs:\n\u001b[0;32m    492\u001b[0m   layer \u001b[38;5;241m=\u001b[39m layer_module\u001b[38;5;241m.\u001b[39mdeserialize(layer_config,\n\u001b[0;32m    493\u001b[0m                                    custom_objects\u001b[38;5;241m=\u001b[39mcustom_objects)\n\u001b[1;32m--> 494\u001b[0m   \u001b[43mmodel\u001b[49m\u001b[38;5;241;43m.\u001b[39;49m\u001b[43madd\u001b[49m\u001b[43m(\u001b[49m\u001b[43mlayer\u001b[49m\u001b[43m)\u001b[49m\n\u001b[0;32m    495\u001b[0m \u001b[38;5;28;01mif\u001b[39;00m (\u001b[38;5;129;01mnot\u001b[39;00m model\u001b[38;5;241m.\u001b[39minputs \u001b[38;5;129;01mand\u001b[39;00m build_input_shape \u001b[38;5;129;01mand\u001b[39;00m\n\u001b[0;32m    496\u001b[0m     \u001b[38;5;28misinstance\u001b[39m(build_input_shape, (\u001b[38;5;28mtuple\u001b[39m, \u001b[38;5;28mlist\u001b[39m))):\n\u001b[0;32m    497\u001b[0m   model\u001b[38;5;241m.\u001b[39mbuild(build_input_shape)\n",
      "File \u001b[1;32m~\\anaconda3\\lib\\site-packages\\tensorflow\\python\\training\\tracking\\base.py:517\u001b[0m, in \u001b[0;36mno_automatic_dependency_tracking.<locals>._method_wrapper\u001b[1;34m(self, *args, **kwargs)\u001b[0m\n\u001b[0;32m    515\u001b[0m \u001b[38;5;28mself\u001b[39m\u001b[38;5;241m.\u001b[39m_self_setattr_tracking \u001b[38;5;241m=\u001b[39m \u001b[38;5;28;01mFalse\u001b[39;00m  \u001b[38;5;66;03m# pylint: disable=protected-access\u001b[39;00m\n\u001b[0;32m    516\u001b[0m \u001b[38;5;28;01mtry\u001b[39;00m:\n\u001b[1;32m--> 517\u001b[0m   result \u001b[38;5;241m=\u001b[39m \u001b[43mmethod\u001b[49m\u001b[43m(\u001b[49m\u001b[38;5;28;43mself\u001b[39;49m\u001b[43m,\u001b[49m\u001b[43m \u001b[49m\u001b[38;5;241;43m*\u001b[39;49m\u001b[43margs\u001b[49m\u001b[43m,\u001b[49m\u001b[43m \u001b[49m\u001b[38;5;241;43m*\u001b[39;49m\u001b[38;5;241;43m*\u001b[39;49m\u001b[43mkwargs\u001b[49m\u001b[43m)\u001b[49m\n\u001b[0;32m    518\u001b[0m \u001b[38;5;28;01mfinally\u001b[39;00m:\n\u001b[0;32m    519\u001b[0m   \u001b[38;5;28mself\u001b[39m\u001b[38;5;241m.\u001b[39m_self_setattr_tracking \u001b[38;5;241m=\u001b[39m previous_value  \u001b[38;5;66;03m# pylint: disable=protected-access\u001b[39;00m\n",
      "File \u001b[1;32m~\\anaconda3\\lib\\site-packages\\tensorflow\\python\\keras\\engine\\sequential.py:223\u001b[0m, in \u001b[0;36mSequential.add\u001b[1;34m(self, layer)\u001b[0m\n\u001b[0;32m    218\u001b[0m     \u001b[38;5;28mself\u001b[39m\u001b[38;5;241m.\u001b[39m_has_explicit_input_shape \u001b[38;5;241m=\u001b[39m \u001b[38;5;28;01mTrue\u001b[39;00m\n\u001b[0;32m    220\u001b[0m \u001b[38;5;28;01melif\u001b[39;00m \u001b[38;5;28mself\u001b[39m\u001b[38;5;241m.\u001b[39moutputs:\n\u001b[0;32m    221\u001b[0m   \u001b[38;5;66;03m# If the model is being built continuously on top of an input layer:\u001b[39;00m\n\u001b[0;32m    222\u001b[0m   \u001b[38;5;66;03m# refresh its output.\u001b[39;00m\n\u001b[1;32m--> 223\u001b[0m   output_tensor \u001b[38;5;241m=\u001b[39m \u001b[43mlayer\u001b[49m\u001b[43m(\u001b[49m\u001b[38;5;28;43mself\u001b[39;49m\u001b[38;5;241;43m.\u001b[39;49m\u001b[43moutputs\u001b[49m\u001b[43m[\u001b[49m\u001b[38;5;241;43m0\u001b[39;49m\u001b[43m]\u001b[49m\u001b[43m)\u001b[49m\n\u001b[0;32m    224\u001b[0m   \u001b[38;5;28;01mif\u001b[39;00m \u001b[38;5;28mlen\u001b[39m(nest\u001b[38;5;241m.\u001b[39mflatten(output_tensor)) \u001b[38;5;241m!=\u001b[39m \u001b[38;5;241m1\u001b[39m:\n\u001b[0;32m    225\u001b[0m     \u001b[38;5;28;01mraise\u001b[39;00m \u001b[38;5;167;01mValueError\u001b[39;00m(SINGLE_LAYER_OUTPUT_ERROR_MSG)\n",
      "File \u001b[1;32m~\\anaconda3\\lib\\site-packages\\tensorflow\\python\\keras\\layers\\recurrent.py:660\u001b[0m, in \u001b[0;36mRNN.__call__\u001b[1;34m(self, inputs, initial_state, constants, **kwargs)\u001b[0m\n\u001b[0;32m    654\u001b[0m inputs, initial_state, constants \u001b[38;5;241m=\u001b[39m _standardize_args(inputs,\n\u001b[0;32m    655\u001b[0m                                                      initial_state,\n\u001b[0;32m    656\u001b[0m                                                      constants,\n\u001b[0;32m    657\u001b[0m                                                      \u001b[38;5;28mself\u001b[39m\u001b[38;5;241m.\u001b[39m_num_constants)\n\u001b[0;32m    659\u001b[0m \u001b[38;5;28;01mif\u001b[39;00m initial_state \u001b[38;5;129;01mis\u001b[39;00m \u001b[38;5;28;01mNone\u001b[39;00m \u001b[38;5;129;01mand\u001b[39;00m constants \u001b[38;5;129;01mis\u001b[39;00m \u001b[38;5;28;01mNone\u001b[39;00m:\n\u001b[1;32m--> 660\u001b[0m   \u001b[38;5;28;01mreturn\u001b[39;00m \u001b[38;5;28;43msuper\u001b[39;49m\u001b[43m(\u001b[49m\u001b[43mRNN\u001b[49m\u001b[43m,\u001b[49m\u001b[43m \u001b[49m\u001b[38;5;28;43mself\u001b[39;49m\u001b[43m)\u001b[49m\u001b[38;5;241;43m.\u001b[39;49m\u001b[38;5;21;43m__call__\u001b[39;49m\u001b[43m(\u001b[49m\u001b[43minputs\u001b[49m\u001b[43m,\u001b[49m\u001b[43m \u001b[49m\u001b[38;5;241;43m*\u001b[39;49m\u001b[38;5;241;43m*\u001b[39;49m\u001b[43mkwargs\u001b[49m\u001b[43m)\u001b[49m\n\u001b[0;32m    662\u001b[0m \u001b[38;5;66;03m# If any of `initial_state` or `constants` are specified and are Keras\u001b[39;00m\n\u001b[0;32m    663\u001b[0m \u001b[38;5;66;03m# tensors, then add them to the inputs and temporarily modify the\u001b[39;00m\n\u001b[0;32m    664\u001b[0m \u001b[38;5;66;03m# input_spec to include them.\u001b[39;00m\n\u001b[0;32m    666\u001b[0m additional_inputs \u001b[38;5;241m=\u001b[39m []\n",
      "File \u001b[1;32m~\\anaconda3\\lib\\site-packages\\tensorflow\\python\\keras\\engine\\base_layer.py:951\u001b[0m, in \u001b[0;36mLayer.__call__\u001b[1;34m(self, *args, **kwargs)\u001b[0m\n\u001b[0;32m    945\u001b[0m \u001b[38;5;66;03m# Functional Model construction mode is invoked when `Layer`s are called on\u001b[39;00m\n\u001b[0;32m    946\u001b[0m \u001b[38;5;66;03m# symbolic `KerasTensor`s, i.e.:\u001b[39;00m\n\u001b[0;32m    947\u001b[0m \u001b[38;5;66;03m# >> inputs = tf.keras.Input(10)\u001b[39;00m\n\u001b[0;32m    948\u001b[0m \u001b[38;5;66;03m# >> outputs = MyLayer()(inputs)  # Functional construction mode.\u001b[39;00m\n\u001b[0;32m    949\u001b[0m \u001b[38;5;66;03m# >> model = tf.keras.Model(inputs, outputs)\u001b[39;00m\n\u001b[0;32m    950\u001b[0m \u001b[38;5;28;01mif\u001b[39;00m _in_functional_construction_mode(\u001b[38;5;28mself\u001b[39m, inputs, args, kwargs, input_list):\n\u001b[1;32m--> 951\u001b[0m   \u001b[38;5;28;01mreturn\u001b[39;00m \u001b[38;5;28;43mself\u001b[39;49m\u001b[38;5;241;43m.\u001b[39;49m\u001b[43m_functional_construction_call\u001b[49m\u001b[43m(\u001b[49m\u001b[43minputs\u001b[49m\u001b[43m,\u001b[49m\u001b[43m \u001b[49m\u001b[43margs\u001b[49m\u001b[43m,\u001b[49m\u001b[43m \u001b[49m\u001b[43mkwargs\u001b[49m\u001b[43m,\u001b[49m\n\u001b[0;32m    952\u001b[0m \u001b[43m                                            \u001b[49m\u001b[43minput_list\u001b[49m\u001b[43m)\u001b[49m\n\u001b[0;32m    954\u001b[0m \u001b[38;5;66;03m# Maintains info about the `Layer.call` stack.\u001b[39;00m\n\u001b[0;32m    955\u001b[0m call_context \u001b[38;5;241m=\u001b[39m base_layer_utils\u001b[38;5;241m.\u001b[39mcall_context()\n",
      "File \u001b[1;32m~\\anaconda3\\lib\\site-packages\\tensorflow\\python\\keras\\engine\\base_layer.py:1090\u001b[0m, in \u001b[0;36mLayer._functional_construction_call\u001b[1;34m(self, inputs, args, kwargs, input_list)\u001b[0m\n\u001b[0;32m   1086\u001b[0m \u001b[38;5;28;01mif\u001b[39;00m keras_tensor\u001b[38;5;241m.\u001b[39mkeras_tensors_enabled():\n\u001b[0;32m   1087\u001b[0m   \u001b[38;5;28;01mwith\u001b[39;00m call_context\u001b[38;5;241m.\u001b[39menter(\n\u001b[0;32m   1088\u001b[0m       layer\u001b[38;5;241m=\u001b[39m\u001b[38;5;28mself\u001b[39m, inputs\u001b[38;5;241m=\u001b[39minputs, build_graph\u001b[38;5;241m=\u001b[39m\u001b[38;5;28;01mTrue\u001b[39;00m, training\u001b[38;5;241m=\u001b[39mtraining_value):\n\u001b[0;32m   1089\u001b[0m     \u001b[38;5;66;03m# Check input assumptions set after layer building, e.g. input shape.\u001b[39;00m\n\u001b[1;32m-> 1090\u001b[0m     outputs \u001b[38;5;241m=\u001b[39m \u001b[38;5;28;43mself\u001b[39;49m\u001b[38;5;241;43m.\u001b[39;49m\u001b[43m_keras_tensor_symbolic_call\u001b[49m\u001b[43m(\u001b[49m\n\u001b[0;32m   1091\u001b[0m \u001b[43m        \u001b[49m\u001b[43minputs\u001b[49m\u001b[43m,\u001b[49m\u001b[43m \u001b[49m\u001b[43minput_masks\u001b[49m\u001b[43m,\u001b[49m\u001b[43m \u001b[49m\u001b[43margs\u001b[49m\u001b[43m,\u001b[49m\u001b[43m \u001b[49m\u001b[43mkwargs\u001b[49m\u001b[43m)\u001b[49m\n\u001b[0;32m   1093\u001b[0m     \u001b[38;5;28;01mif\u001b[39;00m outputs \u001b[38;5;129;01mis\u001b[39;00m \u001b[38;5;28;01mNone\u001b[39;00m:\n\u001b[0;32m   1094\u001b[0m       \u001b[38;5;28;01mraise\u001b[39;00m \u001b[38;5;167;01mValueError\u001b[39;00m(\u001b[38;5;124m'\u001b[39m\u001b[38;5;124mA layer\u001b[39m\u001b[38;5;130;01m\\'\u001b[39;00m\u001b[38;5;124ms `call` method should return a \u001b[39m\u001b[38;5;124m'\u001b[39m\n\u001b[0;32m   1095\u001b[0m                        \u001b[38;5;124m'\u001b[39m\u001b[38;5;124mTensor or a list of Tensors, not None \u001b[39m\u001b[38;5;124m'\u001b[39m\n\u001b[0;32m   1096\u001b[0m                        \u001b[38;5;124m'\u001b[39m\u001b[38;5;124m(layer: \u001b[39m\u001b[38;5;124m'\u001b[39m \u001b[38;5;241m+\u001b[39m \u001b[38;5;28mself\u001b[39m\u001b[38;5;241m.\u001b[39mname \u001b[38;5;241m+\u001b[39m \u001b[38;5;124m'\u001b[39m\u001b[38;5;124m).\u001b[39m\u001b[38;5;124m'\u001b[39m)\n",
      "File \u001b[1;32m~\\anaconda3\\lib\\site-packages\\tensorflow\\python\\keras\\engine\\base_layer.py:822\u001b[0m, in \u001b[0;36mLayer._keras_tensor_symbolic_call\u001b[1;34m(self, inputs, input_masks, args, kwargs)\u001b[0m\n\u001b[0;32m    820\u001b[0m   \u001b[38;5;28;01mreturn\u001b[39;00m nest\u001b[38;5;241m.\u001b[39mmap_structure(keras_tensor\u001b[38;5;241m.\u001b[39mKerasTensor, output_signature)\n\u001b[0;32m    821\u001b[0m \u001b[38;5;28;01melse\u001b[39;00m:\n\u001b[1;32m--> 822\u001b[0m   \u001b[38;5;28;01mreturn\u001b[39;00m \u001b[38;5;28;43mself\u001b[39;49m\u001b[38;5;241;43m.\u001b[39;49m\u001b[43m_infer_output_signature\u001b[49m\u001b[43m(\u001b[49m\u001b[43minputs\u001b[49m\u001b[43m,\u001b[49m\u001b[43m \u001b[49m\u001b[43margs\u001b[49m\u001b[43m,\u001b[49m\u001b[43m \u001b[49m\u001b[43mkwargs\u001b[49m\u001b[43m,\u001b[49m\u001b[43m \u001b[49m\u001b[43minput_masks\u001b[49m\u001b[43m)\u001b[49m\n",
      "File \u001b[1;32m~\\anaconda3\\lib\\site-packages\\tensorflow\\python\\keras\\engine\\base_layer.py:863\u001b[0m, in \u001b[0;36mLayer._infer_output_signature\u001b[1;34m(self, inputs, args, kwargs, input_masks)\u001b[0m\n\u001b[0;32m    857\u001b[0m   \u001b[38;5;28;01mwith\u001b[39;00m autocast_variable\u001b[38;5;241m.\u001b[39menable_auto_cast_variables(\n\u001b[0;32m    858\u001b[0m       \u001b[38;5;28mself\u001b[39m\u001b[38;5;241m.\u001b[39m_compute_dtype_object):\n\u001b[0;32m    859\u001b[0m     \u001b[38;5;66;03m# Build layer if applicable (if the `build` method has been\u001b[39;00m\n\u001b[0;32m    860\u001b[0m     \u001b[38;5;66;03m# overridden).\u001b[39;00m\n\u001b[0;32m    861\u001b[0m     \u001b[38;5;66;03m# TODO(kaftan): do we maybe_build here, or have we already done it?\u001b[39;00m\n\u001b[0;32m    862\u001b[0m     \u001b[38;5;28mself\u001b[39m\u001b[38;5;241m.\u001b[39m_maybe_build(inputs)\n\u001b[1;32m--> 863\u001b[0m     outputs \u001b[38;5;241m=\u001b[39m \u001b[43mcall_fn\u001b[49m\u001b[43m(\u001b[49m\u001b[43minputs\u001b[49m\u001b[43m,\u001b[49m\u001b[43m \u001b[49m\u001b[38;5;241;43m*\u001b[39;49m\u001b[43margs\u001b[49m\u001b[43m,\u001b[49m\u001b[43m \u001b[49m\u001b[38;5;241;43m*\u001b[39;49m\u001b[38;5;241;43m*\u001b[39;49m\u001b[43mkwargs\u001b[49m\u001b[43m)\u001b[49m\n\u001b[0;32m    865\u001b[0m   \u001b[38;5;28mself\u001b[39m\u001b[38;5;241m.\u001b[39m_handle_activity_regularization(inputs, outputs)\n\u001b[0;32m    866\u001b[0m \u001b[38;5;28mself\u001b[39m\u001b[38;5;241m.\u001b[39m_set_mask_metadata(inputs, outputs, input_masks,\n\u001b[0;32m    867\u001b[0m                         build_graph\u001b[38;5;241m=\u001b[39m\u001b[38;5;28;01mFalse\u001b[39;00m)\n",
      "File \u001b[1;32m~\\anaconda3\\lib\\site-packages\\tensorflow\\python\\keras\\layers\\recurrent_v2.py:1157\u001b[0m, in \u001b[0;36mLSTM.call\u001b[1;34m(self, inputs, mask, training, initial_state)\u001b[0m\n\u001b[0;32m   1154\u001b[0m \u001b[38;5;28mself\u001b[39m\u001b[38;5;241m.\u001b[39m_validate_args_if_ragged(is_ragged_input, mask)\n\u001b[0;32m   1156\u001b[0m \u001b[38;5;66;03m# LSTM does not support constants. Ignore it during process.\u001b[39;00m\n\u001b[1;32m-> 1157\u001b[0m inputs, initial_state, _ \u001b[38;5;241m=\u001b[39m \u001b[38;5;28;43mself\u001b[39;49m\u001b[38;5;241;43m.\u001b[39;49m\u001b[43m_process_inputs\u001b[49m\u001b[43m(\u001b[49m\u001b[43minputs\u001b[49m\u001b[43m,\u001b[49m\u001b[43m \u001b[49m\u001b[43minitial_state\u001b[49m\u001b[43m,\u001b[49m\u001b[43m \u001b[49m\u001b[38;5;28;43;01mNone\u001b[39;49;00m\u001b[43m)\u001b[49m\n\u001b[0;32m   1159\u001b[0m \u001b[38;5;28;01mif\u001b[39;00m \u001b[38;5;28misinstance\u001b[39m(mask, \u001b[38;5;28mlist\u001b[39m):\n\u001b[0;32m   1160\u001b[0m   mask \u001b[38;5;241m=\u001b[39m mask[\u001b[38;5;241m0\u001b[39m]\n",
      "File \u001b[1;32m~\\anaconda3\\lib\\site-packages\\tensorflow\\python\\keras\\layers\\recurrent.py:859\u001b[0m, in \u001b[0;36mRNN._process_inputs\u001b[1;34m(self, inputs, initial_state, constants)\u001b[0m\n\u001b[0;32m    857\u001b[0m     initial_state \u001b[38;5;241m=\u001b[39m \u001b[38;5;28mself\u001b[39m\u001b[38;5;241m.\u001b[39mstates\n\u001b[0;32m    858\u001b[0m \u001b[38;5;28;01melif\u001b[39;00m initial_state \u001b[38;5;129;01mis\u001b[39;00m \u001b[38;5;28;01mNone\u001b[39;00m:\n\u001b[1;32m--> 859\u001b[0m   initial_state \u001b[38;5;241m=\u001b[39m \u001b[38;5;28;43mself\u001b[39;49m\u001b[38;5;241;43m.\u001b[39;49m\u001b[43mget_initial_state\u001b[49m\u001b[43m(\u001b[49m\u001b[43minputs\u001b[49m\u001b[43m)\u001b[49m\n\u001b[0;32m    861\u001b[0m \u001b[38;5;28;01mif\u001b[39;00m \u001b[38;5;28mlen\u001b[39m(initial_state) \u001b[38;5;241m!=\u001b[39m \u001b[38;5;28mlen\u001b[39m(\u001b[38;5;28mself\u001b[39m\u001b[38;5;241m.\u001b[39mstates):\n\u001b[0;32m    862\u001b[0m   \u001b[38;5;28;01mraise\u001b[39;00m \u001b[38;5;167;01mValueError\u001b[39;00m(\u001b[38;5;124m'\u001b[39m\u001b[38;5;124mLayer has \u001b[39m\u001b[38;5;124m'\u001b[39m \u001b[38;5;241m+\u001b[39m \u001b[38;5;28mstr\u001b[39m(\u001b[38;5;28mlen\u001b[39m(\u001b[38;5;28mself\u001b[39m\u001b[38;5;241m.\u001b[39mstates)) \u001b[38;5;241m+\u001b[39m\n\u001b[0;32m    863\u001b[0m                    \u001b[38;5;124m'\u001b[39m\u001b[38;5;124m states but was passed \u001b[39m\u001b[38;5;124m'\u001b[39m \u001b[38;5;241m+\u001b[39m \u001b[38;5;28mstr\u001b[39m(\u001b[38;5;28mlen\u001b[39m(initial_state)) \u001b[38;5;241m+\u001b[39m\n\u001b[0;32m    864\u001b[0m                    \u001b[38;5;124m'\u001b[39m\u001b[38;5;124m initial states.\u001b[39m\u001b[38;5;124m'\u001b[39m)\n",
      "File \u001b[1;32m~\\anaconda3\\lib\\site-packages\\tensorflow\\python\\keras\\layers\\recurrent.py:642\u001b[0m, in \u001b[0;36mRNN.get_initial_state\u001b[1;34m(self, inputs)\u001b[0m\n\u001b[0;32m    640\u001b[0m dtype \u001b[38;5;241m=\u001b[39m inputs\u001b[38;5;241m.\u001b[39mdtype\n\u001b[0;32m    641\u001b[0m \u001b[38;5;28;01mif\u001b[39;00m get_initial_state_fn:\n\u001b[1;32m--> 642\u001b[0m   init_state \u001b[38;5;241m=\u001b[39m \u001b[43mget_initial_state_fn\u001b[49m\u001b[43m(\u001b[49m\n\u001b[0;32m    643\u001b[0m \u001b[43m      \u001b[49m\u001b[43minputs\u001b[49m\u001b[38;5;241;43m=\u001b[39;49m\u001b[38;5;28;43;01mNone\u001b[39;49;00m\u001b[43m,\u001b[49m\u001b[43m \u001b[49m\u001b[43mbatch_size\u001b[49m\u001b[38;5;241;43m=\u001b[39;49m\u001b[43mbatch_size\u001b[49m\u001b[43m,\u001b[49m\u001b[43m \u001b[49m\u001b[43mdtype\u001b[49m\u001b[38;5;241;43m=\u001b[39;49m\u001b[43mdtype\u001b[49m\u001b[43m)\u001b[49m\n\u001b[0;32m    644\u001b[0m \u001b[38;5;28;01melse\u001b[39;00m:\n\u001b[0;32m    645\u001b[0m   init_state \u001b[38;5;241m=\u001b[39m _generate_zero_filled_state(batch_size, \u001b[38;5;28mself\u001b[39m\u001b[38;5;241m.\u001b[39mcell\u001b[38;5;241m.\u001b[39mstate_size,\n\u001b[0;32m    646\u001b[0m                                            dtype)\n",
      "File \u001b[1;32m~\\anaconda3\\lib\\site-packages\\tensorflow\\python\\keras\\layers\\recurrent.py:2506\u001b[0m, in \u001b[0;36mLSTMCell.get_initial_state\u001b[1;34m(self, inputs, batch_size, dtype)\u001b[0m\n\u001b[0;32m   2505\u001b[0m \u001b[38;5;28;01mdef\u001b[39;00m \u001b[38;5;21mget_initial_state\u001b[39m(\u001b[38;5;28mself\u001b[39m, inputs\u001b[38;5;241m=\u001b[39m\u001b[38;5;28;01mNone\u001b[39;00m, batch_size\u001b[38;5;241m=\u001b[39m\u001b[38;5;28;01mNone\u001b[39;00m, dtype\u001b[38;5;241m=\u001b[39m\u001b[38;5;28;01mNone\u001b[39;00m):\n\u001b[1;32m-> 2506\u001b[0m   \u001b[38;5;28;01mreturn\u001b[39;00m \u001b[38;5;28mlist\u001b[39m(\u001b[43m_generate_zero_filled_state_for_cell\u001b[49m\u001b[43m(\u001b[49m\n\u001b[0;32m   2507\u001b[0m \u001b[43m      \u001b[49m\u001b[38;5;28;43mself\u001b[39;49m\u001b[43m,\u001b[49m\u001b[43m \u001b[49m\u001b[43minputs\u001b[49m\u001b[43m,\u001b[49m\u001b[43m \u001b[49m\u001b[43mbatch_size\u001b[49m\u001b[43m,\u001b[49m\u001b[43m \u001b[49m\u001b[43mdtype\u001b[49m\u001b[43m)\u001b[49m)\n",
      "File \u001b[1;32m~\\anaconda3\\lib\\site-packages\\tensorflow\\python\\keras\\layers\\recurrent.py:2987\u001b[0m, in \u001b[0;36m_generate_zero_filled_state_for_cell\u001b[1;34m(cell, inputs, batch_size, dtype)\u001b[0m\n\u001b[0;32m   2985\u001b[0m   batch_size \u001b[38;5;241m=\u001b[39m array_ops\u001b[38;5;241m.\u001b[39mshape(inputs)[\u001b[38;5;241m0\u001b[39m]\n\u001b[0;32m   2986\u001b[0m   dtype \u001b[38;5;241m=\u001b[39m inputs\u001b[38;5;241m.\u001b[39mdtype\n\u001b[1;32m-> 2987\u001b[0m \u001b[38;5;28;01mreturn\u001b[39;00m \u001b[43m_generate_zero_filled_state\u001b[49m\u001b[43m(\u001b[49m\u001b[43mbatch_size\u001b[49m\u001b[43m,\u001b[49m\u001b[43m \u001b[49m\u001b[43mcell\u001b[49m\u001b[38;5;241;43m.\u001b[39;49m\u001b[43mstate_size\u001b[49m\u001b[43m,\u001b[49m\u001b[43m \u001b[49m\u001b[43mdtype\u001b[49m\u001b[43m)\u001b[49m\n",
      "File \u001b[1;32m~\\anaconda3\\lib\\site-packages\\tensorflow\\python\\keras\\layers\\recurrent.py:3003\u001b[0m, in \u001b[0;36m_generate_zero_filled_state\u001b[1;34m(batch_size_tensor, state_size, dtype)\u001b[0m\n\u001b[0;32m   3000\u001b[0m   \u001b[38;5;28;01mreturn\u001b[39;00m array_ops\u001b[38;5;241m.\u001b[39mzeros(init_state_size, dtype\u001b[38;5;241m=\u001b[39mdtype)\n\u001b[0;32m   3002\u001b[0m \u001b[38;5;28;01mif\u001b[39;00m nest\u001b[38;5;241m.\u001b[39mis_nested(state_size):\n\u001b[1;32m-> 3003\u001b[0m   \u001b[38;5;28;01mreturn\u001b[39;00m \u001b[43mnest\u001b[49m\u001b[38;5;241;43m.\u001b[39;49m\u001b[43mmap_structure\u001b[49m\u001b[43m(\u001b[49m\u001b[43mcreate_zeros\u001b[49m\u001b[43m,\u001b[49m\u001b[43m \u001b[49m\u001b[43mstate_size\u001b[49m\u001b[43m)\u001b[49m\n\u001b[0;32m   3004\u001b[0m \u001b[38;5;28;01melse\u001b[39;00m:\n\u001b[0;32m   3005\u001b[0m   \u001b[38;5;28;01mreturn\u001b[39;00m create_zeros(state_size)\n",
      "File \u001b[1;32m~\\anaconda3\\lib\\site-packages\\tensorflow\\python\\util\\nest.py:659\u001b[0m, in \u001b[0;36mmap_structure\u001b[1;34m(func, *structure, **kwargs)\u001b[0m\n\u001b[0;32m    655\u001b[0m flat_structure \u001b[38;5;241m=\u001b[39m (flatten(s, expand_composites) \u001b[38;5;28;01mfor\u001b[39;00m s \u001b[38;5;129;01min\u001b[39;00m structure)\n\u001b[0;32m    656\u001b[0m entries \u001b[38;5;241m=\u001b[39m \u001b[38;5;28mzip\u001b[39m(\u001b[38;5;241m*\u001b[39mflat_structure)\n\u001b[0;32m    658\u001b[0m \u001b[38;5;28;01mreturn\u001b[39;00m pack_sequence_as(\n\u001b[1;32m--> 659\u001b[0m     structure[\u001b[38;5;241m0\u001b[39m], [func(\u001b[38;5;241m*\u001b[39mx) \u001b[38;5;28;01mfor\u001b[39;00m x \u001b[38;5;129;01min\u001b[39;00m entries],\n\u001b[0;32m    660\u001b[0m     expand_composites\u001b[38;5;241m=\u001b[39mexpand_composites)\n",
      "File \u001b[1;32m~\\anaconda3\\lib\\site-packages\\tensorflow\\python\\util\\nest.py:659\u001b[0m, in \u001b[0;36m<listcomp>\u001b[1;34m(.0)\u001b[0m\n\u001b[0;32m    655\u001b[0m flat_structure \u001b[38;5;241m=\u001b[39m (flatten(s, expand_composites) \u001b[38;5;28;01mfor\u001b[39;00m s \u001b[38;5;129;01min\u001b[39;00m structure)\n\u001b[0;32m    656\u001b[0m entries \u001b[38;5;241m=\u001b[39m \u001b[38;5;28mzip\u001b[39m(\u001b[38;5;241m*\u001b[39mflat_structure)\n\u001b[0;32m    658\u001b[0m \u001b[38;5;28;01mreturn\u001b[39;00m pack_sequence_as(\n\u001b[1;32m--> 659\u001b[0m     structure[\u001b[38;5;241m0\u001b[39m], [\u001b[43mfunc\u001b[49m\u001b[43m(\u001b[49m\u001b[38;5;241;43m*\u001b[39;49m\u001b[43mx\u001b[49m\u001b[43m)\u001b[49m \u001b[38;5;28;01mfor\u001b[39;00m x \u001b[38;5;129;01min\u001b[39;00m entries],\n\u001b[0;32m    660\u001b[0m     expand_composites\u001b[38;5;241m=\u001b[39mexpand_composites)\n",
      "File \u001b[1;32m~\\anaconda3\\lib\\site-packages\\tensorflow\\python\\keras\\layers\\recurrent.py:3000\u001b[0m, in \u001b[0;36m_generate_zero_filled_state.<locals>.create_zeros\u001b[1;34m(unnested_state_size)\u001b[0m\n\u001b[0;32m   2998\u001b[0m flat_dims \u001b[38;5;241m=\u001b[39m tensor_shape\u001b[38;5;241m.\u001b[39mTensorShape(unnested_state_size)\u001b[38;5;241m.\u001b[39mas_list()\n\u001b[0;32m   2999\u001b[0m init_state_size \u001b[38;5;241m=\u001b[39m [batch_size_tensor] \u001b[38;5;241m+\u001b[39m flat_dims\n\u001b[1;32m-> 3000\u001b[0m \u001b[38;5;28;01mreturn\u001b[39;00m \u001b[43marray_ops\u001b[49m\u001b[38;5;241;43m.\u001b[39;49m\u001b[43mzeros\u001b[49m\u001b[43m(\u001b[49m\u001b[43minit_state_size\u001b[49m\u001b[43m,\u001b[49m\u001b[43m \u001b[49m\u001b[43mdtype\u001b[49m\u001b[38;5;241;43m=\u001b[39;49m\u001b[43mdtype\u001b[49m\u001b[43m)\u001b[49m\n",
      "File \u001b[1;32m~\\anaconda3\\lib\\site-packages\\tensorflow\\python\\util\\dispatch.py:201\u001b[0m, in \u001b[0;36madd_dispatch_support.<locals>.wrapper\u001b[1;34m(*args, **kwargs)\u001b[0m\n\u001b[0;32m    199\u001b[0m \u001b[38;5;250m\u001b[39m\u001b[38;5;124;03m\"\"\"Call target, and fall back on dispatchers if there is a TypeError.\"\"\"\u001b[39;00m\n\u001b[0;32m    200\u001b[0m \u001b[38;5;28;01mtry\u001b[39;00m:\n\u001b[1;32m--> 201\u001b[0m   \u001b[38;5;28;01mreturn\u001b[39;00m \u001b[43mtarget\u001b[49m\u001b[43m(\u001b[49m\u001b[38;5;241;43m*\u001b[39;49m\u001b[43margs\u001b[49m\u001b[43m,\u001b[49m\u001b[43m \u001b[49m\u001b[38;5;241;43m*\u001b[39;49m\u001b[38;5;241;43m*\u001b[39;49m\u001b[43mkwargs\u001b[49m\u001b[43m)\u001b[49m\n\u001b[0;32m    202\u001b[0m \u001b[38;5;28;01mexcept\u001b[39;00m (\u001b[38;5;167;01mTypeError\u001b[39;00m, \u001b[38;5;167;01mValueError\u001b[39;00m):\n\u001b[0;32m    203\u001b[0m   \u001b[38;5;66;03m# Note: convert_to_eager_tensor currently raises a ValueError, not a\u001b[39;00m\n\u001b[0;32m    204\u001b[0m   \u001b[38;5;66;03m# TypeError, when given unexpected types.  So we need to catch both.\u001b[39;00m\n\u001b[0;32m    205\u001b[0m   result \u001b[38;5;241m=\u001b[39m dispatch(wrapper, args, kwargs)\n",
      "File \u001b[1;32m~\\anaconda3\\lib\\site-packages\\tensorflow\\python\\ops\\array_ops.py:2819\u001b[0m, in \u001b[0;36m_tag_zeros_tensor.<locals>.wrapped\u001b[1;34m(*args, **kwargs)\u001b[0m\n\u001b[0;32m   2818\u001b[0m \u001b[38;5;28;01mdef\u001b[39;00m \u001b[38;5;21mwrapped\u001b[39m(\u001b[38;5;241m*\u001b[39margs, \u001b[38;5;241m*\u001b[39m\u001b[38;5;241m*\u001b[39mkwargs):\n\u001b[1;32m-> 2819\u001b[0m   tensor \u001b[38;5;241m=\u001b[39m \u001b[43mfun\u001b[49m\u001b[43m(\u001b[49m\u001b[38;5;241;43m*\u001b[39;49m\u001b[43margs\u001b[49m\u001b[43m,\u001b[49m\u001b[43m \u001b[49m\u001b[38;5;241;43m*\u001b[39;49m\u001b[38;5;241;43m*\u001b[39;49m\u001b[43mkwargs\u001b[49m\u001b[43m)\u001b[49m\n\u001b[0;32m   2820\u001b[0m   tensor\u001b[38;5;241m.\u001b[39m_is_zeros_tensor \u001b[38;5;241m=\u001b[39m \u001b[38;5;28;01mTrue\u001b[39;00m\n\u001b[0;32m   2821\u001b[0m   \u001b[38;5;28;01mreturn\u001b[39;00m tensor\n",
      "File \u001b[1;32m~\\anaconda3\\lib\\site-packages\\tensorflow\\python\\ops\\array_ops.py:2868\u001b[0m, in \u001b[0;36mzeros\u001b[1;34m(shape, dtype, name)\u001b[0m\n\u001b[0;32m   2864\u001b[0m \u001b[38;5;28;01mtry\u001b[39;00m:\n\u001b[0;32m   2865\u001b[0m   \u001b[38;5;28;01mif\u001b[39;00m \u001b[38;5;129;01mnot\u001b[39;00m context\u001b[38;5;241m.\u001b[39mexecuting_eagerly():\n\u001b[0;32m   2866\u001b[0m     \u001b[38;5;66;03m# Create a constant if it won't be very big. Otherwise create a fill\u001b[39;00m\n\u001b[0;32m   2867\u001b[0m     \u001b[38;5;66;03m# op to prevent serialized GraphDefs from becoming too large.\u001b[39;00m\n\u001b[1;32m-> 2868\u001b[0m     output \u001b[38;5;241m=\u001b[39m \u001b[43m_constant_if_small\u001b[49m\u001b[43m(\u001b[49m\u001b[43mzero\u001b[49m\u001b[43m,\u001b[49m\u001b[43m \u001b[49m\u001b[43mshape\u001b[49m\u001b[43m,\u001b[49m\u001b[43m \u001b[49m\u001b[43mdtype\u001b[49m\u001b[43m,\u001b[49m\u001b[43m \u001b[49m\u001b[43mname\u001b[49m\u001b[43m)\u001b[49m\n\u001b[0;32m   2869\u001b[0m     \u001b[38;5;28;01mif\u001b[39;00m output \u001b[38;5;129;01mis\u001b[39;00m \u001b[38;5;129;01mnot\u001b[39;00m \u001b[38;5;28;01mNone\u001b[39;00m:\n\u001b[0;32m   2870\u001b[0m       \u001b[38;5;28;01mreturn\u001b[39;00m output\n",
      "File \u001b[1;32m~\\anaconda3\\lib\\site-packages\\tensorflow\\python\\ops\\array_ops.py:2804\u001b[0m, in \u001b[0;36m_constant_if_small\u001b[1;34m(value, shape, dtype, name)\u001b[0m\n\u001b[0;32m   2802\u001b[0m \u001b[38;5;28;01mdef\u001b[39;00m \u001b[38;5;21m_constant_if_small\u001b[39m(value, shape, dtype, name):\n\u001b[0;32m   2803\u001b[0m   \u001b[38;5;28;01mtry\u001b[39;00m:\n\u001b[1;32m-> 2804\u001b[0m     \u001b[38;5;28;01mif\u001b[39;00m \u001b[43mnp\u001b[49m\u001b[38;5;241;43m.\u001b[39;49m\u001b[43mprod\u001b[49m\u001b[43m(\u001b[49m\u001b[43mshape\u001b[49m\u001b[43m)\u001b[49m \u001b[38;5;241m<\u001b[39m \u001b[38;5;241m1000\u001b[39m:\n\u001b[0;32m   2805\u001b[0m       \u001b[38;5;28;01mreturn\u001b[39;00m constant(value, shape\u001b[38;5;241m=\u001b[39mshape, dtype\u001b[38;5;241m=\u001b[39mdtype, name\u001b[38;5;241m=\u001b[39mname)\n\u001b[0;32m   2806\u001b[0m   \u001b[38;5;28;01mexcept\u001b[39;00m \u001b[38;5;167;01mTypeError\u001b[39;00m:\n\u001b[0;32m   2807\u001b[0m     \u001b[38;5;66;03m# Happens when shape is a Tensor, list with Tensor elements, etc.\u001b[39;00m\n",
      "File \u001b[1;32m<__array_function__ internals>:180\u001b[0m, in \u001b[0;36mprod\u001b[1;34m(*args, **kwargs)\u001b[0m\n",
      "File \u001b[1;32m~\\anaconda3\\lib\\site-packages\\numpy\\core\\fromnumeric.py:3088\u001b[0m, in \u001b[0;36mprod\u001b[1;34m(a, axis, dtype, out, keepdims, initial, where)\u001b[0m\n\u001b[0;32m   2970\u001b[0m \u001b[38;5;129m@array_function_dispatch\u001b[39m(_prod_dispatcher)\n\u001b[0;32m   2971\u001b[0m \u001b[38;5;28;01mdef\u001b[39;00m \u001b[38;5;21mprod\u001b[39m(a, axis\u001b[38;5;241m=\u001b[39m\u001b[38;5;28;01mNone\u001b[39;00m, dtype\u001b[38;5;241m=\u001b[39m\u001b[38;5;28;01mNone\u001b[39;00m, out\u001b[38;5;241m=\u001b[39m\u001b[38;5;28;01mNone\u001b[39;00m, keepdims\u001b[38;5;241m=\u001b[39mnp\u001b[38;5;241m.\u001b[39m_NoValue,\n\u001b[0;32m   2972\u001b[0m          initial\u001b[38;5;241m=\u001b[39mnp\u001b[38;5;241m.\u001b[39m_NoValue, where\u001b[38;5;241m=\u001b[39mnp\u001b[38;5;241m.\u001b[39m_NoValue):\n\u001b[0;32m   2973\u001b[0m \u001b[38;5;250m    \u001b[39m\u001b[38;5;124;03m\"\"\"\u001b[39;00m\n\u001b[0;32m   2974\u001b[0m \u001b[38;5;124;03m    Return the product of array elements over a given axis.\u001b[39;00m\n\u001b[0;32m   2975\u001b[0m \n\u001b[1;32m   (...)\u001b[0m\n\u001b[0;32m   3086\u001b[0m \u001b[38;5;124;03m    10\u001b[39;00m\n\u001b[0;32m   3087\u001b[0m \u001b[38;5;124;03m    \"\"\"\u001b[39;00m\n\u001b[1;32m-> 3088\u001b[0m     \u001b[38;5;28;01mreturn\u001b[39;00m \u001b[43m_wrapreduction\u001b[49m\u001b[43m(\u001b[49m\u001b[43ma\u001b[49m\u001b[43m,\u001b[49m\u001b[43m \u001b[49m\u001b[43mnp\u001b[49m\u001b[38;5;241;43m.\u001b[39;49m\u001b[43mmultiply\u001b[49m\u001b[43m,\u001b[49m\u001b[43m \u001b[49m\u001b[38;5;124;43m'\u001b[39;49m\u001b[38;5;124;43mprod\u001b[39;49m\u001b[38;5;124;43m'\u001b[39;49m\u001b[43m,\u001b[49m\u001b[43m \u001b[49m\u001b[43maxis\u001b[49m\u001b[43m,\u001b[49m\u001b[43m \u001b[49m\u001b[43mdtype\u001b[49m\u001b[43m,\u001b[49m\u001b[43m \u001b[49m\u001b[43mout\u001b[49m\u001b[43m,\u001b[49m\n\u001b[0;32m   3089\u001b[0m \u001b[43m                          \u001b[49m\u001b[43mkeepdims\u001b[49m\u001b[38;5;241;43m=\u001b[39;49m\u001b[43mkeepdims\u001b[49m\u001b[43m,\u001b[49m\u001b[43m \u001b[49m\u001b[43minitial\u001b[49m\u001b[38;5;241;43m=\u001b[39;49m\u001b[43minitial\u001b[49m\u001b[43m,\u001b[49m\u001b[43m \u001b[49m\u001b[43mwhere\u001b[49m\u001b[38;5;241;43m=\u001b[39;49m\u001b[43mwhere\u001b[49m\u001b[43m)\u001b[49m\n",
      "File \u001b[1;32m~\\anaconda3\\lib\\site-packages\\numpy\\core\\fromnumeric.py:86\u001b[0m, in \u001b[0;36m_wrapreduction\u001b[1;34m(obj, ufunc, method, axis, dtype, out, **kwargs)\u001b[0m\n\u001b[0;32m     83\u001b[0m         \u001b[38;5;28;01melse\u001b[39;00m:\n\u001b[0;32m     84\u001b[0m             \u001b[38;5;28;01mreturn\u001b[39;00m reduction(axis\u001b[38;5;241m=\u001b[39maxis, out\u001b[38;5;241m=\u001b[39mout, \u001b[38;5;241m*\u001b[39m\u001b[38;5;241m*\u001b[39mpasskwargs)\n\u001b[1;32m---> 86\u001b[0m \u001b[38;5;28;01mreturn\u001b[39;00m \u001b[43mufunc\u001b[49m\u001b[38;5;241;43m.\u001b[39;49m\u001b[43mreduce\u001b[49m\u001b[43m(\u001b[49m\u001b[43mobj\u001b[49m\u001b[43m,\u001b[49m\u001b[43m \u001b[49m\u001b[43maxis\u001b[49m\u001b[43m,\u001b[49m\u001b[43m \u001b[49m\u001b[43mdtype\u001b[49m\u001b[43m,\u001b[49m\u001b[43m \u001b[49m\u001b[43mout\u001b[49m\u001b[43m,\u001b[49m\u001b[43m \u001b[49m\u001b[38;5;241;43m*\u001b[39;49m\u001b[38;5;241;43m*\u001b[39;49m\u001b[43mpasskwargs\u001b[49m\u001b[43m)\u001b[49m\n",
      "File \u001b[1;32m~\\anaconda3\\lib\\site-packages\\tensorflow\\python\\framework\\ops.py:852\u001b[0m, in \u001b[0;36mTensor.__array__\u001b[1;34m(self)\u001b[0m\n\u001b[0;32m    851\u001b[0m \u001b[38;5;28;01mdef\u001b[39;00m \u001b[38;5;21m__array__\u001b[39m(\u001b[38;5;28mself\u001b[39m):\n\u001b[1;32m--> 852\u001b[0m   \u001b[38;5;28;01mraise\u001b[39;00m \u001b[38;5;167;01mNotImplementedError\u001b[39;00m(\n\u001b[0;32m    853\u001b[0m       \u001b[38;5;124m\"\u001b[39m\u001b[38;5;124mCannot convert a symbolic Tensor (\u001b[39m\u001b[38;5;132;01m{}\u001b[39;00m\u001b[38;5;124m) to a numpy array.\u001b[39m\u001b[38;5;124m\"\u001b[39m\n\u001b[0;32m    854\u001b[0m       \u001b[38;5;124m\"\u001b[39m\u001b[38;5;124m This error may indicate that you\u001b[39m\u001b[38;5;124m'\u001b[39m\u001b[38;5;124mre trying to pass a Tensor to\u001b[39m\u001b[38;5;124m\"\u001b[39m\n\u001b[0;32m    855\u001b[0m       \u001b[38;5;124m\"\u001b[39m\u001b[38;5;124m a NumPy call, which is not supported\u001b[39m\u001b[38;5;124m\"\u001b[39m\u001b[38;5;241m.\u001b[39mformat(\u001b[38;5;28mself\u001b[39m\u001b[38;5;241m.\u001b[39mname))\n",
      "\u001b[1;31mNotImplementedError\u001b[0m: Cannot convert a symbolic Tensor (lstm_6/strided_slice:0) to a numpy array. This error may indicate that you're trying to pass a Tensor to a NumPy call, which is not supported"
     ]
    }
   ],
   "source": [
    "model = keras.models.load_model('.mdl_wts_256.hdf5')"
   ]
  },
  {
   "cell_type": "markdown",
   "id": "deca93e8",
   "metadata": {},
   "source": [
    "## Test"
   ]
  },
  {
   "cell_type": "code",
   "execution_count": 8,
   "id": "469188eb",
   "metadata": {},
   "outputs": [],
   "source": [
    "import speech_recognition as speech"
   ]
  },
  {
   "cell_type": "code",
   "execution_count": 9,
   "id": "9900174f",
   "metadata": {},
   "outputs": [],
   "source": [
    "r = speech.Recognizer()\n",
    "with speech.Microphone() as source:\n",
    "    audio = r.listen(source)\n",
    "    with open(\"input.wav\",\"wb\") as f:\n",
    "        f.write(audio.get_wav_data())"
   ]
  },
  {
   "cell_type": "code",
   "execution_count": 55,
   "id": "4604d709",
   "metadata": {},
   "outputs": [],
   "source": [
    "emotion_decode = {\n",
    "    0 : 'neutral',\n",
    "    1 : 'happy',\n",
    "    2 : 'sad', \n",
    "    3 : 'angry', \n",
    "    4 : 'fear', \n",
    "    5 : 'disgust'\n",
    "}"
   ]
  },
  {
   "cell_type": "code",
   "execution_count": 10,
   "id": "eb0decdb",
   "metadata": {},
   "outputs": [],
   "source": [
    "import librosa\n",
    "from pydub import AudioSegment, effects"
   ]
  },
  {
   "cell_type": "code",
   "execution_count": 25,
   "id": "d0de564f",
   "metadata": {},
   "outputs": [],
   "source": [
    "def preprocess_audio(path):\n",
    "    _, sr = librosa.load(path)\n",
    "    raw_audio = AudioSegment.from_file(path)\n",
    "    \n",
    "    samples = np.array(raw_audio.get_array_of_samples(), dtype='float32')\n",
    "    trimmed, _ = librosa.effects.trim(samples, top_db=25)\n",
    "    if (len(trimmed)>180000):\n",
    "        padded = trimmed[:180000]\n",
    "    else:\n",
    "        padded = np.pad(trimmed, (0, 180000-len(trimmed)), 'constant')\n",
    "    return padded, sr"
   ]
  },
  {
   "cell_type": "code",
   "execution_count": 12,
   "id": "bac56c33",
   "metadata": {},
   "outputs": [
    {
     "name": "stdout",
     "output_type": "stream",
     "text": [
      "Failed for path: input.wav\n"
     ]
    }
   ],
   "source": [
    "input_wav = \"input.wav\"\n",
    "\n",
    "FRAME_LENGTH = 2048\n",
    "HOP_LENGTH = 512\n",
    "\n",
    "try: \n",
    "    y, sr = preprocess_audio(input_wav)\n",
    "    zcr = librosa.feature.zero_crossing_rate(y, frame_length=FRAME_LENGTH, hop_length=HOP_LENGTH)\n",
    "    rms = librosa.feature.rms(y=y, frame_length=FRAME_LENGTH, hop_length=HOP_LENGTH)\n",
    "    mfcc = librosa.feature.mfcc(y=y, sr=sr, n_mfcc=13, hop_length=HOP_LENGTH)\n",
    "except:\n",
    "    print(f\"Failed for path: {input_wav}\")\n",
    "    \n",
    "X = np.concatenate((\n",
    "    np.swapaxes(zcr, 0, 1), \n",
    "    np.swapaxes(rms, 0, 1), \n",
    "    np.swapaxes(mfcc, 0, 1)), \n",
    "    axis=1\n",
    ")\n",
    "X = X.astype('float32')"
   ]
  },
  {
   "cell_type": "code",
   "execution_count": 3,
   "id": "22be800e",
   "metadata": {},
   "outputs": [],
   "source": [
    "input_wav = \"input.wav\"\n",
    "\n",
    "FRAME_LENGTH = 2048\n",
    "HOP_LENGTH = 512\n",
    "\n",
    "try: \n",
    "    y, sr = preprocess_audio(input_wav)\n",
    "    zcr = librosa.feature.zero_crossing_rate(y, frame_length=FRAME_LENGTH, hop_length=HOP_LENGTH)\n",
    "    rms = librosa.feature.rms(y=y, frame_length=FRAME_LENGTH, hop_length=HOP_LENGTH)\n",
    "    mfcc = librosa.feature.mfcc(y=y, sr=sr, n_mfcc=13, hop_length=HOP_LENGTH)\n",
    "except:\n",
    "    print(f\"Failed for path: {input_wav}\")\n",
    "    \n",
    "X = np.concatenate((\n",
    "    np.swapaxes(zcr, 0, 1), \n",
    "    np.swapaxes(rms, 0, 1), \n",
    "    np.swapaxes(mfcc, 0, 1)), \n",
    "    axis=1\n",
    ")\n",
    "X = X.astype('float32')"
   ]
  },
  {
   "cell_type": "code",
   "execution_count": 4,
   "id": "de21de5d",
   "metadata": {},
   "outputs": [],
   "source": [
    "from emotion_model import emotion_predict"
   ]
  },
  {
   "cell_type": "code",
   "execution_count": 5,
   "id": "17dec1d6",
   "metadata": {},
   "outputs": [],
   "source": [
    "result = emotion_predict(X)"
   ]
  },
  {
   "cell_type": "code",
   "execution_count": 6,
   "id": "49b4ad8f",
   "metadata": {},
   "outputs": [
    {
     "name": "stdout",
     "output_type": "stream",
     "text": [
      "neutral\n"
     ]
    }
   ],
   "source": [
    "print(result)"
   ]
  },
  {
   "cell_type": "code",
   "execution_count": 57,
   "id": "bb77dfec",
   "metadata": {},
   "outputs": [],
   "source": [
    "transform = transforms.Compose([\n",
    "    transforms.Resize((224,224)),\n",
    "    transforms.ToTensor(),\n",
    "    transforms.Normalize([0.485, 0.456, 0.406],[0.229, 0.224, 0.225])\n",
    "])\n",
    "\n",
    "image = Image.fromarray(X,\"RGB\")\n",
    "image = transform(image)\n",
    "image = image.unsqueeze(dim=0)"
   ]
  },
  {
   "cell_type": "code",
   "execution_count": 49,
   "id": "4198ea49",
   "metadata": {},
   "outputs": [],
   "source": [
    "state = torch.load(\"test/result/model_resnet_new_all_55.pth\")"
   ]
  },
  {
   "cell_type": "code",
   "execution_count": 50,
   "id": "a6f135fe",
   "metadata": {},
   "outputs": [
    {
     "data": {
      "text/plain": [
       "<All keys matched successfully>"
      ]
     },
     "execution_count": 50,
     "metadata": {},
     "output_type": "execute_result"
    }
   ],
   "source": [
    "model = resnet18()\n",
    "num_features = model.fc.in_features\n",
    "num_classes = 6\n",
    "model.fc = nn.Linear(num_features, num_classes) \n",
    "model.load_state_dict(state)"
   ]
  },
  {
   "cell_type": "code",
   "execution_count": 58,
   "id": "6084b307",
   "metadata": {},
   "outputs": [],
   "source": [
    "model.eval()\n",
    "result = model.forward(image)"
   ]
  },
  {
   "cell_type": "code",
   "execution_count": 59,
   "id": "2d1e8e27",
   "metadata": {},
   "outputs": [
    {
     "data": {
      "text/plain": [
       "'neutral'"
      ]
     },
     "execution_count": 59,
     "metadata": {},
     "output_type": "execute_result"
    }
   ],
   "source": [
    "emotion_decode[torch.argmax(result.squeeze()).item()]"
   ]
  },
  {
   "cell_type": "code",
   "execution_count": 61,
   "id": "81798352",
   "metadata": {},
   "outputs": [
    {
     "name": "stderr",
     "output_type": "stream",
     "text": [
      "[NeMo W 2023-06-13 00:33:58 optimizers:54] Apex was not found. Using the lamb or fused_adam optimizer will error out.\n",
      "[NeMo W 2023-06-13 00:33:59 experimental:27] Module <class 'nemo.collections.asr.modules.audio_modules.SpectrogramToMultichannelFeatures'> is experimental, not ready for production and is not fully supported. Use at your own risk.\n"
     ]
    },
    {
     "name": "stdout",
     "output_type": "stream",
     "text": [
      "[NeMo I 2023-06-13 00:34:01 mixins:170] Tokenizer SentencePieceTokenizer initialized with 2261 tokens\n"
     ]
    },
    {
     "name": "stderr",
     "output_type": "stream",
     "text": [
      "[NeMo W 2023-06-13 00:34:02 modelPT:161] If you intend to do training or fine-tuning, please call the ModelPT.setup_training_data() method and provide a valid configuration file to setup the train data loader.\n",
      "    Train config : \n",
      "    manifest_filepath: /data/public/rw/chris/manifests/ksponspeech//train.json\n",
      "    sample_rate: 16000\n",
      "    batch_size: 8\n",
      "    shuffle: true\n",
      "    num_workers: 8\n",
      "    pin_memory: true\n",
      "    use_start_end_token: true\n",
      "    trim_silence: false\n",
      "    max_duration: 17\n",
      "    min_duration: 0.1\n",
      "    shuffle_n: 2048\n",
      "    \n",
      "[NeMo W 2023-06-13 00:34:02 modelPT:168] If you intend to do validation, please call the ModelPT.setup_validation_data() or ModelPT.setup_multiple_validation_data() method and provide a valid configuration file to setup the validation data loader(s). \n",
      "    Validation config : \n",
      "    manifest_filepath: /data/public/rw/chris/manifests/ksponspeech//dev.json\n",
      "    sample_rate: 16000\n",
      "    batch_size: 16\n",
      "    shuffle: false\n",
      "    num_workers: 8\n",
      "    pin_memory: true\n",
      "    use_start_end_token: true\n",
      "    \n",
      "[NeMo W 2023-06-13 00:34:02 modelPT:174] Please call the ModelPT.setup_test_data() or ModelPT.setup_multiple_test_data() method and provide a valid configuration file to setup the test data loader(s).\n",
      "    Test config : \n",
      "    manifest_filepath: null\n",
      "    sample_rate: 16000\n",
      "    batch_size: 16\n",
      "    shuffle: false\n",
      "    num_workers: 8\n",
      "    pin_memory: true\n",
      "    use_start_end_token: true\n",
      "    \n"
     ]
    },
    {
     "name": "stdout",
     "output_type": "stream",
     "text": [
      "[NeMo I 2023-06-13 00:34:02 features:287] PADDING: 0\n",
      "[NeMo I 2023-06-13 00:34:03 rnnt_models:206] Using RNNT Loss : warprnnt_numba\n",
      "    Loss warprnnt_numba_kwargs: {'fastemit_lambda': 0.0, 'clamp': 5}\n",
      "[NeMo I 2023-06-13 00:34:03 audio_preprocessing:517] Numba CUDA SpecAugment kernel is being used\n",
      "[NeMo I 2023-06-13 00:34:04 save_restore_connector:249] Model EncDecRNNTBPEModel was successfully restored from C:\\Users\\good\\.cache\\huggingface\\hub\\models--eesungkim--stt_kr_conformer_transducer_large\\snapshots\\fdc8412fe0d089913524767b20ff244ff1007ed0\\stt_kr_conformer_transducer_large.nemo.\n"
     ]
    }
   ],
   "source": [
    "import nemo.collections.asr as nemo_asr\n",
    "asr_net = nemo_asr.models.ASRModel.from_pretrained(\"eesungkim/stt_kr_conformer_transducer_large\")"
   ]
  },
  {
   "cell_type": "code",
   "execution_count": 63,
   "id": "3a276179",
   "metadata": {},
   "outputs": [],
   "source": [
    "device = torch.device(\"cuda\" if torch.cuda.is_available() else \"cpu\")\n",
    "asr_net = asr_net.to(device)"
   ]
  },
  {
   "cell_type": "code",
   "execution_count": 64,
   "id": "6c43a2c9",
   "metadata": {},
   "outputs": [
    {
     "data": {
      "text/plain": [
       "(['이엇 허'], ['이엇 허'])"
      ]
     },
     "execution_count": 64,
     "metadata": {},
     "output_type": "execute_result"
    }
   ],
   "source": [
    "asr_net.transcribe(['input.wav'])"
   ]
  },
  {
   "cell_type": "code",
   "execution_count": null,
   "id": "7632ef87",
   "metadata": {},
   "outputs": [],
   "source": []
  }
 ],
 "metadata": {
  "kernelspec": {
   "display_name": "Python 3 (ipykernel)",
   "language": "python",
   "name": "python3"
  },
  "language_info": {
   "codemirror_mode": {
    "name": "ipython",
    "version": 3
   },
   "file_extension": ".py",
   "mimetype": "text/x-python",
   "name": "python",
   "nbconvert_exporter": "python",
   "pygments_lexer": "ipython3",
   "version": "3.8.5"
  }
 },
 "nbformat": 4,
 "nbformat_minor": 5
}
