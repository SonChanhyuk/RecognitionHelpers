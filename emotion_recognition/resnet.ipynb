{
 "cells": [
  {
   "cell_type": "code",
   "execution_count": 1,
   "id": "b698746d",
   "metadata": {},
   "outputs": [],
   "source": [
    "import torch\n",
    "import torch.nn as nn\n",
    "import torch.optim as optim\n",
    "from torch.utils.data import Dataset, DataLoader\n",
    "from torchvision.models import resnet18,resnet50\n",
    "import torchvision.transforms as transforms\n",
    "import torch.nn.functional as F\n",
    "from torchvision.transforms import functional as TF\n",
    "import librosa\n",
    "import numpy as np\n",
    "import pandas as pd\n",
    "from tqdm import tqdm\n",
    "from PIL import Image"
   ]
  },
  {
   "cell_type": "code",
   "execution_count": 2,
   "id": "1ad1de2d",
   "metadata": {},
   "outputs": [],
   "source": [
    "def load_mfcc(file_name, max_len=None):\n",
    "    y, sr = librosa.load(file_name, sr=None)\n",
    "    mfcc = librosa.feature.mfcc(y=y, sr=sr)\n",
    "    \n",
    "    if max_len:\n",
    "        if mfcc.shape[1] > max_len:\n",
    "            mfcc = mfcc[:, :max_len]\n",
    "        else:\n",
    "            mfcc = np.pad(mfcc, ((0, 0), (0, max_len - mfcc.shape[1])), 'constant', constant_values=(0))\n",
    "    \n",
    "    return mfcc"
   ]
  },
  {
   "cell_type": "code",
   "execution_count": 25,
   "id": "be0bebb7",
   "metadata": {},
   "outputs": [
    {
     "data": {
      "text/plain": [
       "0.2208325795663355"
      ]
     },
     "execution_count": 25,
     "metadata": {},
     "output_type": "execute_result"
    }
   ],
   "source": [
    "np.random.uniform(0, 1)"
   ]
  },
  {
   "cell_type": "code",
   "execution_count": 3,
   "id": "3dbd3044",
   "metadata": {},
   "outputs": [],
   "source": [
    "class RandomErase(object):\n",
    "    def __init__(self, p=0.5, s=(10, 20), value=0):\n",
    "        self.p = p\n",
    "        self.s = s\n",
    "        self.value = value\n",
    "\n",
    "    def __call__(self, img):\n",
    "        if np.random.uniform(0, 1) < self.p:\n",
    "            h, w = img.shape[-2:]\n",
    "            r = np.random.randint(self.s[0], self.s[1])\n",
    "            x = np.random.randint(0, w - r)\n",
    "            y = np.random.randint(0, h - r)\n",
    "            \n",
    "            img[y:y + r, x:x + r] = self.value\n",
    "\n",
    "        return img\n",
    "\n",
    "# define transform\n",
    "transform = transforms.Compose([\n",
    "    transforms.ToTensor(),\n",
    "    RandomErase(p=1.0, s=(10, 20), value=0),\n",
    "])"
   ]
  },
  {
   "cell_type": "code",
   "execution_count": 4,
   "id": "c7750aea",
   "metadata": {},
   "outputs": [
    {
     "name": "stdout",
     "output_type": "stream",
     "text": [
      "Sample Rate: 48000\n"
     ]
    }
   ],
   "source": [
    "sample_rate = librosa.get_samplerate(\"datasets/emotion_audio_data/5e27fa1c5807b852d9e01586.wav\")\n",
    "\n",
    "print(\"Sample Rate:\", sample_rate)"
   ]
  },
  {
   "cell_type": "code",
   "execution_count": 2,
   "id": "bc10e1d4",
   "metadata": {},
   "outputs": [],
   "source": [
    "class EmotionDataset(Dataset):\n",
    "    def __init__(self, csv, n_mels=128):\n",
    "        file_list = pd.read_csv(csv)\n",
    "        self.images = []\n",
    "        self.emotions = []\n",
    "        emotion_to_int = {'anger': 0, 'angry': 0, 'disgust': 1, 'fear': 2, 'happiness': 3,\n",
    "                               'neutral': 4, 'sad': 5, 'sadness': 5, 'surprise': 6}\n",
    "\n",
    "        transform = transforms.Compose([\n",
    "        transforms.Resize((224,224)),\n",
    "        transforms.ToTensor(),\n",
    "        transforms.Normalize([0.485, 0.456, 0.406],[0.229, 0.224, 0.225])\n",
    "        ])\n",
    "        \n",
    "        for i in tqdm(range(len(file_list))):\n",
    "            name = \"datasets/emotion_audio_data/{}.wav\".format(file_list.iloc[i, 1])\n",
    "            y, sr = librosa.load(name, res_type=\"kaiser_fast\", duration=3.0)\n",
    "            \n",
    "            # 데이터 길이가 3초보다 짧은 경우 0으로 패딩합니다.\n",
    "\n",
    "            mel_spectrogram = librosa.feature.melspectrogram(y, sr=sr, n_mels=n_mels)\n",
    "            mel_spectrogram = librosa.power_to_db(mel_spectrogram).astype(np.float32)\n",
    "            \n",
    "            # mel_spec을 이미지로 변환하여 크기를 조정합니다.\n",
    "            #mel_spectrogram = np.stack([mel_spectrogram] * 3, axis=0) \n",
    "            image = Image.fromarray(mel_spectrogram,\"RGB\") \n",
    "            image = transform(image)\n",
    "            \n",
    "            self.images.append(image)\n",
    "\n",
    "            emotion = file_list.iloc[i, 3]\n",
    "            self.emotions.append(emotion_to_int[emotion])\n",
    "            \n",
    "        self.len = len(file_list)\n",
    "        self.n_mfcc = n_mfcc\n",
    "\n",
    "    def __len__(self):\n",
    "        return self.len\n",
    "\n",
    "    def __getitem__(self, idx):\n",
    "        image = self.images[idx]\n",
    "        label = self.emotions[idx]\n",
    "        return image, label"
   ]
  },
  {
   "cell_type": "code",
   "execution_count": 4,
   "id": "f5ce4747",
   "metadata": {},
   "outputs": [],
   "source": [
    "class EmotionDataset(Dataset):\n",
    "    def __init__(self, csv, n_mfcc):\n",
    "        file_list = pd.read_csv(csv)\n",
    "        self.images = []\n",
    "        self.emotions = []\n",
    "        emotion_to_int = {'anger': 0, 'angry': 0, 'disgust': 1, 'fear': 2, 'happiness': 3,\n",
    "                               'neutral': 4, 'sad': 5, 'sadness': 5, 'surprise': 6}\n",
    "\n",
    "        for i in tqdm(range(len(file_list))):\n",
    "            name = \"datasets/emotion_audio_data/{}.wav\".format(file_list.iloc[i, 1])\n",
    "            y, sr = librosa.load(name, res_type=\"kaiser_fast\", duration=3.0)\n",
    "            \n",
    "            # 데이터 길이가 3초보다 짧은 경우 0으로 패딩합니다.\n",
    "            if len(y) < sr * 3:\n",
    "                pad_length = sr * 3 - len(y)\n",
    "                y = np.pad(y, (0, pad_length), mode='constant')\n",
    "\n",
    "            mfcc = librosa.feature.mfcc(y=y, sr=sr, n_mfcc=n_mfcc)\n",
    "            \n",
    "            # MFCC를 이미지로 변환하여 크기를 조정합니다.\n",
    "            mfcc = (mfcc - mfcc.min()) / (mfcc.max() - mfcc.min())  # 정규화\n",
    "            mfcc = Image.fromarray(mfcc)\n",
    "            mfcc = mfcc.resize((224, 224), resample=Image.BILINEAR)  # 크기 조정\n",
    "            \n",
    "            mfcc = torch.from_numpy(np.array(mfcc).astype(np.float32))\n",
    "            self.images.append(mfcc)\n",
    "\n",
    "            emotion = file_list.iloc[i, 3]\n",
    "            self.emotions.append(emotion_to_int[emotion])\n",
    "            \n",
    "        self.len = len(file_list)\n",
    "        self.n_mfcc = n_mfcc\n",
    "\n",
    "    def __len__(self):\n",
    "        return self.len\n",
    "\n",
    "    def __getitem__(self, idx):\n",
    "        image = self.images[idx]\n",
    "        label = self.emotions[idx]\n",
    "        return image, label\n"
   ]
  },
  {
   "cell_type": "code",
   "execution_count": 5,
   "id": "142df991",
   "metadata": {},
   "outputs": [],
   "source": [
    "class EmotionDataset(Dataset):\n",
    "    def __init__(self, csv, n_mfcc):\n",
    "        file_list = pd.read_csv(csv)\n",
    "        self.images = []\n",
    "        self.emotions = []\n",
    "        emotion_to_int = {'anger': 0, 'angry': 0, 'disgust': 1, 'fear': 2, 'happiness': 3,\n",
    "                               'neutral': 4, 'sad': 5, 'sadness': 5, 'surprise': 6}\n",
    "\n",
    "        for i in tqdm(range(len(file_list))):\n",
    "            name = \"datasets/emotion_audio_data/{}.wav\".format(file_list.iloc[i, 1])\n",
    "            y, sr = librosa.load(name, res_type=\"kaiser_fast\", duration=3.0, sr=16000)\n",
    "            \n",
    "            # 데이터 길이가 3초보다 짧은 경우 0으로 패딩합니다.\n",
    "            if len(y) < sr * 3:\n",
    "                pad_length = sr * 3 - len(y)\n",
    "                y = np.pad(y, (0, pad_length), mode='constant')\n",
    "\n",
    "            mfcc = librosa.feature.mfcc(y=y, sr=sr, n_mfcc=n_mfcc)\n",
    "            \n",
    "            # MFCC를 이미지로 변환하여 크기를 조정합니다.\n",
    "            mfcc = (mfcc - mfcc.min()) / (mfcc.max() - mfcc.min())  # 정규화\n",
    "            mfcc = Image.fromarray(mfcc)\n",
    "            mfcc = mfcc.resize((224, 224), resample=Image.BILINEAR)  # 크기 조정\n",
    "            mfcc = np.array(mfcc).astype(np.float32)\n",
    "            mfcc = np.stack([mfcc] * 3, axis=0)  # 채널 수를 3으로 맞춥니다.\n",
    "            \n",
    "            mfcc = torch.from_numpy(mfcc)\n",
    "            self.images.append(mfcc)\n",
    "\n",
    "            emotion = file_list.iloc[i, 3]\n",
    "            self.emotions.append(emotion_to_int[emotion])\n",
    "            \n",
    "        self.len = len(file_list)\n",
    "        self.n_mfcc = n_mfcc\n",
    "\n",
    "    def __len__(self):\n",
    "        return self.len\n",
    "\n",
    "    def __getitem__(self, idx):\n",
    "        image = self.images[idx]\n",
    "        label = self.emotions[idx]\n",
    "        return image, label"
   ]
  },
  {
   "cell_type": "code",
   "execution_count": 6,
   "id": "511148b1",
   "metadata": {},
   "outputs": [],
   "source": [
    "class EmotionDataset(Dataset):\n",
    "    def __init__(self, csv, n_mfcc, transform=None):\n",
    "        file_list = pd.read_csv(csv)\n",
    "        self.images = []\n",
    "        self.emotions = []\n",
    "        emotion_to_int = {'anger': 0, 'angry': 0, 'disgust': 1, 'fear': 2, 'happiness': 3,\n",
    "                               'neutral': 4, 'sad': 5, 'sadness': 5, 'surprise': 6}\n",
    "\n",
    "        for i in tqdm(range(len(file_list))):\n",
    "            name = \"datasets/emotion_audio_data/{}.wav\".format(file_list.iloc[i, 1])\n",
    "            y, sr = librosa.load(name, res_type=\"kaiser_fast\", duration=3.0, sr=16000)\n",
    "            \n",
    "            # 데이터 길이가 3초보다 짧은 경우 0으로 패딩합니다.\n",
    "            if len(y) < sr * 3:\n",
    "                pad_length = sr * 3 - len(y)\n",
    "                y = np.pad(y, (0, pad_length), mode='constant')\n",
    "\n",
    "            mfcc = librosa.feature.mfcc(y=y, sr=sr, n_mfcc=n_mfcc)\n",
    "            \n",
    "            # MFCC를 이미지로 변환하여 크기를 조정합니다.\n",
    "            mfcc = (mfcc - mfcc.min()) / (mfcc.max() - mfcc.min())  # 정규화\n",
    "            mfcc = Image.fromarray(mfcc)\n",
    "            mfcc = mfcc.resize((224, 224), resample=Image.BILINEAR)  # 크기 조정\n",
    "            mfcc = np.array(mfcc).astype(np.float32)\n",
    "            mfcc = np.stack([mfcc] * 3, axis=0)  # 채널 수를 3으로 맞춥니다.\n",
    "            \n",
    "            mfcc = torch.from_numpy(mfcc)\n",
    "            self.images.append(mfcc)\n",
    "\n",
    "            emotion = file_list.iloc[i, 3]\n",
    "            self.emotions.append(emotion_to_int[emotion])\n",
    "            \n",
    "        self.len = len(file_list)\n",
    "        self.n_mfcc = n_mfcc\n",
    "        self.transform = transform\n",
    "\n",
    "    def __len__(self):\n",
    "        return self.len\n",
    "\n",
    "    def __getitem__(self, idx):\n",
    "        image = self.images[idx]\n",
    "        label = self.emotions[idx]\n",
    "        if self.transform:\n",
    "            image = self.transform(image)\n",
    "        return image, label"
   ]
  },
  {
   "cell_type": "code",
   "execution_count": 7,
   "id": "bd6eed31",
   "metadata": {},
   "outputs": [],
   "source": [
    "import numpy as np\n",
    "import librosa\n",
    "import torch\n",
    "from torch.utils.data import Dataset\n",
    "from PIL import Image\n",
    "import pandas as pd\n",
    "from tqdm.auto import tqdm\n",
    "\n",
    "class EmotionDataset(Dataset):\n",
    "    def __init__(self, csv, n_mfcc, train, transform=None):\n",
    "        file_list = pd.read_csv(csv)\n",
    "        self.file_list = file_list\n",
    "        self.emotions = []\n",
    "        emotion_to_int = {'anger': 0, 'angry': 0, 'disgust': 1, 'fear': 2, 'happiness': 3,\n",
    "                               'neutral': 4, 'sad': 5, 'sadness': 5, 'surprise': 6}\n",
    "\n",
    "        for i in tqdm(range(len(file_list))):\n",
    "            emotion = file_list.iloc[i, 3]\n",
    "            self.emotions.append(emotion_to_int[emotion])\n",
    "\n",
    "        self.len = len(file_list)\n",
    "        self.n_mfcc = n_mfcc\n",
    "        self.transform = transform\n",
    "        self.train = train\n",
    "\n",
    "    def __len__(self):\n",
    "        return self.len\n",
    "\n",
    "    def __getitem__(self, idx):\n",
    "        name = \"datasets/emotion_audio_data/{}.wav\".format(self.file_list.iloc[idx, 1])\n",
    "        y, sr = librosa.load(name, res_type=\"kaiser_fast\", duration=3.0, sr=16000)\n",
    "        \n",
    "        # 데이터 길이가 3초보다 짧은 경우 0으로 패딩합니다.\n",
    "        if len(y) < sr * 3:\n",
    "            pad_length = sr * 3 - len(y)\n",
    "            y = np.pad(y, (0, pad_length), mode='constant')\n",
    "        \n",
    "        if (self.train):\n",
    "            # 시간 왜곡 적용\n",
    "            y = librosa.effects.time_stretch(y, rate=np.random.uniform(0.8, 1.2))\n",
    "\n",
    "            # 피치 변조 적용\n",
    "            y = librosa.effects.pitch_shift(y, sr, n_steps=np.random.uniform(-2, 2))\n",
    "        \n",
    "        mfcc = librosa.feature.mfcc(y=y, sr=sr, n_mfcc=self.n_mfcc)\n",
    "\n",
    "        # MFCC를 이미지로 변환하여 크기를 조정합니다.\n",
    "        mfcc = (mfcc - mfcc.min()) / (mfcc.max() - mfcc.min())  # 정규화\n",
    "        mfcc = Image.fromarray(mfcc)\n",
    "        mfcc = mfcc.resize((224, 224), resample=Image.BILINEAR)  # 크기 조정\n",
    "        mfcc = np.array(mfcc).astype(np.float32)\n",
    "        mfcc = np.stack([mfcc] * 3, axis=0)  # 채널 수를 3으로 맞춥니다.\n",
    "        \n",
    "        mfcc = torch.from_numpy(mfcc)\n",
    "        \n",
    "        label = self.emotions[idx]\n",
    "        return mfcc, label\n"
   ]
  },
  {
   "cell_type": "code",
   "execution_count": 8,
   "id": "8783c849",
   "metadata": {},
   "outputs": [],
   "source": [
    "n_mfcc = 40"
   ]
  },
  {
   "cell_type": "code",
   "execution_count": 9,
   "id": "90443064",
   "metadata": {},
   "outputs": [
    {
     "data": {
      "application/vnd.jupyter.widget-view+json": {
       "model_id": "a34b22dbfc1c4decb59494e84f38f5d4",
       "version_major": 2,
       "version_minor": 0
      },
      "text/plain": [
       "  0%|          | 0/35179 [00:00<?, ?it/s]"
      ]
     },
     "metadata": {},
     "output_type": "display_data"
    }
   ],
   "source": [
    "dataset = EmotionDataset(csv='datasets/emotion_train.csv', n_mfcc=n_mfcc, train=True, transform=transform)\n",
    "dataloader = DataLoader(dataset, batch_size=16, shuffle=True)"
   ]
  },
  {
   "cell_type": "code",
   "execution_count": 10,
   "id": "f54bba8d",
   "metadata": {},
   "outputs": [
    {
     "data": {
      "application/vnd.jupyter.widget-view+json": {
       "model_id": "1796a00d971945b39aec63bae8e9d524",
       "version_major": 2,
       "version_minor": 0
      },
      "text/plain": [
       "  0%|          | 0/8793 [00:00<?, ?it/s]"
      ]
     },
     "metadata": {},
     "output_type": "display_data"
    }
   ],
   "source": [
    "# 테스트 데이터셋 생성\n",
    "test_dataset = EmotionDataset(csv='datasets/emotion_test.csv', n_mfcc=n_mfcc, train=False)\n",
    "test_loader = DataLoader(test_dataset, batch_size=16, shuffle=False)"
   ]
  },
  {
   "cell_type": "code",
   "execution_count": 5,
   "id": "42a5d92c",
   "metadata": {},
   "outputs": [
    {
     "name": "stderr",
     "output_type": "stream",
     "text": [
      " 75%|████████████████████████████████████████████████████████▊                   | 26287/35179 [15:01<05:04, 29.16it/s]\n"
     ]
    },
    {
     "ename": "KeyboardInterrupt",
     "evalue": "",
     "output_type": "error",
     "traceback": [
      "\u001b[1;31m---------------------------------------------------------------------------\u001b[0m",
      "\u001b[1;31mKeyboardInterrupt\u001b[0m                         Traceback (most recent call last)",
      "Input \u001b[1;32mIn [5]\u001b[0m, in \u001b[0;36m<cell line: 1>\u001b[1;34m()\u001b[0m\n\u001b[1;32m----> 1\u001b[0m dataset \u001b[38;5;241m=\u001b[39m \u001b[43mEmotionDataset\u001b[49m\u001b[43m(\u001b[49m\u001b[43mcsv\u001b[49m\u001b[38;5;241;43m=\u001b[39;49m\u001b[38;5;124;43m'\u001b[39;49m\u001b[38;5;124;43mdatasets/emotion_train.csv\u001b[39;49m\u001b[38;5;124;43m'\u001b[39;49m\u001b[43m,\u001b[49m\u001b[43m \u001b[49m\u001b[43mn_mels\u001b[49m\u001b[38;5;241;43m=\u001b[39;49m\u001b[38;5;241;43m128\u001b[39;49m\u001b[43m)\u001b[49m\n\u001b[0;32m      2\u001b[0m dataloader \u001b[38;5;241m=\u001b[39m DataLoader(dataset, batch_size\u001b[38;5;241m=\u001b[39m\u001b[38;5;241m16\u001b[39m, shuffle\u001b[38;5;241m=\u001b[39m\u001b[38;5;28;01mTrue\u001b[39;00m)\n",
      "Input \u001b[1;32mIn [2]\u001b[0m, in \u001b[0;36mEmotionDataset.__init__\u001b[1;34m(self, csv, n_mels)\u001b[0m\n\u001b[0;32m     15\u001b[0m \u001b[38;5;28;01mfor\u001b[39;00m i \u001b[38;5;129;01min\u001b[39;00m tqdm(\u001b[38;5;28mrange\u001b[39m(\u001b[38;5;28mlen\u001b[39m(file_list))):\n\u001b[0;32m     16\u001b[0m     name \u001b[38;5;241m=\u001b[39m \u001b[38;5;124m\"\u001b[39m\u001b[38;5;124mdatasets/emotion_audio_data/\u001b[39m\u001b[38;5;132;01m{}\u001b[39;00m\u001b[38;5;124m.wav\u001b[39m\u001b[38;5;124m\"\u001b[39m\u001b[38;5;241m.\u001b[39mformat(file_list\u001b[38;5;241m.\u001b[39miloc[i, \u001b[38;5;241m1\u001b[39m])\n\u001b[1;32m---> 17\u001b[0m     y, sr \u001b[38;5;241m=\u001b[39m \u001b[43mlibrosa\u001b[49m\u001b[38;5;241;43m.\u001b[39;49m\u001b[43mload\u001b[49m\u001b[43m(\u001b[49m\u001b[43mname\u001b[49m\u001b[43m,\u001b[49m\u001b[43m \u001b[49m\u001b[43mres_type\u001b[49m\u001b[38;5;241;43m=\u001b[39;49m\u001b[38;5;124;43m\"\u001b[39;49m\u001b[38;5;124;43mkaiser_fast\u001b[39;49m\u001b[38;5;124;43m\"\u001b[39;49m\u001b[43m,\u001b[49m\u001b[43m \u001b[49m\u001b[43mduration\u001b[49m\u001b[38;5;241;43m=\u001b[39;49m\u001b[38;5;241;43m3.0\u001b[39;49m\u001b[43m)\u001b[49m\n\u001b[0;32m     19\u001b[0m     \u001b[38;5;66;03m# 데이터 길이가 3초보다 짧은 경우 0으로 패딩합니다.\u001b[39;00m\n\u001b[0;32m     21\u001b[0m     mel_spectrogram \u001b[38;5;241m=\u001b[39m librosa\u001b[38;5;241m.\u001b[39mfeature\u001b[38;5;241m.\u001b[39mmelspectrogram(y, sr\u001b[38;5;241m=\u001b[39msr, n_mels\u001b[38;5;241m=\u001b[39mn_mels)\n",
      "File \u001b[1;32m~\\anaconda3\\lib\\site-packages\\librosa\\core\\audio.py:175\u001b[0m, in \u001b[0;36mload\u001b[1;34m(path, sr, mono, offset, duration, dtype, res_type)\u001b[0m\n\u001b[0;32m    172\u001b[0m     y \u001b[38;5;241m=\u001b[39m to_mono(y)\n\u001b[0;32m    174\u001b[0m \u001b[38;5;28;01mif\u001b[39;00m sr \u001b[38;5;129;01mis\u001b[39;00m \u001b[38;5;129;01mnot\u001b[39;00m \u001b[38;5;28;01mNone\u001b[39;00m:\n\u001b[1;32m--> 175\u001b[0m     y \u001b[38;5;241m=\u001b[39m \u001b[43mresample\u001b[49m\u001b[43m(\u001b[49m\u001b[43my\u001b[49m\u001b[43m,\u001b[49m\u001b[43m \u001b[49m\u001b[43msr_native\u001b[49m\u001b[43m,\u001b[49m\u001b[43m \u001b[49m\u001b[43msr\u001b[49m\u001b[43m,\u001b[49m\u001b[43m \u001b[49m\u001b[43mres_type\u001b[49m\u001b[38;5;241;43m=\u001b[39;49m\u001b[43mres_type\u001b[49m\u001b[43m)\u001b[49m\n\u001b[0;32m    177\u001b[0m \u001b[38;5;28;01melse\u001b[39;00m:\n\u001b[0;32m    178\u001b[0m     sr \u001b[38;5;241m=\u001b[39m sr_native\n",
      "File \u001b[1;32m~\\anaconda3\\lib\\site-packages\\librosa\\core\\audio.py:604\u001b[0m, in \u001b[0;36mresample\u001b[1;34m(y, orig_sr, target_sr, res_type, fix, scale, **kwargs)\u001b[0m\n\u001b[0;32m    602\u001b[0m     y_hat \u001b[38;5;241m=\u001b[39m soxr\u001b[38;5;241m.\u001b[39mresample(y\u001b[38;5;241m.\u001b[39mT, orig_sr, target_sr, quality\u001b[38;5;241m=\u001b[39mres_type)\u001b[38;5;241m.\u001b[39mT\n\u001b[0;32m    603\u001b[0m \u001b[38;5;28;01melse\u001b[39;00m:\n\u001b[1;32m--> 604\u001b[0m     y_hat \u001b[38;5;241m=\u001b[39m \u001b[43mresampy\u001b[49m\u001b[38;5;241;43m.\u001b[39;49m\u001b[43mresample\u001b[49m\u001b[43m(\u001b[49m\u001b[43my\u001b[49m\u001b[43m,\u001b[49m\u001b[43m \u001b[49m\u001b[43morig_sr\u001b[49m\u001b[43m,\u001b[49m\u001b[43m \u001b[49m\u001b[43mtarget_sr\u001b[49m\u001b[43m,\u001b[49m\u001b[43m \u001b[49m\u001b[38;5;28;43mfilter\u001b[39;49m\u001b[38;5;241;43m=\u001b[39;49m\u001b[43mres_type\u001b[49m\u001b[43m,\u001b[49m\u001b[43m \u001b[49m\u001b[43maxis\u001b[49m\u001b[38;5;241;43m=\u001b[39;49m\u001b[38;5;241;43m-\u001b[39;49m\u001b[38;5;241;43m1\u001b[39;49m\u001b[43m)\u001b[49m\n\u001b[0;32m    606\u001b[0m \u001b[38;5;28;01mif\u001b[39;00m fix:\n\u001b[0;32m    607\u001b[0m     y_hat \u001b[38;5;241m=\u001b[39m util\u001b[38;5;241m.\u001b[39mfix_length(y_hat, n_samples, \u001b[38;5;241m*\u001b[39m\u001b[38;5;241m*\u001b[39mkwargs)\n",
      "File \u001b[1;32m~\\anaconda3\\lib\\site-packages\\resampy\\core.py:120\u001b[0m, in \u001b[0;36mresample\u001b[1;34m(x, sr_orig, sr_new, axis, filter, **kwargs)\u001b[0m\n\u001b[0;32m    118\u001b[0m x_2d \u001b[38;5;241m=\u001b[39m x\u001b[38;5;241m.\u001b[39mswapaxes(\u001b[38;5;241m0\u001b[39m, axis)\u001b[38;5;241m.\u001b[39mreshape((x\u001b[38;5;241m.\u001b[39mshape[axis], \u001b[38;5;241m-\u001b[39m\u001b[38;5;241m1\u001b[39m))\n\u001b[0;32m    119\u001b[0m y_2d \u001b[38;5;241m=\u001b[39m y\u001b[38;5;241m.\u001b[39mswapaxes(\u001b[38;5;241m0\u001b[39m, axis)\u001b[38;5;241m.\u001b[39mreshape((y\u001b[38;5;241m.\u001b[39mshape[axis], \u001b[38;5;241m-\u001b[39m\u001b[38;5;241m1\u001b[39m))\n\u001b[1;32m--> 120\u001b[0m \u001b[43mresample_f\u001b[49m\u001b[43m(\u001b[49m\u001b[43mx_2d\u001b[49m\u001b[43m,\u001b[49m\u001b[43m \u001b[49m\u001b[43my_2d\u001b[49m\u001b[43m,\u001b[49m\u001b[43m \u001b[49m\u001b[43msample_ratio\u001b[49m\u001b[43m,\u001b[49m\u001b[43m \u001b[49m\u001b[43minterp_win\u001b[49m\u001b[43m,\u001b[49m\u001b[43m \u001b[49m\u001b[43minterp_delta\u001b[49m\u001b[43m,\u001b[49m\u001b[43m \u001b[49m\u001b[43mprecision\u001b[49m\u001b[43m)\u001b[49m\n\u001b[0;32m    122\u001b[0m \u001b[38;5;28;01mreturn\u001b[39;00m y\n",
      "\u001b[1;31mKeyboardInterrupt\u001b[0m: "
     ]
    }
   ],
   "source": [
    "dataset = EmotionDataset(csv='datasets/emotion_train.csv', n_mels=128)\n",
    "dataloader = DataLoader(dataset, batch_size=16, shuffle=True)"
   ]
  },
  {
   "cell_type": "code",
   "execution_count": null,
   "id": "bd9be665",
   "metadata": {},
   "outputs": [],
   "source": [
    "# 테스트 데이터셋 생성\n",
    "test_dataset = EmotionDataset(csv='datasets/emotion_test.csv', n_mels=128)\n",
    "test_loader = DataLoader(test_dataset, batch_size=16, shuffle=False)"
   ]
  },
  {
   "cell_type": "code",
   "execution_count": null,
   "id": "2aa2b354",
   "metadata": {},
   "outputs": [],
   "source": [
    "model = resnet18(pretrained=True)\n",
    "num_features = model.fc.in_features\n",
    "num_classes = 7\n",
    "model.fc = nn.Linear(num_features, num_classes) "
   ]
  },
  {
   "cell_type": "code",
   "execution_count": null,
   "id": "f50137ef",
   "metadata": {},
   "outputs": [],
   "source": [
    "device = torch.device(\"cuda\" if torch.cuda.is_available() else \"cpu\")\n",
    "model = model.to(device)"
   ]
  },
  {
   "cell_type": "code",
   "execution_count": null,
   "id": "ec1df4fb",
   "metadata": {},
   "outputs": [],
   "source": [
    "criterion = nn.CrossEntropyLoss()\n",
    "optimizer = optim.Adam(model.parameters(), lr=0.001)"
   ]
  },
  {
   "cell_type": "code",
   "execution_count": null,
   "id": "a4f03c88",
   "metadata": {},
   "outputs": [],
   "source": [
    "num_epochs = 60"
   ]
  },
  {
   "cell_type": "code",
   "execution_count": null,
   "id": "a511c36d",
   "metadata": {},
   "outputs": [],
   "source": [
    "def test(model, test_loader):\n",
    "    model.eval()\n",
    "    correct = 0\n",
    "    total = 0\n",
    "\n",
    "    with torch.no_grad():\n",
    "        for images, labels in tqdm(test_loader):\n",
    "            images = images.to(device)\n",
    "            labels = labels.to(device)\n",
    "\n",
    "            outputs = model(images)\n",
    "            _, predicted = torch.max(outputs.data, 1)\n",
    "            total += labels.size(0)\n",
    "            correct += (predicted == labels).sum().item()\n",
    "\n",
    "    accuracy = 100 * correct / total\n",
    "    print(f'Test Accuracy: {accuracy}%')\n",
    "    return accuracy"
   ]
  },
  {
   "cell_type": "code",
   "execution_count": null,
   "id": "829feb27",
   "metadata": {},
   "outputs": [],
   "source": [
    "for epoch in range(num_epochs):\n",
    "    running_loss = 0.0\n",
    "    loop = tqdm(dataloader, total=len(dataloader), leave=True)\n",
    "    model.train()\n",
    "    \n",
    "    for mfccs, labels in loop:\n",
    "        mfccs = mfccs.to(device)\n",
    "        labels = labels.to(device)\n",
    "\n",
    "        # Forward pass\n",
    "        outputs = model(mfccs)\n",
    "        loss = criterion(outputs, labels)\n",
    "\n",
    "        # Backward and optimize\n",
    "        optimizer.zero_grad()\n",
    "        loss.backward()\n",
    "        optimizer.step()\n",
    "\n",
    "        running_loss += loss.item()\n",
    "        loop.set_description(f'Epoch [{epoch+1}/{num_epochs}]')\n",
    "        loop.set_postfix(loss=running_loss / (len(dataloader)))\n",
    "\n",
    "    test(model,test_loader)\n",
    "    torch.save(model.state_dict(), \"model_resnet18_40__augmentation{}.pth\".format(epoch))\n",
    "    \n",
    "print('Training finished!')"
   ]
  },
  {
   "cell_type": "code",
   "execution_count": 50,
   "id": "9ed4eb24",
   "metadata": {},
   "outputs": [
    {
     "name": "stderr",
     "output_type": "stream",
     "text": [
      "Epoch [31/30]: 100%|███████████████████████████████████████████████████| 2199/2199 [01:32<00:00, 23.89it/s, loss=0.091]\n",
      "Epoch [32/30]: 100%|██████████████████████████████████████████████████| 2199/2199 [01:33<00:00, 23.41it/s, loss=0.0851]\n",
      "Epoch [33/30]: 100%|██████████████████████████████████████████████████| 2199/2199 [01:35<00:00, 22.98it/s, loss=0.0791]\n",
      "Epoch [34/30]: 100%|██████████████████████████████████████████████████| 2199/2199 [01:35<00:00, 22.94it/s, loss=0.0781]\n",
      "Epoch [35/30]: 100%|██████████████████████████████████████████████████| 2199/2199 [01:35<00:00, 23.08it/s, loss=0.0758]\n",
      "Epoch [36/30]: 100%|██████████████████████████████████████████████████| 2199/2199 [01:36<00:00, 22.87it/s, loss=0.0739]\n",
      "Epoch [37/30]: 100%|██████████████████████████████████████████████████| 2199/2199 [01:36<00:00, 22.77it/s, loss=0.0675]\n",
      "Epoch [38/30]: 100%|██████████████████████████████████████████████████| 2199/2199 [01:35<00:00, 22.91it/s, loss=0.0674]\n",
      "Epoch [39/30]: 100%|██████████████████████████████████████████████████| 2199/2199 [01:35<00:00, 22.98it/s, loss=0.0639]\n",
      "Epoch [40/30]: 100%|██████████████████████████████████████████████████| 2199/2199 [01:36<00:00, 22.80it/s, loss=0.0612]\n",
      "Epoch [41/30]: 100%|██████████████████████████████████████████████████| 2199/2199 [01:35<00:00, 22.91it/s, loss=0.0641]\n",
      "Epoch [42/30]: 100%|██████████████████████████████████████████████████| 2199/2199 [01:36<00:00, 22.84it/s, loss=0.0614]\n",
      "Epoch [43/30]: 100%|██████████████████████████████████████████████████| 2199/2199 [01:36<00:00, 22.70it/s, loss=0.0529]\n",
      "Epoch [44/30]: 100%|██████████████████████████████████████████████████| 2199/2199 [01:36<00:00, 22.71it/s, loss=0.0541]\n",
      "Epoch [45/30]: 100%|██████████████████████████████████████████████████| 2199/2199 [01:36<00:00, 22.84it/s, loss=0.0532]\n",
      "Epoch [46/30]: 100%|██████████████████████████████████████████████████| 2199/2199 [01:36<00:00, 22.89it/s, loss=0.0511]\n",
      "Epoch [47/30]: 100%|██████████████████████████████████████████████████| 2199/2199 [01:36<00:00, 22.81it/s, loss=0.0494]\n",
      "Epoch [48/30]: 100%|██████████████████████████████████████████████████| 2199/2199 [01:36<00:00, 22.76it/s, loss=0.0457]\n",
      "Epoch [49/30]: 100%|██████████████████████████████████████████████████| 2199/2199 [01:35<00:00, 22.96it/s, loss=0.0473]\n",
      "Epoch [50/30]: 100%|██████████████████████████████████████████████████| 2199/2199 [01:32<00:00, 23.76it/s, loss=0.0479]\n",
      "Epoch [51/30]: 100%|██████████████████████████████████████████████████| 2199/2199 [01:32<00:00, 23.73it/s, loss=0.0458]\n",
      "Epoch [52/30]: 100%|██████████████████████████████████████████████████| 2199/2199 [01:34<00:00, 23.26it/s, loss=0.0423]\n",
      "Epoch [53/30]: 100%|██████████████████████████████████████████████████| 2199/2199 [01:35<00:00, 23.09it/s, loss=0.0415]\n",
      "Epoch [54/30]: 100%|██████████████████████████████████████████████████| 2199/2199 [01:35<00:00, 23.05it/s, loss=0.0427]\n",
      "Epoch [55/30]: 100%|██████████████████████████████████████████████████| 2199/2199 [01:35<00:00, 23.01it/s, loss=0.0397]\n",
      "Epoch [56/30]: 100%|██████████████████████████████████████████████████| 2199/2199 [01:35<00:00, 23.05it/s, loss=0.0393]\n",
      "Epoch [57/30]: 100%|██████████████████████████████████████████████████| 2199/2199 [01:35<00:00, 23.03it/s, loss=0.0411]\n",
      "Epoch [58/30]: 100%|██████████████████████████████████████████████████| 2199/2199 [01:35<00:00, 22.97it/s, loss=0.0364]\n",
      "Epoch [59/30]: 100%|██████████████████████████████████████████████████| 2199/2199 [01:35<00:00, 23.02it/s, loss=0.0362]\n",
      "Epoch [60/30]: 100%|██████████████████████████████████████████████████| 2199/2199 [01:35<00:00, 22.98it/s, loss=0.0354]\n"
     ]
    },
    {
     "name": "stdout",
     "output_type": "stream",
     "text": [
      "Training finished!\n"
     ]
    }
   ],
   "source": [
    "model.train()\n",
    "\n",
    "for epoch in range(30,30+num_epochs):\n",
    "    running_loss = 0.0\n",
    "    loop = tqdm(dataloader, total=len(dataloader), leave=True)\n",
    "    \n",
    "    for mfccs, labels in loop:\n",
    "        mfccs = mfccs.to(device)\n",
    "        labels = labels.to(device)\n",
    "\n",
    "        # Forward pass\n",
    "        outputs = model(mfccs)\n",
    "        loss = criterion(outputs, labels)\n",
    "\n",
    "        # Backward and optimize\n",
    "        optimizer.zero_grad()\n",
    "        loss.backward()\n",
    "        optimizer.step()\n",
    "\n",
    "        running_loss += loss.item()\n",
    "        loop.set_description(f'Epoch [{epoch+1}/{num_epochs}]')\n",
    "        loop.set_postfix(loss=running_loss / (len(dataloader)))\n",
    "\n",
    "    torch.save(model.state_dict(), \"model_{}.pth\".format(epoch))\n",
    "    \n",
    "print('Training finished!')"
   ]
  },
  {
   "cell_type": "code",
   "execution_count": 16,
   "id": "6a849900",
   "metadata": {},
   "outputs": [],
   "source": [
    "def test(model, test_loader):\n",
    "    model.eval()\n",
    "    correct = 0\n",
    "    total = 0\n",
    "\n",
    "    with torch.no_grad():\n",
    "        for images, labels in tqdm(test_loader):\n",
    "            images = images.to(device)\n",
    "            labels = labels.to(device)\n",
    "\n",
    "            outputs = model(images)\n",
    "            _, predicted = torch.max(outputs.data, 1)\n",
    "            total += labels.size(0)\n",
    "            correct += (predicted == labels).sum().item()\n",
    "\n",
    "    accuracy = 100 * correct / total\n",
    "    print(f'Test Accuracy: {accuracy}%')\n",
    "    return accuracy"
   ]
  },
  {
   "cell_type": "code",
   "execution_count": 10,
   "id": "f32f8954",
   "metadata": {},
   "outputs": [
    {
     "name": "stderr",
     "output_type": "stream",
     "text": [
      "100%|██████████████████████████████████████████████████████████████████████████████| 8793/8793 [05:00<00:00, 29.29it/s]\n"
     ]
    },
    {
     "ename": "NameError",
     "evalue": "name 'batch_size' is not defined",
     "output_type": "error",
     "traceback": [
      "\u001b[1;31m---------------------------------------------------------------------------\u001b[0m",
      "\u001b[1;31mNameError\u001b[0m                                 Traceback (most recent call last)",
      "Input \u001b[1;32mIn [10]\u001b[0m, in \u001b[0;36m<cell line: 3>\u001b[1;34m()\u001b[0m\n\u001b[0;32m      1\u001b[0m \u001b[38;5;66;03m# 테스트 데이터셋 생성\u001b[39;00m\n\u001b[0;32m      2\u001b[0m test_dataset \u001b[38;5;241m=\u001b[39m EmotionDataset(csv\u001b[38;5;241m=\u001b[39m\u001b[38;5;124m'\u001b[39m\u001b[38;5;124mdatasets/emotion_test.csv\u001b[39m\u001b[38;5;124m'\u001b[39m, n_mfcc\u001b[38;5;241m=\u001b[39mn_mfcc)\n\u001b[1;32m----> 3\u001b[0m test_loader \u001b[38;5;241m=\u001b[39m DataLoader(test_dataset, batch_size\u001b[38;5;241m=\u001b[39m\u001b[43mbatch_size\u001b[49m, shuffle\u001b[38;5;241m=\u001b[39m\u001b[38;5;28;01mFalse\u001b[39;00m)\n",
      "\u001b[1;31mNameError\u001b[0m: name 'batch_size' is not defined"
     ]
    }
   ],
   "source": [
    "# 테스트 데이터셋 생성\n",
    "test_dataset = EmotionDataset(csv='datasets/emotion_test.csv', n_mfcc=n_mfcc)\n",
    "test_loader = DataLoader(test_dataset, batch_size=16, shuffle=False)"
   ]
  },
  {
   "cell_type": "code",
   "execution_count": 11,
   "id": "785093f5",
   "metadata": {},
   "outputs": [],
   "source": [
    "test_loader = DataLoader(test_dataset, batch_size=16, shuffle=False)"
   ]
  },
  {
   "cell_type": "code",
   "execution_count": 59,
   "id": "527f1143",
   "metadata": {},
   "outputs": [
    {
     "data": {
      "text/plain": [
       "<All keys matched successfully>"
      ]
     },
     "execution_count": 59,
     "metadata": {},
     "output_type": "execute_result"
    }
   ],
   "source": [
    "model.load_state_dict(torch.load('./model_61.pth'))"
   ]
  },
  {
   "cell_type": "code",
   "execution_count": 60,
   "id": "c8240609",
   "metadata": {},
   "outputs": [
    {
     "name": "stderr",
     "output_type": "stream",
     "text": [
      "100%|████████████████████████████████████████████████████████████████████████████████| 550/550 [00:07<00:00, 77.09it/s]"
     ]
    },
    {
     "name": "stdout",
     "output_type": "stream",
     "text": [
      "Test Accuracy: 49.152735130217216%\n"
     ]
    },
    {
     "name": "stderr",
     "output_type": "stream",
     "text": [
      "\n"
     ]
    }
   ],
   "source": [
    "# 모델 테스트\n",
    "accuracy = test(model, test_loader)\n",
    "print(f'Test Accuracy: {accuracy}%')"
   ]
  },
  {
   "cell_type": "markdown",
   "id": "a557bd6b",
   "metadata": {},
   "source": [
    "# resize도 모델에 넣어 버리자 (성능 안좋음)"
   ]
  },
  {
   "cell_type": "code",
   "execution_count": 22,
   "id": "6ba7c45e",
   "metadata": {},
   "outputs": [],
   "source": [
    "class ResnetEmotionModel(nn.Module):\n",
    "    def __init__(self, n_mfcc, num_classes):\n",
    "        super(ResnetEmotionModel, self).__init__()\n",
    "        self.n_mfcc = n_mfcc\n",
    "        self.resize = nn.AdaptiveAvgPool2d((224, 224))\n",
    "        self.resnet = resnet18(pretrained=True)\n",
    "        num_features = self.resnet.fc.in_features\n",
    "        self.resnet.fc = nn.Linear(num_features, num_classes)\n",
    "\n",
    "    def forward(self, x):\n",
    "        x = self.resize(x)\n",
    "        x = self.resnet(x)\n",
    "        return x"
   ]
  },
  {
   "cell_type": "code",
   "execution_count": 4,
   "id": "780ee567",
   "metadata": {},
   "outputs": [],
   "source": [
    "class ResnetEmotionDataset(Dataset):\n",
    "    def __init__(self, csv, n_mfcc):\n",
    "        file_list = pd.read_csv(csv)\n",
    "        self.images = []\n",
    "        self.emotions = []\n",
    "        emotion_to_int = {'anger': 0, 'angry': 0, 'disgust': 1, 'fear': 2, 'happiness': 3,\n",
    "                               'neutral': 4, 'sad': 5, 'sadness': 5, 'surprise': 6}\n",
    "\n",
    "        for i in tqdm(range(len(file_list))):\n",
    "            name = \"datasets/emotion_audio_data/{}.wav\".format(file_list.iloc[i, 1])\n",
    "            y, sr = librosa.load(name, res_type=\"kaiser_fast\", duration=3.0)\n",
    "            \n",
    "            # 데이터 길이가 3초보다 짧은 경우 0으로 패딩합니다.\n",
    "            if len(y) < sr * 3:\n",
    "                pad_length = sr * 3 - len(y)\n",
    "                y = np.pad(y, (0, pad_length), mode='constant')\n",
    "\n",
    "            mfcc = librosa.feature.mfcc(y=y, sr=sr, n_mfcc=n_mfcc)\n",
    "            \n",
    "            # MFCC를 이미지로 변환하여 크기를 조정합니다.\n",
    "            mfcc = (mfcc - mfcc.min()) / (mfcc.max() - mfcc.min())  # 정규화\n",
    "            mfcc = Image.fromarray(mfcc)\n",
    "            mfcc = np.array(mfcc).astype(np.float32)\n",
    "            mfcc = np.stack([mfcc] * 3, axis=0)  # 채널 수를 3으로 맞춥니다.\n",
    "            \n",
    "            mfcc = torch.from_numpy(mfcc)\n",
    "            self.images.append(mfcc)\n",
    "\n",
    "            emotion = file_list.iloc[i, 3]\n",
    "            self.emotions.append(emotion_to_int[emotion])\n",
    "            \n",
    "        self.len = len(file_list)\n",
    "        self.n_mfcc = n_mfcc\n",
    "\n",
    "    def __len__(self):\n",
    "        return self.len\n",
    "\n",
    "    def __getitem__(self, idx):\n",
    "        image = self.images[idx]\n",
    "        label = self.emotions[idx]\n",
    "        return image, label"
   ]
  },
  {
   "cell_type": "code",
   "execution_count": 23,
   "id": "3b723f92",
   "metadata": {},
   "outputs": [],
   "source": [
    "# 모델 생성\n",
    "num_classes = 7\n",
    "model = ResnetEmotionModel(n_mfcc=13, num_classes=num_classes)"
   ]
  },
  {
   "cell_type": "code",
   "execution_count": 24,
   "id": "259afb03",
   "metadata": {},
   "outputs": [],
   "source": [
    "device = torch.device(\"cuda\" if torch.cuda.is_available() else \"cpu\")\n",
    "model = model.to(device)"
   ]
  },
  {
   "cell_type": "code",
   "execution_count": 19,
   "id": "aba18142",
   "metadata": {},
   "outputs": [],
   "source": [
    "criterion = nn.CrossEntropyLoss()\n",
    "optimizer = optim.Adam(model.parameters(), lr=0.001)"
   ]
  },
  {
   "cell_type": "code",
   "execution_count": 9,
   "id": "c8f79bef",
   "metadata": {},
   "outputs": [
    {
     "name": "stderr",
     "output_type": "stream",
     "text": [
      "100%|████████████████████████████████████████████████████████████████████████████| 35179/35179 [17:15<00:00, 33.96it/s]\n"
     ]
    }
   ],
   "source": [
    "dataset = ResnetEmotionDataset(csv='datasets/emotion_train.csv', n_mfcc=13)\n",
    "dataloader = DataLoader(dataset, batch_size=16, shuffle=True)"
   ]
  },
  {
   "cell_type": "code",
   "execution_count": 14,
   "id": "6a37f5fe",
   "metadata": {},
   "outputs": [
    {
     "name": "stderr",
     "output_type": "stream",
     "text": [
      "100%|██████████████████████████████████████████████████████████████████████████████| 8793/8793 [04:13<00:00, 34.71it/s]\n"
     ]
    },
    {
     "ename": "NameError",
     "evalue": "name 'batch_size' is not defined",
     "output_type": "error",
     "traceback": [
      "\u001b[1;31m---------------------------------------------------------------------------\u001b[0m",
      "\u001b[1;31mNameError\u001b[0m                                 Traceback (most recent call last)",
      "Input \u001b[1;32mIn [14]\u001b[0m, in \u001b[0;36m<cell line: 3>\u001b[1;34m()\u001b[0m\n\u001b[0;32m      1\u001b[0m \u001b[38;5;66;03m# 테스트 데이터셋 생성\u001b[39;00m\n\u001b[0;32m      2\u001b[0m test_dataset \u001b[38;5;241m=\u001b[39m ResnetEmotionDataset(csv\u001b[38;5;241m=\u001b[39m\u001b[38;5;124m'\u001b[39m\u001b[38;5;124mdatasets/emotion_test.csv\u001b[39m\u001b[38;5;124m'\u001b[39m, n_mfcc\u001b[38;5;241m=\u001b[39m\u001b[38;5;241m13\u001b[39m)\n\u001b[1;32m----> 3\u001b[0m test_loader \u001b[38;5;241m=\u001b[39m DataLoader(test_dataset, batch_size\u001b[38;5;241m=\u001b[39m\u001b[43mbatch_size\u001b[49m, shuffle\u001b[38;5;241m=\u001b[39m\u001b[38;5;28;01mFalse\u001b[39;00m)\n",
      "\u001b[1;31mNameError\u001b[0m: name 'batch_size' is not defined"
     ]
    }
   ],
   "source": [
    "# 테스트 데이터셋 생성\n",
    "test_dataset = ResnetEmotionDataset(csv='datasets/emotion_test.csv', n_mfcc=13)\n",
    "test_loader = DataLoader(test_dataset, batch_size=16, shuffle=False)"
   ]
  },
  {
   "cell_type": "code",
   "execution_count": 16,
   "id": "b9f52f21",
   "metadata": {},
   "outputs": [],
   "source": [
    "test_loader = DataLoader(test_dataset, batch_size=16, shuffle=False)"
   ]
  },
  {
   "cell_type": "code",
   "execution_count": 20,
   "id": "ebe9c3fb",
   "metadata": {},
   "outputs": [],
   "source": [
    "num_epochs = 30"
   ]
  },
  {
   "cell_type": "code",
   "execution_count": 25,
   "id": "2b05e423",
   "metadata": {},
   "outputs": [
    {
     "name": "stderr",
     "output_type": "stream",
     "text": [
      "Epoch [1/30]: 100%|█████████████████████████████████████████████████████| 2199/2199 [01:06<00:00, 33.20it/s, loss=2.16]\n",
      "100%|███████████████████████████████████████████████████████████████████████████████| 550/550 [00:04<00:00, 113.36it/s]\n"
     ]
    },
    {
     "name": "stdout",
     "output_type": "stream",
     "text": [
      "Test Accuracy: 7.437734561583078%\n"
     ]
    },
    {
     "name": "stderr",
     "output_type": "stream",
     "text": [
      "Epoch [2/30]: 100%|█████████████████████████████████████████████████████| 2199/2199 [01:03<00:00, 34.54it/s, loss=2.16]\n",
      "100%|███████████████████████████████████████████████████████████████████████████████| 550/550 [00:04<00:00, 112.80it/s]\n"
     ]
    },
    {
     "name": "stdout",
     "output_type": "stream",
     "text": [
      "Test Accuracy: 7.494597975662459%\n"
     ]
    },
    {
     "name": "stderr",
     "output_type": "stream",
     "text": [
      "Epoch [3/30]: 100%|█████████████████████████████████████████████████████| 2199/2199 [01:06<00:00, 32.83it/s, loss=2.16]\n",
      "100%|███████████████████████████████████████████████████████████████████████████████| 550/550 [00:04<00:00, 113.01it/s]\n"
     ]
    },
    {
     "name": "stdout",
     "output_type": "stream",
     "text": [
      "Test Accuracy: 7.09655407710679%\n"
     ]
    },
    {
     "name": "stderr",
     "output_type": "stream",
     "text": [
      "Epoch [4/30]: 100%|█████████████████████████████████████████████████████| 2199/2199 [01:04<00:00, 34.06it/s, loss=2.16]\n",
      "100%|███████████████████████████████████████████████████████████████████████████████| 550/550 [00:04<00:00, 113.20it/s]\n"
     ]
    },
    {
     "name": "stdout",
     "output_type": "stream",
     "text": [
      "Test Accuracy: 7.3126350506084385%\n"
     ]
    },
    {
     "name": "stderr",
     "output_type": "stream",
     "text": [
      "Epoch [5/30]: 100%|█████████████████████████████████████████████████████| 2199/2199 [01:04<00:00, 33.95it/s, loss=2.16]\n",
      "100%|███████████████████████████████████████████████████████████████████████████████| 550/550 [00:04<00:00, 122.03it/s]\n"
     ]
    },
    {
     "name": "stdout",
     "output_type": "stream",
     "text": [
      "Test Accuracy: 6.6075287160241105%\n"
     ]
    },
    {
     "name": "stderr",
     "output_type": "stream",
     "text": [
      "Epoch [6/30]: 100%|█████████████████████████████████████████████████████| 2199/2199 [01:03<00:00, 34.71it/s, loss=2.17]\n",
      "100%|███████████████████████████████████████████████████████████████████████████████| 550/550 [00:04<00:00, 121.50it/s]\n"
     ]
    },
    {
     "name": "stdout",
     "output_type": "stream",
     "text": [
      "Test Accuracy: 7.574206755373592%\n"
     ]
    },
    {
     "name": "stderr",
     "output_type": "stream",
     "text": [
      "Epoch [7/30]: 100%|█████████████████████████████████████████████████████| 2199/2199 [01:02<00:00, 35.10it/s, loss=2.16]\n",
      "100%|███████████████████████████████████████████████████████████████████████████████| 550/550 [00:04<00:00, 122.18it/s]\n"
     ]
    },
    {
     "name": "stdout",
     "output_type": "stream",
     "text": [
      "Test Accuracy: 7.6993062663482315%\n"
     ]
    },
    {
     "name": "stderr",
     "output_type": "stream",
     "text": [
      "Epoch [8/30]: 100%|█████████████████████████████████████████████████████| 2199/2199 [01:03<00:00, 34.87it/s, loss=2.16]\n",
      "100%|███████████████████████████████████████████████████████████████████████████████| 550/550 [00:04<00:00, 120.08it/s]\n"
     ]
    },
    {
     "name": "stdout",
     "output_type": "stream",
     "text": [
      "Test Accuracy: 6.778118958262254%\n"
     ]
    },
    {
     "name": "stderr",
     "output_type": "stream",
     "text": [
      "Epoch [9/30]: 100%|█████████████████████████████████████████████████████| 2199/2199 [01:02<00:00, 34.99it/s, loss=2.16]\n",
      "100%|███████████████████████████████████████████████████████████████████████████████| 550/550 [00:04<00:00, 122.12it/s]\n"
     ]
    },
    {
     "name": "stdout",
     "output_type": "stream",
     "text": [
      "Test Accuracy: 7.392243830319573%\n"
     ]
    },
    {
     "name": "stderr",
     "output_type": "stream",
     "text": [
      "Epoch [10/30]: 100%|████████████████████████████████████████████████████| 2199/2199 [01:03<00:00, 34.89it/s, loss=2.16]\n",
      "100%|███████████████████████████████████████████████████████████████████████████████| 550/550 [00:04<00:00, 119.02it/s]\n"
     ]
    },
    {
     "name": "stdout",
     "output_type": "stream",
     "text": [
      "Test Accuracy: 7.028317980211532%\n"
     ]
    },
    {
     "name": "stderr",
     "output_type": "stream",
     "text": [
      "Epoch [11/30]: 100%|████████████████████████████████████████████████████| 2199/2199 [01:03<00:00, 34.39it/s, loss=2.16]\n",
      "100%|███████████████████████████████████████████████████████████████████████████████| 550/550 [00:04<00:00, 122.02it/s]\n"
     ]
    },
    {
     "name": "stdout",
     "output_type": "stream",
     "text": [
      "Test Accuracy: 7.051063345843285%\n"
     ]
    },
    {
     "name": "stderr",
     "output_type": "stream",
     "text": [
      "Epoch [12/30]: 100%|████████████████████████████████████████████████████| 2199/2199 [01:03<00:00, 34.56it/s, loss=2.16]\n",
      "100%|███████████████████████████████████████████████████████████████████████████████| 550/550 [00:04<00:00, 114.31it/s]\n"
     ]
    },
    {
     "name": "stdout",
     "output_type": "stream",
     "text": [
      "Test Accuracy: 7.540088706925964%\n"
     ]
    },
    {
     "name": "stderr",
     "output_type": "stream",
     "text": [
      "Epoch [13/30]: 100%|████████████████████████████████████████████████████| 2199/2199 [01:05<00:00, 33.48it/s, loss=2.16]\n",
      "100%|███████████████████████████████████████████████████████████████████████████████| 550/550 [00:04<00:00, 122.01it/s]\n"
     ]
    },
    {
     "name": "stdout",
     "output_type": "stream",
     "text": [
      "Test Accuracy: 7.1420448083702945%\n"
     ]
    },
    {
     "name": "stderr",
     "output_type": "stream",
     "text": [
      "Epoch [14/30]: 100%|████████████████████████████████████████████████████| 2199/2199 [01:04<00:00, 34.07it/s, loss=2.16]\n",
      "100%|███████████████████████████████████████████████████████████████████████████████| 550/550 [00:04<00:00, 115.47it/s]\n"
     ]
    },
    {
     "name": "stdout",
     "output_type": "stream",
     "text": [
      "Test Accuracy: 7.1420448083702945%\n"
     ]
    },
    {
     "name": "stderr",
     "output_type": "stream",
     "text": [
      "Epoch [15/30]: 100%|████████████████████████████████████████████████████| 2199/2199 [01:05<00:00, 33.64it/s, loss=2.16]\n",
      "100%|███████████████████████████████████████████████████████████████████████████████| 550/550 [00:04<00:00, 122.10it/s]\n"
     ]
    },
    {
     "name": "stdout",
     "output_type": "stream",
     "text": [
      "Test Accuracy: 7.085181394290913%\n"
     ]
    },
    {
     "name": "stderr",
     "output_type": "stream",
     "text": [
      "Epoch [16/30]: 100%|████████████████████████████████████████████████████| 2199/2199 [01:05<00:00, 33.60it/s, loss=2.16]\n",
      "100%|███████████████████████████████████████████████████████████████████████████████| 550/550 [00:04<00:00, 113.71it/s]\n"
     ]
    },
    {
     "name": "stdout",
     "output_type": "stream",
     "text": [
      "Test Accuracy: 7.107926759922666%\n"
     ]
    },
    {
     "name": "stderr",
     "output_type": "stream",
     "text": [
      "Epoch [17/30]: 100%|████████████████████████████████████████████████████| 2199/2199 [01:04<00:00, 33.94it/s, loss=2.16]\n",
      "100%|███████████████████████████████████████████████████████████████████████████████| 550/550 [00:04<00:00, 117.25it/s]\n"
     ]
    },
    {
     "name": "stdout",
     "output_type": "stream",
     "text": [
      "Test Accuracy: 7.449107244398954%\n"
     ]
    },
    {
     "name": "stderr",
     "output_type": "stream",
     "text": [
      "Epoch [18/30]: 100%|████████████████████████████████████████████████████| 2199/2199 [01:04<00:00, 33.91it/s, loss=2.16]\n",
      "100%|███████████████████████████████████████████████████████████████████████████████| 550/550 [00:05<00:00, 105.50it/s]\n"
     ]
    },
    {
     "name": "stdout",
     "output_type": "stream",
     "text": [
      "Test Accuracy: 7.028317980211532%\n"
     ]
    },
    {
     "name": "stderr",
     "output_type": "stream",
     "text": [
      "Epoch [19/30]: 100%|████████████████████████████████████████████████████| 2199/2199 [01:04<00:00, 34.20it/s, loss=2.16]\n",
      "100%|███████████████████████████████████████████████████████████████████████████████| 550/550 [00:04<00:00, 117.52it/s]\n"
     ]
    },
    {
     "name": "stdout",
     "output_type": "stream",
     "text": [
      "Test Accuracy: 7.301262367792562%\n"
     ]
    },
    {
     "name": "stderr",
     "output_type": "stream",
     "text": [
      "Epoch [20/30]: 100%|████████████████████████████████████████████████████| 2199/2199 [01:03<00:00, 34.76it/s, loss=2.16]\n",
      "100%|███████████████████████████████████████████████████████████████████████████████| 550/550 [00:04<00:00, 117.92it/s]\n"
     ]
    },
    {
     "name": "stdout",
     "output_type": "stream",
     "text": [
      "Test Accuracy: 6.846355055157511%\n"
     ]
    },
    {
     "name": "stderr",
     "output_type": "stream",
     "text": [
      "Epoch [21/30]: 100%|████████████████████████████████████████████████████| 2199/2199 [01:03<00:00, 34.71it/s, loss=2.16]\n",
      "100%|███████████████████████████████████████████████████████████████████████████████| 550/550 [00:04<00:00, 121.71it/s]\n"
     ]
    },
    {
     "name": "stdout",
     "output_type": "stream",
     "text": [
      "Test Accuracy: 7.27851700216081%\n"
     ]
    },
    {
     "name": "stderr",
     "output_type": "stream",
     "text": [
      "Epoch [22/30]: 100%|████████████████████████████████████████████████████| 2199/2199 [01:02<00:00, 35.11it/s, loss=2.16]\n",
      "100%|███████████████████████████████████████████████████████████████████████████████| 550/550 [00:04<00:00, 121.72it/s]\n"
     ]
    },
    {
     "name": "stdout",
     "output_type": "stream",
     "text": [
      "Test Accuracy: 7.596952121005345%\n"
     ]
    },
    {
     "name": "stderr",
     "output_type": "stream",
     "text": [
      "Epoch [23/30]: 100%|████████████████████████████████████████████████████| 2199/2199 [01:03<00:00, 34.80it/s, loss=2.16]\n",
      "100%|███████████████████████████████████████████████████████████████████████████████| 550/550 [00:04<00:00, 119.18it/s]\n"
     ]
    },
    {
     "name": "stdout",
     "output_type": "stream",
     "text": [
      "Test Accuracy: 7.164790174002047%\n"
     ]
    },
    {
     "name": "stderr",
     "output_type": "stream",
     "text": [
      "Epoch [24/30]: 100%|████████████████████████████████████████████████████| 2199/2199 [01:02<00:00, 35.02it/s, loss=2.16]\n",
      "100%|███████████████████████████████████████████████████████████████████████████████| 550/550 [00:04<00:00, 121.04it/s]\n"
     ]
    },
    {
     "name": "stdout",
     "output_type": "stream",
     "text": [
      "Test Accuracy: 7.46047992721483%\n"
     ]
    },
    {
     "name": "stderr",
     "output_type": "stream",
     "text": [
      "Epoch [25/30]: 100%|████████████████████████████████████████████████████| 2199/2199 [01:02<00:00, 34.93it/s, loss=2.16]\n",
      "100%|███████████████████████████████████████████████████████████████████████████████| 550/550 [00:04<00:00, 121.05it/s]\n"
     ]
    },
    {
     "name": "stdout",
     "output_type": "stream",
     "text": [
      "Test Accuracy: 7.187535539633799%\n"
     ]
    },
    {
     "name": "stderr",
     "output_type": "stream",
     "text": [
      "Epoch [26/30]: 100%|████████████████████████████████████████████████████| 2199/2199 [01:02<00:00, 34.96it/s, loss=2.16]\n",
      "100%|███████████████████████████████████████████████████████████████████████████████| 550/550 [00:04<00:00, 122.32it/s]\n"
     ]
    },
    {
     "name": "stdout",
     "output_type": "stream",
     "text": [
      "Test Accuracy: 7.051063345843285%\n"
     ]
    },
    {
     "name": "stderr",
     "output_type": "stream",
     "text": [
      "Epoch [27/30]: 100%|████████████████████████████████████████████████████| 2199/2199 [01:02<00:00, 35.15it/s, loss=2.16]\n",
      "100%|███████████████████████████████████████████████████████████████████████████████| 550/550 [00:04<00:00, 122.16it/s]\n"
     ]
    },
    {
     "name": "stdout",
     "output_type": "stream",
     "text": [
      "Test Accuracy: 7.449107244398954%\n"
     ]
    },
    {
     "name": "stderr",
     "output_type": "stream",
     "text": [
      "Epoch [28/30]: 100%|████████████████████████████████████████████████████| 2199/2199 [01:03<00:00, 34.78it/s, loss=2.17]\n",
      "100%|███████████████████████████████████████████████████████████████████████████████| 550/550 [00:04<00:00, 115.47it/s]\n"
     ]
    },
    {
     "name": "stdout",
     "output_type": "stream",
     "text": [
      "Test Accuracy: 7.73342431479586%\n"
     ]
    },
    {
     "name": "stderr",
     "output_type": "stream",
     "text": [
      "Epoch [29/30]: 100%|████████████████████████████████████████████████████| 2199/2199 [01:05<00:00, 33.32it/s, loss=2.17]\n",
      "100%|███████████████████████████████████████████████████████████████████████████████| 550/550 [00:04<00:00, 121.30it/s]\n"
     ]
    },
    {
     "name": "stdout",
     "output_type": "stream",
     "text": [
      "Test Accuracy: 7.187535539633799%\n"
     ]
    },
    {
     "name": "stderr",
     "output_type": "stream",
     "text": [
      "Epoch [30/30]: 100%|████████████████████████████████████████████████████| 2199/2199 [01:03<00:00, 34.70it/s, loss=2.16]\n",
      "100%|███████████████████████████████████████████████████████████████████████████████| 550/550 [00:04<00:00, 122.22it/s]"
     ]
    },
    {
     "name": "stdout",
     "output_type": "stream",
     "text": [
      "Test Accuracy: 7.187535539633799%\n",
      "Training finished!\n"
     ]
    },
    {
     "name": "stderr",
     "output_type": "stream",
     "text": [
      "\n"
     ]
    }
   ],
   "source": [
    "for epoch in range(num_epochs):\n",
    "    running_loss = 0.0\n",
    "    loop = tqdm(dataloader, total=len(dataloader), leave=True)\n",
    "    model.train()\n",
    "    \n",
    "    for mfccs, labels in loop:\n",
    "        mfccs = mfccs.to(device)\n",
    "        labels = labels.to(device)\n",
    "\n",
    "        # Forward pass\n",
    "        outputs = model(mfccs)\n",
    "        loss = criterion(outputs, labels)\n",
    "\n",
    "        # Backward and optimize\n",
    "        optimizer.zero_grad()\n",
    "        loss.backward()\n",
    "        optimizer.step()\n",
    "\n",
    "        running_loss += loss.item()\n",
    "        loop.set_description(f'Epoch [{epoch+1}/{num_epochs}]')\n",
    "        loop.set_postfix(loss=running_loss / (len(dataloader)))\n",
    "\n",
    "    test(model,test_loader)\n",
    "    torch.save(model.state_dict(), \"model_resnet18_resize_{}.pth\".format(epoch))\n",
    "    \n",
    "print('Training finished!')"
   ]
  },
  {
   "cell_type": "code",
   "execution_count": 23,
   "id": "93304c8b",
   "metadata": {},
   "outputs": [],
   "source": [
    "df = pd.read_csv(\"datasets/emotion.csv\")"
   ]
  },
  {
   "cell_type": "code",
   "execution_count": 25,
   "id": "245471b7",
   "metadata": {},
   "outputs": [],
   "source": [
    "emotion_to_int = {'anger': 0, 'angry': 0, 'disgust': 1, 'fear': 2, 'happiness': 3,\n",
    "                               'neutral': 4, 'sad': 5, 'sadness': 5, 'surprise': 6}\n",
    "keys = list(emotion_to_int.keys())"
   ]
  },
  {
   "cell_type": "code",
   "execution_count": 31,
   "id": "86cca9ba",
   "metadata": {},
   "outputs": [
    {
     "name": "stdout",
     "output_type": "stream",
     "text": [
      "anger  :  8372\n",
      "angry  :  3263\n",
      "disgust  :  4660\n",
      "fear  :  4131\n",
      "happiness  :  4548\n",
      "neutral  :  3262\n",
      "sad  :  11152\n",
      "sadness  :  2848\n",
      "surprise  :  1755\n"
     ]
    }
   ],
   "source": [
    "for key in keys:\n",
    "    print(key,\" : \",len(df[df[\"상황\"]==key]))"
   ]
  },
  {
   "cell_type": "code",
   "execution_count": null,
   "id": "476a50a8",
   "metadata": {},
   "outputs": [],
   "source": [
    "googlenet(pretrained=True)"
   ]
  }
 ],
 "metadata": {
  "kernelspec": {
   "display_name": "Python 3 (ipykernel)",
   "language": "python",
   "name": "python3"
  },
  "language_info": {
   "codemirror_mode": {
    "name": "ipython",
    "version": 3
   },
   "file_extension": ".py",
   "mimetype": "text/x-python",
   "name": "python",
   "nbconvert_exporter": "python",
   "pygments_lexer": "ipython3",
   "version": "3.8.5"
  }
 },
 "nbformat": 4,
 "nbformat_minor": 5
}
